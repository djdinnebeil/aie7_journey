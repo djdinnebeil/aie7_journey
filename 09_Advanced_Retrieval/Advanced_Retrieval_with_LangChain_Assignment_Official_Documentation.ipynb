{
  "cells": [
    {
      "cell_type": "markdown",
      "metadata": {
        "id": "e-IqJAMkwnCF"
      },
      "source": [
        "# Advanced Retrieval with LangChain\n",
        "\n",
        "In the following notebook, we'll explore various methods of advanced retrieval using LangChain!\n",
        "\n",
        "We'll touch on:\n",
        "\n",
        "- Naive Retrieval\n",
        "- Best-Matching 25 (BM25)\n",
        "- Multi-Query Retrieval\n",
        "- Parent-Document Retrieval\n",
        "- Contextual Compression (a.k.a. Rerank)\n",
        "- Ensemble Retrieval\n",
        "- Semantic chunking\n",
        "\n",
        "We'll also discuss how these methods impact performance on our set of documents with a simple RAG chain.\n",
        "\n",
        "There will be two breakout rooms:\n",
        "\n",
        "- 🤝 Breakout Room Part #1\n",
        "  - Task 1: Getting Dependencies!\n",
        "  - Task 2: Data Collection and Preparation\n",
        "  - Task 3: Setting Up QDrant!\n",
        "  - Task 4-10: Retrieval Strategies\n",
        "- 🤝 Breakout Room Part #2\n",
        "  - Activity: Evaluate with Ragas"
      ]
    },
    {
      "cell_type": "markdown",
      "metadata": {
        "id": "4rKP3hgHivpe"
      },
      "source": [
        "# 🤝 Breakout Room Part #1"
      ]
    },
    {
      "cell_type": "markdown",
      "metadata": {
        "id": "3xes8oT-xHN7"
      },
      "source": [
        "## Task 1: Getting Dependencies!\n",
        "\n",
        "We're going to need a few specific LangChain community packages, like OpenAI (for our [LLM](https://platform.openai.com/docs/models) and [Embedding Model](https://platform.openai.com/docs/guides/embeddings)) and Cohere (for our [Reranker](https://cohere.com/rerank))."
      ]
    },
    {
      "cell_type": "markdown",
      "metadata": {
        "id": "Z7OHJXzfyJyA"
      },
      "source": [
        "We'll also provide our OpenAI key, as well as our Cohere API key."
      ]
    },
    {
      "cell_type": "code",
      "execution_count": 1,
      "metadata": {
        "colab": {
          "base_uri": "https://localhost:8080/"
        },
        "id": "7LttlDQUYgSI",
        "outputId": "9dca95ab-4d02-4adf-ec3f-cb831326dc54"
      },
      "outputs": [],
      "source": [
        "import os\n",
        "import getpass\n",
        "\n",
        "os.environ[\"OPENAI_API_KEY\"] = getpass.getpass(\"Enter your OpenAI API Key:\")"
      ]
    },
    {
      "cell_type": "code",
      "execution_count": 2,
      "metadata": {
        "colab": {
          "base_uri": "https://localhost:8080/"
        },
        "id": "3iUahNiJyQbv",
        "outputId": "78bf06ef-2ee8-46c3-f73d-27958b4dd79b"
      },
      "outputs": [],
      "source": [
        "os.environ[\"COHERE_API_KEY\"] = getpass.getpass(\"Cohere API Key:\")"
      ]
    },
    {
      "cell_type": "markdown",
      "metadata": {
        "id": "mw304iAFyRtl"
      },
      "source": [
        "## Task 2: Data Collection and Preparation\n",
        "\n",
        "We'll be using our Loan Data once again - this time the strutured data available through the CSV!"
      ]
    },
    {
      "cell_type": "markdown",
      "metadata": {
        "id": "A92NC2QZzCsi"
      },
      "source": [
        "### Data Preparation\n",
        "\n",
        "We want to make sure all our documents have the relevant metadata for the various retrieval strategies we're going to be applying today."
      ]
    },
    {
      "cell_type": "code",
      "execution_count": 3,
      "metadata": {
        "id": "GshBjVRJZ6p8"
      },
      "outputs": [],
      "source": [
        "# from langchain_community.document_loaders.csv_loader import CSVLoader\n",
        "# from datetime import datetime, timedelta\n",
        "\n",
        "# loader = CSVLoader(\n",
        "#     file_path=f\"./data/complaints.csv\",\n",
        "#     metadata_columns=[\n",
        "#       \"Date received\", \n",
        "#       \"Product\", \n",
        "#       \"Sub-product\", \n",
        "#       \"Issue\", \n",
        "#       \"Sub-issue\", \n",
        "#       \"Consumer complaint narrative\", \n",
        "#       \"Company public response\", \n",
        "#       \"Company\", \n",
        "#       \"State\", \n",
        "#       \"ZIP code\", \n",
        "#       \"Tags\", \n",
        "#       \"Consumer consent provided?\", \n",
        "#       \"Submitted via\", \n",
        "#       \"Date sent to company\", \n",
        "#       \"Company response to consumer\", \n",
        "#       \"Timely response?\", \n",
        "#       \"Consumer disputed?\", \n",
        "#       \"Complaint ID\"\n",
        "#     ]\n",
        "# )\n",
        "\n",
        "# loan_complaint_data = loader.load()\n",
        "\n",
        "# for doc in loan_complaint_data:\n",
        "#     doc.page_content = doc.metadata[\"Consumer complaint narrative\"]"
      ]
    },
    {
      "cell_type": "code",
      "execution_count": 4,
      "metadata": {},
      "outputs": [],
      "source": [
        "from langchain_community.document_loaders import DirectoryLoader\n",
        "from langchain_community.document_loaders import PyMuPDFLoader\n",
        "\n",
        "\n",
        "path = \"data/\"\n",
        "loader = DirectoryLoader(path, glob=\"*.pdf\", loader_cls=PyMuPDFLoader)\n",
        "loan_docs = loader.load()"
      ]
    },
    {
      "cell_type": "code",
      "execution_count": 5,
      "metadata": {},
      "outputs": [
        {
          "data": {
            "text/plain": [
              "76"
            ]
          },
          "execution_count": 5,
          "metadata": {},
          "output_type": "execute_result"
        }
      ],
      "source": [
        "len(loan_docs)"
      ]
    },
    {
      "cell_type": "markdown",
      "metadata": {
        "id": "9gQphb6y0C0S"
      },
      "source": [
        "Let's look at an example document to see if everything worked as expected!"
      ]
    },
    {
      "cell_type": "code",
      "execution_count": 6,
      "metadata": {
        "colab": {
          "base_uri": "https://localhost:8080/"
        },
        "id": "PkUkCf7DaMiq",
        "outputId": "e90bd5da-1d87-423b-838a-cb6efc16b199"
      },
      "outputs": [
        {
          "data": {
            "text/plain": [
              "Document(metadata={'producer': 'GPL Ghostscript 10.00.0', 'creator': 'wkhtmltopdf 0.12.6', 'creationdate': \"D:20241217172423Z00'00'\", 'source': 'data/Applications_and_Verification_Guide.pdf', 'file_path': 'data/Applications_and_Verification_Guide.pdf', 'total_pages': 76, 'format': 'PDF 1.7', 'title': '', 'author': '', 'subject': '', 'keywords': '', 'moddate': \"D:20241217172423Z00'00'\", 'trapped': '', 'modDate': \"D:20241217172423Z00'00'\", 'creationDate': \"D:20241217172423Z00'00'\", 'page': 0}, page_content='Application and Verification Guide\\nIntroduction\\nThis guide is intended for college financial aid administrators and counselors who help students with the financial aid\\nprocess4completing the Free Application for Federal Student Aid (FAFSA®) form, verifying information, and making\\ncorrections and other changes to the information reported on the FAFSA form.\\nThroughout the Federal Student Aid Handbook, we use <college,= <school,= and <institution= interchangeably unless a\\nmore specific use is given. Similarly, <student,= <applicant,= and <aid recipient= are synonyms. <Parents= in this volume\\nrefers to the legal parents of dependent students, and <you= refers to the primary audience of the Handbook: financial aid\\nadministrators at colleges. <We= indicates the U.S. Department of Education (the Department, ED), and <federal student\\naid= and <Title IV aid= are synonymous terms for the financial aid offered by the Department.\\nWe appreciate any comments that you have on the Application and Verification Guide (AVG), as well as all the volumes of\\nthe FSA Handbook. We revise the text based on questions and feedback from the financial aid community, so please\\nreach out to us about how to improve the FSA Handbook through the <Contact Customer Support= feature in our Partner\\nConnect Help Center clicking on <FSA Handbook= under the Topic section.\\nFAFSA Simplification Act\\nThe FAFSA Simplification Act, passed on Dec. 27, 2020, as part of the Consolidated Appropriations Act, 2021, mandated a\\nsignificant overhaul of federal student aid, including the Free Application for Federal Student Aid (FAFSA®) form, need\\nanalysis, and many policies and procedures for schools that participate in the Title IV programs. FSA implemented the\\nFAFSA Simplification Act alongside the FAFSA portion of the Fostering Undergraduate Talent by Unlocking Resources for\\nEducation (FUTURE) Act to streamline the FAFSA application process.\\nChanges From the FUTURE Act\\nThe Fostering Undergraduate Talent by Unlocking Resources for Education (FUTURE) Act authorized a direct data\\nexchange 3 the FUTURE Act Direct Data Exchange (FA-DDX) 3 with the Internal Revenue Service (IRS) to facilitate\\ncompleting the FAFSA form. The previous tool to transfer U.S. income and tax information from the IRS 3 the IRS Data\\nRetrieval Tool (DRT) 3 was retired after the close of the 2023-24 application cycle. Implementation of the FA-DDX\\neliminated the need for most applicants (and their spouse or parents) to self-report their income and tax information\\nreported to the IRS. Also, federal tax information (FTI) that is transferred via the FA-DDX to the FAFSA form is considered\\nverified for Title IV purposes.\\nUnlike with the IRS-DRT, which allowed applicants to opt in, the FA-DDX requires applicants and contributors (student9s\\nspouse and/or parents, as appropriate) to provide consent and approval for the Department to obtain FTI from the IRS via\\nthe FA-DDX and use it to determine the student9s eligibility for federal student aid.\\nOther Changes\\nThroughout the AVG, all dates, pertinent tax return and schedule information, along with various resources and references\\nhave been updated to support the requirements associated with the 2025-26 processing year and the 2023 base tax year.\\nWhere appropriate, links and publications associated with FSA9s Partner Connect and Knowledge Center have been\\nproperly updated. We also removed references to COVID-19 guidance and waivers.\\nSome sections were moved to better align topics and assist with narrative flow. Use the search feature to find sections\\nthat may have been relocated. The following describes changes made in each chapter.\\nChapter 1: The Application Process\\nWe removed the <Returning FAFSA Filers= section as FAFSA renewal functionality has been deferred for future cycles.')"
            ]
          },
          "execution_count": 6,
          "metadata": {},
          "output_type": "execute_result"
        }
      ],
      "source": [
        "loan_docs[0]"
      ]
    },
    {
      "cell_type": "markdown",
      "metadata": {},
      "source": [
        "## 📄 Document Object Structure\n",
        "\n",
        "### ➤ `Document`\n",
        "- **metadata**: `dict`\n",
        "  - `producer`: `'GPL Ghostscript 10.00.0'`\n",
        "  - `creator`: `'wkhtmltopdf 0.12.6'`\n",
        "  - `creationdate`: `'D:20241217172423Z00\\'00\\''`\n",
        "  - `source`: `'data/Applications_and_Verification_Guide.pdf'`\n",
        "  - `file_path`: `'data/Applications_and_Verification_Guide.pdf'`\n",
        "  - `total_pages`: `76`\n",
        "  - `format`: `'PDF 1.7'`\n",
        "  - `title`: `''`\n",
        "  - `author`: `''`\n",
        "  - `subject`: `''`\n",
        "  - `keywords`: `''`\n",
        "  - `moddate`: `'D:20241217172423Z00\\'00\\''`\n",
        "  - `trapped`: `''`\n",
        "  - `modDate`: `'D:20241217172423Z00\\'00\\''`\n",
        "  - `creationDate`: `'D:20241217172423Z00\\'00\\''`\n",
        "  - `page`: `0`\n",
        "- **page_content**: `str`\n",
        "  - Begins with:\n",
        "    ```\n",
        "    Application and Verification Guide\n",
        "    Introduction\n",
        "    This guide is intended for college financial aid administrators ...\n",
        "    ```\n",
        "\n"
      ]
    },
    {
      "cell_type": "markdown",
      "metadata": {
        "id": "lWaQpdHl0Gzc"
      },
      "source": [
        "## Task 3: Setting up QDrant!\n",
        "\n",
        "Now that we have our documents, let's create a QDrant VectorStore with the collection name \"LoanComplaints\".\n",
        "\n",
        "We'll leverage OpenAI's [`text-embedding-3-small`](https://openai.com/blog/new-embedding-models-and-api-updates) because it's a very powerful (and low-cost) embedding model.\n",
        "\n",
        "> NOTE: We'll be creating additional vectorstores where necessary, but this pattern is still extremely useful."
      ]
    },
    {
      "cell_type": "code",
      "execution_count": 7,
      "metadata": {
        "id": "NT8ihRJbYmMT"
      },
      "outputs": [],
      "source": [
        "from langchain_community.vectorstores import Qdrant\n",
        "from langchain_openai import OpenAIEmbeddings\n",
        "\n",
        "embeddings = OpenAIEmbeddings(model=\"text-embedding-3-small\")\n",
        "\n",
        "vectorstore = Qdrant.from_documents(\n",
        "    loan_docs,\n",
        "    embeddings,\n",
        "    location=\":memory:\",\n",
        "    collection_name=\"LoanData\"\n",
        ")"
      ]
    },
    {
      "cell_type": "markdown",
      "metadata": {
        "id": "-x2SS4Rh0hiN"
      },
      "source": [
        "## Task 4: Naive RAG Chain\n",
        "\n",
        "Since we're focusing on the \"R\" in RAG today - we'll create our Retriever first."
      ]
    },
    {
      "cell_type": "markdown",
      "metadata": {
        "id": "NEH7X5Ai08FH"
      },
      "source": [
        "### R - Retrieval\n",
        "\n",
        "This naive retriever will simply look at each review as a document, and use cosine-similarity to fetch the 10 most relevant documents.\n",
        "\n",
        "> NOTE: We're choosing `10` as our `k` here to provide enough documents for our reranking process later"
      ]
    },
    {
      "cell_type": "code",
      "execution_count": 8,
      "metadata": {
        "id": "GFDPrNBtb72o"
      },
      "outputs": [],
      "source": [
        "naive_retriever = vectorstore.as_retriever(search_kwargs={\"k\" : 10})"
      ]
    },
    {
      "cell_type": "markdown",
      "metadata": {
        "id": "MbBhyQjz06dx"
      },
      "source": [
        "### A - Augmented\n",
        "\n",
        "We're going to go with a standard prompt for our simple RAG chain today! Nothing fancy here, we want this to mostly be about the Retrieval process."
      ]
    },
    {
      "cell_type": "code",
      "execution_count": 9,
      "metadata": {
        "id": "7uSz-Dbqcoki"
      },
      "outputs": [],
      "source": [
        "from langchain_core.prompts import ChatPromptTemplate\n",
        "\n",
        "RAG_TEMPLATE = \"\"\"\\\n",
        "You are a helpful and kind assistant. Use the context provided below to answer the question.\n",
        "\n",
        "If you do not know the answer, or are unsure, say you don't know.\n",
        "\n",
        "Query:\n",
        "{question}\n",
        "\n",
        "Context:\n",
        "{context}\n",
        "\"\"\"\n",
        "\n",
        "rag_prompt = ChatPromptTemplate.from_template(RAG_TEMPLATE)"
      ]
    },
    {
      "cell_type": "markdown",
      "metadata": {
        "id": "BlRzpb231GGJ"
      },
      "source": [
        "### G - Generation\n",
        "\n",
        "We're going to leverage `gpt-4.1-nano` as our LLM today, as - again - we want this to largely be about the Retrieval process."
      ]
    },
    {
      "cell_type": "code",
      "execution_count": 10,
      "metadata": {
        "id": "c-1t9H60dJLg"
      },
      "outputs": [],
      "source": [
        "from langchain_openai import ChatOpenAI\n",
        "\n",
        "chat_model = ChatOpenAI(model=\"gpt-4.1-nano\")"
      ]
    },
    {
      "cell_type": "markdown",
      "metadata": {
        "id": "mg3QRGzA1M2x"
      },
      "source": [
        "### LCEL RAG Chain\n",
        "\n",
        "We're going to use LCEL to construct our chain.\n",
        "\n",
        "> NOTE: This chain will be exactly the same across the various examples with the exception of our Retriever!"
      ]
    },
    {
      "cell_type": "code",
      "execution_count": 11,
      "metadata": {
        "id": "0bvstS7mdOW3"
      },
      "outputs": [],
      "source": [
        "from langchain_core.runnables import RunnablePassthrough\n",
        "from operator import itemgetter\n",
        "from langchain_core.output_parsers import StrOutputParser\n",
        "\n",
        "naive_retrieval_chain = (\n",
        "    # INVOKE CHAIN WITH: {\"question\" : \"<<SOME USER QUESTION>>\"}\n",
        "    # \"question\" : populated by getting the value of the \"question\" key\n",
        "    # \"context\"  : populated by getting the value of the \"question\" key and chaining it into the base_retriever\n",
        "    {\"context\": itemgetter(\"question\") | naive_retriever, \"question\": itemgetter(\"question\")}\n",
        "    # \"context\"  : is assigned to a RunnablePassthrough object (will not be called or considered in the next step)\n",
        "    #              by getting the value of the \"context\" key from the previous step\n",
        "    | RunnablePassthrough.assign(context=itemgetter(\"context\"))\n",
        "    # \"response\" : the \"context\" and \"question\" values are used to format our prompt object and then piped\n",
        "    #              into the LLM and stored in a key called \"response\"\n",
        "    # \"context\"  : populated by getting the value of the \"context\" key from the previous step\n",
        "    | {\"response\": rag_prompt | chat_model, \"context\": itemgetter(\"context\")}\n",
        ")"
      ]
    },
    {
      "cell_type": "markdown",
      "metadata": {
        "id": "izKujhNb1ZG8"
      },
      "source": [
        "Let's see how this simple chain does on a few different prompts.\n",
        "\n",
        "> NOTE: You might think that we've cherry picked prompts that showcase the individual skill of each of the retrieval strategies - you'd be correct!"
      ]
    },
    {
      "cell_type": "code",
      "execution_count": null,
      "metadata": {
        "colab": {
          "base_uri": "https://localhost:8080/",
          "height": 36
        },
        "id": "LI-5ueEddku9",
        "outputId": "7f3cec18-5f4e-41bb-cf71-51ba0be5388e"
      },
      "outputs": [
        {
          "data": {
            "text/plain": [
              "\"Based on the provided complaints, the most common issues with loans appear to be:\\n\\n- Dealing with loan servicer misconduct, such as errors in loan balances, misapplied payments, wrongful denials of payment plans, and difficulties in applying payments correctly.\\n- Incorrect or inconsistent reporting of loan information, including account status and balances, leading to credit score impacts.\\n- Struggles with repayment plans, including issues with interest capitalization, improper transfers of loans without notification, and inability to pay down principal.\\n- Problems related to loan handling, such as inaccurate information, unauthorized transfers, and privacy violations.\\n- Long-term forbearance and mismanagement leading to increased debt and financial hardship.\\n\\nOverall, a prevalent theme is the mismanagement and mishandling by loan servicers, which affects borrowers' balances, credit reports, and ability to manage their loans effectively.\""
            ]
          },
          "execution_count": 13,
          "metadata": {},
          "output_type": "execute_result"
        }
      ],
      "source": [
        "# naive_retrieval_chain.invoke({\"question\" : \"What is the most common issue with loans?\"})[\"response\"].content"
      ]
    },
    {
      "cell_type": "code",
      "execution_count": null,
      "metadata": {
        "colab": {
          "base_uri": "https://localhost:8080/",
          "height": 36
        },
        "id": "43zdcdUydtXh",
        "outputId": "db874e67-f568-4ed1-b863-b7c17b387052"
      },
      "outputs": [],
      "source": [
        "# sample_test = naive_retrieval_chain.invoke({\"question\" : \"Did any complaints not get handled in a timely manner?\"})"
      ]
    },
    {
      "cell_type": "code",
      "execution_count": null,
      "metadata": {},
      "outputs": [
        {
          "data": {
            "text/plain": [
              "[Document(metadata={'source': './data/complaints.csv', 'row': 474, 'Date received': '04/27/25', 'Product': 'Student loan', 'Sub-product': 'Federal student loan servicing', 'Issue': 'Struggling to repay your loan', 'Sub-issue': 'Problem with forgiveness, cancellation, or discharge', 'Consumer complaint narrative': 'I sent a dispute settlement to all three credit bureaus over 30 days ago and still havent gotten a response. This is negligent and not in compliance with the law. Im asking for this to be looked into and handled.', 'Company public response': 'None', 'Company': 'Nelnet, Inc.', 'State': 'MI', 'ZIP code': '48111', 'Tags': 'None', 'Consumer consent provided?': 'Consent provided', 'Submitted via': 'Web', 'Date sent to company': '04/27/25', 'Company response to consumer': 'Closed with explanation', 'Timely response?': 'Yes', 'Consumer disputed?': 'N/A', 'Complaint ID': '13205525', '_id': 'ab98fee89f3f4527a711c50b3f43c83c', '_collection_name': 'LoanComplaints'}, page_content='I sent a dispute settlement to all three credit bureaus over 30 days ago and still havent gotten a response. This is negligent and not in compliance with the law. Im asking for this to be looked into and handled.'),\n",
              " Document(metadata={'source': './data/complaints.csv', 'row': 441, 'Date received': '03/28/25', 'Product': 'Student loan', 'Sub-product': 'Federal student loan servicing', 'Issue': 'Dealing with your lender or servicer', 'Sub-issue': 'Problem with customer service', 'Consumer complaint narrative': 'I submitted a graduated loan application XXXX. I called in XXXX to confirm status and was told my application showed no movement and was advised to call back in XXXX. I called in XXXX and spoke to an \" advanced representative \\'\\' and was told the application was being expedited and should have some form of communication via email in addition to a letter in the mail. I was told to confirm in XXXX if needed but I should be able to check the status online. I called again on XXXX and was told it would take 5-7 business days for the application process to be completed. I filed a complaint XXXX online and was hoping this would help expedite the process. The confirmation of the complaint said it would take 15 days for someone to reach out to me. I have not heard from anyone. \\nI called again on XXXX and was told it would be another 5-7 business days and as of today XXXX, no one has reached out to me. \\nMy graduated loan application is still unprocessed.', 'Company public response': 'Company believes it acted appropriately as authorized by contract or law', 'Company': 'MOHELA', 'State': 'CA', 'ZIP code': '93311', 'Tags': 'None', 'Consumer consent provided?': 'Consent provided', 'Submitted via': 'Web', 'Date sent to company': '03/28/25', 'Company response to consumer': 'Closed with explanation', 'Timely response?': 'No', 'Consumer disputed?': 'N/A', 'Complaint ID': '12709087', '_id': '4f0ea225ca6f4004a3cbe119ce5efa83', '_collection_name': 'LoanComplaints'}, page_content='I submitted a graduated loan application XXXX. I called in XXXX to confirm status and was told my application showed no movement and was advised to call back in XXXX. I called in XXXX and spoke to an \" advanced representative \\'\\' and was told the application was being expedited and should have some form of communication via email in addition to a letter in the mail. I was told to confirm in XXXX if needed but I should be able to check the status online. I called again on XXXX and was told it would take 5-7 business days for the application process to be completed. I filed a complaint XXXX online and was hoping this would help expedite the process. The confirmation of the complaint said it would take 15 days for someone to reach out to me. I have not heard from anyone. \\nI called again on XXXX and was told it would be another 5-7 business days and as of today XXXX, no one has reached out to me. \\nMy graduated loan application is still unprocessed.'),\n",
              " Document(metadata={'source': './data/complaints.csv', 'row': 423, 'Date received': '04/24/25', 'Product': 'Student loan', 'Sub-product': 'Federal student loan servicing', 'Issue': 'Dealing with your lender or servicer', 'Sub-issue': 'Received bad information about your loan', 'Consumer complaint narrative': 'Loan servicer was changed without notice to Aidvantage from XXXX. They claimed to have sent a letter but I did not receive that notice. \\n\\nAs soon as I found out in XXXX, I logged in to set up payments. Reviewing the account, I discovered they had the wrong payment amount ( higher than previous noting i was not part of an income based program ). Digging into the issue, they had the wrong total and possibly even incorrect interest rates. \\n\\nThat same day, I made a call and asked for corrections. \\n\\nThey failed to action. \\n\\nI tried again, and was met with issues even getting them to answer their phone. \\n\\nIn XXXX, they said they had a work order in to correct. Called later to see what happened and they claimed not to have a work order on file. \\n\\nI went through several rounds of this going back and making complaints to XXXX and to the XXXX  on a couple occasions. \\n\\nThe last time I spoke to them, they indicated they would fix the account and remove the interest that accrued while dealing with the issue. \\n\\nThey never sent me notice except to check the account. But they did XXXX things. \\nXXXX they never actioned to correct the initial error or explain the issue. \\nXXXX they made several changes to my account without notice or permission XXXX the chose to only communicate through their website requiring be to log in and accept horrendously unacceptable & likely illegal terms of service including personal liability prior to being able to ensure the account is correct. \\n\\nYesterday I called again to get the correction. They said \" wait time is over XXXX minutes \\'\\' and they never answered. After several minutes there was a beep and the hold music stopped. I waited in silence for several more minutes, totalling over XXXX minutes before I had to hang up and go back to work. \\n\\nThis is not the first time they failed to answer a call. \\n\\nThe loan would be fully paid if they had corrected it in XXXX. \\n\\nI have been working on this problem now for XXXX  years. \\n\\nI don\\'t know what to do, but this organization was recommended through a XXXX search. \\n\\nHow do I get my issue corrected?', 'Company public response': 'None', 'Company': 'Maximus Federal Services, Inc.', 'State': 'MI', 'ZIP code': '481XX', 'Tags': 'None', 'Consumer consent provided?': 'Consent provided', 'Submitted via': 'Web', 'Date sent to company': '04/24/25', 'Company response to consumer': 'Closed with explanation', 'Timely response?': 'Yes', 'Consumer disputed?': 'N/A', 'Complaint ID': '13160766', '_id': 'bf0e3a7086c6444bbb7016a0de438f52', '_collection_name': 'LoanComplaints'}, page_content='Loan servicer was changed without notice to Aidvantage from XXXX. They claimed to have sent a letter but I did not receive that notice. \\n\\nAs soon as I found out in XXXX, I logged in to set up payments. Reviewing the account, I discovered they had the wrong payment amount ( higher than previous noting i was not part of an income based program ). Digging into the issue, they had the wrong total and possibly even incorrect interest rates. \\n\\nThat same day, I made a call and asked for corrections. \\n\\nThey failed to action. \\n\\nI tried again, and was met with issues even getting them to answer their phone. \\n\\nIn XXXX, they said they had a work order in to correct. Called later to see what happened and they claimed not to have a work order on file. \\n\\nI went through several rounds of this going back and making complaints to XXXX and to the XXXX  on a couple occasions. \\n\\nThe last time I spoke to them, they indicated they would fix the account and remove the interest that accrued while dealing with the issue. \\n\\nThey never sent me notice except to check the account. But they did XXXX things. \\nXXXX they never actioned to correct the initial error or explain the issue. \\nXXXX they made several changes to my account without notice or permission XXXX the chose to only communicate through their website requiring be to log in and accept horrendously unacceptable & likely illegal terms of service including personal liability prior to being able to ensure the account is correct. \\n\\nYesterday I called again to get the correction. They said \" wait time is over XXXX minutes \\'\\' and they never answered. After several minutes there was a beep and the hold music stopped. I waited in silence for several more minutes, totalling over XXXX minutes before I had to hang up and go back to work. \\n\\nThis is not the first time they failed to answer a call. \\n\\nThe loan would be fully paid if they had corrected it in XXXX. \\n\\nI have been working on this problem now for XXXX  years. \\n\\nI don\\'t know what to do, but this organization was recommended through a XXXX search. \\n\\nHow do I get my issue corrected?'),\n",
              " Document(metadata={'source': './data/complaints.csv', 'row': 67, 'Date received': '04/14/25', 'Product': 'Student loan', 'Sub-product': 'Federal student loan servicing', 'Issue': 'Dealing with your lender or servicer', 'Sub-issue': 'Problem with customer service', 'Consumer complaint narrative': 'This is in regards to a previous complaint as the main complaint was not addressed. I have been calling multiple times and I have been told that just wait a few business days for my bank to populate. It populated and then disappeared. A letter I received stated \" Please note, you will need to manually pay your monthly installments until you receive correspondence of your Auto Pay request being processed \\'\\' ; this is not possible as my bank account is missing in the online portal. The original complaint did not address that main issue. It is currently over 2-3 weeks and I am still having this issue.', 'Company public response': 'None', 'Company': 'EdFinancial Services', 'State': 'NJ', 'ZIP code': '075XX', 'Tags': 'None', 'Consumer consent provided?': 'Consent provided', 'Submitted via': 'Web', 'Date sent to company': '04/14/25', 'Company response to consumer': 'Closed with explanation', 'Timely response?': 'Yes', 'Consumer disputed?': 'N/A', 'Complaint ID': '12973003', '_id': '90f9d6cf9ba54785b1434aeeab68981b', '_collection_name': 'LoanComplaints'}, page_content='This is in regards to a previous complaint as the main complaint was not addressed. I have been calling multiple times and I have been told that just wait a few business days for my bank to populate. It populated and then disappeared. A letter I received stated \" Please note, you will need to manually pay your monthly installments until you receive correspondence of your Auto Pay request being processed \\'\\' ; this is not possible as my bank account is missing in the online portal. The original complaint did not address that main issue. It is currently over 2-3 weeks and I am still having this issue.'),\n",
              " Document(metadata={'source': './data/complaints.csv', 'row': 66, 'Date received': '04/18/25', 'Product': 'Student loan', 'Sub-product': 'Federal student loan servicing', 'Issue': 'Incorrect information on your report', 'Sub-issue': 'Account status incorrect', 'Consumer complaint narrative': 'XXXX XXXX XXXX XXXX XXXX XXXX. \\nXXXX, PA XXXX XXXX XXXX XXXX  XXXX. XXXX XXXX XXXX, TX XXXX Phone number : ( XXXX ) XXXX Website : XXXX  I am submitting this complaint regarding inaccurate information reported on my credit report by XXXX. \\n\\n* * Details of the Complaint : * * XXXX, 2025 I obtained a copy of my credit report from XXXX  and noticed inaccuracies that are negatively impacting my credit score. Specifically, I found that payments that are incorrectly reported as late, etc. ] My account was put in deferment and forbearance. It also just says 90 past due and no proof of the 30 and 60 day mark, with a balance of {$64000.00} I have made multiple attempts to contact XXXX  to rectify this issue. I sent a dispute letter on XX/XX/year> and provided necessary documentation to support my claim. Despite this, XXXX  failed to correct the inaccuracies within the required time frame. \\n\\nI believe that XXXX  has violated the Fair Credit Reporting Act ( FCRA ) by not investigating my dispute adequately and reporting false information. \\n\\nI am requesting the following actions to be taken : 1. Immediate correction of the inaccurate information on my credit report. \\n2. A written confirmation of the corrections made. \\n3. Compensation for any damages caused by the inaccurate reporting, if applicable. \\n\\n\\n\\nThank you for your attention to this matter. I look forward to your prompt response. \\n\\nSincerely, XXXX XXXX XXXX', 'Company public response': 'None', 'Company': 'Nelnet, Inc.', 'State': 'PA', 'ZIP code': '190XX', 'Tags': 'None', 'Consumer consent provided?': 'Consent provided', 'Submitted via': 'Web', 'Date sent to company': '04/18/25', 'Company response to consumer': 'Closed with explanation', 'Timely response?': 'Yes', 'Consumer disputed?': 'N/A', 'Complaint ID': '13062402', '_id': 'c4000c2923964945ade4e322399d5a72', '_collection_name': 'LoanComplaints'}, page_content='XXXX XXXX XXXX XXXX XXXX XXXX. \\nXXXX, PA XXXX XXXX XXXX XXXX  XXXX. XXXX XXXX XXXX, TX XXXX Phone number : ( XXXX ) XXXX Website : XXXX  I am submitting this complaint regarding inaccurate information reported on my credit report by XXXX. \\n\\n* * Details of the Complaint : * * XXXX, 2025 I obtained a copy of my credit report from XXXX  and noticed inaccuracies that are negatively impacting my credit score. Specifically, I found that payments that are incorrectly reported as late, etc. ] My account was put in deferment and forbearance. It also just says 90 past due and no proof of the 30 and 60 day mark, with a balance of {$64000.00} I have made multiple attempts to contact XXXX  to rectify this issue. I sent a dispute letter on XX/XX/year> and provided necessary documentation to support my claim. Despite this, XXXX  failed to correct the inaccuracies within the required time frame. \\n\\nI believe that XXXX  has violated the Fair Credit Reporting Act ( FCRA ) by not investigating my dispute adequately and reporting false information. \\n\\nI am requesting the following actions to be taken : 1. Immediate correction of the inaccurate information on my credit report. \\n2. A written confirmation of the corrections made. \\n3. Compensation for any damages caused by the inaccurate reporting, if applicable. \\n\\n\\n\\nThank you for your attention to this matter. I look forward to your prompt response. \\n\\nSincerely, XXXX XXXX XXXX'),\n",
              " Document(metadata={'source': './data/complaints.csv', 'row': 503, 'Date received': '04/14/25', 'Product': 'Student loan', 'Sub-product': 'Federal student loan servicing', 'Issue': 'Struggling to repay your loan', 'Sub-issue': 'Problem with your payment plan', 'Consumer complaint narrative': \"In XXXX, I submitted a complaint to XXXX. \\n\\nI was steered into long term forbearance and deferments. Ultimately I defaulted for a few years because I wasn't offered XXXX. I rehabilitated my loans and then was pushed into forbearance I've been paying on these loans in some capacity since XXXX. I've been unable to keep track of who has my loan and what's been done to my loans over the years because I've been shuffled from one company to the other ( XXXX, XXXX, XXXX, Aidvantage ). I have gotten little information regarding the one-time acount review. It has taken months to get contact back regarding my initial requests I have requested numerous updatse. \\n\\nXXXX XXXX XXXX added a message XX/XX/XXXX XXXX AM I am still awaiting a response and resolution to this request. It has been over 1 year since I submitted this request and have not received a response. Please review and respond with adjustments to my account specifically for the illegal and other predatory lending practices for which XXXX was found liable. I am expecting that a one-time account review is done and specific analysis is provide to me to support the adjustments that are made. I have yet to receive a response from XXXX of XXXX. This has been open since XXXX and still has not been resolved. \\nXXXX XXXX XXXX added a message XX/XX/XXXX XXXX PM I am still awaiting a response and resolution to this request. It has been over 1 year since I submitted this request and have not received a response. Please review and respond with adjustments to my account specifically for the illegal and other predatory lending practices for which XXXX was found liable. I am expecting that a one-time account review is done and specific analysis is provide to me to support the adjustments that are made. \\n\\n\\nIt has been nearly 18 months with no resolution. Now I have discovered that my information was released in violation of FERPA. I am requesting a full discharge of my loans due to these violations and failure to provide a MPN, failure to respond to inquiries in a timely manner.\", 'Company public response': 'None', 'Company': 'Maximus Federal Services, Inc.', 'State': 'TX', 'ZIP code': '75219', 'Tags': 'None', 'Consumer consent provided?': 'Consent provided', 'Submitted via': 'Web', 'Date sent to company': '04/14/25', 'Company response to consumer': 'Closed with explanation', 'Timely response?': 'Yes', 'Consumer disputed?': 'N/A', 'Complaint ID': '12975634', '_id': '78cf9ef874ac40ab912ed0a93c2b1d1f', '_collection_name': 'LoanComplaints'}, page_content=\"In XXXX, I submitted a complaint to XXXX. \\n\\nI was steered into long term forbearance and deferments. Ultimately I defaulted for a few years because I wasn't offered XXXX. I rehabilitated my loans and then was pushed into forbearance I've been paying on these loans in some capacity since XXXX. I've been unable to keep track of who has my loan and what's been done to my loans over the years because I've been shuffled from one company to the other ( XXXX, XXXX, XXXX, Aidvantage ). I have gotten little information regarding the one-time acount review. It has taken months to get contact back regarding my initial requests I have requested numerous updatse. \\n\\nXXXX XXXX XXXX added a message XX/XX/XXXX XXXX AM I am still awaiting a response and resolution to this request. It has been over 1 year since I submitted this request and have not received a response. Please review and respond with adjustments to my account specifically for the illegal and other predatory lending practices for which XXXX was found liable. I am expecting that a one-time account review is done and specific analysis is provide to me to support the adjustments that are made. I have yet to receive a response from XXXX of XXXX. This has been open since XXXX and still has not been resolved. \\nXXXX XXXX XXXX added a message XX/XX/XXXX XXXX PM I am still awaiting a response and resolution to this request. It has been over 1 year since I submitted this request and have not received a response. Please review and respond with adjustments to my account specifically for the illegal and other predatory lending practices for which XXXX was found liable. I am expecting that a one-time account review is done and specific analysis is provide to me to support the adjustments that are made. \\n\\n\\nIt has been nearly 18 months with no resolution. Now I have discovered that my information was released in violation of FERPA. I am requesting a full discharge of my loans due to these violations and failure to provide a MPN, failure to respond to inquiries in a timely manner.\"),\n",
              " Document(metadata={'source': './data/complaints.csv', 'row': 816, 'Date received': '04/05/25', 'Product': 'Student loan', 'Sub-product': 'Federal student loan servicing', 'Issue': 'Dealing with your lender or servicer', 'Sub-issue': 'Received bad information about your loan', 'Consumer complaint narrative': 'To the Consumer Financial Protection Bureau, RE : Urgent Follow-Up on Complaint # XXXX Non-Response and Continued Harm I am writing to formally follow up on my active complaint submitted to the CFPB on XX/XX/year>, under reference number XXXX, against XXXX, my federal student loan servicer. \\n\\nAs of today, **Aidvantage has failed to respond** to my complaint, despite the CFPBs 15-day initial response policy and XXXX maximum timeframe for resolution. This failure is unacceptable and constitutes a disregard for federal accountability standards. \\n\\nXXXX, the company has continued to penalize me** in the time since my complaint was filed : - My account remains falsely marked as past due despite legal forbearance under Department of Education XXXX XXXX My XXXX XXXX has dropped by over XXXX points** - The false data continues to be reported by XXXX, XXXX, and XXXX XXXX I have suffered **emotional distress**, **financial instability**, and **reputational harm** Aidvantages actions and their refusal to acknowledge or resolve them are in direct violation of : - **FCRA** : 15 U.S.C. 1681s-2 ( a ), 1681e ( b ), 1681no - **Consumer Financial Protection Act** : 12 U.S.C. 5531 - **Higher XXXX XXXX : 20 U.S.C. 1082 ( a ) ( 6 ) - **Truth in XXXX XXXX, and possibly even **federal criminal statutes** under 18 U.S.C. 1343 for using electronic communications to continue disseminating false and coercive information I urge the CFPB to immediately escalate this complaint and take the following actions : XXXX. Open an enforcement investigation into XXXX compliance failures XXXX. XXXX them to immediately correct all false reporting and restore my credit status XXXX. Coordinate with the XXXX Ombudsman and Department of Education on XXXX XXXX XXXX. Notify me in writing of the outcome of this follow-up request I am prepared to file further complaints with my XXXX Attorney General, and to seek legal counsel should these violations not be corrected. \\n\\nThank you for your attention to this urgent matter. I look forward to your response and support in holding this servicer accountable. \\n\\nSincerely, XXXX XXXX', 'Company public response': 'None', 'Company': 'Maximus Federal Services, Inc.', 'State': 'KY', 'ZIP code': '40214', 'Tags': 'None', 'Consumer consent provided?': 'Consent provided', 'Submitted via': 'Web', 'Date sent to company': '04/05/25', 'Company response to consumer': 'Closed with explanation', 'Timely response?': 'Yes', 'Consumer disputed?': 'N/A', 'Complaint ID': '12832400', '_id': '9fbe7d67296d4461976b15c6a526b3f4', '_collection_name': 'LoanComplaints'}, page_content='To the Consumer Financial Protection Bureau, RE : Urgent Follow-Up on Complaint # XXXX Non-Response and Continued Harm I am writing to formally follow up on my active complaint submitted to the CFPB on XX/XX/year>, under reference number XXXX, against XXXX, my federal student loan servicer. \\n\\nAs of today, **Aidvantage has failed to respond** to my complaint, despite the CFPBs 15-day initial response policy and XXXX maximum timeframe for resolution. This failure is unacceptable and constitutes a disregard for federal accountability standards. \\n\\nXXXX, the company has continued to penalize me** in the time since my complaint was filed : - My account remains falsely marked as past due despite legal forbearance under Department of Education XXXX XXXX My XXXX XXXX has dropped by over XXXX points** - The false data continues to be reported by XXXX, XXXX, and XXXX XXXX I have suffered **emotional distress**, **financial instability**, and **reputational harm** Aidvantages actions and their refusal to acknowledge or resolve them are in direct violation of : - **FCRA** : 15 U.S.C. 1681s-2 ( a ), 1681e ( b ), 1681no - **Consumer Financial Protection Act** : 12 U.S.C. 5531 - **Higher XXXX XXXX : 20 U.S.C. 1082 ( a ) ( 6 ) - **Truth in XXXX XXXX, and possibly even **federal criminal statutes** under 18 U.S.C. 1343 for using electronic communications to continue disseminating false and coercive information I urge the CFPB to immediately escalate this complaint and take the following actions : XXXX. Open an enforcement investigation into XXXX compliance failures XXXX. XXXX them to immediately correct all false reporting and restore my credit status XXXX. Coordinate with the XXXX Ombudsman and Department of Education on XXXX XXXX XXXX. Notify me in writing of the outcome of this follow-up request I am prepared to file further complaints with my XXXX Attorney General, and to seek legal counsel should these violations not be corrected. \\n\\nThank you for your attention to this urgent matter. I look forward to your response and support in holding this servicer accountable. \\n\\nSincerely, XXXX XXXX'),\n",
              " Document(metadata={'source': './data/complaints.csv', 'row': 400, 'Date received': '03/31/25', 'Product': 'Student loan', 'Sub-product': 'Federal student loan servicing', 'Issue': 'Incorrect information on your report', 'Sub-issue': 'Account status incorrect', 'Consumer complaint narrative': 'Payments are showing late when they shouldnt be. I contacted the company and they said they would have it removed within 48 hours it is now ten days later now they are requesting documentation in order for it to be removed from the credit bureaus when that is not what was promised.', 'Company public response': 'None', 'Company': 'Maximus Federal Services, Inc.', 'State': 'MI', 'ZIP code': '49009', 'Tags': 'Servicemember', 'Consumer consent provided?': 'Consent provided', 'Submitted via': 'Web', 'Date sent to company': '03/31/25', 'Company response to consumer': 'Closed with explanation', 'Timely response?': 'Yes', 'Consumer disputed?': 'N/A', 'Complaint ID': '12744910', '_id': '1e7afced09524c12ba53e4dea1096947', '_collection_name': 'LoanComplaints'}, page_content='Payments are showing late when they shouldnt be. I contacted the company and they said they would have it removed within 48 hours it is now ten days later now they are requesting documentation in order for it to be removed from the credit bureaus when that is not what was promised.'),\n",
              " Document(metadata={'source': './data/complaints.csv', 'row': 716, 'Date received': '05/02/25', 'Product': 'Student loan', 'Sub-product': 'Federal student loan servicing', 'Issue': 'Dealing with your lender or servicer', 'Sub-issue': 'Trouble with how payments are being handled', 'Consumer complaint narrative': 'I am submitting a follow-up complaint regarding {$3100.00} in payments that were not applied to my student loan account. Below are the key details : Timeline & Payments : Between XX/XX/XXXX XXXX XXXX XXXX XXXX XXXX XXXXXX/XX/XXXX, I made 9 monthly payments of XXXX ( totaling XXXX ). \\n\\nThese payments do not appear on my account statement, and my loan balance remains unchanged. \\n\\nMy servicer has not provided an explanation for the unapplied funds. \\n\\nI have no record of misdirected paymentsall transactions cleared my bank. \\n\\nPrevious Complaint Reference : # XXXX ( if additional context is needed ). \\n\\nI expect a timely resolution. Thank you for your assistance. \\n\\nSincerely, XXXX XXXX', 'Company public response': 'None', 'Company': 'EdFinancial Services', 'State': 'NY', 'ZIP code': '11206', 'Tags': 'None', 'Consumer consent provided?': 'Consent provided', 'Submitted via': 'Web', 'Date sent to company': '05/02/25', 'Company response to consumer': 'Closed with explanation', 'Timely response?': 'Yes', 'Consumer disputed?': 'N/A', 'Complaint ID': '13298273', '_id': 'a1b483bd9a8946e3a4485b4e7c97bb15', '_collection_name': 'LoanComplaints'}, page_content='I am submitting a follow-up complaint regarding {$3100.00} in payments that were not applied to my student loan account. Below are the key details : Timeline & Payments : Between XX/XX/XXXX XXXX XXXX XXXX XXXX XXXX XXXXXX/XX/XXXX, I made 9 monthly payments of XXXX ( totaling XXXX ). \\n\\nThese payments do not appear on my account statement, and my loan balance remains unchanged. \\n\\nMy servicer has not provided an explanation for the unapplied funds. \\n\\nI have no record of misdirected paymentsall transactions cleared my bank. \\n\\nPrevious Complaint Reference : # XXXX ( if additional context is needed ). \\n\\nI expect a timely resolution. Thank you for your assistance. \\n\\nSincerely, XXXX XXXX'),\n",
              " Document(metadata={'source': './data/complaints.csv', 'row': 810, 'Date received': '04/18/25', 'Product': 'Student loan', 'Sub-product': 'Federal student loan servicing', 'Issue': 'Incorrect information on your report', 'Sub-issue': 'Account status incorrect', 'Consumer complaint narrative': 'Subject : Inaccurate Reporting of Student Loan Status and Failure to Acknowledge XXXX  Progress Complaint : I am filing a complaint regarding the mismanagement of my federal student loans by my servicer, Edfinancial Services. \\n\\nDespite having made XXXX qualifying payments under an Income-Driven Repayment ( XXXX ) plan ( as acknowledged on my loan dashboard ), I am being reported as having XXXX qualifying payments toward XXXX XXXX XXXX XXXX XXXX XXXX XXXX Additionally, negative marks, including possible delinquency or default, were reported to credit bureaus without adequate notice or opportunity to cure. \\n\\nNo Delinquency Notice Received I was never notified of any late payment, missed payment, or default. Under the Fair Credit Reporting Act ( FCRA ) and Higher Education Act, I should have been properly informed before any negative credit reporting. This lack of notice is a clear violation of my consumer rights. \\n\\nActively in XXXX & XXXX Process I submitted an XXXX XXXX XXXX XXXX ) application on XX/XX/year>, specifically requesting the lowest monthly payment, which qualifies me for the XXXX plan. I also submitted my XXXX Employment Certification form, signed by my employer. During this time, my loans were under review, and therefore should not have been reported as delinquent. \\n\\nI submitted a dispute with all three major credit bureaus ( XXXX XXXX XXXX  ) and recently submitted both an XXXX request and a XXXX Employment Certification Form on XX/XX/year>.', 'Company public response': 'None', 'Company': 'EdFinancial Services', 'State': 'IN', 'ZIP code': '47130', 'Tags': 'None', 'Consumer consent provided?': 'Consent provided', 'Submitted via': 'Web', 'Date sent to company': '04/18/25', 'Company response to consumer': 'Closed with explanation', 'Timely response?': 'Yes', 'Consumer disputed?': 'N/A', 'Complaint ID': '13056764', '_id': '8840e058eade4ca6b8cbdf3c00e3318d', '_collection_name': 'LoanComplaints'}, page_content='Subject : Inaccurate Reporting of Student Loan Status and Failure to Acknowledge XXXX  Progress Complaint : I am filing a complaint regarding the mismanagement of my federal student loans by my servicer, Edfinancial Services. \\n\\nDespite having made XXXX qualifying payments under an Income-Driven Repayment ( XXXX ) plan ( as acknowledged on my loan dashboard ), I am being reported as having XXXX qualifying payments toward XXXX XXXX XXXX XXXX XXXX XXXX XXXX Additionally, negative marks, including possible delinquency or default, were reported to credit bureaus without adequate notice or opportunity to cure. \\n\\nNo Delinquency Notice Received I was never notified of any late payment, missed payment, or default. Under the Fair Credit Reporting Act ( FCRA ) and Higher Education Act, I should have been properly informed before any negative credit reporting. This lack of notice is a clear violation of my consumer rights. \\n\\nActively in XXXX & XXXX Process I submitted an XXXX XXXX XXXX XXXX ) application on XX/XX/year>, specifically requesting the lowest monthly payment, which qualifies me for the XXXX plan. I also submitted my XXXX Employment Certification form, signed by my employer. During this time, my loans were under review, and therefore should not have been reported as delinquent. \\n\\nI submitted a dispute with all three major credit bureaus ( XXXX XXXX XXXX  ) and recently submitted both an XXXX request and a XXXX Employment Certification Form on XX/XX/year>.')]"
            ]
          },
          "execution_count": 15,
          "metadata": {},
          "output_type": "execute_result"
        }
      ],
      "source": [
        "# sample_test['context']"
      ]
    },
    {
      "cell_type": "code",
      "execution_count": null,
      "metadata": {},
      "outputs": [
        {
          "data": {
            "text/plain": [
              "AIMessage(content='Yes, based on the information provided, some complaints did not get handled in a timely manner. Specifically, at least one complaint (Complaint ID: 12709087) was marked as not handled in a timely manner, with the response marked as \"No.\" Additionally, multiple complaints mention delays or lack of response over extended periods, such as complaints that have been ongoing for over a year without resolution.', additional_kwargs={'refusal': None}, response_metadata={'token_usage': {'completion_tokens': 80, 'prompt_tokens': 7357, 'total_tokens': 7437, 'completion_tokens_details': {'accepted_prediction_tokens': 0, 'audio_tokens': 0, 'reasoning_tokens': 0, 'rejected_prediction_tokens': 0}, 'prompt_tokens_details': {'audio_tokens': 0, 'cached_tokens': 0}}, 'model_name': 'gpt-4.1-nano-2025-04-14', 'system_fingerprint': 'fp_38343a2f8f', 'id': 'chatcmpl-ByLC6m8rgqxAW9gQphYMzosEVmLko', 'service_tier': 'default', 'finish_reason': 'stop', 'logprobs': None}, id='run--6227492e-4809-45ee-afcd-f8c84e36b24f-0', usage_metadata={'input_tokens': 7357, 'output_tokens': 80, 'total_tokens': 7437, 'input_token_details': {'audio': 0, 'cache_read': 0}, 'output_token_details': {'audio': 0, 'reasoning': 0}})"
            ]
          },
          "execution_count": 16,
          "metadata": {},
          "output_type": "execute_result"
        }
      ],
      "source": [
        "# sample_test['response']"
      ]
    },
    {
      "cell_type": "code",
      "execution_count": null,
      "metadata": {},
      "outputs": [
        {
          "data": {
            "text/plain": [
              "['__abstractmethods__',\n",
              " '__add__',\n",
              " '__annotations__',\n",
              " '__class__',\n",
              " '__class_getitem__',\n",
              " '__class_vars__',\n",
              " '__copy__',\n",
              " '__deepcopy__',\n",
              " '__delattr__',\n",
              " '__dict__',\n",
              " '__dir__',\n",
              " '__doc__',\n",
              " '__eq__',\n",
              " '__fields__',\n",
              " '__fields_set__',\n",
              " '__firstlineno__',\n",
              " '__format__',\n",
              " '__ge__',\n",
              " '__get_pydantic_core_schema__',\n",
              " '__get_pydantic_json_schema__',\n",
              " '__getattr__',\n",
              " '__getattribute__',\n",
              " '__getstate__',\n",
              " '__gt__',\n",
              " '__hash__',\n",
              " '__init__',\n",
              " '__init_subclass__',\n",
              " '__iter__',\n",
              " '__le__',\n",
              " '__lt__',\n",
              " '__module__',\n",
              " '__ne__',\n",
              " '__new__',\n",
              " '__pretty__',\n",
              " '__private_attributes__',\n",
              " '__pydantic_complete__',\n",
              " '__pydantic_computed_fields__',\n",
              " '__pydantic_core_schema__',\n",
              " '__pydantic_custom_init__',\n",
              " '__pydantic_decorators__',\n",
              " '__pydantic_extra__',\n",
              " '__pydantic_fields__',\n",
              " '__pydantic_fields_set__',\n",
              " '__pydantic_generic_metadata__',\n",
              " '__pydantic_init_subclass__',\n",
              " '__pydantic_parent_namespace__',\n",
              " '__pydantic_post_init__',\n",
              " '__pydantic_private__',\n",
              " '__pydantic_root_model__',\n",
              " '__pydantic_serializer__',\n",
              " '__pydantic_setattr_handlers__',\n",
              " '__pydantic_validator__',\n",
              " '__reduce__',\n",
              " '__reduce_ex__',\n",
              " '__replace__',\n",
              " '__repr__',\n",
              " '__repr_args__',\n",
              " '__repr_name__',\n",
              " '__repr_recursion__',\n",
              " '__repr_str__',\n",
              " '__rich_repr__',\n",
              " '__setattr__',\n",
              " '__setstate__',\n",
              " '__signature__',\n",
              " '__sizeof__',\n",
              " '__slots__',\n",
              " '__static_attributes__',\n",
              " '__str__',\n",
              " '__subclasshook__',\n",
              " '__weakref__',\n",
              " '_abc_impl',\n",
              " '_backwards_compat_tool_calls',\n",
              " '_calculate_keys',\n",
              " '_copy_and_set_values',\n",
              " '_get_value',\n",
              " '_iter',\n",
              " '_setattr_handler',\n",
              " 'additional_kwargs',\n",
              " 'construct',\n",
              " 'content',\n",
              " 'copy',\n",
              " 'dict',\n",
              " 'example',\n",
              " 'from_orm',\n",
              " 'get_lc_namespace',\n",
              " 'id',\n",
              " 'invalid_tool_calls',\n",
              " 'is_lc_serializable',\n",
              " 'json',\n",
              " 'lc_attributes',\n",
              " 'lc_id',\n",
              " 'lc_secrets',\n",
              " 'model_computed_fields',\n",
              " 'model_config',\n",
              " 'model_construct',\n",
              " 'model_copy',\n",
              " 'model_dump',\n",
              " 'model_dump_json',\n",
              " 'model_extra',\n",
              " 'model_fields',\n",
              " 'model_fields_set',\n",
              " 'model_json_schema',\n",
              " 'model_parametrized_name',\n",
              " 'model_post_init',\n",
              " 'model_rebuild',\n",
              " 'model_validate',\n",
              " 'model_validate_json',\n",
              " 'model_validate_strings',\n",
              " 'name',\n",
              " 'parse_file',\n",
              " 'parse_obj',\n",
              " 'parse_raw',\n",
              " 'pretty_print',\n",
              " 'pretty_repr',\n",
              " 'response_metadata',\n",
              " 'schema',\n",
              " 'schema_json',\n",
              " 'text',\n",
              " 'to_json',\n",
              " 'to_json_not_implemented',\n",
              " 'tool_calls',\n",
              " 'type',\n",
              " 'update_forward_refs',\n",
              " 'usage_metadata',\n",
              " 'validate']"
            ]
          },
          "execution_count": 17,
          "metadata": {},
          "output_type": "execute_result"
        }
      ],
      "source": [
        "# dir(sample_test['response'])"
      ]
    },
    {
      "cell_type": "code",
      "execution_count": null,
      "metadata": {},
      "outputs": [
        {
          "data": {
            "text/plain": [
              "'Yes, based on the information provided, some complaints did not get handled in a timely manner. Specifically, at least one complaint (Complaint ID: 12709087) was marked as not handled in a timely manner, with the response marked as \"No.\" Additionally, multiple complaints mention delays or lack of response over extended periods, such as complaints that have been ongoing for over a year without resolution.'"
            ]
          },
          "execution_count": 18,
          "metadata": {},
          "output_type": "execute_result"
        }
      ],
      "source": [
        "# sample_test['response'].content"
      ]
    },
    {
      "cell_type": "code",
      "execution_count": null,
      "metadata": {
        "colab": {
          "base_uri": "https://localhost:8080/",
          "height": 70
        },
        "id": "lpG6rlvvvKFq",
        "outputId": "a1b330b0-628e-41be-d829-9c1d55e781f5"
      },
      "outputs": [
        {
          "data": {
            "text/plain": [
              "'People failed to pay back their loans primarily because of financial hardships, lack of clear communication from loan servicers, unmanageable interest accumulation, misinformation or insufficient information about repayment terms, and adverse impacts on credit reports. Many borrowers found themselves unable to increase payments due to their living expenses, while others experienced unexpected loan transfers, mismanagement, or delinquency reporting without proper notification. Additionally, some borrowers faced difficulties with payment plans, foregone opportunities for debt relief, and confusion over the status of their loans, all contributing to their inability to repay in a timely manner.'"
            ]
          },
          "execution_count": 19,
          "metadata": {},
          "output_type": "execute_result"
        }
      ],
      "source": [
        "# naive_retrieval_chain.invoke({\"question\" : \"Why did people fail to pay back their loans?\"})[\"response\"].content"
      ]
    },
    {
      "cell_type": "markdown",
      "metadata": {
        "id": "jsbfQmbr1leg"
      },
      "source": [
        "Overall, this is not bad! Let's see if we can make it better!"
      ]
    },
    {
      "cell_type": "markdown",
      "metadata": {
        "id": "Ft1vt8HPR16w"
      },
      "source": [
        "## Task 5: Best-Matching 25 (BM25) Retriever\n",
        "\n",
        "Taking a step back in time - [BM25](https://www.nowpublishers.com/article/Details/INR-019) is based on [Bag-Of-Words](https://en.wikipedia.org/wiki/Bag-of-words_model) which is a sparse representation of text.\n",
        "\n",
        "In essence, it's a way to compare how similar two pieces of text are based on the words they both contain.\n",
        "\n",
        "This retriever is very straightforward to set-up! Let's see it happen down below!\n"
      ]
    },
    {
      "cell_type": "code",
      "execution_count": 12,
      "metadata": {
        "id": "qdF4wuj5R-cG"
      },
      "outputs": [],
      "source": [
        "from langchain_community.retrievers import BM25Retriever\n",
        "\n",
        "bm25_retriever = BM25Retriever.from_documents(loan_docs, )"
      ]
    },
    {
      "cell_type": "markdown",
      "metadata": {
        "id": "KIjJlBQ8drKH"
      },
      "source": [
        "We'll construct the same chain - only changing the retriever."
      ]
    },
    {
      "cell_type": "code",
      "execution_count": 13,
      "metadata": {
        "id": "WR15EQG7SLuw"
      },
      "outputs": [],
      "source": [
        "bm25_retrieval_chain = (\n",
        "    {\"context\": itemgetter(\"question\") | bm25_retriever, \"question\": itemgetter(\"question\")}\n",
        "    | RunnablePassthrough.assign(context=itemgetter(\"context\"))\n",
        "    | {\"response\": rag_prompt | chat_model, \"context\": itemgetter(\"context\")}\n",
        ")"
      ]
    },
    {
      "cell_type": "markdown",
      "metadata": {
        "id": "0Gi-yXCDdvJk"
      },
      "source": [
        "Let's look at the responses!"
      ]
    },
    {
      "cell_type": "code",
      "execution_count": null,
      "metadata": {
        "colab": {
          "base_uri": "https://localhost:8080/",
          "height": 53
        },
        "id": "oY9qzmm3SOrF",
        "outputId": "4d4f450f-5978-460f-f242-b32407868353"
      },
      "outputs": [
        {
          "data": {
            "text/plain": [
              "'Based on the provided complaints, the most common issue with loans appears to be dealing with the lender or servicer, particularly related to inaccurate or misleading information, improper application of payments, or issues with loan terms. Specific sub-issues include disputes over fees charged, trouble with how payments are handled (such as being unable to pay down principal), and receiving bad or incomplete information about loan balances or history.'"
            ]
          },
          "execution_count": 22,
          "metadata": {},
          "output_type": "execute_result"
        }
      ],
      "source": [
        "# bm25_retrieval_chain.invoke({\"question\" : \"What is the most common issue with loans?\"})[\"response\"].content"
      ]
    },
    {
      "cell_type": "code",
      "execution_count": null,
      "metadata": {
        "colab": {
          "base_uri": "https://localhost:8080/",
          "height": 36
        },
        "id": "igfinyneSQkh",
        "outputId": "9752d4a9-dd16-45b1-f63f-a76e93a05eb3"
      },
      "outputs": [
        {
          "data": {
            "text/plain": [
              "'Based on the provided information, all these complaints were responded to with a \"Closed with explanation\" status and the responses are marked as \"Timely response?\": \"Yes.\" Therefore, it appears that none of the complaints went unresolved or were handled outside of the expected timeframe.'"
            ]
          },
          "execution_count": 23,
          "metadata": {},
          "output_type": "execute_result"
        }
      ],
      "source": [
        "# bm25_retrieval_chain.invoke({\"question\" : \"Did any complaints not get handled in a timely manner?\"})[\"response\"].content"
      ]
    },
    {
      "cell_type": "code",
      "execution_count": null,
      "metadata": {
        "colab": {
          "base_uri": "https://localhost:8080/",
          "height": 53
        },
        "id": "w0H7pV_USSMQ",
        "outputId": "bdead654-3109-4143-9a30-e1d6ca8dc534"
      },
      "outputs": [
        {
          "data": {
            "text/plain": [
              "\"People failed to pay back their loans for various reasons, including:\\n- Problems with payment plans, such as being steered into incorrect forbearances or having their autopayments unenrolled without proper communication.\\n- Poor communication from lenders or servicers, leading to misunderstandings about payment deadlines, overdue status, or the status of forbearance or deferment applications.\\n- Lack of response or acknowledgment from loan servicers after requests for forbearance or deferment, resulting in continued billing and negative impact on credit scores.\\n- Errors or issues in billing systems, such as payments being reversed or accounts being reported as past due without proper notification.\\n- Transitions between loan servicers that caused a lack of awareness about the loan status or payment requirements.\\nOverall, inadequate communication, administrative errors, and inappropriate handling of payment plans contributed to borrowers' failure to repay their loans.\""
            ]
          },
          "execution_count": 24,
          "metadata": {},
          "output_type": "execute_result"
        }
      ],
      "source": [
        "# bm25_retrieval_chain.invoke({\"question\" : \"Why did people fail to pay back their loans?\"})[\"response\"].content"
      ]
    },
    {
      "cell_type": "markdown",
      "metadata": {
        "id": "zvg5xHaUdxCl"
      },
      "source": [
        "It's not clear that this is better or worse, if only we had a way to test this (SPOILERS: We do, the second half of the notebook will cover this)"
      ]
    },
    {
      "cell_type": "markdown",
      "metadata": {},
      "source": [
        "#### ❓ Question #1:\n",
        "\n",
        "Give an example query where BM25 is better than embeddings and justify your answer.\n",
        "\n",
        "#### ✅ Answer:\n",
        "\n",
        "An example query where BM25 outperforms embeddings is when searching for documents that contain an **exact phrase**.\n",
        "\n",
        "**Query:**\n",
        "\n",
        "```python\n",
        "\"Search for complaints where the exact phrase 'loan paid in full' appears.\"\n",
        "```\n",
        "\n",
        "This type of query demands **precise lexical matching**, which is BM25’s strength. In this case, we ran the query using both retrieval pipelines:\n",
        "\n",
        "### 🔍 Results\n",
        "\n",
        "**BM25 Result:**\n",
        "> Based on the provided context, there are no complaints that explicitly mention the exact phrase 'loan paid in full.' Therefore, I cannot find any complaints where this specific phrase appears.\n",
        "\n",
        "**Embedding Result:**\n",
        "> Based on the provided documents, there are multiple complaints where the exact phrase 'loan paid in full' appears, specifically in the context of patients stating that their loans still do not show as paid in full despite paying them off.  \n",
        ">  \n",
        "> For example:  \n",
        "> - At row 59, the complaint narrative explicitly mentions: \"I paid off loan # XXXX on XX/XX/year>, it has been 90 days and it is still not showing as paid in full.\"  \n",
        ">  \n",
        "> Therefore, the complaints where the exact phrase 'loan paid in full' appears are centered around cases where individuals have paid off their loans but the status has not been updated to 'paid in full', leading to frustration and disputes.\n",
        "\n",
        "---\n",
        "\n",
        "### ✅ Justification\n",
        "\n",
        "This example demonstrates that **BM25 is superior for exact phrase queries**:\n",
        "\n",
        "- BM25 correctly returned *no matches* because the **exact phrase** `'loan paid in full'` does not exist in the dataset.\n",
        "- The embedding-based retriever, however, **hallucinated** — returning conceptually similar results that did **not contain the exact phrase**, violating the query constraint.\n",
        "\n",
        "---\n",
        "\n",
        "### 📌 Conclusion\n",
        "\n",
        "**BM25 is better than embeddings** when:\n",
        "\n",
        "- The query demands **exact term or phrase matching**\n",
        "- You want to avoid **semantic generalization**\n",
        "- Hallucination risks must be minimized (e.g., legal or financial audits)\n",
        "\n",
        "This makes BM25 a strong choice for precision-sensitive applications like compliance, audits, or exact keyword search.\n"
      ]
    },
    {
      "cell_type": "code",
      "execution_count": null,
      "metadata": {},
      "outputs": [
        {
          "name": "stdout",
          "output_type": "stream",
          "text": [
            "BM25 RESULT:\n",
            " I found several complaints where the exact phrase 'loan paid in full' appears. Specifically, there are two instances:\n",
            "\n",
            "1. A complaint where the individual mentions that a loan serviced by Mohela states on the loan summary page that it was paid in full. They refer to documentation indicating this status on their student aid account.\n",
            "\n",
            "2. A complaint where the person notes that their student loans, managed by the Default Resolution Group, show in their documentation that certain loans were paid in full as of specific dates.\n",
            "\n",
            "If you need detailed information from these complaints or further assistance, please let me know!\n",
            "\n",
            "---\n",
            "\n",
            "EMBEDDING RESULT:\n",
            " I found multiple complaints where the exact phrase \"loan paid in full\" appears in the consumer complaint narratives.\n"
          ]
        }
      ],
      "source": [
        "# query = \"Search for complaints where the exact phrase 'loan paid in full' appears.\"\n",
        "\n",
        "# bm25_result = bm25_retrieval_chain.invoke({\"question\": query})\n",
        "# naive_result = naive_retrieval_chain.invoke({\"question\": query})\n",
        "\n",
        "# print(\"BM25 RESULT:\\n\", bm25_result[\"response\"].content)\n",
        "# print(\"\\n---\\n\")\n",
        "# print(\"EMBEDDING RESULT:\\n\", naive_result[\"response\"].content)\n"
      ]
    },
    {
      "cell_type": "code",
      "execution_count": null,
      "metadata": {},
      "outputs": [
        {
          "data": {
            "text/plain": [
              "[Document(metadata={'source': './data/complaints.csv', 'row': 824, 'Date received': '04/24/25', 'Product': 'Student loan', 'Sub-product': 'Federal student loan servicing', 'Issue': 'Dealing with your lender or servicer', 'Sub-issue': 'Trouble with how payments are being handled', 'Consumer complaint narrative': 'I have student loans managed by aidvantage. I have the payments setup from my bank account. It should be a breeze for me to pay them. No matter what I do the payments just fail. I logged into aidvantage and all of my payments have failed. Its depressing and I need them to be paid. It really should not be this hard. 7 months is a long time to keep failing ... every other bill I setup manage to get paid from the same account. I went to XXXX  and see the exact same complaints and tragedy. I need this resolved, I want my payments accepted.', 'Company public response': 'None', 'Company': 'Maximus Federal Services, Inc.', 'State': 'MD', 'ZIP code': '20735', 'Tags': 'Servicemember', 'Consumer consent provided?': 'Consent provided', 'Submitted via': 'Web', 'Date sent to company': '04/24/25', 'Company response to consumer': 'Closed with explanation', 'Timely response?': 'Yes', 'Consumer disputed?': 'N/A', 'Complaint ID': '13163175'}, page_content='I have student loans managed by aidvantage. I have the payments setup from my bank account. It should be a breeze for me to pay them. No matter what I do the payments just fail. I logged into aidvantage and all of my payments have failed. Its depressing and I need them to be paid. It really should not be this hard. 7 months is a long time to keep failing ... every other bill I setup manage to get paid from the same account. I went to XXXX  and see the exact same complaints and tragedy. I need this resolved, I want my payments accepted.'),\n",
              " Document(metadata={'source': './data/complaints.csv', 'row': 84, 'Date received': '04/11/25', 'Product': 'Student loan', 'Sub-product': 'Federal student loan servicing', 'Issue': 'Dealing with your lender or servicer', 'Sub-issue': 'Trouble with how payments are being handled', 'Consumer complaint narrative': 'My student loan account number is XXXX and all of my loans are being managed by Mohela, XXXX XXXX of Federal Student Loans. \\n\\nThe attached document titled \" XXXX \\'\\' is a summary of where my student loans were at in XXXX of XXXX. To my knowledge, nothing changed with loans from XX/XX/XXXX until XX/XX/XXXX. At that time I owed approximately $ XXXX on my student loans serviced by Mohela. \\n\\nOn XX/XX/XXXX for my account managed by Mohela, it is documented that a {$60000.00} check was received from Colorado XXXX  XXXX XXXX XXXX and XXXX, paid to myself and Mohela. I had endorsed the check before sending it to Mohela by mail. My total loan balance indicated on the website for my account was {$69000.00}. Confirmation of receipt of the payment not documented on their actual website when looking into my account until XXXX of XXXX. I submitted a complaint through the Fed Loans website and Mohela on XX/XX/XXXX. Please see the response to the complaint attached titled \" XXXX \\'\\'. The response to each complaint I made was the identical when I made a complaint on XX/XX/XXXX. There is no response to complaints filed on XX/XX/XXXX and XX/XX/XXXX. The response is not congruent with what is currently reflected on the website. \\n\\nIn the meantime, I have remained in forbearance, not receiving credit for the last four months of XXXX XXXX XXXX XXXX and my loans may or may not be collecting interest. I have called Mohela at least twice a month for over three months and there are unacceptable wait times of four hours or more. \\n\\nWhile I agree with total balance owed in the response to my complaints at {$16000.00}, I have been urged to complete a new application for income driven repayment. I am not going to arrange that while Mohela is not applying the total balance to my loans. \\n{$48.00} was paid to interest and they refunded {$52000.00} on XX/XX/XXXX. Please see attachment titled \" Account History. \\'\\' While the procedure published on both Mohela and Fed Loans indicates that payments would be first applied to unsubsidized loans and then subsidized loans if there are any remaining, that is not what occurred, instead my two oldest loans were paid off, one of them subsidized and one of them unsubsidized. Please see attachments titled \" All XXXX XXXX \\'\\', \" XXXX \\'\\', and \" XXXX \\'\\'. \\n\\nToday, I called and waited on hold with Mohela for XXXX minutes. When I explained the issue to the Mohela representative, she said she needed to send me to a different department. At approximately XXXX XXXX, there was a 7 hour wait to speak with someone and the lines close at XXXX XXXX  ( XXXX XXXX  ), indicating that my efforts to wait on hold were not productive today.', 'Company public response': 'Company believes it acted appropriately as authorized by contract or law', 'Company': 'MOHELA', 'State': 'CO', 'ZIP code': '80209', 'Tags': 'None', 'Consumer consent provided?': 'Consent provided', 'Submitted via': 'Web', 'Date sent to company': '04/11/25', 'Company response to consumer': 'Closed with explanation', 'Timely response?': 'No', 'Consumer disputed?': 'N/A', 'Complaint ID': '12935889'}, page_content='My student loan account number is XXXX and all of my loans are being managed by Mohela, XXXX XXXX of Federal Student Loans. \\n\\nThe attached document titled \" XXXX \\'\\' is a summary of where my student loans were at in XXXX of XXXX. To my knowledge, nothing changed with loans from XX/XX/XXXX until XX/XX/XXXX. At that time I owed approximately $ XXXX on my student loans serviced by Mohela. \\n\\nOn XX/XX/XXXX for my account managed by Mohela, it is documented that a {$60000.00} check was received from Colorado XXXX  XXXX XXXX XXXX and XXXX, paid to myself and Mohela. I had endorsed the check before sending it to Mohela by mail. My total loan balance indicated on the website for my account was {$69000.00}. Confirmation of receipt of the payment not documented on their actual website when looking into my account until XXXX of XXXX. I submitted a complaint through the Fed Loans website and Mohela on XX/XX/XXXX. Please see the response to the complaint attached titled \" XXXX \\'\\'. The response to each complaint I made was the identical when I made a complaint on XX/XX/XXXX. There is no response to complaints filed on XX/XX/XXXX and XX/XX/XXXX. The response is not congruent with what is currently reflected on the website. \\n\\nIn the meantime, I have remained in forbearance, not receiving credit for the last four months of XXXX XXXX XXXX XXXX and my loans may or may not be collecting interest. I have called Mohela at least twice a month for over three months and there are unacceptable wait times of four hours or more. \\n\\nWhile I agree with total balance owed in the response to my complaints at {$16000.00}, I have been urged to complete a new application for income driven repayment. I am not going to arrange that while Mohela is not applying the total balance to my loans. \\n{$48.00} was paid to interest and they refunded {$52000.00} on XX/XX/XXXX. Please see attachment titled \" Account History. \\'\\' While the procedure published on both Mohela and Fed Loans indicates that payments would be first applied to unsubsidized loans and then subsidized loans if there are any remaining, that is not what occurred, instead my two oldest loans were paid off, one of them subsidized and one of them unsubsidized. Please see attachments titled \" All XXXX XXXX \\'\\', \" XXXX \\'\\', and \" XXXX \\'\\'. \\n\\nToday, I called and waited on hold with Mohela for XXXX minutes. When I explained the issue to the Mohela representative, she said she needed to send me to a different department. At approximately XXXX XXXX, there was a 7 hour wait to speak with someone and the lines close at XXXX XXXX  ( XXXX XXXX  ), indicating that my efforts to wait on hold were not productive today.'),\n",
              " Document(metadata={'source': './data/complaints.csv', 'row': 120, 'Date received': '04/02/25', 'Product': 'Student loan', 'Sub-product': 'Federal student loan servicing', 'Issue': 'Dealing with your lender or servicer', 'Sub-issue': 'Problem with customer service', 'Consumer complaint narrative': \"Aidvantage - XXXX XX/XX/XXXX, I went and created the log in to the Aidvantage website and paid them and hit the autopay button. Apparently, it was not turned on, and Aidvantage didn't notify me. They had my phone number but claimed they used the other number on the account, which had not been my number since XXXX and they were notified of this. The where paid in XX/XX/XXXX and went in notified XXXX of nonpayment in XX/XX/XXXX, again not notifying me or giving me the 90 grace period that they allow according to their web site. When I found out that they had not turned auto pay on, I immediately paid the account for the amount due and turned auto pay on, again it didnt turn on. I waited until the bill posted and again turned on auto pay. Again it didnt activate even though the site said auto pay to my checking account that they had on flie. I literally watched my account go from delinquent to good standing to turn on auto pay to delinquant in a seven hour period in the same day last week. I again called them the next day and paid an additonal amount and asked for auto-pay to be turned back on, the company could not tell me wither the auto-pay was actually turned on and told me to check back in on them in 10 days. when I called the call center to complain, I spoke to a supervisor that told me that Aidvantage would provide a letter to the credit agency and then later the same day I was told that they would not. I have been hung up on 3 times by their customer service group as well as never connected to a manager when requesting this and left on hold for over 3 hours.\\n\\nThey need to provide the letter of correction that they have promised. they also need to report the account as being paid, this has been going on for weeks and the credit agencies still see the account as not paid!!!\", 'Company public response': 'None', 'Company': 'Maximus Federal Services, Inc.', 'State': 'CA', 'ZIP code': '926XX', 'Tags': 'None', 'Consumer consent provided?': 'Consent provided', 'Submitted via': 'Web', 'Date sent to company': '04/02/25', 'Company response to consumer': 'Closed with explanation', 'Timely response?': 'Yes', 'Consumer disputed?': 'N/A', 'Complaint ID': '12776598'}, page_content=\"Aidvantage - XXXX XX/XX/XXXX, I went and created the log in to the Aidvantage website and paid them and hit the autopay button. Apparently, it was not turned on, and Aidvantage didn't notify me. They had my phone number but claimed they used the other number on the account, which had not been my number since XXXX and they were notified of this. The where paid in XX/XX/XXXX and went in notified XXXX of nonpayment in XX/XX/XXXX, again not notifying me or giving me the 90 grace period that they allow according to their web site. When I found out that they had not turned auto pay on, I immediately paid the account for the amount due and turned auto pay on, again it didnt turn on. I waited until the bill posted and again turned on auto pay. Again it didnt activate even though the site said auto pay to my checking account that they had on flie. I literally watched my account go from delinquent to good standing to turn on auto pay to delinquant in a seven hour period in the same day last week. I again called them the next day and paid an additonal amount and asked for auto-pay to be turned back on, the company could not tell me wither the auto-pay was actually turned on and told me to check back in on them in 10 days. when I called the call center to complain, I spoke to a supervisor that told me that Aidvantage would provide a letter to the credit agency and then later the same day I was told that they would not. I have been hung up on 3 times by their customer service group as well as never connected to a manager when requesting this and left on hold for over 3 hours.\\n\\nThey need to provide the letter of correction that they have promised. they also need to report the account as being paid, this has been going on for weeks and the credit agencies still see the account as not paid!!!\"),\n",
              " Document(metadata={'source': './data/complaints.csv', 'row': 150, 'Date received': '04/03/25', 'Product': 'Student loan', 'Sub-product': 'Federal student loan servicing', 'Issue': 'Struggling to repay your loan', 'Sub-issue': 'Problem with forgiveness, cancellation, or discharge', 'Consumer complaint narrative': 'I received a debt statement from Default resolution group ; I do not believe this to be a valid debt. I have consolidated my student loans more than once and they have been transferred through multiple different companies. This particular loan was consolidated in XXXX. I do believe there has been some confusion and doubling of these loans as the were transferred and passed around. \\n\\nPlease see the attached documents : I reviewed my studentaid.gov account XX/XX/XXXX after receiving this notice. As you can see it states that my total loan balance stated : XXXX loans, XXXX servicers, total balance {$0.00}. More specifically the XXXX XXXX loan states on the loan summary page that it was paid in full. This seems to be the one I am being charged for on this statement. Then upon expanding the loan servicers Debt management and collections system tab it states again that it is paid in full. Again, expanding more to view loan details you will see where it states paid in full as of XX/XX/XXXX. \\n\\nUpon checking XX/XX/XXXX studentaid.gov states that it is in default with a balance of balance of {$6400.00}. I did receive a loan forgiveness and discharge : IDR for my consolidated loan which should have included this loan as you can see on the list of loan servicers included on page XXXX ( XXXX XXXX XXXX XXXX XXXX Debt Management and Collections System, XXXX XXXX XXXX XXXX ) . The amount of this discharge was {$5800.00} on XX/XX/XXXX. The page that says only direct consolidated unsubsidized does not list the servicer but states that I paid {$820.00} paying off this loan. \\nFurthermore, the statement I received lists XXXX XXXX XXXX XXXX as the prior debt holder with the original amount and date being {$3700.00} on XX/XX/XXXX. If this is the original credit holder please provide me with the originally signed documents and transfers please. \\n\\nAccording to XXXX a payment of {$5800.00} was applied XX/XX/XXXX. It does not state what loan they were servicing or which loans the payment was applied to. \\nXXXX of the loans, XXXX of them not stating who the servicer is, shows payments made : XXXX in the amount of {$130.00} and the other in the amount of {$820.00}. \\n\\nI am also attaching a copy of when the consolidation of multiple loans included XXXX XXXX  ( it is unclear which loans they had ) and XXXX XXXX. According to students.gov, this consolidation was completed in XXXX. I do not know where it went from there.', 'Company public response': 'None', 'Company': 'Maximus Federal Services, Inc.', 'State': 'TN', 'ZIP code': '370XX', 'Tags': 'None', 'Consumer consent provided?': 'Consent provided', 'Submitted via': 'Web', 'Date sent to company': '04/03/25', 'Company response to consumer': 'Closed with explanation', 'Timely response?': 'Yes', 'Consumer disputed?': 'N/A', 'Complaint ID': '12809780'}, page_content='I received a debt statement from Default resolution group ; I do not believe this to be a valid debt. I have consolidated my student loans more than once and they have been transferred through multiple different companies. This particular loan was consolidated in XXXX. I do believe there has been some confusion and doubling of these loans as the were transferred and passed around. \\n\\nPlease see the attached documents : I reviewed my studentaid.gov account XX/XX/XXXX after receiving this notice. As you can see it states that my total loan balance stated : XXXX loans, XXXX servicers, total balance {$0.00}. More specifically the XXXX XXXX loan states on the loan summary page that it was paid in full. This seems to be the one I am being charged for on this statement. Then upon expanding the loan servicers Debt management and collections system tab it states again that it is paid in full. Again, expanding more to view loan details you will see where it states paid in full as of XX/XX/XXXX. \\n\\nUpon checking XX/XX/XXXX studentaid.gov states that it is in default with a balance of balance of {$6400.00}. I did receive a loan forgiveness and discharge : IDR for my consolidated loan which should have included this loan as you can see on the list of loan servicers included on page XXXX ( XXXX XXXX XXXX XXXX XXXX Debt Management and Collections System, XXXX XXXX XXXX XXXX ) . The amount of this discharge was {$5800.00} on XX/XX/XXXX. The page that says only direct consolidated unsubsidized does not list the servicer but states that I paid {$820.00} paying off this loan. \\nFurthermore, the statement I received lists XXXX XXXX XXXX XXXX as the prior debt holder with the original amount and date being {$3700.00} on XX/XX/XXXX. If this is the original credit holder please provide me with the originally signed documents and transfers please. \\n\\nAccording to XXXX a payment of {$5800.00} was applied XX/XX/XXXX. It does not state what loan they were servicing or which loans the payment was applied to. \\nXXXX of the loans, XXXX of them not stating who the servicer is, shows payments made : XXXX in the amount of {$130.00} and the other in the amount of {$820.00}. \\n\\nI am also attaching a copy of when the consolidation of multiple loans included XXXX XXXX  ( it is unclear which loans they had ) and XXXX XXXX. According to students.gov, this consolidation was completed in XXXX. I do not know where it went from there.')]"
            ]
          },
          "execution_count": 26,
          "metadata": {},
          "output_type": "execute_result"
        }
      ],
      "source": [
        "# bm25_result['context']"
      ]
    },
    {
      "cell_type": "code",
      "execution_count": null,
      "metadata": {},
      "outputs": [
        {
          "data": {
            "text/plain": [
              "[Document(metadata={'source': './data/complaints.csv', 'row': 59, 'Date received': '04/02/25', 'Product': 'Student loan', 'Sub-product': 'Federal student loan servicing', 'Issue': 'Dealing with your lender or servicer', 'Sub-issue': 'Received bad information about your loan', 'Consumer complaint narrative': \"In my previous Complaint # XXXX I stated that student loan # XXXX is still not showing as being paid in full. I received a response but it still hasn't been corrected and the complaint was closed. I paid off loan # XXXX on XX/XX/year>, it has been 90 days and it is still not showing as paid in full, despite showing a XXXX balance.\", 'Company public response': 'None', 'Company': 'Maximus Federal Services, Inc.', 'State': 'NV', 'ZIP code': '891XX', 'Tags': 'None', 'Consumer consent provided?': 'Consent provided', 'Submitted via': 'Web', 'Date sent to company': '04/10/25', 'Company response to consumer': 'Closed with explanation', 'Timely response?': 'Yes', 'Consumer disputed?': 'N/A', 'Complaint ID': '12779260', '_id': 'cd62049c98a9487885771980af6504a3', '_collection_name': 'LoanComplaints'}, page_content=\"In my previous Complaint # XXXX I stated that student loan # XXXX is still not showing as being paid in full. I received a response but it still hasn't been corrected and the complaint was closed. I paid off loan # XXXX on XX/XX/year>, it has been 90 days and it is still not showing as paid in full, despite showing a XXXX balance.\"),\n",
              " Document(metadata={'source': './data/complaints.csv', 'row': 594, 'Date received': '04/12/25', 'Product': 'Student loan', 'Sub-product': 'Federal student loan servicing', 'Issue': 'Struggling to repay your loan', 'Sub-issue': 'Problem with forgiveness, cancellation, or discharge', 'Consumer complaint narrative': 'Thanksheres a professional version tailored for a formal complaint involving the XXXX  of I am submitting this complaint regarding the XXXX XXXX XXXX  and Mohela Loan Company due to serious concerns about their past and ongoing practices. Both entities have been the subject of multiple investigations and legal actions related to predatory lending, high-pressure recruitment tactics, and the dissemination of inaccurate or misleading information concerning student loans and repayment obligations. \\n\\nThese practices have misled many studentsincluding myselfinto taking on significant debt under false pretenses or without a clear understanding of the long-term financial impact. The resulting financial burden has had a lasting negative effect on students credit, financial stability, and overall well-being. \\n\\nI believe these actions demonstrate a pattern of misconduct that warrants further scrutiny and accountability, and I respectfully request that this complaint be investigated.', 'Company public response': 'None', 'Company': 'MOHELA', 'State': 'KY', 'ZIP code': '40258', 'Tags': 'None', 'Consumer consent provided?': 'Consent provided', 'Submitted via': 'Web', 'Date sent to company': '04/12/25', 'Company response to consumer': 'Closed with explanation', 'Timely response?': 'Yes', 'Consumer disputed?': 'N/A', 'Complaint ID': '12955953', '_id': '919f260e5aab4a40afd091fccc32cca9', '_collection_name': 'LoanComplaints'}, page_content='Thanksheres a professional version tailored for a formal complaint involving the XXXX  of I am submitting this complaint regarding the XXXX XXXX XXXX  and Mohela Loan Company due to serious concerns about their past and ongoing practices. Both entities have been the subject of multiple investigations and legal actions related to predatory lending, high-pressure recruitment tactics, and the dissemination of inaccurate or misleading information concerning student loans and repayment obligations. \\n\\nThese practices have misled many studentsincluding myselfinto taking on significant debt under false pretenses or without a clear understanding of the long-term financial impact. The resulting financial burden has had a lasting negative effect on students credit, financial stability, and overall well-being. \\n\\nI believe these actions demonstrate a pattern of misconduct that warrants further scrutiny and accountability, and I respectfully request that this complaint be investigated.'),\n",
              " Document(metadata={'source': './data/complaints.csv', 'row': 115, 'Date received': '04/25/25', 'Product': 'Student loan', 'Sub-product': 'Federal student loan servicing', 'Issue': 'Dealing with your lender or servicer', 'Sub-issue': \"Don't agree with the fees charged\", 'Consumer complaint narrative': 'Consumer Financial Protection Bureau XXXX. XXXX XXXXXXXX XXXX XXXX XXXX Dear Sir/Madam, I am writing to file a formal complaint regarding my student loans, as I am currently coming out of forbearance and have noticed some troubling discrepancies with my loan balances and interest rates. \\n\\nOver the years, my loans have been sold several times, which I understand may contribute to some of the confusion surrounding my account. However, I am concerned about the substantial increases in interest rates that I have seen on some of my loans. When I originally took out the loans, the interest rates were set at a standard percentage. However, it appears that these rates have significantly increased, which I believe is unfair and potentially in violation of the original terms of my loan agreements. \\n\\nGiven the financial strain I have faced in trying to keep up with payments, especially during and after forbearance, it is disheartening to see the interest rates skyrocketing and my balances growing despite my efforts to make payments. I find this situation to be unfair, and I believe that my loans should be handled in accordance with the terms originally agreed upon, without unjustified increases in interest. \\n\\nI respectfully request that the CFPB investigate my loans and help ensure that my balances and interest rates are accurate. I am also seeking guidance on what steps I can take to resolve this matter with my loan servicer.', 'Company public response': 'None', 'Company': 'Maximus Federal Services, Inc.', 'State': 'NV', 'ZIP code': '89148', 'Tags': 'Older American', 'Consumer consent provided?': 'Consent provided', 'Submitted via': 'Web', 'Date sent to company': '04/30/25', 'Company response to consumer': 'Closed with explanation', 'Timely response?': 'Yes', 'Consumer disputed?': 'N/A', 'Complaint ID': '13178964', '_id': '8913276cacf5463ebad743aecda59383', '_collection_name': 'LoanComplaints'}, page_content='Consumer Financial Protection Bureau XXXX. XXXX XXXXXXXX XXXX XXXX XXXX Dear Sir/Madam, I am writing to file a formal complaint regarding my student loans, as I am currently coming out of forbearance and have noticed some troubling discrepancies with my loan balances and interest rates. \\n\\nOver the years, my loans have been sold several times, which I understand may contribute to some of the confusion surrounding my account. However, I am concerned about the substantial increases in interest rates that I have seen on some of my loans. When I originally took out the loans, the interest rates were set at a standard percentage. However, it appears that these rates have significantly increased, which I believe is unfair and potentially in violation of the original terms of my loan agreements. \\n\\nGiven the financial strain I have faced in trying to keep up with payments, especially during and after forbearance, it is disheartening to see the interest rates skyrocketing and my balances growing despite my efforts to make payments. I find this situation to be unfair, and I believe that my loans should be handled in accordance with the terms originally agreed upon, without unjustified increases in interest. \\n\\nI respectfully request that the CFPB investigate my loans and help ensure that my balances and interest rates are accurate. I am also seeking guidance on what steps I can take to resolve this matter with my loan servicer.'),\n",
              " Document(metadata={'source': './data/complaints.csv', 'row': 98, 'Date received': '04/18/25', 'Product': 'Student loan', 'Sub-product': 'Federal student loan servicing', 'Issue': 'Struggling to repay your loan', 'Sub-issue': 'Problem with forgiveness, cancellation, or discharge', 'Consumer complaint narrative': 'Report student loan servicer misconduct, including errors in loan balances, misapplied payments, and wrongful denials of repayment plans.', 'Company public response': 'None', 'Company': 'SOFI TECHNOLOGIES, INC.', 'State': 'NY', 'ZIP code': '11434', 'Tags': 'None', 'Consumer consent provided?': 'Consent provided', 'Submitted via': 'Web', 'Date sent to company': '04/18/25', 'Company response to consumer': 'Closed with explanation', 'Timely response?': 'Yes', 'Consumer disputed?': 'N/A', 'Complaint ID': '13056217', '_id': 'f5257937dce94d129860e041500f478e', '_collection_name': 'LoanComplaints'}, page_content='Report student loan servicer misconduct, including errors in loan balances, misapplied payments, and wrongful denials of repayment plans.'),\n",
              " Document(metadata={'source': './data/complaints.csv', 'row': 270, 'Date received': '05/07/25', 'Product': 'Student loan', 'Sub-product': 'Federal student loan servicing', 'Issue': 'Dealing with your lender or servicer', 'Sub-issue': 'Received bad information about your loan', 'Consumer complaint narrative': 'Missing XXXX XXXX for XXXX Dear CFPB, I am writing to express my serious concern about the missing loan history for my account, XXXX. I recently accessed my account and discovered that my payment history and status for my loans have not been reported accurately. Specifically, ( XXXX XX/XX/XXXX ) is missing when I had periods of payment, deferment, and or forbearance. The missing periods are keeping me from qualifying for XXXX XXXX XXXX XXXX due to this error that has not been corrected by Nelnet or ( previous servicer ) I have already contacted the customer service department on XX/XX/XXXX, to report this issue but was given no resolution. Therefore, I am formally requesting that you investigate this matter and take immediate action to correct the missing loan history on my account. I have attached copies of the missing years to provide further evidence of my loan disbursement dates. Thank you for your time and attention to this important matter.', 'Company public response': 'None', 'Company': 'Nelnet, Inc.', 'State': 'GA', 'ZIP code': '30126', 'Tags': 'None', 'Consumer consent provided?': 'Consent provided', 'Submitted via': 'Web', 'Date sent to company': '05/07/25', 'Company response to consumer': 'Closed with explanation', 'Timely response?': 'Yes', 'Consumer disputed?': 'N/A', 'Complaint ID': '13393574', '_id': '323daa83636c4b65afbaac4d204f297e', '_collection_name': 'LoanComplaints'}, page_content='Missing XXXX XXXX for XXXX Dear CFPB, I am writing to express my serious concern about the missing loan history for my account, XXXX. I recently accessed my account and discovered that my payment history and status for my loans have not been reported accurately. Specifically, ( XXXX XX/XX/XXXX ) is missing when I had periods of payment, deferment, and or forbearance. The missing periods are keeping me from qualifying for XXXX XXXX XXXX XXXX due to this error that has not been corrected by Nelnet or ( previous servicer ) I have already contacted the customer service department on XX/XX/XXXX, to report this issue but was given no resolution. Therefore, I am formally requesting that you investigate this matter and take immediate action to correct the missing loan history on my account. I have attached copies of the missing years to provide further evidence of my loan disbursement dates. Thank you for your time and attention to this important matter.'),\n",
              " Document(metadata={'source': './data/complaints.csv', 'row': 619, 'Date received': '05/07/25', 'Product': 'Student loan', 'Sub-product': 'Federal student loan servicing', 'Issue': 'Incorrect information on your report', 'Sub-issue': 'Information belongs to someone else', 'Consumer complaint narrative': \"I noticed an erroneous loan applied to my credit. It's from EdFinancial Services Acct XXXX XXXX, phone number XXXX for {$1700.00}. I disputed the charge, as I never applied for a student loan. The dispute was denied from EdFinancial. On XX/XX/year> I once again disputed the claim and called EdFinancial. They informed me that it was up to me to get this corrected and that I needed to fill out their forms ( of which they have yet to send to me ) and file a police report. I currently have a police report on file with the XXXX XXXX XXXX XXXX XXXX XXXX XXXX. Immediately after speaking with EdFinancial, another person from XXXX XXXX called from XXXX asking about the loan. This all seems very suspicious. Also, the address on the loan was XXXXXXXX XXXX XXXX XXXX XXXX XXXXXXXX, CA XXXX ( NOT MY ADDRESS ) and email XXXX ( NOT MY EMAIL ). The loan was for XXXX XXXX XXXX XXXX.\", 'Company public response': 'None', 'Company': 'EdFinancial Services', 'State': 'TX', 'ZIP code': '77450', 'Tags': 'None', 'Consumer consent provided?': 'Consent provided', 'Submitted via': 'Web', 'Date sent to company': '05/07/25', 'Company response to consumer': 'Closed with explanation', 'Timely response?': 'Yes', 'Consumer disputed?': 'N/A', 'Complaint ID': '13385643', '_id': '7a41179e564d43a4b943b717ee44fcc1', '_collection_name': 'LoanComplaints'}, page_content=\"I noticed an erroneous loan applied to my credit. It's from EdFinancial Services Acct XXXX XXXX, phone number XXXX for {$1700.00}. I disputed the charge, as I never applied for a student loan. The dispute was denied from EdFinancial. On XX/XX/year> I once again disputed the claim and called EdFinancial. They informed me that it was up to me to get this corrected and that I needed to fill out their forms ( of which they have yet to send to me ) and file a police report. I currently have a police report on file with the XXXX XXXX XXXX XXXX XXXX XXXX XXXX. Immediately after speaking with EdFinancial, another person from XXXX XXXX called from XXXX asking about the loan. This all seems very suspicious. Also, the address on the loan was XXXXXXXX XXXX XXXX XXXX XXXX XXXXXXXX, CA XXXX ( NOT MY ADDRESS ) and email XXXX ( NOT MY EMAIL ). The loan was for XXXX XXXX XXXX XXXX.\"),\n",
              " Document(metadata={'source': './data/complaints.csv', 'row': 645, 'Date received': '03/28/25', 'Product': 'Student loan', 'Sub-product': 'Federal student loan servicing', 'Issue': 'Dealing with your lender or servicer', 'Sub-issue': 'Received bad information about your loan', 'Consumer complaint narrative': 'Loan Servicer Providing False Information Regarding Interest Accrual ( CFPB Complaint # XXXX ) I am submitting this complaint regarding my student loan account due to inaccurate information provided by my loan servicer. This is a follow-up to my previous complaint ( XXXX ) # XXXX. \\n\\nContrary to the loan servicers response, interest did accrue on my loans between XX/XX/year>, and XX/XX/year>, as clearly reflected on my loan statements ( which I have attached ). This directly contradicts their claim that my account has been in a general forbearance with a 0 % interest rate since XX/XX/year>. \\n\\nTheir response to my previous inquiry states : \" As of XX/XX/year>, your account has been in a general forbearance with a 0 % interest rate. \\'\\' However, my loan statements prove that interest was actively accruing during this period. This misinformation has financial implications for my loan balance. \\n\\nI request the following actions : XXXX ) Correction of my loan status to accurately reflect whether my loans were truly in a 0 % interest forbearance.\\n\\n2 ) A full explanation of why interest accrued despite their claim of a 0 % rate.\\n\\n3 ) Adjustment of my loan balance if interest was incorrectly charged.\\n\\nThis misinformation is unacceptable, and I urge the CFPB to investigate this issue to ensure accurate and honest loan servicing practices. Please let me know what further steps I need to take to resolve this matter. \\n\\nThank you for your time and assistance.', 'Company public response': 'None', 'Company': 'Maximus Federal Services, Inc.', 'State': 'NJ', 'ZIP code': '08054', 'Tags': 'None', 'Consumer consent provided?': 'Consent provided', 'Submitted via': 'Web', 'Date sent to company': '03/28/25', 'Company response to consumer': 'Closed with explanation', 'Timely response?': 'Yes', 'Consumer disputed?': 'N/A', 'Complaint ID': '12718176', '_id': '46906b5864a9473081822f11eaa2b06b', '_collection_name': 'LoanComplaints'}, page_content='Loan Servicer Providing False Information Regarding Interest Accrual ( CFPB Complaint # XXXX ) I am submitting this complaint regarding my student loan account due to inaccurate information provided by my loan servicer. This is a follow-up to my previous complaint ( XXXX ) # XXXX. \\n\\nContrary to the loan servicers response, interest did accrue on my loans between XX/XX/year>, and XX/XX/year>, as clearly reflected on my loan statements ( which I have attached ). This directly contradicts their claim that my account has been in a general forbearance with a 0 % interest rate since XX/XX/year>. \\n\\nTheir response to my previous inquiry states : \" As of XX/XX/year>, your account has been in a general forbearance with a 0 % interest rate. \\'\\' However, my loan statements prove that interest was actively accruing during this period. This misinformation has financial implications for my loan balance. \\n\\nI request the following actions : XXXX ) Correction of my loan status to accurately reflect whether my loans were truly in a 0 % interest forbearance.\\n\\n2 ) A full explanation of why interest accrued despite their claim of a 0 % rate.\\n\\n3 ) Adjustment of my loan balance if interest was incorrectly charged.\\n\\nThis misinformation is unacceptable, and I urge the CFPB to investigate this issue to ensure accurate and honest loan servicing practices. Please let me know what further steps I need to take to resolve this matter. \\n\\nThank you for your time and assistance.'),\n",
              " Document(metadata={'source': './data/complaints.csv', 'row': 78, 'Date received': '04/28/25', 'Product': 'Student loan', 'Sub-product': 'Federal student loan servicing', 'Issue': 'Dealing with your lender or servicer', 'Sub-issue': 'Trouble with how payments are being handled', 'Consumer complaint narrative': \"I sent a payment of {$1000.00} on XX/XX/year>. It posted to my bank account on XX/XX/year>. That amount was NOT listed in my Payment History. Instead, {$810.00} was. Consequently, {$200.00} is missing from my account, and the interest on one of my loans went unpaid. The amount was never returned to me. It simply vanished. \\n\\nOn XX/XX/year>, I sent four payments ( i.e., {$38.00}, {$24.00}, {$27.00}, and {$29.00} ) totaling {$110.00}. However, only {$90.00} was listed in my Payment History. {$29.00} is missing from my account. The same loan that was not paid on XX/XX/year> was also not paid on XX/XX/year>. \\n\\nThis seems to be a recurring problem with this company, as I've submitted the same complaint in the past.\", 'Company public response': 'None', 'Company': 'EdFinancial Services', 'State': 'SC', 'ZIP code': '295XX', 'Tags': 'None', 'Consumer consent provided?': 'Consent provided', 'Submitted via': 'Web', 'Date sent to company': '04/28/25', 'Company response to consumer': 'Closed with explanation', 'Timely response?': 'Yes', 'Consumer disputed?': 'N/A', 'Complaint ID': '13211199', '_id': '73d2dd5edf294a17abb426c762274c7d', '_collection_name': 'LoanComplaints'}, page_content=\"I sent a payment of {$1000.00} on XX/XX/year>. It posted to my bank account on XX/XX/year>. That amount was NOT listed in my Payment History. Instead, {$810.00} was. Consequently, {$200.00} is missing from my account, and the interest on one of my loans went unpaid. The amount was never returned to me. It simply vanished. \\n\\nOn XX/XX/year>, I sent four payments ( i.e., {$38.00}, {$24.00}, {$27.00}, and {$29.00} ) totaling {$110.00}. However, only {$90.00} was listed in my Payment History. {$29.00} is missing from my account. The same loan that was not paid on XX/XX/year> was also not paid on XX/XX/year>. \\n\\nThis seems to be a recurring problem with this company, as I've submitted the same complaint in the past.\"),\n",
              " Document(metadata={'source': './data/complaints.csv', 'row': 154, 'Date received': '05/01/25', 'Product': 'Student loan', 'Sub-product': 'Federal student loan servicing', 'Issue': 'Incorrect information on your report', 'Sub-issue': 'Information belongs to someone else', 'Consumer complaint narrative': 'The loan amounts are incorrect that were taken out ( I have two loans ). Then theres a completely separate loan that isnt mine at all but it states that it was on the same day that I did apply for a loan. I reported to the lender and XXXX I reported to my institution and the credit bureaus.', 'Company public response': 'None', 'Company': 'Maximus Federal Services, Inc.', 'State': 'FL', 'ZIP code': '32725', 'Tags': 'None', 'Consumer consent provided?': 'Consent provided', 'Submitted via': 'Web', 'Date sent to company': '05/06/25', 'Company response to consumer': 'Closed with explanation', 'Timely response?': 'Yes', 'Consumer disputed?': 'N/A', 'Complaint ID': '13289015', '_id': '3e5355c31baf4ebcaaf42d1532ffb716', '_collection_name': 'LoanComplaints'}, page_content='The loan amounts are incorrect that were taken out ( I have two loans ). Then theres a completely separate loan that isnt mine at all but it states that it was on the same day that I did apply for a loan. I reported to the lender and XXXX I reported to my institution and the credit bureaus.'),\n",
              " Document(metadata={'source': './data/complaints.csv', 'row': 810, 'Date received': '04/18/25', 'Product': 'Student loan', 'Sub-product': 'Federal student loan servicing', 'Issue': 'Incorrect information on your report', 'Sub-issue': 'Account status incorrect', 'Consumer complaint narrative': 'Subject : Inaccurate Reporting of Student Loan Status and Failure to Acknowledge XXXX  Progress Complaint : I am filing a complaint regarding the mismanagement of my federal student loans by my servicer, Edfinancial Services. \\n\\nDespite having made XXXX qualifying payments under an Income-Driven Repayment ( XXXX ) plan ( as acknowledged on my loan dashboard ), I am being reported as having XXXX qualifying payments toward XXXX XXXX XXXX XXXX XXXX XXXX XXXX Additionally, negative marks, including possible delinquency or default, were reported to credit bureaus without adequate notice or opportunity to cure. \\n\\nNo Delinquency Notice Received I was never notified of any late payment, missed payment, or default. Under the Fair Credit Reporting Act ( FCRA ) and Higher Education Act, I should have been properly informed before any negative credit reporting. This lack of notice is a clear violation of my consumer rights. \\n\\nActively in XXXX & XXXX Process I submitted an XXXX XXXX XXXX XXXX ) application on XX/XX/year>, specifically requesting the lowest monthly payment, which qualifies me for the XXXX plan. I also submitted my XXXX Employment Certification form, signed by my employer. During this time, my loans were under review, and therefore should not have been reported as delinquent. \\n\\nI submitted a dispute with all three major credit bureaus ( XXXX XXXX XXXX  ) and recently submitted both an XXXX request and a XXXX Employment Certification Form on XX/XX/year>.', 'Company public response': 'None', 'Company': 'EdFinancial Services', 'State': 'IN', 'ZIP code': '47130', 'Tags': 'None', 'Consumer consent provided?': 'Consent provided', 'Submitted via': 'Web', 'Date sent to company': '04/18/25', 'Company response to consumer': 'Closed with explanation', 'Timely response?': 'Yes', 'Consumer disputed?': 'N/A', 'Complaint ID': '13056764', '_id': '8840e058eade4ca6b8cbdf3c00e3318d', '_collection_name': 'LoanComplaints'}, page_content='Subject : Inaccurate Reporting of Student Loan Status and Failure to Acknowledge XXXX  Progress Complaint : I am filing a complaint regarding the mismanagement of my federal student loans by my servicer, Edfinancial Services. \\n\\nDespite having made XXXX qualifying payments under an Income-Driven Repayment ( XXXX ) plan ( as acknowledged on my loan dashboard ), I am being reported as having XXXX qualifying payments toward XXXX XXXX XXXX XXXX XXXX XXXX XXXX Additionally, negative marks, including possible delinquency or default, were reported to credit bureaus without adequate notice or opportunity to cure. \\n\\nNo Delinquency Notice Received I was never notified of any late payment, missed payment, or default. Under the Fair Credit Reporting Act ( FCRA ) and Higher Education Act, I should have been properly informed before any negative credit reporting. This lack of notice is a clear violation of my consumer rights. \\n\\nActively in XXXX & XXXX Process I submitted an XXXX XXXX XXXX XXXX ) application on XX/XX/year>, specifically requesting the lowest monthly payment, which qualifies me for the XXXX plan. I also submitted my XXXX Employment Certification form, signed by my employer. During this time, my loans were under review, and therefore should not have been reported as delinquent. \\n\\nI submitted a dispute with all three major credit bureaus ( XXXX XXXX XXXX  ) and recently submitted both an XXXX request and a XXXX Employment Certification Form on XX/XX/year>.')]"
            ]
          },
          "execution_count": 27,
          "metadata": {},
          "output_type": "execute_result"
        }
      ],
      "source": [
        "# naive_result['context']"
      ]
    },
    {
      "cell_type": "markdown",
      "metadata": {
        "id": "Q-dcbFn2vpZF"
      },
      "source": [
        "## Task 6: Contextual Compression (Using Reranking)\n",
        "\n",
        "Contextual Compression is a fairly straightforward idea: We want to \"compress\" our retrieved context into just the most useful bits.\n",
        "\n",
        "There are a few ways we can achieve this - but we're going to look at a specific example called reranking.\n",
        "\n",
        "The basic idea here is this:\n",
        "\n",
        "- We retrieve lots of documents that are very likely related to our query vector\n",
        "- We \"compress\" those documents into a smaller set of *more* related documents using a reranking algorithm.\n",
        "\n",
        "We'll be leveraging Cohere's Rerank model for our reranker today!\n",
        "\n",
        "All we need to do is the following:\n",
        "\n",
        "- Create a basic retriever\n",
        "- Create a compressor (reranker, in this case)\n",
        "\n",
        "That's it!\n",
        "\n",
        "Let's see it in the code below!"
      ]
    },
    {
      "cell_type": "code",
      "execution_count": 14,
      "metadata": {
        "id": "psHvO2K1v_ZQ"
      },
      "outputs": [],
      "source": [
        "from langchain.retrievers.contextual_compression import ContextualCompressionRetriever\n",
        "from langchain_cohere import CohereRerank\n",
        "\n",
        "compressor = CohereRerank(model=\"rerank-v3.5\")\n",
        "compression_retriever = ContextualCompressionRetriever(\n",
        "    base_compressor=compressor, base_retriever=naive_retriever\n",
        ")"
      ]
    },
    {
      "cell_type": "markdown",
      "metadata": {
        "id": "_TA9RB2x-j7P"
      },
      "source": [
        "Let's create our chain again, and see how this does!"
      ]
    },
    {
      "cell_type": "code",
      "execution_count": 15,
      "metadata": {
        "id": "1BXqmxvHwX6T"
      },
      "outputs": [],
      "source": [
        "contextual_compression_retrieval_chain = (\n",
        "    {\"context\": itemgetter(\"question\") | compression_retriever, \"question\": itemgetter(\"question\")}\n",
        "    | RunnablePassthrough.assign(context=itemgetter(\"context\"))\n",
        "    | {\"response\": rag_prompt | chat_model, \"context\": itemgetter(\"context\")}\n",
        ")"
      ]
    },
    {
      "cell_type": "code",
      "execution_count": null,
      "metadata": {
        "colab": {
          "base_uri": "https://localhost:8080/",
          "height": 36
        },
        "id": "V3iGpokswcBb",
        "outputId": "f15d2aa1-5e8b-417d-f623-eb835d072e59"
      },
      "outputs": [
        {
          "data": {
            "text/plain": [
              "'Based on the provided information, a common issue with loans, particularly student loans, is dealing with errors and mismanagement by lenders or servicers. This includes problems such as receiving incorrect information about the loan, errors in balances, misapplied payments, wrongful denials of payment plans, and mishandling of the loan data. \\n\\nIn summary, one of the most common issues is **mismanagement and errors related to loan balances, payment application, and communication from lenders or servicers**.'"
            ]
          },
          "execution_count": 30,
          "metadata": {},
          "output_type": "execute_result"
        }
      ],
      "source": [
        "# contextual_compression_retrieval_chain.invoke({\"question\" : \"What is the most common issue with loans?\"})[\"response\"].content"
      ]
    },
    {
      "cell_type": "code",
      "execution_count": null,
      "metadata": {
        "colab": {
          "base_uri": "https://localhost:8080/",
          "height": 53
        },
        "id": "7u_k0i4OweUd",
        "outputId": "be5fccc8-2352-4189-c524-bbeaa28cf799"
      },
      "outputs": [
        {
          "data": {
            "text/plain": [
              "'Based on the provided information, yes, some complaints did not get handled in a timely manner. For example, the complaint about the student loan account review has been open since some earlier date (indicated as XXXX in the documents) and has not been resolved after nearly 18 months, indicating a significant delay. Additionally, the complaint about payments not being applied to the account mentions ongoing issues over 2-3 weeks. Although the responses from the companies were marked as \"Closed with explanation\" and responses were \"Yes\" in terms of timeliness, the ongoing unresolved issues suggest that some complaints experienced delays or were not fully resolved promptly.'"
            ]
          },
          "execution_count": 31,
          "metadata": {},
          "output_type": "execute_result"
        }
      ],
      "source": [
        "# contextual_compression_retrieval_chain.invoke({\"question\" : \"Did any complaints not get handled in a timely manner?\"})[\"response\"].content"
      ]
    },
    {
      "cell_type": "code",
      "execution_count": null,
      "metadata": {
        "colab": {
          "base_uri": "https://localhost:8080/",
          "height": 70
        },
        "id": "zn1EqaGqweXN",
        "outputId": "42bc5972-4164-46eb-f49d-4272f39bb89b"
      },
      "outputs": [
        {
          "data": {
            "text/plain": [
              "'People failed to pay back their loans for several reasons based on the provided context:\\n\\n1. **Lack of Clear Communication and Awareness:** Some borrowers were unaware they had to repay their loans or were not informed about repayment requirements. For example, a borrower was unaware until a certain point that they needed to start paying back their financial aid, leading to confusion and missed payments.\\n\\n2. **Issues with Loan Transfer and Notification:** Borrowers reported that loans were transferred between servicers (e.g., to NelNet) without proper notification, and they did not receive timely or adequate communication about repayment obligations.\\n\\n3. **Difficulty with Payment Plans and Account Access:** Borrowers experienced technical issues, such as being locked out of online accounts or receiving inconsistent or incorrect account information, which hindered their ability to stay current on payments.\\n\\n4. **Accumulation of Interest and Loan Management Challenges:** Many borrowers had limited payment options (e.g., only forbearance or deferment) that allowed interest to continue accruing, sometimes resulting in their total debt increasing despite payments being made.\\n\\n5. **Financial Hardship and Unmanageable Debt:** Borrowers found it difficult to make payments due to stagnant wages, inflation, or other financial hardships. Lowering payments often resulted in interest accumulating faster than they could pay down the balance, extending repayment periods and increasing total debt.\\n\\n6. **Misleading or Insufficient Information about Loan Terms:** A lack of transparency about interest, repayment plans, and loan details led borrowers to underestimate the difficulty or misunderstand their obligations.\\n\\n7. **Administrative Failures or Lack of Support:** Failure to notify borrowers about payment deadlines, changes in loan servicing, or options available contributed to missed or delayed payments.\\n\\nIn summary, a combination of poor communication, administrative issues, financial hardship, and the complexities of loan management contributed to people being unable to effectively pay back their loans.'"
            ]
          },
          "execution_count": 32,
          "metadata": {},
          "output_type": "execute_result"
        }
      ],
      "source": [
        "# contextual_compression_retrieval_chain.invoke({\"question\" : \"Why did people fail to pay back their loans?\"})[\"response\"].content"
      ]
    },
    {
      "cell_type": "markdown",
      "metadata": {
        "id": "OEbT0g2S-mZ4"
      },
      "source": [
        "We'll need to rely on something like Ragas to help us get a better sense of how this is performing overall - but it \"feels\" better!"
      ]
    },
    {
      "cell_type": "markdown",
      "metadata": {
        "id": "qqbghrBEQNn5"
      },
      "source": [
        "## Task 7: Multi-Query Retriever\n",
        "\n",
        "Typically in RAG we have a single query - the one provided by the user.\n",
        "\n",
        "What if we had....more than one query!\n",
        "\n",
        "In essence, a Multi-Query Retriever works by:\n",
        "\n",
        "1. Taking the original user query and creating `n` number of new user queries using an LLM.\n",
        "2. Retrieving documents for each query.\n",
        "3. Using all unique retrieved documents as context\n",
        "\n",
        "So, how is it to set-up? Not bad! Let's see it down below!\n",
        "\n"
      ]
    },
    {
      "cell_type": "code",
      "execution_count": 16,
      "metadata": {
        "id": "pfM26ReXQjzU"
      },
      "outputs": [],
      "source": [
        "from langchain.retrievers.multi_query import MultiQueryRetriever\n",
        "\n",
        "multi_query_retriever = MultiQueryRetriever.from_llm(\n",
        "    retriever=naive_retriever, llm=chat_model\n",
        ")"
      ]
    },
    {
      "cell_type": "code",
      "execution_count": 17,
      "metadata": {
        "id": "1vRc129jQ5WW"
      },
      "outputs": [],
      "source": [
        "multi_query_retrieval_chain = (\n",
        "    {\"context\": itemgetter(\"question\") | multi_query_retriever, \"question\": itemgetter(\"question\")}\n",
        "    | RunnablePassthrough.assign(context=itemgetter(\"context\"))\n",
        "    | {\"response\": rag_prompt | chat_model, \"context\": itemgetter(\"context\")}\n",
        ")"
      ]
    },
    {
      "cell_type": "code",
      "execution_count": null,
      "metadata": {
        "colab": {
          "base_uri": "https://localhost:8080/",
          "height": 53
        },
        "id": "CGgNuOb3Q3M9",
        "outputId": "c5273ecf-da35-40b8-fbdb-0f8beab425f7"
      },
      "outputs": [
        {
          "data": {
            "text/plain": [
              "'The most common issue with loans, based on the provided complaints, appears to be problems with how lenders or servicers handle borrower accounts. This includes errors or discrepancies in loan balances, interest calculations, and account statuses, as well as misapplication of payments, incorrect reporting to credit bureaus, and inadequate communication or lack of transparency about loan terms, transfer of servicing, or account updates. Many complaints highlight issues such as unauthorized interest accrual, mismanagement during loan transfers, errors in credit reporting, and poor communication regarding loan modifications or statuses.'"
            ]
          },
          "execution_count": 35,
          "metadata": {},
          "output_type": "execute_result"
        }
      ],
      "source": [
        "# multi_query_retrieval_chain.invoke({\"question\" : \"What is the most common issue with loans?\"})[\"response\"].content"
      ]
    },
    {
      "cell_type": "code",
      "execution_count": null,
      "metadata": {
        "colab": {
          "base_uri": "https://localhost:8080/",
          "height": 36
        },
        "id": "aAlSthxrRDBC",
        "outputId": "230ff807-23ae-4d25-8d11-cfdbed0b77cb"
      },
      "outputs": [
        {
          "data": {
            "text/plain": [
              "'Based on the provided complaints, yes, some complaints did not get handled in a timely manner. Several examples include:\\n\\n- A complaint regarding a student loan application that remained unprocessed for over 16 months without resolution or communication from the company.\\n- Multiple instances where consumers reported that their issues, such as disputes over credit reporting, loan discharges, or account errors, were not addressed promptly, with follow-ups indicating delays of over a year or more.\\n- A specific complaint highlighted that a complaint filed with the CFPB had not received a response after over 16 months.\\n- Another complaint noted a delay of nearly 18 months with no resolution despite multiple follow-ups.\\n\\nWhile some complaints were marked as \"timely response? Yes,\" the narratives suggest that many consumers experienced significant delays or lack of response over extended periods.'"
            ]
          },
          "execution_count": 36,
          "metadata": {},
          "output_type": "execute_result"
        }
      ],
      "source": [
        "# multi_query_retrieval_chain.invoke({\"question\" : \"Did any complaints not get handled in a timely manner?\"})[\"response\"].content"
      ]
    },
    {
      "cell_type": "code",
      "execution_count": null,
      "metadata": {
        "colab": {
          "base_uri": "https://localhost:8080/",
          "height": 88
        },
        "id": "Uv1mpCK8REs4",
        "outputId": "00fbc22a-ed9b-4613-9695-0b179e3f8369"
      },
      "outputs": [
        {
          "data": {
            "text/plain": [
              "\"People failed to pay back their loans primarily due to a combination of systemic issues and servicing practices, including:\\n\\n1. **Misleading or Bad Information from Servicers:** Some borrowers were not properly informed about payment schedules, delinquency status, or available repayment options such as income-driven plans or rehabilitation. They relied on servicers' guidance, which often led to unfavorable outcomes like long-term forbearances or improper consolidations, resulting in increased balances and interest.\\n\\n2. **Forbearance Steering and Lack of Alternatives:** Borrowers reported being repeatedly placed into forbearance without adequate notification or explanation of the consequences, such as interest capitalization and reset of forgiveness timelines. When forbearances expired, they faced pressure to consolidate into larger loans or make unaffordable payments, often under false urgency, which contributed to default or financial hardship.\\n\\n3. **Errors and Inaccurate Information:** There are instances of incorrect loan reporting, missing or inconsistent payment histories, and inadequate communication about loan status, which caused confusion and unintentional default.\\n\\n4. **Servicing Failures and Lack of Documentation:** Systemic failures in record-keeping and communication meant borrowers couldn't access accurate information about their loans, further complicating repayment efforts.\\n\\n5. **Predatory and Coercive Practices:** Several complaints highlight practices like mismanagement, over-accumulation of interest, and undue pressure to consolidate or pay unaffordable amounts, which discouraged repayment or led to default.\\n\\nIn summary, these systemic issues, coupled with inadequate borrower education and deceptive servicing practices, have been significant factors why people failed to pay back their loans.\""
            ]
          },
          "execution_count": 37,
          "metadata": {},
          "output_type": "execute_result"
        }
      ],
      "source": [
        "# multi_query_retrieval_chain.invoke({\"question\" : \"Why did people fail to pay back their loans?\"})[\"response\"].content"
      ]
    },
    {
      "cell_type": "code",
      "execution_count": 18,
      "metadata": {},
      "outputs": [
        {
          "name": "stdout",
          "output_type": "stream",
          "text": [
            "🔁 Reformulated Queries:\n",
            "- What are the primary challenges people face when applying for or managing loans?  \n",
            "- Can you identify the most frequently reported problems associated with loans?  \n",
            "- What are the common pitfalls or issues encountered in loan agreements or repayment processes?\n"
          ]
        }
      ],
      "source": [
        "from langchain_core.callbacks import CallbackManagerForRetrieverRun\n",
        "\n",
        "# You must pass a dummy run manager\n",
        "run_manager = CallbackManagerForRetrieverRun.get_noop_manager()\n",
        "\n",
        "query = \"What is the most common issue with loans?\"\n",
        "reformulated_queries = multi_query_retriever.generate_queries(query, run_manager)\n",
        "\n",
        "print(\"🔁 Reformulated Queries:\")\n",
        "for q in reformulated_queries:\n",
        "    print(\"-\", q)"
      ]
    },
    {
      "cell_type": "code",
      "execution_count": null,
      "metadata": {},
      "outputs": [
        {
          "name": "stdout",
          "output_type": "stream",
          "text": [
            "🔁 Reformulated Queries:\n",
            "- 1. What are the typical problems borrowers face with loans?  \n",
            "- 2. Which issues tend to occur most frequently during the loan repayment process?  \n",
            "- 3. What are the main challenges or complications commonly associated with loans?\n"
          ]
        }
      ],
      "source": [
        "# from langchain_core.callbacks import CallbackManagerForRetrieverRun\n",
        "\n",
        "# # You must pass a dummy run manager\n",
        "# run_manager = CallbackManagerForRetrieverRun.get_noop_manager()\n",
        "\n",
        "# query = \"What is the most common issue with loans?\"\n",
        "# reformulated_queries = multi_query_retriever.generate_queries(query, run_manager)\n",
        "\n",
        "# print(\"🔁 Reformulated Queries:\")\n",
        "# for q in reformulated_queries:\n",
        "#     print(\"-\", q)"
      ]
    },
    {
      "cell_type": "markdown",
      "metadata": {},
      "source": [
        "#### ❓ Question #2:\n",
        "\n",
        "Explain how generating multiple reformulations of a user query can improve recall.\n",
        "\n",
        "##### ✅ Answer:\n",
        "\n",
        "Generating multiple reformulations of a user query can improve **recall** by increasing the likelihood of retrieving all relevant documents, even if they use different wording or phrasing than the original query.\n",
        "\n",
        "Here’s how it helps:\n",
        "\n",
        "1. **Overcomes vocabulary mismatch**  \n",
        "   Reformulations can use synonyms or alternative expressions, helping the retriever match documents that might not share exact words with the original query.\n",
        "\n",
        "2. **Expands semantic coverage**  \n",
        "   Each reformulated query may emphasize a different aspect of the original intent, allowing the retriever to surface diverse but relevant content.\n",
        "\n",
        "3. **Mitigates retriever sensitivity to phrasing**  \n",
        "   Embedding-based or sparse retrieval models often perform inconsistently when queries are phrased differently. Multiple reformulations reduce the risk of missing relevant results due to one poorly-phrased query.\n",
        "\n",
        "4. **Aggregates broader evidence**  \n",
        "   By combining documents retrieved from all reformulations, the system builds a more comprehensive context pool for answering the original question.\n",
        "\n",
        "✅ As a result, the multi-query approach improves the **robustness and completeness** of Retrieval-Augmented Generation (RAG) systems by reducing missed relevant content.\n"
      ]
    },
    {
      "cell_type": "markdown",
      "metadata": {
        "id": "EDEawBf_d_3G"
      },
      "source": [
        "## Task 8: Parent Document Retriever\n",
        "\n",
        "A \"small-to-big\" strategy - the Parent Document Retriever works based on a simple strategy:\n",
        "\n",
        "1. Each un-split \"document\" will be designated as a \"parent document\" (You could use larger chunks of document as well, but our data format allows us to consider the overall document as the parent chunk)\n",
        "2. Store those \"parent documents\" in a memory store (not a VectorStore)\n",
        "3. We will chunk each of those documents into smaller documents, and associate them with their respective parents, and store those in a VectorStore. We'll call those \"child chunks\".\n",
        "4. When we query our Retriever, we will do a similarity search comparing our query vector to the \"child chunks\".\n",
        "5. Instead of returning the \"child chunks\", we'll return their associated \"parent chunks\".\n",
        "\n",
        "Okay, maybe that was a few steps - but the basic idea is this:\n",
        "\n",
        "- Search for small documents\n",
        "- Return big documents\n",
        "\n",
        "The intuition is that we're likely to find the most relevant information by limiting the amount of semantic information that is encoded in each embedding vector - but we're likely to miss relevant surrounding context if we only use that information.\n",
        "\n",
        "Let's start by creating our \"parent documents\" and defining a `RecursiveCharacterTextSplitter`."
      ]
    },
    {
      "cell_type": "code",
      "execution_count": 19,
      "metadata": {
        "id": "qJ53JJuMd_ZH"
      },
      "outputs": [],
      "source": [
        "from langchain.retrievers import ParentDocumentRetriever\n",
        "from langchain.storage import InMemoryStore\n",
        "from langchain_text_splitters import RecursiveCharacterTextSplitter\n",
        "from qdrant_client import QdrantClient, models\n",
        "\n",
        "parent_docs = loan_docs\n",
        "child_splitter = RecursiveCharacterTextSplitter(chunk_size=750)"
      ]
    },
    {
      "cell_type": "markdown",
      "metadata": {
        "id": "oOpXfVUH3gL3"
      },
      "source": [
        "We'll need to set up a new QDrant vectorstore - and we'll use another useful pattern to do so!\n",
        "\n",
        "> NOTE: We are manually defining our embedding dimension, you'll need to change this if you're using a different embedding model."
      ]
    },
    {
      "cell_type": "code",
      "execution_count": 20,
      "metadata": {
        "colab": {
          "base_uri": "https://localhost:8080/"
        },
        "id": "rzFc-_9HlGQ-",
        "outputId": "223662dd-c36f-42f7-d1b0-b086e571484e"
      },
      "outputs": [],
      "source": [
        "from langchain_qdrant import QdrantVectorStore\n",
        "\n",
        "client = QdrantClient(location=\":memory:\")\n",
        "\n",
        "client.create_collection(\n",
        "    collection_name=\"full_documents\",\n",
        "    vectors_config=models.VectorParams(size=1536, distance=models.Distance.COSINE)\n",
        ")\n",
        "\n",
        "parent_document_vectorstore = QdrantVectorStore(\n",
        "    collection_name=\"full_documents\", embedding=OpenAIEmbeddings(model=\"text-embedding-3-small\"), client=client\n",
        ")"
      ]
    },
    {
      "cell_type": "markdown",
      "metadata": {
        "id": "sf_g95FA3s6w"
      },
      "source": [
        "Now we can create our `InMemoryStore` that will hold our \"parent documents\" - and build our retriever!"
      ]
    },
    {
      "cell_type": "code",
      "execution_count": 21,
      "metadata": {
        "id": "BpWVjPf4fLUp"
      },
      "outputs": [],
      "source": [
        "store = InMemoryStore()\n",
        "\n",
        "parent_document_retriever = ParentDocumentRetriever(\n",
        "    vectorstore = parent_document_vectorstore,\n",
        "    docstore=store,\n",
        "    child_splitter=child_splitter,\n",
        ")"
      ]
    },
    {
      "cell_type": "markdown",
      "metadata": {
        "id": "KoYmSWfE32Zo"
      },
      "source": [
        "By default, this is empty as we haven't added any documents - let's add some now!"
      ]
    },
    {
      "cell_type": "code",
      "execution_count": 22,
      "metadata": {
        "id": "iQ2ZzfKigMZc"
      },
      "outputs": [],
      "source": [
        "parent_document_retriever.add_documents(parent_docs, ids=None)"
      ]
    },
    {
      "cell_type": "markdown",
      "metadata": {
        "id": "bI7Tip1335rE"
      },
      "source": [
        "We'll create the same chain we did before - but substitute our new `parent_document_retriever`."
      ]
    },
    {
      "cell_type": "code",
      "execution_count": 23,
      "metadata": {
        "id": "Qq_adt2KlSqp"
      },
      "outputs": [],
      "source": [
        "parent_document_retrieval_chain = (\n",
        "    {\"context\": itemgetter(\"question\") | parent_document_retriever, \"question\": itemgetter(\"question\")}\n",
        "    | RunnablePassthrough.assign(context=itemgetter(\"context\"))\n",
        "    | {\"response\": rag_prompt | chat_model, \"context\": itemgetter(\"context\")}\n",
        ")"
      ]
    },
    {
      "cell_type": "markdown",
      "metadata": {
        "id": "jNolUVQb4Apt"
      },
      "source": [
        "Let's give it a whirl!"
      ]
    },
    {
      "cell_type": "code",
      "execution_count": null,
      "metadata": {
        "colab": {
          "base_uri": "https://localhost:8080/",
          "height": 70
        },
        "id": "TXB5i89Zly5W",
        "outputId": "94c240be-7c5b-4c58-9eee-56d93285a054"
      },
      "outputs": [
        {
          "data": {
            "text/plain": [
              "'The most common issue with loans, based on the provided complaints, appears to be problems related to federal student loan servicing. These include errors in loan balances, misapplied payments, wrongful denials of payment plans, and issues with loan account management such as incorrect information on credit reports, disputes over interest rates, and problems caused by loan transfers and servicing practices. There are multiple complaints highlighting systemic breakdowns, misreporting, and disputes over terms and account status.'"
            ]
          },
          "execution_count": 45,
          "metadata": {},
          "output_type": "execute_result"
        }
      ],
      "source": [
        "# parent_document_retrieval_chain.invoke({\"question\" : \"What is the most common issue with loans?\"})[\"response\"].content"
      ]
    },
    {
      "cell_type": "code",
      "execution_count": null,
      "metadata": {
        "colab": {
          "base_uri": "https://localhost:8080/",
          "height": 36
        },
        "id": "V5F1T-wNl3cg",
        "outputId": "9b81e72e-5db7-4b8a-b25b-400ea0df5335"
      },
      "outputs": [
        {
          "data": {
            "text/plain": [
              "'Based on the provided information, all the complaints that are explicitly marked as \"Timely response?\" with \"No\" indicate that they were not handled in a timely manner. Specifically, at least two complaints involving Mohela (Complaint IDs: 12709087 and 12935889) mention that they did not receive a response within the expected timeframe. These complaints had delayed responses, with the complaint at row 441 (Complaint ID: 12709087) explicitly stating \"Timely response?\":\"No\".\\n\\nTherefore, yes, some complaints did not get handled in a timely manner.'"
            ]
          },
          "execution_count": 46,
          "metadata": {},
          "output_type": "execute_result"
        }
      ],
      "source": [
        "# parent_document_retrieval_chain.invoke({\"question\" : \"Did any complaints not get handled in a timely manner?\"})[\"response\"].content"
      ]
    },
    {
      "cell_type": "code",
      "execution_count": null,
      "metadata": {
        "colab": {
          "base_uri": "https://localhost:8080/",
          "height": 70
        },
        "id": "ZqARszGzvGcG",
        "outputId": "8867f83c-db13-4db4-d57f-9bd51d32cd8a"
      },
      "outputs": [
        {
          "data": {
            "text/plain": [
              "'People often failed to pay back their loans due to a variety of circumstances, including financial hardship, lack of proper information or transparency about their loans, and issues related to loan management. For example, some individuals experienced severe financial difficulties after graduation, making it difficult or impossible to make payments. Others faced problems with their loan servicers, such as being unaware of when payments were due, not being properly informed about changes in loan ownership, or encountering administrative errors like incorrect reporting or failure to notify them about payment obligations. Additionally, some borrowers were misled by educational institutions, leading to taking on loans they were unprepared to repay, especially when the quality of education or employment prospects did not meet expectations.'"
            ]
          },
          "execution_count": 47,
          "metadata": {},
          "output_type": "execute_result"
        }
      ],
      "source": [
        "# parent_document_retrieval_chain.invoke({\"question\" : \"Why did people fail to pay back their loans?\"})[\"response\"].content"
      ]
    },
    {
      "cell_type": "markdown",
      "metadata": {
        "id": "B41cj42s4DPM"
      },
      "source": [
        "Overall, the performance *seems* largely the same. We can leverage a tool like [Ragas]() to more effectively answer the question about the performance."
      ]
    },
    {
      "cell_type": "markdown",
      "metadata": {
        "id": "VUrIBKl_TwS9"
      },
      "source": [
        "## Task 9: Ensemble Retriever\n",
        "\n",
        "In brief, an Ensemble Retriever simply takes 2, or more, retrievers and combines their retrieved documents based on a rank-fusion algorithm.\n",
        "\n",
        "In this case - we're using the [Reciprocal Rank Fusion](https://plg.uwaterloo.ca/~gvcormac/cormacksigir09-rrf.pdf) algorithm.\n",
        "\n",
        "Setting it up is as easy as providing a list of our desired retrievers - and the weights for each retriever."
      ]
    },
    {
      "cell_type": "code",
      "execution_count": 24,
      "metadata": {
        "id": "8j7jpZsKTxic"
      },
      "outputs": [],
      "source": [
        "from langchain.retrievers import EnsembleRetriever\n",
        "\n",
        "retriever_list = [bm25_retriever, naive_retriever, parent_document_retriever, compression_retriever, multi_query_retriever]\n",
        "equal_weighting = [1/len(retriever_list)] * len(retriever_list)\n",
        "\n",
        "ensemble_retriever = EnsembleRetriever(\n",
        "    retrievers=retriever_list, weights=equal_weighting\n",
        ")"
      ]
    },
    {
      "cell_type": "markdown",
      "metadata": {
        "id": "kpo9Psl5hhJ-"
      },
      "source": [
        "We'll pack *all* of these retrievers together in an ensemble."
      ]
    },
    {
      "cell_type": "code",
      "execution_count": 25,
      "metadata": {
        "id": "KZ__EZwpUKkd"
      },
      "outputs": [],
      "source": [
        "ensemble_retrieval_chain = (\n",
        "    {\"context\": itemgetter(\"question\") | ensemble_retriever, \"question\": itemgetter(\"question\")}\n",
        "    | RunnablePassthrough.assign(context=itemgetter(\"context\"))\n",
        "    | {\"response\": rag_prompt | chat_model, \"context\": itemgetter(\"context\")}\n",
        ")"
      ]
    },
    {
      "cell_type": "markdown",
      "metadata": {
        "id": "SSsvHpRMj24L"
      },
      "source": [
        "Let's look at our results!"
      ]
    },
    {
      "cell_type": "code",
      "execution_count": null,
      "metadata": {
        "colab": {
          "base_uri": "https://localhost:8080/",
          "height": 70
        },
        "id": "0lMvqL88UQI-",
        "outputId": "d86dd5f7-0a13-4836-c0ce-cc4c431fd889"
      },
      "outputs": [
        {
          "data": {
            "text/plain": [
              "'The most common issue with loans, based on the provided complaints, appears to be mismanagement and misinformation by loan servicers. Specific recurring problems include:\\n\\n- Errors and inaccuracies in loan balances and interest calculations.\\n- Failure to properly notify borrowers about changes such as loan transfers, repayments, or default status.\\n- Inability to obtain clear or correct information about loan terms, balances, and repayment options.\\n- Issues related to improper handling of deferments, forbearances, and repayment plans.\\n- Unclear or incorrect reporting on credit reports, leading to negative impacts on credit scores.\\n- Problems with loan forgiveness, cancellation, or discharge processes.\\n- Unresponsive or unhelpful customer service providing vague or misleading information.\\n- Unauthorized or unnotified changes to loan status and increased interest due to mismanagement.\\n\\nOverall, the pattern indicates that a core issue is the mishandling of loan data and communication, causing confusion, financial hardship, and credit reporting errors for borrowers.'"
            ]
          },
          "execution_count": 50,
          "metadata": {},
          "output_type": "execute_result"
        }
      ],
      "source": [
        "# ensemble_retrieval_chain.invoke({\"question\" : \"What is the most common issue with loans?\"})[\"response\"].content"
      ]
    },
    {
      "cell_type": "code",
      "execution_count": null,
      "metadata": {
        "colab": {
          "base_uri": "https://localhost:8080/",
          "height": 53
        },
        "id": "MNFWLYECURI1",
        "outputId": "b17973b5-66a9-4481-97d5-880b5754b5c5"
      },
      "outputs": [
        {
          "data": {
            "text/plain": [
              "'Based on the provided complaints, yes, some complaints were not handled in a timely manner. Specifically, there are multiple instances where responses from the companies were late or delayed beyond the expected timeframes. For example:\\n\\n- Complaint ID 12709087 (submitted 03/28/25): The response was marked as \"N/A\" (disputed or not responded to) and \"Dispute? N/A,\" indicating it was not addressed timely.\\n- Complaint ID 12935889 (submitted 04/11/25): Response was \"No\" for timely response.\\n- Complaint ID 13056764 (submitted 04/18/25): The response was marked \"Yes\" for responsiveness, but the complaint details indicate prior delays.\\n- Complaint ID 13205525 (submitted 04/27/25): Response was \"Yes\" for timely response, but the complainant states ongoing unresolved issues.\\n\\nOverall, there is evidence that some complaints, especially regarding inconsistent or delayed responses, were not handled promptly.'"
            ]
          },
          "execution_count": 51,
          "metadata": {},
          "output_type": "execute_result"
        }
      ],
      "source": [
        "# ensemble_retrieval_chain.invoke({\"question\" : \"Did any complaints not get handled in a timely manner?\"})[\"response\"].content"
      ]
    },
    {
      "cell_type": "code",
      "execution_count": null,
      "metadata": {
        "colab": {
          "base_uri": "https://localhost:8080/",
          "height": 88
        },
        "id": "A7qbHfWgUR4c",
        "outputId": "f7373144-59ef-4fc7-b75d-ca00e7df881e"
      },
      "outputs": [
        {
          "data": {
            "text/plain": [
              "\"People failed to pay back their loans for several reasons, including:\\n\\n1. **Lack of communication and notification:** Many borrowers were not properly notified about when payments were due, changes in loan servicing, or account status updates, leading to missed payments and delinquency.\\n\\n2. **Complex or mismanaged loan information:** Borrowers faced confusion due to inconsistent or incorrect account balances, mismatched numbers, and lack of clear documentation about their loans, interest, and repayment status.\\n\\n3. **Limited or unhelpful repayment options:** Borrowers were often only offered forbearance or deferment without adequate explanations of the long-term consequences, such as interest accumulation, which increased the total amount owed.\\n\\n4. **Unfair or predatory servicing practices:** Servicers steered borrowers into long-term forbearances, failed to inform them about income-driven repayment plans or forgiveness options, and improperly reported delinquencies or late payments.\\n\\n5. **Technical or administrative errors:** Mistakes by servicers in reporting account status, applying payments correctly, or updating account information led to increased debt and credit score impacts.\\n\\n6. **Financial hardships and mismanagement:** Borrowers faced hardships such as unemployment, health issues, or lack of information, making it difficult to keep up with payments. Some also experienced predatory lending practices at the time of loan origination.\\n\\n7. **Inadequate support and assistance:** Many borrowers reported difficulty reaching representatives or receiving helpful guidance, which worsened their repayment difficulties.\\n\\nIn summary, failure to pay back loans was often tied to poor communication, mismanagement, limited support, and unfair practices by loan servicers, combined with borrowers' financial hardships and lack of proper information about repayment options.\""
            ]
          },
          "execution_count": 52,
          "metadata": {},
          "output_type": "execute_result"
        }
      ],
      "source": [
        "# ensemble_retrieval_chain.invoke({\"question\" : \"Why did people fail to pay back their loans?\"})[\"response\"].content"
      ]
    },
    {
      "cell_type": "markdown",
      "metadata": {
        "id": "MopbkNJAXVaN"
      },
      "source": [
        "## Task 10: Semantic Chunking\n",
        "\n",
        "While this is not a retrieval method - it *is* an effective way of increasing retrieval performance on corpora that have clean semantic breaks in them.\n",
        "\n",
        "Essentially, Semantic Chunking is implemented by:\n",
        "\n",
        "1. Embedding all sentences in the corpus.\n",
        "2. Combining or splitting sequences of sentences based on their semantic similarity based on a number of [possible thresholding methods](https://python.langchain.com/docs/how_to/semantic-chunker/):\n",
        "  - `percentile`\n",
        "  - `standard_deviation`\n",
        "  - `interquartile`\n",
        "  - `gradient`\n",
        "3. Each sequence of related sentences is kept as a document!\n",
        "\n",
        "Let's see how to implement this!"
      ]
    },
    {
      "cell_type": "markdown",
      "metadata": {
        "id": "U9ciZbFEldv_"
      },
      "source": [
        "We'll use the `percentile` thresholding method for this example which will:\n",
        "\n",
        "Calculate all distances between sentences, and then break apart sequences of setences that exceed a given percentile among all distances."
      ]
    },
    {
      "cell_type": "code",
      "execution_count": 26,
      "metadata": {
        "id": "66EIEWiEYl5y"
      },
      "outputs": [],
      "source": [
        "from langchain_experimental.text_splitter import SemanticChunker\n",
        "\n",
        "semantic_chunker = SemanticChunker(\n",
        "    embeddings,\n",
        "    breakpoint_threshold_type=\"percentile\"\n",
        ")"
      ]
    },
    {
      "cell_type": "markdown",
      "metadata": {
        "id": "YqoKmz12mhRW"
      },
      "source": [
        "Now we can split our documents."
      ]
    },
    {
      "cell_type": "code",
      "execution_count": 27,
      "metadata": {
        "id": "ROcV7o68ZIq7"
      },
      "outputs": [],
      "source": [
        "semantic_documents = semantic_chunker.split_documents(loan_docs[:20])"
      ]
    },
    {
      "cell_type": "markdown",
      "metadata": {
        "id": "L8-LNC-Xmjex"
      },
      "source": [
        "Let's create a new vector store."
      ]
    },
    {
      "cell_type": "code",
      "execution_count": 28,
      "metadata": {
        "id": "h3sl9QjyZhIe"
      },
      "outputs": [],
      "source": [
        "semantic_vectorstore = Qdrant.from_documents(\n",
        "    semantic_documents,\n",
        "    embeddings,\n",
        "    location=\":memory:\",\n",
        "    collection_name=\"Loan_Data_Semantic_Chunks\"\n",
        ")"
      ]
    },
    {
      "cell_type": "markdown",
      "metadata": {
        "id": "Eh_r_-LHmmKn"
      },
      "source": [
        "We'll use naive retrieval for this example."
      ]
    },
    {
      "cell_type": "code",
      "execution_count": 29,
      "metadata": {
        "id": "odVyDUHwZftc"
      },
      "outputs": [],
      "source": [
        "semantic_retriever = semantic_vectorstore.as_retriever(search_kwargs={\"k\" : 10})"
      ]
    },
    {
      "cell_type": "markdown",
      "metadata": {
        "id": "Mkeiv_ojmp6G"
      },
      "source": [
        "Finally we can create our classic chain!"
      ]
    },
    {
      "cell_type": "code",
      "execution_count": 30,
      "metadata": {
        "id": "xWE_0J0mZveG"
      },
      "outputs": [],
      "source": [
        "semantic_retrieval_chain = (\n",
        "    {\"context\": itemgetter(\"question\") | semantic_retriever, \"question\": itemgetter(\"question\")}\n",
        "    | RunnablePassthrough.assign(context=itemgetter(\"context\"))\n",
        "    | {\"response\": rag_prompt | chat_model, \"context\": itemgetter(\"context\")}\n",
        ")"
      ]
    },
    {
      "cell_type": "markdown",
      "metadata": {
        "id": "R5pfjLQ3ms9_"
      },
      "source": [
        "And view the results!"
      ]
    },
    {
      "cell_type": "code",
      "execution_count": null,
      "metadata": {
        "colab": {
          "base_uri": "https://localhost:8080/",
          "height": 70
        },
        "id": "0lN2j-e4Z0SD",
        "outputId": "ef483e21-7200-4dfc-b8bf-aed4f23587b2"
      },
      "outputs": [
        {
          "data": {
            "text/plain": [
              "'Based on the provided complaints, the most common issue with loans appears to be problems related to loan servicing and communication. Many complaints highlight issues such as:\\n\\n- Struggling to repay or confusion about payment plans and amounts\\n- Lack of transparency and miscommunication from servicers\\n- Problems with loan account information being inaccurate, default statuses, or improper reporting\\n- Difficulties in obtaining proper verification or documentation\\n- Unauthorized or improper reporting of debt or account status\\n\\nWhile the specific \"most common issue\" isn\\'t explicitly quantified in the data, the recurring themes suggest that the most frequent problem involves **mismanagement and miscommunication by loan servicers, leading to confusion, incorrect account statuses, and difficulties in repayment efforts**.  \\n\\nIf you need a more precise answer, I would say:  \\n**The most common issue with loans is mismanagement by servicers, including inaccurate reporting, poor communication, and issues with repayment plans or account statuses.**  \\n\\nI hope this helps!'"
            ]
          },
          "execution_count": 58,
          "metadata": {},
          "output_type": "execute_result"
        }
      ],
      "source": [
        "# semantic_retrieval_chain.invoke({\"question\" : \"What is the most common issue with loans?\"})[\"response\"].content"
      ]
    },
    {
      "cell_type": "code",
      "execution_count": null,
      "metadata": {
        "colab": {
          "base_uri": "https://localhost:8080/",
          "height": 53
        },
        "id": "xdqfBH1SZ3f9",
        "outputId": "ed62b2d1-7586-46cc-aaf4-c54192a56155"
      },
      "outputs": [
        {
          "data": {
            "text/plain": [
              "'Yes, several complaints in the provided data indicate that they were handled in a timely manner, with responses marked as \"Yes\" under the \"Timely response?\" field. However, the complaint about \"Received bad information about your loan\" (Complaint ID: 13331376) involving Nelnet, Inc. was closed with an explanation, which suggests that their issue was addressed, although the details of whether it was resolved to the complainant\\'s satisfaction are not specified.\\n\\nMost other complaints, such as those regarding trouble with payments, disputes about account information, or issues with service, also received timely responses. Since the context does not explicitly mention any complaints that were not handled in time, the available data suggests that, according to the records, all complaints were responded to promptly.\\n\\nIf the question pertains to whether any complaints were left unresolved or delayed beyond a reasonable period, the records do not indicate such a case. Therefore, based on the provided information, **no complaints are explicitly noted as not being handled in a timely manner**.'"
            ]
          },
          "execution_count": 59,
          "metadata": {},
          "output_type": "execute_result"
        }
      ],
      "source": [
        "# semantic_retrieval_chain.invoke({\"question\" : \"Did any complaints not get handled in a timely manner?\"})[\"response\"].content"
      ]
    },
    {
      "cell_type": "code",
      "execution_count": null,
      "metadata": {
        "colab": {
          "base_uri": "https://localhost:8080/",
          "height": 70
        },
        "id": "rAcAObZnZ4o6",
        "outputId": "3f1cade3-41e4-4e42-ef71-048dd18e5e3a"
      },
      "outputs": [
        {
          "data": {
            "text/plain": [
              "\"People failed to pay back their loans for various reasons, including:\\n\\n- Receiving bad or unclear information about their loans, such as being told they are in forbearance until a future date without written confirmation.\\n- Difficulties with loan servicing processes, such as delays, miscommunication, or alleged stalling tactics by lenders or servicers.\\n- Problems with the loan documentation or paperwork, which can lead to rejection or delays in loan forgiveness or discharge processes.\\n- Disputes over the legitimacy or status of the loans, including claims that loans are illegally reported, or that they have been transferred or mishandled improperly.\\n- Financial hardships or misunderstandings about payment obligations, especially after changes like the end of COVID-19 forbearance or re-amortization issues.\\n- Errors or misreporting of loan status, which can negatively impact credit scores and result in default status being assigned mistakenly.\\n- In some cases, legal or privacy issues, breaches, or alleged misconduct by the loan servicers or the Department of Education, which can complicate repayment and lead to default.\\n\\nOverall, inadequate communication, administrative errors, misinformation, and external complications seem to contribute significantly to borrowers' inability to fulfill their repayment obligations.\""
            ]
          },
          "execution_count": 60,
          "metadata": {},
          "output_type": "execute_result"
        }
      ],
      "source": [
        "# semantic_retrieval_chain.invoke({\"question\" : \"Why did people fail to pay back their loans?\"})[\"response\"].content"
      ]
    },
    {
      "cell_type": "markdown",
      "metadata": {},
      "source": [
        "#### ❓ Question #3:\n",
        "\n",
        "If sentences are short and highly repetitive (e.g., FAQs), how might semantic chunking behave, and how would you adjust the algorithm?\n",
        "\n",
        "##### ✅ Answer:\n",
        "\n",
        "Semantic chunking, which groups text based on meaning rather than arbitrary length, may behave suboptimally with short and repetitive sentences (as in FAQs) due to the following:\n",
        "\n",
        "- **Over-segmentation:** Each FAQ entry may be treated as its own standalone semantic unit, resulting in too many small chunks.\n",
        "- **Redundancy:** The high degree of repetition (e.g., similar questions phrased slightly differently) can confuse clustering or embedding models, reducing retrieval quality.\n",
        "- **Context loss:** Since each chunk is short, meaningful context may be lost, making it harder for the retriever to disambiguate similar queries.\n",
        "\n",
        "##### 🔧 Suggested Adjustments:\n",
        "\n",
        "1. **Concatenate Related Sentences:** Manually or heuristically group FAQs with similar themes into larger composite chunks before embedding.\n",
        "2. **Use Metadata:** Attach question IDs, tags, or categories to enrich semantic meaning and aid disambiguation.\n",
        "3. **Adjust Chunking Parameters:** Lower the sensitivity of semantic boundaries or increase the minimum chunk size.\n",
        "4. **Apply Deduplication or Clustering:** Use semantic similarity (e.g., cosine similarity) to merge or group near-duplicate FAQs prior to chunking.\n",
        "5. **Hybrid Approach:** Combine semantic chunking with a rule-based or sliding window technique to ensure minimum context length.\n",
        "\n",
        "These strategies help mitigate fragmentation and enhance recall by ensuring more informative and discriminative chunks.\n"
      ]
    },
    {
      "cell_type": "markdown",
      "metadata": {
        "id": "xk2n3-pnVWDJ"
      },
      "source": [
        "# 🤝 Breakout Room Part #2"
      ]
    },
    {
      "cell_type": "markdown",
      "metadata": {
        "id": "2SkJLYwMVZkj"
      },
      "source": [
        "#### 🏗️ Activity #1\n",
        "\n",
        "Your task is to evaluate the various Retriever methods against eachother.\n",
        "\n",
        "You are expected to:\n",
        "\n",
        "1. Create a \"golden dataset\"\n",
        " - Use Synthetic Data Generation (powered by Ragas, or otherwise) to create this dataset\n",
        "2. Evaluate each retriever with *retriever specific* Ragas metrics\n",
        " - Semantic Chunking is not considered a retriever method and will not be required for marks, but you may find it useful to do a \"semantic chunking on\" vs. \"semantic chunking off\" comparision between them\n",
        "3. Compile these in a list and write a small paragraph about which is best for this particular data and why.\n",
        "\n",
        "Your analysis should factor in:\n",
        "  - Cost\n",
        "  - Latency\n",
        "  - Performance\n",
        "\n",
        "  ##### HINTS:\n",
        "\n",
        "- LangSmith provides detailed information about latency and cost.\n",
        "\n",
        "> NOTE: This is **NOT** required to be completed in class. Please spend time in your breakout rooms creating a plan before moving on to writing code."
      ]
    },
    {
      "cell_type": "markdown",
      "metadata": {
        "id": "TWAr16a5XMub"
      },
      "source": []
    },
    {
      "cell_type": "code",
      "execution_count": 31,
      "metadata": {
        "id": "tgDICngKXLGK"
      },
      "outputs": [],
      "source": [
        "### YOUR CODE HERE\n",
        "os.environ[\"LANGCHAIN_TRACING_V2\"] = \"true\"\n",
        "os.environ[\"LANGCHAIN_PROJECT\"] = f\"Session 09 - Advanced Retrieval Loan Docs\"\n",
        "os.environ[\"LANGCHAIN_API_KEY\"] = getpass.getpass(\"LangSmith API Key: \")"
      ]
    },
    {
      "cell_type": "code",
      "execution_count": null,
      "metadata": {},
      "outputs": [
        {
          "name": "stdout",
          "output_type": "stream",
          "text": [
            "Generating synthetic dataset...\n"
          ]
        },
        {
          "data": {
            "application/vnd.jupyter.widget-view+json": {
              "model_id": "fbd5d9bc89d4486fa60857072e6cd416",
              "version_major": 2,
              "version_minor": 0
            },
            "text/plain": [
              "Applying SummaryExtractor:   0%|          | 0/31 [00:00<?, ?it/s]"
            ]
          },
          "metadata": {},
          "output_type": "display_data"
        },
        {
          "data": {
            "application/vnd.jupyter.widget-view+json": {
              "model_id": "ffe3be6466e941a2b12312062ca800d0",
              "version_major": 2,
              "version_minor": 0
            },
            "text/plain": [
              "Applying CustomNodeFilter:   0%|          | 0/50 [00:00<?, ?it/s]"
            ]
          },
          "metadata": {},
          "output_type": "display_data"
        },
        {
          "name": "stderr",
          "output_type": "stream",
          "text": [
            "Node 054e7961-1b3d-448b-bbcd-2568a475c7de does not have a summary. Skipping filtering.\n",
            "Node 5df2fecb-31a9-4e4c-8aab-a2f372788b9c does not have a summary. Skipping filtering.\n",
            "Node 9072337c-cac8-4b96-a09e-517f749fade3 does not have a summary. Skipping filtering.\n",
            "Node 353ab4e2-4835-49b7-acd6-6470d7d53ede does not have a summary. Skipping filtering.\n",
            "Node 35fb8ec3-3b67-48f9-97e2-03d359f3b397 does not have a summary. Skipping filtering.\n",
            "Node 15f3a024-d455-4c4a-a106-51968f9c4021 does not have a summary. Skipping filtering.\n",
            "Node ab1a1371-5e2c-43dd-af5f-0e1a8b1ca8cc does not have a summary. Skipping filtering.\n",
            "Node d76f9cdc-32ae-4835-971e-de8feb1fe72d does not have a summary. Skipping filtering.\n",
            "Node 333ad8e2-afb1-4f32-9ac9-dd279d9854e1 does not have a summary. Skipping filtering.\n",
            "Node 783765cb-db2c-46fc-bd8e-2ba23a1330b7 does not have a summary. Skipping filtering.\n",
            "Node 7c2bbd43-386f-4408-819d-12b46a5bcf5b does not have a summary. Skipping filtering.\n",
            "Node cbf1b887-204b-4f20-a539-a6e80d8aac27 does not have a summary. Skipping filtering.\n",
            "Node 7e9f022a-f19b-42f7-b593-acdd56beb799 does not have a summary. Skipping filtering.\n",
            "Node a292fcde-dbdd-4c99-aeed-3ae7d9d56a91 does not have a summary. Skipping filtering.\n",
            "Node 3fff9244-2765-4ce4-b58f-49564212d918 does not have a summary. Skipping filtering.\n",
            "Node 5aaa3599-9bd9-4642-99b7-9f65c5a97db2 does not have a summary. Skipping filtering.\n",
            "Node a9bbaee5-7b89-4114-90c9-3dacfb46a84e does not have a summary. Skipping filtering.\n",
            "Node 65359dce-0066-4e35-8ef0-87b120b98f33 does not have a summary. Skipping filtering.\n",
            "Node ca9488b1-c829-4168-a110-5fc2b78623ec does not have a summary. Skipping filtering.\n"
          ]
        },
        {
          "data": {
            "application/vnd.jupyter.widget-view+json": {
              "model_id": "bfab0fbff28149b1bc05db71c7b1642d",
              "version_major": 2,
              "version_minor": 0
            },
            "text/plain": [
              "Applying [EmbeddingExtractor, ThemesExtractor, NERExtractor]:   0%|          | 0/131 [00:00<?, ?it/s]"
            ]
          },
          "metadata": {},
          "output_type": "display_data"
        },
        {
          "data": {
            "application/vnd.jupyter.widget-view+json": {
              "model_id": "0548b79a5fbb480fbb2f1de472de171a",
              "version_major": 2,
              "version_minor": 0
            },
            "text/plain": [
              "Applying [CosineSimilarityBuilder, OverlapScoreBuilder]:   0%|          | 0/2 [00:00<?, ?it/s]"
            ]
          },
          "metadata": {},
          "output_type": "display_data"
        },
        {
          "data": {
            "application/vnd.jupyter.widget-view+json": {
              "model_id": "2a2cf7e04e6c4a34b02d412514f5e9b7",
              "version_major": 2,
              "version_minor": 0
            },
            "text/plain": [
              "Generating personas:   0%|          | 0/3 [00:00<?, ?it/s]"
            ]
          },
          "metadata": {},
          "output_type": "display_data"
        },
        {
          "data": {
            "application/vnd.jupyter.widget-view+json": {
              "model_id": "4d277c9c33be408d9bc6a2352875a3b4",
              "version_major": 2,
              "version_minor": 0
            },
            "text/plain": [
              "Generating Scenarios:   0%|          | 0/3 [00:00<?, ?it/s]"
            ]
          },
          "metadata": {},
          "output_type": "display_data"
        },
        {
          "data": {
            "application/vnd.jupyter.widget-view+json": {
              "model_id": "6f47b4679ae0438abfd139e2b345dc4c",
              "version_major": 2,
              "version_minor": 0
            },
            "text/plain": [
              "Generating Samples:   0%|          | 0/11 [00:00<?, ?it/s]"
            ]
          },
          "metadata": {},
          "output_type": "display_data"
        },
        {
          "name": "stdout",
          "output_type": "stream",
          "text": [
            "💰 Tokens used: 111244 | Cost: $0.3606\n",
            "✅ Generated 11 synthetic test cases\n"
          ]
        },
        {
          "ename": "TypeError",
          "evalue": "'Testset' object is not subscriptable",
          "output_type": "error",
          "traceback": [
            "\u001b[31m---------------------------------------------------------------------------\u001b[39m",
            "\u001b[31mTypeError\u001b[39m                                 Traceback (most recent call last)",
            "\u001b[36mCell\u001b[39m\u001b[36m \u001b[39m\u001b[32mIn[103]\u001b[39m\u001b[32m, line 43\u001b[39m\n\u001b[32m     41\u001b[39m \u001b[38;5;66;03m# Preview\u001b[39;00m\n\u001b[32m     42\u001b[39m \u001b[38;5;28mprint\u001b[39m(\u001b[33mf\u001b[39m\u001b[33m\"\u001b[39m\u001b[33m✅ Generated \u001b[39m\u001b[38;5;132;01m{\u001b[39;00m\u001b[38;5;28mlen\u001b[39m(dataset)\u001b[38;5;132;01m}\u001b[39;00m\u001b[33m synthetic test cases\u001b[39m\u001b[33m\"\u001b[39m)\n\u001b[32m---> \u001b[39m\u001b[32m43\u001b[39m \u001b[38;5;28;01mfor\u001b[39;00m i, sample \u001b[38;5;129;01min\u001b[39;00m \u001b[38;5;28menumerate\u001b[39m(\u001b[43mdataset\u001b[49m\u001b[43m[\u001b[49m\u001b[43m:\u001b[49m\u001b[32;43m2\u001b[39;49m\u001b[43m]\u001b[49m):\n\u001b[32m     44\u001b[39m     \u001b[38;5;28mprint\u001b[39m(\u001b[33mf\u001b[39m\u001b[33m\"\u001b[39m\u001b[38;5;130;01m\\n\u001b[39;00m\u001b[33mSample \u001b[39m\u001b[38;5;132;01m{\u001b[39;00mi+\u001b[32m1\u001b[39m\u001b[38;5;132;01m}\u001b[39;00m\u001b[33m\"\u001b[39m)\n\u001b[32m     45\u001b[39m     \u001b[38;5;28mprint\u001b[39m(\u001b[33m\"\u001b[39m\u001b[33mQ:\u001b[39m\u001b[33m\"\u001b[39m, sample.user_input)\n",
            "\u001b[31mTypeError\u001b[39m: 'Testset' object is not subscriptable"
          ]
        }
      ],
      "source": [
        "# import random\n",
        "# import pandas as pd\n",
        "# from langchain_openai import ChatOpenAI, OpenAIEmbeddings\n",
        "# from ragas.llms import LangchainLLMWrapper\n",
        "# from ragas.embeddings import LangchainEmbeddingsWrapper\n",
        "# from ragas.testset import TestsetGenerator\n",
        "# from ragas.testset.synthesizers import (\n",
        "#     SingleHopSpecificQuerySynthesizer,\n",
        "#     MultiHopAbstractQuerySynthesizer,\n",
        "#     MultiHopSpecificQuerySynthesizer,\n",
        "# )\n",
        "# from langchain.callbacks import get_openai_callback\n",
        "\n",
        "# # Reproducibility\n",
        "# random.seed(42)\n",
        "\n",
        "# # LLM + embedding setup\n",
        "# generator_llm = LangchainLLMWrapper(ChatOpenAI(model=\"gpt-4o\", temperature=0.7))\n",
        "# generator_embeddings = LangchainEmbeddingsWrapper(OpenAIEmbeddings(model=\"text-embedding-3-small\"))\n",
        "\n",
        "# # Query types\n",
        "# query_distribution = [\n",
        "#     (SingleHopSpecificQuerySynthesizer(llm=generator_llm), 0.5),\n",
        "#     (MultiHopAbstractQuerySynthesizer(llm=generator_llm), 0.25),\n",
        "#     (MultiHopSpecificQuerySynthesizer(llm=generator_llm), 0.25),\n",
        "# ]\n",
        "\n",
        "# # Generator init\n",
        "# generator = TestsetGenerator(llm=generator_llm, embedding_model=generator_embeddings)\n",
        "\n",
        "# # Generate\n",
        "# print(\"Generating synthetic dataset...\")\n",
        "# with get_openai_callback() as cb:\n",
        "#     dataset = generator.generate_with_langchain_docs(\n",
        "#         loan_docs[:50],\n",
        "#         testset_size=10,\n",
        "#         query_distribution=query_distribution,\n",
        "#     )\n",
        "#     print(f\"💰 Tokens used: {cb.total_tokens} | Cost: ${cb.total_cost:.4f}\")\n",
        "\n"
      ]
    },
    {
      "cell_type": "code",
      "execution_count": 44,
      "metadata": {},
      "outputs": [
        {
          "name": "stdout",
          "output_type": "stream",
          "text": [
            "Generating synthetic dataset...\n"
          ]
        },
        {
          "data": {
            "application/vnd.jupyter.widget-view+json": {
              "model_id": "44098c5b3e144b9e8a328691a27ca469",
              "version_major": 2,
              "version_minor": 0
            },
            "text/plain": [
              "Applying HeadlinesExtractor:   0%|          | 0/44 [00:00<?, ?it/s]"
            ]
          },
          "metadata": {},
          "output_type": "display_data"
        },
        {
          "data": {
            "application/vnd.jupyter.widget-view+json": {
              "model_id": "588b98f979f542b2af2434a0b3b50f3e",
              "version_major": 2,
              "version_minor": 0
            },
            "text/plain": [
              "Applying HeadlineSplitter:   0%|          | 0/50 [00:00<?, ?it/s]"
            ]
          },
          "metadata": {},
          "output_type": "display_data"
        },
        {
          "name": "stderr",
          "output_type": "stream",
          "text": [
            "unable to apply transformation: 'headlines' property not found in this node\n",
            "unable to apply transformation: 'headlines' property not found in this node\n",
            "unable to apply transformation: 'headlines' property not found in this node\n",
            "unable to apply transformation: 'headlines' property not found in this node\n",
            "unable to apply transformation: 'headlines' property not found in this node\n",
            "unable to apply transformation: 'headlines' property not found in this node\n"
          ]
        },
        {
          "data": {
            "application/vnd.jupyter.widget-view+json": {
              "model_id": "2ad61363e4db4b36957eca39b34c6e8c",
              "version_major": 2,
              "version_minor": 0
            },
            "text/plain": [
              "Applying SummaryExtractor:   0%|          | 0/70 [00:00<?, ?it/s]"
            ]
          },
          "metadata": {},
          "output_type": "display_data"
        },
        {
          "name": "stderr",
          "output_type": "stream",
          "text": [
            "Property 'summary' already exists in node 'e45506'. Skipping!\n",
            "Property 'summary' already exists in node 'c07a5e'. Skipping!\n",
            "Property 'summary' already exists in node '290e95'. Skipping!\n",
            "Property 'summary' already exists in node '1e903a'. Skipping!\n",
            "Property 'summary' already exists in node 'b91f7a'. Skipping!\n",
            "Property 'summary' already exists in node '6664b0'. Skipping!\n",
            "Property 'summary' already exists in node 'b736f8'. Skipping!\n",
            "Property 'summary' already exists in node '01fb2c'. Skipping!\n",
            "Property 'summary' already exists in node '3b5ee8'. Skipping!\n",
            "Property 'summary' already exists in node '149d80'. Skipping!\n",
            "Property 'summary' already exists in node '7da800'. Skipping!\n",
            "Property 'summary' already exists in node '0aedac'. Skipping!\n",
            "Property 'summary' already exists in node '7c9a37'. Skipping!\n",
            "Property 'summary' already exists in node 'a7ba06'. Skipping!\n",
            "Property 'summary' already exists in node '7ca893'. Skipping!\n",
            "Property 'summary' already exists in node '0c92dd'. Skipping!\n",
            "Property 'summary' already exists in node '00f95d'. Skipping!\n",
            "Property 'summary' already exists in node '0280ce'. Skipping!\n",
            "Property 'summary' already exists in node 'ed0077'. Skipping!\n",
            "Property 'summary' already exists in node '1d2dac'. Skipping!\n",
            "Property 'summary' already exists in node '64e7e6'. Skipping!\n",
            "Property 'summary' already exists in node '4ecb87'. Skipping!\n",
            "Property 'summary' already exists in node 'c1237b'. Skipping!\n",
            "Property 'summary' already exists in node 'e12951'. Skipping!\n",
            "Property 'summary' already exists in node '2bd8fb'. Skipping!\n",
            "Property 'summary' already exists in node '2007d1'. Skipping!\n"
          ]
        },
        {
          "data": {
            "application/vnd.jupyter.widget-view+json": {
              "model_id": "ae38b51516004ff98c89f9b2ee2e993a",
              "version_major": 2,
              "version_minor": 0
            },
            "text/plain": [
              "Applying CustomNodeFilter:   0%|          | 0/37 [00:00<?, ?it/s]"
            ]
          },
          "metadata": {},
          "output_type": "display_data"
        },
        {
          "data": {
            "application/vnd.jupyter.widget-view+json": {
              "model_id": "5598e3f307de475f9c207cca346beaa5",
              "version_major": 2,
              "version_minor": 0
            },
            "text/plain": [
              "Applying [EmbeddingExtractor, ThemesExtractor, NERExtractor]:   0%|          | 0/134 [00:00<?, ?it/s]"
            ]
          },
          "metadata": {},
          "output_type": "display_data"
        },
        {
          "name": "stderr",
          "output_type": "stream",
          "text": [
            "Property 'summary_embedding' already exists in node '3b5ee8'. Skipping!\n",
            "Property 'summary_embedding' already exists in node '01fb2c'. Skipping!\n",
            "Property 'summary_embedding' already exists in node '290e95'. Skipping!\n",
            "Property 'summary_embedding' already exists in node 'b736f8'. Skipping!\n",
            "Property 'summary_embedding' already exists in node '2007d1'. Skipping!\n",
            "Property 'summary_embedding' already exists in node 'e45506'. Skipping!\n",
            "Property 'summary_embedding' already exists in node 'b91f7a'. Skipping!\n",
            "Property 'summary_embedding' already exists in node '2bd8fb'. Skipping!\n",
            "Property 'summary_embedding' already exists in node 'c07a5e'. Skipping!\n",
            "Property 'summary_embedding' already exists in node 'a7ba06'. Skipping!\n",
            "Property 'summary_embedding' already exists in node '149d80'. Skipping!\n",
            "Property 'summary_embedding' already exists in node '7c9a37'. Skipping!\n",
            "Property 'summary_embedding' already exists in node '7ca893'. Skipping!\n",
            "Property 'summary_embedding' already exists in node 'e12951'. Skipping!\n",
            "Property 'summary_embedding' already exists in node 'c1237b'. Skipping!\n",
            "Property 'summary_embedding' already exists in node '4ecb87'. Skipping!\n",
            "Property 'summary_embedding' already exists in node '64e7e6'. Skipping!\n",
            "Property 'summary_embedding' already exists in node '0c92dd'. Skipping!\n",
            "Property 'summary_embedding' already exists in node '00f95d'. Skipping!\n",
            "Property 'summary_embedding' already exists in node 'ed0077'. Skipping!\n",
            "Property 'summary_embedding' already exists in node '0aedac'. Skipping!\n",
            "Property 'summary_embedding' already exists in node '1e903a'. Skipping!\n",
            "Property 'summary_embedding' already exists in node '6664b0'. Skipping!\n",
            "Property 'summary_embedding' already exists in node '7da800'. Skipping!\n",
            "Property 'summary_embedding' already exists in node '1d2dac'. Skipping!\n",
            "Property 'summary_embedding' already exists in node '0280ce'. Skipping!\n"
          ]
        },
        {
          "data": {
            "application/vnd.jupyter.widget-view+json": {
              "model_id": "268c9903884b47348a4d20b7edb81373",
              "version_major": 2,
              "version_minor": 0
            },
            "text/plain": [
              "Applying [CosineSimilarityBuilder, OverlapScoreBuilder]:   0%|          | 0/2 [00:00<?, ?it/s]"
            ]
          },
          "metadata": {},
          "output_type": "display_data"
        },
        {
          "data": {
            "application/vnd.jupyter.widget-view+json": {
              "model_id": "b4fe972eaa404b299d4697cb6d8f32ff",
              "version_major": 2,
              "version_minor": 0
            },
            "text/plain": [
              "Generating personas:   0%|          | 0/3 [00:00<?, ?it/s]"
            ]
          },
          "metadata": {},
          "output_type": "display_data"
        },
        {
          "data": {
            "application/vnd.jupyter.widget-view+json": {
              "model_id": "0407a157a5214df2b05fde3866913162",
              "version_major": 2,
              "version_minor": 0
            },
            "text/plain": [
              "Generating Scenarios:   0%|          | 0/3 [00:00<?, ?it/s]"
            ]
          },
          "metadata": {},
          "output_type": "display_data"
        },
        {
          "data": {
            "application/vnd.jupyter.widget-view+json": {
              "model_id": "9888a43ee7a2432ab43583a5feeeed31",
              "version_major": 2,
              "version_minor": 0
            },
            "text/plain": [
              "Generating Samples:   0%|          | 0/11 [00:00<?, ?it/s]"
            ]
          },
          "metadata": {},
          "output_type": "display_data"
        },
        {
          "name": "stdout",
          "output_type": "stream",
          "text": [
            "💰 Tokens used: 247858 | Cost: $0.7015\n"
          ]
        }
      ],
      "source": [
        "import random\n",
        "import pandas as pd\n",
        "from langchain_openai import ChatOpenAI, OpenAIEmbeddings\n",
        "from ragas.llms import LangchainLLMWrapper\n",
        "from ragas.embeddings import LangchainEmbeddingsWrapper\n",
        "from ragas.testset import TestsetGenerator\n",
        "from ragas.testset.synthesizers import (\n",
        "    SingleHopSpecificQuerySynthesizer,\n",
        "    MultiHopAbstractQuerySynthesizer,\n",
        "    MultiHopSpecificQuerySynthesizer,\n",
        ")\n",
        "from langchain.callbacks import get_openai_callback\n",
        "\n",
        "# Reproducibility\n",
        "random.seed(42)\n",
        "\n",
        "# LLM + embedding setup\n",
        "generator_llm = LangchainLLMWrapper(ChatOpenAI(model=\"gpt-4o\", temperature=0.7))\n",
        "generator_embeddings = LangchainEmbeddingsWrapper(OpenAIEmbeddings(model=\"text-embedding-3-small\"))\n",
        "\n",
        "# Query types\n",
        "query_distribution = [\n",
        "    (SingleHopSpecificQuerySynthesizer(llm=generator_llm), 0.5),\n",
        "    (MultiHopAbstractQuerySynthesizer(llm=generator_llm), 0.25),\n",
        "    (MultiHopSpecificQuerySynthesizer(llm=generator_llm), 0.25),\n",
        "]\n",
        "\n",
        "# Generator init\n",
        "generator = TestsetGenerator(llm=generator_llm, embedding_model=generator_embeddings)\n",
        "\n",
        "# Generate\n",
        "print(\"Generating synthetic dataset...\")\n",
        "with get_openai_callback() as cb:\n",
        "    dataset = generator.generate_with_langchain_docs(\n",
        "        loan_docs[:50],\n",
        "        testset_size=10,\n",
        "        query_distribution=query_distribution,\n",
        "    )\n",
        "    print(f\"💰 Tokens used: {cb.total_tokens} | Cost: ${cb.total_cost:.4f}\")\n",
        "\n"
      ]
    },
    {
      "cell_type": "code",
      "execution_count": 45,
      "metadata": {},
      "outputs": [
        {
          "data": {
            "text/html": [
              "<div>\n",
              "<style scoped>\n",
              "    .dataframe tbody tr th:only-of-type {\n",
              "        vertical-align: middle;\n",
              "    }\n",
              "\n",
              "    .dataframe tbody tr th {\n",
              "        vertical-align: top;\n",
              "    }\n",
              "\n",
              "    .dataframe thead th {\n",
              "        text-align: right;\n",
              "    }\n",
              "</style>\n",
              "<table border=\"1\" class=\"dataframe\">\n",
              "  <thead>\n",
              "    <tr style=\"text-align: right;\">\n",
              "      <th></th>\n",
              "      <th>user_input</th>\n",
              "      <th>reference_contexts</th>\n",
              "      <th>reference</th>\n",
              "      <th>synthesizer_name</th>\n",
              "    </tr>\n",
              "  </thead>\n",
              "  <tbody>\n",
              "    <tr>\n",
              "      <th>0</th>\n",
              "      <td>What changes did the Consolidated Appropriations Act, 2021 bring to the FAFSA process?</td>\n",
              "      <td>[Application and Verification Guide Introduction This guide is intended for college financial aid administrators and counselors who help students with the financial aid process4completing the Free Application for Federal Student Aid (FAFSA®) form, verifying information, and making corrections an...</td>\n",
              "      <td>The Consolidated Appropriations Act, 2021, which included the FAFSA Simplification Act, mandated a significant overhaul of federal student aid, including changes to the Free Application for Federal Student Aid (FAFSA) form, need analysis, and many policies and procedures for schools participatin...</td>\n",
              "      <td>single_hop_specifc_query_synthesizer</td>\n",
              "    </tr>\n",
              "    <tr>\n",
              "      <th>1</th>\n",
              "      <td>Wht is the purpose of the FAFSA Submission Summary in the financial aid process?</td>\n",
              "      <td>[The FPS also checks the application for possible inconsistencies and mistakes. For instance, if a dependent student reported the parents9 marital status as married but reported the family size as &lt;2,= the edit checks would catch the inconsistency. Even when data is inconsistent, the FPS may be ...</td>\n",
              "      <td>The FAFSA Submission Summary shows the information the student originally provided, the SAI, results of the eligibility matches, information about aid history, and information about any inconsistencies identified through the FPS edits. It is made available to the student online or mailed as a pa...</td>\n",
              "      <td>single_hop_specifc_query_synthesizer</td>\n",
              "    </tr>\n",
              "    <tr>\n",
              "      <th>2</th>\n",
              "      <td>What information can financial aid administrators view on the ISIR?</td>\n",
              "      <td>[2. The disclosure of their FTI by the IRS to the Department; 3. The use of their FTI by a Department official to determine an applicant9s eligibility for federal student aid and the amount for which they are eligible; and 4. The redisclosure of FTI by the Department to an eligible institution, ...</td>\n",
              "      <td>Financial aid administrators can view the transferred data on the ISIR.</td>\n",
              "      <td>single_hop_specifc_query_synthesizer</td>\n",
              "    </tr>\n",
              "    <tr>\n",
              "      <th>3</th>\n",
              "      <td>What FTI mean and what info it include?</td>\n",
              "      <td>[Federal Tax Information The following data received by the Department from the IRS are considered FTI: Tax Year (ex. Award year 2025-26 is based on 2023 tax year information from the IRS) Tax Filing Status Adjusted Gross Income (AGI) Number of Exemptions and Number of Dependents Income Earned f...</td>\n",
              "      <td>FTI stands for Federal Tax Information and includes data such as Tax Year, Tax Filing Status, Adjusted Gross Income (AGI), Number of Exemptions and Dependents, Income Earned from Work, Taxes Paid, Educational Credits, Untaxed IRA distributions, IRA deductions and payments, Tax exempt interest, U...</td>\n",
              "      <td>single_hop_specifc_query_synthesizer</td>\n",
              "    </tr>\n",
              "    <tr>\n",
              "      <th>4</th>\n",
              "      <td>Wut shud a student do if they need to contact the FSAIC to sync their data with the SSA?</td>\n",
              "      <td>[Because the Department matches the student9s name and SSN with the Social Security Administration (SSA), the name on the FAFSA form should match the one in the SSA9s records (i.e., as it appears on the student9s Social Security card). Students (except citizens of one of the Freely Associated St...</td>\n",
              "      <td>After the student receives confirmation that SSA has corrected its records, the student must contact the Federal Student Aid Information Center (FSAIC) and ask them to manually sync their data with SSA.</td>\n",
              "      <td>single_hop_specifc_query_synthesizer</td>\n",
              "    </tr>\n",
              "    <tr>\n",
              "      <th>5</th>\n",
              "      <td>How is the definition of a parent on the FAFSA relevant to the completion of the form for students with unmarried biological parents living together?</td>\n",
              "      <td>[&lt;1-hop&gt;\\n\\nThis question asks if a 2023 IRS Form 1040 or 1040-NR was (or will be) completed. It also asks about income earned in a foreign country or if the student spouse filed a tax return in a U.S. territory. See the &lt;Student Tax Filing Status (19)= question for additional information. Stude...</td>\n",
              "      <td>The definition of a parent on the FAFSA is relevant to the completion of the form for students with unmarried biological parents living together because both parents must report their information on the FAFSA form. This is because the FAFSA considers both biological and adoptive parents who are ...</td>\n",
              "      <td>multi_hop_abstract_query_synthesizer</td>\n",
              "    </tr>\n",
              "    <tr>\n",
              "      <th>6</th>\n",
              "      <td>How does the FAFSA form address situations where a student's parent has a unique tax filing status, such as not filing a U.S. tax return due to foreign income or other reasons?</td>\n",
              "      <td>[&lt;1-hop&gt;\\n\\nParent Tax Filing Status (37) This question asks if the parent filed (or will file) a 2023 IRS 1040 or 1040-NR. If the answer is &lt;no=, the parent will be asked to select one of the following reasons for not filing: 1. The parent filed or will file a tax return with Puerto Rico or ano...</td>\n",
              "      <td>The FAFSA form addresses situations where a student's parent has a unique tax filing status by requiring manual entry of income and tax data if the parent did not file a U.S. tax return due to foreign income or other reasons. If a parent indicates they earned income in a foreign country but did ...</td>\n",
              "      <td>multi_hop_abstract_query_synthesizer</td>\n",
              "    </tr>\n",
              "    <tr>\n",
              "      <th>7</th>\n",
              "      <td>What information must a student provide about their spouse when completing the FAFSA form, and how is this information used in the FAFSA Submission Summary?</td>\n",
              "      <td>[&lt;1-hop&gt;\\n\\nThe ISIR will only display the federal school code of the receiving school. The information of other schools the student included on the FAFSA form will not appear except on the FAFSA Submission Summary and on ISIRs sent to state grant agencies. See Volume 6 of the 2025-26 FAFSA Spec...</td>\n",
              "      <td>When completing the FAFSA form, a student must provide their spouse's identity information, including name, Social Security number, date of birth, and email address, if the spouse is a required contributor. This information should match what appears on the spouse's social security card. If the s...</td>\n",
              "      <td>multi_hop_abstract_query_synthesizer</td>\n",
              "    </tr>\n",
              "    <tr>\n",
              "      <th>8</th>\n",
              "      <td>What happens if a parent says they didn’t file a tax return but has foreign income affecting SAI?</td>\n",
              "      <td>[&lt;1-hop&gt;\\n\\nwages and business and farm income) only. This may be the same number as your AGI. Fiscal Year Tax Returns For a fiscal year (rather than calendar year) tax return, the individual should use information from the return that includes the greater length of time in 2023. For example, an...</td>\n",
              "      <td>If a parent indicates they did not file a U.S. tax return for reasons other than low income, this is treated as conflicting information, and documentation is requested to resolve it. If a parent did not file any tax return because they did not earn any income and their state of legal residence i...</td>\n",
              "      <td>multi_hop_specific_query_synthesizer</td>\n",
              "    </tr>\n",
              "    <tr>\n",
              "      <th>9</th>\n",
              "      <td>How should a student report taxable grants and scholarships on the FAFSA, and what role does IRS Form 1040 Schedule 1 play in this process?</td>\n",
              "      <td>[&lt;1-hop&gt;\\n\\nManually Entered Data/Manually Provided Tax-Payer Data IRA rollover into another IRA or qualified plan. Typically indicated as \"ROLLOVER\" on IRS Form 1040-line 4. Pension rollover into an IRA or other qualified plan. Typically indicated as \"ROLLOVER\" on IRS Form 1040-line 5. Earned i...</td>\n",
              "      <td>A student should report only the amount of grants and scholarships received that was reported as taxable income on their tax return. This includes the taxable portions of fellowships, assistantships, stipends, and employer tuition reimbursements. These amounts are typically indicated on IRS Form...</td>\n",
              "      <td>multi_hop_specific_query_synthesizer</td>\n",
              "    </tr>\n",
              "    <tr>\n",
              "      <th>10</th>\n",
              "      <td>How does the FUTURE Act Direct Data Exchange (FA-DDX) streamline the FAFSA application process by utilizing the Internal Revenue Service, and what role does the Internal Revenue Code play in this process?</td>\n",
              "      <td>[&lt;1-hop&gt;\\n\\nVerification Following Disasters The Dear Colleague Letter GEN-17-08 gives general guidance for awarding aid in federally declared disasters. It states that the Secretary will not enforce the verification requirements during the award year for applicants whose records were lost or de...</td>\n",
              "      <td>The FUTURE Act Direct Data Exchange (FA-DDX) streamlines the FAFSA application process by allowing the Department of Education to access tax information directly from the Internal Revenue Service (IRS) with the consent and approval of the applicants and their contributors. This process eliminate...</td>\n",
              "      <td>multi_hop_specific_query_synthesizer</td>\n",
              "    </tr>\n",
              "  </tbody>\n",
              "</table>\n",
              "</div>"
            ],
            "text/plain": [
              "                                                                                                                                                                                                      user_input  \\\n",
              "0                                                                                                                         What changes did the Consolidated Appropriations Act, 2021 bring to the FAFSA process?   \n",
              "1                                                                                                                               Wht is the purpose of the FAFSA Submission Summary in the financial aid process?   \n",
              "2                                                                                                                                            What information can financial aid administrators view on the ISIR?   \n",
              "3                                                                                                                                                                        What FTI mean and what info it include?   \n",
              "4                                                                                                                       Wut shud a student do if they need to contact the FSAIC to sync their data with the SSA?   \n",
              "5                                                          How is the definition of a parent on the FAFSA relevant to the completion of the form for students with unmarried biological parents living together?   \n",
              "6                               How does the FAFSA form address situations where a student's parent has a unique tax filing status, such as not filing a U.S. tax return due to foreign income or other reasons?   \n",
              "7                                                   What information must a student provide about their spouse when completing the FAFSA form, and how is this information used in the FAFSA Submission Summary?   \n",
              "8                                                                                                              What happens if a parent says they didn’t file a tax return but has foreign income affecting SAI?   \n",
              "9                                                                    How should a student report taxable grants and scholarships on the FAFSA, and what role does IRS Form 1040 Schedule 1 play in this process?   \n",
              "10  How does the FUTURE Act Direct Data Exchange (FA-DDX) streamline the FAFSA application process by utilizing the Internal Revenue Service, and what role does the Internal Revenue Code play in this process?   \n",
              "\n",
              "                                                                                                                                                                                                                                                                                             reference_contexts  \\\n",
              "0   [Application and Verification Guide Introduction This guide is intended for college financial aid administrators and counselors who help students with the financial aid process4completing the Free Application for Federal Student Aid (FAFSA®) form, verifying information, and making corrections an...   \n",
              "1   [The FPS also checks the application for possible inconsistencies and mistakes. For instance, if a dependent student reported the parents9 marital status as married but reported the family size as <2,= the edit checks would catch the inconsistency. Even when data is inconsistent, the FPS may be ...   \n",
              "2   [2. The disclosure of their FTI by the IRS to the Department; 3. The use of their FTI by a Department official to determine an applicant9s eligibility for federal student aid and the amount for which they are eligible; and 4. The redisclosure of FTI by the Department to an eligible institution, ...   \n",
              "3   [Federal Tax Information The following data received by the Department from the IRS are considered FTI: Tax Year (ex. Award year 2025-26 is based on 2023 tax year information from the IRS) Tax Filing Status Adjusted Gross Income (AGI) Number of Exemptions and Number of Dependents Income Earned f...   \n",
              "4   [Because the Department matches the student9s name and SSN with the Social Security Administration (SSA), the name on the FAFSA form should match the one in the SSA9s records (i.e., as it appears on the student9s Social Security card). Students (except citizens of one of the Freely Associated St...   \n",
              "5   [<1-hop>\\n\\nThis question asks if a 2023 IRS Form 1040 or 1040-NR was (or will be) completed. It also asks about income earned in a foreign country or if the student spouse filed a tax return in a U.S. territory. See the <Student Tax Filing Status (19)= question for additional information. Stude...   \n",
              "6   [<1-hop>\\n\\nParent Tax Filing Status (37) This question asks if the parent filed (or will file) a 2023 IRS 1040 or 1040-NR. If the answer is <no=, the parent will be asked to select one of the following reasons for not filing: 1. The parent filed or will file a tax return with Puerto Rico or ano...   \n",
              "7   [<1-hop>\\n\\nThe ISIR will only display the federal school code of the receiving school. The information of other schools the student included on the FAFSA form will not appear except on the FAFSA Submission Summary and on ISIRs sent to state grant agencies. See Volume 6 of the 2025-26 FAFSA Spec...   \n",
              "8   [<1-hop>\\n\\nwages and business and farm income) only. This may be the same number as your AGI. Fiscal Year Tax Returns For a fiscal year (rather than calendar year) tax return, the individual should use information from the return that includes the greater length of time in 2023. For example, an...   \n",
              "9   [<1-hop>\\n\\nManually Entered Data/Manually Provided Tax-Payer Data IRA rollover into another IRA or qualified plan. Typically indicated as \"ROLLOVER\" on IRS Form 1040-line 4. Pension rollover into an IRA or other qualified plan. Typically indicated as \"ROLLOVER\" on IRS Form 1040-line 5. Earned i...   \n",
              "10  [<1-hop>\\n\\nVerification Following Disasters The Dear Colleague Letter GEN-17-08 gives general guidance for awarding aid in federally declared disasters. It states that the Secretary will not enforce the verification requirements during the award year for applicants whose records were lost or de...   \n",
              "\n",
              "                                                                                                                                                                                                                                                                                                      reference  \\\n",
              "0   The Consolidated Appropriations Act, 2021, which included the FAFSA Simplification Act, mandated a significant overhaul of federal student aid, including changes to the Free Application for Federal Student Aid (FAFSA) form, need analysis, and many policies and procedures for schools participatin...   \n",
              "1   The FAFSA Submission Summary shows the information the student originally provided, the SAI, results of the eligibility matches, information about aid history, and information about any inconsistencies identified through the FPS edits. It is made available to the student online or mailed as a pa...   \n",
              "2                                                                                                                                                                                                                                       Financial aid administrators can view the transferred data on the ISIR.   \n",
              "3   FTI stands for Federal Tax Information and includes data such as Tax Year, Tax Filing Status, Adjusted Gross Income (AGI), Number of Exemptions and Dependents, Income Earned from Work, Taxes Paid, Educational Credits, Untaxed IRA distributions, IRA deductions and payments, Tax exempt interest, U...   \n",
              "4                                                                                                    After the student receives confirmation that SSA has corrected its records, the student must contact the Federal Student Aid Information Center (FSAIC) and ask them to manually sync their data with SSA.   \n",
              "5   The definition of a parent on the FAFSA is relevant to the completion of the form for students with unmarried biological parents living together because both parents must report their information on the FAFSA form. This is because the FAFSA considers both biological and adoptive parents who are ...   \n",
              "6   The FAFSA form addresses situations where a student's parent has a unique tax filing status by requiring manual entry of income and tax data if the parent did not file a U.S. tax return due to foreign income or other reasons. If a parent indicates they earned income in a foreign country but did ...   \n",
              "7   When completing the FAFSA form, a student must provide their spouse's identity information, including name, Social Security number, date of birth, and email address, if the spouse is a required contributor. This information should match what appears on the spouse's social security card. If the s...   \n",
              "8   If a parent indicates they did not file a U.S. tax return for reasons other than low income, this is treated as conflicting information, and documentation is requested to resolve it. If a parent did not file any tax return because they did not earn any income and their state of legal residence i...   \n",
              "9   A student should report only the amount of grants and scholarships received that was reported as taxable income on their tax return. This includes the taxable portions of fellowships, assistantships, stipends, and employer tuition reimbursements. These amounts are typically indicated on IRS Form...   \n",
              "10  The FUTURE Act Direct Data Exchange (FA-DDX) streamlines the FAFSA application process by allowing the Department of Education to access tax information directly from the Internal Revenue Service (IRS) with the consent and approval of the applicants and their contributors. This process eliminate...   \n",
              "\n",
              "                        synthesizer_name  \n",
              "0   single_hop_specifc_query_synthesizer  \n",
              "1   single_hop_specifc_query_synthesizer  \n",
              "2   single_hop_specifc_query_synthesizer  \n",
              "3   single_hop_specifc_query_synthesizer  \n",
              "4   single_hop_specifc_query_synthesizer  \n",
              "5   multi_hop_abstract_query_synthesizer  \n",
              "6   multi_hop_abstract_query_synthesizer  \n",
              "7   multi_hop_abstract_query_synthesizer  \n",
              "8   multi_hop_specific_query_synthesizer  \n",
              "9   multi_hop_specific_query_synthesizer  \n",
              "10  multi_hop_specific_query_synthesizer  "
            ]
          },
          "metadata": {},
          "output_type": "display_data"
        }
      ],
      "source": [
        "import pandas as pd\n",
        "\n",
        "df = dataset.to_pandas()\n",
        "pd.set_option('display.max_colwidth', 300)\n",
        "display(df)"
      ]
    },
    {
      "cell_type": "code",
      "execution_count": 46,
      "metadata": {},
      "outputs": [
        {
          "name": "stdout",
          "output_type": "stream",
          "text": [
            "Test dataset saved to loan_test_dataset.csv\n"
          ]
        }
      ],
      "source": [
        "# Save the test dataset to avoid regenerating it\n",
        "dataset.to_pandas().to_csv(\"loan_test_dataset.csv\", index=False)\n",
        "print(\"Test dataset saved to loan_test_dataset.csv\")\n"
      ]
    },
    {
      "cell_type": "code",
      "execution_count": 107,
      "metadata": {},
      "outputs": [],
      "source": [
        "import os\n",
        "import time\n",
        "import copy\n",
        "import pandas as pd\n",
        "import json\n",
        "import numpy as np\n",
        "from ragas.evaluation import EvaluationDataset\n",
        "from ragas import evaluate, RunConfig\n",
        "from ragas.metrics import (\n",
        "    LLMContextRecall,\n",
        "    Faithfulness,\n",
        "    FactualCorrectness,\n",
        "    ResponseRelevancy,\n",
        "    ContextEntityRecall,\n",
        "    NoiseSensitivity,\n",
        ")\n",
        "from ragas.llms import LangchainLLMWrapper\n",
        "from langchain_openai import ChatOpenAI\n",
        "from langchain.callbacks import get_openai_callback\n",
        "\n",
        "def evaluation_result_to_dict(result):\n",
        "    \"\"\"\n",
        "    Convert EvaluationResult.scores (list of per-example dicts) to average metric values.\n",
        "    \"\"\"\n",
        "    scores_list = result.scores\n",
        "    if not scores_list or not isinstance(scores_list, list):\n",
        "        return {}\n",
        "\n",
        "    aggregated = {}\n",
        "    for key in scores_list[0].keys():\n",
        "        values = [s[key] for s in scores_list if s[key] is not None and not (isinstance(s[key], float) and np.isnan(s[key]))]\n",
        "        if values:\n",
        "            aggregated[key] = round(float(np.mean(values)), 4)\n",
        "\n",
        "    return aggregated\n",
        "\n",
        "\n",
        "def evaluate_retriever(name: str, pipeline, dataset):\n",
        "    print(f\"📊 Running evaluation for: {name}\")\n",
        "\n",
        "    test_dataset = copy.deepcopy(dataset)\n",
        "\n",
        "    latencies = []\n",
        "    total_tokens = 0\n",
        "    total_cost = 0\n",
        "    prompt_number = 1\n",
        "    prompt_logs = []\n",
        "\n",
        "    overall_start_time = time.time()\n",
        "\n",
        "    for test_row in test_dataset:\n",
        "        question = test_row.eval_sample.user_input\n",
        "        start_time = time.time()\n",
        "        with get_openai_callback() as cb:\n",
        "            response = pipeline.invoke({\"question\": question})\n",
        "        \n",
        "        latency = time.time() - start_time\n",
        "        latencies.append(latency)\n",
        "        total_tokens += cb.total_tokens\n",
        "        total_cost += cb.total_cost\n",
        "\n",
        "        test_row.eval_sample.response = str(response[\"response\"])\n",
        "        test_row.eval_sample.retrieved_contexts = [doc.page_content for doc in response[\"context\"]]\n",
        "\n",
        "        token_usage = {\n",
        "            \"completion_tokens\": response[\"response\"].response_metadata['token_usage'][\"completion_tokens\"],\n",
        "            \"prompt_tokens\": response[\"response\"].response_metadata['token_usage'][\"prompt_tokens\"],\n",
        "            \"total_tokens\": response[\"response\"].response_metadata['token_usage'][\"total_tokens\"]\n",
        "        }\n",
        "\n",
        "        model_name = response[\"response\"].response_metadata['model_name']\n",
        "\n",
        "        prompt_logs.append({\n",
        "            \"prompt_number\": prompt_number,\n",
        "            \"question\": question,\n",
        "            \"response\": response[\"response\"].content,\n",
        "            \"token_usage\": token_usage,\n",
        "            \"model_name\": model_name,\n",
        "            \"retrieved_contexts\": [doc.page_content for doc in response[\"context\"]],\n",
        "            \"retrieved_metadata\": [doc.metadata for doc in response[\"context\"]],\n",
        "            \"latency\": round(latency, 2),\n",
        "            \"tokens\": cb.total_tokens,\n",
        "            \"cost\": round(cb.total_cost, 6),\n",
        "            \"timestamp\": time.strftime('%Y-%m-%d %H:%M:%S', time.localtime(start_time))\n",
        "        })\n",
        "\n",
        "        print(f\"Prompt {prompt_number} | {response[\"response\"].content} |⏱️ {latency:.2f}s | Tokens {cb.total_tokens} | Cost {cb.total_cost:.6f}\")\n",
        "        prompt_number += 1\n",
        "\n",
        "    total_duration = time.time() - overall_start_time\n",
        "    avg_latency = sum(latencies) / len(latencies) if latencies else 0\n",
        "    avg_tokens_per_query = total_tokens / len(test_dataset)\n",
        "\n",
        "    print(f\"\\n📊 Summary for {name}:\")\n",
        "    print(f\"🔢 Total tokens: {total_tokens}\")\n",
        "    print(f\"⏱️ Avg latency: {avg_latency:.2f}s\")\n",
        "    print(f\"🔢 Avg tokens per query: {avg_tokens_per_query:.2f}\")\n",
        "    print(f\"⏱️ Total duration: {total_duration:.2f}s\")\n",
        "    print(f\"💰 Total cost: {total_cost:.6f}\")\n",
        "\n",
        "    evaluator_model = \"gpt-4.1-nano\"\n",
        "    evaluation_dataset = EvaluationDataset.from_pandas(test_dataset.to_pandas())\n",
        "    evaluator_llm = LangchainLLMWrapper(ChatOpenAI(model=evaluator_model, temperature=0))\n",
        "\n",
        "    with get_openai_callback() as cb:\n",
        "        result = evaluate(\n",
        "            experiment_name=name,\n",
        "            dataset=evaluation_dataset,\n",
        "            metrics=[\n",
        "                LLMContextRecall(),\n",
        "                Faithfulness(),\n",
        "                FactualCorrectness(),\n",
        "                ResponseRelevancy(),\n",
        "                ContextEntityRecall(),\n",
        "                NoiseSensitivity(),\n",
        "            ],\n",
        "            llm=evaluator_llm,\n",
        "            run_config=RunConfig(timeout=300)\n",
        "        )\n",
        "\n",
        "    evaluation_cost = cb.total_cost\n",
        "    evaluation_tokens = cb.total_tokens\n",
        "\n",
        "    print(f\"Evaluation LLM model: {evaluator_model}\")\n",
        "    print('Evaluation results:', result)\n",
        "    print('Evaluation tokens:', evaluation_tokens)\n",
        "    print(f'Evaluation cost: {evaluation_cost:.6f}')\n",
        "\n",
        "    evaluation_result_dict = evaluation_result_to_dict(result)\n",
        "\n",
        "    output_dir = \"loan_docs_retriever_logs\"\n",
        "    os.makedirs(output_dir, exist_ok=True)\n",
        "    log_filename = f'{name.lower().replace(\" \", \"_\")}_logs.json'\n",
        "    output_path = os.path.join(output_dir, log_filename)\n",
        "\n",
        "    full_output = {\n",
        "        \"name\": name,\n",
        "        \"summary\": {\n",
        "            \"total_runtime\": round(total_duration, 2),\n",
        "            \"avg_latency\": round(avg_latency, 2),\n",
        "            \"total_tokens\": int(total_tokens),\n",
        "            \"total_queries\": len(test_dataset),\n",
        "            \"total_cost\": round(total_cost, 6),\n",
        "            \"avg_tokens_per_query\": round(avg_tokens_per_query, 2),\n",
        "        },\n",
        "        \"latencies\": [round(lat, 2) for lat in latencies],\n",
        "        \"evaluation_result\": evaluation_result_dict,\n",
        "        \"evaluation_cost\": {\n",
        "            \"eval_model\": evaluator_model,\n",
        "            \"eval_tokens\": evaluation_tokens,\n",
        "            \"eval_cost\": round(evaluation_cost, 6),\n",
        "        },\n",
        "        \"prompt_logs_path\": output_path,\n",
        "        \"prompt_logs\": prompt_logs,\n",
        "    }\n",
        "\n",
        "    with open(output_path, \"w\", encoding=\"utf-8\") as f:\n",
        "        json.dump(full_output, f, indent=2, ensure_ascii=False)\n",
        "\n",
        "    print(f\"✅ Full result saved to: {output_path}\")\n",
        "\n",
        "    del full_output['prompt_logs']\n",
        "    return full_output"
      ]
    },
    {
      "cell_type": "code",
      "execution_count": 106,
      "metadata": {},
      "outputs": [
        {
          "name": "stdout",
          "output_type": "stream",
          "text": [
            "📊 Running evaluation for: naive_retriever_test\n",
            "Prompt 1 | The Consolidated Appropriations Act, 2021, specifically through the FAFSA Simplification Act, brought significant changes to the FAFSA process, primarily focusing on streamlining and simplifying the application. The key changes include:\n",
            "\n",
            "1. Introduction of the FUTURE Act and the FA-DDX: The act authorized a direct data exchange with the IRS (the FA-DDX), replacing the previous IRS Data Retrieval Tool (IRS-DRT). This allows most applicants' income and tax information to be automatically imported from the IRS with their consent, reducing the need for self-reporting.\n",
            "\n",
            "2. Mandatory Consent and Approval: All applicants and contributors (parents/spouses) must provide consent and approval for the Department to retrieve and use Federal Tax Information (FTI) via the FA-DDX, ensuring privacy and compliance.\n",
            "\n",
            "3. Removal of the IRS Data Retrieval Tool: The IRS-DRT was retired after the 2023-24 application cycle, making the FA-DDX the primary method for importing tax data.\n",
            "\n",
            "4. Expanded Account Access without SSN: Individuals without a Social Security Number can now create their own StudentAid.gov accounts, facilitating broader participation.\n",
            "\n",
            "5. Adjustments to application deadlines and processing procedures, including new instructions and removal of certain COVID-19 related guidance.\n",
            "\n",
            "6. Changes in FAFSA application procedures: The renewal FAFSA functionality has been deferred, and the process for completing and submitting the FAFSA has been updated to reflect the new data exchanges and consent requirements.\n",
            "\n",
            "Overall, these changes aim to simplify the FAFSA process, improve data accuracy, reduce applicant burden, and ensure privacy and security through direct IRS data exchange.\n",
            "\n",
            "If you need more detailed information about specific aspects of these changes, please let me know. |⏱️ 4.70s | Tokens 9954 | Cost 0.000387\n",
            "Prompt 2 | The purpose of the FAFSA Submission Summary in the financial aid process is to provide students with a record of the information they submitted on their FAFSA form, including the calculated Student Aid Index (SAI), results of eligibility matches, aid history, and any identified inconsistencies. It allows students to review, correct, or update their application as needed before final submission. Additionally, it informs students about any issues or comment codes that need resolution to ensure their application is complete and accurate for processing aid. The FAFSA Submission Summary is also used by schools to determine a student's eligibility for federal financial aid and to facilitate the disbursement process. |⏱️ 1.56s | Tokens 9991 | Cost 0.001036\n",
            "Prompt 3 | Financial aid administrators can view the following information on the ISIR:\n",
            "\n",
            "- Federal Student Aid Data (FTI): including tax year, filing status, adjusted gross income (AGI), number of exemptions and dependents, income earned from work, taxes paid, educational credits, untaxed IRA distributions, IRA deductions, tax-exempt interest, untaxed pension amounts, and Schedule C net profit/loss.\n",
            "- IRS response codes indicating whether usable FTI was successfully retrieved, unavailable, or whether manual data entry is necessary.\n",
            "- The federal school code of the institution receiving aid.\n",
            "- Comments and flags related to the FAFSA processing, such as inconsistencies, verification flags, and reasons for rejection.\n",
            "- Information about the student and any required contributors, including identity details, marital status, family size, number in college, and contact information.\n",
            "- Indicators related to schedules and verification status, including any manual entry or corrections needed.\n",
            "- Data about the applicant's eligibility, aid history, and any issues requiring resolution before disbursing aid.\n",
            "\n",
            "Additionally, the ISIR displays the IRS data response codes for each contributor, which help administrators determine whether tax data was successfully retrieved and verified. It also shows consolidated data used to determine eligibility and helps identify discrepancies or issues that must be resolved prior to aid disbursement. |⏱️ 1.96s | Tokens 9839 | Cost 0.000360\n",
            "\n",
            "📊 Summary for naive_retriever_test:\n",
            "🔢 Total tokens: 29784\n",
            "⏱️ Avg latency: 2.74s\n",
            "🔢 Avg tokens per query: 9928.00\n",
            "⏱️ Total duration: 8.22s\n",
            "💰 Total cost: 0.001783\n"
          ]
        },
        {
          "data": {
            "application/vnd.jupyter.widget-view+json": {
              "model_id": "da8561c37b5e488e8c198bd7bb088b33",
              "version_major": 2,
              "version_minor": 0
            },
            "text/plain": [
              "Evaluating:   0%|          | 0/18 [00:00<?, ?it/s]"
            ]
          },
          "metadata": {},
          "output_type": "display_data"
        },
        {
          "name": "stderr",
          "output_type": "stream",
          "text": [
            "Exception raised in Job[10]: TimeoutError()\n",
            "Exception raised in Job[4]: TimeoutError()\n"
          ]
        },
        {
          "name": "stdout",
          "output_type": "stream",
          "text": [
            "Evaluation LLM model: gpt-4.1-nano\n",
            "Evaluation results: {'context_recall': 1.0000, 'faithfulness': 1.0000, 'factual_correctness(mode=f1)': 0.9067, 'answer_relevancy': 0.9810, 'context_entity_recall': 0.5000, 'noise_sensitivity(mode=relevant)': 0.2568}\n",
            "Evaluation tokens: 244253\n",
            "Evaluation cost: 0.036949\n",
            "✅ Full result saved to: loan_docs_retriever_logs/naive_retriever_test_logs.json\n"
          ]
        },
        {
          "data": {
            "text/plain": [
              "{'name': 'naive_retriever_test',\n",
              " 'summary': {'total_runtime': 8.22,\n",
              "  'avg_latency': 2.74,\n",
              "  'total_tokens': 29784,\n",
              "  'total_queries': 3,\n",
              "  'total_cost': 0.001783,\n",
              "  'avg_tokens_per_query': 9928.0},\n",
              " 'latencies': [4.7, 1.56, 1.96],\n",
              " 'evaluation_result': {'context_recall': 1.0,\n",
              "  'faithfulness': 1.0,\n",
              "  'factual_correctness(mode=f1)': 0.9067,\n",
              "  'answer_relevancy': 0.981,\n",
              "  'context_entity_recall': 0.5,\n",
              "  'noise_sensitivity(mode=relevant)': 0.2568},\n",
              " 'evaluation_cost': {'eval_model': 'gpt-4.1-nano',\n",
              "  'eval_tokens': 244253,\n",
              "  'eval_cost': 0.036949},\n",
              " 'prompt_logs_path': 'loan_docs_retriever_logs/naive_retriever_test_logs.json'}"
            ]
          },
          "execution_count": 106,
          "metadata": {},
          "output_type": "execute_result"
        }
      ],
      "source": [
        "from ragas.testset import Testset\n",
        "\n",
        "subset = Testset(list(dataset)[:3])\n",
        "evaluate_retriever(\"naive_retriever_test\", naive_retrieval_chain, subset)\n"
      ]
    },
    {
      "cell_type": "code",
      "execution_count": 166,
      "metadata": {},
      "outputs": [],
      "source": [
        "# def run_all_retriever_evaluations(pipelines: dict, dataset):\n",
        "#     \"\"\"\n",
        "#     Runs evaluation across multiple retriever pipelines.\n",
        "\n",
        "#     Args:\n",
        "#         pipelines (dict): Dictionary where key is a pipeline name and value is the retriever chain.\n",
        "#         dataset: Ragas synthetic test set.\n",
        "\n",
        "#     Returns:\n",
        "#         dict: A dictionary of results per pipeline.\n",
        "#     \"\"\"\n",
        "#     results = {}\n",
        "#     for name, pipeline in pipelines.items():\n",
        "#         print(f\"\\n🚀 Starting evaluation for: {name}\")\n",
        "#         results[name] = evaluate_retriever(name, pipeline, dataset)\n",
        "#     return results\n"
      ]
    },
    {
      "cell_type": "code",
      "execution_count": null,
      "metadata": {},
      "outputs": [],
      "source": []
    },
    {
      "cell_type": "code",
      "execution_count": 108,
      "metadata": {},
      "outputs": [
        {
          "name": "stdout",
          "output_type": "stream",
          "text": [
            "📊 Running evaluation for: Naive\n",
            "Prompt 1 | The Consolidated Appropriations Act, 2021, through the FAFSA Simplification Act, introduced several significant changes to the FAFSA process, including:\n",
            "\n",
            "1. Implementation of the FUTURE Act Direct Data Exchange (FA-DDX): This replaced the previous IRS Data Retrieval Tool (DRT) and allows the Department of Education to obtain federal tax information directly from the IRS with the consent of the applicants and contributors. This streamlined income reporting by eliminating the need for most applicants and their families to self-report their IRS-reported income and tax data. The FTI transferred via FA-DDX is considered verified for Title IV purposes.\n",
            "\n",
            "2. Consent and Approval Requirements: Both students and their contributors (parents/spouses) must provide consent and approval for the Department to access and use their federal tax information via the FA-DDX.\n",
            "\n",
            "3. Enhanced Data Handling and Privacy Measures: The process now involves explicit consent, approvals, and the use of signatures (FSA IDs). It also includes updated rules regarding the verification of income and tax information, moving away from the IRS-DRT's opt-in mechanism to an automatic, more secure data exchange based on consent.\n",
            "\n",
            "4. Updated Application Procedures: The changes affected the FAFSA application process, making it more streamlined and reducing the need for manual entry of tax information, thus reducing errors and processing time.\n",
            "\n",
            "In summary, the main change brought by the Consolidated Appropriations Act, 2021, to the FAFSA process was the transition from the IRS Data Retrieval Tool to the FA-DDX for importing IRS tax data automatically, contingent on applicant and contributor consent, thereby simplifying the application and verification process. |⏱️ 3.80s | Tokens 9940 | Cost 0.001092\n",
            "Prompt 2 | The purpose of the FAFSA Submission Summary in the financial aid process is to provide students with a detailed record of their submitted FAFSA application. It shows the information they originally provided, the calculated Student Aid Index (SAI), results of eligibility matches, aid history, and any identified inconsistencies or issues requiring resolution. For students who applied online, it often includes a link to view or confirm their FAFSA on the web; for those who submitted a paper FAFSA, a paper copy is mailed. The summary helps students review their application details, make corrections if needed, and understand any flags or comments that might affect their eligibility for federal student aid. |⏱️ 1.97s | Tokens 9993 | Cost 0.001037\n",
            "Prompt 3 | Financial aid administrators can view a variety of information on the ISIR, including:\n",
            "\n",
            "1. Federal Student Aid Data:\n",
            "   - Confirmation that the IRS has provided usable federal tax information (FTI) or not.\n",
            "   - IRS response codes indicating if FTI was successfully retrieved, unavailable, or not available.\n",
            "2. Student and Contributor Information:\n",
            "   - Names, Social Security Numbers (SSNs), and Individual Taxpayer Identification Numbers (ITINs).\n",
            "   - Consent, approval, and signatures related to the FAFSA application.\n",
            "   - Contact information such as current phone numbers, email addresses, and addresses.\n",
            "   - Marital status and family information, including family size and number in college.\n",
            "3. Tax Return Data (from IRS):\n",
            "   - Tax year associated with the FTI.\n",
            "   - Filing status.\n",
            "   - Adjusted Gross Income (AGI).\n",
            "   - Income earned from work.\n",
            "   - U.S. income taxes paid.\n",
            "   - Untaxed IRA distributions and pensions.\n",
            "   - IRA deductions and payments.\n",
            "   - Tax-exempt interest.\n",
            "   - Education credits.\n",
            "   - Income exempt from federal taxation (foreign income).\n",
            "4. Verification and Edit Checks:\n",
            "   - Comments, comment codes, and C Flags indicating issues or necessary actions.\n",
            "   - Rejection or rejection codes if the application is rejected.\n",
            "   - Any discrepancies or conflicts noted during processing.\n",
            "5. Institutional and School Data:\n",
            "   - The federal school code of the receiving school.\n",
            "   - Information about other schools included on the FAFSA (not displayed directly, but on summaries and communication).\n",
            "   \n",
            "In summary, the ISIR provides financial aid administrators access to verified tax information, applicant identifiers, consent history, and processing comments that help determine eligibility for federal student aid. |⏱️ 3.00s | Tokens 9927 | Cost 0.001097\n",
            "Prompt 4 | FTI stands for Federal Tax Information. It includes detailed tax-related data received from the IRS, such as:\n",
            "\n",
            "- Tax Year (e.g., the tax year corresponding to the FAFSA cycle)\n",
            "- Tax Filing Status\n",
            "- Adjusted Gross Income (AGI)\n",
            "- Income Earned from Work\n",
            "- Taxes Paid\n",
            "- Untaxed IRA Distributions\n",
            "- Untaxed Pensions\n",
            "- IRA Deductions and Payments\n",
            "- Tax Exempt Interest\n",
            "- Educational Credits\n",
            "- Schedule C Net Profit or Loss\n",
            "- Income from other schedules or forms, as applicable\n",
            "\n",
            "This information is used primarily to verify a student's or contributor's reported income and tax data during the financial aid process. Only certain FTI transferred directly from the IRS via the FA-DDX (FUTURE Act Direct Data Exchange) is considered verified. Other data may require manual verification or documentation. |⏱️ 2.92s | Tokens 9880 | Cost 0.001040\n",
            "Prompt 5 | If a student needs to contact the FSAIC to sync their data with the SSA, they should reach out to the Federal Student Aid Information Center (FSAIC). According to the information, they can call FSAIC at 1-800-433-3243 or email support@fps.ed.gov for questions related to the FAFSA system and data syncing issues. It is important for the student to inform the FSAIC that they need to manually sync their data with the Social Security Administration (SSA) after resolving any discrepancies or updates with SSA. |⏱️ 1.84s | Tokens 9349 | Cost 0.000968\n",
            "Prompt 6 | The definition of a parent on the FAFSA is relevant for students with unmarried biological parents living together because, in such cases, the FAFSA instructions specify that the parent who provided more than 50% of the student’s financial support during the last 12 months should be the one to report their information on the form. \n",
            "\n",
            "This means:\n",
            "- If two biological parents are unmarried and living together, the parent who contributed the majority of financial support (including child support or alimony paid to the other parent for the benefit of the student) is considered the \"parent\" for FAFSA purposes.\n",
            "- The parent who provided more than half of the student’s support should complete and sign the parental section of the FAFSA, even if the student lives with or is supported by the other parent.\n",
            "- If neither parent provided more than 50% of support, then the parent with the greater income and assets becomes the required contributor to report.\n",
            "\n",
            "This approach ensures that the FAFSA accurately reflects the student's financial dependency status and which parent's information should be used to determine eligibility for federal aid. The key point is that the parent on the FAFSA is determined by financial support, not necessarily by residence or custodial arrangements, unless the parents are married or have adopted the student. |⏱️ 3.30s | Tokens 11123 | Cost 0.001186\n",
            "Prompt 7 | The FAFSA form provides specific guidance for situations where a parent has a unique tax filing status, such as not filing a U.S. tax return due to earning foreign income or other reasons. Here's how it addresses these cases:\n",
            "\n",
            "1. **No U.S. Tax Return Filed Reasoning:**  \n",
            "   When a parent indicates they did not file a U.S. tax return, they are asked to select the reason, which can include earning foreign income, working for an international organization, or other reasons. This helps determine whether manual entry of income and tax data is necessary.\n",
            "\n",
            "2. **Manual Entry of Foreign Income:**  \n",
            "   Parents who earned income in a foreign country but did not file a foreign tax return, or worked for an international organization, are required to manually input their income and tax information into the FAFSA. They should convert foreign currency amounts to U.S. dollars and enter these figures appropriately, as the FAFSA's electronic data transfer (FA-DDX) system does not connect to foreign tax authorities.\n",
            "\n",
            "3. **Impact on Pell Grant Eligibility:**  \n",
            "   The form notes that foreign earned income excluded under the Foreign Earned Income Exclusion is treated as untaxed income. This count can affect Pell Grant calculations, and federal benefit indicators may prompt schools to review such cases to determine eligibility. Schools can use professional judgment to adjust the Student Aid Index (SAI) to accurately reflect the parent's financial situation, potentially moving income from untaxed income to adjusted gross income (AGI) for Pell eligibility purposes.\n",
            "\n",
            "4. **Documentation and Verification:**  \n",
            "   In cases where the parent indicates they did not file a tax return for reasons other than low income, schools may request documentation or require the parent to file a tax return to resolve discrepancies.\n",
            "\n",
            "5. **Special Considerations for Non-U.S. Filers:**  \n",
            "   For parents with foreign status or filing foreign tax returns, the FAFSA advises that they cannot use the automatic data transfer system and must instead manually enter their income and tax information after converting amounts into U.S. dollars.\n",
            "\n",
            "In summary, the FAFSA form explicitly provides instructions and procedures for parents with non-standard tax situations, emphasizing the need for manual input of foreign income and encouraging schools to consider professional judgment when assessing Pell Grant eligibility in these scenarios. |⏱️ 6.73s | Tokens 10966 | Cost 0.001231\n",
            "Prompt 8 | When completing the FAFSA form, a student must provide specific information about their spouse if they are married and did not file a 2023 tax return jointly with that spouse. This includes:\n",
            "\n",
            "- Spouse’s full name\n",
            "- Social Security Number (SSN) or Individual Taxpayer Identification Number (ITIN), if applicable\n",
            "- Date of birth\n",
            "- Email address\n",
            "- Contact information (current mobile phone, email, and home address)\n",
            "- Tax filing status for 2023\n",
            "- Federal tax return information (from their 2023 tax return), if available\n",
            "\n",
            "This information is used in the FAFSA Submission Summary in the following ways:\n",
            "\n",
            "- The identity information (name, SSN/ITIN, date of birth, email) is used to generate a unique record for the spouse.\n",
            "- The contact details help in notifying the spouse about their invited contribution and in correspondence.\n",
            "- The tax filing status and tax return information are used to verify and calculate the information reported on the FAFSA.\n",
            "- If the spouse is required to contribute and completes their section, their data is included in the overall assessment for federal aid eligibility.\n",
            "\n",
            "Additionally, a flag is generated in the Submission Summary indicating whether the spouse was invited to contribute and completed their section, ensuring that the application accurately reflects household financial information for aid calculation purposes. |⏱️ 3.21s | Tokens 10510 | Cost 0.001129\n",
            "Prompt 9 | If a parent says they did not file a tax return but has foreign income affecting their Student Aid Index (SAI), the following applies:\n",
            "\n",
            "- They must provide documentation to verify their income, such as a signed and dated statement certifying they were not required to file a tax return, including sources and amounts of income and resources supporting the individual in 2023.\n",
            "- They need to submit IRS Form W-2 or equivalent documents for any employment income received.\n",
            "- If the parent earned income in a foreign country and did not file a foreign tax return, they must manually report their income by converting foreign currency to U.S. dollars and providing the equivalent amounts.\n",
            "- Income earned from work in foreign countries without filing a foreign tax return is considered untaxed income and can impact Pell Grant eligibility. The amount claimed as the foreign earned income exclusion accounts as untaxed income on the FAFSA; it is not counted in the AGI, but the financial aid administrator (FAA) may review whether this affects Pell eligibility and may use professional judgment to adjust the calculation accordingly.\n",
            "- If the parent’s foreign income or lack of filing causes conflicting information, the FAA may need to request additional documentation or consider professional judgment to determine the impact on aid eligibility.\n",
            "\n",
            "In summary, even if the parent did not file a US tax return but has foreign income, they must provide sufficient documentation and possibly manually report their income, especially if it affects the student’s financial aid calculation. |⏱️ 3.53s | Tokens 10531 | Cost 0.001140\n",
            "Prompt 10 | A student should report taxable grants and scholarships on the FAFSA by including only the portions that are reported as taxable income on their federal tax return. Specifically, the student should report the amount of grants and scholarships received that were included as taxable income on their IRS Form 1040 or 1040-NR for the relevant tax year.\n",
            "\n",
            "The IRS Form 1040 Schedule 1 plays a role in this process because it contains certain lines that help determine the taxable portion of grants and scholarships. For example, the amount from Schedule 1, lines 3 and 6, can be used to verify the taxable grant or scholarship income. However, it is important to note that this reporting is optional on the FAFSA; students only need to report the taxable portions if they were included in their tax return as income.\n",
            "\n",
            "IRS Form 1040 Schedule 1 assists in accurately transferring this information via the FAFSA data transfer process (FA-DDX). When available, data from Schedule 1 automatically populates relevant FAFSA questions, including taxable grant and scholarship income, simplifying the reporting process for the student. If the data is not available through the FA-DDX or if there are discrepancies, students may need to manually report the taxable grants and scholarships based on their IRS tax return.\n",
            "\n",
            "In summary, a student reports taxable grants and scholarships as income on the FAFSA by including the amount reported as taxable in their IRS tax return, and IRS Form 1040 Schedule 1 plays a critical role in transferring and verifying this data during the FAFSA process. |⏱️ 4.86s | Tokens 11246 | Cost 0.001216\n",
            "Prompt 11 | The FUTURE Act Direct Data Exchange (FA-DDX) streamlines the FAFSA application process by using a secure, near-real-time connection between the Internal Revenue Service (IRS) and the Federal Student Aid (FSA) systems to import certain federal tax information (FTI) directly into the FAFSA form. Instead of relying on applicants or contributors to manually report their income and tax data, the FA-DDX automatically retrieves verified FTI from the IRS, reducing errors and the need for manual data entry. This process makes completing the FAFSA faster, more accurate, and more efficient.\n",
            "\n",
            "The role of the Internal Revenue Code (IRC), specifically amended Section 6103, is fundamental in this process because it authorizes the IRS to disclose specific tax return information to the Department of Education (DOE) for the purpose of determining student financial aid eligibility. The amendment to Section 6103 formalizes the legal basis for the IRS to share designated FTI with FSA under the FA-DDX, ensuring that the data exchange complies with federal laws governing taxpayer privacy and confidentiality. This legal framework underpins the secure and authorized transfer of tax data, facilitating the streamlined process while maintaining necessary privacy protections. |⏱️ 3.68s | Tokens 10049 | Cost 0.001075\n",
            "\n",
            "📊 Summary for Naive:\n",
            "🔢 Total tokens: 113514\n",
            "⏱️ Avg latency: 3.53s\n",
            "🔢 Avg tokens per query: 10319.45\n",
            "⏱️ Total duration: 38.87s\n",
            "💰 Total cost: 0.012209\n"
          ]
        },
        {
          "data": {
            "application/vnd.jupyter.widget-view+json": {
              "model_id": "ce7ac7e8745a4a8fbaefaa555a98142d",
              "version_major": 2,
              "version_minor": 0
            },
            "text/plain": [
              "Evaluating:   0%|          | 0/66 [00:00<?, ?it/s]"
            ]
          },
          "metadata": {},
          "output_type": "display_data"
        },
        {
          "name": "stderr",
          "output_type": "stream",
          "text": [
            "Exception raised in Job[17]: ValueError(setting an array element with a sequence. The requested array has an inhomogeneous shape after 1 dimensions. The detected shape was (10,) + inhomogeneous part.)\n",
            "Exception raised in Job[10]: TimeoutError()\n",
            "Exception raised in Job[22]: TimeoutError()\n",
            "Exception raised in Job[28]: TimeoutError()\n",
            "Exception raised in Job[34]: TimeoutError()\n",
            "Exception raised in Job[46]: TimeoutError()\n",
            "Exception raised in Job[58]: TimeoutError()\n",
            "Exception raised in Job[64]: TimeoutError()\n"
          ]
        },
        {
          "name": "stdout",
          "output_type": "stream",
          "text": [
            "Evaluation LLM model: gpt-4.1-nano\n",
            "Evaluation results: {'context_recall': 0.9091, 'faithfulness': 0.9955, 'factual_correctness(mode=f1)': 0.7636, 'answer_relevancy': 0.9499, 'context_entity_recall': 0.3715, 'noise_sensitivity(mode=relevant)': 0.1200}\n",
            "Evaluation tokens: 953293\n",
            "Evaluation cost: 0.144740\n",
            "✅ Full result saved to: loan_docs_retriever_logs/naive_logs.json\n"
          ]
        }
      ],
      "source": [
        "naive_evaluation = evaluate_retriever(\"Naive\", naive_retrieval_chain, dataset)"
      ]
    },
    {
      "cell_type": "code",
      "execution_count": 109,
      "metadata": {},
      "outputs": [
        {
          "name": "stdout",
          "output_type": "stream",
          "text": [
            "📊 Running evaluation for: BM25\n",
            "Prompt 1 | The Consolidated Appropriations Act, 2021, through the FAFSA Simplification Act, brought significant changes to the FAFSA process, notably implementing the FUTURE Act Direct Data Exchange (FA-DDX) with the IRS. This replaced the previous IRS Data Retrieval Tool (IRS-DRT), allowing most applicants and their contributors to have their federal tax information (FTI) automatically imported into the FAFSA form with consent and approval. This change streamlined the application process, making it faster and less burdensome for students by reducing the need for manual income reporting and enhancing the accuracy of income data used for financial aid eligibility determination. Additionally, the transfer of FTI via FA-DDX is considered verified for Title IV purposes, further simplifying compliance and verification procedures. |⏱️ 3.18s | Tokens 4078 | Cost 0.000453\n",
            "Prompt 2 | The purpose of the FAFSA Submission Summary in the financial aid process is to provide the student with a record of the information they submitted on their FAFSA form, including the Official Student Information Record (ISIR) details, the Student Aid Index (SAI), and the results of processing and eligibility matches. It also highlights any inconsistencies or issues identified during FAFSA processing that need resolution. Additionally, the FAFSA Submission Summary may be used for making corrections or updates to the application and serves as a necessary document for verifying and approving aid disbursement. |⏱️ 0.06s | Tokens 3999 | Cost 0.000432\n",
            "Prompt 3 | Financial aid administrators can view several types of information on the ISIR (Institutional Student Information Record), including:\n",
            "\n",
            "- Data transferred from the IRS related to the student's federal tax info, such as:\n",
            "  - Tax Year\n",
            "  - Tax Filing Status\n",
            "  - Adjusted Gross Income (AGI)\n",
            "  - Number of Exemptions and Dependents\n",
            "  - Income Earned from Work\n",
            "  - Taxes Paid\n",
            "  - Educational Credits\n",
            "  - Untaxed IRA distributions\n",
            "  - IRA deductions and payments\n",
            "  - Tax-exempt interest\n",
            "  - Untaxed pension amounts\n",
            "  - Schedule C net profit/loss\n",
            "\n",
            "- Submission status, including whether the student or contributor has provided required consent and signatures.\n",
            "- Updated student information such as address and contact details.\n",
            "- The status of their FAFSA application, including corrections and submission summary.\n",
            "- Any comments or flags regarding verification, conflicts, or changes in data that may impact aid eligibility.\n",
            "\n",
            "It is important to note that students and contributors cannot view or edit their transferred IRS data directly; only the financial aid administrators can see this information on the ISIR. Additionally, administrators are responsible for protecting this sensitive data and using it strictly within permitted regulatory guidelines. |⏱️ 4.47s | Tokens 3932 | Cost 0.000465\n",
            "Prompt 4 | FTI stands for Federal Tax Information. It includes the following data received from the IRS:\n",
            "\n",
            "- Tax Year (e.g., 2023 tax data for 2025-26 application)\n",
            "- Tax Filing Status\n",
            "- Adjusted Gross Income (AGI)\n",
            "- Number of Exemptions and Dependents\n",
            "- Income Earned from Work\n",
            "- Taxes Paid\n",
            "- Educational Credits\n",
            "- Untaxed IRA Distributions\n",
            "- IRA Deductions and Payments\n",
            "- Tax Exempt Interest\n",
            "- Untaxed Pension Amounts\n",
            "- Schedule C Net Profit/Loss\n",
            "\n",
            "This information is used to determine a student's eligibility for federal student aid, and when obtained directly from the IRS with the individual's consent via the FA-DDX (FUTURE Act Direct Data Exchange), it is considered verified. |⏱️ 2.21s | Tokens 4007 | Cost 0.000448\n",
            "Prompt 5 | If a student needs to contact the FSAIC to manually sync their data with the SSA, they should reach out to the Federal Student Aid Information Center (FSAIC) and request that they manually synchronize their data with SSA. Alternatively, if the student has received confirmation from SSA that their records have been corrected, they can notify the school or the FAA (Financial Aid Administrator), and the FAA may update the Resend to Matches field in the FAFSA Partner Portal (FPP) to <Y= to facilitate the manual update. |⏱️ 1.70s | Tokens 4366 | Cost 0.000468\n",
            "Prompt 6 | The definition of a parent on the FAFSA is relevant for students with unmarried biological parents living together because it clarifies who should be considered a parent and therefore report financial information on the form. Specifically, the FAFSA considers a biological or adoptive parent, or a person determined by the state to be a parent (e.g., listed on a birth certificate), as a parent. \n",
            "\n",
            "For students with unmarried biological parents living together, both parents are typically considered parents if they are living together and both qualify under this definition. They would each be required to complete their portion of the FAFSA, report their income and assets, and provide their identifying and contact information. The form accounts for their marital status—whether they are married, unmarried and living together, or divorced/never married—and guides the student on which parent(s) to list based on financial support provided over the past year.\n",
            "\n",
            "If both biological parents are unmarried but living together, they are both considered parents and are expected to report their financial information, with their marital status noted as \"unmarried and living together.\" This ensures that the FAFSA accurately reflects the household’s financial situation and complies with federal requirements.\n",
            "\n",
            "In summary, understanding that both biological parents living together are considered parents helps ensure the student completes the FAFSA correctly by including both parents’ information when appropriate, which directly impacts their financial aid eligibility determination. |⏱️ 3.02s | Tokens 4440 | Cost 0.000524\n",
            "Prompt 7 | The FAFSA form addresses situations where a parent's tax filing status is unique, such as not filing a U.S. tax return due to foreign income or other reasons, by providing specific instructions for manual entry and categorization. If a parent has not filed a U.S. tax return because they earned income outside the U.S., in a foreign country, or from an international organization and was not required to file, they should answer \"No\" to the question about filing a 2023 IRS form 1040 or 1040-NR. They will then be asked to select a reason for not filing, such as earning foreign income or working for an international organization. \n",
            "\n",
            "In these cases, they are required to manually input their income and tax information into the FAFSA form by converting foreign currency amounts into U.S. dollars and entering the corresponding data in the appropriate fields. The form explicitly states that individuals with foreign income or who worked for an international organization but are not required to file U.S. taxes must manually enter their income data, as they cannot use the automated data transfer system (FA-DDX) for foreign tax returns. \n",
            "\n",
            "This approach ensures that the FAFSA can accurately assess the financial situation of students with parents who have unique or non-U.S. tax filing statuses, even if a U.S. tax return was not filed. |⏱️ 5.50s | Tokens 4711 | Cost 0.000551\n",
            "Prompt 8 | When completing the FAFSA form, a student must provide certain information about their spouse if applicable. Specifically, the student must:\n",
            "\n",
            "1. **Identity Information**: The spouse's name, Social Security number (SSN) or ITIN if available, date of birth, and email address.\n",
            "2. **Contact Information**: The spouse's current mobile phone number, email address, and permanent home address.\n",
            "3. **Tax Filing Status and Information**: \n",
            "   - Whether the spouse filed (or will file) a 2023 IRS Form 1040 or 1040-NR, including any foreign or territorial filings.\n",
            "   - Details from the spouse’s 2023 federal tax return, which may be transferred automatically or entered manually.\n",
            "4. **Consent, Approval, and Signature**:\n",
            "   - The spouse must consent to the disclosure of their federal tax information to the IRS and agree that the Department of Education can use and redisclose their federal tax data.\n",
            "   - The spouse’s FSA ID (username and password) serves as their electronic signature if completing online; if submitting a paper FAFSA, they will provide a physical signature.\n",
            "\n",
            "**How this information is used in the FAFSA Submission Summary:**\n",
            "\n",
            "- The provided spouse information will be summarized in the FAFSA Submission Confirmation, including the status of their tax filing and the data transferred from their federal tax return.\n",
            "- If the spouse gave consent and approved, their federal tax information can be shared with the Department of Education and certain authorized entities.\n",
            "- The summary confirms that all required spouse details and signatures have been included and accepted, ensuring the student's FAFSA is complete for processing.\n",
            "\n",
            "If you are unsure about any specific details or procedures, it is recommended to consult the official FAFSA instructions or speak with a financial aid advisor. |⏱️ 3.97s | Tokens 4555 | Cost 0.000561\n",
            "Prompt 9 | If a parent did not file a tax return but has foreign income that affects the Student Aid Index (SAI), the guidance indicates that the parent may need to manually report their income and tax information. Specifically, if the parent earned income in a foreign country but did not file a foreign tax return or did not earn income that requires a U.S. tax filing, they might need to provide a signed statement certifying that they were not required to file, along with documentation of their income and resources. \n",
            "\n",
            "This foreign income can impact the SAI, especially if it is untaxed or excluded under foreign earned income exclusions. In such cases, the FAFSA may require additional documentation to verify this income and determine its effect on the student's financial aid eligibility.\n",
            "\n",
            "In summary, if a parent didn't file a U.S. tax return but has foreign income impacting SAI, they need to provide documentation or a statement certifying their foreign income and resources, and their income may still be considered when evaluating aid eligibility. |⏱️ 2.89s | Tokens 4665 | Cost 0.000526\n",
            "Prompt 10 | A student should report taxable grants and scholarships on the FAFSA by including the amount received that was reported as taxable income on their federal tax return. Specifically, this includes portions of fellowships and assistantships, taxable stipends, and employer tuition reimbursements that the student acknowledged as taxable income.\n",
            "\n",
            "The role of IRS Form 1040 Schedule 1 in this process is to help determine the taxable amount of grants and scholarships, as well as other income and adjustments. When the IRS provides data via the FAFSA Data Exchange (FA-DDX), the taxable grants and scholarships are transferred directly from the IRS information or entered manually if needed. These amounts are typically derived from IRS Form 1040, Schedule 1, line 21, which reports taxable scholarships and grants. \n",
            "\n",
            "In summary, the student reports taxable grants and scholarships based on their tax return information, primarily using IRS Form 1040 Schedule 1 for accurate reporting and verification. |⏱️ 2.52s | Tokens 4682 | Cost 0.000524\n",
            "Prompt 11 | The FUTURE Act Direct Data Exchange (FA-DDX) streamlines the FAFSA application process by enabling the direct transfer of certain federal tax information (FTI) from the Internal Revenue Service (IRS) to the Department of Education's Federal Student Aid (FSA). This process reduces the need for applicants and their contributors, such as parents or spouses, to manually report and verify income and tax data. \n",
            "\n",
            "Specifically, the FA-DDX utilizes a secure, near-real-time connection established through an application programming interface (API) between the IRS and FSA to facilitate the automatic, electronic retrieval of relevant tax data. This automation speeds up the verification process, enhances accuracy, and ensures that the FTI used in determining financial aid eligibility is considered verified, thereby eliminating the need for additional documentation.\n",
            "\n",
            "The role of the Internal Revenue Code (IRC) in this process is foundational. The FUTURE Act amended Section 6103 of the IRC, mandating the IRS to disclose certain tax return information to the Department of Education via the FA-DDX. This legal change ensures authorized, lawful access to the necessary tax data, with the individual’s consent and approval, to improve the efficiency and reliability of FAFSA data collection and verification. \n",
            "\n",
            "In summary, the FA-DDX leverages the authority granted by the IRC to facilitate a secure, direct exchange of tax data, thereby simplifying and expediting the FAFSA application process while maintaining compliance with federal laws governing information disclosure. |⏱️ 4.84s | Tokens 4358 | Cost 0.000522\n",
            "\n",
            "📊 Summary for BM25:\n",
            "🔢 Total tokens: 47793\n",
            "⏱️ Avg latency: 3.12s\n",
            "🔢 Avg tokens per query: 4344.82\n",
            "⏱️ Total duration: 34.39s\n",
            "💰 Total cost: 0.005475\n"
          ]
        },
        {
          "data": {
            "application/vnd.jupyter.widget-view+json": {
              "model_id": "82d0d700c1c44e859817fab63b9305c0",
              "version_major": 2,
              "version_minor": 0
            },
            "text/plain": [
              "Evaluating:   0%|          | 0/66 [00:00<?, ?it/s]"
            ]
          },
          "metadata": {},
          "output_type": "display_data"
        },
        {
          "name": "stderr",
          "output_type": "stream",
          "text": [
            "Exception raised in Job[10]: TimeoutError()\n",
            "Exception raised in Job[4]: TimeoutError()\n",
            "Exception raised in Job[22]: TimeoutError()\n",
            "Exception raised in Job[34]: TimeoutError()\n",
            "Exception raised in Job[40]: TimeoutError()\n"
          ]
        },
        {
          "name": "stdout",
          "output_type": "stream",
          "text": [
            "Evaluation LLM model: gpt-4.1-nano\n",
            "Evaluation results: {'context_recall': 0.9818, 'faithfulness': 0.9899, 'factual_correctness(mode=f1)': 0.7945, 'answer_relevancy': 0.9500, 'context_entity_recall': 0.4110, 'noise_sensitivity(mode=relevant)': 0.1902}\n",
            "Evaluation tokens: 504282\n",
            "Evaluation cost: 0.079412\n",
            "✅ Full result saved to: loan_docs_retriever_logs/bm25_logs.json\n"
          ]
        }
      ],
      "source": [
        "bm25_evaluation = evaluate_retriever(\"BM25\", bm25_retrieval_chain, dataset)"
      ]
    },
    {
      "cell_type": "code",
      "execution_count": 110,
      "metadata": {},
      "outputs": [
        {
          "name": "stdout",
          "output_type": "stream",
          "text": [
            "📊 Running evaluation for: Multi-Query\n",
            "Prompt 1 | The Consolidated Appropriations Act, 2021, through the FAFSA Simplification Act, brought significant changes to the FAFSA process, primarily focusing on streamlining and simplifying application procedures. The key changes include:\n",
            "\n",
            "1. **Introduction of the FAFSA Simplification Act**: Mandated a comprehensive overhaul of the FAFSA form, need analysis, and related policies, in conjunction with the FUTURE Act.\n",
            "\n",
            "2. **Implementation of the Future Act Direct Data Exchange (FA-DDX)**: Replaced the IRS Data Retrieval Tool (DRT) with a secure, near-real-time data exchange system that automatically imports certain federal tax information (FTI) directly from the IRS into the FAFSA after obtaining applicant consent. This reduces the need for self-reporting income and tax data, enhances accuracy, and considers transferred FTI as verified for Title IV purposes.\n",
            "\n",
            "3. **Enhanced Consent and Approval Requirements**: Applicants and contributors (parents/spouses) must explicitly provide consent and approval for the Department of Education to retrieve and use IRS data via the FA-DDX. Signatures are now required, and consent patches the process for both online and paper applications.\n",
            "\n",
            "4. **Changes in Application Process and User Interface**:\n",
            "   - The FAFSA form was updated to include new instructions, and some sections (like the Returning FAFSA Filers) were deferred.\n",
            "   - Both online and paper FAFSA forms are available, with online filing offering improved skip logic and error reduction.\n",
            "   - The FAFSA Partner Portal replaced FAA Access to CPS Online, limiting certain administrative functions like initiating a new application on behalf of a student, emphasizing that all contributors must provide their own consent.\n",
            "\n",
            "5. **Updated Deadlines and Processing**:\n",
            "   - The application cycle for 2025-26 opened for beta testing on October 1, 2024, with full availability expected by December 1, 2024.\n",
            "   - Applications are accepted through June 30, 2026.\n",
            "   - Deadlines for submitting and correcting applications, as well as for verification and disbursement processes, were clarified.\n",
            "\n",
            "6. **Reduction of Certain Features**:\n",
            "   - FAFSA renewal functionality has been deferred to future cycles.\n",
            "   - Certain COVID-19 related guidance and waivers were removed to reflect updated policies.\n",
            "\n",
            "Overall, these changes aim to make the FAFSA process more user-friendly, reduce the burden of income reporting, enhance data accuracy, and improve the efficiency and security of federal student aid administration. |⏱️ 12.13s | Tokens 16329 | Cost 0.001808\n",
            "Prompt 2 | The purpose of the FAFSA Submission Summary in the financial aid process is to provide students with a record of their submitted FAFSA form after processing. It confirms that their application is complete, details the information provided, and includes the Student Aid Index (SAI), results of eligibility matches, aid history, and any identified issues or inconsistencies. If the student has an email address, they receive a link to view their summary online; otherwise, a paper copy is mailed. This document helps students verify their application details, make necessary corrections, and serves as proof of submission during the aid consideration process. |⏱️ 2.78s | Tokens 11232 | Cost 0.001172\n",
            "Prompt 3 | Financial aid administrators can view a variety of information on the ISIR, including:\n",
            "\n",
            "1. **Federal Tax Information (FTI):** Such as tax year, filing status, adjusted gross income (AGI), exemptions and dependents, income earned from work, taxes paid, educational credits, untaxed IRA distributions, IRA deductions, tax-exempt interest, untaxed pension amounts, and Schedule C net profit/loss. This data may be transferred from the IRS via the FA-DDX or manually entered if unavailable.\n",
            "\n",
            "2. **Satisfaction of Consent and Signature Requirements:** Confirmation that the student and contributors have provided necessary consent, approval, and signatures (FSA ID or physical signatures) for the use and disclosure of FTI and other data.\n",
            "\n",
            "3. **Verification Flags and Comments:** Indicators of issues or discrepancies identified in the application, such as comment codes requiring resolution, verification tracking groups, and C Flags that may impact eligibility or disbursements.\n",
            "\n",
            "4. **Application Data and Demographics:** Including identity information, marital status, state of residence, family size, number in college, and contact details, which are used for eligibility calculations and matches.\n",
            "\n",
            "5. **Processing and Verification Status:** Such as whether the application has been verified, selected for identity verification, or contains inconsistent or conflicting information that needs review.\n",
            "\n",
            "6. **School Information:** The federal school code of the institution receiving the aid, and other school-specific data related to the application.\n",
            "\n",
            "7. **Additional Data:** Comments, reject codes, and information about corrections or updates made to the application.\n",
            "\n",
            "It's important to note that the ISIR does not display information related to other schools listed on the FAFSA unless sent to state agencies, nor does it contain actual FTI beyond what is transferred from the IRS. All data are subject to Department rules governing confidentiality and proper handling.\n",
            "\n",
            "In summary, the ISIR provides a comprehensive snapshot of the applicant's federal aid eligibility data, tax information (if available and verified), application status, and any issues needing resolution, which are crucial for financial aid decision-making. |⏱️ 5.10s | Tokens 14759 | Cost 0.001617\n",
            "Prompt 4 | FTI stands for Federal Tax Information. It includes specific data received by the Department from the IRS related to a taxpayer's filed tax returns. The information included in FTI encompasses:\n",
            "\n",
            "- Tax Year (e.g., information from the 2023 tax year for the 2025-26 FAFSA cycle)\n",
            "- Tax Filing Status\n",
            "- Adjusted Gross Income (AGI)\n",
            "- Number of Exemptions and Dependents\n",
            "- Income Earned from Work\n",
            "- Taxes Paid\n",
            "- Educational Credits\n",
            "- Untaxed IRA Distributions\n",
            "- IRA Deductions and Payments\n",
            "- Tax Exempt Interest\n",
            "- Untaxed Pension Amounts\n",
            "\n",
            "This data is transferred from the IRS via the FA-DDX (FUTURE Act Direct Data Exchange) and is considered verified for federal student aid purposes. |⏱️ 4.21s | Tokens 11069 | Cost 0.001173\n",
            "Prompt 5 | If a student needs to contact the FSAIC to sync their data with the SSA, they should call the FSAIC at 1-800-433-3243. This contact number is provided in the guidance for translation assistance and support related to FAFSA issues, including syncing data with the SSA. It is recommended that the student reach out to FSAIC directly to address any discrepancies in their SSA records and to request manual synchronization of their information. |⏱️ 1.95s | Tokens 11490 | Cost 0.001195\n",
            "Prompt 6 | The definition of a parent on the FAFSA is highly relevant for students with unmarried biological parents living together. According to the guidance, when parents are divorced or never married and not living together, the parent whose financial support provided more than 50% of the student's support during the last 12 months should be reported as the parent on the FAFSA. This means that even if the student lives with or receives support from the other biological parent, the parent who contributed the greater share of financial support is the one whose information is necessary for completing the form.\n",
            "\n",
            "If neither parent provided more than 50% support, then the parent with the greater income and assets should be reported. In cases where support was equally split or support is minimal, the parent with the higher income and assets takes precedence.\n",
            "\n",
            "This definition ensures that the FAFSA accurately reflects the student's primary financial support source, which is crucial for determining dependency status and financial aid eligibility. It also clarifies that a stepparent who has not adopted the student is not considered a parent for FAFSA purposes, even if they are married to the biological parent or living with them.\n",
            "\n",
            "In summary, for students with unmarried biological parents living together, the FAFSA uses the parent who provided more than half of the student's support during the last year as the relevant parent. If support was less than 50%, then the parent with the higher income and assets is reported. This approach helps establish who should be the parent contributor on the FAFSA and ensures the financial information is accurate for aid calculation. |⏱️ 5.95s | Tokens 13157 | Cost 0.001433\n",
            "Prompt 7 | The FAFSA form addresses situations where a student's parent has a unique tax filing status—such as not filing a U.S. tax return due to foreign income, working for international organizations, or filing in U.S. territories—by providing specific guidelines:\n",
            "\n",
            "- Parents or guardians who did not file a U.S. tax return and indicate reasons such as foreign income, foreign tax filing, or working for international organizations must manually input their income and tax information, converting foreign currency amounts to U.S. dollars.  \n",
            "- If a parent filed or will file a foreign tax return, or earned income abroad without filing a foreign return, they need to report their income manually because the FA-DDX system does not link to foreign tax authorities.  \n",
            "- Parents who live and work in U.S. territories but file taxes with local authorities rather than the IRS should answer \"No\" to the U.S. filing question and then select the appropriate reason (e.g., filed in a U.S. territory). They may need to manually enter their income information if the IRS data isn't available.  \n",
            "- For parents earning income in foreign countries but not filing a foreign return, they must report their income in U.S. dollars, including converting foreign currencies and entering amounts in the relevant sections.  \n",
            "- The form includes instructions for manual data entry and documentation review if conflicting or unusual circumstances are present.\n",
            "\n",
            "In summary, when a parent has a nonstandard tax filing status—such as foreign income or filing solely in a U.S. territory—the FAFSA form prompts for manual entry of their financial information, and may require additional documentation to verify their reported income and circumstances. |⏱️ 7.35s | Tokens 14959 | Cost 0.001627\n",
            "Prompt 8 | A student must provide the following information about their spouse when completing the FAFSA form:\n",
            "\n",
            "1. **Spouse’s Identity Information**:\n",
            "   - Name (matching their Social Security card)\n",
            "   - Social Security Number (SSN) (or all zeros if they do not have one and are completing a paper FAFSA)\n",
            "   - Date of Birth\n",
            "   - Email Address\n",
            "\n",
            "2. **Spouse’s Contact Information**:\n",
            "   - Current mobile phone number\n",
            "   - Current email address\n",
            "   - Permanent home address\n",
            "\n",
            "3. **Spouse’s Tax Filing Status**:\n",
            "   - Whether the spouse filed or will file a 2023 IRS Form 1040 or 1040-NR\n",
            "   - Income earned in a foreign country or in U.S. territories\n",
            "\n",
            "4. **Spouse’s 2023 Tax Return Information**:\n",
            "   - Data directly from the spouse’s 2023 federal tax return, including income details, which may be transferred via the FAFSA Data Exchange (FA-DDX) or entered manually\n",
            "\n",
            "5. **Consent, Approval, and Signature**:\n",
            "   - The spouse must consent to the disclosure of their information to the IRS\n",
            "   - Approve that the Department of Education may use and share their federal tax information\n",
            "   - Provide their FSA ID (or sign physically if submitting a paper FAFSA)\n",
            "\n",
            "**How this information is used in the FAFSA Submission Summary:**\n",
            "\n",
            "- The spouse’s identity and contact information are included in the FAFSA Submission Summary, which confirms that their data has been provided and processed.\n",
            "- If the spouse is identified as a required contributor (e.g., if the student is married and did not file jointly with their spouse), their information is used to invite them to complete their portion of the FAFSA.\n",
            "- The spouse’s tax filing status and 2023 tax return information contribute to the calculation of the Expected Family Contribution (EFC) and other financial need analyses.\n",
            "- The signatures and consents verify that the spouse approves of the data sharing and certifies the accuracy of the provided information.\n",
            "\n",
            "In summary, the spouse must provide personal and financial information, which is then used to calculate the student’s financial aid eligibility, and the completeness of this information is reflected in the FAFSA Submission Summary. |⏱️ 13.03s | Tokens 13951 | Cost 0.001557\n",
            "Prompt 9 | If a parent indicates that they did not file a U.S. tax return but has foreign income that affects the Student Aid Index (SAI), the guidance suggests that you'd need to manually enter their income and tax information. Since foreign income does not typically generate a U.S. tax return, it requires conversion into U.S. dollars and manual input into the FAFSA form. \n",
            "\n",
            "Additionally, you should verify whether the foreign income impacts the student's Pell Grant eligibility, especially if the foreign earned income exclusion was claimed, as it counts as untaxed income and could affect eligibility. In such cases, the Financial Aid Administrator (FAA) may consider using professional judgment to include foreign income in the SAI calculation appropriately, potentially adjusting how the income is reported (e.g., moving it from untaxed income to AGI).\n",
            "\n",
            "If there is conflicting information—such as the parent having foreign income but no filed return—you may need to request additional documentation or clarification to accurately determine the student's eligibility.\n",
            "\n",
            "In summary, if a parent didn't file a U.S. tax return but has foreign income, it generally involves manual entry of the foreign income, conversion to U.S. dollars, and possible professional judgment considerations to assess its impact on aid eligibility. |⏱️ 7.47s | Tokens 12498 | Cost 0.001350\n",
            "Prompt 10 | A student should report taxable grants and scholarships on the FAFSA by including only those amounts that were reported as taxable income on their 2023 federal tax return. Specifically, the student should report taxable grants, scholarships, and AmeriCorps benefits that were included as income on their IRS Form 1040 or 1040-NR.\n",
            "\n",
            "The role of IRS Form 1040 Schedule 1 in this process is to provide information for certain taxable income items that are not directly transferred via the data retrieval tool. Specifically, Schedule 1, lines 3 and 6, report income such as taxable grants and scholarships, and these amounts are transferred into the FAFSA through the IRS data transfer process when available. If this information is successfully imported, the FAFSA will automatically include the taxable portion of grants and scholarships based on what was reported on Schedule 1.\n",
            "\n",
            "In cases where the IRS data retrieval system does not transfer this information, the student or the financial aid administrator must manually enter the taxable grant and scholarship amount into the FAFSA form. This ensures the accurate calculation of the Student Aid Index (SAI) and eligibility for aid.\n",
            "\n",
            "In summary:\n",
            "- Report taxable grants and scholarships only if they are reported as taxable income on the 2023 tax return.\n",
            "- IRS Form 1040 Schedule 1 plays a key role by providing specific data elements, including taxable grant and scholarship income, which can be transferred automatically to the FAFSA.\n",
            "- If automatic transfer is unavailable, manual entry is required.\n",
            "\n",
            "Let me know if you'd like further clarification! |⏱️ 10.26s | Tokens 16509 | Cost 0.001774\n",
            "Prompt 11 | The FUTURE Act Direct Data Exchange (FA-DDX) streamlines the FAFSA application process by enabling the secure, near-real-time transfer of certain federal tax information (FTI) from the Internal Revenue Service (IRS) directly into the FAFSA form. This process reduces the need for applicants, such as students and their contributors (parents and spouses), to manually report their income and tax data, improving accuracy and saving time.\n",
            "\n",
            "Here's how it works:\n",
            "- When the applicant and contributors provide consent and approval, the IRS shares specific FTI—such as adjusted gross income, taxes paid, and other relevant tax data—with the Department of Education via the FA-DDX.\n",
            "- The data transferred from the IRS is considered verified, meaning it does not require additional manual verification unless discrepancies arise.\n",
            "- The FA-DDX replaces the previous IRS Data Retrieval Tool (IRS-DRT), which was opt-in only, making the process more automatic and accessible for all eligible applicants.\n",
            "\n",
            "The role of the Internal Revenue Code (IRC) in this process is foundational:\n",
            "- The FUTURE Act amended Section 6103 of the IRC, which governs the privacy and disclosure of federal tax information.\n",
            "- This amendment explicitly authorizes the IRS to disclose certain FTI to the Department of Education once the applicant and contributors have provided the necessary consent and approval.\n",
            "- Essentially, the IRC provides the legal authority and framework that allow the IRS to share tax information securely with the Department, enabling the FA-DDX to function within legal boundaries and protect taxpayer privacy.\n",
            "\n",
            "In summary, the FA-DDX leverages the authority granted by the amended IRC to facilitate a more efficient, accurate, and secure transfer of tax data from the IRS to the FAFSA form, significantly streamlining the application process. |⏱️ 11.82s | Tokens 13488 | Cost 0.001490\n",
            "\n",
            "📊 Summary for Multi-Query:\n",
            "🔢 Total tokens: 149441\n",
            "⏱️ Avg latency: 7.46s\n",
            "🔢 Avg tokens per query: 13585.55\n",
            "⏱️ Total duration: 82.08s\n",
            "💰 Total cost: 0.016196\n"
          ]
        },
        {
          "data": {
            "application/vnd.jupyter.widget-view+json": {
              "model_id": "8c90f75dce02480fa784bac196f6c2de",
              "version_major": 2,
              "version_minor": 0
            },
            "text/plain": [
              "Evaluating:   0%|          | 0/66 [00:00<?, ?it/s]"
            ]
          },
          "metadata": {},
          "output_type": "display_data"
        },
        {
          "name": "stderr",
          "output_type": "stream",
          "text": [
            "Exception raised in Job[4]: TimeoutError()\n",
            "Exception raised in Job[5]: TimeoutError()\n",
            "Exception raised in Job[10]: TimeoutError()\n",
            "Exception raised in Job[17]: TimeoutError()\n",
            "Exception raised in Job[22]: TimeoutError()\n",
            "Exception raised in Job[23]: TimeoutError()\n",
            "Exception raised in Job[28]: TimeoutError()\n",
            "Exception raised in Job[35]: TimeoutError()\n",
            "Exception raised in Job[40]: TimeoutError()\n",
            "Exception raised in Job[41]: TimeoutError()\n",
            "Exception raised in Job[46]: TimeoutError()\n",
            "Exception raised in Job[47]: TimeoutError()\n",
            "Exception raised in Job[52]: TimeoutError()\n",
            "Exception raised in Job[53]: TimeoutError()\n",
            "Exception raised in Job[59]: TimeoutError()\n",
            "Exception raised in Job[65]: TimeoutError()\n"
          ]
        },
        {
          "name": "stdout",
          "output_type": "stream",
          "text": [
            "Evaluation LLM model: gpt-4.1-nano\n",
            "Evaluation results: {'context_recall': 0.9091, 'faithfulness': 1.0000, 'factual_correctness(mode=f1)': 0.8473, 'answer_relevancy': 0.9488, 'context_entity_recall': 0.5500, 'noise_sensitivity(mode=relevant)': 0.1250}\n",
            "Evaluation tokens: 998899\n",
            "Evaluation cost: 0.150473\n",
            "✅ Full result saved to: loan_docs_retriever_logs/multi-query_logs.json\n"
          ]
        }
      ],
      "source": [
        "multi_query_evaluation = evaluate_retriever(\"Multi-Query\", multi_query_retrieval_chain, dataset)"
      ]
    },
    {
      "cell_type": "code",
      "execution_count": 111,
      "metadata": {},
      "outputs": [
        {
          "name": "stdout",
          "output_type": "stream",
          "text": [
            "📊 Running evaluation for: Parent-Document\n",
            "Prompt 1 | The Consolidated Appropriations Act, 2021, through the FAFSA Simplification Act, brought significant changes to the FAFSA process, including:\n",
            "\n",
            "1. Implementation of the FAFSA Simplification Act alongside the FUTURE Act to streamline the FAFSA application process.\n",
            "2. Introduction of the FUTURE Act Direct Data Exchange (FA-DDX) with the IRS, replacing the previous IRS Data Retrieval Tool (DRT). The FA-DDX automates the transfer of income and tax information from the IRS to the FAFSA form, reducing the need for applicants and their families to self-report this information.\n",
            "3. The transferred federal tax information (FTI) via the FA-DDX is considered verified for Title IV purposes.\n",
            "4. Applicants and contributors must provide consent and approval for the Department to obtain and use their IRS tax information through the FA-DDX.\n",
            "5. Updates to the FAFSA application and verification processes, including date updates, resource links, and the removal of references to COVID-19 guidance and waivers.\n",
            "6. Changes in the application process included the movement of certain sections to improve the narrative flow and the deferred renewal functionality for FAFSA filings.\n",
            "\n",
            "These changes aimed to simplify and improve the accuracy of the FAFSA application process by reducing the burden on applicants to input income data manually. |⏱️ 4.69s | Tokens 1323 | Cost 0.000208\n",
            "Prompt 2 | The purpose of the FAFSA Submission Summary in the financial aid process is to provide students with a record of the information they submitted on their FAFSA application, including the Student Aid Index (SAI), results of eligibility matches, aid history, and any identified inconsistencies or issues from the FAFSA processing. It helps students review and verify their submitted data, make corrections if necessary, and understand any required actions to resolve issues before aid can be disbursed. For schools, it also serves as a tool to access key application details and ensure proper processing of aid. |⏱️ 3.39s | Tokens 2132 | Cost 0.000246\n",
            "Prompt 3 | Financial aid administrators can view the following information on the ISIR:\n",
            "\n",
            "- The federal school code of the receiving school.\n",
            "- Data related to the student's federal student aid eligibility, including the Selected Assistance Index (SAI) or the results of eligibility matches.\n",
            "- Information about any inconsistencies or errors identified through FAFSA processing edits.\n",
            "- Comments, comment codes, and C Flags that indicate issues needing resolution before disbursing aid.\n",
            "- Details about the student's and required contributors' data, such as consent, approval, signatures, and information provided about the FAFSA contributors.\n",
            "- Federal Tax Information (FTI) transferred from the IRS, which includes tax year, tax filing status, Adjusted Gross Income (AGI), number of dependents and exemptions, income from work, taxes paid, educational credits, untaxed IRA distributions, IRA deductions, tax-exempt interest, untaxed pension amounts, and Schedule C net profit/loss.\n",
            "\n",
            "Additionally, the ISIR shows the aid history, any identified discrepancies, and whether the FAFSA has been rejected or requires further action. However, it does not display the full details of other schools included on the FAFSA unless sent to state agencies or included in the FAFSA Submission Summary.\n",
            "\n",
            "Please note that certain sensitive information, such as FTI, is protected and only accessible to authorized Department of Education personnel and approved institutions. |⏱️ 3.53s | Tokens 4340 | Cost 0.000514\n",
            "Prompt 4 | FTI stands for Federal Tax Information. It includes details such as:\n",
            "\n",
            "- Tax Year (e.g., 2025-26 based on 2023 tax return)\n",
            "- Tax Filing Status\n",
            "- Adjusted Gross Income (AGI)\n",
            "- Number of Exemptions and Dependents\n",
            "- Income Earned from Work\n",
            "- Taxes Paid\n",
            "- Educational Credits\n",
            "- Untaxed IRA distributions\n",
            "- IRA deductions and payments\n",
            "- Tax-exempt interest\n",
            "- Untaxed pension amounts\n",
            "- Schedule C net profit/loss\n",
            "\n",
            "This information is used to determine a student's eligibility for federal financial aid, and its access is subject to consent and approval by the applicant and contributors. |⏱️ 3.59s | Tokens 4115 | Cost 0.000452\n",
            "Prompt 5 | If a student needs to contact the FSAIC to sync their data with the SSA, they should inform the FSAIC that they have received confirmation from the SSA that their records have been corrected. Then, they should ask the FSAIC to manually synchronize their data with the SSA. Alternatively, the student can notify the school that they have obtained confirmation from SSA, and the school's Federal Aid Administrator (FAA) can update the Resend to Matches field to <Y= in the FAFSA Partner Portal and submit it as a correction for reprocessing with SSA. |⏱️ 2.34s | Tokens 2363 | Cost 0.000270\n",
            "Prompt 6 | The definition of a parent on the FAFSA is highly relevant for students with unmarried biological parents living together because it determines who is considered a parent for the purpose of completing the form. According to the guidance, a parent includes biological or adoptive parents, or a person the state has designated as a parent (such as when listed on a birth certificate). \n",
            "\n",
            "For students with unmarried biological parents living together, both parents are considered as parents if they are married to each other and living together, and they both should report their information on the FAFSA. If they are unmarried and living together, both biological parents are considered parents unless one has legally adopted the student or there are other circumstances that might change dependency status.\n",
            "\n",
            "Furthermore, if the parents are unmarried and not living together, the FAFSA requires reporting by the parent who provided more than 50% of the student's financial support in the last 12 months. If support was equal, the parent with the greater income and assets is considered the parent contributor.\n",
            "\n",
            "In summary, the definition of a parent guides who must complete and provide information on the FAFSA, especially when biological parents are living together but not married. Both biological parents living together generally are considered parents, and their financial information is typically required unless specific circumstances override this rule. |⏱️ 16.05s | Tokens 3482 | Cost 0.000423\n",
            "Prompt 7 | The FAFSA form addresses situations where a parent's or student's tax filing status is unique, such as not filing a U.S. tax return due to foreign income or involvement with international organizations, by providing specific instructions:\n",
            "\n",
            "- If the parent or student did not file a U.S. tax return because they earned income in a foreign country or worked for an international organization and were not required to file, they should indicate \"No\" to the question about filing a 2023 IRS 1040 or 1040-NR. \n",
            "- They will then be asked to select the appropriate reason for not filing, such as earning foreign income or working for an international organization.\n",
            "- Since these individuals did not file U.S. taxes, they are required to manually input their income and tax information, converting foreign currency to U.S. dollars.\n",
            "- For those earning foreign income or employed abroad without having filed a foreign tax return, the FAFSA requests that they report their income and tax data manually, as the system does not link directly to foreign tax authorities.\n",
            "- Additionally, if the parent or student claims the foreign earned income exclusion, this amount is treated as untaxed income and generally does not count toward Pell Grant eligibility. However, school financial aid administrators (FAAs) may review whether this exclusion affects eligibility and can apply professional judgment to adjust the data accordingly.\n",
            "\n",
            "Overall, the FAFSA provides a pathway for individuals with non-standard tax situations to accurately report their financial information and ensures they are appropriately considered during the financial aid assessment process. |⏱️ 6.89s | Tokens 3671 | Cost 0.000457\n",
            "Prompt 8 | When completing the FAFSA form, a student must provide specific information about their spouse if the student is married. The required information includes:  \n",
            "- The spouse’s full name  \n",
            "- The spouse’s Social Security number (SSN). If the spouse does not have an SSN and is completing their section online, the SSN field will be blank; if using the paper form, the student should enter all zeros in this field  \n",
            "- The spouse’s date of birth  \n",
            "- The spouse’s email address  \n",
            "\n",
            "This information is used to identify and invite the spouse to contribute to the FAFSA form, especially if the spouse is a required contributor (for example, if the student is married and did not file taxes jointly). The spouse will be notified by email and must use their own StudentAid.gov account to complete their part of the FAFSA.  \n",
            "\n",
            "On the FAFSA Submission Summary, this spouse information appears to confirm that the details provided have been included and processed correctly. The summary provides a record of the contribution of the spouse’s data, helping ensure the FAFSA submission is complete and accurate.  \n",
            "\n",
            "If the spouse is not a required contributor, their details are still entered, but they are not invited to contribute to the FAFSA form.  \n",
            "\n",
            "Please note that if completing a paper FAFSA, the spouse's information should be filled out directly on the form, including their identification details. |⏱️ 6.15s | Tokens 2389 | Cost 0.000320\n",
            "Prompt 9 | If a parent did not file a U.S. tax return but has foreign income that affects the Student Aid Index (SAI), you may need to manually input their income and tax information. Specifically, the guidance indicates that if the parent earned income in a foreign country but did not file a foreign tax return, or worked for an international organization without filing any tax return, they will need to manually report their income and taxes. This is important because foreign income can impact the SAI and the student's eligibility for federal financial aid, such as Pell Grants.\n",
            "\n",
            "Additionally, if the parent did not file any U.S. tax return because they had no income or were not required to file, but they have foreign untaxed income, you should review their situation carefully. You may need to request documentation or convert foreign income into U.S. dollars to accurately assess their financial situation.\n",
            "\n",
            "In summary, not filing a U.S. tax return alone does not eliminate the need to consider foreign income if it impacts the student's financial aid eligibility. Proper documentation and possibly manual entry of income are necessary to ensure accurate assessment. |⏱️ 7.38s | Tokens 1402 | Cost 0.000206\n",
            "Prompt 10 | A student should report taxable grants and scholarships on the FAFSA by entering the amount received that was reported as taxable income on their federal tax return. Specifically, this information is optional and is used to provide an accurate financial picture. If the student had taxable grants, scholarships, or AmeriCorps benefits, they should include only the portion that was reported as taxable income on their 2023 federal tax return.\n",
            "\n",
            "The IRS Form 1040 Schedule 1 plays a role in this process because it includes information on additional income and details that are transferred to the FAFSA. Schedule 1 contains data such as taxable grants and scholarships, as well as other income sources not reported directly on the main Form 1040. When completing the FAFSA, if the student files a 2023 federal tax return, the relevant taxable grant and scholarship amounts can be transferred via auto-fill from the IRS data through the FAFSA Data Exchange (FA-DDX). If this information isn't available electronically, the student must manually enter the amount based on their tax return.\n",
            "\n",
            "In summary:\n",
            "- Report taxable grants and scholarships on the FAFSA based on the taxable amount reported on your 2023 federal tax return.\n",
            "- IRS Form 1040 Schedule 1 provides the detailed information used to determine this taxable income, including grants and scholarships, and is typically transferred electronically to the FAFSA or manually entered if needed. |⏱️ 8.61s | Tokens 4290 | Cost 0.000510\n",
            "Prompt 11 | The FUTURE Act Direct Data Exchange (FA-DDX) streamlines the FAFSA application process by allowing the Department of Education to directly obtain and use certain federal tax information (FTI) from the Internal Revenue Service (IRS). This is accomplished through a secure connection established via an application programming interface (API) between the IRS and the Federal Student Aid (FSA) programs. When applicants and their contributors provide consent and approval, the IRS can share relevant tax data in near real-time. This process replaces the older IRS Data Retrieval Tool (IRS-DRT) and makes income and tax verification faster, easier, and more secure.\n",
            "\n",
            "The role of the Internal Revenue Code (IRC) in this process is crucial because the FUTURE Act amended Section 6103 of the IRC to authorize and mandate the IRS's disclosure of specific tax information directly to the Department of Education. This legal authority ensures that the IRS can share the necessary tax data with the FSA for the purpose of determining federal financial aid eligibility, thereby reducing the need for applicants to self-report income and tax details, and ensuring the verification process is based on verified federal tax data.\n",
            "\n",
            "In summary, the FA-DDX leverages the legal authority granted by the amended IRC to facilitate direct, secure, and verified exchange of tax information between the IRS and the Department of Education, thus significantly streamlining the FAFSA application process. |⏱️ 8.81s | Tokens 3307 | Cost 0.000413\n",
            "\n",
            "📊 Summary for Parent-Document:\n",
            "🔢 Total tokens: 32814\n",
            "⏱️ Avg latency: 6.49s\n",
            "🔢 Avg tokens per query: 2983.09\n",
            "⏱️ Total duration: 71.44s\n",
            "💰 Total cost: 0.004018\n"
          ]
        },
        {
          "data": {
            "application/vnd.jupyter.widget-view+json": {
              "model_id": "507091a2dc014b439c08a9c1c7fd8cf5",
              "version_major": 2,
              "version_minor": 0
            },
            "text/plain": [
              "Evaluating:   0%|          | 0/66 [00:00<?, ?it/s]"
            ]
          },
          "metadata": {},
          "output_type": "display_data"
        },
        {
          "name": "stderr",
          "output_type": "stream",
          "text": [
            "Exception raised in Job[41]: ValueError(setting an array element with a sequence. The requested array has an inhomogeneous shape after 1 dimensions. The detected shape was (3,) + inhomogeneous part.)\n",
            "Exception raised in Job[64]: TimeoutError()\n"
          ]
        },
        {
          "name": "stdout",
          "output_type": "stream",
          "text": [
            "Evaluation LLM model: gpt-4.1-nano\n",
            "Evaluation results: {'context_recall': 1.0000, 'faithfulness': 0.9813, 'factual_correctness(mode=f1)': 0.7855, 'answer_relevancy': 0.8622, 'context_entity_recall': 0.3666, 'noise_sensitivity(mode=relevant)': 0.2921}\n",
            "Evaluation tokens: 412029\n",
            "Evaluation cost: 0.065158\n",
            "✅ Full result saved to: loan_docs_retriever_logs/parent-document_logs.json\n"
          ]
        }
      ],
      "source": [
        "parent_document_evaluation = evaluate_retriever(\"Parent-Document\", parent_document_retrieval_chain, dataset)"
      ]
    },
    {
      "cell_type": "code",
      "execution_count": 112,
      "metadata": {},
      "outputs": [
        {
          "name": "stdout",
          "output_type": "stream",
          "text": [
            "📊 Running evaluation for: Contextual Compression\n",
            "Prompt 1 | The Consolidated Appropriations Act, 2021, through the FAFSA Simplification Act, brought several significant changes to the FAFSA process:\n",
            "\n",
            "1. Implementation of the FAFSA Simplification Act alongside the FUTURE Act to streamline the FAFSA application process.\n",
            "2. Introduction of the FA-DDX (FUTURE Act Direct Data Exchange), which replaced the IRS Data Retrieval Tool (DRT). This new tool automates the transfer of income and tax information from the IRS directly to the FAFSA, reducing the need for applicants to self-report their income. The FTI transferred via FA-DDX is considered verified for Title IV purposes.\n",
            "3. Mandatory consent and approval are now required from applicants (and contributors such as spouses or parents) for the Department to access Federal Tax Information from the IRS via FA-DDX.\n",
            "4. Updates to application deadlines, processing timelines, and procedures for submitting and correcting FAFSA applications.\n",
            "5. Changes in documentation and verification processes, including updates around special cases like victims of tax-related identity theft and the treatment of negative income values.\n",
            "6. Other administrative updates, such as moving sections in the application form, removing deferred renewal functionality, and updating related resources and references.\n",
            "\n",
            "These changes aim to simplify and modernize the FAFSA process, making it more efficient and reducing the burden on applicants. |⏱️ 7.24s | Tokens 3037 | Cost 0.000381\n",
            "Prompt 2 | The purpose of the FAFSA Submission Summary in the financial aid process is to show the student’s original application information, the Student Aid Index (SAI), results of eligibility matches, aid history, and any inconsistencies identified through processing edits. It provides the student with details about their application status, helps them correct any errors or resolve issues, and informs them of any necessary actions before aid can be disbursed. |⏱️ 2.11s | Tokens 3078 | Cost 0.000332\n",
            "Prompt 3 | Financial aid administrators can view a range of information on the ISIR, including:\n",
            "\n",
            "- The student's original FAFSA data submitted by the applicant.\n",
            "- The Student Aid Index (SAI) and results of eligibility matches.\n",
            "- Any identified discrepancies or inconsistencies in the data, along with comments and comment codes.\n",
            "- The student's aid history and comments regarding any issues like defaults or other disqualifications.\n",
            "- Flags (C Flags) indicating specific issues that need resolution before disbursing aid.\n",
            "- Details about the student's federal tax information (FTI) transferred from the IRS, such as tax year, filing status, adjusted gross income, number of dependents, and various income and tax-related details.\n",
            "- Information about any corrections, updates, or changes made to the FAFSA data or subsequent ISIRs.\n",
            "- Comments and notes related to the integrity and validity of the data, including reasons for rejection or need for resolution.\n",
            "\n",
            "It's important to note that students and contributors cannot view or edit the transferred FTI data directly; only financial aid administrators with access to the ISIR can see this information. Additionally, all data must be protected and used in accordance with privacy regulations under the IRC 6103(l)(13) and HEA.\n",
            "\n",
            "Let me know if you need more specific details! |⏱️ 2.53s | Tokens 3318 | Cost 0.000408\n",
            "Prompt 4 | FTI stands for Federal Tax Information. It includes data received by the Department of Education from the IRS such as:\n",
            "\n",
            "- Tax Year (related to the FAFSA cycle)\n",
            "- Tax Filing Status\n",
            "- Adjusted Gross Income (AGI)\n",
            "- Number of Exemptions and Dependents\n",
            "- Income Earned from Work\n",
            "- Taxes Paid\n",
            "- Educational Credits\n",
            "- Untaxed IRA distributions\n",
            "- IRA deductions and payments\n",
            "- Tax-exempt interest\n",
            "- Untaxed pension amounts\n",
            "- Schedule C net profit/loss\n",
            "\n",
            "This information is used to evaluate a student’s financial aid eligibility and is protected by confidentiality and privacy regulations. |⏱️ 3.98s | Tokens 3337 | Cost 0.000371\n",
            "Prompt 5 | If a student needs to contact the FSAIC to have their data synced with the SSA, they should notify the Federal Student Aid Information Center (FSAIC) and request a manual sync of their data with the SSA after they have received confirmation that SSA has updated their records. |⏱️ 1.51s | Tokens 3312 | Cost 0.000348\n",
            "Prompt 6 | The definition of a parent on the FAFSA is relevant for students with unmarried biological parents living together because the FAFSA considers a biological or adoptive parent, or a person determined by the state to be a parent, as a parent for the purposes of completing the form. Specifically, if the student’s unmarried biological parents are living together, both are considered parents and are typically required to report their financial information on the FAFSA. In such cases, both biological parents are treated as parent contributors, and their information must be included unless there are special circumstances that might warrant a dependency override. \n",
            "\n",
            "In summary, for students with unmarried biological parents living together, both parents are regarded as parents on the FAFSA, and their financial details are necessary to determine eligibility for aid. |⏱️ 2.21s | Tokens 3432 | Cost 0.000388\n",
            "Prompt 7 | The FAFSA form addresses situations where a student's parent has a unique tax filing status by providing options to reflect their specific circumstances. If a parent did not file a U.S. tax return for 2023, they are asked to indicate the reason, such as not earning income or earning foreign income without filing a foreign return. The form includes multiple reasons for not filing, including foreign income earned or working for international organizations, and allows for manual entry of income and tax information when appropriate.\n",
            "\n",
            "Specifically, if the parent earned income in a foreign country but did not file a foreign tax return, or worked for an international organization and was not required to report income, they will need to manually input their income and tax data into the FAFSA. This is necessary because foreign tax returns are not linked via the FA-DDX system, and manual data entry is required to accurately assess financial need.\n",
            "\n",
            "In cases where the parent did not file a tax return for reasons other than low income, the FAFSA process may require additional documentation to resolve conflicting information. If the parent did not earn any income and is residing in a foreign country, the FAFSA instructs to determine if there is foreign untaxed income that might affect Pell Grant eligibility, and to provide documentation if needed.\n",
            "\n",
            "Overall, the FAFSA form accommodates parents with non-standard or foreign tax situations by asking detailed questions about their filing status and income, and providing instructions for manual data entry when electronic transmission of foreign income data isn't available. |⏱️ 4.82s | Tokens 3701 | Cost 0.000457\n",
            "Prompt 8 | A student completing the FAFSA must provide the following information about their spouse if applicable:\n",
            "\n",
            "1. **Identity Information:**\n",
            "   - Name (as appears on the social security card)\n",
            "   - Social Security Number (SSN) (or all zeros if they do not have an SSN and are completing on paper)\n",
            "   - Date of Birth\n",
            "   - Email Address\n",
            "\n",
            "2. **Contact Information:**\n",
            "   - Current mobile phone number\n",
            "   - Email address\n",
            "   - Permanent home address\n",
            "\n",
            "3. **Tax Filing Status and Tax Return Information:**\n",
            "   - Whether they completed a 2023 IRS Form 1040 or 1040-NR, or will do so\n",
            "   - Income earned in a foreign country or if they filed a tax return in a U.S. territory\n",
            "   - Data from their 2023 tax return, which may be transferred via the FA-DDX or entered manually\n",
            "  \n",
            "4. **Consent, Approval, and Signature:**\n",
            "   - Consent to disclose certain identifying information to the IRS\n",
            "   - Affirmative approval for the Department of Education to use and redisclose their federal tax information\n",
            "   - Their FSA ID (username and password) (for online submission) or a physical signature (for paper forms)\n",
            "\n",
            "**How this information is used in the FAFSA Submission Summary:**\n",
            "- The spouse’s identity and contact details are used to verify and process their contribution to the FAFSA.\n",
            "- The tax return information informs the financial assessment, impacting aid eligibility.\n",
            "- The consent, approval, and signature verify the spouse’s agreement and authorize the Department of Education to access their federal tax data.\n",
            "- The submission summary will reflect whether the spouse’s information has been received, validated, and incorporated into the FAFSA, especially noting their contribution if they are a required contributor. If an email address is provided, students will receive electronic notifications; otherwise, they will get a paper copy.\n",
            "\n",
            "If you need further clarification, feel free to ask! |⏱️ 7.65s | Tokens 3741 | Cost 0.000491\n",
            "Prompt 9 | If a parent has foreign income affecting the Student Aid Index (SAI) but indicates they did not file a U.S. tax return, the situation requires careful consideration. According to the guidance, parents who earned income in a foreign country but did not file a foreign tax return (option 3) must manually input their income and tax data, converting foreign currency to U.S. dollars. \n",
            "\n",
            "If the parent also did not file any tax return because they had no income or were not required to file (option 6), and their foreign income is untaxed or foreign earned income excluded under applicable provisions, this foreign untaxed income can impact the SAI calculation. Specifically, the Federal Student Aid (FSA) can consider this income when assessing Pell Grant eligibility, potentially reducing the aid amount.\n",
            "\n",
            "In cases where there is conflicting information—such as the parent reports foreign income but did not file a tax return—reviewers are advised to request additional documentation to clarify the situation. If the foreign income influences the SAI, manual input of income and assets may be necessary, and professional judgment (PJ) can be used to account for foreign untaxed income, similar to handling foreign earned income exclusions on a U.S. tax return.\n",
            "\n",
            "In summary:\n",
            "- If the parent has foreign income but did not file a foreign tax return, they need to manually report this income.\n",
            "- The foreign untaxed income can affect the SAI and Pell Grant eligibility.\n",
            "- Additional documentation may be required to verify the income if there is conflicting information.\n",
            "- Professional judgment can be applied to account for foreign untaxed income in the SAI calculation.\n",
            "\n",
            "If you're unsure about specific circumstances, it’s best to seek guidance from financial aid professionals or to review the detailed instructions in the FAFSA verification procedures. |⏱️ 9.81s | Tokens 3799 | Cost 0.000486\n",
            "Prompt 10 | A student should report taxable grants and scholarships on the FAFSA as part of the income section, but only if the grants or scholarships were reported as taxable income on their 2023 federal tax return. Specifically, the student should include the amount of taxable grants and scholarships received (by the student and spouse, if applicable) that are reported as taxable income on their IRS Form 1040 or 1040-NR.\n",
            "\n",
            "IRS Form 1040 Schedule 1 plays a role in this process because it includes entries related to taxable scholarships and grants. If applicable, the student should use the amount from Schedule 1, lines 3 and 6, to report the taxable portion of grants and scholarships on the FAFSA.\n",
            "\n",
            "In summary:\n",
            "- Report only the taxable grants and scholarships that are included as income on your federal tax return.\n",
            "- Use IRS Form 1040 Schedule 1 (specifically lines 3 and 6) to determine the taxable amounts.\n",
            "- This information helps ensure the FAFSA accurately reflects the student’s income, including taxable grant and scholarship amounts. |⏱️ 4.09s | Tokens 3934 | Cost 0.000457\n",
            "Prompt 11 | The FUTURE Act Direct Data Exchange (FA-DDX) streamlines the FAFSA application process by enabling a secure, near-real-time connection between the Internal Revenue Service (IRS) and Federal Student Aid (FSA). This allows for the direct transfer of certain federal tax information (FTI) from the IRS to the FAFSA form, reducing the need for applicants and their contributors (such as parents and spouses) to manually report income and tax data. Instead of using the previous IRS Data Retrieval Tool (IRS-DRT), the FA-DDX automatically imports verified FTI once consent and approval are granted, making the process faster, more accurate, and more efficient.\n",
            "\n",
            "The role of the Internal Revenue Code (IRC) in this process is central because the FUTURE Act amended Section 6103 of the IRC to allow the IRS to disclose specific tax information to FSA. This legal change authorizes the IRS to share tax data with the Department of Education under designated regulations, facilitating the secure and authorized transfer of FTI via the FA-DDX. Essentially, Section 6103 of the IRC provides the statutory foundation that enables the IRS to disclose taxpayer information specifically for the purpose of streamlining federal student aid application procedures.\n",
            "\n",
            "In summary, the FA-DDX, enabled by amendments to the IRC, leverages IRS data to improve the FAFSA process, reducing the burden on applicants while ensuring data accuracy and security through legal authorization. |⏱️ 6.31s | Tokens 3329 | Cost 0.000418\n",
            "\n",
            "📊 Summary for Contextual Compression:\n",
            "🔢 Total tokens: 38018\n",
            "⏱️ Avg latency: 4.75s\n",
            "🔢 Avg tokens per query: 3456.18\n",
            "⏱️ Total duration: 52.27s\n",
            "💰 Total cost: 0.004537\n"
          ]
        },
        {
          "data": {
            "application/vnd.jupyter.widget-view+json": {
              "model_id": "d5e2dcd9a4d140459906490f5ff3a1bc",
              "version_major": 2,
              "version_minor": 0
            },
            "text/plain": [
              "Evaluating:   0%|          | 0/66 [00:00<?, ?it/s]"
            ]
          },
          "metadata": {},
          "output_type": "display_data"
        },
        {
          "name": "stderr",
          "output_type": "stream",
          "text": [
            "Exception raised in Job[4]: TimeoutError()\n",
            "Exception raised in Job[16]: TimeoutError()\n",
            "Exception raised in Job[22]: TimeoutError()\n",
            "Exception raised in Job[28]: TimeoutError()\n",
            "Exception raised in Job[64]: TimeoutError()\n"
          ]
        },
        {
          "name": "stdout",
          "output_type": "stream",
          "text": [
            "Evaluation LLM model: gpt-4.1-nano\n",
            "Evaluation results: {'context_recall': 1.0000, 'faithfulness': 0.9697, 'factual_correctness(mode=f1)': 0.8782, 'answer_relevancy': 0.9440, 'context_entity_recall': 0.4068, 'noise_sensitivity(mode=relevant)': 0.1558}\n",
            "Evaluation tokens: 425287\n",
            "Evaluation cost: 0.067210\n",
            "✅ Full result saved to: loan_docs_retriever_logs/contextual_compression_logs.json\n"
          ]
        }
      ],
      "source": [
        "contextual_compression_evaluation = evaluate_retriever(\"Contextual Compression\", contextual_compression_retrieval_chain, dataset)"
      ]
    },
    {
      "cell_type": "code",
      "execution_count": 113,
      "metadata": {},
      "outputs": [
        {
          "name": "stdout",
          "output_type": "stream",
          "text": [
            "📊 Running evaluation for: Ensemble\n",
            "Prompt 1 | The Consolidated Appropriations Act, 2021, through the FAFSA Simplification Act, brought several significant changes to the FAFSA process:\n",
            "\n",
            "1. **Implementation of the FUTURE Act and FA-DDX:**  \n",
            "   - Replaced the IRS Data Retrieval Tool (DRT) with the FUTURE Act Direct Data Exchange (FA-DDX), enabling near-real-time, secure transfer of specific federal tax information (FTI) from the IRS to the FAFSA.  \n",
            "   - This change reduces the need for applicants and contributors to self-report income and tax data, since FTI transferred via FA-DDX is considered verified for Title IV purposes.\n",
            "\n",
            "2. **Consent and Approval Requirements:**  \n",
            "   - Applicants and contributors now must explicitly provide consent and approval for the Department to obtain and use FTI via the FA-DDX, including a separate approval process for each aid cycle.  \n",
            "   - Signatures are required in addition to consent and approval, either electronically via the FSA ID or in signed paper forms.\n",
            "\n",
            "3. **Elimination of the IRS Data Retrieval Tool (DRT):**  \n",
            "   - The DRT was retired after the 2023–24 application cycle, streamlining the income information collection process through the FA-DDX.\n",
            "\n",
            "4. **Updated Application Procedures and Systems:**  \n",
            "   - The FSA implemented new systems like the FAFSA Partner Portal to facilitate corrections and updates, but not for initiating new applications on behalf of students.  \n",
            "   - Added procedures for verifying identity and handling federal tax information securely.\n",
            "\n",
            "5. **Enhanced Privacy and Security Protocols:**  \n",
            "   - Detailed requirements for the use, disclosure, and protection of FTI, including restrictions on reconveying amended IRS returns and handling victims of tax-related identity theft.\n",
            "\n",
            "6. **Clarification of the role of signatures and documentation:**  \n",
            "   - Emphasized the importance of signatures for both students and their contributors, and clarified how and when corrections or updates can be made.\n",
            "\n",
            "In summary, the Act modernized and simplified the FAFSA process by automating income data retrieval through IRS data exchanges, strengthening consent protocols, and updating system workflows—all aimed at making the application process more efficient and secure for students and institutions. |⏱️ 10.74s | Tokens 15706 | Cost 0.001725\n",
            "Prompt 2 | The purpose of the FAFSA Submission Summary in the financial aid process is to provide students with a detailed record of the information they submitted in their FAFSA application, including the Student Aid Index (SAI), results of eligibility matches, aid history, and any identified inconsistencies. It allows students to review, confirm, or correct their application data before it is used to determine their eligibility for federal financial aid. Additionally, it informs students about any issues that need resolution before aid can be disbursed. The FAFSA Submission Summary ensures transparency and accuracy in the application process and helps students understand how their financial information is being used to assess aid eligibility. |⏱️ 5.13s | Tokens 13815 | Cost 0.001434\n",
            "Prompt 3 | Financial aid administrators can view a range of information on the ISIR, including:\n",
            "\n",
            "- Federal Student Aid (FSA) data imported from the IRS, such as:\n",
            "  - Tax Year\n",
            "  - Tax Filing Status\n",
            "  - Adjusted Gross Income (AGI)\n",
            "  - Income Earned from Work\n",
            "  - Taxes Paid\n",
            "  - Educational Credits\n",
            "  - Untaxed IRA Distributions\n",
            "  - IRA Deductions and Payments\n",
            "  - Tax Exempt Interest\n",
            "  - Untaxed Pension Amounts\n",
            "  - Schedule C Net Profit or Loss\n",
            "\n",
            "- Conflicting or inconsistent data flagged during processing, such as discrepancies identified through edits or comments.\n",
            "- Comments, comment codes, and associated flags (e.g., C flags) that indicate issues requiring resolution before disbursing aid.\n",
            "- Data regarding the student's and contributors’ consent, approval, and signatures related to the use of federal tax information.\n",
            "- Indicators of whether the IRS provided usable FTI data, or if no return was on file, or if the IRS was unable to provide FTI for specific contributors.\n",
            "- Application status details, including verification status, any conflicts, and whether further action is needed.\n",
            "- Specific data about the applicant’s family, such as family size, number in college, and any family reported in the FAFSA form.\n",
            "- Information related to student eligibility and disqualifications, such as defaulted loans or other eligibility issues noted through comments.\n",
            "\n",
            "The ISIR is a confidential document, and access to this information is restricted to authorized personnel to protect privacy and comply with applicable regulations. |⏱️ 7.80s | Tokens 18773 | Cost 0.001989\n",
            "Prompt 4 | FTI stands for Federal Tax Information. It includes specific data received by the Department of Education from the IRS related to an individual's taxes and financial circumstances. The information it includes encompasses:\n",
            "\n",
            "- Tax Year (e.g., 2023 for the 2025-26 FAFSA cycle)\n",
            "- Tax Filing Status\n",
            "- Adjusted Gross Income (AGI)\n",
            "- Income Earned from Work\n",
            "- U.S. Income Tax Paid\n",
            "- Taxes Paid\n",
            "- Untaxed IRA Distributions\n",
            "- IRA Deductions and Payments\n",
            "- Tax Exempt Interest\n",
            "- Untaxed Pension Amounts\n",
            "- Educational Credits\n",
            "- Schedule C Net Profit or Loss\n",
            "\n",
            "This data helps determine a student’s eligibility for federal financial aid and is considered verified when transferred directly from the IRS via the secure FA-DDX (FUTURE Act Direct Data Exchange). |⏱️ 8.99s | Tokens 12801 | Cost 0.001345\n",
            "Prompt 5 | A student who needs to contact the FSAIC to sync their data with the SSA should reach out to the Federal Student Aid Information Center (FSAIC). They can do so by calling 1-800-433-3243 for assistance with syncing data or resolving issues related to their SSA records and FAFSA information. |⏱️ 2.94s | Tokens 15017 | Cost 0.001540\n",
            "Prompt 6 | The definition of a parent on the FAFSA is particularly relevant for students with unmarried biological parents living together because it determines whose information must be reported on the form. According to the guidance, a biological or adoptive parent is considered a parent for FAFSA purposes. If the biological parents are unmarried but living together, both are considered parent contributors, and their information must be included. \n",
            "\n",
            "In cases where the parents are divorced or never married and not living together, the FAFSA requires the student to report the parent who provided more than 50% of the student's financial support during the last 12 months. If support was not provided equally, the student reports the parent who contributed the most financial support, even if they do not live with the student. \n",
            "\n",
            "In summary:\n",
            "- For students with unmarried biological parents living together, both parents are considered parent contributors.\n",
            "- The student must report the information for both parents if they are married, remarried, or living together, as both are considered parents.\n",
            "- If support is split unevenly, the student reports the parent providing the majority of financial support.\n",
            "- The support-based rule applies even if the student lives with a parent but the other parent provided more support during the last year.\n",
            "\n",
            "This definition ensures accurate determination of dependent status and the appropriate inclusion of parental financial information on the FAFSA. |⏱️ 5.75s | Tokens 12229 | Cost 0.001329\n",
            "Prompt 7 | The FAFSA form addresses situations where a student's parent has a unique or nonstandard tax filing status—such as not filing a U.S. tax return due to foreign income or other reasons—by providing specific instructions and options for manual entry and verification.\n",
            "\n",
            "Key points include:\n",
            "\n",
            "- **Answering \"No\" to Filing a 2023 IRS Tax Return:** Parents who did not file a U.S. tax return because of foreign income, working for an international organization, or other reasons select \"No\" to the relevant question on the FAFSA.\n",
            "\n",
            "- **Providing the Reason for Not Filing:** The form asks parents to specify the reason for not filing, with options including filing a foreign tax return, earning foreign income without filing, working for an international organization without filing, income below the filing threshold, or other reasons.\n",
            "\n",
            "- **Manual Entry of Income and Tax Information:** Parents with foreign income or those who worked for international organizations and did not file a U.S. return are required to manually input their income and tax data. This involves converting foreign currency to U.S. dollars and entering relevant income and tax figures, as the system's electronic data transfer (FA-DDX) does not link to foreign tax authorities.\n",
            "\n",
            "- **Handling Foreign Earned Income Exclusions:** The form notes that amounts claimed as foreign earned income exclusions are considered untaxed income and generally do not count when determining Pell Grant eligibility. However, financial aid administrators may review these cases and decide, via professional judgment, whether to include this foreign income in calculations affecting aid eligibility.\n",
            "\n",
            "- **Documentation and Review:** If conflicts or unusual circumstances arise—such as a parent not filing for reasons other than those listed—schools are advised to review and verify the provided information, request supporting documentation, and exercise professional judgment as needed.\n",
            "\n",
            "In summary, the FAFSA form explicitly accommodates parents with foreign or nonstandard tax situations by allowing manual input, requiring specific explanations for non-filing, and providing guidance on how foreign income and exclusions impact aid determination. |⏱️ 9.78s | Tokens 16662 | Cost 0.001812\n",
            "Prompt 8 | When completing the FAFSA form, a student must provide specific information about their spouse if they are married and did not file a 2023 tax return jointly with their spouse. This includes:\n",
            "\n",
            "- **Spouse’s identity information:** full name, Social Security number (SSN), date of birth, and email address.\n",
            "- **Spouse’s contact information:** current mobile phone number, email address, and permanent home address.\n",
            "- **Spouse’s tax filing status:** details about whether they filed a 2023 IRS Form 1040 or 1040-NR, and whether they earned income in a foreign country or filed a return in a U.S. territory.\n",
            "- **Spouse’s 2023 tax return information:** data directly from their 2023 federal tax return, which may transfer via data transfer or be manually entered if necessary.\n",
            "- **Spouse’s consent, approval, and signature:** the spouse must provide consent to disclose their information to the IRS, approve the use and redisclosure of their federal tax information, and sign their section of the FAFSA (using their FSA ID online or a physical signature for paper submissions).\n",
            "\n",
            "This spouse information is used in the FAFSA Submission Summary primarily to verify the accuracy of the application and to determine the household's financial situation. If the FAFSA form is completed online and the spouse is identified as a required contributor, the spouse is invited to contribute by entering their information and signing electronically, and they will be notified by email. If the spouse is not a required contributor, their basic identifying and contact details are entered but no invitation to contribute is issued.\n",
            "\n",
            "In the case of paper FAFSA forms, the student completes the spouse contribution section manually, including their spouse’s information and signature. The data provided about the spouse helps the Department of Education assess financial need and eligibility for federal student aid based on household income and assets.\n",
            "\n",
            "If you have further questions or need clarification, feel free to ask! |⏱️ 9.73s | Tokens 12644 | Cost 0.001406\n",
            "Prompt 9 | If a parent indicates that they did not file a tax return but has foreign income affecting the Student Aid Index (SAI), the FAFSA process requires specific documentation. The parent must provide a signed and dated statement certifying that they are not required to file a 2023 income tax return, along with details about their sources and amounts of earnings, other income, and resources supporting them for the 2023 tax year. \n",
            "\n",
            "Additionally, if the parent earned foreign income but did not file a foreign tax return, they will need to manually enter their income and tax information, converting foreign currency to U.S. dollars. They may also need to provide other documentation, such as IRS Form W-2 or equivalent foreign documents, to verify income. \n",
            "\n",
            "The key point is that even if the parent didn't file a U.S. tax return, foreign income that affects their financial situation must be disclosed and documented appropriately. If the parent’s foreign income influences the SAI, the FAFSA administrator may need to evaluate this information carefully, possibly using professional judgment to determine how it impacts federal student aid eligibility, including Pell Grant amounts.\n",
            "\n",
            "In summary: The parent should submit a signed statement certifying non-filing, and manually enter their foreign income and resources, providing supporting documentation as needed. The FAFSA process emphasizes the importance of accurately reporting foreign income even if no formal U.S. tax return was filed, as it can affect financial aid eligibility. |⏱️ 7.72s | Tokens 14294 | Cost 0.001539\n",
            "Prompt 10 | A student should report taxable grants and scholarships on the FAFSA as part of the section addressing \"Taxable Grants, Scholarships, or AmeriCorps Benefits.\" This is an optional question, but if applicable, the student should report only the amount of grants and scholarships reported as taxable income on their federal tax return. This includes portions of fellowships and assistantships that are taxable, taxable stipends, and employer reimbursements for tuition. The amount reported should match the taxable portion that was included as income on the federal tax return (such as IRS Form 1040).\n",
            "\n",
            "IRS Form 1040 Schedule 1 plays a key role in this process because it provides the specific line (Line 8d) where the taxpayer reports foreign earned income exempt from U.S. taxation, which can be relevant if the taxable grants or scholarships are connected to foreign income considerations. Additionally, Schedule 1 details other taxable income and deductions that assist in confirming the taxable amount to report on the FAFSA.\n",
            "\n",
            "In summary:\n",
            "- Report only the amount of grants and scholarships that were taxable income, as reported on the individual's federal tax return.\n",
            "- Use Schedule 1 (particularly lines like 8d) and Form 1040 line items to verify the taxable amount.\n",
            "- This information helps ensure accurate reporting of taxable income for financial aid assessment.\n",
            "\n",
            "Let me know if you'd like further detailed guidance! |⏱️ 10.97s | Tokens 19306 | Cost 0.002043\n",
            "Prompt 11 | The FUTURE Act Direct Data Exchange (FA-DDX) streamlines the FAFSA application process by enabling the Department of Education to access federal tax information (FTI) directly from the Internal Revenue Service (IRS). Instead of relying on applicants or their contributors to manually report income and tax data, the FA-DDX allows for a secure, near-real-time transfer of certain FTI from the IRS to the FAFSA system, which then populates the application with verified tax data. This reduces the need for applicants to self-report income, minimizes errors, speeds up processing, and enhances data accuracy.\n",
            "\n",
            "The role of the Internal Revenue Code (IRC) in this process is pivotal. The FUTURE Act amended specific sections of the IRC—particularly Section 6103—to authorize the IRS to disclose certain taxpayer information (FTI) directly to the Department of Education (FSA). This legal authorization ensures that the IRS can securely and legally share individual tax data with the Department for the purpose of determining student eligibility for federal financial aid, provided the applicant and contributors give their explicit consent and approval for each FAFSA cycle. Essentially, the IRC provides the statutory foundation for the FTI disclosures facilitated by the FA-DDX, making the process both legal and standardized.\n",
            "\n",
            "In summary, the FA-DDX leverages the authority granted by the IRC to permit the IRS to share tax data with the Department, thereby modernizing and simplifying the FAFSA application process through secure, automated data exchanges. |⏱️ 11.23s | Tokens 12080 | Cost 0.001330\n",
            "\n",
            "📊 Summary for Ensemble:\n",
            "🔢 Total tokens: 163327\n",
            "⏱️ Avg latency: 8.25s\n",
            "🔢 Avg tokens per query: 14847.91\n",
            "⏱️ Total duration: 90.80s\n",
            "💰 Total cost: 0.017491\n"
          ]
        },
        {
          "data": {
            "application/vnd.jupyter.widget-view+json": {
              "model_id": "055271e7e9b24ceb8924cfcc29b92993",
              "version_major": 2,
              "version_minor": 0
            },
            "text/plain": [
              "Evaluating:   0%|          | 0/66 [00:00<?, ?it/s]"
            ]
          },
          "metadata": {},
          "output_type": "display_data"
        },
        {
          "name": "stderr",
          "output_type": "stream",
          "text": [
            "Exception raised in Job[4]: TimeoutError()\n",
            "Exception raised in Job[5]: TimeoutError()\n",
            "Exception raised in Job[10]: TimeoutError()\n",
            "Exception raised in Job[11]: TimeoutError()\n",
            "Exception raised in Job[16]: TimeoutError()\n",
            "Exception raised in Job[17]: TimeoutError()\n",
            "Exception raised in Job[23]: TimeoutError()\n",
            "Exception raised in Job[28]: TimeoutError()\n",
            "Exception raised in Job[34]: TimeoutError()\n",
            "Exception raised in Job[35]: TimeoutError()\n",
            "Exception raised in Job[41]: TimeoutError()\n",
            "Exception raised in Job[46]: TimeoutError()\n",
            "Exception raised in Job[47]: TimeoutError()\n",
            "Exception raised in Job[53]: TimeoutError()\n",
            "Exception raised in Job[58]: TimeoutError()\n",
            "Exception raised in Job[59]: TimeoutError()\n",
            "Exception raised in Job[65]: TimeoutError()\n"
          ]
        },
        {
          "name": "stdout",
          "output_type": "stream",
          "text": [
            "Evaluation LLM model: gpt-4.1-nano\n",
            "Evaluation results: {'context_recall': 1.0000, 'faithfulness': 0.9899, 'factual_correctness(mode=f1)': 0.8727, 'answer_relevancy': 0.9501, 'context_entity_recall': 0.5466, 'noise_sensitivity(mode=relevant)': 0.3333}\n",
            "Evaluation tokens: 1017422\n",
            "Evaluation cost: 0.151372\n",
            "✅ Full result saved to: loan_docs_retriever_logs/ensemble_logs.json\n"
          ]
        }
      ],
      "source": [
        "ensemble_evaluation = evaluate_retriever(\"Ensemble\", ensemble_retrieval_chain, dataset)"
      ]
    },
    {
      "cell_type": "code",
      "execution_count": 114,
      "metadata": {},
      "outputs": [
        {
          "name": "stdout",
          "output_type": "stream",
          "text": [
            "📊 Running evaluation for: Semantic\n",
            "Prompt 1 | The Consolidated Appropriations Act, 2021, through the FAFSA Simplification Act, introduced significant changes to the FAFSA process. The key changes include:\n",
            "\n",
            "1. **Implementation of the FA-DDX:** The Act authorized a direct data exchange (FA-DDX) with the IRS, replacing the previous IRS Data Retrieval Tool (DRT). This allows most applicants to have their federal tax information automatically transferred and considered verified, reducing the need for self-reporting income information.\n",
            "\n",
            "2. **Requirements for Consent and Approval:** Both students and contributors (such as parents and spouses) must provide consent and approval for the Department to obtain and use their federal tax information via the FA-DDX. This ensures privacy and compliance with legal standards.\n",
            "\n",
            "3. **Changes to Application Processes:** The FAFSA Partner Portal was updated to remove the ability for financial aid administrators to initiate applications on behalf of students, due to the need for contributor consent for data access. Additionally, online filing is emphasized as the preferred method, contributing to faster processing and fewer errors.\n",
            "\n",
            "4. **Updated Verification Procedures:** Enhanced guidance and procedural modifications were made, including the unavailability of certain identity verification functionalities and modified reporting timeframes.\n",
            "\n",
            "In summary, the Act streamlined the FAFSA application process by enabling automatic data transfer from the IRS with proper consent, clarified consent procedures, and made adjustments to the application and verification processes to improve efficiency and privacy. |⏱️ 3.91s | Tokens 6020 | Cost 0.000685\n",
            "Prompt 2 | The purpose of the FAFSA Submission Summary in the financial aid process is to provide applicants and schools with a detailed record of the information submitted on the FAFSA form, including any comments, flags, or issues identified during processing. It helps ensure that the reported data are accurate and complete as of the signing date and guides the resolution of any problems, such as inconsistencies or missing signatures, that could affect eligibility for federal student aid. The summary also indicates how the application was processed, whether an SAI was calculated, and details necessary for packaging and disbursing aid. |⏱️ 1.56s | Tokens 5637 | Cost 0.000597\n",
            "Prompt 3 | Financial aid administrators can view a variety of information on the ISIR, including:\n",
            "\n",
            "- The student's original FAFSA data, including personal and financial information.\n",
            "- The Student Aid Index (SAI) and eligibility results.\n",
            "- Aid history and any discrepancies or inconsistencies identified during FAFSA processing.\n",
            "- Comment codes and text explaining any problematic or questionable results.\n",
            "- C Flags associated with comment codes that require resolution before disbursing aid.\n",
            "- IRS response codes indicating the status of Federal Tax Information (FTI) for contributors, such as whether FTI was successfully retrieved, not found, or unavailable.\n",
            "- Any comments or notes related to potential issues like defaulted loans or data discrepancies.\n",
            "- Indicators and codes related to verification and manual data entry if necessary.\n",
            "- Information on signatures, consent, and approvals related to the application.\n",
            "- Data about applicant eligibility, application status, and processing deadlines.\n",
            "\n",
            "The ISIR essentially provides a comprehensive snapshot of the student's financial aid application, processing results, and any issues that need to be addressed before disbursing federal student aid. |⏱️ 3.20s | Tokens 5846 | Cost 0.000647\n",
            "Prompt 4 | FTI stands for Federal Tax Information. It includes data received by the Department from the IRS related to an individual's tax filings, such as:\n",
            "\n",
            "- Tax Year (e.g., the tax year corresponding to the award year)\n",
            "- Tax Filing Status\n",
            "- Adjusted Gross Income (AGI)\n",
            "- Number of Exemptions and Dependents\n",
            "- Income Earned from Work\n",
            "- Taxes Paid\n",
            "- Educational Credits\n",
            "- Untaxed IRA Distributions\n",
            "- IRA Deductions and Payments\n",
            "- Tax Exempt Interest\n",
            "- Untaxed Pension Amounts\n",
            "- Schedule C Net Profit/Loss\n",
            "\n",
            "This information is considered sensitive and is regulated for use and disclosure, primarily in the context of determining eligibility for federal student aid. |⏱️ 2.38s | Tokens 5826 | Cost 0.000626\n",
            "Prompt 5 | The student should contact the Federal Student Aid Information Center (FSAIC) to request a manual data sync with the Social Security Administration (SSA) after the SSA has confirmed that their records have been corrected. This can be done by notifying the school that they have received confirmation from SSA. The school or student can then ask the FSAIC to manually sync the data with SSA. \n",
            "\n",
            "For assistance, the student can also call the FSAIC at 1-800-433-3243 or support@fps.ed.gov. |⏱️ 2.33s | Tokens 5524 | Cost 0.000584\n",
            "Prompt 6 | The definition of a parent on the FAFSA is relevant for students with unmarried biological parents living together because it determines whether the student needs to provide parental information and how they are classified for financial aid purposes. Specifically, if the student's unmarried biological parents are living together and both support the student or the student’s dependent who qualifies, the student may be required to report both parents' financial information unless the student qualifies as independent for other reasons.\n",
            "\n",
            "From the guidance, a student living with their unmarried parents who are supporting them may or may not be considered dependent, depending on the specifics of their living arrangements and support. For example, if the parents are supporting the student and providing more than 50% support, and the student lives with them, the student typically would submit parental financial information. Conversely, if the student can demonstrate independence—such as supporting themselves financially or meeting other criteria—the need to include parental information may be waived.\n",
            "\n",
            "In summary, the definition of parents as \"legal parents\" affects whether their financial information must be included on the FAFSA. For students with unmarried biological parents living together, understanding this definition helps clarify the dependency status and the required parental data to accurately complete the form. |⏱️ 4.19s | Tokens 6237 | Cost 0.000694\n",
            "Prompt 7 | The FAFSA form primarily requires a valid U.S. Social Security Number (SSN) for individuals to apply for federal student aid. If a student's parent has a unique tax filing status, such as not filing a U.S. tax return—possibly due to foreign income or other reasons—the form addresses this in a few ways:\n",
            "\n",
            "1. **IRS Response Codes:**  \n",
            "   The IRS provides response codes indicating the status of the tax filing:\n",
            "   - **Code 200:** Usable Federal Tax Information (FTI) successfully retrieved.\n",
            "   - **Code 214:** No return on file, meaning the individual did not file a U.S. tax return.\n",
            "   - Other codes (e.g., 203, 206, 212): IRS unable to provide FTI, requiring the individual to manually enter income and tax data.\n",
            "\n",
            "2. **For a parent not filing a U.S. tax return:**  \n",
            "   If the IRS response code is 214, indicating no U.S. tax return on file, the parent must manually report income and tax information on the FAFSA. The IRS response code of 214 essentially confirms that no U.S. tax data is available for that individual, irrespective of their foreign income or filing status.\n",
            "\n",
            "3. **Foreign Income or Non-Filing:**  \n",
            "   The FAFSA form does not automatically accept foreign income or non-filing status as an alternative to U.S. tax filings. Instead, in cases where the IRS does not have data (response code 214), the applicant must provide income and tax data manually. This manually entered information is used in the financial aid calculation but is not verified by the IRS.\n",
            "\n",
            "4. **Special Circumstances and Verification:**  \n",
            "   In situations where a parent has a unique tax situation—such as foreign income or not filing a U.S. return—the student or parent can provide documentation and explanation to their financial aid office. The aid administrator can then consider these circumstances in their aid determination process.\n",
            "\n",
            "**Summary:**  \n",
            "The FAFSA form handles situations where a parent does not file a U.S. tax return by requiring manual reporting of income and tax information if the IRS cannot provide verified data (indicated by IRS response code 214). The form does not have a specific special status for foreign income or non-filers but relies on manual data input and documentation in such cases. |⏱️ 9.86s | Tokens 6412 | Cost 0.000781\n",
            "Prompt 8 | When completing the FAFSA form, a student must provide specific information about their spouse if they are married. This includes details such as the spouse's name, date of birth, and Social Security number (SSN) or Individual Taxpayer Identification Number (ITIN). \n",
            "\n",
            "This information is used to determine the composition of the student's family and to accurately calculate their eligibility for federal student aid. On the FAFSA Submission Summary (or ISIR), the spouse's information helps verify the household composition and family size, which are important factors in aid determination. The data may also be used for research purposes and to ensure correct processing of the application.\n",
            "\n",
            "In summary:\n",
            "- The student must provide their spouse's name, date of birth, and SSN or ITIN.\n",
            "- This information is used to verify and determine the student's family size and family circumstances, which impact aid eligibility, and is reflected in the FAFSA Submission Summary accordingly.\n",
            "\n",
            "If you need more specific details or clarification, please let me know! |⏱️ 3.12s | Tokens 6442 | Cost 0.000703\n",
            "Prompt 9 | If a parent reports that they didn't file a tax return but has foreign income that affects the Student Aid Index (SAI), the relevant guidance indicates that manually reported income and tax data may be required if the tax return is unavailable or does not reflect current circumstances. Specifically, if the IRS response code for the contributor (in this case, the parent) is 214, meaning no return on file, they must manually provide income and tax information on the FAFSA form. \n",
            "\n",
            "This manually entered data will be used in the SAI calculation but is not considered verified and may be subject to verification later. Additionally, because the foreign income affects the SAI, the parent may need to provide supporting documentation or further clarification to ensure the accurate calculation of aid eligibility.\n",
            "\n",
            "In summary:\n",
            "- The parent must manually report their foreign income if no U.S. tax return is on file.\n",
            "- The manually entered income will be used in the SAI but remains unverified until further review.\n",
            "- It's important to document and verify the foreign income appropriately as part of the application process.\n",
            "\n",
            "If you're unsure or need specific guidance on documentation or process, it may be helpful to consult the FAFSA or federal student aid official resources directly. |⏱️ 1.99s | Tokens 5671 | Cost 0.000639\n",
            "Prompt 10 | A student should report taxable grants and scholarships on the FAFSA by manually entering the relevant income and tax information if IRS data cannot be retrieved automatically. When completing the FAFSA electronically, the student provides consent and approval for the Department of Education to obtain and use their IRS tax information (FTI) through the secure FUTURE Act Direct Data Exchange (FA-DDX), which pulls certain tax data directly from the IRS.\n",
            "\n",
            "The role of IRS Form 1040 Schedule 1 in this process is that it provides specific tax information, such as taxable grants and scholarships, which can be imported automatically into the FAFSA if the data retrieval is successful. For example, updates mention that the FAFSA form now uses IRS Form 1040 line 29 and Schedule 3, line 3, to capture education-related income, including grants and scholarships that are taxable. \n",
            "\n",
            "If IRS data retrieval is unsuccessful (indicated by certain response codes on the ISIR), the student or contributor must manually report their income and taxes on the FAFSA form. This manually entered information is used in calculating the Student Aid Index (SAI), but it is not verified through IRS data and may be subject to verification.\n",
            "\n",
            "In summary, students are encouraged to use IRS data retrieved via Form 1040 Schedule 1 for reporting taxable grants and scholarships on the FAFSA. If IRS data cannot be obtained, they must manually report this information, which then plays a role in aid eligibility calculations but does not have the same level of verification. |⏱️ 5.36s | Tokens 5916 | Cost 0.000680\n",
            "Prompt 11 | The FUTURE Act Direct Data Exchange (FA-DDX) streamlines the FAFSA application process by enabling the automatic transfer of certain Federal Tax Information (FTI) from the Internal Revenue Service (IRS) directly into the FAFSA form. This is achieved through a secure, near-real-time connection established via an application programming interface (API) between IRS and the Federal Student Aid (FSA). Unlike the previous IRS Data Retrieval Tool (IRS-DRT), which applicants could opt into, the FA-DDX requires explicit consent and approval from the student and each contributor (such as parents or spouses) before the data can be retrieved. Once consent is provided, the IRS can share relevant tax information directly with the Department of Education, which then imports this data into the FAFSA, reducing the need for manual input of income and tax details.\n",
            "\n",
            "The role of the Internal Revenue Code (IRC), specifically amended Section 6103, is foundational to this process. The amendment authorizes the IRS to disclose certain tax return information (FTI) to the Department of Education in a secure manner, facilitating the automation of income verification for financial aid purposes. This legal framework ensures that the data sharing complies with privacy and confidentiality requirements while supporting the efficient processing of FAFSA applications. |⏱️ 4.34s | Tokens 5881 | Cost 0.000663\n",
            "\n",
            "📊 Summary for Semantic:\n",
            "🔢 Total tokens: 65412\n",
            "⏱️ Avg latency: 3.84s\n",
            "🔢 Avg tokens per query: 5946.55\n",
            "⏱️ Total duration: 42.27s\n",
            "💰 Total cost: 0.007299\n"
          ]
        },
        {
          "data": {
            "application/vnd.jupyter.widget-view+json": {
              "model_id": "58ec93d4317c4f9a84131a8ed25fe3ce",
              "version_major": 2,
              "version_minor": 0
            },
            "text/plain": [
              "Evaluating:   0%|          | 0/66 [00:00<?, ?it/s]"
            ]
          },
          "metadata": {},
          "output_type": "display_data"
        },
        {
          "name": "stderr",
          "output_type": "stream",
          "text": [
            "Exception raised in Job[4]: TimeoutError()\n",
            "Exception raised in Job[10]: TimeoutError()\n",
            "Exception raised in Job[22]: TimeoutError()\n",
            "Exception raised in Job[23]: TimeoutError()\n",
            "Exception raised in Job[28]: TimeoutError()\n",
            "Exception raised in Job[34]: TimeoutError()\n",
            "Exception raised in Job[41]: TimeoutError()\n",
            "Exception raised in Job[46]: TimeoutError()\n",
            "Exception raised in Job[58]: TimeoutError()\n",
            "Exception raised in Job[64]: TimeoutError()\n"
          ]
        },
        {
          "name": "stdout",
          "output_type": "stream",
          "text": [
            "Evaluation LLM model: gpt-4.1-nano\n",
            "Evaluation results: {'context_recall': 1.0000, 'faithfulness': 0.9930, 'factual_correctness(mode=f1)': 0.7891, 'answer_relevancy': 0.9489, 'context_entity_recall': 0.2083, 'noise_sensitivity(mode=relevant)': 0.1069}\n",
            "Evaluation tokens: 705683\n",
            "Evaluation cost: 0.122638\n",
            "✅ Full result saved to: loan_docs_retriever_logs/semantic_logs.json\n"
          ]
        }
      ],
      "source": [
        "semantic_evaluation = evaluate_retriever(\"Semantic\", semantic_retrieval_chain, dataset)"
      ]
    },
    {
      "cell_type": "code",
      "execution_count": 115,
      "metadata": {},
      "outputs": [],
      "source": [
        "all_results = {\n",
        "    \"Naive\": naive_evaluation,\n",
        "    \"BM25\": bm25_evaluation,\n",
        "    \"Multi-Query\": multi_query_evaluation,\n",
        "    \"Parent-Document\": parent_document_evaluation,\n",
        "    \"Contextual Compression\": contextual_compression_evaluation,\n",
        "    \"Ensemble\": ensemble_evaluation,\n",
        "    \"Semantic\": semantic_evaluation,\n",
        "}\n"
      ]
    },
    {
      "cell_type": "code",
      "execution_count": 116,
      "metadata": {},
      "outputs": [],
      "source": [
        "import pandas as pd\n",
        "from IPython.display import display\n",
        "\n",
        "def display_summary_table(results: dict):\n",
        "    \"\"\"\n",
        "    Displays a summary table comparing retriever pipelines with averaged RAGAS metrics.\n",
        "    \n",
        "    Args:\n",
        "        results (dict): A dictionary of evaluation results from evaluate_retriever().\n",
        "    \"\"\"\n",
        "    summary_data = []\n",
        "\n",
        "    for _, result in results.items():\n",
        "        eval_scores = result[\"evaluation_result\"]\n",
        "\n",
        "        row = {\n",
        "            \"Pipeline\": result[\"name\"],\n",
        "            **result[\"summary\"],\n",
        "            \"ContextRecall\": eval_scores.get(\"context_recall\"),\n",
        "            \"Faithfulness\": eval_scores.get(\"faithfulness\"),\n",
        "            \"FactualCorrectness\": eval_scores.get(\"factual_correctness(mode=f1)\"),\n",
        "            \"AnswerRelevancy\": eval_scores.get(\"answer_relevancy\"),\n",
        "            \"ContextEntityRecall\": eval_scores.get(\"context_entity_recall\"),\n",
        "            \"NoiseSensitivity\": eval_scores.get(\"noise_sensitivity(mode=relevant)\"),\n",
        "        }\n",
        "\n",
        "        summary_data.append(row)\n",
        "\n",
        "    df = pd.DataFrame(summary_data)\n",
        "    display(df.sort_values(by=\"ContextRecall\", ascending=False).reset_index(drop=True))\n"
      ]
    },
    {
      "cell_type": "code",
      "execution_count": 117,
      "metadata": {},
      "outputs": [
        {
          "data": {
            "text/html": [
              "<div>\n",
              "<style scoped>\n",
              "    .dataframe tbody tr th:only-of-type {\n",
              "        vertical-align: middle;\n",
              "    }\n",
              "\n",
              "    .dataframe tbody tr th {\n",
              "        vertical-align: top;\n",
              "    }\n",
              "\n",
              "    .dataframe thead th {\n",
              "        text-align: right;\n",
              "    }\n",
              "</style>\n",
              "<table border=\"1\" class=\"dataframe\">\n",
              "  <thead>\n",
              "    <tr style=\"text-align: right;\">\n",
              "      <th></th>\n",
              "      <th>Pipeline</th>\n",
              "      <th>total_runtime</th>\n",
              "      <th>avg_latency</th>\n",
              "      <th>total_tokens</th>\n",
              "      <th>total_queries</th>\n",
              "      <th>total_cost</th>\n",
              "      <th>avg_tokens_per_query</th>\n",
              "      <th>ContextRecall</th>\n",
              "      <th>Faithfulness</th>\n",
              "      <th>FactualCorrectness</th>\n",
              "      <th>AnswerRelevancy</th>\n",
              "      <th>ContextEntityRecall</th>\n",
              "      <th>NoiseSensitivity</th>\n",
              "    </tr>\n",
              "  </thead>\n",
              "  <tbody>\n",
              "    <tr>\n",
              "      <th>0</th>\n",
              "      <td>Ensemble</td>\n",
              "      <td>90.80</td>\n",
              "      <td>8.25</td>\n",
              "      <td>163327</td>\n",
              "      <td>11</td>\n",
              "      <td>0.017491</td>\n",
              "      <td>14847.91</td>\n",
              "      <td>1.0000</td>\n",
              "      <td>0.9899</td>\n",
              "      <td>0.8727</td>\n",
              "      <td>0.9501</td>\n",
              "      <td>0.5466</td>\n",
              "      <td>0.3333</td>\n",
              "    </tr>\n",
              "    <tr>\n",
              "      <th>1</th>\n",
              "      <td>Contextual Compression</td>\n",
              "      <td>52.27</td>\n",
              "      <td>4.75</td>\n",
              "      <td>38018</td>\n",
              "      <td>11</td>\n",
              "      <td>0.004537</td>\n",
              "      <td>3456.18</td>\n",
              "      <td>1.0000</td>\n",
              "      <td>0.9697</td>\n",
              "      <td>0.8782</td>\n",
              "      <td>0.9440</td>\n",
              "      <td>0.4068</td>\n",
              "      <td>0.1558</td>\n",
              "    </tr>\n",
              "    <tr>\n",
              "      <th>2</th>\n",
              "      <td>Parent-Document</td>\n",
              "      <td>71.44</td>\n",
              "      <td>6.49</td>\n",
              "      <td>32814</td>\n",
              "      <td>11</td>\n",
              "      <td>0.004018</td>\n",
              "      <td>2983.09</td>\n",
              "      <td>1.0000</td>\n",
              "      <td>0.9813</td>\n",
              "      <td>0.7855</td>\n",
              "      <td>0.8622</td>\n",
              "      <td>0.3666</td>\n",
              "      <td>0.2921</td>\n",
              "    </tr>\n",
              "    <tr>\n",
              "      <th>3</th>\n",
              "      <td>Semantic</td>\n",
              "      <td>42.27</td>\n",
              "      <td>3.84</td>\n",
              "      <td>65412</td>\n",
              "      <td>11</td>\n",
              "      <td>0.007299</td>\n",
              "      <td>5946.55</td>\n",
              "      <td>1.0000</td>\n",
              "      <td>0.9930</td>\n",
              "      <td>0.7891</td>\n",
              "      <td>0.9489</td>\n",
              "      <td>0.2083</td>\n",
              "      <td>0.1069</td>\n",
              "    </tr>\n",
              "    <tr>\n",
              "      <th>4</th>\n",
              "      <td>BM25</td>\n",
              "      <td>34.39</td>\n",
              "      <td>3.12</td>\n",
              "      <td>47793</td>\n",
              "      <td>11</td>\n",
              "      <td>0.005475</td>\n",
              "      <td>4344.82</td>\n",
              "      <td>0.9818</td>\n",
              "      <td>0.9899</td>\n",
              "      <td>0.7945</td>\n",
              "      <td>0.9500</td>\n",
              "      <td>0.4110</td>\n",
              "      <td>0.1902</td>\n",
              "    </tr>\n",
              "    <tr>\n",
              "      <th>5</th>\n",
              "      <td>Multi-Query</td>\n",
              "      <td>82.08</td>\n",
              "      <td>7.46</td>\n",
              "      <td>149441</td>\n",
              "      <td>11</td>\n",
              "      <td>0.016196</td>\n",
              "      <td>13585.55</td>\n",
              "      <td>0.9091</td>\n",
              "      <td>1.0000</td>\n",
              "      <td>0.8473</td>\n",
              "      <td>0.9488</td>\n",
              "      <td>0.5500</td>\n",
              "      <td>0.1250</td>\n",
              "    </tr>\n",
              "    <tr>\n",
              "      <th>6</th>\n",
              "      <td>Naive</td>\n",
              "      <td>38.87</td>\n",
              "      <td>3.53</td>\n",
              "      <td>113514</td>\n",
              "      <td>11</td>\n",
              "      <td>0.012209</td>\n",
              "      <td>10319.45</td>\n",
              "      <td>0.9091</td>\n",
              "      <td>0.9955</td>\n",
              "      <td>0.7636</td>\n",
              "      <td>0.9499</td>\n",
              "      <td>0.3715</td>\n",
              "      <td>0.1200</td>\n",
              "    </tr>\n",
              "  </tbody>\n",
              "</table>\n",
              "</div>"
            ],
            "text/plain": [
              "                 Pipeline  total_runtime  avg_latency  total_tokens  \\\n",
              "0                Ensemble          90.80         8.25        163327   \n",
              "1  Contextual Compression          52.27         4.75         38018   \n",
              "2         Parent-Document          71.44         6.49         32814   \n",
              "3                Semantic          42.27         3.84         65412   \n",
              "4                    BM25          34.39         3.12         47793   \n",
              "5             Multi-Query          82.08         7.46        149441   \n",
              "6                   Naive          38.87         3.53        113514   \n",
              "\n",
              "   total_queries  total_cost  avg_tokens_per_query  ContextRecall  \\\n",
              "0             11    0.017491              14847.91         1.0000   \n",
              "1             11    0.004537               3456.18         1.0000   \n",
              "2             11    0.004018               2983.09         1.0000   \n",
              "3             11    0.007299               5946.55         1.0000   \n",
              "4             11    0.005475               4344.82         0.9818   \n",
              "5             11    0.016196              13585.55         0.9091   \n",
              "6             11    0.012209              10319.45         0.9091   \n",
              "\n",
              "   Faithfulness  FactualCorrectness  AnswerRelevancy  ContextEntityRecall  \\\n",
              "0        0.9899              0.8727           0.9501               0.5466   \n",
              "1        0.9697              0.8782           0.9440               0.4068   \n",
              "2        0.9813              0.7855           0.8622               0.3666   \n",
              "3        0.9930              0.7891           0.9489               0.2083   \n",
              "4        0.9899              0.7945           0.9500               0.4110   \n",
              "5        1.0000              0.8473           0.9488               0.5500   \n",
              "6        0.9955              0.7636           0.9499               0.3715   \n",
              "\n",
              "   NoiseSensitivity  \n",
              "0            0.3333  \n",
              "1            0.1558  \n",
              "2            0.2921  \n",
              "3            0.1069  \n",
              "4            0.1902  \n",
              "5            0.1250  \n",
              "6            0.1200  "
            ]
          },
          "metadata": {},
          "output_type": "display_data"
        }
      ],
      "source": [
        "display_summary_table(all_results)\n"
      ]
    },
    {
      "cell_type": "markdown",
      "metadata": {},
      "source": [
        "| Pipeline                  | Total Runtime (s)     | Avg Latency (s)      | Total Tokens         | Total Cost ($)         | Avg Tokens/Query     | Context Recall         | Faithfulness             | Factual Correctness       | Answer Relevancy         | Context Entity Recall     | Noise Sensitivity         |\n",
        "|---------------------------|------------------------|------------------------|------------------------|--------------------------|------------------------|--------------------------|----------------------------|-----------------------------|----------------------------|-----------------------------|----------------------------|\n",
        "| **Naive**                 | 🟡 *38.87*             | 🟡 *3.53*             | 🟡 *113,514*          | 🔴 **0.012209**         | 🔴 **10,319.45**      | 🔴 **0.9091**           | 🟡 *0.9955*               | 🔴 **0.7636**             | 🟡 *0.9499*              | 🔴 **0.3715**             | 🟢 **0.1200**             |\n",
        "| **BM25**                  | 🟢 **34.39**           | 🟢 **3.12**           | 🟢 **47,793**         | 🟡 *0.005475*           | 🟡 *4,344.82*         | 🟡 *0.9818*             | 🟡 *0.9899*               | 🟡 *0.7945*               | 🟢 **0.9500**             | 🟡 *0.4110*               | 🔴 **0.1902**             |\n",
        "| **Multi-Query**           | 🔴 **82.08**           | 🔴 **7.46**           | 🔴 **149,441**        | 🔴 **0.016196**         | 🔴 **13,585.55**      | 🔴 **0.9091**           | 🟢 **1.0000**             | 🟡 *0.8473*               | 🟡 *0.9488*              | 🟢 **0.5500**             | 🟡 *0.1250*              |\n",
        "| **Parent-Document**       | 🟡 *71.44*             | 🟡 *6.49*             | 🟢 **32,814**         | 🟢 **0.004018**         | 🟢 **2,983.09**       | 🟢 **1.0000**           | 🔴 **0.9813**             | 🔴 **0.7855**             | 🔴 **0.8622**             | 🔴 **0.3666**             | 🔴 **0.2921**             |\n",
        "| **Contextual Compression**| 🟡 *52.27*             | 🟡 *4.75*             | 🟡 *38,018*           | 🟢 **0.004537**         | 🟢 **3,456.18**       | 🟢 **1.0000**           | 🔴 **0.9697**             | 🟢 **0.8782**             | 🟡 *0.9440*              | 🟡 *0.4068*               | 🟡 *0.1558*              |\n",
        "| **Ensemble**              | 🔴 **90.80**           | 🔴 **8.25**           | 🔴 **163,327**        | 🔴 **0.017491**         | 🔴 **14,847.91**      | 🟢 **1.0000**           | 🟡 *0.9899*               | 🟡 *0.8727*               | 🟢 **0.9501**             | 🟡 *0.5466*               | 🔴 **0.3333**             |\n",
        "| **Semantic**              | 🟢 **42.27**           | 🟢 **3.84**           | 🟡 *65,412*           | 🟡 *0.007299*           | 🟡 *5,946.55*         | 🟢 **1.0000**           | 🟢 **0.9930**             | 🔴 **0.7891**             | 🟡 *0.9489*              | 🔴 **0.2083**             | 🟢 **0.1069**             |\n"
      ]
    }
  ],
  "metadata": {
    "colab": {
      "provenance": [],
      "toc_visible": true
    },
    "kernelspec": {
      "display_name": ".venv",
      "language": "python",
      "name": "python3"
    },
    "language_info": {
      "codemirror_mode": {
        "name": "ipython",
        "version": 3
      },
      "file_extension": ".py",
      "mimetype": "text/x-python",
      "name": "python",
      "nbconvert_exporter": "python",
      "pygments_lexer": "ipython3",
      "version": "3.13.3"
    }
  },
  "nbformat": 4,
  "nbformat_minor": 0
}
