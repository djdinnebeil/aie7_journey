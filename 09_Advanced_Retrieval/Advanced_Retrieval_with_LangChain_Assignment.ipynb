{
  "cells": [
    {
      "cell_type": "markdown",
      "metadata": {
        "id": "e-IqJAMkwnCF"
      },
      "source": [
        "# Advanced Retrieval with LangChain\n",
        "\n",
        "In the following notebook, we'll explore various methods of advanced retrieval using LangChain!\n",
        "\n",
        "We'll touch on:\n",
        "\n",
        "- Naive Retrieval\n",
        "- Best-Matching 25 (BM25)\n",
        "- Multi-Query Retrieval\n",
        "- Parent-Document Retrieval\n",
        "- Contextual Compression (a.k.a. Rerank)\n",
        "- Ensemble Retrieval\n",
        "- Semantic chunking\n",
        "\n",
        "We'll also discuss how these methods impact performance on our set of documents with a simple RAG chain.\n",
        "\n",
        "There will be two breakout rooms:\n",
        "\n",
        "- 🤝 Breakout Room Part #1\n",
        "  - Task 1: Getting Dependencies!\n",
        "  - Task 2: Data Collection and Preparation\n",
        "  - Task 3: Setting Up QDrant!\n",
        "  - Task 4-10: Retrieval Strategies\n",
        "- 🤝 Breakout Room Part #2\n",
        "  - Activity: Evaluate with Ragas"
      ]
    },
    {
      "cell_type": "markdown",
      "metadata": {
        "id": "4rKP3hgHivpe"
      },
      "source": [
        "# 🤝 Breakout Room Part #1"
      ]
    },
    {
      "cell_type": "markdown",
      "metadata": {
        "id": "3xes8oT-xHN7"
      },
      "source": [
        "## Task 1: Getting Dependencies!\n",
        "\n",
        "We're going to need a few specific LangChain community packages, like OpenAI (for our [LLM](https://platform.openai.com/docs/models) and [Embedding Model](https://platform.openai.com/docs/guides/embeddings)) and Cohere (for our [Reranker](https://cohere.com/rerank))."
      ]
    },
    {
      "cell_type": "markdown",
      "metadata": {
        "id": "Z7OHJXzfyJyA"
      },
      "source": [
        "We'll also provide our OpenAI key, as well as our Cohere API key."
      ]
    },
    {
      "cell_type": "code",
      "execution_count": 1,
      "metadata": {
        "colab": {
          "base_uri": "https://localhost:8080/"
        },
        "id": "7LttlDQUYgSI",
        "outputId": "9dca95ab-4d02-4adf-ec3f-cb831326dc54"
      },
      "outputs": [],
      "source": [
        "import os\n",
        "import getpass\n",
        "\n",
        "os.environ[\"OPENAI_API_KEY\"] = getpass.getpass(\"Enter your OpenAI API Key:\")"
      ]
    },
    {
      "cell_type": "code",
      "execution_count": 2,
      "metadata": {
        "colab": {
          "base_uri": "https://localhost:8080/"
        },
        "id": "3iUahNiJyQbv",
        "outputId": "78bf06ef-2ee8-46c3-f73d-27958b4dd79b"
      },
      "outputs": [],
      "source": [
        "os.environ[\"COHERE_API_KEY\"] = getpass.getpass(\"Cohere API Key:\")"
      ]
    },
    {
      "cell_type": "markdown",
      "metadata": {
        "id": "mw304iAFyRtl"
      },
      "source": [
        "## Task 2: Data Collection and Preparation\n",
        "\n",
        "We'll be using our Loan Data once again - this time the strutured data available through the CSV!"
      ]
    },
    {
      "cell_type": "markdown",
      "metadata": {
        "id": "A92NC2QZzCsi"
      },
      "source": [
        "### Data Preparation\n",
        "\n",
        "We want to make sure all our documents have the relevant metadata for the various retrieval strategies we're going to be applying today."
      ]
    },
    {
      "cell_type": "code",
      "execution_count": 3,
      "metadata": {
        "id": "GshBjVRJZ6p8"
      },
      "outputs": [],
      "source": [
        "from langchain_community.document_loaders.csv_loader import CSVLoader\n",
        "from datetime import datetime, timedelta\n",
        "\n",
        "loader = CSVLoader(\n",
        "    file_path=f\"./data/complaints.csv\",\n",
        "    metadata_columns=[\n",
        "      \"Date received\", \n",
        "      \"Product\", \n",
        "      \"Sub-product\", \n",
        "      \"Issue\", \n",
        "      \"Sub-issue\", \n",
        "      \"Consumer complaint narrative\", \n",
        "      \"Company public response\", \n",
        "      \"Company\", \n",
        "      \"State\", \n",
        "      \"ZIP code\", \n",
        "      \"Tags\", \n",
        "      \"Consumer consent provided?\", \n",
        "      \"Submitted via\", \n",
        "      \"Date sent to company\", \n",
        "      \"Company response to consumer\", \n",
        "      \"Timely response?\", \n",
        "      \"Consumer disputed?\", \n",
        "      \"Complaint ID\"\n",
        "    ]\n",
        ")\n",
        "\n",
        "loan_complaint_data = loader.load()\n",
        "\n",
        "for doc in loan_complaint_data:\n",
        "    doc.page_content = doc.metadata[\"Consumer complaint narrative\"]"
      ]
    },
    {
      "cell_type": "markdown",
      "metadata": {
        "id": "9gQphb6y0C0S"
      },
      "source": [
        "Let's look at an example document to see if everything worked as expected!"
      ]
    },
    {
      "cell_type": "code",
      "execution_count": 4,
      "metadata": {
        "colab": {
          "base_uri": "https://localhost:8080/"
        },
        "id": "PkUkCf7DaMiq",
        "outputId": "e90bd5da-1d87-423b-838a-cb6efc16b199"
      },
      "outputs": [
        {
          "data": {
            "text/plain": [
              "Document(metadata={'source': './data/complaints.csv', 'row': 0, 'Date received': '03/27/25', 'Product': 'Student loan', 'Sub-product': 'Federal student loan servicing', 'Issue': 'Dealing with your lender or servicer', 'Sub-issue': 'Trouble with how payments are being handled', 'Consumer complaint narrative': \"The federal student loan COVID-19 forbearance program ended in XX/XX/XXXX. However, payments were not re-amortized on my federal student loans currently serviced by Nelnet until very recently. The new payment amount that is effective starting with the XX/XX/XXXX payment will nearly double my payment from {$180.00} per month to {$360.00} per month. I'm fortunate that my current financial position allows me to be able to handle the increased payment amount, but I am sure there are likely many borrowers who are not in the same position. The re-amortization should have occurred once the forbearance ended to reduce the impact to borrowers.\", 'Company public response': 'None', 'Company': 'Nelnet, Inc.', 'State': 'IL', 'ZIP code': '60030', 'Tags': 'None', 'Consumer consent provided?': 'Consent provided', 'Submitted via': 'Web', 'Date sent to company': '03/27/25', 'Company response to consumer': 'Closed with explanation', 'Timely response?': 'Yes', 'Consumer disputed?': 'N/A', 'Complaint ID': '12686613'}, page_content=\"The federal student loan COVID-19 forbearance program ended in XX/XX/XXXX. However, payments were not re-amortized on my federal student loans currently serviced by Nelnet until very recently. The new payment amount that is effective starting with the XX/XX/XXXX payment will nearly double my payment from {$180.00} per month to {$360.00} per month. I'm fortunate that my current financial position allows me to be able to handle the increased payment amount, but I am sure there are likely many borrowers who are not in the same position. The re-amortization should have occurred once the forbearance ended to reduce the impact to borrowers.\")"
            ]
          },
          "execution_count": 4,
          "metadata": {},
          "output_type": "execute_result"
        }
      ],
      "source": [
        "loan_complaint_data[0]"
      ]
    },
    {
      "cell_type": "markdown",
      "metadata": {},
      "source": [
        "### 🗂️ Structure of `Document` Object\n",
        "\n",
        "#### 📌 `metadata`\n",
        "```python\n",
        "{\n",
        "    'source': './data/complaints.csv',\n",
        "    'row': 0,\n",
        "    'Date received': '03/27/25',\n",
        "    'Product': 'Student loan',\n",
        "    'Sub-product': 'Federal student loan servicing',\n",
        "    'Issue': 'Dealing with your lender or servicer',\n",
        "    'Sub-issue': 'Trouble with how payments are being handled',\n",
        "    'Consumer complaint narrative': (\n",
        "        \"The federal student loan COVID-19 forbearance program ended in XX/XX/XXXX. \"\n",
        "        \"However, payments were not re-amortized on my federal student loans currently \"\n",
        "        \"serviced by Nelnet until very recently. The new payment amount that is effective \"\n",
        "        \"starting with the XX/XX/XXXX payment will nearly double my payment from {$180.00} \"\n",
        "        \"per month to {$360.00} per month. I'm fortunate that my current financial position \"\n",
        "        \"allows me to be able to handle the increased payment amount, but I am sure there are \"\n",
        "        \"likely many borrowers who are not in the same position. The re-amortization should have \"\n",
        "        \"occurred once the forbearance ended to reduce the impact to borrowers.\"\n",
        "    ),\n",
        "    'Company public response': 'None',\n",
        "    'Company': 'Nelnet, Inc.',\n",
        "    'State': 'IL',\n",
        "    'ZIP code': '60030',\n",
        "    'Tags': 'None',\n",
        "    'Consumer consent provided?': 'Consent provided',\n",
        "    'Submitted via': 'Web',\n",
        "    'Date sent to company': '03/27/25',\n",
        "    'Company response to consumer': 'Closed with explanation',\n",
        "    'Timely response?': 'Yes',\n",
        "    'Consumer disputed?': 'N/A',\n",
        "    'Complaint ID': '12686613'\n",
        "}\n",
        "```\n",
        "\n",
        "#### 📄 `page_content`\n",
        "```text\n",
        "The federal student loan COVID-19 forbearance program ended in XX/XX/XXXX. However, payments were not re-amortized on my federal student loans currently serviced by Nelnet until very recently. The new payment amount that is effective starting with the XX/XX/XXXX payment will nearly double my payment from {$180.00} per month to {$360.00} per month. I'm fortunate that my current financial position allows me to be able to handle the increased payment amount, but I am sure there are likely many borrowers who are not in the same position. The re-amortization should have occurred once the forbearance ended to reduce the impact to borrowers.\n",
        "```\n"
      ]
    },
    {
      "cell_type": "code",
      "execution_count": 5,
      "metadata": {},
      "outputs": [
        {
          "name": "stdout",
          "output_type": "stream",
          "text": [
            "825\n",
            "['__abstractmethods__', '__annotations__', '__class__', '__class_getitem__', '__class_vars__', '__copy__', '__deepcopy__', '__delattr__', '__dict__', '__dir__', '__doc__', '__eq__', '__fields__', '__fields_set__', '__firstlineno__', '__format__', '__ge__', '__get_pydantic_core_schema__', '__get_pydantic_json_schema__', '__getattr__', '__getattribute__', '__getstate__', '__gt__', '__hash__', '__init__', '__init_subclass__', '__iter__', '__le__', '__lt__', '__module__', '__ne__', '__new__', '__pretty__', '__private_attributes__', '__pydantic_complete__', '__pydantic_computed_fields__', '__pydantic_core_schema__', '__pydantic_custom_init__', '__pydantic_decorators__', '__pydantic_extra__', '__pydantic_fields__', '__pydantic_fields_set__', '__pydantic_generic_metadata__', '__pydantic_init_subclass__', '__pydantic_parent_namespace__', '__pydantic_post_init__', '__pydantic_private__', '__pydantic_root_model__', '__pydantic_serializer__', '__pydantic_setattr_handlers__', '__pydantic_validator__', '__reduce__', '__reduce_ex__', '__replace__', '__repr__', '__repr_args__', '__repr_name__', '__repr_recursion__', '__repr_str__', '__rich_repr__', '__setattr__', '__setstate__', '__signature__', '__sizeof__', '__slots__', '__static_attributes__', '__str__', '__subclasshook__', '__weakref__', '_abc_impl', '_calculate_keys', '_copy_and_set_values', '_get_value', '_iter', '_setattr_handler', 'construct', 'copy', 'dict', 'from_orm', 'get_lc_namespace', 'id', 'is_lc_serializable', 'json', 'lc_attributes', 'lc_id', 'lc_secrets', 'metadata', 'model_computed_fields', 'model_config', 'model_construct', 'model_copy', 'model_dump', 'model_dump_json', 'model_extra', 'model_fields', 'model_fields_set', 'model_json_schema', 'model_parametrized_name', 'model_post_init', 'model_rebuild', 'model_validate', 'model_validate_json', 'model_validate_strings', 'page_content', 'parse_file', 'parse_obj', 'parse_raw', 'schema', 'schema_json', 'to_json', 'to_json_not_implemented', 'type', 'update_forward_refs', 'validate']\n",
            "<class 'langchain_core.documents.base.Document'>\n",
            "{'source': './data/complaints.csv', 'row': 823, 'Date received': '04/09/25', 'Product': 'Student loan', 'Sub-product': 'Federal student loan servicing', 'Issue': 'Dealing with your lender or servicer', 'Sub-issue': 'Problem with customer service', 'Consumer complaint narrative': 'NOTICE This Complaint Is Not a Duplicate : Any Attempt to Misclassify It Constitutes Procedural Misrepresentation and Regulatory Misconduct ========================================================================= This complaint is not a duplicate of any prior submission, including but not limited to CFPB Complaint ID XXXX. It documents a new, independently reportable violationspecifically, Aidvantages continued misrepresentation of a prior CFPB complaint filed against XXXX ( ID XXXX ) as the basis for its internal fraud classification, as well as its stated policy of collapsing multiple complaints into a single response record. \\n========================================================================= Any attempt by Aidvantage to mischaracterize this complaint as previously addressed or duplicative will be treated as a fraudulent procedural act and a misuse of the federal consumer complaint system, in violation of : 12 U.S.C. 5536 ( a ) ( 1 ) ( B ) Prohibition on deceptive and abusive acts or practices ( UDAAP ) ; 15 U.S.C. 1681s-2 ( a ) ( 1 ) ( B ) Furnishers duty to correct and update inaccurate information ; D.C. Code 28-3904 ( e ), ( f ) Misrepresentation and failure to honor consumer rights under the D.C. Consumer Protection Procedures Act ; 18 U.S.C. 1001 Material false statements to a federal agency or in a matter within federal jurisdiction. \\n========================================================================= This complaint arises from a new, post-dated violation that took place after prior complaints were filed. It involves a materially false assertion made by Aidvantage in its XX/XX/2025 response, falsely linking a separate CFPB complaint ( filed against XXXX ) to its internal servicing records, and reaffirming a pattern of improper fraud designation and procedural concealment. \\n========================================================================= Furthermore, Aidvantages stated policy of responding to multiple complaints under one CFPB complaint number constitutes an attempt to suppress individualized complaint visibility, obstruct the official regulatory record, and evade accountability for ongoing and distinct legal violations. \\n========================================================================= Any further attempt by Aidvantage to mislabel this submission as duplicative or to suppress its factual and legal claims through internal aggregation policies will be preserved as evidence of regulatory misconduct and will be escalated as warranted. \\n========================================================================= NOTICE : Aidvantages continued misuse of the CFPBs complaint designation system to obscure procedural violations is being independently tracked as part of an active evidentiary dossier for potential regulatory enforcement and civil litigation, if warranted. \\n========================================================================= Subject : Systemic Misrepresentation by Aidvantage False Identity Theft Designation, Unauthorized Use of CFPB Complaint Record, and Violation of Federal Furnisher Obligations ========================================================================= To : Consumer Financial Protection Bureau, FTC ========================================================================= CC : Aidvantage Credit Bureau Management ========================================================================= Date : XX/XX/2025 ========================================================================= Complainant : XXXX XXXX XXXX ========================================================================= Complaint ID Referenced ( for background ) : ========================================================================= XXXX ========================================================================= XXXX ========================================================================= XXXX ========================================================================= XXXX ========================================================================= Affirmation of Independent Legal Action and Federal Record Accuracy ========================================================================= I submit this complaint in my individual legal capacity and affirm that I am not affiliated with any credit repair organization. This submission documents federal loan servicing misconduct and preserves all rights for civil, regulatory, and evidentiary enforcement. Aidvantage is formally on notice. \\n========================================================================= I. Unauthorized Identity Theft Designation of Federal Loan Account ========================================================================= Aidvantage unilaterally designated one or more of my federal student loan accounts as involving identity theft without my authorization, without law enforcement documentation, and without any identity theft report submitted by me. \\n========================================================================= This act constitutes : ========================================================================= A material misrepresentation of the status of a federal student loan, ========================================================================= A falsification of servicing records, ========================================================================= A violation of FCRA 1681s-2 ( a ) ( 1 ) ( B ) and 12 U.S.C. 5536 ( a ) ( 1 ) ( B ) ( UDAAP ). \\n========================================================================= I have submitted a notarized affidavit and two FTC Fraud Reports affirming no identity theft was reported. Aidvantage proceeded with a fraud designation despite this documentation. \\n========================================================================= XXXX. Misuse of CFPB Complaint System to Justify Internal Fraud Protocol ========================================================================= In its XX/XX/2025 response, Aidvantage cited CFPB Complaint ID XXXX was filed against XXXX the basis for initiating a fraud classification on my federal loan. \\n========================================================================= This claim is demonstrably false. \\n========================================================================= The referenced complaint does not mention identity theft, was not submitted against Aidvantage, and was never intended as a fraud-related dispute. Aidvantages use of this record to trigger internal fraud protocols constitutes a misrepresentation in a federal proceeding and may violate : ========================================================================= 18 U.S.C. 1001 False statements to a federal agency, ========================================================================= 12 U.S.C. 5536 ( a ) ( 2 ) Misrepresentation to a consumer or regulator, ========================================================================= FCRA 1681s-2 ( a ) ( 1 ) ( B ) Furnisher duty to correct inaccurate information. \\n========================================================================= III. Transmission or Attempted Transmission of False Identity Theft Information ========================================================================= Aidvantage has either transmitted or attempted to transmit this false identity theft classification to one or more consumer reporting agencies through E-Oscar or equivalent systems. \\n========================================================================= This conduct violates : ========================================================================= FCRA 1681e ( b ) Failure to ensure maximum possible accuracy, ========================================================================= 12 C.F.R. 1022.42 Accuracy and Integrity Rule under FACTA, ========================================================================= CFPB Bulletin 2014-01 Prohibition on furnishing misleading or false information. \\nXXXX Aidvantage has not produced documentation identifying the system or person responsible for triggering the fraud classification despite multiple formal requests. \\n========================================================================= IV. Procedural Suppression of the Official Regulatory Record ========================================================================= Aidvantages statement that multiple complaints regarding the same concerns will be responded to under one CFPB complaint number reflects a policy of collapsing distinct complaints to limit regulatory exposure. \\n========================================================================= This tactic obstructs the integrity of the Bureaus public complaint system. Each complaint filed documents new dates, new legal violations, and escalating conduct. Collapsing separate records may violate : ========================================================================= 12 U.S.C. 5495 CFPB coordination and supervisory authority requirements. \\n========================================================================= This behavior appears designed to evade systemic accountability for recurring violations. \\n========================================================================= V. Enforcement Referral and Legal Preservation ========================================================================= Pursuant to the Bureaus statutory mandate under 12 U.S.C. 5495 ( Coordination ), I formally request that this matter be referred for supervisory and enforcement review, and that the Consumer Financial Protection Bureau coordinate with relevant federal and state agencies to ensure proper oversight, investigation, and legal remedy. \\n========================================================================= The following agency referrals are warranted based on distinct legal authorities, each directly implicated by Aidvantages conduct : ========================================================================= 1. Consumer Financial Protection Bureau ( CFPB ) Enforcement Division ========================================================================= Aidvantages actions violate core provisions of the Fair Credit Reporting Act, including : ========================================================================= o 15 U.S.C. 1681s-2 ( a ) ( 1 ) ( B ) : Duty of furnishers to correct and update inaccurate information.\\n\\n========================================================================= o 15 U.S.C. 1681i : Failure to conduct a reasonable reinvestigation upon notice of dispute.\\n\\n========================================================================= o 12 U.S.C. 5536 ( a ) ( 1 ) ( B ) : Prohibition on deceptive or abusive acts or practices under the Consumer Financial Protection Act ( UDAAP ).\\n\\n========================================================================= These violations fall squarely within the CFPBs enforcement jurisdiction and implicate the agencys role in overseeing the accuracy and integrity of the credit reporting system.\\n\\n========================================================================= 2. Federal Trade Commission ( FTC ) ========================================================================= Aidvantages repeated misrepresentations to both consumer and regulatorparticularly its misuse of an unrelated CFPB complaint to justify a false fraud designationviolate the Federal Trade Commission Act, specifically : ========================================================================= o 15 U.S.C. 45 ( a ) : Prohibition on unfair or deceptive acts or practices in or affecting commerce. \\n========================================================================= The FTC retains parallel jurisdiction over non-bank servicers and deceptive consumer-facing practices, and is positioned to investigate systemic misrepresentation or pattern violations. \\n========================================================================= 3. Department of Justice ( DOJ ) Civil Division, Consumer Protection Branch ========================================================================= Aidvantages conduct may constitute federal offenses under : ========================================================================= a. 18 U.S.C. 1001 : False statements in matters within the jurisdiction of a federal agency.\\n\\n========================================================================= b. 18 U.S.C. 1341 : Mail fraud, based on the use of USPS to transmit materially false information.\\n\\n========================================================================= c. 18 U.S.C. 1343 : Wire fraud, where electronic systems ( including CFPB portal and E-Oscar transmissions ) were used to perpetuate misrepresentations. \\n\\n========================================================================= DOJ is authorized to initiate both civil and criminal proceedings where false statements or fraudulent schemes affect federal records or regulatory systems. \\n========================================================================= 4. National Association of Attorneys General ( NAAG ) ========================================================================= Aidvantages conduct may violate multiple state-level consumer protection laws, including : ========================================================================= d. D.C. Consumer Protection Procedures Act ( CPPA ), D.C. Code 28-3904 ( e ), ( f ) : Prohibiting misrepresentation and omission of material facts in connection with consumer services. \\n\\n========================================================================= Given the multistate and federally regulated nature of the loan, a NAAG-coordinated review is appropriate under 5495s requirement for intergovernmental coordination to prevent regulatory evasion. \\n\\n\\n========================================================================= All factual assertions, sworn affidavits, and certified documents are preserved in accordance with the Federal Rules of Evidence 902 and 1005. No further burden-shifting, misclassification, or procedural obfuscation by Aidvantage will be accepted. This matter now requires cross-agency supervisory action. \\n========================================================================= Submitted by : XXXX XXXX XXXX', 'Company public response': 'None', 'Company': 'Maximus Federal Services, Inc.', 'State': 'DC', 'ZIP code': '20008', 'Tags': 'None', 'Consumer consent provided?': 'Consent provided', 'Submitted via': 'Web', 'Date sent to company': '04/09/25', 'Company response to consumer': 'Closed with explanation', 'Timely response?': 'Yes', 'Consumer disputed?': 'N/A', 'Complaint ID': '12896336'}\n"
          ]
        }
      ],
      "source": [
        "# I am inspecting the data type and the csv file\n",
        "\n",
        "print(len(loan_complaint_data))\n",
        "print(dir(loan_complaint_data[823]))\n",
        "print(type(loan_complaint_data[823]))\n",
        "print(loan_complaint_data[823].metadata)"
      ]
    },
    {
      "cell_type": "markdown",
      "metadata": {
        "id": "lWaQpdHl0Gzc"
      },
      "source": [
        "## Task 3: Setting up QDrant!\n",
        "\n",
        "Now that we have our documents, let's create a QDrant VectorStore with the collection name \"LoanComplaints\".\n",
        "\n",
        "We'll leverage OpenAI's [`text-embedding-3-small`](https://openai.com/blog/new-embedding-models-and-api-updates) because it's a very powerful (and low-cost) embedding model.\n",
        "\n",
        "> NOTE: We'll be creating additional vectorstores where necessary, but this pattern is still extremely useful."
      ]
    },
    {
      "cell_type": "code",
      "execution_count": 6,
      "metadata": {
        "id": "NT8ihRJbYmMT"
      },
      "outputs": [],
      "source": [
        "from langchain_community.vectorstores import Qdrant\n",
        "from langchain_openai import OpenAIEmbeddings\n",
        "\n",
        "embeddings = OpenAIEmbeddings(model=\"text-embedding-3-small\")\n",
        "\n",
        "vectorstore = Qdrant.from_documents(\n",
        "    loan_complaint_data,\n",
        "    embeddings,\n",
        "    location=\":memory:\",\n",
        "    collection_name=\"LoanComplaints\"\n",
        ")"
      ]
    },
    {
      "cell_type": "markdown",
      "metadata": {
        "id": "-x2SS4Rh0hiN"
      },
      "source": [
        "## Task 4: Naive RAG Chain\n",
        "\n",
        "Since we're focusing on the \"R\" in RAG today - we'll create our Retriever first."
      ]
    },
    {
      "cell_type": "markdown",
      "metadata": {
        "id": "NEH7X5Ai08FH"
      },
      "source": [
        "### R - Retrieval\n",
        "\n",
        "This naive retriever will simply look at each review as a document, and use cosine-similarity to fetch the 10 most relevant documents.\n",
        "\n",
        "> NOTE: We're choosing `10` as our `k` here to provide enough documents for our reranking process later"
      ]
    },
    {
      "cell_type": "code",
      "execution_count": 7,
      "metadata": {
        "id": "GFDPrNBtb72o"
      },
      "outputs": [],
      "source": [
        "naive_retriever = vectorstore.as_retriever(search_kwargs={\"k\" : 10})"
      ]
    },
    {
      "cell_type": "code",
      "execution_count": 8,
      "metadata": {},
      "outputs": [
        {
          "data": {
            "text/plain": [
              "['InputType',\n",
              " 'OutputType',\n",
              " '__abstractmethods__',\n",
              " '__annotations__',\n",
              " '__class__',\n",
              " '__class_getitem__',\n",
              " '__class_vars__',\n",
              " '__copy__',\n",
              " '__deepcopy__',\n",
              " '__delattr__',\n",
              " '__dict__',\n",
              " '__dir__',\n",
              " '__doc__',\n",
              " '__eq__',\n",
              " '__fields__',\n",
              " '__fields_set__',\n",
              " '__firstlineno__',\n",
              " '__format__',\n",
              " '__ge__',\n",
              " '__get_pydantic_core_schema__',\n",
              " '__get_pydantic_json_schema__',\n",
              " '__getattr__',\n",
              " '__getattribute__',\n",
              " '__getstate__',\n",
              " '__gt__',\n",
              " '__hash__',\n",
              " '__init__',\n",
              " '__init_subclass__',\n",
              " '__iter__',\n",
              " '__le__',\n",
              " '__lt__',\n",
              " '__module__',\n",
              " '__ne__',\n",
              " '__new__',\n",
              " '__or__',\n",
              " '__orig_bases__',\n",
              " '__parameters__',\n",
              " '__pretty__',\n",
              " '__private_attributes__',\n",
              " '__pydantic_complete__',\n",
              " '__pydantic_computed_fields__',\n",
              " '__pydantic_core_schema__',\n",
              " '__pydantic_custom_init__',\n",
              " '__pydantic_decorators__',\n",
              " '__pydantic_extra__',\n",
              " '__pydantic_fields__',\n",
              " '__pydantic_fields_set__',\n",
              " '__pydantic_generic_metadata__',\n",
              " '__pydantic_init_subclass__',\n",
              " '__pydantic_parent_namespace__',\n",
              " '__pydantic_post_init__',\n",
              " '__pydantic_private__',\n",
              " '__pydantic_root_model__',\n",
              " '__pydantic_serializer__',\n",
              " '__pydantic_setattr_handlers__',\n",
              " '__pydantic_validator__',\n",
              " '__reduce__',\n",
              " '__reduce_ex__',\n",
              " '__replace__',\n",
              " '__repr__',\n",
              " '__repr_args__',\n",
              " '__repr_name__',\n",
              " '__repr_recursion__',\n",
              " '__repr_str__',\n",
              " '__rich_repr__',\n",
              " '__ror__',\n",
              " '__setattr__',\n",
              " '__setstate__',\n",
              " '__signature__',\n",
              " '__sizeof__',\n",
              " '__slots__',\n",
              " '__static_attributes__',\n",
              " '__str__',\n",
              " '__subclasshook__',\n",
              " '__weakref__',\n",
              " '_abatch_with_config',\n",
              " '_abc_impl',\n",
              " '_acall_with_config',\n",
              " '_aget_relevant_documents',\n",
              " '_atransform_stream_with_config',\n",
              " '_batch_with_config',\n",
              " '_calculate_keys',\n",
              " '_call_with_config',\n",
              " '_copy_and_set_values',\n",
              " '_expects_other_args',\n",
              " '_get_ls_params',\n",
              " '_get_relevant_documents',\n",
              " '_get_value',\n",
              " '_iter',\n",
              " '_new_arg_supported',\n",
              " '_setattr_handler',\n",
              " '_transform_stream_with_config',\n",
              " 'aadd_documents',\n",
              " 'abatch',\n",
              " 'abatch_as_completed',\n",
              " 'add_documents',\n",
              " 'aget_relevant_documents',\n",
              " 'ainvoke',\n",
              " 'allowed_search_types',\n",
              " 'as_tool',\n",
              " 'assign',\n",
              " 'astream',\n",
              " 'astream_events',\n",
              " 'astream_log',\n",
              " 'atransform',\n",
              " 'batch',\n",
              " 'batch_as_completed',\n",
              " 'bind',\n",
              " 'config_schema',\n",
              " 'config_specs',\n",
              " 'configurable_alternatives',\n",
              " 'configurable_fields',\n",
              " 'construct',\n",
              " 'copy',\n",
              " 'dict',\n",
              " 'from_orm',\n",
              " 'get_config_jsonschema',\n",
              " 'get_graph',\n",
              " 'get_input_jsonschema',\n",
              " 'get_input_schema',\n",
              " 'get_lc_namespace',\n",
              " 'get_name',\n",
              " 'get_output_jsonschema',\n",
              " 'get_output_schema',\n",
              " 'get_prompts',\n",
              " 'get_relevant_documents',\n",
              " 'input_schema',\n",
              " 'invoke',\n",
              " 'is_lc_serializable',\n",
              " 'json',\n",
              " 'lc_attributes',\n",
              " 'lc_id',\n",
              " 'lc_secrets',\n",
              " 'map',\n",
              " 'metadata',\n",
              " 'model_computed_fields',\n",
              " 'model_config',\n",
              " 'model_construct',\n",
              " 'model_copy',\n",
              " 'model_dump',\n",
              " 'model_dump_json',\n",
              " 'model_extra',\n",
              " 'model_fields',\n",
              " 'model_fields_set',\n",
              " 'model_json_schema',\n",
              " 'model_parametrized_name',\n",
              " 'model_post_init',\n",
              " 'model_rebuild',\n",
              " 'model_validate',\n",
              " 'model_validate_json',\n",
              " 'model_validate_strings',\n",
              " 'name',\n",
              " 'output_schema',\n",
              " 'parse_file',\n",
              " 'parse_obj',\n",
              " 'parse_raw',\n",
              " 'pick',\n",
              " 'pipe',\n",
              " 'schema',\n",
              " 'schema_json',\n",
              " 'search_kwargs',\n",
              " 'search_type',\n",
              " 'stream',\n",
              " 'tags',\n",
              " 'to_json',\n",
              " 'to_json_not_implemented',\n",
              " 'transform',\n",
              " 'update_forward_refs',\n",
              " 'validate',\n",
              " 'validate_search_type',\n",
              " 'vectorstore',\n",
              " 'with_alisteners',\n",
              " 'with_config',\n",
              " 'with_fallbacks',\n",
              " 'with_listeners',\n",
              " 'with_retry',\n",
              " 'with_types']"
            ]
          },
          "execution_count": 8,
          "metadata": {},
          "output_type": "execute_result"
        }
      ],
      "source": [
        "type(naive_retriever)\n",
        "dir(naive_retriever)"
      ]
    },
    {
      "cell_type": "markdown",
      "metadata": {
        "id": "MbBhyQjz06dx"
      },
      "source": [
        "### A - Augmented\n",
        "\n",
        "We're going to go with a standard prompt for our simple RAG chain today! Nothing fancy here, we want this to mostly be about the Retrieval process."
      ]
    },
    {
      "cell_type": "code",
      "execution_count": 9,
      "metadata": {
        "id": "7uSz-Dbqcoki"
      },
      "outputs": [],
      "source": [
        "from langchain_core.prompts import ChatPromptTemplate\n",
        "\n",
        "RAG_TEMPLATE = \"\"\"\\\n",
        "You are a helpful and kind assistant. Use the context provided below to answer the question.\n",
        "\n",
        "If you do not know the answer, or are unsure, say you don't know.\n",
        "\n",
        "Query:\n",
        "{question}\n",
        "\n",
        "Context:\n",
        "{context}\n",
        "\"\"\"\n",
        "\n",
        "rag_prompt = ChatPromptTemplate.from_template(RAG_TEMPLATE)"
      ]
    },
    {
      "cell_type": "markdown",
      "metadata": {
        "id": "BlRzpb231GGJ"
      },
      "source": [
        "### G - Generation\n",
        "\n",
        "We're going to leverage `gpt-4.1-nano` as our LLM today, as - again - we want this to largely be about the Retrieval process."
      ]
    },
    {
      "cell_type": "code",
      "execution_count": 10,
      "metadata": {
        "id": "c-1t9H60dJLg"
      },
      "outputs": [],
      "source": [
        "from langchain_openai import ChatOpenAI\n",
        "\n",
        "chat_model = ChatOpenAI(model=\"gpt-4.1-nano\")"
      ]
    },
    {
      "cell_type": "markdown",
      "metadata": {
        "id": "mg3QRGzA1M2x"
      },
      "source": [
        "### LCEL RAG Chain\n",
        "\n",
        "We're going to use LCEL to construct our chain.\n",
        "\n",
        "> NOTE: This chain will be exactly the same across the various examples with the exception of our Retriever!"
      ]
    },
    {
      "cell_type": "code",
      "execution_count": 11,
      "metadata": {
        "id": "0bvstS7mdOW3"
      },
      "outputs": [],
      "source": [
        "from langchain_core.runnables import RunnablePassthrough\n",
        "from operator import itemgetter\n",
        "from langchain_core.output_parsers import StrOutputParser\n",
        "\n",
        "naive_retrieval_chain = (\n",
        "    # INVOKE CHAIN WITH: {\"question\" : \"<<SOME USER QUESTION>>\"}\n",
        "    # \"question\" : populated by getting the value of the \"question\" key\n",
        "    # \"context\"  : populated by getting the value of the \"question\" key and chaining it into the base_retriever\n",
        "    {\"context\": itemgetter(\"question\") | naive_retriever, \"question\": itemgetter(\"question\")}\n",
        "    # \"context\"  : is assigned to a RunnablePassthrough object (will not be called or considered in the next step)\n",
        "    #              by getting the value of the \"context\" key from the previous step\n",
        "    | RunnablePassthrough.assign(context=itemgetter(\"context\"))\n",
        "    # \"response\" : the \"context\" and \"question\" values are used to format our prompt object and then piped\n",
        "    #              into the LLM and stored in a key called \"response\"\n",
        "    # \"context\"  : populated by getting the value of the \"context\" key from the previous step\n",
        "    | {\"response\": rag_prompt | chat_model, \"context\": itemgetter(\"context\")}\n",
        ")"
      ]
    },
    {
      "cell_type": "code",
      "execution_count": 12,
      "metadata": {},
      "outputs": [
        {
          "data": {
            "text/plain": [
              "langchain_core.runnables.base.RunnableSequence"
            ]
          },
          "execution_count": 12,
          "metadata": {},
          "output_type": "execute_result"
        }
      ],
      "source": [
        "type(naive_retrieval_chain)"
      ]
    },
    {
      "cell_type": "markdown",
      "metadata": {
        "id": "izKujhNb1ZG8"
      },
      "source": [
        "Let's see how this simple chain does on a few different prompts.\n",
        "\n",
        "> NOTE: You might think that we've cherry picked prompts that showcase the individual skill of each of the retrieval strategies - you'd be correct!"
      ]
    },
    {
      "cell_type": "code",
      "execution_count": 13,
      "metadata": {
        "colab": {
          "base_uri": "https://localhost:8080/",
          "height": 36
        },
        "id": "LI-5ueEddku9",
        "outputId": "7f3cec18-5f4e-41bb-cf71-51ba0be5388e"
      },
      "outputs": [
        {
          "data": {
            "text/plain": [
              "\"Based on the provided complaints, the most common issues with loans appear to be:\\n\\n- Dealing with loan servicer misconduct, such as errors in loan balances, misapplied payments, wrongful denials of payment plans, and difficulties in applying payments correctly.\\n- Incorrect or inconsistent reporting of loan information, including account status and balances, leading to credit score impacts.\\n- Struggles with repayment plans, including issues with interest capitalization, improper transfers of loans without notification, and inability to pay down principal.\\n- Problems related to loan handling, such as inaccurate information, unauthorized transfers, and privacy violations.\\n- Long-term forbearance and mismanagement leading to increased debt and financial hardship.\\n\\nOverall, a prevalent theme is the mismanagement and mishandling by loan servicers, which affects borrowers' balances, credit reports, and ability to manage their loans effectively.\""
            ]
          },
          "execution_count": 13,
          "metadata": {},
          "output_type": "execute_result"
        }
      ],
      "source": [
        "naive_retrieval_chain.invoke({\"question\" : \"What is the most common issue with loans?\"})[\"response\"].content"
      ]
    },
    {
      "cell_type": "code",
      "execution_count": 14,
      "metadata": {
        "colab": {
          "base_uri": "https://localhost:8080/",
          "height": 36
        },
        "id": "43zdcdUydtXh",
        "outputId": "db874e67-f568-4ed1-b863-b7c17b387052"
      },
      "outputs": [],
      "source": [
        "sample_test = naive_retrieval_chain.invoke({\"question\" : \"Did any complaints not get handled in a timely manner?\"})"
      ]
    },
    {
      "cell_type": "code",
      "execution_count": 15,
      "metadata": {},
      "outputs": [
        {
          "data": {
            "text/plain": [
              "[Document(metadata={'source': './data/complaints.csv', 'row': 474, 'Date received': '04/27/25', 'Product': 'Student loan', 'Sub-product': 'Federal student loan servicing', 'Issue': 'Struggling to repay your loan', 'Sub-issue': 'Problem with forgiveness, cancellation, or discharge', 'Consumer complaint narrative': 'I sent a dispute settlement to all three credit bureaus over 30 days ago and still havent gotten a response. This is negligent and not in compliance with the law. Im asking for this to be looked into and handled.', 'Company public response': 'None', 'Company': 'Nelnet, Inc.', 'State': 'MI', 'ZIP code': '48111', 'Tags': 'None', 'Consumer consent provided?': 'Consent provided', 'Submitted via': 'Web', 'Date sent to company': '04/27/25', 'Company response to consumer': 'Closed with explanation', 'Timely response?': 'Yes', 'Consumer disputed?': 'N/A', 'Complaint ID': '13205525', '_id': 'ab98fee89f3f4527a711c50b3f43c83c', '_collection_name': 'LoanComplaints'}, page_content='I sent a dispute settlement to all three credit bureaus over 30 days ago and still havent gotten a response. This is negligent and not in compliance with the law. Im asking for this to be looked into and handled.'),\n",
              " Document(metadata={'source': './data/complaints.csv', 'row': 441, 'Date received': '03/28/25', 'Product': 'Student loan', 'Sub-product': 'Federal student loan servicing', 'Issue': 'Dealing with your lender or servicer', 'Sub-issue': 'Problem with customer service', 'Consumer complaint narrative': 'I submitted a graduated loan application XXXX. I called in XXXX to confirm status and was told my application showed no movement and was advised to call back in XXXX. I called in XXXX and spoke to an \" advanced representative \\'\\' and was told the application was being expedited and should have some form of communication via email in addition to a letter in the mail. I was told to confirm in XXXX if needed but I should be able to check the status online. I called again on XXXX and was told it would take 5-7 business days for the application process to be completed. I filed a complaint XXXX online and was hoping this would help expedite the process. The confirmation of the complaint said it would take 15 days for someone to reach out to me. I have not heard from anyone. \\nI called again on XXXX and was told it would be another 5-7 business days and as of today XXXX, no one has reached out to me. \\nMy graduated loan application is still unprocessed.', 'Company public response': 'Company believes it acted appropriately as authorized by contract or law', 'Company': 'MOHELA', 'State': 'CA', 'ZIP code': '93311', 'Tags': 'None', 'Consumer consent provided?': 'Consent provided', 'Submitted via': 'Web', 'Date sent to company': '03/28/25', 'Company response to consumer': 'Closed with explanation', 'Timely response?': 'No', 'Consumer disputed?': 'N/A', 'Complaint ID': '12709087', '_id': '4f0ea225ca6f4004a3cbe119ce5efa83', '_collection_name': 'LoanComplaints'}, page_content='I submitted a graduated loan application XXXX. I called in XXXX to confirm status and was told my application showed no movement and was advised to call back in XXXX. I called in XXXX and spoke to an \" advanced representative \\'\\' and was told the application was being expedited and should have some form of communication via email in addition to a letter in the mail. I was told to confirm in XXXX if needed but I should be able to check the status online. I called again on XXXX and was told it would take 5-7 business days for the application process to be completed. I filed a complaint XXXX online and was hoping this would help expedite the process. The confirmation of the complaint said it would take 15 days for someone to reach out to me. I have not heard from anyone. \\nI called again on XXXX and was told it would be another 5-7 business days and as of today XXXX, no one has reached out to me. \\nMy graduated loan application is still unprocessed.'),\n",
              " Document(metadata={'source': './data/complaints.csv', 'row': 423, 'Date received': '04/24/25', 'Product': 'Student loan', 'Sub-product': 'Federal student loan servicing', 'Issue': 'Dealing with your lender or servicer', 'Sub-issue': 'Received bad information about your loan', 'Consumer complaint narrative': 'Loan servicer was changed without notice to Aidvantage from XXXX. They claimed to have sent a letter but I did not receive that notice. \\n\\nAs soon as I found out in XXXX, I logged in to set up payments. Reviewing the account, I discovered they had the wrong payment amount ( higher than previous noting i was not part of an income based program ). Digging into the issue, they had the wrong total and possibly even incorrect interest rates. \\n\\nThat same day, I made a call and asked for corrections. \\n\\nThey failed to action. \\n\\nI tried again, and was met with issues even getting them to answer their phone. \\n\\nIn XXXX, they said they had a work order in to correct. Called later to see what happened and they claimed not to have a work order on file. \\n\\nI went through several rounds of this going back and making complaints to XXXX and to the XXXX  on a couple occasions. \\n\\nThe last time I spoke to them, they indicated they would fix the account and remove the interest that accrued while dealing with the issue. \\n\\nThey never sent me notice except to check the account. But they did XXXX things. \\nXXXX they never actioned to correct the initial error or explain the issue. \\nXXXX they made several changes to my account without notice or permission XXXX the chose to only communicate through their website requiring be to log in and accept horrendously unacceptable & likely illegal terms of service including personal liability prior to being able to ensure the account is correct. \\n\\nYesterday I called again to get the correction. They said \" wait time is over XXXX minutes \\'\\' and they never answered. After several minutes there was a beep and the hold music stopped. I waited in silence for several more minutes, totalling over XXXX minutes before I had to hang up and go back to work. \\n\\nThis is not the first time they failed to answer a call. \\n\\nThe loan would be fully paid if they had corrected it in XXXX. \\n\\nI have been working on this problem now for XXXX  years. \\n\\nI don\\'t know what to do, but this organization was recommended through a XXXX search. \\n\\nHow do I get my issue corrected?', 'Company public response': 'None', 'Company': 'Maximus Federal Services, Inc.', 'State': 'MI', 'ZIP code': '481XX', 'Tags': 'None', 'Consumer consent provided?': 'Consent provided', 'Submitted via': 'Web', 'Date sent to company': '04/24/25', 'Company response to consumer': 'Closed with explanation', 'Timely response?': 'Yes', 'Consumer disputed?': 'N/A', 'Complaint ID': '13160766', '_id': 'bf0e3a7086c6444bbb7016a0de438f52', '_collection_name': 'LoanComplaints'}, page_content='Loan servicer was changed without notice to Aidvantage from XXXX. They claimed to have sent a letter but I did not receive that notice. \\n\\nAs soon as I found out in XXXX, I logged in to set up payments. Reviewing the account, I discovered they had the wrong payment amount ( higher than previous noting i was not part of an income based program ). Digging into the issue, they had the wrong total and possibly even incorrect interest rates. \\n\\nThat same day, I made a call and asked for corrections. \\n\\nThey failed to action. \\n\\nI tried again, and was met with issues even getting them to answer their phone. \\n\\nIn XXXX, they said they had a work order in to correct. Called later to see what happened and they claimed not to have a work order on file. \\n\\nI went through several rounds of this going back and making complaints to XXXX and to the XXXX  on a couple occasions. \\n\\nThe last time I spoke to them, they indicated they would fix the account and remove the interest that accrued while dealing with the issue. \\n\\nThey never sent me notice except to check the account. But they did XXXX things. \\nXXXX they never actioned to correct the initial error or explain the issue. \\nXXXX they made several changes to my account without notice or permission XXXX the chose to only communicate through their website requiring be to log in and accept horrendously unacceptable & likely illegal terms of service including personal liability prior to being able to ensure the account is correct. \\n\\nYesterday I called again to get the correction. They said \" wait time is over XXXX minutes \\'\\' and they never answered. After several minutes there was a beep and the hold music stopped. I waited in silence for several more minutes, totalling over XXXX minutes before I had to hang up and go back to work. \\n\\nThis is not the first time they failed to answer a call. \\n\\nThe loan would be fully paid if they had corrected it in XXXX. \\n\\nI have been working on this problem now for XXXX  years. \\n\\nI don\\'t know what to do, but this organization was recommended through a XXXX search. \\n\\nHow do I get my issue corrected?'),\n",
              " Document(metadata={'source': './data/complaints.csv', 'row': 67, 'Date received': '04/14/25', 'Product': 'Student loan', 'Sub-product': 'Federal student loan servicing', 'Issue': 'Dealing with your lender or servicer', 'Sub-issue': 'Problem with customer service', 'Consumer complaint narrative': 'This is in regards to a previous complaint as the main complaint was not addressed. I have been calling multiple times and I have been told that just wait a few business days for my bank to populate. It populated and then disappeared. A letter I received stated \" Please note, you will need to manually pay your monthly installments until you receive correspondence of your Auto Pay request being processed \\'\\' ; this is not possible as my bank account is missing in the online portal. The original complaint did not address that main issue. It is currently over 2-3 weeks and I am still having this issue.', 'Company public response': 'None', 'Company': 'EdFinancial Services', 'State': 'NJ', 'ZIP code': '075XX', 'Tags': 'None', 'Consumer consent provided?': 'Consent provided', 'Submitted via': 'Web', 'Date sent to company': '04/14/25', 'Company response to consumer': 'Closed with explanation', 'Timely response?': 'Yes', 'Consumer disputed?': 'N/A', 'Complaint ID': '12973003', '_id': '90f9d6cf9ba54785b1434aeeab68981b', '_collection_name': 'LoanComplaints'}, page_content='This is in regards to a previous complaint as the main complaint was not addressed. I have been calling multiple times and I have been told that just wait a few business days for my bank to populate. It populated and then disappeared. A letter I received stated \" Please note, you will need to manually pay your monthly installments until you receive correspondence of your Auto Pay request being processed \\'\\' ; this is not possible as my bank account is missing in the online portal. The original complaint did not address that main issue. It is currently over 2-3 weeks and I am still having this issue.'),\n",
              " Document(metadata={'source': './data/complaints.csv', 'row': 66, 'Date received': '04/18/25', 'Product': 'Student loan', 'Sub-product': 'Federal student loan servicing', 'Issue': 'Incorrect information on your report', 'Sub-issue': 'Account status incorrect', 'Consumer complaint narrative': 'XXXX XXXX XXXX XXXX XXXX XXXX. \\nXXXX, PA XXXX XXXX XXXX XXXX  XXXX. XXXX XXXX XXXX, TX XXXX Phone number : ( XXXX ) XXXX Website : XXXX  I am submitting this complaint regarding inaccurate information reported on my credit report by XXXX. \\n\\n* * Details of the Complaint : * * XXXX, 2025 I obtained a copy of my credit report from XXXX  and noticed inaccuracies that are negatively impacting my credit score. Specifically, I found that payments that are incorrectly reported as late, etc. ] My account was put in deferment and forbearance. It also just says 90 past due and no proof of the 30 and 60 day mark, with a balance of {$64000.00} I have made multiple attempts to contact XXXX  to rectify this issue. I sent a dispute letter on XX/XX/year> and provided necessary documentation to support my claim. Despite this, XXXX  failed to correct the inaccuracies within the required time frame. \\n\\nI believe that XXXX  has violated the Fair Credit Reporting Act ( FCRA ) by not investigating my dispute adequately and reporting false information. \\n\\nI am requesting the following actions to be taken : 1. Immediate correction of the inaccurate information on my credit report. \\n2. A written confirmation of the corrections made. \\n3. Compensation for any damages caused by the inaccurate reporting, if applicable. \\n\\n\\n\\nThank you for your attention to this matter. I look forward to your prompt response. \\n\\nSincerely, XXXX XXXX XXXX', 'Company public response': 'None', 'Company': 'Nelnet, Inc.', 'State': 'PA', 'ZIP code': '190XX', 'Tags': 'None', 'Consumer consent provided?': 'Consent provided', 'Submitted via': 'Web', 'Date sent to company': '04/18/25', 'Company response to consumer': 'Closed with explanation', 'Timely response?': 'Yes', 'Consumer disputed?': 'N/A', 'Complaint ID': '13062402', '_id': 'c4000c2923964945ade4e322399d5a72', '_collection_name': 'LoanComplaints'}, page_content='XXXX XXXX XXXX XXXX XXXX XXXX. \\nXXXX, PA XXXX XXXX XXXX XXXX  XXXX. XXXX XXXX XXXX, TX XXXX Phone number : ( XXXX ) XXXX Website : XXXX  I am submitting this complaint regarding inaccurate information reported on my credit report by XXXX. \\n\\n* * Details of the Complaint : * * XXXX, 2025 I obtained a copy of my credit report from XXXX  and noticed inaccuracies that are negatively impacting my credit score. Specifically, I found that payments that are incorrectly reported as late, etc. ] My account was put in deferment and forbearance. It also just says 90 past due and no proof of the 30 and 60 day mark, with a balance of {$64000.00} I have made multiple attempts to contact XXXX  to rectify this issue. I sent a dispute letter on XX/XX/year> and provided necessary documentation to support my claim. Despite this, XXXX  failed to correct the inaccuracies within the required time frame. \\n\\nI believe that XXXX  has violated the Fair Credit Reporting Act ( FCRA ) by not investigating my dispute adequately and reporting false information. \\n\\nI am requesting the following actions to be taken : 1. Immediate correction of the inaccurate information on my credit report. \\n2. A written confirmation of the corrections made. \\n3. Compensation for any damages caused by the inaccurate reporting, if applicable. \\n\\n\\n\\nThank you for your attention to this matter. I look forward to your prompt response. \\n\\nSincerely, XXXX XXXX XXXX'),\n",
              " Document(metadata={'source': './data/complaints.csv', 'row': 503, 'Date received': '04/14/25', 'Product': 'Student loan', 'Sub-product': 'Federal student loan servicing', 'Issue': 'Struggling to repay your loan', 'Sub-issue': 'Problem with your payment plan', 'Consumer complaint narrative': \"In XXXX, I submitted a complaint to XXXX. \\n\\nI was steered into long term forbearance and deferments. Ultimately I defaulted for a few years because I wasn't offered XXXX. I rehabilitated my loans and then was pushed into forbearance I've been paying on these loans in some capacity since XXXX. I've been unable to keep track of who has my loan and what's been done to my loans over the years because I've been shuffled from one company to the other ( XXXX, XXXX, XXXX, Aidvantage ). I have gotten little information regarding the one-time acount review. It has taken months to get contact back regarding my initial requests I have requested numerous updatse. \\n\\nXXXX XXXX XXXX added a message XX/XX/XXXX XXXX AM I am still awaiting a response and resolution to this request. It has been over 1 year since I submitted this request and have not received a response. Please review and respond with adjustments to my account specifically for the illegal and other predatory lending practices for which XXXX was found liable. I am expecting that a one-time account review is done and specific analysis is provide to me to support the adjustments that are made. I have yet to receive a response from XXXX of XXXX. This has been open since XXXX and still has not been resolved. \\nXXXX XXXX XXXX added a message XX/XX/XXXX XXXX PM I am still awaiting a response and resolution to this request. It has been over 1 year since I submitted this request and have not received a response. Please review and respond with adjustments to my account specifically for the illegal and other predatory lending practices for which XXXX was found liable. I am expecting that a one-time account review is done and specific analysis is provide to me to support the adjustments that are made. \\n\\n\\nIt has been nearly 18 months with no resolution. Now I have discovered that my information was released in violation of FERPA. I am requesting a full discharge of my loans due to these violations and failure to provide a MPN, failure to respond to inquiries in a timely manner.\", 'Company public response': 'None', 'Company': 'Maximus Federal Services, Inc.', 'State': 'TX', 'ZIP code': '75219', 'Tags': 'None', 'Consumer consent provided?': 'Consent provided', 'Submitted via': 'Web', 'Date sent to company': '04/14/25', 'Company response to consumer': 'Closed with explanation', 'Timely response?': 'Yes', 'Consumer disputed?': 'N/A', 'Complaint ID': '12975634', '_id': '78cf9ef874ac40ab912ed0a93c2b1d1f', '_collection_name': 'LoanComplaints'}, page_content=\"In XXXX, I submitted a complaint to XXXX. \\n\\nI was steered into long term forbearance and deferments. Ultimately I defaulted for a few years because I wasn't offered XXXX. I rehabilitated my loans and then was pushed into forbearance I've been paying on these loans in some capacity since XXXX. I've been unable to keep track of who has my loan and what's been done to my loans over the years because I've been shuffled from one company to the other ( XXXX, XXXX, XXXX, Aidvantage ). I have gotten little information regarding the one-time acount review. It has taken months to get contact back regarding my initial requests I have requested numerous updatse. \\n\\nXXXX XXXX XXXX added a message XX/XX/XXXX XXXX AM I am still awaiting a response and resolution to this request. It has been over 1 year since I submitted this request and have not received a response. Please review and respond with adjustments to my account specifically for the illegal and other predatory lending practices for which XXXX was found liable. I am expecting that a one-time account review is done and specific analysis is provide to me to support the adjustments that are made. I have yet to receive a response from XXXX of XXXX. This has been open since XXXX and still has not been resolved. \\nXXXX XXXX XXXX added a message XX/XX/XXXX XXXX PM I am still awaiting a response and resolution to this request. It has been over 1 year since I submitted this request and have not received a response. Please review and respond with adjustments to my account specifically for the illegal and other predatory lending practices for which XXXX was found liable. I am expecting that a one-time account review is done and specific analysis is provide to me to support the adjustments that are made. \\n\\n\\nIt has been nearly 18 months with no resolution. Now I have discovered that my information was released in violation of FERPA. I am requesting a full discharge of my loans due to these violations and failure to provide a MPN, failure to respond to inquiries in a timely manner.\"),\n",
              " Document(metadata={'source': './data/complaints.csv', 'row': 816, 'Date received': '04/05/25', 'Product': 'Student loan', 'Sub-product': 'Federal student loan servicing', 'Issue': 'Dealing with your lender or servicer', 'Sub-issue': 'Received bad information about your loan', 'Consumer complaint narrative': 'To the Consumer Financial Protection Bureau, RE : Urgent Follow-Up on Complaint # XXXX Non-Response and Continued Harm I am writing to formally follow up on my active complaint submitted to the CFPB on XX/XX/year>, under reference number XXXX, against XXXX, my federal student loan servicer. \\n\\nAs of today, **Aidvantage has failed to respond** to my complaint, despite the CFPBs 15-day initial response policy and XXXX maximum timeframe for resolution. This failure is unacceptable and constitutes a disregard for federal accountability standards. \\n\\nXXXX, the company has continued to penalize me** in the time since my complaint was filed : - My account remains falsely marked as past due despite legal forbearance under Department of Education XXXX XXXX My XXXX XXXX has dropped by over XXXX points** - The false data continues to be reported by XXXX, XXXX, and XXXX XXXX I have suffered **emotional distress**, **financial instability**, and **reputational harm** Aidvantages actions and their refusal to acknowledge or resolve them are in direct violation of : - **FCRA** : 15 U.S.C. 1681s-2 ( a ), 1681e ( b ), 1681no - **Consumer Financial Protection Act** : 12 U.S.C. 5531 - **Higher XXXX XXXX : 20 U.S.C. 1082 ( a ) ( 6 ) - **Truth in XXXX XXXX, and possibly even **federal criminal statutes** under 18 U.S.C. 1343 for using electronic communications to continue disseminating false and coercive information I urge the CFPB to immediately escalate this complaint and take the following actions : XXXX. Open an enforcement investigation into XXXX compliance failures XXXX. XXXX them to immediately correct all false reporting and restore my credit status XXXX. Coordinate with the XXXX Ombudsman and Department of Education on XXXX XXXX XXXX. Notify me in writing of the outcome of this follow-up request I am prepared to file further complaints with my XXXX Attorney General, and to seek legal counsel should these violations not be corrected. \\n\\nThank you for your attention to this urgent matter. I look forward to your response and support in holding this servicer accountable. \\n\\nSincerely, XXXX XXXX', 'Company public response': 'None', 'Company': 'Maximus Federal Services, Inc.', 'State': 'KY', 'ZIP code': '40214', 'Tags': 'None', 'Consumer consent provided?': 'Consent provided', 'Submitted via': 'Web', 'Date sent to company': '04/05/25', 'Company response to consumer': 'Closed with explanation', 'Timely response?': 'Yes', 'Consumer disputed?': 'N/A', 'Complaint ID': '12832400', '_id': '9fbe7d67296d4461976b15c6a526b3f4', '_collection_name': 'LoanComplaints'}, page_content='To the Consumer Financial Protection Bureau, RE : Urgent Follow-Up on Complaint # XXXX Non-Response and Continued Harm I am writing to formally follow up on my active complaint submitted to the CFPB on XX/XX/year>, under reference number XXXX, against XXXX, my federal student loan servicer. \\n\\nAs of today, **Aidvantage has failed to respond** to my complaint, despite the CFPBs 15-day initial response policy and XXXX maximum timeframe for resolution. This failure is unacceptable and constitutes a disregard for federal accountability standards. \\n\\nXXXX, the company has continued to penalize me** in the time since my complaint was filed : - My account remains falsely marked as past due despite legal forbearance under Department of Education XXXX XXXX My XXXX XXXX has dropped by over XXXX points** - The false data continues to be reported by XXXX, XXXX, and XXXX XXXX I have suffered **emotional distress**, **financial instability**, and **reputational harm** Aidvantages actions and their refusal to acknowledge or resolve them are in direct violation of : - **FCRA** : 15 U.S.C. 1681s-2 ( a ), 1681e ( b ), 1681no - **Consumer Financial Protection Act** : 12 U.S.C. 5531 - **Higher XXXX XXXX : 20 U.S.C. 1082 ( a ) ( 6 ) - **Truth in XXXX XXXX, and possibly even **federal criminal statutes** under 18 U.S.C. 1343 for using electronic communications to continue disseminating false and coercive information I urge the CFPB to immediately escalate this complaint and take the following actions : XXXX. Open an enforcement investigation into XXXX compliance failures XXXX. XXXX them to immediately correct all false reporting and restore my credit status XXXX. Coordinate with the XXXX Ombudsman and Department of Education on XXXX XXXX XXXX. Notify me in writing of the outcome of this follow-up request I am prepared to file further complaints with my XXXX Attorney General, and to seek legal counsel should these violations not be corrected. \\n\\nThank you for your attention to this urgent matter. I look forward to your response and support in holding this servicer accountable. \\n\\nSincerely, XXXX XXXX'),\n",
              " Document(metadata={'source': './data/complaints.csv', 'row': 400, 'Date received': '03/31/25', 'Product': 'Student loan', 'Sub-product': 'Federal student loan servicing', 'Issue': 'Incorrect information on your report', 'Sub-issue': 'Account status incorrect', 'Consumer complaint narrative': 'Payments are showing late when they shouldnt be. I contacted the company and they said they would have it removed within 48 hours it is now ten days later now they are requesting documentation in order for it to be removed from the credit bureaus when that is not what was promised.', 'Company public response': 'None', 'Company': 'Maximus Federal Services, Inc.', 'State': 'MI', 'ZIP code': '49009', 'Tags': 'Servicemember', 'Consumer consent provided?': 'Consent provided', 'Submitted via': 'Web', 'Date sent to company': '03/31/25', 'Company response to consumer': 'Closed with explanation', 'Timely response?': 'Yes', 'Consumer disputed?': 'N/A', 'Complaint ID': '12744910', '_id': '1e7afced09524c12ba53e4dea1096947', '_collection_name': 'LoanComplaints'}, page_content='Payments are showing late when they shouldnt be. I contacted the company and they said they would have it removed within 48 hours it is now ten days later now they are requesting documentation in order for it to be removed from the credit bureaus when that is not what was promised.'),\n",
              " Document(metadata={'source': './data/complaints.csv', 'row': 716, 'Date received': '05/02/25', 'Product': 'Student loan', 'Sub-product': 'Federal student loan servicing', 'Issue': 'Dealing with your lender or servicer', 'Sub-issue': 'Trouble with how payments are being handled', 'Consumer complaint narrative': 'I am submitting a follow-up complaint regarding {$3100.00} in payments that were not applied to my student loan account. Below are the key details : Timeline & Payments : Between XX/XX/XXXX XXXX XXXX XXXX XXXX XXXX XXXXXX/XX/XXXX, I made 9 monthly payments of XXXX ( totaling XXXX ). \\n\\nThese payments do not appear on my account statement, and my loan balance remains unchanged. \\n\\nMy servicer has not provided an explanation for the unapplied funds. \\n\\nI have no record of misdirected paymentsall transactions cleared my bank. \\n\\nPrevious Complaint Reference : # XXXX ( if additional context is needed ). \\n\\nI expect a timely resolution. Thank you for your assistance. \\n\\nSincerely, XXXX XXXX', 'Company public response': 'None', 'Company': 'EdFinancial Services', 'State': 'NY', 'ZIP code': '11206', 'Tags': 'None', 'Consumer consent provided?': 'Consent provided', 'Submitted via': 'Web', 'Date sent to company': '05/02/25', 'Company response to consumer': 'Closed with explanation', 'Timely response?': 'Yes', 'Consumer disputed?': 'N/A', 'Complaint ID': '13298273', '_id': 'a1b483bd9a8946e3a4485b4e7c97bb15', '_collection_name': 'LoanComplaints'}, page_content='I am submitting a follow-up complaint regarding {$3100.00} in payments that were not applied to my student loan account. Below are the key details : Timeline & Payments : Between XX/XX/XXXX XXXX XXXX XXXX XXXX XXXX XXXXXX/XX/XXXX, I made 9 monthly payments of XXXX ( totaling XXXX ). \\n\\nThese payments do not appear on my account statement, and my loan balance remains unchanged. \\n\\nMy servicer has not provided an explanation for the unapplied funds. \\n\\nI have no record of misdirected paymentsall transactions cleared my bank. \\n\\nPrevious Complaint Reference : # XXXX ( if additional context is needed ). \\n\\nI expect a timely resolution. Thank you for your assistance. \\n\\nSincerely, XXXX XXXX'),\n",
              " Document(metadata={'source': './data/complaints.csv', 'row': 810, 'Date received': '04/18/25', 'Product': 'Student loan', 'Sub-product': 'Federal student loan servicing', 'Issue': 'Incorrect information on your report', 'Sub-issue': 'Account status incorrect', 'Consumer complaint narrative': 'Subject : Inaccurate Reporting of Student Loan Status and Failure to Acknowledge XXXX  Progress Complaint : I am filing a complaint regarding the mismanagement of my federal student loans by my servicer, Edfinancial Services. \\n\\nDespite having made XXXX qualifying payments under an Income-Driven Repayment ( XXXX ) plan ( as acknowledged on my loan dashboard ), I am being reported as having XXXX qualifying payments toward XXXX XXXX XXXX XXXX XXXX XXXX XXXX Additionally, negative marks, including possible delinquency or default, were reported to credit bureaus without adequate notice or opportunity to cure. \\n\\nNo Delinquency Notice Received I was never notified of any late payment, missed payment, or default. Under the Fair Credit Reporting Act ( FCRA ) and Higher Education Act, I should have been properly informed before any negative credit reporting. This lack of notice is a clear violation of my consumer rights. \\n\\nActively in XXXX & XXXX Process I submitted an XXXX XXXX XXXX XXXX ) application on XX/XX/year>, specifically requesting the lowest monthly payment, which qualifies me for the XXXX plan. I also submitted my XXXX Employment Certification form, signed by my employer. During this time, my loans were under review, and therefore should not have been reported as delinquent. \\n\\nI submitted a dispute with all three major credit bureaus ( XXXX XXXX XXXX  ) and recently submitted both an XXXX request and a XXXX Employment Certification Form on XX/XX/year>.', 'Company public response': 'None', 'Company': 'EdFinancial Services', 'State': 'IN', 'ZIP code': '47130', 'Tags': 'None', 'Consumer consent provided?': 'Consent provided', 'Submitted via': 'Web', 'Date sent to company': '04/18/25', 'Company response to consumer': 'Closed with explanation', 'Timely response?': 'Yes', 'Consumer disputed?': 'N/A', 'Complaint ID': '13056764', '_id': '8840e058eade4ca6b8cbdf3c00e3318d', '_collection_name': 'LoanComplaints'}, page_content='Subject : Inaccurate Reporting of Student Loan Status and Failure to Acknowledge XXXX  Progress Complaint : I am filing a complaint regarding the mismanagement of my federal student loans by my servicer, Edfinancial Services. \\n\\nDespite having made XXXX qualifying payments under an Income-Driven Repayment ( XXXX ) plan ( as acknowledged on my loan dashboard ), I am being reported as having XXXX qualifying payments toward XXXX XXXX XXXX XXXX XXXX XXXX XXXX Additionally, negative marks, including possible delinquency or default, were reported to credit bureaus without adequate notice or opportunity to cure. \\n\\nNo Delinquency Notice Received I was never notified of any late payment, missed payment, or default. Under the Fair Credit Reporting Act ( FCRA ) and Higher Education Act, I should have been properly informed before any negative credit reporting. This lack of notice is a clear violation of my consumer rights. \\n\\nActively in XXXX & XXXX Process I submitted an XXXX XXXX XXXX XXXX ) application on XX/XX/year>, specifically requesting the lowest monthly payment, which qualifies me for the XXXX plan. I also submitted my XXXX Employment Certification form, signed by my employer. During this time, my loans were under review, and therefore should not have been reported as delinquent. \\n\\nI submitted a dispute with all three major credit bureaus ( XXXX XXXX XXXX  ) and recently submitted both an XXXX request and a XXXX Employment Certification Form on XX/XX/year>.')]"
            ]
          },
          "execution_count": 15,
          "metadata": {},
          "output_type": "execute_result"
        }
      ],
      "source": [
        "sample_test['context']"
      ]
    },
    {
      "cell_type": "code",
      "execution_count": 16,
      "metadata": {},
      "outputs": [
        {
          "data": {
            "text/plain": [
              "AIMessage(content='Yes, based on the information provided, some complaints did not get handled in a timely manner. Specifically, at least one complaint (Complaint ID: 12709087) was marked as not handled in a timely manner, with the response marked as \"No.\" Additionally, multiple complaints mention delays or lack of response over extended periods, such as complaints that have been ongoing for over a year without resolution.', additional_kwargs={'refusal': None}, response_metadata={'token_usage': {'completion_tokens': 80, 'prompt_tokens': 7357, 'total_tokens': 7437, 'completion_tokens_details': {'accepted_prediction_tokens': 0, 'audio_tokens': 0, 'reasoning_tokens': 0, 'rejected_prediction_tokens': 0}, 'prompt_tokens_details': {'audio_tokens': 0, 'cached_tokens': 0}}, 'model_name': 'gpt-4.1-nano-2025-04-14', 'system_fingerprint': 'fp_38343a2f8f', 'id': 'chatcmpl-ByLC6m8rgqxAW9gQphYMzosEVmLko', 'service_tier': 'default', 'finish_reason': 'stop', 'logprobs': None}, id='run--6227492e-4809-45ee-afcd-f8c84e36b24f-0', usage_metadata={'input_tokens': 7357, 'output_tokens': 80, 'total_tokens': 7437, 'input_token_details': {'audio': 0, 'cache_read': 0}, 'output_token_details': {'audio': 0, 'reasoning': 0}})"
            ]
          },
          "execution_count": 16,
          "metadata": {},
          "output_type": "execute_result"
        }
      ],
      "source": [
        "sample_test['response']"
      ]
    },
    {
      "cell_type": "code",
      "execution_count": 17,
      "metadata": {},
      "outputs": [
        {
          "data": {
            "text/plain": [
              "['__abstractmethods__',\n",
              " '__add__',\n",
              " '__annotations__',\n",
              " '__class__',\n",
              " '__class_getitem__',\n",
              " '__class_vars__',\n",
              " '__copy__',\n",
              " '__deepcopy__',\n",
              " '__delattr__',\n",
              " '__dict__',\n",
              " '__dir__',\n",
              " '__doc__',\n",
              " '__eq__',\n",
              " '__fields__',\n",
              " '__fields_set__',\n",
              " '__firstlineno__',\n",
              " '__format__',\n",
              " '__ge__',\n",
              " '__get_pydantic_core_schema__',\n",
              " '__get_pydantic_json_schema__',\n",
              " '__getattr__',\n",
              " '__getattribute__',\n",
              " '__getstate__',\n",
              " '__gt__',\n",
              " '__hash__',\n",
              " '__init__',\n",
              " '__init_subclass__',\n",
              " '__iter__',\n",
              " '__le__',\n",
              " '__lt__',\n",
              " '__module__',\n",
              " '__ne__',\n",
              " '__new__',\n",
              " '__pretty__',\n",
              " '__private_attributes__',\n",
              " '__pydantic_complete__',\n",
              " '__pydantic_computed_fields__',\n",
              " '__pydantic_core_schema__',\n",
              " '__pydantic_custom_init__',\n",
              " '__pydantic_decorators__',\n",
              " '__pydantic_extra__',\n",
              " '__pydantic_fields__',\n",
              " '__pydantic_fields_set__',\n",
              " '__pydantic_generic_metadata__',\n",
              " '__pydantic_init_subclass__',\n",
              " '__pydantic_parent_namespace__',\n",
              " '__pydantic_post_init__',\n",
              " '__pydantic_private__',\n",
              " '__pydantic_root_model__',\n",
              " '__pydantic_serializer__',\n",
              " '__pydantic_setattr_handlers__',\n",
              " '__pydantic_validator__',\n",
              " '__reduce__',\n",
              " '__reduce_ex__',\n",
              " '__replace__',\n",
              " '__repr__',\n",
              " '__repr_args__',\n",
              " '__repr_name__',\n",
              " '__repr_recursion__',\n",
              " '__repr_str__',\n",
              " '__rich_repr__',\n",
              " '__setattr__',\n",
              " '__setstate__',\n",
              " '__signature__',\n",
              " '__sizeof__',\n",
              " '__slots__',\n",
              " '__static_attributes__',\n",
              " '__str__',\n",
              " '__subclasshook__',\n",
              " '__weakref__',\n",
              " '_abc_impl',\n",
              " '_backwards_compat_tool_calls',\n",
              " '_calculate_keys',\n",
              " '_copy_and_set_values',\n",
              " '_get_value',\n",
              " '_iter',\n",
              " '_setattr_handler',\n",
              " 'additional_kwargs',\n",
              " 'construct',\n",
              " 'content',\n",
              " 'copy',\n",
              " 'dict',\n",
              " 'example',\n",
              " 'from_orm',\n",
              " 'get_lc_namespace',\n",
              " 'id',\n",
              " 'invalid_tool_calls',\n",
              " 'is_lc_serializable',\n",
              " 'json',\n",
              " 'lc_attributes',\n",
              " 'lc_id',\n",
              " 'lc_secrets',\n",
              " 'model_computed_fields',\n",
              " 'model_config',\n",
              " 'model_construct',\n",
              " 'model_copy',\n",
              " 'model_dump',\n",
              " 'model_dump_json',\n",
              " 'model_extra',\n",
              " 'model_fields',\n",
              " 'model_fields_set',\n",
              " 'model_json_schema',\n",
              " 'model_parametrized_name',\n",
              " 'model_post_init',\n",
              " 'model_rebuild',\n",
              " 'model_validate',\n",
              " 'model_validate_json',\n",
              " 'model_validate_strings',\n",
              " 'name',\n",
              " 'parse_file',\n",
              " 'parse_obj',\n",
              " 'parse_raw',\n",
              " 'pretty_print',\n",
              " 'pretty_repr',\n",
              " 'response_metadata',\n",
              " 'schema',\n",
              " 'schema_json',\n",
              " 'text',\n",
              " 'to_json',\n",
              " 'to_json_not_implemented',\n",
              " 'tool_calls',\n",
              " 'type',\n",
              " 'update_forward_refs',\n",
              " 'usage_metadata',\n",
              " 'validate']"
            ]
          },
          "execution_count": 17,
          "metadata": {},
          "output_type": "execute_result"
        }
      ],
      "source": [
        "dir(sample_test['response'])"
      ]
    },
    {
      "cell_type": "code",
      "execution_count": 18,
      "metadata": {},
      "outputs": [
        {
          "data": {
            "text/plain": [
              "'Yes, based on the information provided, some complaints did not get handled in a timely manner. Specifically, at least one complaint (Complaint ID: 12709087) was marked as not handled in a timely manner, with the response marked as \"No.\" Additionally, multiple complaints mention delays or lack of response over extended periods, such as complaints that have been ongoing for over a year without resolution.'"
            ]
          },
          "execution_count": 18,
          "metadata": {},
          "output_type": "execute_result"
        }
      ],
      "source": [
        "sample_test['response'].content"
      ]
    },
    {
      "cell_type": "code",
      "execution_count": 19,
      "metadata": {
        "colab": {
          "base_uri": "https://localhost:8080/",
          "height": 70
        },
        "id": "lpG6rlvvvKFq",
        "outputId": "a1b330b0-628e-41be-d829-9c1d55e781f5"
      },
      "outputs": [
        {
          "data": {
            "text/plain": [
              "'People failed to pay back their loans primarily because of financial hardships, lack of clear communication from loan servicers, unmanageable interest accumulation, misinformation or insufficient information about repayment terms, and adverse impacts on credit reports. Many borrowers found themselves unable to increase payments due to their living expenses, while others experienced unexpected loan transfers, mismanagement, or delinquency reporting without proper notification. Additionally, some borrowers faced difficulties with payment plans, foregone opportunities for debt relief, and confusion over the status of their loans, all contributing to their inability to repay in a timely manner.'"
            ]
          },
          "execution_count": 19,
          "metadata": {},
          "output_type": "execute_result"
        }
      ],
      "source": [
        "naive_retrieval_chain.invoke({\"question\" : \"Why did people fail to pay back their loans?\"})[\"response\"].content"
      ]
    },
    {
      "cell_type": "markdown",
      "metadata": {
        "id": "jsbfQmbr1leg"
      },
      "source": [
        "Overall, this is not bad! Let's see if we can make it better!"
      ]
    },
    {
      "cell_type": "markdown",
      "metadata": {
        "id": "Ft1vt8HPR16w"
      },
      "source": [
        "## Task 5: Best-Matching 25 (BM25) Retriever\n",
        "\n",
        "Taking a step back in time - [BM25](https://www.nowpublishers.com/article/Details/INR-019) is based on [Bag-Of-Words](https://en.wikipedia.org/wiki/Bag-of-words_model) which is a sparse representation of text.\n",
        "\n",
        "In essence, it's a way to compare how similar two pieces of text are based on the words they both contain.\n",
        "\n",
        "This retriever is very straightforward to set-up! Let's see it happen down below!\n"
      ]
    },
    {
      "cell_type": "code",
      "execution_count": 20,
      "metadata": {
        "id": "qdF4wuj5R-cG"
      },
      "outputs": [],
      "source": [
        "from langchain_community.retrievers import BM25Retriever\n",
        "\n",
        "bm25_retriever = BM25Retriever.from_documents(loan_complaint_data, )"
      ]
    },
    {
      "cell_type": "markdown",
      "metadata": {
        "id": "KIjJlBQ8drKH"
      },
      "source": [
        "We'll construct the same chain - only changing the retriever."
      ]
    },
    {
      "cell_type": "code",
      "execution_count": 21,
      "metadata": {
        "id": "WR15EQG7SLuw"
      },
      "outputs": [],
      "source": [
        "bm25_retrieval_chain = (\n",
        "    {\"context\": itemgetter(\"question\") | bm25_retriever, \"question\": itemgetter(\"question\")}\n",
        "    | RunnablePassthrough.assign(context=itemgetter(\"context\"))\n",
        "    | {\"response\": rag_prompt | chat_model, \"context\": itemgetter(\"context\")}\n",
        ")"
      ]
    },
    {
      "cell_type": "markdown",
      "metadata": {
        "id": "0Gi-yXCDdvJk"
      },
      "source": [
        "Let's look at the responses!"
      ]
    },
    {
      "cell_type": "code",
      "execution_count": 22,
      "metadata": {
        "colab": {
          "base_uri": "https://localhost:8080/",
          "height": 53
        },
        "id": "oY9qzmm3SOrF",
        "outputId": "4d4f450f-5978-460f-f242-b32407868353"
      },
      "outputs": [
        {
          "data": {
            "text/plain": [
              "'Based on the provided complaints, the most common issue with loans appears to be dealing with the lender or servicer, particularly related to inaccurate or misleading information, improper application of payments, or issues with loan terms. Specific sub-issues include disputes over fees charged, trouble with how payments are handled (such as being unable to pay down principal), and receiving bad or incomplete information about loan balances or history.'"
            ]
          },
          "execution_count": 22,
          "metadata": {},
          "output_type": "execute_result"
        }
      ],
      "source": [
        "bm25_retrieval_chain.invoke({\"question\" : \"What is the most common issue with loans?\"})[\"response\"].content"
      ]
    },
    {
      "cell_type": "code",
      "execution_count": 23,
      "metadata": {
        "colab": {
          "base_uri": "https://localhost:8080/",
          "height": 36
        },
        "id": "igfinyneSQkh",
        "outputId": "9752d4a9-dd16-45b1-f63f-a76e93a05eb3"
      },
      "outputs": [
        {
          "data": {
            "text/plain": [
              "'Based on the provided information, all these complaints were responded to with a \"Closed with explanation\" status and the responses are marked as \"Timely response?\": \"Yes.\" Therefore, it appears that none of the complaints went unresolved or were handled outside of the expected timeframe.'"
            ]
          },
          "execution_count": 23,
          "metadata": {},
          "output_type": "execute_result"
        }
      ],
      "source": [
        "bm25_retrieval_chain.invoke({\"question\" : \"Did any complaints not get handled in a timely manner?\"})[\"response\"].content"
      ]
    },
    {
      "cell_type": "code",
      "execution_count": 24,
      "metadata": {
        "colab": {
          "base_uri": "https://localhost:8080/",
          "height": 53
        },
        "id": "w0H7pV_USSMQ",
        "outputId": "bdead654-3109-4143-9a30-e1d6ca8dc534"
      },
      "outputs": [
        {
          "data": {
            "text/plain": [
              "\"People failed to pay back their loans for various reasons, including:\\n- Problems with payment plans, such as being steered into incorrect forbearances or having their autopayments unenrolled without proper communication.\\n- Poor communication from lenders or servicers, leading to misunderstandings about payment deadlines, overdue status, or the status of forbearance or deferment applications.\\n- Lack of response or acknowledgment from loan servicers after requests for forbearance or deferment, resulting in continued billing and negative impact on credit scores.\\n- Errors or issues in billing systems, such as payments being reversed or accounts being reported as past due without proper notification.\\n- Transitions between loan servicers that caused a lack of awareness about the loan status or payment requirements.\\nOverall, inadequate communication, administrative errors, and inappropriate handling of payment plans contributed to borrowers' failure to repay their loans.\""
            ]
          },
          "execution_count": 24,
          "metadata": {},
          "output_type": "execute_result"
        }
      ],
      "source": [
        "bm25_retrieval_chain.invoke({\"question\" : \"Why did people fail to pay back their loans?\"})[\"response\"].content"
      ]
    },
    {
      "cell_type": "markdown",
      "metadata": {
        "id": "zvg5xHaUdxCl"
      },
      "source": [
        "It's not clear that this is better or worse, if only we had a way to test this (SPOILERS: We do, the second half of the notebook will cover this)"
      ]
    },
    {
      "cell_type": "markdown",
      "metadata": {},
      "source": [
        "#### ❓ Question #1:\n",
        "\n",
        "Give an example query where BM25 is better than embeddings and justify your answer.\n",
        "\n",
        "#### ✅ Answer:\n",
        "\n",
        "An example query where BM25 outperforms embeddings is when searching for documents that contain an **exact phrase**.\n",
        "\n",
        "**Query:**\n",
        "\n",
        "```python\n",
        "\"Search for complaints where the exact phrase 'loan paid in full' appears.\"\n",
        "```\n",
        "\n",
        "This type of query demands **precise lexical matching**, which is BM25’s strength. In this case, we ran the query using both retrieval pipelines:\n",
        "\n",
        "### 🔍 Results\n",
        "\n",
        "**BM25 Result:**\n",
        "> Based on the provided context, there are no complaints that explicitly mention the exact phrase 'loan paid in full.' Therefore, I cannot find any complaints where this specific phrase appears.\n",
        "\n",
        "**Embedding Result:**\n",
        "> Based on the provided documents, there are multiple complaints where the exact phrase 'loan paid in full' appears, specifically in the context of patients stating that their loans still do not show as paid in full despite paying them off.  \n",
        ">  \n",
        "> For example:  \n",
        "> - At row 59, the complaint narrative explicitly mentions: \"I paid off loan # XXXX on XX/XX/year>, it has been 90 days and it is still not showing as paid in full.\"  \n",
        ">  \n",
        "> Therefore, the complaints where the exact phrase 'loan paid in full' appears are centered around cases where individuals have paid off their loans but the status has not been updated to 'paid in full', leading to frustration and disputes.\n",
        "\n",
        "---\n",
        "\n",
        "### ✅ Justification\n",
        "\n",
        "This example demonstrates that **BM25 is superior for exact phrase queries**:\n",
        "\n",
        "- BM25 correctly returned *no matches* because the **exact phrase** `'loan paid in full'` does not exist in the dataset.\n",
        "- The embedding-based retriever, however, **hallucinated** — returning conceptually similar results that did **not contain the exact phrase**, violating the query constraint.\n",
        "\n",
        "---\n",
        "\n",
        "### 📌 Conclusion\n",
        "\n",
        "**BM25 is better than embeddings** when:\n",
        "\n",
        "- The query demands **exact term or phrase matching**\n",
        "- You want to avoid **semantic generalization**\n",
        "- Hallucination risks must be minimized (e.g., legal or financial audits)\n",
        "\n",
        "This makes BM25 a strong choice for precision-sensitive applications like compliance, audits, or exact keyword search.\n"
      ]
    },
    {
      "cell_type": "code",
      "execution_count": 25,
      "metadata": {},
      "outputs": [
        {
          "name": "stdout",
          "output_type": "stream",
          "text": [
            "BM25 RESULT:\n",
            " I found several complaints where the exact phrase 'loan paid in full' appears. Specifically, there are two instances:\n",
            "\n",
            "1. A complaint where the individual mentions that a loan serviced by Mohela states on the loan summary page that it was paid in full. They refer to documentation indicating this status on their student aid account.\n",
            "\n",
            "2. A complaint where the person notes that their student loans, managed by the Default Resolution Group, show in their documentation that certain loans were paid in full as of specific dates.\n",
            "\n",
            "If you need detailed information from these complaints or further assistance, please let me know!\n",
            "\n",
            "---\n",
            "\n",
            "EMBEDDING RESULT:\n",
            " I found multiple complaints where the exact phrase \"loan paid in full\" appears in the consumer complaint narratives.\n"
          ]
        }
      ],
      "source": [
        "query = \"Search for complaints where the exact phrase 'loan paid in full' appears.\"\n",
        "\n",
        "bm25_result = bm25_retrieval_chain.invoke({\"question\": query})\n",
        "naive_result = naive_retrieval_chain.invoke({\"question\": query})\n",
        "\n",
        "print(\"BM25 RESULT:\\n\", bm25_result[\"response\"].content)\n",
        "print(\"\\n---\\n\")\n",
        "print(\"EMBEDDING RESULT:\\n\", naive_result[\"response\"].content)\n"
      ]
    },
    {
      "cell_type": "code",
      "execution_count": 26,
      "metadata": {},
      "outputs": [
        {
          "data": {
            "text/plain": [
              "[Document(metadata={'source': './data/complaints.csv', 'row': 824, 'Date received': '04/24/25', 'Product': 'Student loan', 'Sub-product': 'Federal student loan servicing', 'Issue': 'Dealing with your lender or servicer', 'Sub-issue': 'Trouble with how payments are being handled', 'Consumer complaint narrative': 'I have student loans managed by aidvantage. I have the payments setup from my bank account. It should be a breeze for me to pay them. No matter what I do the payments just fail. I logged into aidvantage and all of my payments have failed. Its depressing and I need them to be paid. It really should not be this hard. 7 months is a long time to keep failing ... every other bill I setup manage to get paid from the same account. I went to XXXX  and see the exact same complaints and tragedy. I need this resolved, I want my payments accepted.', 'Company public response': 'None', 'Company': 'Maximus Federal Services, Inc.', 'State': 'MD', 'ZIP code': '20735', 'Tags': 'Servicemember', 'Consumer consent provided?': 'Consent provided', 'Submitted via': 'Web', 'Date sent to company': '04/24/25', 'Company response to consumer': 'Closed with explanation', 'Timely response?': 'Yes', 'Consumer disputed?': 'N/A', 'Complaint ID': '13163175'}, page_content='I have student loans managed by aidvantage. I have the payments setup from my bank account. It should be a breeze for me to pay them. No matter what I do the payments just fail. I logged into aidvantage and all of my payments have failed. Its depressing and I need them to be paid. It really should not be this hard. 7 months is a long time to keep failing ... every other bill I setup manage to get paid from the same account. I went to XXXX  and see the exact same complaints and tragedy. I need this resolved, I want my payments accepted.'),\n",
              " Document(metadata={'source': './data/complaints.csv', 'row': 84, 'Date received': '04/11/25', 'Product': 'Student loan', 'Sub-product': 'Federal student loan servicing', 'Issue': 'Dealing with your lender or servicer', 'Sub-issue': 'Trouble with how payments are being handled', 'Consumer complaint narrative': 'My student loan account number is XXXX and all of my loans are being managed by Mohela, XXXX XXXX of Federal Student Loans. \\n\\nThe attached document titled \" XXXX \\'\\' is a summary of where my student loans were at in XXXX of XXXX. To my knowledge, nothing changed with loans from XX/XX/XXXX until XX/XX/XXXX. At that time I owed approximately $ XXXX on my student loans serviced by Mohela. \\n\\nOn XX/XX/XXXX for my account managed by Mohela, it is documented that a {$60000.00} check was received from Colorado XXXX  XXXX XXXX XXXX and XXXX, paid to myself and Mohela. I had endorsed the check before sending it to Mohela by mail. My total loan balance indicated on the website for my account was {$69000.00}. Confirmation of receipt of the payment not documented on their actual website when looking into my account until XXXX of XXXX. I submitted a complaint through the Fed Loans website and Mohela on XX/XX/XXXX. Please see the response to the complaint attached titled \" XXXX \\'\\'. The response to each complaint I made was the identical when I made a complaint on XX/XX/XXXX. There is no response to complaints filed on XX/XX/XXXX and XX/XX/XXXX. The response is not congruent with what is currently reflected on the website. \\n\\nIn the meantime, I have remained in forbearance, not receiving credit for the last four months of XXXX XXXX XXXX XXXX and my loans may or may not be collecting interest. I have called Mohela at least twice a month for over three months and there are unacceptable wait times of four hours or more. \\n\\nWhile I agree with total balance owed in the response to my complaints at {$16000.00}, I have been urged to complete a new application for income driven repayment. I am not going to arrange that while Mohela is not applying the total balance to my loans. \\n{$48.00} was paid to interest and they refunded {$52000.00} on XX/XX/XXXX. Please see attachment titled \" Account History. \\'\\' While the procedure published on both Mohela and Fed Loans indicates that payments would be first applied to unsubsidized loans and then subsidized loans if there are any remaining, that is not what occurred, instead my two oldest loans were paid off, one of them subsidized and one of them unsubsidized. Please see attachments titled \" All XXXX XXXX \\'\\', \" XXXX \\'\\', and \" XXXX \\'\\'. \\n\\nToday, I called and waited on hold with Mohela for XXXX minutes. When I explained the issue to the Mohela representative, she said she needed to send me to a different department. At approximately XXXX XXXX, there was a 7 hour wait to speak with someone and the lines close at XXXX XXXX  ( XXXX XXXX  ), indicating that my efforts to wait on hold were not productive today.', 'Company public response': 'Company believes it acted appropriately as authorized by contract or law', 'Company': 'MOHELA', 'State': 'CO', 'ZIP code': '80209', 'Tags': 'None', 'Consumer consent provided?': 'Consent provided', 'Submitted via': 'Web', 'Date sent to company': '04/11/25', 'Company response to consumer': 'Closed with explanation', 'Timely response?': 'No', 'Consumer disputed?': 'N/A', 'Complaint ID': '12935889'}, page_content='My student loan account number is XXXX and all of my loans are being managed by Mohela, XXXX XXXX of Federal Student Loans. \\n\\nThe attached document titled \" XXXX \\'\\' is a summary of where my student loans were at in XXXX of XXXX. To my knowledge, nothing changed with loans from XX/XX/XXXX until XX/XX/XXXX. At that time I owed approximately $ XXXX on my student loans serviced by Mohela. \\n\\nOn XX/XX/XXXX for my account managed by Mohela, it is documented that a {$60000.00} check was received from Colorado XXXX  XXXX XXXX XXXX and XXXX, paid to myself and Mohela. I had endorsed the check before sending it to Mohela by mail. My total loan balance indicated on the website for my account was {$69000.00}. Confirmation of receipt of the payment not documented on their actual website when looking into my account until XXXX of XXXX. I submitted a complaint through the Fed Loans website and Mohela on XX/XX/XXXX. Please see the response to the complaint attached titled \" XXXX \\'\\'. The response to each complaint I made was the identical when I made a complaint on XX/XX/XXXX. There is no response to complaints filed on XX/XX/XXXX and XX/XX/XXXX. The response is not congruent with what is currently reflected on the website. \\n\\nIn the meantime, I have remained in forbearance, not receiving credit for the last four months of XXXX XXXX XXXX XXXX and my loans may or may not be collecting interest. I have called Mohela at least twice a month for over three months and there are unacceptable wait times of four hours or more. \\n\\nWhile I agree with total balance owed in the response to my complaints at {$16000.00}, I have been urged to complete a new application for income driven repayment. I am not going to arrange that while Mohela is not applying the total balance to my loans. \\n{$48.00} was paid to interest and they refunded {$52000.00} on XX/XX/XXXX. Please see attachment titled \" Account History. \\'\\' While the procedure published on both Mohela and Fed Loans indicates that payments would be first applied to unsubsidized loans and then subsidized loans if there are any remaining, that is not what occurred, instead my two oldest loans were paid off, one of them subsidized and one of them unsubsidized. Please see attachments titled \" All XXXX XXXX \\'\\', \" XXXX \\'\\', and \" XXXX \\'\\'. \\n\\nToday, I called and waited on hold with Mohela for XXXX minutes. When I explained the issue to the Mohela representative, she said she needed to send me to a different department. At approximately XXXX XXXX, there was a 7 hour wait to speak with someone and the lines close at XXXX XXXX  ( XXXX XXXX  ), indicating that my efforts to wait on hold were not productive today.'),\n",
              " Document(metadata={'source': './data/complaints.csv', 'row': 120, 'Date received': '04/02/25', 'Product': 'Student loan', 'Sub-product': 'Federal student loan servicing', 'Issue': 'Dealing with your lender or servicer', 'Sub-issue': 'Problem with customer service', 'Consumer complaint narrative': \"Aidvantage - XXXX XX/XX/XXXX, I went and created the log in to the Aidvantage website and paid them and hit the autopay button. Apparently, it was not turned on, and Aidvantage didn't notify me. They had my phone number but claimed they used the other number on the account, which had not been my number since XXXX and they were notified of this. The where paid in XX/XX/XXXX and went in notified XXXX of nonpayment in XX/XX/XXXX, again not notifying me or giving me the 90 grace period that they allow according to their web site. When I found out that they had not turned auto pay on, I immediately paid the account for the amount due and turned auto pay on, again it didnt turn on. I waited until the bill posted and again turned on auto pay. Again it didnt activate even though the site said auto pay to my checking account that they had on flie. I literally watched my account go from delinquent to good standing to turn on auto pay to delinquant in a seven hour period in the same day last week. I again called them the next day and paid an additonal amount and asked for auto-pay to be turned back on, the company could not tell me wither the auto-pay was actually turned on and told me to check back in on them in 10 days. when I called the call center to complain, I spoke to a supervisor that told me that Aidvantage would provide a letter to the credit agency and then later the same day I was told that they would not. I have been hung up on 3 times by their customer service group as well as never connected to a manager when requesting this and left on hold for over 3 hours.\\n\\nThey need to provide the letter of correction that they have promised. they also need to report the account as being paid, this has been going on for weeks and the credit agencies still see the account as not paid!!!\", 'Company public response': 'None', 'Company': 'Maximus Federal Services, Inc.', 'State': 'CA', 'ZIP code': '926XX', 'Tags': 'None', 'Consumer consent provided?': 'Consent provided', 'Submitted via': 'Web', 'Date sent to company': '04/02/25', 'Company response to consumer': 'Closed with explanation', 'Timely response?': 'Yes', 'Consumer disputed?': 'N/A', 'Complaint ID': '12776598'}, page_content=\"Aidvantage - XXXX XX/XX/XXXX, I went and created the log in to the Aidvantage website and paid them and hit the autopay button. Apparently, it was not turned on, and Aidvantage didn't notify me. They had my phone number but claimed they used the other number on the account, which had not been my number since XXXX and they were notified of this. The where paid in XX/XX/XXXX and went in notified XXXX of nonpayment in XX/XX/XXXX, again not notifying me or giving me the 90 grace period that they allow according to their web site. When I found out that they had not turned auto pay on, I immediately paid the account for the amount due and turned auto pay on, again it didnt turn on. I waited until the bill posted and again turned on auto pay. Again it didnt activate even though the site said auto pay to my checking account that they had on flie. I literally watched my account go from delinquent to good standing to turn on auto pay to delinquant in a seven hour period in the same day last week. I again called them the next day and paid an additonal amount and asked for auto-pay to be turned back on, the company could not tell me wither the auto-pay was actually turned on and told me to check back in on them in 10 days. when I called the call center to complain, I spoke to a supervisor that told me that Aidvantage would provide a letter to the credit agency and then later the same day I was told that they would not. I have been hung up on 3 times by their customer service group as well as never connected to a manager when requesting this and left on hold for over 3 hours.\\n\\nThey need to provide the letter of correction that they have promised. they also need to report the account as being paid, this has been going on for weeks and the credit agencies still see the account as not paid!!!\"),\n",
              " Document(metadata={'source': './data/complaints.csv', 'row': 150, 'Date received': '04/03/25', 'Product': 'Student loan', 'Sub-product': 'Federal student loan servicing', 'Issue': 'Struggling to repay your loan', 'Sub-issue': 'Problem with forgiveness, cancellation, or discharge', 'Consumer complaint narrative': 'I received a debt statement from Default resolution group ; I do not believe this to be a valid debt. I have consolidated my student loans more than once and they have been transferred through multiple different companies. This particular loan was consolidated in XXXX. I do believe there has been some confusion and doubling of these loans as the were transferred and passed around. \\n\\nPlease see the attached documents : I reviewed my studentaid.gov account XX/XX/XXXX after receiving this notice. As you can see it states that my total loan balance stated : XXXX loans, XXXX servicers, total balance {$0.00}. More specifically the XXXX XXXX loan states on the loan summary page that it was paid in full. This seems to be the one I am being charged for on this statement. Then upon expanding the loan servicers Debt management and collections system tab it states again that it is paid in full. Again, expanding more to view loan details you will see where it states paid in full as of XX/XX/XXXX. \\n\\nUpon checking XX/XX/XXXX studentaid.gov states that it is in default with a balance of balance of {$6400.00}. I did receive a loan forgiveness and discharge : IDR for my consolidated loan which should have included this loan as you can see on the list of loan servicers included on page XXXX ( XXXX XXXX XXXX XXXX XXXX Debt Management and Collections System, XXXX XXXX XXXX XXXX ) . The amount of this discharge was {$5800.00} on XX/XX/XXXX. The page that says only direct consolidated unsubsidized does not list the servicer but states that I paid {$820.00} paying off this loan. \\nFurthermore, the statement I received lists XXXX XXXX XXXX XXXX as the prior debt holder with the original amount and date being {$3700.00} on XX/XX/XXXX. If this is the original credit holder please provide me with the originally signed documents and transfers please. \\n\\nAccording to XXXX a payment of {$5800.00} was applied XX/XX/XXXX. It does not state what loan they were servicing or which loans the payment was applied to. \\nXXXX of the loans, XXXX of them not stating who the servicer is, shows payments made : XXXX in the amount of {$130.00} and the other in the amount of {$820.00}. \\n\\nI am also attaching a copy of when the consolidation of multiple loans included XXXX XXXX  ( it is unclear which loans they had ) and XXXX XXXX. According to students.gov, this consolidation was completed in XXXX. I do not know where it went from there.', 'Company public response': 'None', 'Company': 'Maximus Federal Services, Inc.', 'State': 'TN', 'ZIP code': '370XX', 'Tags': 'None', 'Consumer consent provided?': 'Consent provided', 'Submitted via': 'Web', 'Date sent to company': '04/03/25', 'Company response to consumer': 'Closed with explanation', 'Timely response?': 'Yes', 'Consumer disputed?': 'N/A', 'Complaint ID': '12809780'}, page_content='I received a debt statement from Default resolution group ; I do not believe this to be a valid debt. I have consolidated my student loans more than once and they have been transferred through multiple different companies. This particular loan was consolidated in XXXX. I do believe there has been some confusion and doubling of these loans as the were transferred and passed around. \\n\\nPlease see the attached documents : I reviewed my studentaid.gov account XX/XX/XXXX after receiving this notice. As you can see it states that my total loan balance stated : XXXX loans, XXXX servicers, total balance {$0.00}. More specifically the XXXX XXXX loan states on the loan summary page that it was paid in full. This seems to be the one I am being charged for on this statement. Then upon expanding the loan servicers Debt management and collections system tab it states again that it is paid in full. Again, expanding more to view loan details you will see where it states paid in full as of XX/XX/XXXX. \\n\\nUpon checking XX/XX/XXXX studentaid.gov states that it is in default with a balance of balance of {$6400.00}. I did receive a loan forgiveness and discharge : IDR for my consolidated loan which should have included this loan as you can see on the list of loan servicers included on page XXXX ( XXXX XXXX XXXX XXXX XXXX Debt Management and Collections System, XXXX XXXX XXXX XXXX ) . The amount of this discharge was {$5800.00} on XX/XX/XXXX. The page that says only direct consolidated unsubsidized does not list the servicer but states that I paid {$820.00} paying off this loan. \\nFurthermore, the statement I received lists XXXX XXXX XXXX XXXX as the prior debt holder with the original amount and date being {$3700.00} on XX/XX/XXXX. If this is the original credit holder please provide me with the originally signed documents and transfers please. \\n\\nAccording to XXXX a payment of {$5800.00} was applied XX/XX/XXXX. It does not state what loan they were servicing or which loans the payment was applied to. \\nXXXX of the loans, XXXX of them not stating who the servicer is, shows payments made : XXXX in the amount of {$130.00} and the other in the amount of {$820.00}. \\n\\nI am also attaching a copy of when the consolidation of multiple loans included XXXX XXXX  ( it is unclear which loans they had ) and XXXX XXXX. According to students.gov, this consolidation was completed in XXXX. I do not know where it went from there.')]"
            ]
          },
          "execution_count": 26,
          "metadata": {},
          "output_type": "execute_result"
        }
      ],
      "source": [
        "bm25_result['context']"
      ]
    },
    {
      "cell_type": "code",
      "execution_count": 27,
      "metadata": {},
      "outputs": [
        {
          "data": {
            "text/plain": [
              "[Document(metadata={'source': './data/complaints.csv', 'row': 59, 'Date received': '04/02/25', 'Product': 'Student loan', 'Sub-product': 'Federal student loan servicing', 'Issue': 'Dealing with your lender or servicer', 'Sub-issue': 'Received bad information about your loan', 'Consumer complaint narrative': \"In my previous Complaint # XXXX I stated that student loan # XXXX is still not showing as being paid in full. I received a response but it still hasn't been corrected and the complaint was closed. I paid off loan # XXXX on XX/XX/year>, it has been 90 days and it is still not showing as paid in full, despite showing a XXXX balance.\", 'Company public response': 'None', 'Company': 'Maximus Federal Services, Inc.', 'State': 'NV', 'ZIP code': '891XX', 'Tags': 'None', 'Consumer consent provided?': 'Consent provided', 'Submitted via': 'Web', 'Date sent to company': '04/10/25', 'Company response to consumer': 'Closed with explanation', 'Timely response?': 'Yes', 'Consumer disputed?': 'N/A', 'Complaint ID': '12779260', '_id': 'cd62049c98a9487885771980af6504a3', '_collection_name': 'LoanComplaints'}, page_content=\"In my previous Complaint # XXXX I stated that student loan # XXXX is still not showing as being paid in full. I received a response but it still hasn't been corrected and the complaint was closed. I paid off loan # XXXX on XX/XX/year>, it has been 90 days and it is still not showing as paid in full, despite showing a XXXX balance.\"),\n",
              " Document(metadata={'source': './data/complaints.csv', 'row': 594, 'Date received': '04/12/25', 'Product': 'Student loan', 'Sub-product': 'Federal student loan servicing', 'Issue': 'Struggling to repay your loan', 'Sub-issue': 'Problem with forgiveness, cancellation, or discharge', 'Consumer complaint narrative': 'Thanksheres a professional version tailored for a formal complaint involving the XXXX  of I am submitting this complaint regarding the XXXX XXXX XXXX  and Mohela Loan Company due to serious concerns about their past and ongoing practices. Both entities have been the subject of multiple investigations and legal actions related to predatory lending, high-pressure recruitment tactics, and the dissemination of inaccurate or misleading information concerning student loans and repayment obligations. \\n\\nThese practices have misled many studentsincluding myselfinto taking on significant debt under false pretenses or without a clear understanding of the long-term financial impact. The resulting financial burden has had a lasting negative effect on students credit, financial stability, and overall well-being. \\n\\nI believe these actions demonstrate a pattern of misconduct that warrants further scrutiny and accountability, and I respectfully request that this complaint be investigated.', 'Company public response': 'None', 'Company': 'MOHELA', 'State': 'KY', 'ZIP code': '40258', 'Tags': 'None', 'Consumer consent provided?': 'Consent provided', 'Submitted via': 'Web', 'Date sent to company': '04/12/25', 'Company response to consumer': 'Closed with explanation', 'Timely response?': 'Yes', 'Consumer disputed?': 'N/A', 'Complaint ID': '12955953', '_id': '919f260e5aab4a40afd091fccc32cca9', '_collection_name': 'LoanComplaints'}, page_content='Thanksheres a professional version tailored for a formal complaint involving the XXXX  of I am submitting this complaint regarding the XXXX XXXX XXXX  and Mohela Loan Company due to serious concerns about their past and ongoing practices. Both entities have been the subject of multiple investigations and legal actions related to predatory lending, high-pressure recruitment tactics, and the dissemination of inaccurate or misleading information concerning student loans and repayment obligations. \\n\\nThese practices have misled many studentsincluding myselfinto taking on significant debt under false pretenses or without a clear understanding of the long-term financial impact. The resulting financial burden has had a lasting negative effect on students credit, financial stability, and overall well-being. \\n\\nI believe these actions demonstrate a pattern of misconduct that warrants further scrutiny and accountability, and I respectfully request that this complaint be investigated.'),\n",
              " Document(metadata={'source': './data/complaints.csv', 'row': 115, 'Date received': '04/25/25', 'Product': 'Student loan', 'Sub-product': 'Federal student loan servicing', 'Issue': 'Dealing with your lender or servicer', 'Sub-issue': \"Don't agree with the fees charged\", 'Consumer complaint narrative': 'Consumer Financial Protection Bureau XXXX. XXXX XXXXXXXX XXXX XXXX XXXX Dear Sir/Madam, I am writing to file a formal complaint regarding my student loans, as I am currently coming out of forbearance and have noticed some troubling discrepancies with my loan balances and interest rates. \\n\\nOver the years, my loans have been sold several times, which I understand may contribute to some of the confusion surrounding my account. However, I am concerned about the substantial increases in interest rates that I have seen on some of my loans. When I originally took out the loans, the interest rates were set at a standard percentage. However, it appears that these rates have significantly increased, which I believe is unfair and potentially in violation of the original terms of my loan agreements. \\n\\nGiven the financial strain I have faced in trying to keep up with payments, especially during and after forbearance, it is disheartening to see the interest rates skyrocketing and my balances growing despite my efforts to make payments. I find this situation to be unfair, and I believe that my loans should be handled in accordance with the terms originally agreed upon, without unjustified increases in interest. \\n\\nI respectfully request that the CFPB investigate my loans and help ensure that my balances and interest rates are accurate. I am also seeking guidance on what steps I can take to resolve this matter with my loan servicer.', 'Company public response': 'None', 'Company': 'Maximus Federal Services, Inc.', 'State': 'NV', 'ZIP code': '89148', 'Tags': 'Older American', 'Consumer consent provided?': 'Consent provided', 'Submitted via': 'Web', 'Date sent to company': '04/30/25', 'Company response to consumer': 'Closed with explanation', 'Timely response?': 'Yes', 'Consumer disputed?': 'N/A', 'Complaint ID': '13178964', '_id': '8913276cacf5463ebad743aecda59383', '_collection_name': 'LoanComplaints'}, page_content='Consumer Financial Protection Bureau XXXX. XXXX XXXXXXXX XXXX XXXX XXXX Dear Sir/Madam, I am writing to file a formal complaint regarding my student loans, as I am currently coming out of forbearance and have noticed some troubling discrepancies with my loan balances and interest rates. \\n\\nOver the years, my loans have been sold several times, which I understand may contribute to some of the confusion surrounding my account. However, I am concerned about the substantial increases in interest rates that I have seen on some of my loans. When I originally took out the loans, the interest rates were set at a standard percentage. However, it appears that these rates have significantly increased, which I believe is unfair and potentially in violation of the original terms of my loan agreements. \\n\\nGiven the financial strain I have faced in trying to keep up with payments, especially during and after forbearance, it is disheartening to see the interest rates skyrocketing and my balances growing despite my efforts to make payments. I find this situation to be unfair, and I believe that my loans should be handled in accordance with the terms originally agreed upon, without unjustified increases in interest. \\n\\nI respectfully request that the CFPB investigate my loans and help ensure that my balances and interest rates are accurate. I am also seeking guidance on what steps I can take to resolve this matter with my loan servicer.'),\n",
              " Document(metadata={'source': './data/complaints.csv', 'row': 98, 'Date received': '04/18/25', 'Product': 'Student loan', 'Sub-product': 'Federal student loan servicing', 'Issue': 'Struggling to repay your loan', 'Sub-issue': 'Problem with forgiveness, cancellation, or discharge', 'Consumer complaint narrative': 'Report student loan servicer misconduct, including errors in loan balances, misapplied payments, and wrongful denials of repayment plans.', 'Company public response': 'None', 'Company': 'SOFI TECHNOLOGIES, INC.', 'State': 'NY', 'ZIP code': '11434', 'Tags': 'None', 'Consumer consent provided?': 'Consent provided', 'Submitted via': 'Web', 'Date sent to company': '04/18/25', 'Company response to consumer': 'Closed with explanation', 'Timely response?': 'Yes', 'Consumer disputed?': 'N/A', 'Complaint ID': '13056217', '_id': 'f5257937dce94d129860e041500f478e', '_collection_name': 'LoanComplaints'}, page_content='Report student loan servicer misconduct, including errors in loan balances, misapplied payments, and wrongful denials of repayment plans.'),\n",
              " Document(metadata={'source': './data/complaints.csv', 'row': 270, 'Date received': '05/07/25', 'Product': 'Student loan', 'Sub-product': 'Federal student loan servicing', 'Issue': 'Dealing with your lender or servicer', 'Sub-issue': 'Received bad information about your loan', 'Consumer complaint narrative': 'Missing XXXX XXXX for XXXX Dear CFPB, I am writing to express my serious concern about the missing loan history for my account, XXXX. I recently accessed my account and discovered that my payment history and status for my loans have not been reported accurately. Specifically, ( XXXX XX/XX/XXXX ) is missing when I had periods of payment, deferment, and or forbearance. The missing periods are keeping me from qualifying for XXXX XXXX XXXX XXXX due to this error that has not been corrected by Nelnet or ( previous servicer ) I have already contacted the customer service department on XX/XX/XXXX, to report this issue but was given no resolution. Therefore, I am formally requesting that you investigate this matter and take immediate action to correct the missing loan history on my account. I have attached copies of the missing years to provide further evidence of my loan disbursement dates. Thank you for your time and attention to this important matter.', 'Company public response': 'None', 'Company': 'Nelnet, Inc.', 'State': 'GA', 'ZIP code': '30126', 'Tags': 'None', 'Consumer consent provided?': 'Consent provided', 'Submitted via': 'Web', 'Date sent to company': '05/07/25', 'Company response to consumer': 'Closed with explanation', 'Timely response?': 'Yes', 'Consumer disputed?': 'N/A', 'Complaint ID': '13393574', '_id': '323daa83636c4b65afbaac4d204f297e', '_collection_name': 'LoanComplaints'}, page_content='Missing XXXX XXXX for XXXX Dear CFPB, I am writing to express my serious concern about the missing loan history for my account, XXXX. I recently accessed my account and discovered that my payment history and status for my loans have not been reported accurately. Specifically, ( XXXX XX/XX/XXXX ) is missing when I had periods of payment, deferment, and or forbearance. The missing periods are keeping me from qualifying for XXXX XXXX XXXX XXXX due to this error that has not been corrected by Nelnet or ( previous servicer ) I have already contacted the customer service department on XX/XX/XXXX, to report this issue but was given no resolution. Therefore, I am formally requesting that you investigate this matter and take immediate action to correct the missing loan history on my account. I have attached copies of the missing years to provide further evidence of my loan disbursement dates. Thank you for your time and attention to this important matter.'),\n",
              " Document(metadata={'source': './data/complaints.csv', 'row': 619, 'Date received': '05/07/25', 'Product': 'Student loan', 'Sub-product': 'Federal student loan servicing', 'Issue': 'Incorrect information on your report', 'Sub-issue': 'Information belongs to someone else', 'Consumer complaint narrative': \"I noticed an erroneous loan applied to my credit. It's from EdFinancial Services Acct XXXX XXXX, phone number XXXX for {$1700.00}. I disputed the charge, as I never applied for a student loan. The dispute was denied from EdFinancial. On XX/XX/year> I once again disputed the claim and called EdFinancial. They informed me that it was up to me to get this corrected and that I needed to fill out their forms ( of which they have yet to send to me ) and file a police report. I currently have a police report on file with the XXXX XXXX XXXX XXXX XXXX XXXX XXXX. Immediately after speaking with EdFinancial, another person from XXXX XXXX called from XXXX asking about the loan. This all seems very suspicious. Also, the address on the loan was XXXXXXXX XXXX XXXX XXXX XXXX XXXXXXXX, CA XXXX ( NOT MY ADDRESS ) and email XXXX ( NOT MY EMAIL ). The loan was for XXXX XXXX XXXX XXXX.\", 'Company public response': 'None', 'Company': 'EdFinancial Services', 'State': 'TX', 'ZIP code': '77450', 'Tags': 'None', 'Consumer consent provided?': 'Consent provided', 'Submitted via': 'Web', 'Date sent to company': '05/07/25', 'Company response to consumer': 'Closed with explanation', 'Timely response?': 'Yes', 'Consumer disputed?': 'N/A', 'Complaint ID': '13385643', '_id': '7a41179e564d43a4b943b717ee44fcc1', '_collection_name': 'LoanComplaints'}, page_content=\"I noticed an erroneous loan applied to my credit. It's from EdFinancial Services Acct XXXX XXXX, phone number XXXX for {$1700.00}. I disputed the charge, as I never applied for a student loan. The dispute was denied from EdFinancial. On XX/XX/year> I once again disputed the claim and called EdFinancial. They informed me that it was up to me to get this corrected and that I needed to fill out their forms ( of which they have yet to send to me ) and file a police report. I currently have a police report on file with the XXXX XXXX XXXX XXXX XXXX XXXX XXXX. Immediately after speaking with EdFinancial, another person from XXXX XXXX called from XXXX asking about the loan. This all seems very suspicious. Also, the address on the loan was XXXXXXXX XXXX XXXX XXXX XXXX XXXXXXXX, CA XXXX ( NOT MY ADDRESS ) and email XXXX ( NOT MY EMAIL ). The loan was for XXXX XXXX XXXX XXXX.\"),\n",
              " Document(metadata={'source': './data/complaints.csv', 'row': 645, 'Date received': '03/28/25', 'Product': 'Student loan', 'Sub-product': 'Federal student loan servicing', 'Issue': 'Dealing with your lender or servicer', 'Sub-issue': 'Received bad information about your loan', 'Consumer complaint narrative': 'Loan Servicer Providing False Information Regarding Interest Accrual ( CFPB Complaint # XXXX ) I am submitting this complaint regarding my student loan account due to inaccurate information provided by my loan servicer. This is a follow-up to my previous complaint ( XXXX ) # XXXX. \\n\\nContrary to the loan servicers response, interest did accrue on my loans between XX/XX/year>, and XX/XX/year>, as clearly reflected on my loan statements ( which I have attached ). This directly contradicts their claim that my account has been in a general forbearance with a 0 % interest rate since XX/XX/year>. \\n\\nTheir response to my previous inquiry states : \" As of XX/XX/year>, your account has been in a general forbearance with a 0 % interest rate. \\'\\' However, my loan statements prove that interest was actively accruing during this period. This misinformation has financial implications for my loan balance. \\n\\nI request the following actions : XXXX ) Correction of my loan status to accurately reflect whether my loans were truly in a 0 % interest forbearance.\\n\\n2 ) A full explanation of why interest accrued despite their claim of a 0 % rate.\\n\\n3 ) Adjustment of my loan balance if interest was incorrectly charged.\\n\\nThis misinformation is unacceptable, and I urge the CFPB to investigate this issue to ensure accurate and honest loan servicing practices. Please let me know what further steps I need to take to resolve this matter. \\n\\nThank you for your time and assistance.', 'Company public response': 'None', 'Company': 'Maximus Federal Services, Inc.', 'State': 'NJ', 'ZIP code': '08054', 'Tags': 'None', 'Consumer consent provided?': 'Consent provided', 'Submitted via': 'Web', 'Date sent to company': '03/28/25', 'Company response to consumer': 'Closed with explanation', 'Timely response?': 'Yes', 'Consumer disputed?': 'N/A', 'Complaint ID': '12718176', '_id': '46906b5864a9473081822f11eaa2b06b', '_collection_name': 'LoanComplaints'}, page_content='Loan Servicer Providing False Information Regarding Interest Accrual ( CFPB Complaint # XXXX ) I am submitting this complaint regarding my student loan account due to inaccurate information provided by my loan servicer. This is a follow-up to my previous complaint ( XXXX ) # XXXX. \\n\\nContrary to the loan servicers response, interest did accrue on my loans between XX/XX/year>, and XX/XX/year>, as clearly reflected on my loan statements ( which I have attached ). This directly contradicts their claim that my account has been in a general forbearance with a 0 % interest rate since XX/XX/year>. \\n\\nTheir response to my previous inquiry states : \" As of XX/XX/year>, your account has been in a general forbearance with a 0 % interest rate. \\'\\' However, my loan statements prove that interest was actively accruing during this period. This misinformation has financial implications for my loan balance. \\n\\nI request the following actions : XXXX ) Correction of my loan status to accurately reflect whether my loans were truly in a 0 % interest forbearance.\\n\\n2 ) A full explanation of why interest accrued despite their claim of a 0 % rate.\\n\\n3 ) Adjustment of my loan balance if interest was incorrectly charged.\\n\\nThis misinformation is unacceptable, and I urge the CFPB to investigate this issue to ensure accurate and honest loan servicing practices. Please let me know what further steps I need to take to resolve this matter. \\n\\nThank you for your time and assistance.'),\n",
              " Document(metadata={'source': './data/complaints.csv', 'row': 78, 'Date received': '04/28/25', 'Product': 'Student loan', 'Sub-product': 'Federal student loan servicing', 'Issue': 'Dealing with your lender or servicer', 'Sub-issue': 'Trouble with how payments are being handled', 'Consumer complaint narrative': \"I sent a payment of {$1000.00} on XX/XX/year>. It posted to my bank account on XX/XX/year>. That amount was NOT listed in my Payment History. Instead, {$810.00} was. Consequently, {$200.00} is missing from my account, and the interest on one of my loans went unpaid. The amount was never returned to me. It simply vanished. \\n\\nOn XX/XX/year>, I sent four payments ( i.e., {$38.00}, {$24.00}, {$27.00}, and {$29.00} ) totaling {$110.00}. However, only {$90.00} was listed in my Payment History. {$29.00} is missing from my account. The same loan that was not paid on XX/XX/year> was also not paid on XX/XX/year>. \\n\\nThis seems to be a recurring problem with this company, as I've submitted the same complaint in the past.\", 'Company public response': 'None', 'Company': 'EdFinancial Services', 'State': 'SC', 'ZIP code': '295XX', 'Tags': 'None', 'Consumer consent provided?': 'Consent provided', 'Submitted via': 'Web', 'Date sent to company': '04/28/25', 'Company response to consumer': 'Closed with explanation', 'Timely response?': 'Yes', 'Consumer disputed?': 'N/A', 'Complaint ID': '13211199', '_id': '73d2dd5edf294a17abb426c762274c7d', '_collection_name': 'LoanComplaints'}, page_content=\"I sent a payment of {$1000.00} on XX/XX/year>. It posted to my bank account on XX/XX/year>. That amount was NOT listed in my Payment History. Instead, {$810.00} was. Consequently, {$200.00} is missing from my account, and the interest on one of my loans went unpaid. The amount was never returned to me. It simply vanished. \\n\\nOn XX/XX/year>, I sent four payments ( i.e., {$38.00}, {$24.00}, {$27.00}, and {$29.00} ) totaling {$110.00}. However, only {$90.00} was listed in my Payment History. {$29.00} is missing from my account. The same loan that was not paid on XX/XX/year> was also not paid on XX/XX/year>. \\n\\nThis seems to be a recurring problem with this company, as I've submitted the same complaint in the past.\"),\n",
              " Document(metadata={'source': './data/complaints.csv', 'row': 154, 'Date received': '05/01/25', 'Product': 'Student loan', 'Sub-product': 'Federal student loan servicing', 'Issue': 'Incorrect information on your report', 'Sub-issue': 'Information belongs to someone else', 'Consumer complaint narrative': 'The loan amounts are incorrect that were taken out ( I have two loans ). Then theres a completely separate loan that isnt mine at all but it states that it was on the same day that I did apply for a loan. I reported to the lender and XXXX I reported to my institution and the credit bureaus.', 'Company public response': 'None', 'Company': 'Maximus Federal Services, Inc.', 'State': 'FL', 'ZIP code': '32725', 'Tags': 'None', 'Consumer consent provided?': 'Consent provided', 'Submitted via': 'Web', 'Date sent to company': '05/06/25', 'Company response to consumer': 'Closed with explanation', 'Timely response?': 'Yes', 'Consumer disputed?': 'N/A', 'Complaint ID': '13289015', '_id': '3e5355c31baf4ebcaaf42d1532ffb716', '_collection_name': 'LoanComplaints'}, page_content='The loan amounts are incorrect that were taken out ( I have two loans ). Then theres a completely separate loan that isnt mine at all but it states that it was on the same day that I did apply for a loan. I reported to the lender and XXXX I reported to my institution and the credit bureaus.'),\n",
              " Document(metadata={'source': './data/complaints.csv', 'row': 810, 'Date received': '04/18/25', 'Product': 'Student loan', 'Sub-product': 'Federal student loan servicing', 'Issue': 'Incorrect information on your report', 'Sub-issue': 'Account status incorrect', 'Consumer complaint narrative': 'Subject : Inaccurate Reporting of Student Loan Status and Failure to Acknowledge XXXX  Progress Complaint : I am filing a complaint regarding the mismanagement of my federal student loans by my servicer, Edfinancial Services. \\n\\nDespite having made XXXX qualifying payments under an Income-Driven Repayment ( XXXX ) plan ( as acknowledged on my loan dashboard ), I am being reported as having XXXX qualifying payments toward XXXX XXXX XXXX XXXX XXXX XXXX XXXX Additionally, negative marks, including possible delinquency or default, were reported to credit bureaus without adequate notice or opportunity to cure. \\n\\nNo Delinquency Notice Received I was never notified of any late payment, missed payment, or default. Under the Fair Credit Reporting Act ( FCRA ) and Higher Education Act, I should have been properly informed before any negative credit reporting. This lack of notice is a clear violation of my consumer rights. \\n\\nActively in XXXX & XXXX Process I submitted an XXXX XXXX XXXX XXXX ) application on XX/XX/year>, specifically requesting the lowest monthly payment, which qualifies me for the XXXX plan. I also submitted my XXXX Employment Certification form, signed by my employer. During this time, my loans were under review, and therefore should not have been reported as delinquent. \\n\\nI submitted a dispute with all three major credit bureaus ( XXXX XXXX XXXX  ) and recently submitted both an XXXX request and a XXXX Employment Certification Form on XX/XX/year>.', 'Company public response': 'None', 'Company': 'EdFinancial Services', 'State': 'IN', 'ZIP code': '47130', 'Tags': 'None', 'Consumer consent provided?': 'Consent provided', 'Submitted via': 'Web', 'Date sent to company': '04/18/25', 'Company response to consumer': 'Closed with explanation', 'Timely response?': 'Yes', 'Consumer disputed?': 'N/A', 'Complaint ID': '13056764', '_id': '8840e058eade4ca6b8cbdf3c00e3318d', '_collection_name': 'LoanComplaints'}, page_content='Subject : Inaccurate Reporting of Student Loan Status and Failure to Acknowledge XXXX  Progress Complaint : I am filing a complaint regarding the mismanagement of my federal student loans by my servicer, Edfinancial Services. \\n\\nDespite having made XXXX qualifying payments under an Income-Driven Repayment ( XXXX ) plan ( as acknowledged on my loan dashboard ), I am being reported as having XXXX qualifying payments toward XXXX XXXX XXXX XXXX XXXX XXXX XXXX Additionally, negative marks, including possible delinquency or default, were reported to credit bureaus without adequate notice or opportunity to cure. \\n\\nNo Delinquency Notice Received I was never notified of any late payment, missed payment, or default. Under the Fair Credit Reporting Act ( FCRA ) and Higher Education Act, I should have been properly informed before any negative credit reporting. This lack of notice is a clear violation of my consumer rights. \\n\\nActively in XXXX & XXXX Process I submitted an XXXX XXXX XXXX XXXX ) application on XX/XX/year>, specifically requesting the lowest monthly payment, which qualifies me for the XXXX plan. I also submitted my XXXX Employment Certification form, signed by my employer. During this time, my loans were under review, and therefore should not have been reported as delinquent. \\n\\nI submitted a dispute with all three major credit bureaus ( XXXX XXXX XXXX  ) and recently submitted both an XXXX request and a XXXX Employment Certification Form on XX/XX/year>.')]"
            ]
          },
          "execution_count": 27,
          "metadata": {},
          "output_type": "execute_result"
        }
      ],
      "source": [
        "naive_result['context']"
      ]
    },
    {
      "cell_type": "markdown",
      "metadata": {
        "id": "Q-dcbFn2vpZF"
      },
      "source": [
        "## Task 6: Contextual Compression (Using Reranking)\n",
        "\n",
        "Contextual Compression is a fairly straightforward idea: We want to \"compress\" our retrieved context into just the most useful bits.\n",
        "\n",
        "There are a few ways we can achieve this - but we're going to look at a specific example called reranking.\n",
        "\n",
        "The basic idea here is this:\n",
        "\n",
        "- We retrieve lots of documents that are very likely related to our query vector\n",
        "- We \"compress\" those documents into a smaller set of *more* related documents using a reranking algorithm.\n",
        "\n",
        "We'll be leveraging Cohere's Rerank model for our reranker today!\n",
        "\n",
        "All we need to do is the following:\n",
        "\n",
        "- Create a basic retriever\n",
        "- Create a compressor (reranker, in this case)\n",
        "\n",
        "That's it!\n",
        "\n",
        "Let's see it in the code below!"
      ]
    },
    {
      "cell_type": "code",
      "execution_count": 28,
      "metadata": {
        "id": "psHvO2K1v_ZQ"
      },
      "outputs": [],
      "source": [
        "from langchain.retrievers.contextual_compression import ContextualCompressionRetriever\n",
        "from langchain_cohere import CohereRerank\n",
        "\n",
        "compressor = CohereRerank(model=\"rerank-v3.5\")\n",
        "compression_retriever = ContextualCompressionRetriever(\n",
        "    base_compressor=compressor, base_retriever=naive_retriever\n",
        ")"
      ]
    },
    {
      "cell_type": "markdown",
      "metadata": {
        "id": "_TA9RB2x-j7P"
      },
      "source": [
        "Let's create our chain again, and see how this does!"
      ]
    },
    {
      "cell_type": "code",
      "execution_count": 29,
      "metadata": {
        "id": "1BXqmxvHwX6T"
      },
      "outputs": [],
      "source": [
        "contextual_compression_retrieval_chain = (\n",
        "    {\"context\": itemgetter(\"question\") | compression_retriever, \"question\": itemgetter(\"question\")}\n",
        "    | RunnablePassthrough.assign(context=itemgetter(\"context\"))\n",
        "    | {\"response\": rag_prompt | chat_model, \"context\": itemgetter(\"context\")}\n",
        ")"
      ]
    },
    {
      "cell_type": "code",
      "execution_count": 30,
      "metadata": {
        "colab": {
          "base_uri": "https://localhost:8080/",
          "height": 36
        },
        "id": "V3iGpokswcBb",
        "outputId": "f15d2aa1-5e8b-417d-f623-eb835d072e59"
      },
      "outputs": [
        {
          "data": {
            "text/plain": [
              "'Based on the provided information, a common issue with loans, particularly student loans, is dealing with errors and mismanagement by lenders or servicers. This includes problems such as receiving incorrect information about the loan, errors in balances, misapplied payments, wrongful denials of payment plans, and mishandling of the loan data. \\n\\nIn summary, one of the most common issues is **mismanagement and errors related to loan balances, payment application, and communication from lenders or servicers**.'"
            ]
          },
          "execution_count": 30,
          "metadata": {},
          "output_type": "execute_result"
        }
      ],
      "source": [
        "contextual_compression_retrieval_chain.invoke({\"question\" : \"What is the most common issue with loans?\"})[\"response\"].content"
      ]
    },
    {
      "cell_type": "code",
      "execution_count": 31,
      "metadata": {
        "colab": {
          "base_uri": "https://localhost:8080/",
          "height": 53
        },
        "id": "7u_k0i4OweUd",
        "outputId": "be5fccc8-2352-4189-c524-bbeaa28cf799"
      },
      "outputs": [
        {
          "data": {
            "text/plain": [
              "'Based on the provided information, yes, some complaints did not get handled in a timely manner. For example, the complaint about the student loan account review has been open since some earlier date (indicated as XXXX in the documents) and has not been resolved after nearly 18 months, indicating a significant delay. Additionally, the complaint about payments not being applied to the account mentions ongoing issues over 2-3 weeks. Although the responses from the companies were marked as \"Closed with explanation\" and responses were \"Yes\" in terms of timeliness, the ongoing unresolved issues suggest that some complaints experienced delays or were not fully resolved promptly.'"
            ]
          },
          "execution_count": 31,
          "metadata": {},
          "output_type": "execute_result"
        }
      ],
      "source": [
        "contextual_compression_retrieval_chain.invoke({\"question\" : \"Did any complaints not get handled in a timely manner?\"})[\"response\"].content"
      ]
    },
    {
      "cell_type": "code",
      "execution_count": 32,
      "metadata": {
        "colab": {
          "base_uri": "https://localhost:8080/",
          "height": 70
        },
        "id": "zn1EqaGqweXN",
        "outputId": "42bc5972-4164-46eb-f49d-4272f39bb89b"
      },
      "outputs": [
        {
          "data": {
            "text/plain": [
              "'People failed to pay back their loans for several reasons based on the provided context:\\n\\n1. **Lack of Clear Communication and Awareness:** Some borrowers were unaware they had to repay their loans or were not informed about repayment requirements. For example, a borrower was unaware until a certain point that they needed to start paying back their financial aid, leading to confusion and missed payments.\\n\\n2. **Issues with Loan Transfer and Notification:** Borrowers reported that loans were transferred between servicers (e.g., to NelNet) without proper notification, and they did not receive timely or adequate communication about repayment obligations.\\n\\n3. **Difficulty with Payment Plans and Account Access:** Borrowers experienced technical issues, such as being locked out of online accounts or receiving inconsistent or incorrect account information, which hindered their ability to stay current on payments.\\n\\n4. **Accumulation of Interest and Loan Management Challenges:** Many borrowers had limited payment options (e.g., only forbearance or deferment) that allowed interest to continue accruing, sometimes resulting in their total debt increasing despite payments being made.\\n\\n5. **Financial Hardship and Unmanageable Debt:** Borrowers found it difficult to make payments due to stagnant wages, inflation, or other financial hardships. Lowering payments often resulted in interest accumulating faster than they could pay down the balance, extending repayment periods and increasing total debt.\\n\\n6. **Misleading or Insufficient Information about Loan Terms:** A lack of transparency about interest, repayment plans, and loan details led borrowers to underestimate the difficulty or misunderstand their obligations.\\n\\n7. **Administrative Failures or Lack of Support:** Failure to notify borrowers about payment deadlines, changes in loan servicing, or options available contributed to missed or delayed payments.\\n\\nIn summary, a combination of poor communication, administrative issues, financial hardship, and the complexities of loan management contributed to people being unable to effectively pay back their loans.'"
            ]
          },
          "execution_count": 32,
          "metadata": {},
          "output_type": "execute_result"
        }
      ],
      "source": [
        "contextual_compression_retrieval_chain.invoke({\"question\" : \"Why did people fail to pay back their loans?\"})[\"response\"].content"
      ]
    },
    {
      "cell_type": "markdown",
      "metadata": {
        "id": "OEbT0g2S-mZ4"
      },
      "source": [
        "We'll need to rely on something like Ragas to help us get a better sense of how this is performing overall - but it \"feels\" better!"
      ]
    },
    {
      "cell_type": "markdown",
      "metadata": {
        "id": "qqbghrBEQNn5"
      },
      "source": [
        "## Task 7: Multi-Query Retriever\n",
        "\n",
        "Typically in RAG we have a single query - the one provided by the user.\n",
        "\n",
        "What if we had....more than one query!\n",
        "\n",
        "In essence, a Multi-Query Retriever works by:\n",
        "\n",
        "1. Taking the original user query and creating `n` number of new user queries using an LLM.\n",
        "2. Retrieving documents for each query.\n",
        "3. Using all unique retrieved documents as context\n",
        "\n",
        "So, how is it to set-up? Not bad! Let's see it down below!\n",
        "\n"
      ]
    },
    {
      "cell_type": "code",
      "execution_count": 33,
      "metadata": {
        "id": "pfM26ReXQjzU"
      },
      "outputs": [],
      "source": [
        "from langchain.retrievers.multi_query import MultiQueryRetriever\n",
        "\n",
        "multi_query_retriever = MultiQueryRetriever.from_llm(\n",
        "    retriever=naive_retriever, llm=chat_model\n",
        ")"
      ]
    },
    {
      "cell_type": "code",
      "execution_count": 34,
      "metadata": {
        "id": "1vRc129jQ5WW"
      },
      "outputs": [],
      "source": [
        "multi_query_retrieval_chain = (\n",
        "    {\"context\": itemgetter(\"question\") | multi_query_retriever, \"question\": itemgetter(\"question\")}\n",
        "    | RunnablePassthrough.assign(context=itemgetter(\"context\"))\n",
        "    | {\"response\": rag_prompt | chat_model, \"context\": itemgetter(\"context\")}\n",
        ")"
      ]
    },
    {
      "cell_type": "code",
      "execution_count": 35,
      "metadata": {
        "colab": {
          "base_uri": "https://localhost:8080/",
          "height": 53
        },
        "id": "CGgNuOb3Q3M9",
        "outputId": "c5273ecf-da35-40b8-fbdb-0f8beab425f7"
      },
      "outputs": [
        {
          "data": {
            "text/plain": [
              "'The most common issue with loans, based on the provided complaints, appears to be problems with how lenders or servicers handle borrower accounts. This includes errors or discrepancies in loan balances, interest calculations, and account statuses, as well as misapplication of payments, incorrect reporting to credit bureaus, and inadequate communication or lack of transparency about loan terms, transfer of servicing, or account updates. Many complaints highlight issues such as unauthorized interest accrual, mismanagement during loan transfers, errors in credit reporting, and poor communication regarding loan modifications or statuses.'"
            ]
          },
          "execution_count": 35,
          "metadata": {},
          "output_type": "execute_result"
        }
      ],
      "source": [
        "multi_query_retrieval_chain.invoke({\"question\" : \"What is the most common issue with loans?\"})[\"response\"].content"
      ]
    },
    {
      "cell_type": "code",
      "execution_count": 36,
      "metadata": {
        "colab": {
          "base_uri": "https://localhost:8080/",
          "height": 36
        },
        "id": "aAlSthxrRDBC",
        "outputId": "230ff807-23ae-4d25-8d11-cfdbed0b77cb"
      },
      "outputs": [
        {
          "data": {
            "text/plain": [
              "'Based on the provided complaints, yes, some complaints did not get handled in a timely manner. Several examples include:\\n\\n- A complaint regarding a student loan application that remained unprocessed for over 16 months without resolution or communication from the company.\\n- Multiple instances where consumers reported that their issues, such as disputes over credit reporting, loan discharges, or account errors, were not addressed promptly, with follow-ups indicating delays of over a year or more.\\n- A specific complaint highlighted that a complaint filed with the CFPB had not received a response after over 16 months.\\n- Another complaint noted a delay of nearly 18 months with no resolution despite multiple follow-ups.\\n\\nWhile some complaints were marked as \"timely response? Yes,\" the narratives suggest that many consumers experienced significant delays or lack of response over extended periods.'"
            ]
          },
          "execution_count": 36,
          "metadata": {},
          "output_type": "execute_result"
        }
      ],
      "source": [
        "multi_query_retrieval_chain.invoke({\"question\" : \"Did any complaints not get handled in a timely manner?\"})[\"response\"].content"
      ]
    },
    {
      "cell_type": "code",
      "execution_count": 37,
      "metadata": {
        "colab": {
          "base_uri": "https://localhost:8080/",
          "height": 88
        },
        "id": "Uv1mpCK8REs4",
        "outputId": "00fbc22a-ed9b-4613-9695-0b179e3f8369"
      },
      "outputs": [
        {
          "data": {
            "text/plain": [
              "\"People failed to pay back their loans primarily due to a combination of systemic issues and servicing practices, including:\\n\\n1. **Misleading or Bad Information from Servicers:** Some borrowers were not properly informed about payment schedules, delinquency status, or available repayment options such as income-driven plans or rehabilitation. They relied on servicers' guidance, which often led to unfavorable outcomes like long-term forbearances or improper consolidations, resulting in increased balances and interest.\\n\\n2. **Forbearance Steering and Lack of Alternatives:** Borrowers reported being repeatedly placed into forbearance without adequate notification or explanation of the consequences, such as interest capitalization and reset of forgiveness timelines. When forbearances expired, they faced pressure to consolidate into larger loans or make unaffordable payments, often under false urgency, which contributed to default or financial hardship.\\n\\n3. **Errors and Inaccurate Information:** There are instances of incorrect loan reporting, missing or inconsistent payment histories, and inadequate communication about loan status, which caused confusion and unintentional default.\\n\\n4. **Servicing Failures and Lack of Documentation:** Systemic failures in record-keeping and communication meant borrowers couldn't access accurate information about their loans, further complicating repayment efforts.\\n\\n5. **Predatory and Coercive Practices:** Several complaints highlight practices like mismanagement, over-accumulation of interest, and undue pressure to consolidate or pay unaffordable amounts, which discouraged repayment or led to default.\\n\\nIn summary, these systemic issues, coupled with inadequate borrower education and deceptive servicing practices, have been significant factors why people failed to pay back their loans.\""
            ]
          },
          "execution_count": 37,
          "metadata": {},
          "output_type": "execute_result"
        }
      ],
      "source": [
        "multi_query_retrieval_chain.invoke({\"question\" : \"Why did people fail to pay back their loans?\"})[\"response\"].content"
      ]
    },
    {
      "cell_type": "code",
      "execution_count": 38,
      "metadata": {},
      "outputs": [
        {
          "name": "stdout",
          "output_type": "stream",
          "text": [
            "🔁 Reformulated Queries:\n",
            "- What are the leading problems borrowers face with loans?  \n",
            "- Which issues are most frequently encountered in loan agreements?  \n",
            "- What are the primary challenges associated with obtaining or managing loans?\n"
          ]
        }
      ],
      "source": [
        "from langchain_core.callbacks import CallbackManagerForRetrieverRun\n",
        "\n",
        "# You must pass a dummy run manager\n",
        "run_manager = CallbackManagerForRetrieverRun.get_noop_manager()\n",
        "\n",
        "query = \"What is the most common issue with loans?\"\n",
        "reformulated_queries = multi_query_retriever.generate_queries(query, run_manager)\n",
        "\n",
        "print(\"🔁 Reformulated Queries:\")\n",
        "for q in reformulated_queries:\n",
        "    print(\"-\", q)"
      ]
    },
    {
      "cell_type": "code",
      "execution_count": 39,
      "metadata": {},
      "outputs": [
        {
          "name": "stdout",
          "output_type": "stream",
          "text": [
            "🔁 Reformulated Queries:\n",
            "- 1. What are the typical problems borrowers face with loans?  \n",
            "- 2. Which issues tend to occur most frequently during the loan repayment process?  \n",
            "- 3. What are the main challenges or complications commonly associated with loans?\n"
          ]
        }
      ],
      "source": [
        "from langchain_core.callbacks import CallbackManagerForRetrieverRun\n",
        "\n",
        "# You must pass a dummy run manager\n",
        "run_manager = CallbackManagerForRetrieverRun.get_noop_manager()\n",
        "\n",
        "query = \"What is the most common issue with loans?\"\n",
        "reformulated_queries = multi_query_retriever.generate_queries(query, run_manager)\n",
        "\n",
        "print(\"🔁 Reformulated Queries:\")\n",
        "for q in reformulated_queries:\n",
        "    print(\"-\", q)"
      ]
    },
    {
      "cell_type": "markdown",
      "metadata": {},
      "source": [
        "#### ❓ Question #2:\n",
        "\n",
        "Explain how generating multiple reformulations of a user query can improve recall.\n",
        "\n",
        "##### ✅ Answer:\n",
        "\n",
        "Generating multiple reformulations of a user query can improve **recall** by increasing the likelihood of retrieving all relevant documents, even if they use different wording or phrasing than the original query.\n",
        "\n",
        "Here’s how it helps:\n",
        "\n",
        "1. **Overcomes vocabulary mismatch**  \n",
        "   Reformulations can use synonyms or alternative expressions, helping the retriever match documents that might not share exact words with the original query.\n",
        "\n",
        "2. **Expands semantic coverage**  \n",
        "   Each reformulated query may emphasize a different aspect of the original intent, allowing the retriever to surface diverse but relevant content.\n",
        "\n",
        "3. **Mitigates retriever sensitivity to phrasing**  \n",
        "   Embedding-based or sparse retrieval models often perform inconsistently when queries are phrased differently. Multiple reformulations reduce the risk of missing relevant results due to one poorly-phrased query.\n",
        "\n",
        "4. **Aggregates broader evidence**  \n",
        "   By combining documents retrieved from all reformulations, the system builds a more comprehensive context pool for answering the original question.\n",
        "\n",
        "✅ As a result, the multi-query approach improves the **robustness and completeness** of Retrieval-Augmented Generation (RAG) systems by reducing missed relevant content.\n"
      ]
    },
    {
      "cell_type": "markdown",
      "metadata": {
        "id": "EDEawBf_d_3G"
      },
      "source": [
        "## Task 8: Parent Document Retriever\n",
        "\n",
        "A \"small-to-big\" strategy - the Parent Document Retriever works based on a simple strategy:\n",
        "\n",
        "1. Each un-split \"document\" will be designated as a \"parent document\" (You could use larger chunks of document as well, but our data format allows us to consider the overall document as the parent chunk)\n",
        "2. Store those \"parent documents\" in a memory store (not a VectorStore)\n",
        "3. We will chunk each of those documents into smaller documents, and associate them with their respective parents, and store those in a VectorStore. We'll call those \"child chunks\".\n",
        "4. When we query our Retriever, we will do a similarity search comparing our query vector to the \"child chunks\".\n",
        "5. Instead of returning the \"child chunks\", we'll return their associated \"parent chunks\".\n",
        "\n",
        "Okay, maybe that was a few steps - but the basic idea is this:\n",
        "\n",
        "- Search for small documents\n",
        "- Return big documents\n",
        "\n",
        "The intuition is that we're likely to find the most relevant information by limiting the amount of semantic information that is encoded in each embedding vector - but we're likely to miss relevant surrounding context if we only use that information.\n",
        "\n",
        "Let's start by creating our \"parent documents\" and defining a `RecursiveCharacterTextSplitter`."
      ]
    },
    {
      "cell_type": "code",
      "execution_count": 40,
      "metadata": {
        "id": "qJ53JJuMd_ZH"
      },
      "outputs": [],
      "source": [
        "from langchain.retrievers import ParentDocumentRetriever\n",
        "from langchain.storage import InMemoryStore\n",
        "from langchain_text_splitters import RecursiveCharacterTextSplitter\n",
        "from qdrant_client import QdrantClient, models\n",
        "\n",
        "parent_docs = loan_complaint_data\n",
        "child_splitter = RecursiveCharacterTextSplitter(chunk_size=750)"
      ]
    },
    {
      "cell_type": "markdown",
      "metadata": {
        "id": "oOpXfVUH3gL3"
      },
      "source": [
        "We'll need to set up a new QDrant vectorstore - and we'll use another useful pattern to do so!\n",
        "\n",
        "> NOTE: We are manually defining our embedding dimension, you'll need to change this if you're using a different embedding model."
      ]
    },
    {
      "cell_type": "code",
      "execution_count": 41,
      "metadata": {
        "colab": {
          "base_uri": "https://localhost:8080/"
        },
        "id": "rzFc-_9HlGQ-",
        "outputId": "223662dd-c36f-42f7-d1b0-b086e571484e"
      },
      "outputs": [],
      "source": [
        "from langchain_qdrant import QdrantVectorStore\n",
        "\n",
        "client = QdrantClient(location=\":memory:\")\n",
        "\n",
        "client.create_collection(\n",
        "    collection_name=\"full_documents\",\n",
        "    vectors_config=models.VectorParams(size=1536, distance=models.Distance.COSINE)\n",
        ")\n",
        "\n",
        "parent_document_vectorstore = QdrantVectorStore(\n",
        "    collection_name=\"full_documents\", embedding=OpenAIEmbeddings(model=\"text-embedding-3-small\"), client=client\n",
        ")"
      ]
    },
    {
      "cell_type": "markdown",
      "metadata": {
        "id": "sf_g95FA3s6w"
      },
      "source": [
        "Now we can create our `InMemoryStore` that will hold our \"parent documents\" - and build our retriever!"
      ]
    },
    {
      "cell_type": "code",
      "execution_count": 42,
      "metadata": {
        "id": "BpWVjPf4fLUp"
      },
      "outputs": [],
      "source": [
        "store = InMemoryStore()\n",
        "\n",
        "parent_document_retriever = ParentDocumentRetriever(\n",
        "    vectorstore = parent_document_vectorstore,\n",
        "    docstore=store,\n",
        "    child_splitter=child_splitter,\n",
        ")"
      ]
    },
    {
      "cell_type": "markdown",
      "metadata": {
        "id": "KoYmSWfE32Zo"
      },
      "source": [
        "By default, this is empty as we haven't added any documents - let's add some now!"
      ]
    },
    {
      "cell_type": "code",
      "execution_count": 43,
      "metadata": {
        "id": "iQ2ZzfKigMZc"
      },
      "outputs": [],
      "source": [
        "parent_document_retriever.add_documents(parent_docs, ids=None)"
      ]
    },
    {
      "cell_type": "markdown",
      "metadata": {
        "id": "bI7Tip1335rE"
      },
      "source": [
        "We'll create the same chain we did before - but substitute our new `parent_document_retriever`."
      ]
    },
    {
      "cell_type": "code",
      "execution_count": 44,
      "metadata": {
        "id": "Qq_adt2KlSqp"
      },
      "outputs": [],
      "source": [
        "parent_document_retrieval_chain = (\n",
        "    {\"context\": itemgetter(\"question\") | parent_document_retriever, \"question\": itemgetter(\"question\")}\n",
        "    | RunnablePassthrough.assign(context=itemgetter(\"context\"))\n",
        "    | {\"response\": rag_prompt | chat_model, \"context\": itemgetter(\"context\")}\n",
        ")"
      ]
    },
    {
      "cell_type": "markdown",
      "metadata": {
        "id": "jNolUVQb4Apt"
      },
      "source": [
        "Let's give it a whirl!"
      ]
    },
    {
      "cell_type": "code",
      "execution_count": 45,
      "metadata": {
        "colab": {
          "base_uri": "https://localhost:8080/",
          "height": 70
        },
        "id": "TXB5i89Zly5W",
        "outputId": "94c240be-7c5b-4c58-9eee-56d93285a054"
      },
      "outputs": [
        {
          "data": {
            "text/plain": [
              "'The most common issue with loans, based on the provided complaints, appears to be problems related to federal student loan servicing. These include errors in loan balances, misapplied payments, wrongful denials of payment plans, and issues with loan account management such as incorrect information on credit reports, disputes over interest rates, and problems caused by loan transfers and servicing practices. There are multiple complaints highlighting systemic breakdowns, misreporting, and disputes over terms and account status.'"
            ]
          },
          "execution_count": 45,
          "metadata": {},
          "output_type": "execute_result"
        }
      ],
      "source": [
        "parent_document_retrieval_chain.invoke({\"question\" : \"What is the most common issue with loans?\"})[\"response\"].content"
      ]
    },
    {
      "cell_type": "code",
      "execution_count": 46,
      "metadata": {
        "colab": {
          "base_uri": "https://localhost:8080/",
          "height": 36
        },
        "id": "V5F1T-wNl3cg",
        "outputId": "9b81e72e-5db7-4b8a-b25b-400ea0df5335"
      },
      "outputs": [
        {
          "data": {
            "text/plain": [
              "'Based on the provided information, all the complaints that are explicitly marked as \"Timely response?\" with \"No\" indicate that they were not handled in a timely manner. Specifically, at least two complaints involving Mohela (Complaint IDs: 12709087 and 12935889) mention that they did not receive a response within the expected timeframe. These complaints had delayed responses, with the complaint at row 441 (Complaint ID: 12709087) explicitly stating \"Timely response?\":\"No\".\\n\\nTherefore, yes, some complaints did not get handled in a timely manner.'"
            ]
          },
          "execution_count": 46,
          "metadata": {},
          "output_type": "execute_result"
        }
      ],
      "source": [
        "parent_document_retrieval_chain.invoke({\"question\" : \"Did any complaints not get handled in a timely manner?\"})[\"response\"].content"
      ]
    },
    {
      "cell_type": "code",
      "execution_count": 47,
      "metadata": {
        "colab": {
          "base_uri": "https://localhost:8080/",
          "height": 70
        },
        "id": "ZqARszGzvGcG",
        "outputId": "8867f83c-db13-4db4-d57f-9bd51d32cd8a"
      },
      "outputs": [
        {
          "data": {
            "text/plain": [
              "'People often failed to pay back their loans due to a variety of circumstances, including financial hardship, lack of proper information or transparency about their loans, and issues related to loan management. For example, some individuals experienced severe financial difficulties after graduation, making it difficult or impossible to make payments. Others faced problems with their loan servicers, such as being unaware of when payments were due, not being properly informed about changes in loan ownership, or encountering administrative errors like incorrect reporting or failure to notify them about payment obligations. Additionally, some borrowers were misled by educational institutions, leading to taking on loans they were unprepared to repay, especially when the quality of education or employment prospects did not meet expectations.'"
            ]
          },
          "execution_count": 47,
          "metadata": {},
          "output_type": "execute_result"
        }
      ],
      "source": [
        "parent_document_retrieval_chain.invoke({\"question\" : \"Why did people fail to pay back their loans?\"})[\"response\"].content"
      ]
    },
    {
      "cell_type": "markdown",
      "metadata": {
        "id": "B41cj42s4DPM"
      },
      "source": [
        "Overall, the performance *seems* largely the same. We can leverage a tool like [Ragas]() to more effectively answer the question about the performance."
      ]
    },
    {
      "cell_type": "markdown",
      "metadata": {
        "id": "VUrIBKl_TwS9"
      },
      "source": [
        "## Task 9: Ensemble Retriever\n",
        "\n",
        "In brief, an Ensemble Retriever simply takes 2, or more, retrievers and combines their retrieved documents based on a rank-fusion algorithm.\n",
        "\n",
        "In this case - we're using the [Reciprocal Rank Fusion](https://plg.uwaterloo.ca/~gvcormac/cormacksigir09-rrf.pdf) algorithm.\n",
        "\n",
        "Setting it up is as easy as providing a list of our desired retrievers - and the weights for each retriever."
      ]
    },
    {
      "cell_type": "code",
      "execution_count": 48,
      "metadata": {
        "id": "8j7jpZsKTxic"
      },
      "outputs": [],
      "source": [
        "from langchain.retrievers import EnsembleRetriever\n",
        "\n",
        "retriever_list = [bm25_retriever, naive_retriever, parent_document_retriever, compression_retriever, multi_query_retriever]\n",
        "equal_weighting = [1/len(retriever_list)] * len(retriever_list)\n",
        "\n",
        "ensemble_retriever = EnsembleRetriever(\n",
        "    retrievers=retriever_list, weights=equal_weighting\n",
        ")"
      ]
    },
    {
      "cell_type": "markdown",
      "metadata": {
        "id": "kpo9Psl5hhJ-"
      },
      "source": [
        "We'll pack *all* of these retrievers together in an ensemble."
      ]
    },
    {
      "cell_type": "code",
      "execution_count": 49,
      "metadata": {
        "id": "KZ__EZwpUKkd"
      },
      "outputs": [],
      "source": [
        "ensemble_retrieval_chain = (\n",
        "    {\"context\": itemgetter(\"question\") | ensemble_retriever, \"question\": itemgetter(\"question\")}\n",
        "    | RunnablePassthrough.assign(context=itemgetter(\"context\"))\n",
        "    | {\"response\": rag_prompt | chat_model, \"context\": itemgetter(\"context\")}\n",
        ")"
      ]
    },
    {
      "cell_type": "markdown",
      "metadata": {
        "id": "SSsvHpRMj24L"
      },
      "source": [
        "Let's look at our results!"
      ]
    },
    {
      "cell_type": "code",
      "execution_count": 50,
      "metadata": {
        "colab": {
          "base_uri": "https://localhost:8080/",
          "height": 70
        },
        "id": "0lMvqL88UQI-",
        "outputId": "d86dd5f7-0a13-4836-c0ce-cc4c431fd889"
      },
      "outputs": [
        {
          "data": {
            "text/plain": [
              "'The most common issue with loans, based on the provided complaints, appears to be mismanagement and misinformation by loan servicers. Specific recurring problems include:\\n\\n- Errors and inaccuracies in loan balances and interest calculations.\\n- Failure to properly notify borrowers about changes such as loan transfers, repayments, or default status.\\n- Inability to obtain clear or correct information about loan terms, balances, and repayment options.\\n- Issues related to improper handling of deferments, forbearances, and repayment plans.\\n- Unclear or incorrect reporting on credit reports, leading to negative impacts on credit scores.\\n- Problems with loan forgiveness, cancellation, or discharge processes.\\n- Unresponsive or unhelpful customer service providing vague or misleading information.\\n- Unauthorized or unnotified changes to loan status and increased interest due to mismanagement.\\n\\nOverall, the pattern indicates that a core issue is the mishandling of loan data and communication, causing confusion, financial hardship, and credit reporting errors for borrowers.'"
            ]
          },
          "execution_count": 50,
          "metadata": {},
          "output_type": "execute_result"
        }
      ],
      "source": [
        "ensemble_retrieval_chain.invoke({\"question\" : \"What is the most common issue with loans?\"})[\"response\"].content"
      ]
    },
    {
      "cell_type": "code",
      "execution_count": 51,
      "metadata": {
        "colab": {
          "base_uri": "https://localhost:8080/",
          "height": 53
        },
        "id": "MNFWLYECURI1",
        "outputId": "b17973b5-66a9-4481-97d5-880b5754b5c5"
      },
      "outputs": [
        {
          "data": {
            "text/plain": [
              "'Based on the provided complaints, yes, some complaints were not handled in a timely manner. Specifically, there are multiple instances where responses from the companies were late or delayed beyond the expected timeframes. For example:\\n\\n- Complaint ID 12709087 (submitted 03/28/25): The response was marked as \"N/A\" (disputed or not responded to) and \"Dispute? N/A,\" indicating it was not addressed timely.\\n- Complaint ID 12935889 (submitted 04/11/25): Response was \"No\" for timely response.\\n- Complaint ID 13056764 (submitted 04/18/25): The response was marked \"Yes\" for responsiveness, but the complaint details indicate prior delays.\\n- Complaint ID 13205525 (submitted 04/27/25): Response was \"Yes\" for timely response, but the complainant states ongoing unresolved issues.\\n\\nOverall, there is evidence that some complaints, especially regarding inconsistent or delayed responses, were not handled promptly.'"
            ]
          },
          "execution_count": 51,
          "metadata": {},
          "output_type": "execute_result"
        }
      ],
      "source": [
        "ensemble_retrieval_chain.invoke({\"question\" : \"Did any complaints not get handled in a timely manner?\"})[\"response\"].content"
      ]
    },
    {
      "cell_type": "code",
      "execution_count": 52,
      "metadata": {
        "colab": {
          "base_uri": "https://localhost:8080/",
          "height": 88
        },
        "id": "A7qbHfWgUR4c",
        "outputId": "f7373144-59ef-4fc7-b75d-ca00e7df881e"
      },
      "outputs": [
        {
          "data": {
            "text/plain": [
              "\"People failed to pay back their loans for several reasons, including:\\n\\n1. **Lack of communication and notification:** Many borrowers were not properly notified about when payments were due, changes in loan servicing, or account status updates, leading to missed payments and delinquency.\\n\\n2. **Complex or mismanaged loan information:** Borrowers faced confusion due to inconsistent or incorrect account balances, mismatched numbers, and lack of clear documentation about their loans, interest, and repayment status.\\n\\n3. **Limited or unhelpful repayment options:** Borrowers were often only offered forbearance or deferment without adequate explanations of the long-term consequences, such as interest accumulation, which increased the total amount owed.\\n\\n4. **Unfair or predatory servicing practices:** Servicers steered borrowers into long-term forbearances, failed to inform them about income-driven repayment plans or forgiveness options, and improperly reported delinquencies or late payments.\\n\\n5. **Technical or administrative errors:** Mistakes by servicers in reporting account status, applying payments correctly, or updating account information led to increased debt and credit score impacts.\\n\\n6. **Financial hardships and mismanagement:** Borrowers faced hardships such as unemployment, health issues, or lack of information, making it difficult to keep up with payments. Some also experienced predatory lending practices at the time of loan origination.\\n\\n7. **Inadequate support and assistance:** Many borrowers reported difficulty reaching representatives or receiving helpful guidance, which worsened their repayment difficulties.\\n\\nIn summary, failure to pay back loans was often tied to poor communication, mismanagement, limited support, and unfair practices by loan servicers, combined with borrowers' financial hardships and lack of proper information about repayment options.\""
            ]
          },
          "execution_count": 52,
          "metadata": {},
          "output_type": "execute_result"
        }
      ],
      "source": [
        "ensemble_retrieval_chain.invoke({\"question\" : \"Why did people fail to pay back their loans?\"})[\"response\"].content"
      ]
    },
    {
      "cell_type": "markdown",
      "metadata": {
        "id": "MopbkNJAXVaN"
      },
      "source": [
        "## Task 10: Semantic Chunking\n",
        "\n",
        "While this is not a retrieval method - it *is* an effective way of increasing retrieval performance on corpora that have clean semantic breaks in them.\n",
        "\n",
        "Essentially, Semantic Chunking is implemented by:\n",
        "\n",
        "1. Embedding all sentences in the corpus.\n",
        "2. Combining or splitting sequences of sentences based on their semantic similarity based on a number of [possible thresholding methods](https://python.langchain.com/docs/how_to/semantic-chunker/):\n",
        "  - `percentile`\n",
        "  - `standard_deviation`\n",
        "  - `interquartile`\n",
        "  - `gradient`\n",
        "3. Each sequence of related sentences is kept as a document!\n",
        "\n",
        "Let's see how to implement this!"
      ]
    },
    {
      "cell_type": "markdown",
      "metadata": {
        "id": "U9ciZbFEldv_"
      },
      "source": [
        "We'll use the `percentile` thresholding method for this example which will:\n",
        "\n",
        "Calculate all distances between sentences, and then break apart sequences of setences that exceed a given percentile among all distances."
      ]
    },
    {
      "cell_type": "code",
      "execution_count": 53,
      "metadata": {
        "id": "66EIEWiEYl5y"
      },
      "outputs": [],
      "source": [
        "from langchain_experimental.text_splitter import SemanticChunker\n",
        "\n",
        "semantic_chunker = SemanticChunker(\n",
        "    embeddings,\n",
        "    breakpoint_threshold_type=\"percentile\"\n",
        ")"
      ]
    },
    {
      "cell_type": "markdown",
      "metadata": {
        "id": "YqoKmz12mhRW"
      },
      "source": [
        "Now we can split our documents."
      ]
    },
    {
      "cell_type": "code",
      "execution_count": 54,
      "metadata": {
        "id": "ROcV7o68ZIq7"
      },
      "outputs": [],
      "source": [
        "semantic_documents = semantic_chunker.split_documents(loan_complaint_data[:20])"
      ]
    },
    {
      "cell_type": "markdown",
      "metadata": {
        "id": "L8-LNC-Xmjex"
      },
      "source": [
        "Let's create a new vector store."
      ]
    },
    {
      "cell_type": "code",
      "execution_count": 55,
      "metadata": {
        "id": "h3sl9QjyZhIe"
      },
      "outputs": [],
      "source": [
        "semantic_vectorstore = Qdrant.from_documents(\n",
        "    semantic_documents,\n",
        "    embeddings,\n",
        "    location=\":memory:\",\n",
        "    collection_name=\"Loan_Complaint_Data_Semantic_Chunks\"\n",
        ")"
      ]
    },
    {
      "cell_type": "markdown",
      "metadata": {
        "id": "Eh_r_-LHmmKn"
      },
      "source": [
        "We'll use naive retrieval for this example."
      ]
    },
    {
      "cell_type": "code",
      "execution_count": 56,
      "metadata": {
        "id": "odVyDUHwZftc"
      },
      "outputs": [],
      "source": [
        "semantic_retriever = semantic_vectorstore.as_retriever(search_kwargs={\"k\" : 10})"
      ]
    },
    {
      "cell_type": "markdown",
      "metadata": {
        "id": "Mkeiv_ojmp6G"
      },
      "source": [
        "Finally we can create our classic chain!"
      ]
    },
    {
      "cell_type": "code",
      "execution_count": 57,
      "metadata": {
        "id": "xWE_0J0mZveG"
      },
      "outputs": [],
      "source": [
        "semantic_retrieval_chain = (\n",
        "    {\"context\": itemgetter(\"question\") | semantic_retriever, \"question\": itemgetter(\"question\")}\n",
        "    | RunnablePassthrough.assign(context=itemgetter(\"context\"))\n",
        "    | {\"response\": rag_prompt | chat_model, \"context\": itemgetter(\"context\")}\n",
        ")"
      ]
    },
    {
      "cell_type": "markdown",
      "metadata": {
        "id": "R5pfjLQ3ms9_"
      },
      "source": [
        "And view the results!"
      ]
    },
    {
      "cell_type": "code",
      "execution_count": 58,
      "metadata": {
        "colab": {
          "base_uri": "https://localhost:8080/",
          "height": 70
        },
        "id": "0lN2j-e4Z0SD",
        "outputId": "ef483e21-7200-4dfc-b8bf-aed4f23587b2"
      },
      "outputs": [
        {
          "data": {
            "text/plain": [
              "'Based on the provided complaints, the most common issue with loans appears to be problems related to loan servicing and communication. Many complaints highlight issues such as:\\n\\n- Struggling to repay or confusion about payment plans and amounts\\n- Lack of transparency and miscommunication from servicers\\n- Problems with loan account information being inaccurate, default statuses, or improper reporting\\n- Difficulties in obtaining proper verification or documentation\\n- Unauthorized or improper reporting of debt or account status\\n\\nWhile the specific \"most common issue\" isn\\'t explicitly quantified in the data, the recurring themes suggest that the most frequent problem involves **mismanagement and miscommunication by loan servicers, leading to confusion, incorrect account statuses, and difficulties in repayment efforts**.  \\n\\nIf you need a more precise answer, I would say:  \\n**The most common issue with loans is mismanagement by servicers, including inaccurate reporting, poor communication, and issues with repayment plans or account statuses.**  \\n\\nI hope this helps!'"
            ]
          },
          "execution_count": 58,
          "metadata": {},
          "output_type": "execute_result"
        }
      ],
      "source": [
        "semantic_retrieval_chain.invoke({\"question\" : \"What is the most common issue with loans?\"})[\"response\"].content"
      ]
    },
    {
      "cell_type": "code",
      "execution_count": 59,
      "metadata": {
        "colab": {
          "base_uri": "https://localhost:8080/",
          "height": 53
        },
        "id": "xdqfBH1SZ3f9",
        "outputId": "ed62b2d1-7586-46cc-aaf4-c54192a56155"
      },
      "outputs": [
        {
          "data": {
            "text/plain": [
              "'Yes, several complaints in the provided data indicate that they were handled in a timely manner, with responses marked as \"Yes\" under the \"Timely response?\" field. However, the complaint about \"Received bad information about your loan\" (Complaint ID: 13331376) involving Nelnet, Inc. was closed with an explanation, which suggests that their issue was addressed, although the details of whether it was resolved to the complainant\\'s satisfaction are not specified.\\n\\nMost other complaints, such as those regarding trouble with payments, disputes about account information, or issues with service, also received timely responses. Since the context does not explicitly mention any complaints that were not handled in time, the available data suggests that, according to the records, all complaints were responded to promptly.\\n\\nIf the question pertains to whether any complaints were left unresolved or delayed beyond a reasonable period, the records do not indicate such a case. Therefore, based on the provided information, **no complaints are explicitly noted as not being handled in a timely manner**.'"
            ]
          },
          "execution_count": 59,
          "metadata": {},
          "output_type": "execute_result"
        }
      ],
      "source": [
        "semantic_retrieval_chain.invoke({\"question\" : \"Did any complaints not get handled in a timely manner?\"})[\"response\"].content"
      ]
    },
    {
      "cell_type": "code",
      "execution_count": 60,
      "metadata": {
        "colab": {
          "base_uri": "https://localhost:8080/",
          "height": 70
        },
        "id": "rAcAObZnZ4o6",
        "outputId": "3f1cade3-41e4-4e42-ef71-048dd18e5e3a"
      },
      "outputs": [
        {
          "data": {
            "text/plain": [
              "\"People failed to pay back their loans for various reasons, including:\\n\\n- Receiving bad or unclear information about their loans, such as being told they are in forbearance until a future date without written confirmation.\\n- Difficulties with loan servicing processes, such as delays, miscommunication, or alleged stalling tactics by lenders or servicers.\\n- Problems with the loan documentation or paperwork, which can lead to rejection or delays in loan forgiveness or discharge processes.\\n- Disputes over the legitimacy or status of the loans, including claims that loans are illegally reported, or that they have been transferred or mishandled improperly.\\n- Financial hardships or misunderstandings about payment obligations, especially after changes like the end of COVID-19 forbearance or re-amortization issues.\\n- Errors or misreporting of loan status, which can negatively impact credit scores and result in default status being assigned mistakenly.\\n- In some cases, legal or privacy issues, breaches, or alleged misconduct by the loan servicers or the Department of Education, which can complicate repayment and lead to default.\\n\\nOverall, inadequate communication, administrative errors, misinformation, and external complications seem to contribute significantly to borrowers' inability to fulfill their repayment obligations.\""
            ]
          },
          "execution_count": 60,
          "metadata": {},
          "output_type": "execute_result"
        }
      ],
      "source": [
        "semantic_retrieval_chain.invoke({\"question\" : \"Why did people fail to pay back their loans?\"})[\"response\"].content"
      ]
    },
    {
      "cell_type": "markdown",
      "metadata": {},
      "source": [
        "#### ❓ Question #3:\n",
        "\n",
        "If sentences are short and highly repetitive (e.g., FAQs), how might semantic chunking behave, and how would you adjust the algorithm?\n",
        "\n",
        "##### ✅ Answer:\n",
        "\n",
        "Semantic chunking, which groups text based on meaning rather than arbitrary length, may behave suboptimally with short and repetitive sentences (as in FAQs) due to the following:\n",
        "\n",
        "- **Over-segmentation:** Each FAQ entry may be treated as its own standalone semantic unit, resulting in too many small chunks.\n",
        "- **Redundancy:** The high degree of repetition (e.g., similar questions phrased slightly differently) can confuse clustering or embedding models, reducing retrieval quality.\n",
        "- **Context loss:** Since each chunk is short, meaningful context may be lost, making it harder for the retriever to disambiguate similar queries.\n",
        "\n",
        "##### 🔧 Suggested Adjustments:\n",
        "\n",
        "1. **Concatenate Related Sentences:** Manually or heuristically group FAQs with similar themes into larger composite chunks before embedding.\n",
        "2. **Use Metadata:** Attach question IDs, tags, or categories to enrich semantic meaning and aid disambiguation.\n",
        "3. **Adjust Chunking Parameters:** Lower the sensitivity of semantic boundaries or increase the minimum chunk size.\n",
        "4. **Apply Deduplication or Clustering:** Use semantic similarity (e.g., cosine similarity) to merge or group near-duplicate FAQs prior to chunking.\n",
        "5. **Hybrid Approach:** Combine semantic chunking with a rule-based or sliding window technique to ensure minimum context length.\n",
        "\n",
        "These strategies help mitigate fragmentation and enhance recall by ensuring more informative and discriminative chunks.\n"
      ]
    },
    {
      "cell_type": "markdown",
      "metadata": {
        "id": "xk2n3-pnVWDJ"
      },
      "source": [
        "# 🤝 Breakout Room Part #2"
      ]
    },
    {
      "cell_type": "markdown",
      "metadata": {
        "id": "2SkJLYwMVZkj"
      },
      "source": [
        "#### 🏗️ Activity #1\n",
        "\n",
        "Your task is to evaluate the various Retriever methods against eachother.\n",
        "\n",
        "You are expected to:\n",
        "\n",
        "1. Create a \"golden dataset\"\n",
        " - Use Synthetic Data Generation (powered by Ragas, or otherwise) to create this dataset\n",
        "2. Evaluate each retriever with *retriever specific* Ragas metrics\n",
        " - Semantic Chunking is not considered a retriever method and will not be required for marks, but you may find it useful to do a \"semantic chunking on\" vs. \"semantic chunking off\" comparision between them\n",
        "3. Compile these in a list and write a small paragraph about which is best for this particular data and why.\n",
        "\n",
        "Your analysis should factor in:\n",
        "  - Cost\n",
        "  - Latency\n",
        "  - Performance\n",
        "\n",
        "  ##### HINTS:\n",
        "\n",
        "- LangSmith provides detailed information about latency and cost.\n",
        "\n",
        "> NOTE: This is **NOT** required to be completed in class. Please spend time in your breakout rooms creating a plan before moving on to writing code."
      ]
    },
    {
      "cell_type": "markdown",
      "metadata": {
        "id": "TWAr16a5XMub"
      },
      "source": []
    },
    {
      "cell_type": "code",
      "execution_count": 61,
      "metadata": {
        "id": "tgDICngKXLGK"
      },
      "outputs": [],
      "source": [
        "### YOUR CODE HERE\n",
        "os.environ[\"LANGCHAIN_TRACING_V2\"] = \"true\"\n",
        "os.environ[\"LANGCHAIN_PROJECT\"] = f\"Session 09 - Advanced Retrieval\"\n",
        "os.environ[\"LANGCHAIN_API_KEY\"] = getpass.getpass(\"LangSmith API Key: \")"
      ]
    },
    {
      "cell_type": "code",
      "execution_count": 103,
      "metadata": {},
      "outputs": [
        {
          "name": "stdout",
          "output_type": "stream",
          "text": [
            "Generating synthetic dataset...\n"
          ]
        },
        {
          "data": {
            "application/vnd.jupyter.widget-view+json": {
              "model_id": "fbd5d9bc89d4486fa60857072e6cd416",
              "version_major": 2,
              "version_minor": 0
            },
            "text/plain": [
              "Applying SummaryExtractor:   0%|          | 0/31 [00:00<?, ?it/s]"
            ]
          },
          "metadata": {},
          "output_type": "display_data"
        },
        {
          "data": {
            "application/vnd.jupyter.widget-view+json": {
              "model_id": "ffe3be6466e941a2b12312062ca800d0",
              "version_major": 2,
              "version_minor": 0
            },
            "text/plain": [
              "Applying CustomNodeFilter:   0%|          | 0/50 [00:00<?, ?it/s]"
            ]
          },
          "metadata": {},
          "output_type": "display_data"
        },
        {
          "name": "stderr",
          "output_type": "stream",
          "text": [
            "Node 054e7961-1b3d-448b-bbcd-2568a475c7de does not have a summary. Skipping filtering.\n",
            "Node 5df2fecb-31a9-4e4c-8aab-a2f372788b9c does not have a summary. Skipping filtering.\n",
            "Node 9072337c-cac8-4b96-a09e-517f749fade3 does not have a summary. Skipping filtering.\n",
            "Node 353ab4e2-4835-49b7-acd6-6470d7d53ede does not have a summary. Skipping filtering.\n",
            "Node 35fb8ec3-3b67-48f9-97e2-03d359f3b397 does not have a summary. Skipping filtering.\n",
            "Node 15f3a024-d455-4c4a-a106-51968f9c4021 does not have a summary. Skipping filtering.\n",
            "Node ab1a1371-5e2c-43dd-af5f-0e1a8b1ca8cc does not have a summary. Skipping filtering.\n",
            "Node d76f9cdc-32ae-4835-971e-de8feb1fe72d does not have a summary. Skipping filtering.\n",
            "Node 333ad8e2-afb1-4f32-9ac9-dd279d9854e1 does not have a summary. Skipping filtering.\n",
            "Node 783765cb-db2c-46fc-bd8e-2ba23a1330b7 does not have a summary. Skipping filtering.\n",
            "Node 7c2bbd43-386f-4408-819d-12b46a5bcf5b does not have a summary. Skipping filtering.\n",
            "Node cbf1b887-204b-4f20-a539-a6e80d8aac27 does not have a summary. Skipping filtering.\n",
            "Node 7e9f022a-f19b-42f7-b593-acdd56beb799 does not have a summary. Skipping filtering.\n",
            "Node a292fcde-dbdd-4c99-aeed-3ae7d9d56a91 does not have a summary. Skipping filtering.\n",
            "Node 3fff9244-2765-4ce4-b58f-49564212d918 does not have a summary. Skipping filtering.\n",
            "Node 5aaa3599-9bd9-4642-99b7-9f65c5a97db2 does not have a summary. Skipping filtering.\n",
            "Node a9bbaee5-7b89-4114-90c9-3dacfb46a84e does not have a summary. Skipping filtering.\n",
            "Node 65359dce-0066-4e35-8ef0-87b120b98f33 does not have a summary. Skipping filtering.\n",
            "Node ca9488b1-c829-4168-a110-5fc2b78623ec does not have a summary. Skipping filtering.\n"
          ]
        },
        {
          "data": {
            "application/vnd.jupyter.widget-view+json": {
              "model_id": "bfab0fbff28149b1bc05db71c7b1642d",
              "version_major": 2,
              "version_minor": 0
            },
            "text/plain": [
              "Applying [EmbeddingExtractor, ThemesExtractor, NERExtractor]:   0%|          | 0/131 [00:00<?, ?it/s]"
            ]
          },
          "metadata": {},
          "output_type": "display_data"
        },
        {
          "data": {
            "application/vnd.jupyter.widget-view+json": {
              "model_id": "0548b79a5fbb480fbb2f1de472de171a",
              "version_major": 2,
              "version_minor": 0
            },
            "text/plain": [
              "Applying [CosineSimilarityBuilder, OverlapScoreBuilder]:   0%|          | 0/2 [00:00<?, ?it/s]"
            ]
          },
          "metadata": {},
          "output_type": "display_data"
        },
        {
          "data": {
            "application/vnd.jupyter.widget-view+json": {
              "model_id": "2a2cf7e04e6c4a34b02d412514f5e9b7",
              "version_major": 2,
              "version_minor": 0
            },
            "text/plain": [
              "Generating personas:   0%|          | 0/3 [00:00<?, ?it/s]"
            ]
          },
          "metadata": {},
          "output_type": "display_data"
        },
        {
          "data": {
            "application/vnd.jupyter.widget-view+json": {
              "model_id": "4d277c9c33be408d9bc6a2352875a3b4",
              "version_major": 2,
              "version_minor": 0
            },
            "text/plain": [
              "Generating Scenarios:   0%|          | 0/3 [00:00<?, ?it/s]"
            ]
          },
          "metadata": {},
          "output_type": "display_data"
        },
        {
          "data": {
            "application/vnd.jupyter.widget-view+json": {
              "model_id": "6f47b4679ae0438abfd139e2b345dc4c",
              "version_major": 2,
              "version_minor": 0
            },
            "text/plain": [
              "Generating Samples:   0%|          | 0/11 [00:00<?, ?it/s]"
            ]
          },
          "metadata": {},
          "output_type": "display_data"
        },
        {
          "name": "stdout",
          "output_type": "stream",
          "text": [
            "💰 Tokens used: 111244 | Cost: $0.3606\n",
            "✅ Generated 11 synthetic test cases\n"
          ]
        },
        {
          "ename": "TypeError",
          "evalue": "'Testset' object is not subscriptable",
          "output_type": "error",
          "traceback": [
            "\u001b[31m---------------------------------------------------------------------------\u001b[39m",
            "\u001b[31mTypeError\u001b[39m                                 Traceback (most recent call last)",
            "\u001b[36mCell\u001b[39m\u001b[36m \u001b[39m\u001b[32mIn[103]\u001b[39m\u001b[32m, line 43\u001b[39m\n\u001b[32m     41\u001b[39m \u001b[38;5;66;03m# Preview\u001b[39;00m\n\u001b[32m     42\u001b[39m \u001b[38;5;28mprint\u001b[39m(\u001b[33mf\u001b[39m\u001b[33m\"\u001b[39m\u001b[33m✅ Generated \u001b[39m\u001b[38;5;132;01m{\u001b[39;00m\u001b[38;5;28mlen\u001b[39m(dataset)\u001b[38;5;132;01m}\u001b[39;00m\u001b[33m synthetic test cases\u001b[39m\u001b[33m\"\u001b[39m)\n\u001b[32m---> \u001b[39m\u001b[32m43\u001b[39m \u001b[38;5;28;01mfor\u001b[39;00m i, sample \u001b[38;5;129;01min\u001b[39;00m \u001b[38;5;28menumerate\u001b[39m(\u001b[43mdataset\u001b[49m\u001b[43m[\u001b[49m\u001b[43m:\u001b[49m\u001b[32;43m2\u001b[39;49m\u001b[43m]\u001b[49m):\n\u001b[32m     44\u001b[39m     \u001b[38;5;28mprint\u001b[39m(\u001b[33mf\u001b[39m\u001b[33m\"\u001b[39m\u001b[38;5;130;01m\\n\u001b[39;00m\u001b[33mSample \u001b[39m\u001b[38;5;132;01m{\u001b[39;00mi+\u001b[32m1\u001b[39m\u001b[38;5;132;01m}\u001b[39;00m\u001b[33m\"\u001b[39m)\n\u001b[32m     45\u001b[39m     \u001b[38;5;28mprint\u001b[39m(\u001b[33m\"\u001b[39m\u001b[33mQ:\u001b[39m\u001b[33m\"\u001b[39m, sample.user_input)\n",
            "\u001b[31mTypeError\u001b[39m: 'Testset' object is not subscriptable"
          ]
        }
      ],
      "source": [
        "import random\n",
        "import pandas as pd\n",
        "from langchain_openai import ChatOpenAI, OpenAIEmbeddings\n",
        "from ragas.llms import LangchainLLMWrapper\n",
        "from ragas.embeddings import LangchainEmbeddingsWrapper\n",
        "from ragas.testset import TestsetGenerator\n",
        "from ragas.testset.synthesizers import (\n",
        "    SingleHopSpecificQuerySynthesizer,\n",
        "    MultiHopAbstractQuerySynthesizer,\n",
        "    MultiHopSpecificQuerySynthesizer,\n",
        ")\n",
        "from langchain.callbacks import get_openai_callback\n",
        "\n",
        "# Reproducibility\n",
        "random.seed(42)\n",
        "\n",
        "# LLM + embedding setup\n",
        "generator_llm = LangchainLLMWrapper(ChatOpenAI(model=\"gpt-4o\", temperature=0.7))\n",
        "generator_embeddings = LangchainEmbeddingsWrapper(OpenAIEmbeddings(model=\"text-embedding-3-small\"))\n",
        "\n",
        "# Query types\n",
        "query_distribution = [\n",
        "    (SingleHopSpecificQuerySynthesizer(llm=generator_llm), 0.5),\n",
        "    (MultiHopAbstractQuerySynthesizer(llm=generator_llm), 0.25),\n",
        "    (MultiHopSpecificQuerySynthesizer(llm=generator_llm), 0.25),\n",
        "]\n",
        "\n",
        "# Generator init\n",
        "generator = TestsetGenerator(llm=generator_llm, embedding_model=generator_embeddings)\n",
        "\n",
        "# Generate\n",
        "print(\"Generating synthetic dataset...\")\n",
        "with get_openai_callback() as cb:\n",
        "    dataset = generator.generate_with_langchain_docs(\n",
        "        loan_complaint_data[:50],\n",
        "        testset_size=10,\n",
        "        query_distribution=query_distribution,\n",
        "    )\n",
        "    print(f\"💰 Tokens used: {cb.total_tokens} | Cost: ${cb.total_cost:.4f}\")\n",
        "\n"
      ]
    },
    {
      "cell_type": "code",
      "execution_count": 115,
      "metadata": {},
      "outputs": [
        {
          "data": {
            "text/html": [
              "<div>\n",
              "<style scoped>\n",
              "    .dataframe tbody tr th:only-of-type {\n",
              "        vertical-align: middle;\n",
              "    }\n",
              "\n",
              "    .dataframe tbody tr th {\n",
              "        vertical-align: top;\n",
              "    }\n",
              "\n",
              "    .dataframe thead th {\n",
              "        text-align: right;\n",
              "    }\n",
              "</style>\n",
              "<table border=\"1\" class=\"dataframe\">\n",
              "  <thead>\n",
              "    <tr style=\"text-align: right;\">\n",
              "      <th></th>\n",
              "      <th>user_input</th>\n",
              "      <th>reference_contexts</th>\n",
              "      <th>reference</th>\n",
              "      <th>synthesizer_name</th>\n",
              "    </tr>\n",
              "  </thead>\n",
              "  <tbody>\n",
              "    <tr>\n",
              "      <th>0</th>\n",
              "      <td>How has Nelnet's handling of the re-amortization process affected borrowers following the end of the federal student loan COVID-19 forbearance program?</td>\n",
              "      <td>[The federal student loan COVID-19 forbearance program ended in XX/XX/XXXX. However, payments were not re-amortized on my federal student loans currently serviced by Nelnet until very recently. The new payment amount that is effective starting with the XX/XX/XXXX payment will nearly double my pa...</td>\n",
              "      <td>Nelnet's handling of the re-amortization process has resulted in a significant increase in payment amounts for borrowers, with payments nearly doubling from $180.00 per month to $360.00 per month. This change occurred only recently, despite the federal student loan COVID-19 forbearance program e...</td>\n",
              "      <td>single_hop_specifc_query_synthesizer</td>\n",
              "    </tr>\n",
              "    <tr>\n",
              "      <th>1</th>\n",
              "      <td>Why is my Income-Driven Repayment amount incorrect despite submitting all required documents?</td>\n",
              "      <td>[I submitted my annual Income-Driven Repayment ( IDR ) recertification to Aidvantage on time and in full, using the correct process. My income is approximately $ XXXX/year, which is below 150 % of the federal poverty guideline. Under the SAVE Plan or any valid IDR/IBR plan , this income level qu...</td>\n",
              "      <td>Aidvantage assigned an incorrect repayment amount that does not align with the income level provided, which qualifies for a lower payment under the SAVE Plan or any valid IDR/IBR plan. Despite submitting the recertification on time and in full, Aidvantage has not processed the application correc...</td>\n",
              "      <td>single_hop_specifc_query_synthesizer</td>\n",
              "    </tr>\n",
              "    <tr>\n",
              "      <th>2</th>\n",
              "      <td>Why is Studentaid.gov not providing clear information about my loan servicer?</td>\n",
              "      <td>[According to Studentaid.gov, Im to get an email and a letter of notice that my servicer is being changed. studentaid.gov says that my issuer is nelnet. Nelnet says my issuer is somewhere else. With that said, the only reason i would have know would be because i am trying to make a payment. Now ...</td>\n",
              "      <td>According to Studentaid.gov, you should receive an email and a letter of notice about your servicer being changed. However, there is confusion as Studentaid.gov indicates your issuer is Nelnet, while Nelnet claims it is somewhere else. This lack of clear communication is causing issues with know...</td>\n",
              "      <td>single_hop_specifc_query_synthesizer</td>\n",
              "    </tr>\n",
              "    <tr>\n",
              "      <th>3</th>\n",
              "      <td>Wut is the FCRA?</td>\n",
              "      <td>[I am writing to formally dispute inaccurate information on my credit report. This dispute is submitted under the Fair Credit Reporting Act ( FCRA ), 15 U.S.C. 16811, which requires credit reporting agencies to conduct a reasonable reinvestigation of disputed items.\\n\\nRecent findings by the Con...</td>\n",
              "      <td>The FCRA, or Fair Credit Reporting Act, is a federal law that requires credit reporting agencies to conduct a reasonable reinvestigation of disputed items on a credit report.</td>\n",
              "      <td>single_hop_specifc_query_synthesizer</td>\n",
              "    </tr>\n",
              "    <tr>\n",
              "      <th>4</th>\n",
              "      <td>Why Aid Avantage not tell me about my loans?</td>\n",
              "      <td>[I am devastated. I would like to report a situation with my student loans. I recently found out my loans were in default. I have never been in default with my student loans. They notified me on my email instead to mail that I was delinquent. Needless to say I had nine accounts that went 90 days...</td>\n",
              "      <td>The individual was notified via email instead of mail that they were delinquent, which led to their loans going into default without their prior knowledge.</td>\n",
              "      <td>single_hop_specifc_query_synthesizer</td>\n",
              "    </tr>\n",
              "    <tr>\n",
              "      <th>5</th>\n",
              "      <td>How can a student manage their loan account issues with Aidvantage and address a delinquency reported by EdFinancial Services, considering the need for documentation and the request for delinquency removal?</td>\n",
              "      <td>[&lt;1-hop&gt;\\n\\nTo Whom It May Concern, I am writing to formally respond to your recent correspondence regarding my loan account with Aidvantage. While I appreciate your prompt acknowledgment of my concerns, I must reiterate that during my phone call on XX/XX/2025, the customer service representativ...</td>\n",
              "      <td>To manage loan account issues with Aidvantage, a student should request all future communications in writing to maintain an accurate record of interactions. They should also request specific documentation, such as a comprehensive ledger of all emails and notifications, and a copy of the contract...</td>\n",
              "      <td>multi_hop_abstract_query_synthesizer</td>\n",
              "    </tr>\n",
              "    <tr>\n",
              "      <th>6</th>\n",
              "      <td>How do federal student loan regulations relate to EdFinancial's mismanagement and privacy violations?</td>\n",
              "      <td>[&lt;1-hop&gt;\\n\\nTo Whom It May Concern, I am writing to formally request verification of the student loan ( s ) currently being serviced under my name. According to my review of my account on StudentAid.gov and communications with your office, I have been unable to locate or obtain a copy of the sig...</td>\n",
              "      <td>Federal student loan regulations are designed to protect borrowers by ensuring fair administration of loans and safeguarding personal information. In the context provided, EdFinancial's mismanagement is evident through their failure to honor in-school deferment rights, as mandated by federal reg...</td>\n",
              "      <td>multi_hop_abstract_query_synthesizer</td>\n",
              "    </tr>\n",
              "    <tr>\n",
              "      <th>7</th>\n",
              "      <td>How do federal student loan regulations relate to privacy violations and compromised personal information in the context of a loan servicer's data breach?</td>\n",
              "      <td>[&lt;1-hop&gt;\\n\\nTo Whom It May Concern, I am writing to formally request verification of the student loan ( s ) currently being serviced under my name. According to my review of my account on StudentAid.gov and communications with your office, I have been unable to locate or obtain a copy of the sig...</td>\n",
              "      <td>Federal student loan regulations, such as the Fair Debt Collection Practices Act, entitle borrowers to receive documentation verifying their debt, including the signed Master Promissory Note. However, a data breach involving entities affiliated with the Department of Education led to unauthorize...</td>\n",
              "      <td>multi_hop_abstract_query_synthesizer</td>\n",
              "    </tr>\n",
              "    <tr>\n",
              "      <th>8</th>\n",
              "      <td>How does the Fair Credit Reporting Act (FCRA) protect individuals from unauthorized access to private information and ensure accurate credit reporting, especially in cases where companies like DOGE and EDFinancial Services are involved?</td>\n",
              "      <td>[&lt;1-hop&gt;\\n\\nDOGE improperly accessed my private information. Per FCRA 611 ( a ) ( 1 ) ( a ), I have the right to have my private data remain private, as I did not give DOGE authorization to access my student loan information., &lt;2-hop&gt;\\n\\nI am writing to formally dispute inaccurate information on...</td>\n",
              "      <td>The Fair Credit Reporting Act (FCRA) provides protections for individuals by ensuring that their private information remains confidential unless authorization is given, as highlighted in FCRA 611(a)(1)(a). This is relevant in cases where companies like DOGE improperly access private information ...</td>\n",
              "      <td>multi_hop_specific_query_synthesizer</td>\n",
              "    </tr>\n",
              "    <tr>\n",
              "      <th>9</th>\n",
              "      <td>What are the implications of FDCPA violations by loan servicers in the context of illegal student loan reporting and collections?</td>\n",
              "      <td>[&lt;1-hop&gt;\\n\\nThis account was transferred to Nelnet ( NNI ) from XXXX XXXX XXXX XXXX XXXX XXXX XXXX XXXX ; who had engaged in acts of deception and made numerous errors on the account, as well as having broken numerous consumer protection laws, including the FDCPA, FCRA, TCPA, Indiana Senior Cons...</td>\n",
              "      <td>The implications of FDCPA violations by loan servicers in the context of illegal student loan reporting and collections include potential legal actions against the servicers for engaging in unfair and deceptive practices. In the provided context, the loan servicer continued to report and collect...</td>\n",
              "      <td>multi_hop_specific_query_synthesizer</td>\n",
              "    </tr>\n",
              "    <tr>\n",
              "      <th>10</th>\n",
              "      <td>How does the mishandling of student loan accounts by EdFinancial and TransUnion's failure to investigate affect borrowers' rights under federal regulations?</td>\n",
              "      <td>[&lt;1-hop&gt;\\n\\nTo Whom It May Concern, I am writing to express my growing frustration and serious concern regarding EdFinancials continued mishandling of my student loan accountdespite my repeated attempts to resolve the matter with proper documentation and through the appropriate channels.\\n\\nLast...</td>\n",
              "      <td>The mishandling of student loan accounts by EdFinancial, as described in the context, involves adding unjustified charges and ignoring legally binding facts about a borrower's enrollment status, which violates federal regulations that entitle students to deferment. This mismanagement can force b...</td>\n",
              "      <td>multi_hop_specific_query_synthesizer</td>\n",
              "    </tr>\n",
              "  </tbody>\n",
              "</table>\n",
              "</div>"
            ],
            "text/plain": [
              "                                                                                                                                                                                                                                      user_input  \\\n",
              "0                                                                                        How has Nelnet's handling of the re-amortization process affected borrowers following the end of the federal student loan COVID-19 forbearance program?   \n",
              "1                                                                                                                                                  Why is my Income-Driven Repayment amount incorrect despite submitting all required documents?   \n",
              "2                                                                                                                                                                  Why is Studentaid.gov not providing clear information about my loan servicer?   \n",
              "3                                                                                                                                                                                                                               Wut is the FCRA?   \n",
              "4                                                                                                                                                                                                   Why Aid Avantage not tell me about my loans?   \n",
              "5                                 How can a student manage their loan account issues with Aidvantage and address a delinquency reported by EdFinancial Services, considering the need for documentation and the request for delinquency removal?   \n",
              "6                                                                                                                                          How do federal student loan regulations relate to EdFinancial's mismanagement and privacy violations?   \n",
              "7                                                                                     How do federal student loan regulations relate to privacy violations and compromised personal information in the context of a loan servicer's data breach?   \n",
              "8   How does the Fair Credit Reporting Act (FCRA) protect individuals from unauthorized access to private information and ensure accurate credit reporting, especially in cases where companies like DOGE and EDFinancial Services are involved?   \n",
              "9                                                                                                              What are the implications of FDCPA violations by loan servicers in the context of illegal student loan reporting and collections?   \n",
              "10                                                                                  How does the mishandling of student loan accounts by EdFinancial and TransUnion's failure to investigate affect borrowers' rights under federal regulations?   \n",
              "\n",
              "                                                                                                                                                                                                                                                                                             reference_contexts  \\\n",
              "0   [The federal student loan COVID-19 forbearance program ended in XX/XX/XXXX. However, payments were not re-amortized on my federal student loans currently serviced by Nelnet until very recently. The new payment amount that is effective starting with the XX/XX/XXXX payment will nearly double my pa...   \n",
              "1   [I submitted my annual Income-Driven Repayment ( IDR ) recertification to Aidvantage on time and in full, using the correct process. My income is approximately $ XXXX/year, which is below 150 % of the federal poverty guideline. Under the SAVE Plan or any valid IDR/IBR plan , this income level qu...   \n",
              "2   [According to Studentaid.gov, Im to get an email and a letter of notice that my servicer is being changed. studentaid.gov says that my issuer is nelnet. Nelnet says my issuer is somewhere else. With that said, the only reason i would have know would be because i am trying to make a payment. Now ...   \n",
              "3   [I am writing to formally dispute inaccurate information on my credit report. This dispute is submitted under the Fair Credit Reporting Act ( FCRA ), 15 U.S.C. 16811, which requires credit reporting agencies to conduct a reasonable reinvestigation of disputed items.\\n\\nRecent findings by the Con...   \n",
              "4   [I am devastated. I would like to report a situation with my student loans. I recently found out my loans were in default. I have never been in default with my student loans. They notified me on my email instead to mail that I was delinquent. Needless to say I had nine accounts that went 90 days...   \n",
              "5   [<1-hop>\\n\\nTo Whom It May Concern, I am writing to formally respond to your recent correspondence regarding my loan account with Aidvantage. While I appreciate your prompt acknowledgment of my concerns, I must reiterate that during my phone call on XX/XX/2025, the customer service representativ...   \n",
              "6   [<1-hop>\\n\\nTo Whom It May Concern, I am writing to formally request verification of the student loan ( s ) currently being serviced under my name. According to my review of my account on StudentAid.gov and communications with your office, I have been unable to locate or obtain a copy of the sig...   \n",
              "7   [<1-hop>\\n\\nTo Whom It May Concern, I am writing to formally request verification of the student loan ( s ) currently being serviced under my name. According to my review of my account on StudentAid.gov and communications with your office, I have been unable to locate or obtain a copy of the sig...   \n",
              "8   [<1-hop>\\n\\nDOGE improperly accessed my private information. Per FCRA 611 ( a ) ( 1 ) ( a ), I have the right to have my private data remain private, as I did not give DOGE authorization to access my student loan information., <2-hop>\\n\\nI am writing to formally dispute inaccurate information on...   \n",
              "9   [<1-hop>\\n\\nThis account was transferred to Nelnet ( NNI ) from XXXX XXXX XXXX XXXX XXXX XXXX XXXX XXXX ; who had engaged in acts of deception and made numerous errors on the account, as well as having broken numerous consumer protection laws, including the FDCPA, FCRA, TCPA, Indiana Senior Cons...   \n",
              "10  [<1-hop>\\n\\nTo Whom It May Concern, I am writing to express my growing frustration and serious concern regarding EdFinancials continued mishandling of my student loan accountdespite my repeated attempts to resolve the matter with proper documentation and through the appropriate channels.\\n\\nLast...   \n",
              "\n",
              "                                                                                                                                                                                                                                                                                                      reference  \\\n",
              "0   Nelnet's handling of the re-amortization process has resulted in a significant increase in payment amounts for borrowers, with payments nearly doubling from $180.00 per month to $360.00 per month. This change occurred only recently, despite the federal student loan COVID-19 forbearance program e...   \n",
              "1   Aidvantage assigned an incorrect repayment amount that does not align with the income level provided, which qualifies for a lower payment under the SAVE Plan or any valid IDR/IBR plan. Despite submitting the recertification on time and in full, Aidvantage has not processed the application correc...   \n",
              "2   According to Studentaid.gov, you should receive an email and a letter of notice about your servicer being changed. However, there is confusion as Studentaid.gov indicates your issuer is Nelnet, while Nelnet claims it is somewhere else. This lack of clear communication is causing issues with know...   \n",
              "3                                                                                                                                The FCRA, or Fair Credit Reporting Act, is a federal law that requires credit reporting agencies to conduct a reasonable reinvestigation of disputed items on a credit report.   \n",
              "4                                                                                                                                                   The individual was notified via email instead of mail that they were delinquent, which led to their loans going into default without their prior knowledge.   \n",
              "5   To manage loan account issues with Aidvantage, a student should request all future communications in writing to maintain an accurate record of interactions. They should also request specific documentation, such as a comprehensive ledger of all emails and notifications, and a copy of the contract...   \n",
              "6   Federal student loan regulations are designed to protect borrowers by ensuring fair administration of loans and safeguarding personal information. In the context provided, EdFinancial's mismanagement is evident through their failure to honor in-school deferment rights, as mandated by federal reg...   \n",
              "7   Federal student loan regulations, such as the Fair Debt Collection Practices Act, entitle borrowers to receive documentation verifying their debt, including the signed Master Promissory Note. However, a data breach involving entities affiliated with the Department of Education led to unauthorize...   \n",
              "8   The Fair Credit Reporting Act (FCRA) provides protections for individuals by ensuring that their private information remains confidential unless authorization is given, as highlighted in FCRA 611(a)(1)(a). This is relevant in cases where companies like DOGE improperly access private information ...   \n",
              "9   The implications of FDCPA violations by loan servicers in the context of illegal student loan reporting and collections include potential legal actions against the servicers for engaging in unfair and deceptive practices. In the provided context, the loan servicer continued to report and collect...   \n",
              "10  The mishandling of student loan accounts by EdFinancial, as described in the context, involves adding unjustified charges and ignoring legally binding facts about a borrower's enrollment status, which violates federal regulations that entitle students to deferment. This mismanagement can force b...   \n",
              "\n",
              "                        synthesizer_name  \n",
              "0   single_hop_specifc_query_synthesizer  \n",
              "1   single_hop_specifc_query_synthesizer  \n",
              "2   single_hop_specifc_query_synthesizer  \n",
              "3   single_hop_specifc_query_synthesizer  \n",
              "4   single_hop_specifc_query_synthesizer  \n",
              "5   multi_hop_abstract_query_synthesizer  \n",
              "6   multi_hop_abstract_query_synthesizer  \n",
              "7   multi_hop_abstract_query_synthesizer  \n",
              "8   multi_hop_specific_query_synthesizer  \n",
              "9   multi_hop_specific_query_synthesizer  \n",
              "10  multi_hop_specific_query_synthesizer  "
            ]
          },
          "metadata": {},
          "output_type": "display_data"
        }
      ],
      "source": [
        "import pandas as pd\n",
        "\n",
        "df = dataset.to_pandas()\n",
        "pd.set_option('display.max_colwidth', 300)\n",
        "display(df)"
      ]
    },
    {
      "cell_type": "code",
      "execution_count": 116,
      "metadata": {},
      "outputs": [
        {
          "name": "stdout",
          "output_type": "stream",
          "text": [
            "Test dataset saved to test_dataset.csv\n"
          ]
        }
      ],
      "source": [
        "# Save the test dataset to avoid regenerating it\n",
        "dataset.to_pandas().to_csv(\"test_dataset.csv\", index=False)\n",
        "print(\"Test dataset saved to test_dataset.csv\")\n"
      ]
    },
    {
      "cell_type": "code",
      "execution_count": 164,
      "metadata": {},
      "outputs": [],
      "source": [
        "import os\n",
        "import time\n",
        "import copy\n",
        "import pandas as pd\n",
        "from ragas.evaluation import EvaluationDataset\n",
        "from ragas import evaluate, RunConfig\n",
        "from ragas.metrics import (\n",
        "    LLMContextRecall,\n",
        "    Faithfulness,\n",
        "    FactualCorrectness,\n",
        "    ResponseRelevancy,\n",
        "    ContextEntityRecall,\n",
        "    NoiseSensitivity,\n",
        ")\n",
        "from ragas.llms import LangchainLLMWrapper\n",
        "from langchain_openai import ChatOpenAI\n",
        "from langchain.callbacks import get_openai_callback\n",
        "\n",
        "\n",
        "def evaluate_retriever(name: str, pipeline, dataset):\n",
        "    print(f\"📊 Running evaluation for: {name}\")\n",
        "\n",
        "    test_dataset = copy.deepcopy(dataset)\n",
        "\n",
        "    latencies = []\n",
        "    total_tokens = 0\n",
        "    total_cost = 0\n",
        "    prompt_number = 1\n",
        "\n",
        "    overall_start_time = time.time()\n",
        "\n",
        "    for test_row in test_dataset:\n",
        "        question = test_row.eval_sample.user_input\n",
        "        start_time = time.time()\n",
        "        with get_openai_callback() as cb:\n",
        "            response = pipeline.invoke({\"question\": question})\n",
        "        \n",
        "        latency = time.time() - start_time\n",
        "        latencies.append(latency)\n",
        "        total_tokens += cb.total_tokens\n",
        "        total_cost += cb.total_cost\n",
        "\n",
        "        answer = str(response[\"response\"])\n",
        "        test_row.eval_sample.response = answer\n",
        "        test_row.eval_sample.retrieved_contexts = [doc.page_content for doc in response[\"context\"]]\n",
        "\n",
        "        print(f\"Prompt {prompt_number} | ⏱️ {latency:.2f}s | Tokens {cb.total_tokens} | Cost {cb.total_cost:.6f}\")\n",
        "        prompt_number += 1\n",
        "\n",
        "    total_duration = time.time() - overall_start_time\n",
        "    avg_latency = sum(latencies) / len(latencies) if latencies else 0\n",
        "    avg_tokens_per_query = total_tokens / len(test_dataset)\n",
        "\n",
        "\n",
        "    print(f\"\\n📊 Summary for {name}:\")\n",
        "    print(f\"🔢 Total tokens: {total_tokens}\")\n",
        "    print(f\"⏱️ Avg latency: {avg_latency:.2f}s\")\n",
        "    print(f\"🔢 Avg tokens per query: {avg_tokens_per_query:.2f}\")\n",
        "    print(f\"⏱️ Total duration: {total_duration:.2f}s\")\n",
        "    print(f\"💰 Total cost: {total_cost:.6f}\")\n",
        "\n",
        "    evaluator_model = \"gpt-4.1-nano\"\n",
        "    evaluation_dataset = EvaluationDataset.from_pandas(test_dataset.to_pandas())\n",
        "    evaluator_llm = LangchainLLMWrapper(ChatOpenAI(model=evaluator_model, temperature=0))\n",
        "\n",
        "    with get_openai_callback() as cb:\n",
        "        result = evaluate(\n",
        "            experiment_name=name,\n",
        "            dataset=evaluation_dataset,\n",
        "            metrics=[\n",
        "                LLMContextRecall(),\n",
        "                Faithfulness(),\n",
        "                FactualCorrectness(),\n",
        "                ResponseRelevancy(),\n",
        "                ContextEntityRecall(),\n",
        "                NoiseSensitivity(),\n",
        "            ],\n",
        "            llm=evaluator_llm,\n",
        "            run_config=RunConfig(timeout=300)\n",
        "        )\n",
        "\n",
        "    evaluation_cost = cb.total_cost\n",
        "    evaluation_tokens = cb.total_tokens\n",
        "\n",
        "    print(f\"Evaluation LLM model: {evaluator_model}\")\n",
        "    print('Evaluation results:', result)\n",
        "    print('Evaluation tokens:', evaluation_tokens)\n",
        "    print(f'Evaluation cost: {evaluation_cost:.6f}')\n",
        "\n",
        "    return {\n",
        "        \"name\": name,\n",
        "        \"summary\": {\n",
        "            \"total_runtime\": round(total_duration, 2),\n",
        "            \"avg_latency\": round(avg_latency, 2),\n",
        "            \"total_tokens\": int(total_tokens),\n",
        "            \"total_queries\": len(test_dataset),\n",
        "            \"total_cost\": round(total_cost, 6),\n",
        "            \"avg_tokens_per_query\": round(avg_tokens_per_query, 2),\n",
        "        },\n",
        "        \"latencies\": [round(lat, 2) for lat in latencies],\n",
        "        \"evaluation_result\": result,\n",
        "        \"evaluation_cost\": {\n",
        "            \"eval_tokens\": evaluation_tokens,\n",
        "            \"eval_cost\": round(evaluation_cost, 6),\n",
        "        }\n",
        "    }\n",
        "\n"
      ]
    },
    {
      "cell_type": "code",
      "execution_count": 165,
      "metadata": {},
      "outputs": [
        {
          "name": "stdout",
          "output_type": "stream",
          "text": [
            "📊 Running evaluation for: naive_retriever_test\n",
            "Prompt 1 | ⏱️ 4.93s | Tokens 6087 | Cost 0.000239\n",
            "\n",
            "📊 Summary for naive_retriever_test:\n",
            "🔢 Total tokens: 6087\n",
            "⏱️ Avg latency: 4.93s\n",
            "🔢 Avg tokens per query: 6087.00\n",
            "⏱️ Total duration: 4.93s\n",
            "💰 Total cost: 0.000239\n"
          ]
        },
        {
          "data": {
            "application/vnd.jupyter.widget-view+json": {
              "model_id": "bde62092121340ca92cfd067b7b31945",
              "version_major": 2,
              "version_minor": 0
            },
            "text/plain": [
              "Evaluating:   0%|          | 0/6 [00:00<?, ?it/s]"
            ]
          },
          "metadata": {},
          "output_type": "display_data"
        },
        {
          "name": "stderr",
          "output_type": "stream",
          "text": [
            "Exception raised in Job[5]: ValueError(setting an array element with a sequence. The requested array has an inhomogeneous shape after 1 dimensions. The detected shape was (10,) + inhomogeneous part.)\n"
          ]
        },
        {
          "name": "stdout",
          "output_type": "stream",
          "text": [
            "Evaluation LLM model: gpt-4.1-nano\n",
            "Evaluation results: {'context_recall': 1.0000, 'faithfulness': 1.0000, 'factual_correctness(mode=f1)': 0.7600, 'answer_relevancy': 0.9520, 'context_entity_recall': 0.1429, 'noise_sensitivity(mode=relevant)': nan}\n",
            "Evaluation tokens: 62802\n",
            "Evaluation cost: 0.012510\n"
          ]
        },
        {
          "data": {
            "text/plain": [
              "{'name': 'naive_retriever_test',\n",
              " 'summary': {'total_runtime': 4.93,\n",
              "  'avg_latency': 4.93,\n",
              "  'total_tokens': 6087,\n",
              "  'total_queries': 1,\n",
              "  'total_cost': 0.000239,\n",
              "  'avg_tokens_per_query': 6087.0},\n",
              " 'latencies': [4.93],\n",
              " 'evaluation_result': {'context_recall': 1.0000, 'faithfulness': 1.0000, 'factual_correctness(mode=f1)': 0.7600, 'answer_relevancy': 0.9520, 'context_entity_recall': 0.1429, 'noise_sensitivity(mode=relevant)': nan},\n",
              " 'evaluation_cost': {'eval_tokens': 62802, 'eval_cost': 0.01251}}"
            ]
          },
          "execution_count": 165,
          "metadata": {},
          "output_type": "execute_result"
        }
      ],
      "source": [
        "from ragas.testset import Testset\n",
        "\n",
        "subset = Testset(list(dataset)[:1])\n",
        "evaluate_retriever(\"naive_retriever_test\", naive_retrieval_chain, subset)\n"
      ]
    },
    {
      "cell_type": "code",
      "execution_count": 166,
      "metadata": {},
      "outputs": [],
      "source": [
        "# def run_all_retriever_evaluations(pipelines: dict, dataset):\n",
        "#     \"\"\"\n",
        "#     Runs evaluation across multiple retriever pipelines.\n",
        "\n",
        "#     Args:\n",
        "#         pipelines (dict): Dictionary where key is a pipeline name and value is the retriever chain.\n",
        "#         dataset: Ragas synthetic test set.\n",
        "\n",
        "#     Returns:\n",
        "#         dict: A dictionary of results per pipeline.\n",
        "#     \"\"\"\n",
        "#     results = {}\n",
        "#     for name, pipeline in pipelines.items():\n",
        "#         print(f\"\\n🚀 Starting evaluation for: {name}\")\n",
        "#         results[name] = evaluate_retriever(name, pipeline, dataset)\n",
        "#     return results\n"
      ]
    },
    {
      "cell_type": "code",
      "execution_count": null,
      "metadata": {},
      "outputs": [],
      "source": []
    },
    {
      "cell_type": "code",
      "execution_count": 167,
      "metadata": {},
      "outputs": [
        {
          "name": "stdout",
          "output_type": "stream",
          "text": [
            "📊 Running evaluation for: Naive\n",
            "Prompt 1 | ⏱️ 6.72s | Tokens 6106 | Cost 0.000679\n",
            "Prompt 2 | ⏱️ 9.32s | Tokens 6187 | Cost 0.000749\n",
            "Prompt 3 | ⏱️ 5.97s | Tokens 6484 | Cost 0.000742\n",
            "Prompt 4 | ⏱️ 3.04s | Tokens 8763 | Cost 0.000908\n",
            "Prompt 5 | ⏱️ 6.01s | Tokens 6109 | Cost 0.000697\n",
            "Prompt 6 | ⏱️ 6.16s | Tokens 8484 | Cost 0.001007\n",
            "Prompt 7 | ⏱️ 6.42s | Tokens 8793 | Cost 0.000980\n",
            "Prompt 8 | ⏱️ 6.26s | Tokens 6158 | Cost 0.000687\n",
            "Prompt 9 | ⏱️ 7.96s | Tokens 8859 | Cost 0.001012\n",
            "Prompt 10 | ⏱️ 5.79s | Tokens 6802 | Cost 0.000729\n",
            "Prompt 11 | ⏱️ 5.70s | Tokens 8476 | Cost 0.000953\n",
            "\n",
            "📊 Summary for Naive:\n",
            "🔢 Total tokens: 81221\n",
            "⏱️ Avg latency: 6.30s\n",
            "🔢 Avg tokens per query: 7383.73\n",
            "⏱️ Total duration: 69.34s\n",
            "💰 Total cost: 0.009144\n"
          ]
        },
        {
          "data": {
            "application/vnd.jupyter.widget-view+json": {
              "model_id": "6f9ebd4785814ac0bb78433170a9da5b",
              "version_major": 2,
              "version_minor": 0
            },
            "text/plain": [
              "Evaluating:   0%|          | 0/66 [00:00<?, ?it/s]"
            ]
          },
          "metadata": {},
          "output_type": "display_data"
        },
        {
          "name": "stderr",
          "output_type": "stream",
          "text": [
            "Exception raised in Job[29]: ValueError(setting an array element with a sequence. The requested array has an inhomogeneous shape after 1 dimensions. The detected shape was (10,) + inhomogeneous part.)\n",
            "Exception raised in Job[4]: TimeoutError()\n",
            "Exception raised in Job[28]: TimeoutError()\n",
            "Exception raised in Job[34]: TimeoutError()\n",
            "Exception raised in Job[35]: TimeoutError()\n",
            "Exception raised in Job[41]: TimeoutError()\n",
            "Exception raised in Job[53]: OutputParserException(Invalid json output: {\n",
            "    \"statements\": [\n",
            "        {\n",
            "          \"statement\": \"The \\\\\"Fair Credit Reporting Act\\\\\" (FCRA) provides protections to individuals regarding access to private information and accurate credit reporting.\",\n",
            "          \"reason\": \"The context explicitly states that the FCRA provides protections related to access to private information and accurate credit reporting.\",\n",
            "          \"verdict\": 1\n",
            "        },\n",
            "        {\n",
            "          \"statement\": \"The protections are especially relevant when companies such as DOGE and EDFinancial Services are involved.\",\n",
            "          \"reason\": \"The context mentions the involvement of companies like EDFinancial Services and discusses data breaches and unauthorized access, indicating relevance.\",\n",
            "          \"verdict\": 1\n",
            "        },\n",
            "        {\n",
            "          \"statement\": \"Section 611(a)(1)(A) of the FCRA grants consumers the right to dispute and seek correction of any information in their credit files that was obtained or used without proper authorization.\",\n",
            "          \"reason\": \"The context states that consumers have the right to dispute and that agencies must investigate and correct inaccurate information, aligning with this statement.\",\n",
            "          \"verdict\": 1\n",
            "        },\n",
            "        {\n",
            "          \"statement\": \"A complaint about DOGE improperly accessing private student loan data demonstrates that access must be authorized under the law.\",\n",
            "          \"reason\": \"The context discusses unauthorized access and the importance of lawful access, implying that improper access violates legal protections.\",\n",
            "          \"verdict\": 1\n",
            "        },\n",
            "        {\n",
            "          \"statement\": \"Unauthorized access to private data violates the provisions of the FCRA.\",\n",
            "          \"reason\": \"The context indicates that unauthorized access breaches protections under laws like the FCRA, making this inference valid.\",\n",
            "          \"verdict\": 1\n",
            "        },\n",
            "        {\n",
            "          \"statement\": \"The FCRA criminalizes knowingly obtaining information under false pretenses, which deters companies from unlawfully accessing data.\",\n",
            "          \"reason\": \"The context mentions that the FCRA criminalizes misuse and unlawful access, supporting this statement.\",\n",
            "          \"verdict\": 1\n",
            "        },\n",
            "        {\n",
            "          \"statement\": \"Sections 604 and 611 of the FCRA require credit reporting agencies and data furnishers like EDFinancial Services to conduct reasonable investigations of disputes concerning inaccurate or unverifiable information.\",\n",
            "          \"reason\": \"The context states that these sections require investigations of disputes and correction of inaccurate data, aligning with this statement.\",\n",
            "          \"verdict\": 1\n",
            "        },\n",
            "        {\n",
            "          \"statement\": \"Companies are obligated to correct or remove false, outdated, or unverifiable information when disputes are raised.\",\n",
            "          \"reason\": \"The context explicitly mentions that agencies and furnishers must correct or delete inaccurate information upon dispute, supporting this statement.\",\n",
            "          \"verdict\": 1\n",
            "        },\n",
            "        {\n",
            "          \"statement\": \"This process helps prevent harm caused by inaccurate credit reports.\",\n",
            "          \"reason\": \"The context implies that correcting inaccurate information prevents harm, such as financial distress, which supports this statement.\",\n",
            "          \"verdict\": 1\n",
            "        },\n",
            "        {\n",
            "          \"statement\": \"Consumers have the right to file disputes if information such as late payments, account status, or data breaches are incorrectly reported.\",\n",
            "          \"reason\": \"The context states consumers can file disputes regarding incorrect reporting, including late payments and data breaches.\",\n",
            "          \"verdict\": 1\n",
            "        },\n",
            "        {\n",
            "          \"statement\": \"Agencies and data furnishers must complete reinvestigations within specified periods and amend or delete inaccurate information accordingly.\",\n",
            "          \"reason\": \"The context mentions that agencies and furnishers are required to complete investigations and correct data, supporting this statement.\",\n",
            "          \"verdict\": 1\n",
            "        },\n",
            "        {\n",
            "          \"statement\": \"The FCRA, along with laws like FERPA and the Privacy Act, emphasizes the obligation of entities handling personal data to protect individuals' personally identifiable information (PII).\",\n",
            "          \"reason\": \"The context discusses the FCRA, FERPA, and the Privacy Act as laws that protect personal data and prevent unauthorized disclosures.\",\n",
            "          \"verdict\": 1\n",
            "        },\n",
            "        {\n",
            "          \"statement\": \"These laws aim to prevent unauthorized disclosures or breaches of private data.\",\n",
            "          \"reason\": \"The context indicates that these laws are designed to prevent breaches and unauthorized access to private information.\",\n",
            "          \"verdict\": 1\n",
            "        },\n",
            "        {\n",
            "          \"statement\": \"Complaints about data breaches or improper sharing, such as DOGE accessing DOE records without consent, invoke these protections.\",\n",
            "          \"reason\": \"The context references data breaches and unauthorized access, which are protected under these laws, making this inference valid.\",\n",
            "          \"verdict\": 1\n",
            "        },\n",
            "        {\n",
            "          \"statement\": \"Overall, the FCRA safeguards individuals by ensuring that access to credit and personal data is justified only for authorized purposes.\",\n",
            "          \"reason\": \"The context emphasizes protections against unauthorized access and the importance of lawful reporting, supporting this summary.\",\n",
            "          \"verdict\": 1\n",
            "        },\n",
            "        {\n",
            "          \"statement\": \"The law mandates accurate reporting and thorough investigations of disputes.\",\n",
            "          \"reason\": \"The context states that laws like the FCRA require accurate reporting and investigations, aligning with this statement.\",\n",
            "          \"verdict\": 1\n",
            "        },\n",
            "        {\n",
            "          \"statement\": \"It criminalizes misuse and unlawful access to private information.\",\n",
            "          \"reason\": \"The context explicitly mentions that the FCRA criminalizes knowingly obtaining information under false pretenses and unlawful access.\",\n",
            "          \"verdict\": 1\n",
            "        },\n",
            "        {\n",
            "          \"statement\": \"These protections are especially important when companies like DOGE and EDFinancial Services mishandle private data.\",\n",
            "          \"reason\": \"The context discusses mishandling and unauthorized access by such companies, highlighting the importance of protections.\",\n",
            "          \"verdict\": 1\n",
            "        }\n",
            "      ]\n",
            "    }\n",
            "For troubleshooting, visit: https://python.langchain.com/docs/troubleshooting/errors/OUTPUT_PARSING_FAILURE )\n"
          ]
        },
        {
          "name": "stdout",
          "output_type": "stream",
          "text": [
            "Evaluation LLM model: gpt-4.1-nano\n",
            "Evaluation results: {'context_recall': 0.8727, 'faithfulness': 1.0000, 'factual_correctness(mode=f1)': 0.7855, 'answer_relevancy': 0.9421, 'context_entity_recall': 0.5169, 'noise_sensitivity(mode=relevant)': 0.0618}\n",
            "Evaluation tokens: 727682\n",
            "Evaluation cost: 0.140503\n"
          ]
        }
      ],
      "source": [
        "naive_evaluation = evaluate_retriever(\"Naive\", naive_retrieval_chain, dataset)"
      ]
    },
    {
      "cell_type": "code",
      "execution_count": 168,
      "metadata": {},
      "outputs": [
        {
          "name": "stdout",
          "output_type": "stream",
          "text": [
            "📊 Running evaluation for: BM25\n",
            "Prompt 1 | ⏱️ 4.19s | Tokens 4345 | Cost 0.000498\n",
            "Prompt 2 | ⏱️ 4.72s | Tokens 3128 | Cost 0.000397\n",
            "Prompt 3 | ⏱️ 2.57s | Tokens 2481 | Cost 0.000323\n",
            "Prompt 4 | ⏱️ 1.31s | Tokens 2737 | Cost 0.000297\n",
            "Prompt 5 | ⏱️ 3.71s | Tokens 5971 | Cost 0.000665\n",
            "Prompt 6 | ⏱️ 6.00s | Tokens 4406 | Cost 0.000586\n",
            "Prompt 7 | ⏱️ 1.51s | Tokens 3169 | Cost 0.000372\n",
            "Prompt 8 | ⏱️ 3.28s | Tokens 3722 | Cost 0.000456\n",
            "Prompt 9 | ⏱️ 4.51s | Tokens 3486 | Cost 0.000470\n",
            "Prompt 10 | ⏱️ 3.19s | Tokens 4637 | Cost 0.000592\n",
            "Prompt 11 | ⏱️ 4.37s | Tokens 3425 | Cost 0.000433\n",
            "\n",
            "📊 Summary for BM25:\n",
            "🔢 Total tokens: 41507\n",
            "⏱️ Avg latency: 3.58s\n",
            "🔢 Avg tokens per query: 3773.36\n",
            "⏱️ Total duration: 39.38s\n",
            "💰 Total cost: 0.005088\n"
          ]
        },
        {
          "data": {
            "application/vnd.jupyter.widget-view+json": {
              "model_id": "6f791a6c856c4b5c955836c4d3a1f1cd",
              "version_major": 2,
              "version_minor": 0
            },
            "text/plain": [
              "Evaluating:   0%|          | 0/66 [00:00<?, ?it/s]"
            ]
          },
          "metadata": {},
          "output_type": "display_data"
        },
        {
          "name": "stderr",
          "output_type": "stream",
          "text": [
            "Exception raised in Job[5]: ValueError(setting an array element with a sequence. The requested array has an inhomogeneous shape after 1 dimensions. The detected shape was (4,) + inhomogeneous part.)\n",
            "Exception raised in Job[53]: ValueError(operands could not be broadcast together with shapes (21,) (1,20) )\n",
            "Exception raised in Job[28]: TimeoutError()\n",
            "Exception raised in Job[58]: TimeoutError()\n"
          ]
        },
        {
          "name": "stdout",
          "output_type": "stream",
          "text": [
            "Evaluation LLM model: gpt-4.1-nano\n",
            "Evaluation results: {'context_recall': 1.0000, 'faithfulness': 0.9770, 'factual_correctness(mode=f1)': 0.7745, 'answer_relevancy': 0.6793, 'context_entity_recall': 0.4873, 'noise_sensitivity(mode=relevant)': 0.1713}\n",
            "Evaluation tokens: 435078\n",
            "Evaluation cost: 0.080423\n"
          ]
        }
      ],
      "source": [
        "bm25_evaluation = evaluate_retriever(\"BM25\", bm25_retrieval_chain, dataset)"
      ]
    },
    {
      "cell_type": "code",
      "execution_count": 169,
      "metadata": {},
      "outputs": [
        {
          "name": "stdout",
          "output_type": "stream",
          "text": [
            "📊 Running evaluation for: Multi-Query\n",
            "Prompt 1 | ⏱️ 9.72s | Tokens 10065 | Cost 0.001108\n",
            "Prompt 2 | ⏱️ 12.68s | Tokens 15133 | Cost 0.001681\n",
            "Prompt 3 | ⏱️ 7.98s | Tokens 15590 | Cost 0.001717\n",
            "Prompt 4 | ⏱️ 2.16s | Tokens 12249 | Cost 0.001269\n",
            "Prompt 5 | ⏱️ 4.01s | Tokens 9471 | Cost 0.001009\n",
            "Prompt 6 | ⏱️ 8.26s | Tokens 15456 | Cost 0.001752\n",
            "Prompt 7 | ⏱️ 6.64s | Tokens 13795 | Cost 0.001508\n",
            "Prompt 8 | ⏱️ 9.88s | Tokens 12452 | Cost 0.001397\n",
            "Prompt 9 | ⏱️ 7.84s | Tokens 14536 | Cost 0.001595\n",
            "Prompt 10 | ⏱️ 7.62s | Tokens 11128 | Cost 0.001265\n",
            "Prompt 11 | ⏱️ 14.27s | Tokens 14741 | Cost 0.001627\n",
            "\n",
            "📊 Summary for Multi-Query:\n",
            "🔢 Total tokens: 144616\n",
            "⏱️ Avg latency: 8.28s\n",
            "🔢 Avg tokens per query: 13146.91\n",
            "⏱️ Total duration: 91.06s\n",
            "💰 Total cost: 0.015926\n"
          ]
        },
        {
          "data": {
            "application/vnd.jupyter.widget-view+json": {
              "model_id": "6abfe0a4d6884c68b20d80749f3e8963",
              "version_major": 2,
              "version_minor": 0
            },
            "text/plain": [
              "Evaluating:   0%|          | 0/66 [00:00<?, ?it/s]"
            ]
          },
          "metadata": {},
          "output_type": "display_data"
        },
        {
          "name": "stderr",
          "output_type": "stream",
          "text": [
            "Exception raised in Job[7]: OutputParserException(Invalid json output: The provided output does not satisfy the schema constraints. Here is the fixed output in the required JSON format:\n",
            "\n",
            "{\n",
            "  \"text\": \"{\\n  \\\"statements\\\": [\\n    {\\n      \\\"statement\\\": \\\"The answer begins with a statement indicating that the information provided is the basis for the reasons listed.\\\",\\n      \\\"reason\\\": \\\"The detailed explanation confirms that the initial statement summarizes the reasons for the incorrect billing amounts.\\\",\\n      \\\"verdict\\\": 1\\n    },\\n    {\\n      \\\"statement\\\": \\\"Multiple reasons are presented to explain why the Income-Driven Repayment amount might be incorrect despite submitting all required documents.\\\",\\n      \\\"reason\\\": \\\"The detailed reasons include processing delays, miscommunication, technical issues, and policy delays, which support the statement.\\\",\\n      \\\"verdict\\\": 1\\n    },\\n    {\\n      \\\"statement\\\": \\\"The first reason states that processing delays or errors by servicers such as Aidvantage or EdFinancial can cause incorrect billing amounts.\\\",\\n      \\\"reason\\\": \\\"The context provides multiple examples of such delays and errors, confirming this reason.\\\",\\n      \\\"verdict\\\": 1\\n    },\\n    {\\n      \\\"statement\\\": \\\"Some borrowers reported that their applications were on hold or not processed in a timely manner, which resulted in bills that do not reflect their documented income.\\\",\\n      \\\"reason\\\": \\\"The context explicitly mentions applications being on hold and unprocessed, supporting this statement.\\\",\\n      \\\"verdict\\\": 1\\n    },\\n    {\\n      \\\"statement\\\": \\\"The second reason indicates that miscommunication or lack of updates from servicers can lead to bills based on outdated or incorrect information.\\\",\\n      \\\"reason\\\": \\\"The context describes instances of miscommunication, delays, and lack of updates, confirming this reason.\\\",\\n    \\\"verdict\\\": 1\\n    },\\n    {\\n      \\\"statement\\\": \\\"Instances are cited where servicers issue bills based on incorrect data or do not adjust payments after verification documents are received.\\\",\\n      \\\"reason\\\": \\\"The context provides examples of bills not being adjusted despite receipt of correct documentation, supporting this.\\\",\\n      \\\"verdict\\\": 1\\n    },\\n    {\\n      \\\"statement\\\": \\\"The third reason attributes errors to technical or administrative issues, such as incorrect account transfers, misreported balances, or failure to update income information.\\\",\\n      \\\"reason\\\": \\\"The context mentions account transfer issues, mismatched balances, and administrative errors, confirming this.\\\",\\n      \\\"verdict\\\": 1\\n    },\\n    {\\n      \\\"statement\\\": \\\"Some borrowers encountered problems with incomplete or improperly submitted documentation, contributing to errors.\\\",\\n      \\\"reason\\\": \\\"The context describes issues with incomplete documentation and improper submissions, supporting this.\\\",\\n      \\\"verdict\\\": 1\\n    },\\n    {\\n      \\\"statement\\\": \\\"The fourth reason explains that servicers may fail to correctly recalculate payments after recertification, even after documents are submitted.\\\",\\n      \\\"reason\\\": \\\"The context details delays and failures in recalculating payments post-recertification, confirming this.\\\",\\n      \\\"verdict\\\": 1\\n    },\\n    {\\n      \\\"statement\\\": \\\"Complaints about delays or missing documentation suggest system or staffing issues affecting recertification processing.\\\",\\n      \\\"reason\\\": \\\"The context mentions staffing and system issues causing delays, supporting this.\\\",\\n      \\\"verdict\\\": 1\\n    },\\n    {\\n      \\\"statement\\\": \\\"The fifth reason involves internal policies or hold-ups by servicers, such as policy issues, court injunctions, or administrative delays that cause bills to be issued incorrectly.\\\",\\n      \\\"reason\\\": \\\"The context discusses court injunctions and policy delays leading to incorrect billing, confirming this.\\\",\\n      \\\"verdict\\\": 1\\n    },\\n    {\\n      \\\"statement\\\": \\\"During such hold-ups, bills may continue to be issued based on outdated or unverified data.\\\",\\n      \\\"reason\\\": \\\"The context describes ongoing billing despite delays and unprocessed applications, supporting this.\\\",\\n      \\\"verdict\\\": 1\\n    },\\n    {\\n      \\\"statement\\\": \\\"The summary emphasizes that despite submitting all required documents, errors can occur due to processing delays, administrative mistakes, or system issues within the loan servicer.\\\",\\n      \\\"reason\\\": \\\"The context repeatedly highlights these issues as causes of errors.\\\",\\n      \\\"verdict\\\": 1\\n    },\\n    {\\n      \\\"statement\\\": \\\"It suggests that applications might not be fully processed or correctly applied, leading to bills based on incorrect data.\\\",\\n      \\\"reason\\\": \\\"The context indicates incomplete processing and incorrect application of data, supporting this.\\\",\\n      \\\"verdict\\\": 1\\n    },\\n    {\\n      \\\"statement\\\": \\\"The advice section recommends following up with the servicer for detailed explanations and written confirmation of receipt and application of income documentation.\\\",\\n      \\\"reason\\\": \\\"The context advises borrowers to follow up and keep records, confirming this recommendation.\\\",\\n      \\\"verdict\\\": 1\\n    },\\n    {\\n      \\\"statement\\\": \\\"It advises escalating the issue through official channels or borrower advocacy groups if the problem remains unresolved.\\\",\\n      \\\"reason\\\": \\\"The context suggests escalation if issues persist, supporting this.\\\",\\n      \\\"verdict\\\": 1\\n    },\\n    {\\n      \\\"statement\\\": \\\"The importance of keeping records of all communications is highlighted for future reference or disputes.\\\",\\n      \\\"reason\\\": \\\"The context emphasizes record-keeping for disputes, confirming this.\\\",\\n      \\\"verdict\\\": 1\\n    },\\n    {\\n      \\\"statement\\\": \\\"Finally, it recommends consulting with a borrower rights advocate or student loan ombudsman if the issue persists or if further assistance is needed.\\\",\\n      \\\"reason\\\": \\\"The context concludes with this advice, supporting the statement.\\\",\\n      \\\"verdict\\\": 1\\n    }\\n  ]\\n}\"}\n",
            "\n",
            "This JSON object contains a single property \"text\" with a string value that is a valid JSON string, complying with the schema requirements.\n",
            "For troubleshooting, visit: https://python.langchain.com/docs/troubleshooting/errors/OUTPUT_PARSING_FAILURE )\n",
            "Exception raised in Job[5]: TimeoutError()\n",
            "Exception raised in Job[10]: TimeoutError()\n",
            "Exception raised in Job[11]: TimeoutError()\n",
            "Exception raised in Job[16]: TimeoutError()\n",
            "Exception raised in Job[17]: TimeoutError()\n",
            "Exception raised in Job[22]: TimeoutError()\n",
            "Exception raised in Job[28]: TimeoutError()\n",
            "Exception raised in Job[34]: TimeoutError()\n",
            "Exception raised in Job[35]: TimeoutError()\n",
            "Exception raised in Job[41]: TimeoutError()\n",
            "Exception raised in Job[46]: TimeoutError()\n",
            "Exception raised in Job[47]: TimeoutError()\n",
            "Exception raised in Job[52]: TimeoutError()\n",
            "Exception raised in Job[53]: TimeoutError()\n",
            "Exception raised in Job[59]: TimeoutError()\n",
            "Exception raised in Job[64]: TimeoutError()\n",
            "Exception raised in Job[65]: TimeoutError()\n"
          ]
        },
        {
          "name": "stdout",
          "output_type": "stream",
          "text": [
            "Evaluation LLM model: gpt-4.1-nano\n",
            "Evaluation results: {'context_recall': 1.0000, 'faithfulness': 1.0000, 'factual_correctness(mode=f1)': 0.8736, 'answer_relevancy': 0.7661, 'context_entity_recall': 0.3929, 'noise_sensitivity(mode=relevant)': 0.1667}\n",
            "Evaluation tokens: 840800\n",
            "Evaluation cost: 0.158888\n"
          ]
        }
      ],
      "source": [
        "multi_query_evaluation = evaluate_retriever(\"Multi-Query\", multi_query_retrieval_chain, dataset)"
      ]
    },
    {
      "cell_type": "code",
      "execution_count": 170,
      "metadata": {},
      "outputs": [
        {
          "name": "stdout",
          "output_type": "stream",
          "text": [
            "📊 Running evaluation for: Parent-Document\n",
            "Prompt 1 | ⏱️ 10.60s | Tokens 3365 | Cost 0.000401\n",
            "Prompt 2 | ⏱️ 4.71s | Tokens 3198 | Cost 0.000408\n",
            "Prompt 3 | ⏱️ 2.60s | Tokens 3225 | Cost 0.000394\n",
            "Prompt 4 | ⏱️ 0.92s | Tokens 4735 | Cost 0.000498\n",
            "Prompt 5 | ⏱️ 2.32s | Tokens 4467 | Cost 0.000494\n",
            "Prompt 6 | ⏱️ 9.90s | Tokens 5408 | Cost 0.000704\n",
            "Prompt 7 | ⏱️ 5.18s | Tokens 4008 | Cost 0.000488\n",
            "Prompt 8 | ⏱️ 6.56s | Tokens 3859 | Cost 0.000494\n",
            "Prompt 9 | ⏱️ 3.46s | Tokens 4089 | Cost 0.000471\n",
            "Prompt 10 | ⏱️ 2.98s | Tokens 3802 | Cost 0.000486\n",
            "Prompt 11 | ⏱️ 2.03s | Tokens 4369 | Cost 0.000504\n",
            "\n",
            "📊 Summary for Parent-Document:\n",
            "🔢 Total tokens: 44525\n",
            "⏱️ Avg latency: 4.66s\n",
            "🔢 Avg tokens per query: 4047.73\n",
            "⏱️ Total duration: 51.26s\n",
            "💰 Total cost: 0.005343\n"
          ]
        },
        {
          "data": {
            "application/vnd.jupyter.widget-view+json": {
              "model_id": "7ba8ab614501437fb45edd6e6989d09d",
              "version_major": 2,
              "version_minor": 0
            },
            "text/plain": [
              "Evaluating:   0%|          | 0/66 [00:00<?, ?it/s]"
            ]
          },
          "metadata": {},
          "output_type": "display_data"
        },
        {
          "name": "stderr",
          "output_type": "stream",
          "text": [
            "Exception raised in Job[46]: TimeoutError()\n"
          ]
        },
        {
          "name": "stdout",
          "output_type": "stream",
          "text": [
            "Evaluation LLM model: gpt-4.1-nano\n",
            "Evaluation results: {'context_recall': 0.9091, 'faithfulness': 1.0000, 'factual_correctness(mode=f1)': 0.8500, 'answer_relevancy': 0.8454, 'context_entity_recall': 0.3595, 'noise_sensitivity(mode=relevant)': 0.1780}\n",
            "Evaluation tokens: 444213\n",
            "Evaluation cost: 0.080766\n"
          ]
        }
      ],
      "source": [
        "parent_document_evaluation = evaluate_retriever(\"Parent-Document\", parent_document_retrieval_chain, dataset)"
      ]
    },
    {
      "cell_type": "code",
      "execution_count": 171,
      "metadata": {},
      "outputs": [
        {
          "name": "stdout",
          "output_type": "stream",
          "text": [
            "📊 Running evaluation for: Contextual Compression\n",
            "Prompt 1 | ⏱️ 6.43s | Tokens 2554 | Cost 0.000324\n",
            "Prompt 2 | ⏱️ 14.21s | Tokens 2453 | Cost 0.000360\n",
            "Prompt 3 | ⏱️ 2.52s | Tokens 2455 | Cost 0.000287\n",
            "Prompt 4 | ⏱️ 2.11s | Tokens 4180 | Cost 0.000447\n",
            "Prompt 5 | ⏱️ 3.37s | Tokens 2106 | Cost 0.000269\n",
            "Prompt 6 | ⏱️ 7.06s | Tokens 3701 | Cost 0.000500\n",
            "Prompt 7 | ⏱️ 5.01s | Tokens 3398 | Cost 0.000433\n",
            "Prompt 8 | ⏱️ 7.76s | Tokens 2417 | Cost 0.000320\n",
            "Prompt 9 | ⏱️ 2.93s | Tokens 3142 | Cost 0.000384\n",
            "Prompt 10 | ⏱️ 2.90s | Tokens 2576 | Cost 0.000350\n",
            "Prompt 11 | ⏱️ 5.88s | Tokens 3576 | Cost 0.000459\n",
            "\n",
            "📊 Summary for Contextual Compression:\n",
            "🔢 Total tokens: 32558\n",
            "⏱️ Avg latency: 5.47s\n",
            "🔢 Avg tokens per query: 2959.82\n",
            "⏱️ Total duration: 60.18s\n",
            "💰 Total cost: 0.004131\n"
          ]
        },
        {
          "data": {
            "application/vnd.jupyter.widget-view+json": {
              "model_id": "2ace7e6cb462427889f8b74789bb892f",
              "version_major": 2,
              "version_minor": 0
            },
            "text/plain": [
              "Evaluating:   0%|          | 0/66 [00:00<?, ?it/s]"
            ]
          },
          "metadata": {},
          "output_type": "display_data"
        },
        {
          "name": "stdout",
          "output_type": "stream",
          "text": [
            "Evaluation LLM model: gpt-4.1-nano\n",
            "Evaluation results: {'context_recall': 0.8727, 'faithfulness': 0.9935, 'factual_correctness(mode=f1)': 0.7873, 'answer_relevancy': 0.8476, 'context_entity_recall': 0.4667, 'noise_sensitivity(mode=relevant)': 0.0675}\n",
            "Evaluation tokens: 379014\n",
            "Evaluation cost: 0.069740\n"
          ]
        }
      ],
      "source": [
        "contextual_compression_evaluation = evaluate_retriever(\"Contextual Compression\", contextual_compression_retrieval_chain, dataset)"
      ]
    },
    {
      "cell_type": "code",
      "execution_count": 172,
      "metadata": {},
      "outputs": [
        {
          "name": "stdout",
          "output_type": "stream",
          "text": [
            "📊 Running evaluation for: Ensemble\n",
            "Prompt 1 | ⏱️ 12.37s | Tokens 17324 | Cost 0.001813\n",
            "Prompt 2 | ⏱️ 12.59s | Tokens 17048 | Cost 0.001857\n",
            "Prompt 3 | ⏱️ 7.50s | Tokens 18319 | Cost 0.001926\n",
            "Prompt 4 | ⏱️ 5.45s | Tokens 19940 | Cost 0.002067\n",
            "Prompt 5 | ⏱️ 6.67s | Tokens 16565 | Cost 0.001733\n",
            "Prompt 6 | ⏱️ 15.31s | Tokens 20395 | Cost 0.002291\n",
            "Prompt 7 | ⏱️ 8.68s | Tokens 18982 | Cost 0.002026\n",
            "Prompt 8 | ⏱️ 10.43s | Tokens 14550 | Cost 0.001573\n",
            "Prompt 9 | ⏱️ 12.02s | Tokens 18452 | Cost 0.002049\n",
            "Prompt 10 | ⏱️ 9.28s | Tokens 17457 | Cost 0.001887\n",
            "Prompt 11 | ⏱️ 8.60s | Tokens 22957 | Cost 0.002441\n",
            "\n",
            "📊 Summary for Ensemble:\n",
            "🔢 Total tokens: 201989\n",
            "⏱️ Avg latency: 9.90s\n",
            "🔢 Avg tokens per query: 18362.64\n",
            "⏱️ Total duration: 108.90s\n",
            "💰 Total cost: 0.021664\n"
          ]
        },
        {
          "data": {
            "application/vnd.jupyter.widget-view+json": {
              "model_id": "7c0bee1dd1bd4688ae6f09efacdf8606",
              "version_major": 2,
              "version_minor": 0
            },
            "text/plain": [
              "Evaluating:   0%|          | 0/66 [00:00<?, ?it/s]"
            ]
          },
          "metadata": {},
          "output_type": "display_data"
        },
        {
          "name": "stderr",
          "output_type": "stream",
          "text": [
            "Exception raised in Job[5]: TimeoutError()\n",
            "Exception raised in Job[10]: TimeoutError()\n",
            "Exception raised in Job[11]: TimeoutError()\n",
            "Exception raised in Job[16]: TimeoutError()\n",
            "Exception raised in Job[17]: TimeoutError()\n",
            "Exception raised in Job[22]: TimeoutError()\n",
            "Exception raised in Job[34]: TimeoutError()\n",
            "Exception raised in Job[35]: TimeoutError()\n",
            "Exception raised in Job[40]: TimeoutError()\n",
            "Exception raised in Job[41]: TimeoutError()\n",
            "Exception raised in Job[47]: TimeoutError()\n",
            "Exception raised in Job[53]: TimeoutError()\n",
            "Exception raised in Job[59]: TimeoutError()\n",
            "Exception raised in Job[64]: TimeoutError()\n",
            "Exception raised in Job[65]: TimeoutError()\n"
          ]
        },
        {
          "name": "stdout",
          "output_type": "stream",
          "text": [
            "Evaluation LLM model: gpt-4.1-nano\n",
            "Evaluation results: {'context_recall': 1.0000, 'faithfulness': 1.0000, 'factual_correctness(mode=f1)': 0.7427, 'answer_relevancy': 0.8460, 'context_entity_recall': 0.3198, 'noise_sensitivity(mode=relevant)': 0.1538}\n",
            "Evaluation tokens: 1106277\n",
            "Evaluation cost: 0.205831\n"
          ]
        }
      ],
      "source": [
        "ensemble_evaluation = evaluate_retriever(\"Ensemble\", ensemble_retrieval_chain, dataset)"
      ]
    },
    {
      "cell_type": "code",
      "execution_count": 173,
      "metadata": {},
      "outputs": [
        {
          "name": "stdout",
          "output_type": "stream",
          "text": [
            "📊 Running evaluation for: Semantic\n",
            "Prompt 1 | ⏱️ 4.89s | Tokens 6099 | Cost 0.000675\n",
            "Prompt 2 | ⏱️ 4.01s | Tokens 6700 | Cost 0.000762\n",
            "Prompt 3 | ⏱️ 5.02s | Tokens 6306 | Cost 0.000694\n",
            "Prompt 4 | ⏱️ 1.14s | Tokens 6789 | Cost 0.000703\n",
            "Prompt 5 | ⏱️ 1.74s | Tokens 5440 | Cost 0.000614\n",
            "Prompt 6 | ⏱️ 7.06s | Tokens 7516 | Cost 0.000896\n",
            "Prompt 7 | ⏱️ 10.28s | Tokens 6557 | Cost 0.000773\n",
            "Prompt 8 | ⏱️ 3.15s | Tokens 6231 | Cost 0.000725\n",
            "Prompt 9 | ⏱️ 6.60s | Tokens 7660 | Cost 0.000893\n",
            "Prompt 10 | ⏱️ 15.14s | Tokens 7407 | Cost 0.000875\n",
            "Prompt 11 | ⏱️ 4.39s | Tokens 6508 | Cost 0.000758\n",
            "\n",
            "📊 Summary for Semantic:\n",
            "🔢 Total tokens: 73213\n",
            "⏱️ Avg latency: 5.77s\n",
            "🔢 Avg tokens per query: 6655.73\n",
            "⏱️ Total duration: 63.42s\n",
            "💰 Total cost: 0.008367\n"
          ]
        },
        {
          "data": {
            "application/vnd.jupyter.widget-view+json": {
              "model_id": "2473bbd4a3d94902a2ee769f075ebb65",
              "version_major": 2,
              "version_minor": 0
            },
            "text/plain": [
              "Evaluating:   0%|          | 0/66 [00:00<?, ?it/s]"
            ]
          },
          "metadata": {},
          "output_type": "display_data"
        },
        {
          "name": "stderr",
          "output_type": "stream",
          "text": [
            "Exception raised in Job[10]: TimeoutError()\n",
            "Exception raised in Job[16]: TimeoutError()\n"
          ]
        },
        {
          "name": "stdout",
          "output_type": "stream",
          "text": [
            "Evaluation LLM model: gpt-4.1-nano\n",
            "Evaluation results: {'context_recall': 1.0000, 'faithfulness': 0.9893, 'factual_correctness(mode=f1)': 0.8227, 'answer_relevancy': 0.8662, 'context_entity_recall': 0.3311, 'noise_sensitivity(mode=relevant)': 0.1116}\n",
            "Evaluation tokens: 691847\n",
            "Evaluation cost: 0.139370\n"
          ]
        }
      ],
      "source": [
        "semantic_evaluation = evaluate_retriever(\"Semantic\", semantic_retrieval_chain, dataset)"
      ]
    },
    {
      "cell_type": "code",
      "execution_count": 250,
      "metadata": {},
      "outputs": [],
      "source": [
        "all_results = {\n",
        "    \"Naive\": naive_evaluation,\n",
        "    \"BM25\": bm25_evaluation,\n",
        "    \"Multi-Query\": multi_query_evaluation,\n",
        "    \"Parent-Document\": parent_document_evaluation,\n",
        "    \"Contextual Compression\": contextual_compression_evaluation,\n",
        "    \"Ensemble\": ensemble_evaluation,\n",
        "    \"Semantic\": semantic_evaluation,\n",
        "}\n"
      ]
    },
    {
      "cell_type": "code",
      "execution_count": 251,
      "metadata": {},
      "outputs": [],
      "source": [
        "import pandas as pd\n",
        "from IPython.display import display\n",
        "import numpy as np\n",
        "\n",
        "def evaluation_result_to_dict(result):\n",
        "    \"\"\"\n",
        "    Convert EvaluationResult.scores (list of per-example dicts) to average metric values.\n",
        "    \"\"\"\n",
        "    scores_list = result.scores\n",
        "    if not scores_list or not isinstance(scores_list, list):\n",
        "        return {}\n",
        "\n",
        "    aggregated = {}\n",
        "    for key in scores_list[0].keys():\n",
        "        values = [s[key] for s in scores_list if s[key] is not None and not (isinstance(s[key], float) and np.isnan(s[key]))]\n",
        "        if values:\n",
        "            aggregated[key] = round(float(np.mean(values)), 4)\n",
        "\n",
        "    return aggregated\n",
        "\n",
        "def display_summary_table(results: dict):\n",
        "    \"\"\"\n",
        "    Displays a summary table comparing retriever pipelines with averaged RAGAS metrics.\n",
        "    \n",
        "    Args:\n",
        "        results (dict): A dictionary of evaluation results from evaluate_retriever().\n",
        "    \"\"\"\n",
        "    summary_data = []\n",
        "\n",
        "    for _, result in results.items():\n",
        "        eval_scores = evaluation_result_to_dict(result[\"evaluation_result\"])\n",
        "\n",
        "        row = {\n",
        "            \"Pipeline\": result[\"name\"],\n",
        "            **result[\"summary\"],\n",
        "            \"ContextRecall\": eval_scores.get(\"context_recall\"),\n",
        "            \"Faithfulness\": eval_scores.get(\"faithfulness\"),\n",
        "            \"FactualCorrectness\": eval_scores.get(\"factual_correctness(mode=f1)\"),\n",
        "            \"AnswerRelevancy\": eval_scores.get(\"answer_relevancy\"),\n",
        "            \"ContextEntityRecall\": eval_scores.get(\"context_entity_recall\"),\n",
        "            \"NoiseSensitivity\": eval_scores.get(\"noise_sensitivity(mode=relevant)\"),\n",
        "        }\n",
        "\n",
        "        summary_data.append(row)\n",
        "\n",
        "    df = pd.DataFrame(summary_data)\n",
        "    display(df.sort_values(by=\"ContextRecall\", ascending=False).reset_index(drop=True))\n"
      ]
    },
    {
      "cell_type": "code",
      "execution_count": 252,
      "metadata": {},
      "outputs": [
        {
          "data": {
            "text/html": [
              "<div>\n",
              "<style scoped>\n",
              "    .dataframe tbody tr th:only-of-type {\n",
              "        vertical-align: middle;\n",
              "    }\n",
              "\n",
              "    .dataframe tbody tr th {\n",
              "        vertical-align: top;\n",
              "    }\n",
              "\n",
              "    .dataframe thead th {\n",
              "        text-align: right;\n",
              "    }\n",
              "</style>\n",
              "<table border=\"1\" class=\"dataframe\">\n",
              "  <thead>\n",
              "    <tr style=\"text-align: right;\">\n",
              "      <th></th>\n",
              "      <th>Pipeline</th>\n",
              "      <th>total_runtime</th>\n",
              "      <th>avg_latency</th>\n",
              "      <th>total_tokens</th>\n",
              "      <th>total_queries</th>\n",
              "      <th>total_cost</th>\n",
              "      <th>avg_tokens_per_query</th>\n",
              "      <th>ContextRecall</th>\n",
              "      <th>Faithfulness</th>\n",
              "      <th>FactualCorrectness</th>\n",
              "      <th>AnswerRelevancy</th>\n",
              "      <th>ContextEntityRecall</th>\n",
              "      <th>NoiseSensitivity</th>\n",
              "    </tr>\n",
              "  </thead>\n",
              "  <tbody>\n",
              "    <tr>\n",
              "      <th>0</th>\n",
              "      <td>BM25</td>\n",
              "      <td>39.38</td>\n",
              "      <td>3.58</td>\n",
              "      <td>41507</td>\n",
              "      <td>11</td>\n",
              "      <td>0.005088</td>\n",
              "      <td>3773.36</td>\n",
              "      <td>1.0000</td>\n",
              "      <td>0.9770</td>\n",
              "      <td>0.7745</td>\n",
              "      <td>0.6793</td>\n",
              "      <td>0.4873</td>\n",
              "      <td>0.1713</td>\n",
              "    </tr>\n",
              "    <tr>\n",
              "      <th>1</th>\n",
              "      <td>Multi-Query</td>\n",
              "      <td>91.06</td>\n",
              "      <td>8.28</td>\n",
              "      <td>144616</td>\n",
              "      <td>11</td>\n",
              "      <td>0.015926</td>\n",
              "      <td>13146.91</td>\n",
              "      <td>1.0000</td>\n",
              "      <td>1.0000</td>\n",
              "      <td>0.8736</td>\n",
              "      <td>0.7661</td>\n",
              "      <td>0.3929</td>\n",
              "      <td>0.1667</td>\n",
              "    </tr>\n",
              "    <tr>\n",
              "      <th>2</th>\n",
              "      <td>Semantic</td>\n",
              "      <td>63.42</td>\n",
              "      <td>5.77</td>\n",
              "      <td>73213</td>\n",
              "      <td>11</td>\n",
              "      <td>0.008367</td>\n",
              "      <td>6655.73</td>\n",
              "      <td>1.0000</td>\n",
              "      <td>0.9893</td>\n",
              "      <td>0.8227</td>\n",
              "      <td>0.8662</td>\n",
              "      <td>0.3311</td>\n",
              "      <td>0.1116</td>\n",
              "    </tr>\n",
              "    <tr>\n",
              "      <th>3</th>\n",
              "      <td>Ensemble</td>\n",
              "      <td>108.90</td>\n",
              "      <td>9.90</td>\n",
              "      <td>201989</td>\n",
              "      <td>11</td>\n",
              "      <td>0.021664</td>\n",
              "      <td>18362.64</td>\n",
              "      <td>1.0000</td>\n",
              "      <td>1.0000</td>\n",
              "      <td>0.7427</td>\n",
              "      <td>0.8460</td>\n",
              "      <td>0.3198</td>\n",
              "      <td>0.1538</td>\n",
              "    </tr>\n",
              "    <tr>\n",
              "      <th>4</th>\n",
              "      <td>Parent-Document</td>\n",
              "      <td>51.26</td>\n",
              "      <td>4.66</td>\n",
              "      <td>44525</td>\n",
              "      <td>11</td>\n",
              "      <td>0.005343</td>\n",
              "      <td>4047.73</td>\n",
              "      <td>0.9091</td>\n",
              "      <td>1.0000</td>\n",
              "      <td>0.8500</td>\n",
              "      <td>0.8454</td>\n",
              "      <td>0.3595</td>\n",
              "      <td>0.1780</td>\n",
              "    </tr>\n",
              "    <tr>\n",
              "      <th>5</th>\n",
              "      <td>Naive</td>\n",
              "      <td>69.34</td>\n",
              "      <td>6.30</td>\n",
              "      <td>81221</td>\n",
              "      <td>11</td>\n",
              "      <td>0.009144</td>\n",
              "      <td>7383.73</td>\n",
              "      <td>0.8727</td>\n",
              "      <td>1.0000</td>\n",
              "      <td>0.7855</td>\n",
              "      <td>0.9421</td>\n",
              "      <td>0.5169</td>\n",
              "      <td>0.0618</td>\n",
              "    </tr>\n",
              "    <tr>\n",
              "      <th>6</th>\n",
              "      <td>Contextual Compression</td>\n",
              "      <td>60.18</td>\n",
              "      <td>5.47</td>\n",
              "      <td>32558</td>\n",
              "      <td>11</td>\n",
              "      <td>0.004131</td>\n",
              "      <td>2959.82</td>\n",
              "      <td>0.8727</td>\n",
              "      <td>0.9935</td>\n",
              "      <td>0.7873</td>\n",
              "      <td>0.8476</td>\n",
              "      <td>0.4667</td>\n",
              "      <td>0.0675</td>\n",
              "    </tr>\n",
              "  </tbody>\n",
              "</table>\n",
              "</div>"
            ],
            "text/plain": [
              "                 Pipeline  total_runtime  avg_latency  total_tokens  \\\n",
              "0                    BM25          39.38         3.58         41507   \n",
              "1             Multi-Query          91.06         8.28        144616   \n",
              "2                Semantic          63.42         5.77         73213   \n",
              "3                Ensemble         108.90         9.90        201989   \n",
              "4         Parent-Document          51.26         4.66         44525   \n",
              "5                   Naive          69.34         6.30         81221   \n",
              "6  Contextual Compression          60.18         5.47         32558   \n",
              "\n",
              "   total_queries  total_cost  avg_tokens_per_query  ContextRecall  \\\n",
              "0             11    0.005088               3773.36         1.0000   \n",
              "1             11    0.015926              13146.91         1.0000   \n",
              "2             11    0.008367               6655.73         1.0000   \n",
              "3             11    0.021664              18362.64         1.0000   \n",
              "4             11    0.005343               4047.73         0.9091   \n",
              "5             11    0.009144               7383.73         0.8727   \n",
              "6             11    0.004131               2959.82         0.8727   \n",
              "\n",
              "   Faithfulness  FactualCorrectness  AnswerRelevancy  ContextEntityRecall  \\\n",
              "0        0.9770              0.7745           0.6793               0.4873   \n",
              "1        1.0000              0.8736           0.7661               0.3929   \n",
              "2        0.9893              0.8227           0.8662               0.3311   \n",
              "3        1.0000              0.7427           0.8460               0.3198   \n",
              "4        1.0000              0.8500           0.8454               0.3595   \n",
              "5        1.0000              0.7855           0.9421               0.5169   \n",
              "6        0.9935              0.7873           0.8476               0.4667   \n",
              "\n",
              "   NoiseSensitivity  \n",
              "0            0.1713  \n",
              "1            0.1667  \n",
              "2            0.1116  \n",
              "3            0.1538  \n",
              "4            0.1780  \n",
              "5            0.0618  \n",
              "6            0.0675  "
            ]
          },
          "metadata": {},
          "output_type": "display_data"
        }
      ],
      "source": [
        "display_summary_table(all_results)\n"
      ]
    },
    {
      "cell_type": "code",
      "execution_count": null,
      "metadata": {},
      "outputs": [],
      "source": []
    }
  ],
  "metadata": {
    "colab": {
      "provenance": [],
      "toc_visible": true
    },
    "kernelspec": {
      "display_name": ".venv",
      "language": "python",
      "name": "python3"
    },
    "language_info": {
      "codemirror_mode": {
        "name": "ipython",
        "version": 3
      },
      "file_extension": ".py",
      "mimetype": "text/x-python",
      "name": "python",
      "nbconvert_exporter": "python",
      "pygments_lexer": "ipython3",
      "version": "3.13.3"
    }
  },
  "nbformat": 4,
  "nbformat_minor": 0
}
