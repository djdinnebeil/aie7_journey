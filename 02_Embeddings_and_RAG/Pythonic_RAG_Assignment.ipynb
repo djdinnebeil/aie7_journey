{
 "cells": [
  {
   "cell_type": "markdown",
   "metadata": {
    "id": "lElF3o5PR6ys"
   },
   "source": [
    "# Your First RAG Application\n",
    "\n",
    "In this notebook, we'll walk you through each of the components that are involved in a simple RAG application.\n",
    "\n",
    "We won't be leveraging any fancy tools, just the OpenAI Python SDK, Numpy, and some classic Python.\n",
    "\n",
    "> NOTE: This was done with Python 3.11.4.\n",
    "\n",
    "> NOTE: There might be [compatibility issues](https://github.com/wandb/wandb/issues/7683) if you're on NVIDIA driver >552.44 As an interim solution - you can rollback your drivers to the 552.44."
   ]
  },
  {
   "cell_type": "markdown",
   "metadata": {
    "id": "5CtcL8P8R6yt"
   },
   "source": [
    "## Table of Contents:\n",
    "\n",
    "- Task 1: Imports and Utilities\n",
    "- Task 2: Documents\n",
    "- Task 3: Embeddings and Vectors\n",
    "- Task 4: Prompts\n",
    "- Task 5: Retrieval Augmented Generation\n",
    "  - 🚧 Activity #1: Augment RAG"
   ]
  },
  {
   "cell_type": "markdown",
   "metadata": {
    "id": "1Dz6GYilR6yt"
   },
   "source": [
    "Let's look at a rather complicated looking visual representation of a basic RAG application.\n",
    "\n",
    "<img src=\"https://i.imgur.com/vD8b016.png\" />"
   ]
  },
  {
   "cell_type": "markdown",
   "metadata": {
    "id": "PjmC0KFtR6yt"
   },
   "source": [
    "## Task 1: Imports and Utility\n",
    "\n",
    "We're just doing some imports and enabling `async` to work within the Jupyter environment here, nothing too crazy!"
   ]
  },
  {
   "cell_type": "code",
   "execution_count": 24,
   "metadata": {
    "id": "Z1dyrG4hR6yt"
   },
   "outputs": [],
   "source": [
    "from aimakerspace.text_utils import UniversalFileLoader, CharacterTextSplitter\n",
    "from aimakerspace.vectordatabase import VectorDatabase\n",
    "import asyncio"
   ]
  },
  {
   "cell_type": "code",
   "execution_count": 25,
   "metadata": {
    "id": "9OrFZRnER6yt"
   },
   "outputs": [],
   "source": [
    "import nest_asyncio\n",
    "nest_asyncio.apply()"
   ]
  },
  {
   "cell_type": "markdown",
   "metadata": {
    "id": "M0jGnpQsR6yu"
   },
   "source": [
    "## Task 2: Documents\n",
    "\n",
    "We'll be concerning ourselves with this part of the flow in the following section:\n",
    "\n",
    "<img src=\"https://i.imgur.com/jTm9gjk.png\" />"
   ]
  },
  {
   "cell_type": "markdown",
   "metadata": {
    "id": "-SFPWvRUR6yu"
   },
   "source": [
    "### Loading Source Documents\n",
    "\n",
    "So, first things first, we need some documents to work with.\n",
    "\n",
    "While we could work directly with the `.txt` files (or whatever file-types you wanted to extend this to) we can instead do some batch processing of those documents at the beginning in order to store them in a more machine compatible format.\n",
    "\n",
    "In this case, we're going to parse our text file into a single document in memory.\n",
    "\n",
    "Let's look at the relevant bits of the `TextFileLoader` class:\n",
    "\n",
    "```python\n",
    "def load_file(self):\n",
    "        with open(self.path, \"r\", encoding=self.encoding) as f:\n",
    "            self.documents.append(f.read())\n",
    "```\n",
    "\n",
    "We're simply loading the document using the built in `open` method, and storing that output in our `self.documents` list.\n",
    "\n",
    "> NOTE: We're using blogs from PMarca (Marc Andreessen) as our sample data. This data is largely irrelevant as we want to focus on the mechanisms of RAG, which includes out data's shape and quality - but not specifically what the contents of the data are. \n"
   ]
  },
  {
   "cell_type": "code",
   "execution_count": 26,
   "metadata": {
    "colab": {
     "base_uri": "https://localhost:8080/"
    },
    "id": "Ia2sUEuGR6yu",
    "outputId": "84937ecc-c35f-4c4a-a4ab-9da72625954c"
   },
   "outputs": [
    {
     "data": {
      "text/plain": [
       "6"
      ]
     },
     "execution_count": 26,
     "metadata": {},
     "output_type": "execute_result"
    }
   ],
   "source": [
    "text_loader = UniversalFileLoader(\"data\")\n",
    "documents = text_loader.load()\n",
    "len(documents)"
   ]
  },
  {
   "cell_type": "code",
   "execution_count": 27,
   "metadata": {
    "colab": {
     "base_uri": "https://localhost:8080/"
    },
    "id": "bV-tj5WFR6yu",
    "outputId": "674eb315-1ff3-4597-bcf5-38ece0a812ac"
   },
   "outputs": [
    {
     "name": "stdout",
     "output_type": "stream",
     "text": [
      "\n",
      "The Pmarca Blog Archives\n",
      "(select posts from 2007-2009)\n",
      "Marc Andreessen\n",
      "copyright: Andreessen Horow\n"
     ]
    }
   ],
   "source": [
    "print(documents[0][:100])"
   ]
  },
  {
   "cell_type": "markdown",
   "metadata": {
    "id": "nHlTvCzYR6yu"
   },
   "source": [
    "### Splitting Text Into Chunks\n",
    "\n",
    "As we can see, there is one massive document.\n",
    "\n",
    "We'll want to chunk the document into smaller parts so it's easier to pass the most relevant snippets to the LLM.\n",
    "\n",
    "There is no fixed way to split/chunk documents - and you'll need to rely on some intuition as well as knowing your data *very* well in order to build the most robust system.\n",
    "\n",
    "For this toy example, we'll just split blindly on length.\n",
    "\n",
    ">There's an opportunity to clear up some terminology here, for this course we will be stick to the following:\n",
    ">\n",
    ">- \"source documents\" : The `.txt`, `.pdf`, `.html`, ..., files that make up the files and information we start with in its raw format\n",
    ">- \"document(s)\" : single (or more) text object(s)\n",
    ">- \"corpus\" : the combination of all of our documents"
   ]
  },
  {
   "cell_type": "markdown",
   "metadata": {
    "id": "2G6Voc0jR6yv"
   },
   "source": [
    "As you can imagine (though it's not specifically true in this toy example) the idea of splitting documents is to break them into managable sized chunks that retain the most relevant local context."
   ]
  },
  {
   "cell_type": "code",
   "execution_count": 28,
   "metadata": {
    "colab": {
     "base_uri": "https://localhost:8080/"
    },
    "id": "UMC4tsEmR6yv",
    "outputId": "08689c0b-57cd-4040-942a-8193e997f5cb"
   },
   "outputs": [
    {
     "data": {
      "text/plain": [
       "428"
      ]
     },
     "execution_count": 28,
     "metadata": {},
     "output_type": "execute_result"
    }
   ],
   "source": [
    "text_splitter = CharacterTextSplitter()\n",
    "split_documents = text_splitter.split_texts(documents)\n",
    "len(split_documents)"
   ]
  },
  {
   "cell_type": "markdown",
   "metadata": {
    "id": "W2wKT0WLR6yv"
   },
   "source": [
    "Let's take a look at some of the documents we've managed to split."
   ]
  },
  {
   "cell_type": "code",
   "execution_count": 29,
   "metadata": {
    "colab": {
     "base_uri": "https://localhost:8080/"
    },
    "id": "vcYMwWJoR6yv",
    "outputId": "20d69876-feca-4826-b4be-32915276987a"
   },
   "outputs": [
    {
     "data": {
      "text/plain": [
       "['\\ufeff\\nThe Pmarca Blog Archives\\n(select posts from 2007-2009)\\nMarc Andreessen\\ncopyright: Andreessen Horowitz\\ncover design: Jessica Hagy\\nproduced using: Pressbooks\\nContents\\nTHE PMARCA GUIDE TO STARTUPS\\nPart 1: Why not to do a startup 2\\nPart 2: When the VCs say \"no\" 10\\nPart 3: \"But I don\\'t know any VCs!\" 18\\nPart 4: The only thing that matters 25\\nPart 5: The Moby Dick theory of big companies 33\\nPart 6: How much funding is too little? Too much? 41\\nPart 7: Why a startup\\'s initial business plan doesn\\'t\\nmatter that much\\n49\\nTHE PMARCA GUIDE TO HIRING\\nPart 8: Hiring, managing, promoting, and Dring\\nexecutives\\n54\\nPart 9: How to hire a professional CEO 68\\nHow to hire the best people you\\'ve ever worked\\nwith\\n69\\nTHE PMARCA GUIDE TO BIG COMPANIES\\nPart 1: Turnaround! 82\\nPart 2: Retaining great people 86\\nTHE PMARCA GUIDE TO CAREER, PRODUCTIVITY,\\nAND SOME OTHER THINGS\\nIntroduction 97\\nPart 1: Opportunity 99\\nPart 2: Skills and education 107\\nPart 3: Where to go and why 120\\nThe Pmarca Guide to Personal Productivi']"
      ]
     },
     "execution_count": 29,
     "metadata": {},
     "output_type": "execute_result"
    }
   ],
   "source": [
    "split_documents[0:1]"
   ]
  },
  {
   "cell_type": "markdown",
   "metadata": {
    "id": "HOU-RFP_R6yv"
   },
   "source": [
    "## Task 3: Embeddings and Vectors\n",
    "\n",
    "Next, we have to convert our corpus into a \"machine readable\" format as we explored in the Embedding Primer notebook.\n",
    "\n",
    "Today, we're going to talk about the actual process of creating, and then storing, these embeddings, and how we can leverage that to intelligently add context to our queries."
   ]
  },
  {
   "cell_type": "markdown",
   "metadata": {},
   "source": [
    "### OpenAI API Key\n",
    "\n",
    "In order to access OpenAI's APIs, we'll need to provide our OpenAI API Key!\n",
    "\n",
    "You can work through the folder \"OpenAI API Key Setup\" for more information on this process if you don't already have an API Key!"
   ]
  },
  {
   "cell_type": "code",
   "execution_count": 30,
   "metadata": {},
   "outputs": [],
   "source": [
    "import os\n",
    "import openai\n",
    "from getpass import getpass\n",
    "\n",
    "openai.api_key = getpass(\"OpenAI API Key: \")\n",
    "os.environ[\"OPENAI_API_KEY\"] = openai.api_key"
   ]
  },
  {
   "cell_type": "markdown",
   "metadata": {},
   "source": [
    "### Vector Database\n",
    "\n",
    "Let's set up our vector database to hold all our documents and their embeddings!"
   ]
  },
  {
   "cell_type": "markdown",
   "metadata": {
    "id": "kDQrfAR1R6yv"
   },
   "source": [
    "While this is all baked into 1 call - we can look at some of the code that powers this process to get a better understanding:\n",
    "\n",
    "Let's look at our `VectorDatabase().__init__()`:\n",
    "\n",
    "```python\n",
    "def __init__(self, embedding_model: EmbeddingModel = None):\n",
    "        self.vectors = defaultdict(np.array)\n",
    "        self.embedding_model = embedding_model or EmbeddingModel()\n",
    "```\n",
    "\n",
    "As you can see - our vectors are merely stored as a dictionary of `np.array` objects.\n",
    "\n",
    "Secondly, our `VectorDatabase()` has a default `EmbeddingModel()` which is a wrapper for OpenAI's `text-embedding-3-small` model.\n",
    "\n",
    "> **Quick Info About `text-embedding-3-small`**:\n",
    "> - It has a context window of **8191** tokens\n",
    "> - It returns vectors with dimension **1536**"
   ]
  },
  {
   "cell_type": "markdown",
   "metadata": {
    "id": "L273pRdeR6yv"
   },
   "source": [
    "#### ❓Question #1:\n",
    "\n",
    "The default embedding dimension of `text-embedding-3-small` is 1536, as noted above. \n",
    "\n",
    "1. Is there any way to modify this dimension?\n",
    "2. What technique does OpenAI use to achieve this?\n",
    "\n",
    "> NOTE: Check out this [API documentation](https://platform.openai.com/docs/api-reference/embeddings/create) for the answer to question #1, and [this documentation](https://platform.openai.com/docs/guides/embeddings/use-cases) for an answer to question #2!"
   ]
  },
  {
   "cell_type": "markdown",
   "metadata": {
    "id": "w5FZY7K3R6yv"
   },
   "source": [
    "We can call the `async_get_embeddings` method of our `EmbeddingModel()` on a list of `str` and receive a list of `float` back!\n",
    "\n",
    "```python\n",
    "async def async_get_embeddings(self, list_of_text: List[str]) -> List[List[float]]:\n",
    "        return await aget_embeddings(\n",
    "            list_of_text=list_of_text, engine=self.embeddings_model_name\n",
    "        )\n",
    "```"
   ]
  },
  {
   "cell_type": "markdown",
   "metadata": {
    "id": "cSct6X0aR6yv"
   },
   "source": [
    "We cast those to `np.array` when we build our `VectorDatabase()`:\n",
    "\n",
    "```python\n",
    "async def abuild_from_list(self, list_of_text: List[str]) -> \"VectorDatabase\":\n",
    "        embeddings = await self.embedding_model.async_get_embeddings(list_of_text)\n",
    "        for text, embedding in zip(list_of_text, embeddings):\n",
    "            self.insert(text, np.array(embedding))\n",
    "        return self\n",
    "```\n",
    "\n",
    "And that's all we need to do!"
   ]
  },
  {
   "cell_type": "code",
   "execution_count": 31,
   "metadata": {
    "id": "O4KoLbVDR6yv"
   },
   "outputs": [],
   "source": [
    "vector_db = VectorDatabase()\n",
    "vector_db = asyncio.run(vector_db.abuild_from_list(split_documents))"
   ]
  },
  {
   "cell_type": "markdown",
   "metadata": {
    "id": "SSZwaGvpR6yv"
   },
   "source": [
    "#### ❓Question #2:\n",
    "\n",
    "What are the benefits of using an `async` approach to collecting our embeddings?\n",
    "\n",
    "> NOTE: Determining the core difference between `async` and `sync` will be useful! If you get stuck - ask ChatGPT!"
   ]
  },
  {
   "cell_type": "markdown",
   "metadata": {
    "id": "nRBdIt-xR6yw"
   },
   "source": [
    "So, to review what we've done so far in natural language:\n",
    "\n",
    "1. We load source documents\n",
    "2. We split those source documents into smaller chunks (documents)\n",
    "3. We send each of those documents to the `text-embedding-3-small` OpenAI API endpoint\n",
    "4. We store each of the text representations with the vector representations as keys/values in a dictionary"
   ]
  },
  {
   "cell_type": "markdown",
   "metadata": {
    "id": "4-vWANZyR6yw"
   },
   "source": [
    "### Semantic Similarity\n",
    "\n",
    "The next step is to be able to query our `VectorDatabase()` with a `str` and have it return to us vectors and text that is most relevant from our corpus.\n",
    "\n",
    "We're going to use the following process to achieve this in our toy example:\n",
    "\n",
    "1. We need to embed our query with the same `EmbeddingModel()` as we used to construct our `VectorDatabase()`\n",
    "2. We loop through every vector in our `VectorDatabase()` and use a distance measure to compare how related they are\n",
    "3. We return a list of the top `k` closest vectors, with their text representations\n",
    "\n",
    "There's some very heavy optimization that can be done at each of these steps - but let's just focus on the basic pattern in this notebook.\n",
    "\n",
    "> We are using [cosine similarity](https://www.engati.com/glossary/cosine-similarity) as a distance metric in this example - but there are many many distance metrics you could use - like [these](https://flavien-vidal.medium.com/similarity-distances-for-natural-language-processing-16f63cd5ba55)\n",
    "\n",
    "> We are using a rather inefficient way of calculating relative distance between the query vector and all other vectors - there are more advanced approaches that are much more efficient, like [ANN](https://towardsdatascience.com/comprehensive-guide-to-approximate-nearest-neighbors-algorithms-8b94f057d6b6)"
   ]
  },
  {
   "cell_type": "code",
   "execution_count": 32,
   "metadata": {
    "colab": {
     "base_uri": "https://localhost:8080/"
    },
    "id": "76d96uavR6yw",
    "outputId": "bbfccc31-20a2-41c7-c14d-46554a43ed2d"
   },
   "outputs": [
    {
     "data": {
      "text/plain": [
       "[('ordingly.\\nSeventh, when hiring the executive to run your former specialty, be\\ncareful you don’t hire someone weak on purpose.\\nThis sounds silly, but you wouldn’t believe how oaen it happens.\\nThe CEO who used to be a product manager who has a weak\\nproduct management executive. The CEO who used to be in\\nsales who has a weak sales executive. The CEO who used to be\\nin marketing who has a weak marketing executive.\\nI call this the “Michael Eisner Memorial Weak Executive Problem” — aaer the CEO of Disney who had previously been a brilliant TV network executive. When he bought ABC at Disney, it\\npromptly fell to fourth place. His response? “If I had an extra\\ntwo days a week, I could turn around ABC myself.” Well, guess\\nwhat, he didn’t have an extra two days a week.\\nA CEO — or a startup founder — oaen has a hard time letting\\ngo of the function that brought him to the party. The result: you\\nhire someone weak into the executive role for that function so\\nthat you can continue to be “the man” — cons',\n",
       "  np.float64(0.6538563767462546)),\n",
       " ('m. They have areas where they are truly deXcient in judgment or skill set. That’s just life. Almost nobody is brilliant\\nat everything. When hiring and when Hring executives, you\\nmust therefore focus on strength rather than lack of weakness. Everybody has severe weaknesses even if you can’t see\\nthem yet. When managing, it’s oaen useful to micromanage and\\nto provide remedial training around these weaknesses. Doing so\\nmay make the diWerence between an executive succeeding or\\nfailing.\\nFor example, you might have a brilliant engineering executive\\nwho generates excellent team loyalty, has terriXc product judgment and makes the trains run on time. This same executive\\nmay be very poor at relating to the other functions in the company. She may generate far more than her share of cross-functional conYicts, cut herself oW from critical information, and\\nsigniXcantly impede your ability to sell and market eWectively.\\nYour alternatives are:\\n(a) Macro-manage and give her an annual or quarterly object',\n",
       "  np.float64(0.5036012174947994)),\n",
       " ('ed?\\nIn reality — as opposed to Marc’s warped view of reality — it will\\nbe extremely helpful for Marc [if he were actually the CEO,\\nwhich he is not] to meet with the new head of engineering daily\\nwhen she comes on board and review all of her thinking and\\ndecisions. This level of micromanagement will accelerate her\\ntraining and improve her long-term eWectiveness. It will make\\nher seem smarter to the rest of the organization which will build\\ncredibility and conXdence while she comes up to speed. Micromanaging new executives is generally a good idea for a limited\\nperiod of time.\\nHowever, that is not the only time that it makes sense to micro66 The Pmarca Blog Archives\\nmanage executives. It turns out that just about every executive\\nin the world has a few things that are seriously wrong with\\nthem. They have areas where they are truly deXcient in judgment or skill set. That’s just life. Almost nobody is brilliant\\nat everything. When hiring and when Hring executives, you\\nmust therefore focus o',\n",
       "  np.float64(0.48141025949775296))]"
      ]
     },
     "execution_count": 32,
     "metadata": {},
     "output_type": "execute_result"
    }
   ],
   "source": [
    "vector_db.search_by_text(\"What is the Michael Eisner Memorial Weak Executive Problem?\", k=3)"
   ]
  },
  {
   "cell_type": "code",
   "execution_count": 33,
   "metadata": {},
   "outputs": [
    {
     "data": {
      "text/plain": [
       "[(' the population of Amatol had virtually van-ished, with only a few hundred remaining. /T_he former munitions complex experienced a brief resurgence in 1926 after an investor backed the construction of the Atlantic City Speedway there. /T_he revival was short-lived as interest quickly waned among the visiting public and other investors.\\nLittle remains of Amatol today. After a hike \\nthrough the Pine Barrens, remnants of the munitions plant, town, and racetrack can be found at the former site of Amatol. Of the many buildings and homes constructed, only two still remain: the now- abandoned State Police barracks outside of Hammonton and one house, which was moved to the White Horse Pike, where it is still occupied.\\n30 During the 1980s, the \\nAmatol site was considered for use as a land/f_ill, but the proposal was rejected due to environmental concerns and opposition by local residents.\\n31 Recently, in 2017, \\nmore than 500 acres of Amatol (now the Pine Barrens) were preserved.\\n32\\nAmatol was n',\n",
       "  np.float64(0.5979305677294497)),\n",
       " ('Town of Amatol, New Jersey, \\ncommonly known as the “Amatol book,” Victor F. Hammel records a description of the construction In total, 1,600 acres had to be cleared for the plant, and 38 acres had to be cleared and 255 acres trimmed for the town.\\n8 /T_his was no easy task. /T_he land was mostly \\nwooded with some acres of swamp and was diﬃcult to clear due to a “dense, tangled nature of growth.”\\n9 /T_he \\ninitial workforce included forty men, and, within the /f_irst week, the /f_irst bunkhouse and mess hall were built.\\n10\\nDevelopment was rapid. By June, the population was \\nnearly 2,000, and train service was added.11 By August, \\nadvertisements for Amatol described it asa city with all modern improvements . . . with \\nelectric lights, a /f_ire department, a police depart-ment, a modern sewage system, a modern water plant, a theatre, a Y.M.C.A, an auditorium, bowl-ing alleys, and other city amenities.\\n12\\nAmatol also promised many employment opportunities, \\nnot just with the munitions plant,',\n",
       "  np.float64(0.5861935861324965)),\n",
       " ('All Aboard for Amatol, NJ\\n\\nAs a result of America’s entry into World War I, Atlantic County received a great expansion of its industrial economic base. The largest result of this expansion was the construction of Amatol, a planned shell-loading munitions plant and workers’ village that once occupied a tract of 6,000 acres between East Hammonton and Elwood. What is fascinating about Amatol and other planned communities is the speed in which they were completed. In just nine months’ time, the new town and manufactory were completed reaching a population of 7,000. Today, the Pine Barrens have all but reclaimed the former site of Amatol.\\n\\nHistory\\n\\nThe history of Amatol begins in December 1917 with the incorporation of the Atlantic Loading Company.  Acting as an agent of the United States Government, the Atlantic Loading Company was contracted to construct a large munitions plant and an accompanying town to house the workers. In early 1918, the Atlantic Loading Company planned to build the ',\n",
       "  np.float64(0.5641662821312019))]"
      ]
     },
     "execution_count": 33,
     "metadata": {},
     "output_type": "execute_result"
    }
   ],
   "source": [
    "vector_db.search_by_text(\"Where is Amatol located?\", k=3)"
   ]
  },
  {
   "cell_type": "markdown",
   "metadata": {
    "id": "TehsfIiKR6yw"
   },
   "source": [
    "## Task 4: Prompts\n",
    "\n",
    "In the following section, we'll be looking at the role of prompts - and how they help us to guide our application in the right direction.\n",
    "\n",
    "In this notebook, we're going to rely on the idea of \"zero-shot in-context learning\".\n",
    "\n",
    "This is a lot of words to say: \"We will ask it to perform our desired task in the prompt, and provide no examples.\""
   ]
  },
  {
   "cell_type": "markdown",
   "metadata": {
    "id": "yXpA0UveR6yw"
   },
   "source": [
    "### XYZRolePrompt\n",
    "\n",
    "Before we do that, let's stop and think a bit about how OpenAI's chat models work.\n",
    "\n",
    "We know they have roles - as is indicated in the following API [documentation](https://platform.openai.com/docs/api-reference/chat/create#chat/create-messages)\n",
    "\n",
    "There are three roles, and they function as follows (taken directly from [OpenAI](https://platform.openai.com/docs/guides/gpt/chat-completions-api)):\n",
    "\n",
    "- `{\"role\" : \"system\"}` : The system message helps set the behavior of the assistant. For example, you can modify the personality of the assistant or provide specific instructions about how it should behave throughout the conversation. However note that the system message is optional and the model’s behavior without a system message is likely to be similar to using a generic message such as \"You are a helpful assistant.\"\n",
    "- `{\"role\" : \"user\"}` : The user messages provide requests or comments for the assistant to respond to.\n",
    "- `{\"role\" : \"assistant\"}` : Assistant messages store previous assistant responses, but can also be written by you to give examples of desired behavior.\n",
    "\n",
    "The main idea is this:\n",
    "\n",
    "1. You start with a system message that outlines how the LLM should respond, what kind of behaviours you can expect from it, and more\n",
    "2. Then, you can provide a few examples in the form of \"assistant\"/\"user\" pairs\n",
    "3. Then, you prompt the model with the true \"user\" message.\n",
    "\n",
    "In this example, we'll be forgoing the 2nd step for simplicities sake."
   ]
  },
  {
   "cell_type": "markdown",
   "metadata": {
    "id": "gdZ2KWKSR6yw"
   },
   "source": [
    "#### Utility Functions\n",
    "\n",
    "You'll notice that we're using some utility functions from the `aimakerspace` module - let's take a peek at these and see what they're doing!"
   ]
  },
  {
   "cell_type": "markdown",
   "metadata": {
    "id": "GFbeJDDsR6yw"
   },
   "source": [
    "##### XYZRolePrompt"
   ]
  },
  {
   "cell_type": "markdown",
   "metadata": {
    "id": "5mojJSE3R6yw"
   },
   "source": [
    "Here we have our `system`, `user`, and `assistant` role prompts.\n",
    "\n",
    "Let's take a peek at what they look like:\n",
    "\n",
    "```python\n",
    "class BasePrompt:\n",
    "    def __init__(self, prompt):\n",
    "        \"\"\"\n",
    "        Initializes the BasePrompt object with a prompt template.\n",
    "\n",
    "        :param prompt: A string that can contain placeholders within curly braces\n",
    "        \"\"\"\n",
    "        self.prompt = prompt\n",
    "        self._pattern = re.compile(r\"\\{([^}]+)\\}\")\n",
    "\n",
    "    def format_prompt(self, **kwargs):\n",
    "        \"\"\"\n",
    "        Formats the prompt string using the keyword arguments provided.\n",
    "\n",
    "        :param kwargs: The values to substitute into the prompt string\n",
    "        :return: The formatted prompt string\n",
    "        \"\"\"\n",
    "        matches = self._pattern.findall(self.prompt)\n",
    "        return self.prompt.format(**{match: kwargs.get(match, \"\") for match in matches})\n",
    "\n",
    "    def get_input_variables(self):\n",
    "        \"\"\"\n",
    "        Gets the list of input variable names from the prompt string.\n",
    "\n",
    "        :return: List of input variable names\n",
    "        \"\"\"\n",
    "        return self._pattern.findall(self.prompt)\n",
    "```\n",
    "\n",
    "Then we have our `RolePrompt` which laser focuses us on the role pattern found in most API endpoints for LLMs.\n",
    "\n",
    "```python\n",
    "class RolePrompt(BasePrompt):\n",
    "    def __init__(self, prompt, role: str):\n",
    "        \"\"\"\n",
    "        Initializes the RolePrompt object with a prompt template and a role.\n",
    "\n",
    "        :param prompt: A string that can contain placeholders within curly braces\n",
    "        :param role: The role for the message ('system', 'user', or 'assistant')\n",
    "        \"\"\"\n",
    "        super().__init__(prompt)\n",
    "        self.role = role\n",
    "\n",
    "    def create_message(self, **kwargs):\n",
    "        \"\"\"\n",
    "        Creates a message dictionary with a role and a formatted message.\n",
    "\n",
    "        :param kwargs: The values to substitute into the prompt string\n",
    "        :return: Dictionary containing the role and the formatted message\n",
    "        \"\"\"\n",
    "        return {\"role\": self.role, \"content\": self.format_prompt(**kwargs)}\n",
    "```\n",
    "\n",
    "We'll look at how the `SystemRolePrompt` is constructed to get a better idea of how that extension works:\n",
    "\n",
    "```python\n",
    "class SystemRolePrompt(RolePrompt):\n",
    "    def __init__(self, prompt: str):\n",
    "        super().__init__(prompt, \"system\")\n",
    "```\n",
    "\n",
    "That pattern is repeated for our `UserRolePrompt` and our `AssistantRolePrompt` as well."
   ]
  },
  {
   "cell_type": "markdown",
   "metadata": {
    "id": "D361R6sMR6yw"
   },
   "source": [
    "##### ChatOpenAI"
   ]
  },
  {
   "cell_type": "markdown",
   "metadata": {
    "id": "HJVQ2Pm8R6yw"
   },
   "source": [
    "Next we have our model, which is converted to a format analagous to libraries like LangChain and LlamaIndex.\n",
    "\n",
    "Let's take a peek at how that is constructed:\n",
    "\n",
    "```python\n",
    "class ChatOpenAI:\n",
    "    def __init__(self, model_name: str = \"gpt-4o-mini\"):\n",
    "        self.model_name = model_name\n",
    "        self.openai_api_key = os.getenv(\"OPENAI_API_KEY\")\n",
    "        if self.openai_api_key is None:\n",
    "            raise ValueError(\"OPENAI_API_KEY is not set\")\n",
    "\n",
    "    def run(self, messages, text_only: bool = True):\n",
    "        if not isinstance(messages, list):\n",
    "            raise ValueError(\"messages must be a list\")\n",
    "\n",
    "        openai.api_key = self.openai_api_key\n",
    "        response = openai.ChatCompletion.create(\n",
    "            model=self.model_name, messages=messages\n",
    "        )\n",
    "\n",
    "        if text_only:\n",
    "            return response.choices[0].message.content\n",
    "\n",
    "        return response\n",
    "```"
   ]
  },
  {
   "cell_type": "markdown",
   "metadata": {
    "id": "qCU7FfhIR6yw"
   },
   "source": [
    "#### ❓ Question #3:\n",
    "\n",
    "When calling the OpenAI API - are there any ways we can achieve more reproducible outputs?\n",
    "\n",
    "> NOTE: Check out [this section](https://platform.openai.com/docs/guides/text-generation/) of the OpenAI documentation for the answer!"
   ]
  },
  {
   "cell_type": "markdown",
   "metadata": {
    "id": "c5wcjMLCR6yw"
   },
   "source": [
    "### Creating and Prompting OpenAI's `gpt-4o-mini`!\n",
    "\n",
    "Let's tie all these together and use it to prompt `gpt-4o-mini`!"
   ]
  },
  {
   "cell_type": "code",
   "execution_count": 11,
   "metadata": {
    "id": "WIfpIot7R6yw"
   },
   "outputs": [],
   "source": [
    "from aimakerspace.openai_utils.prompts import (\n",
    "    UserRolePrompt,\n",
    "    SystemRolePrompt,\n",
    "    AssistantRolePrompt,\n",
    ")\n",
    "\n",
    "from aimakerspace.openai_utils.chatmodel import ChatOpenAI\n",
    "\n",
    "chat_openai = ChatOpenAI()\n",
    "user_prompt_template = \"{content}\"\n",
    "user_role_prompt = UserRolePrompt(user_prompt_template)\n",
    "system_prompt_template = (\n",
    "    \"You are an expert in {expertise}, you always answer in a kind way.\"\n",
    ")\n",
    "system_role_prompt = SystemRolePrompt(system_prompt_template)\n",
    "\n",
    "messages = [\n",
    "    system_role_prompt.create_message(expertise=\"Python\"),\n",
    "    user_role_prompt.create_message(\n",
    "        content=\"What is the best way to write a loop?\"\n",
    "    ),\n",
    "]\n",
    "\n",
    "response = chat_openai.run(messages)"
   ]
  },
  {
   "cell_type": "code",
   "execution_count": 12,
   "metadata": {
    "colab": {
     "base_uri": "https://localhost:8080/"
    },
    "id": "dHo7lssNR6yw",
    "outputId": "1d3823fa-bb6b-45f6-ddba-b41686388324"
   },
   "outputs": [
    {
     "name": "stdout",
     "output_type": "stream",
     "text": [
      "The \"best\" way to write a loop in Python often depends on the specific task at hand, but there are a few common patterns you can follow. Here are some popular ways to write loops in Python:\n",
      "\n",
      "1. **Using a `for` loop**: This is ideal for iterating over a sequence (like a list, tuple, or string).\n",
      "\n",
      "   ```python\n",
      "   # Example: Iterating over a list\n",
      "   numbers = [1, 2, 3, 4, 5]\n",
      "   for number in numbers:\n",
      "       print(number)\n",
      "   ```\n",
      "\n",
      "2. **Using a `while` loop**: This is best when you want to repeat an action until a certain condition is no longer true.\n",
      "\n",
      "   ```python\n",
      "   # Example: Using a while loop\n",
      "   count = 0\n",
      "   while count < 5:\n",
      "       print(count)\n",
      "       count += 1\n",
      "   ```\n",
      "\n",
      "3. **Using list comprehensions**: For simple loops that generate lists, list comprehensions can be concise and readable.\n",
      "\n",
      "   ```python\n",
      "   # Example: Creating a list of squares\n",
      "   squares = [x**2 for x in range(10)]\n",
      "   print(squares)\n",
      "   ```\n",
      "\n",
      "4. **Using the `enumerate()` function**: If you need both the index and the value from an iterable, `enumerate()` is very handy.\n",
      "\n",
      "   ```python\n",
      "   # Example: Iterating with index\n",
      "   fruits = ['apple', 'banana', 'cherry']\n",
      "   for index, fruit in enumerate(fruits):\n",
      "       print(f\"{index}: {fruit}\")\n",
      "   ```\n",
      "\n",
      "### Best Practices:\n",
      "- **Keep it simple and readable**: Make sure your loop is easy to understand. If it becomes too complex, consider breaking the logic into functions.\n",
      "- **Avoid modifying the list while iterating over it**: This can lead to unexpected behavior.\n",
      "- **Use appropriate looping structures**: Choose `for` loops when iterating over items and `while` loops when using a condition.\n",
      "\n",
      "Whichever method you choose, always prioritize clarity and maintainability. Happy coding!\n"
     ]
    }
   ],
   "source": [
    "print(response)"
   ]
  },
  {
   "cell_type": "markdown",
   "metadata": {
    "id": "r2nxxhB2R6yy"
   },
   "source": [
    "## Task 5: Retrieval Augmented Generation\n",
    "\n",
    "Now we can create a RAG prompt - which will help our system behave in a way that makes sense!\n",
    "\n",
    "There is much you could do here, many tweaks and improvements to be made!"
   ]
  },
  {
   "cell_type": "code",
   "execution_count": 13,
   "metadata": {
    "id": "D1hamzGaR6yy"
   },
   "outputs": [],
   "source": [
    "RAG_SYSTEM_TEMPLATE = \"\"\"You are a knowledgeable assistant that answers questions based strictly on provided context.\n",
    "\n",
    "Instructions:\n",
    "- Only answer questions using information from the provided context\n",
    "- If the context doesn't contain relevant information, respond with \"I don't know\"\n",
    "- Be accurate and cite specific parts of the context when possible\n",
    "- Keep responses {response_style} and {response_length}\n",
    "- Only use the provided context. Do not use external knowledge.\n",
    "- Only provide answers when you are confident the context supports your response.\"\"\"\n",
    "\n",
    "RAG_USER_TEMPLATE = \"\"\"Context Information:\n",
    "{context}\n",
    "\n",
    "Number of relevant sources found: {context_count}\n",
    "{similarity_scores}\n",
    "\n",
    "Question: {user_query}\n",
    "\n",
    "Please provide your answer based solely on the context above.\"\"\"\n",
    "\n",
    "rag_system_prompt = SystemRolePrompt(\n",
    "    RAG_SYSTEM_TEMPLATE,\n",
    "    strict=True,\n",
    "    defaults={\n",
    "        \"response_style\": \"concise\",\n",
    "        \"response_length\": \"brief\"\n",
    "    }\n",
    ")\n",
    "\n",
    "rag_user_prompt = UserRolePrompt(\n",
    "    RAG_USER_TEMPLATE,\n",
    "    strict=True,\n",
    "    defaults={\n",
    "        \"context_count\": \"\",\n",
    "        \"similarity_scores\": \"\"\n",
    "    }\n",
    ")"
   ]
  },
  {
   "cell_type": "markdown",
   "metadata": {},
   "source": [
    "Now we can create our pipeline!"
   ]
  },
  {
   "cell_type": "code",
   "execution_count": 14,
   "metadata": {},
   "outputs": [],
   "source": [
    "class RetrievalAugmentedQAPipeline:\n",
    "    def __init__(self, llm: ChatOpenAI(), vector_db_retriever: VectorDatabase, \n",
    "                 response_style: str = \"detailed\", include_scores: bool = False) -> None:\n",
    "        self.llm = llm\n",
    "        self.vector_db_retriever = vector_db_retriever\n",
    "        self.response_style = response_style\n",
    "        self.include_scores = include_scores\n",
    "\n",
    "    def run_pipeline(self, user_query: str, k: int = 4, **system_kwargs) -> dict:\n",
    "        # Retrieve relevant contexts\n",
    "        context_list = self.vector_db_retriever.search_by_text(user_query, k=k)\n",
    "        \n",
    "        context_prompt = \"\"\n",
    "        similarity_scores = []\n",
    "        \n",
    "        for i, (context, score) in enumerate(context_list, 1):\n",
    "            context_prompt += f\"[Source {i}]: {context}\\n\\n\"\n",
    "            similarity_scores.append(f\"Source {i}: {score:.3f}\")\n",
    "        \n",
    "        # Create system message with parameters\n",
    "        system_params = {\n",
    "            \"response_style\": self.response_style,\n",
    "            \"response_length\": system_kwargs.get(\"response_length\", \"detailed\")\n",
    "        }\n",
    "        \n",
    "        formatted_system_prompt = rag_system_prompt.create_message(**system_params)\n",
    "        \n",
    "        user_params = {\n",
    "            \"user_query\": user_query,\n",
    "            \"context\": context_prompt.strip(),\n",
    "            \"context_count\": len(context_list),\n",
    "            \"similarity_scores\": f\"Relevance scores: {', '.join(similarity_scores)}\" if self.include_scores else \"\"\n",
    "        }\n",
    "        \n",
    "        formatted_user_prompt = rag_user_prompt.create_message(**user_params)\n",
    "\n",
    "        return {\n",
    "            \"response\": self.llm.run([formatted_system_prompt, formatted_user_prompt]), \n",
    "            \"context\": context_list,\n",
    "            \"context_count\": len(context_list),\n",
    "            \"similarity_scores\": similarity_scores if self.include_scores else None,\n",
    "            \"prompts_used\": {\n",
    "                \"system\": formatted_system_prompt,\n",
    "                \"user\": formatted_user_prompt\n",
    "            }\n",
    "        }"
   ]
  },
  {
   "cell_type": "code",
   "execution_count": null,
   "metadata": {},
   "outputs": [
    {
     "name": "stdout",
     "output_type": "stream",
     "text": [
      "Response: The 'Michael Eisner Memorial Weak Executive Problem' refers to the tendency of a CEO or startup founder to hire someone who is weak in a function they themselves were once proficient in. This scenario often arises from the CEO's difficulty in letting go of the function that was their strength, leading them to choose a weaker executive for that role so they can continue to maintain influence (\"be 'the man'\"). The context specifically mentions Michael Eisner, the former CEO of Disney, who previously had a successful career as a TV network executive. When he acquired ABC, it performed poorly under his leadership, and his response indicated a belief that he could turn things around if he had more time, despite the reality that he was not able to manage it effectively (\"guess what, he didn’t have an extra two days a week\"). This example illustrates the problem of selecting weaker executives to maintain control in familiar areas rather than hiring strong leaders for those roles.\n",
      "\n",
      "Context Count: 3\n",
      "Similarity Scores: ['Source 1: 0.658', 'Source 2: 0.509', 'Source 3: 0.479']\n"
     ]
    }
   ],
   "source": [
    "rag_pipeline = RetrievalAugmentedQAPipeline(\n",
    "    vector_db_retriever=vector_db,\n",
    "    llm=chat_openai,\n",
    "    response_style=\"detailed\",\n",
    "    include_scores=True\n",
    ")\n",
    "\n",
    "result = rag_pipeline.run_pipeline(\n",
    "    \"What is the 'Michael Eisner Memorial Weak Executive Problem'?\",\n",
    "    k=3,\n",
    "    response_length=\"comprehensive\", \n",
    "    include_warnings=True,\n",
    "    confidence_required=True\n",
    ")\n",
    "\n",
    "print(f\"Response: {result['response']}\")\n",
    "print(f\"\\nContext Count: {result['context_count']}\")\n",
    "print(f\"Similarity Scores: {result['similarity_scores']}\")\n"
   ]
  },
  {
   "cell_type": "markdown",
   "metadata": {
    "id": "zZIJI19uR6yz"
   },
   "source": [
    "#### ❓ Question #4:\n",
    "\n",
    "What prompting strategies could you use to make the LLM have a more thoughtful, detailed response?\n",
    "\n",
    "What is that strategy called?\n",
    "\n",
    "> NOTE: You can look through [\"Accessing GPT-3.5-turbo Like a Developer\"](https://colab.research.google.com/drive/1mOzbgf4a2SP5qQj33ZxTz2a01-5eXqk2?usp=sharing) for an answer to this question if you get stuck!"
   ]
  },
  {
   "cell_type": "markdown",
   "metadata": {},
   "source": [
    "### 🏗️ Activity #1:\n",
    "\n",
    "Enhance your RAG application in some way! \n",
    "\n",
    "Suggestions are: \n",
    "\n",
    "- Allow it to work with PDF files\n",
    "- Implement a new distance metric\n",
    "- Add metadata support to the vector database\n",
    "\n",
    "While these are suggestions, you should feel free to make whatever augmentations you desire! \n",
    "\n",
    "> NOTE: These additions might require you to work within the `aimakerspace` library - that's expected!\n",
    "\n",
    "> NOTE: If you're not sure where to start - ask Cursor (CMD/CTRL+L) to guide you through the changes!"
   ]
  },
  {
   "cell_type": "markdown",
   "metadata": {},
   "source": [
    "### Activity\n",
    "\n",
    "I refactored text_utils.py to have a `BaseFileLoader` class that other file loaders inherit from. There are specific loaders for file types of `txt`, `pdf`, `docx`, and `doc`. I also added a `UniversalFileLoader` to support easy registration of new file types, making the system more extensible and modular.\n",
    "\n",
    "<img src=\"./images/custom_rag_diagram.png\" alt=\"OpenAI Logo\" width=\"25%\"/>\n"
   ]
  },
  {
   "cell_type": "code",
   "execution_count": 38,
   "metadata": {},
   "outputs": [
    {
     "data": {
      "text/plain": [
       "[(' the population of Amatol had virtually van-ished, with only a few hundred remaining. /T_he former munitions complex experienced a brief resurgence in 1926 after an investor backed the construction of the Atlantic City Speedway there. /T_he revival was short-lived as interest quickly waned among the visiting public and other investors.\\nLittle remains of Amatol today. After a hike \\nthrough the Pine Barrens, remnants of the munitions plant, town, and racetrack can be found at the former site of Amatol. Of the many buildings and homes constructed, only two still remain: the now- abandoned State Police barracks outside of Hammonton and one house, which was moved to the White Horse Pike, where it is still occupied.\\n30 During the 1980s, the \\nAmatol site was considered for use as a land/f_ill, but the proposal was rejected due to environmental concerns and opposition by local residents.\\n31 Recently, in 2017, \\nmore than 500 acres of Amatol (now the Pine Barrens) were preserved.\\n32\\nAmatol was n',\n",
       "  np.float64(0.5978898553031678)),\n",
       " ('Town of Amatol, New Jersey, \\ncommonly known as the “Amatol book,” Victor F. Hammel records a description of the construction In total, 1,600 acres had to be cleared for the plant, and 38 acres had to be cleared and 255 acres trimmed for the town.\\n8 /T_his was no easy task. /T_he land was mostly \\nwooded with some acres of swamp and was diﬃcult to clear due to a “dense, tangled nature of growth.”\\n9 /T_he \\ninitial workforce included forty men, and, within the /f_irst week, the /f_irst bunkhouse and mess hall were built.\\n10\\nDevelopment was rapid. By June, the population was \\nnearly 2,000, and train service was added.11 By August, \\nadvertisements for Amatol described it asa city with all modern improvements . . . with \\nelectric lights, a /f_ire department, a police depart-ment, a modern sewage system, a modern water plant, a theatre, a Y.M.C.A, an auditorium, bowl-ing alleys, and other city amenities.\\n12\\nAmatol also promised many employment opportunities, \\nnot just with the munitions plant,',\n",
       "  np.float64(0.5861241313997284)),\n",
       " ('All Aboard for Amatol, NJ\\n\\nAs a result of America’s entry into World War I, Atlantic County received a great expansion of its industrial economic base. The largest result of this expansion was the construction of Amatol, a planned shell-loading munitions plant and workers’ village that once occupied a tract of 6,000 acres between East Hammonton and Elwood. What is fascinating about Amatol and other planned communities is the speed in which they were completed. In just nine months’ time, the new town and manufactory were completed reaching a population of 7,000. Today, the Pine Barrens have all but reclaimed the former site of Amatol.\\n\\nHistory\\n\\nThe history of Amatol begins in December 1917 with the incorporation of the Atlantic Loading Company.  Acting as an agent of the United States Government, the Atlantic Loading Company was contracted to construct a large munitions plant and an accompanying town to house the workers. In early 1918, the Atlantic Loading Company planned to build the ',\n",
       "  np.float64(0.5641746966587725)),\n",
       " ('e score of 19 to 10.”  A December 13, 1918 article describes how the U.S. Ordnance Officers team defeated the Amatol team in basketball by the score of 25 to 10.  \\n\\nConclusion\\n\\nIn just a matter of months after signing the Armistice, the population of Amatol had virtually vanished, with only a few hundred remaining there. The former munitions complex experienced a brief resurgence in 1926 after an investor backed the construction of the Atlantic City Speedway there. The revival was short-lived as interest quickly waned among the visiting public and other investors. \\n\\nLittle remains of Amatol today. After a hike through the Pine Barrens, remnants of the munitions plant, town, and racetrack can be found at the former site of Amatol. Of the many buildings and homes that were constructed, only two still remain: the now-abandoned State Police barracks outside of Hammonton and one house, which was moved to the White Horse Pike, where it is still occupied.  During the 1980s, the Amatol site wa',\n",
       "  np.float64(0.5593557385277883)),\n",
       " ('on County.\\n\\nWhat was the overall impact of Amatol on the surrounding area? There is no reliable and readily-available information to answer this question. Where did the residents of Amatol go once operations ceased? According to the Press of Atlantic City, “Many of Amatol’s laborers, predominantly Irish and Polish from Philadelphia, stayed in the area and started families.” \\n\\nAs the centennial of America’s participation in the First World War draws to a close, it is good to take a moment to remember a little town, built in a forest in New Jersey, which helped with the war effort, and provided employment for thousands of American workers.\\n',\n",
       "  np.float64(0.5574895613925854)),\n",
       " ('two still remain: the now-abandoned State Police barracks outside of Hammonton and one house, which was moved to the White Horse Pike, where it is still occupied.  During the 1980s, the Amatol site was considered for a landfill, but the proposal was shot down due to environmental concerns and an opposition by local residents.  Recently, in 2017, more than 500 acres of Amatol (now the Pine Barrens) were preserved. \\n\\nAmatol was not the only planned community that South Jersey saw built during World War I. Belcoville, Atlantic County, was also built as a munitions plant and village. Yorkship Village (now Fairview), Camden County, was built to house shipyard workers and their families. In addition, America also saw many new military bases built, which included Camp Dix (now Fort Dix), Burlington County.\\n\\nWhat was the overall impact of Amatol on the surrounding area? There is no reliable and readily-available information to answer this question. Where did the residents of Amatol go once ope',\n",
       "  np.float64(0.5437748659080994)),\n",
       " ('ng stations, a 1,750,000 gallon water supply system, a modern sewage disposal system and ultimately 50 miles of standard gauge railroad with 10 locomotives and 30 passenger coaches. ” Quotation and image from Hammel, Amatol, 13.4SoJourn\\nAmatol, New Jersey. “An example of the art of town planning. With an undeveloped piece of land it was possible to apply the principles of \\nartistic town design and create unites in correct and convenient relation to each other. ” Quotation and illustration from Hammel, Amatol, 179.\\nEast K Street from Fiftieth Street, Amatol. Postcard courtesy of the Paul W. Schopp collection.5All Aboard for Amatol\\n16 recreation centres, 1 theatre, 18 mess halls, 4 garages, \\n15 warehouses, 21 railroad structures, 12 stables, 130 guardhouses, sentry boxes, searchlights, etc., 21 commercial stores, 98 male dormitories and bunkhouses, 21 female dormitories, 140 miscellaneous buildings, 24 Army barracks, 4 Y.M.C.A.s, 11 individual residences, 33 multiple houses, 227 workmen’',\n",
       "  np.float64(0.5044609666539683)),\n",
       " ('.  By 1923, Amatol Arsenal ceased operations.\\nCamp Amatol\\n\\nIn October 1918, 2,400 troops arrived at Amatol to assist in operations there.  Their job was to bring the output to full loading capacity and they would even perform civilian tasks. In an October 14 article, many of these soldiers decided to take French leave—an unauthorized departure—by traveling to Atlantic City. A few of the soldiers were jailed when they were unable to show “leave of absence.”  By the time of the armistice, there were 3,800 officers and enlisted men at Camp Amatol, as it became known. \\n\\nThere were also Camp Amatol sports teams. Basketball was a big sport played amongst soldiers, including officers. A December 6, 1918 article records, “the Hammonton five defeated the U.S. Ordnance quintet from Camp Amatol by the score of 19 to 10.”  A December 13, 1918 article describes how the U.S. Ordnance Officers team defeated the Amatol team in basketball by the score of 25 to 10.  \\n\\nConclusion\\n\\nIn just a matter of mon',\n",
       "  np.float64(0.5040919815102499)),\n",
       " ('600 acres had to be cleared for the plant, and 38 acres had to be cleared and 255 acres trimmed for the town.  This was no easy task. The land was mostly wooded with some acres of swamp and was difficult to clear due to a “dense, tangled nature of growth.”  The initial workforce included forty men, and within the first week, the first bunkhouse and mess hall were built. \\n\\nDevelopment was rapid. By June, the population was nearly 2,000, and train service was added.  By August, advertisements for Amatol described it as “a city with all modern improvements . . . with electric lights, a fire department, a police department, a modern sewage system, a modern water plant, a theatre, a Y.M.C.A, an auditorium, bowling alleys, and other city amenities.”  Amatol also promised many employment opportunities, not just with the munitions plant, but with local businesses, like barbers, tailors, jewelers, watchmakers, and grocers.\\n\\nBy the signing of the armistice, plant and town structures included: 12',\n",
       "  np.float64(0.49988152085192294)),\n",
       " ('ructures in all.”  The plant, during its operational lifespan, loaded over 9,000,000 rounds of ammunition of various types and sizes. \\nAlthough T.N.T. was preferred and used when available, amatol was used as an alternative due to the shortage of T.N.T. Amatol was “the main charge pressed into the shell (unless straight T.N.T. or a 50/50 mix was used), [and] contains 80 percent of ammonium nitrate and 20 percent of T.N.T.”.  The one disadvantage of amatol was that ammonium nitrate absorbs moisture rapidly, and in time deteriorates. The life of a shell loaded with amatol was uncertain after five years while the life of a shell loaded with T.N.T. was indefinite, certainly at least 25 years. \\nThe Army’s Ordnance Department took over the plant in February 1919 and denominated it Amatol Arsenal.  By 1923, Amatol Arsenal ceased operations.\\nCamp Amatol\\n\\nIn October 1918, 2,400 troops arrived at Amatol to assist in operations there.  Their job was to bring the output to full loading capacity an',\n",
       "  np.float64(0.4992922195202441)),\n",
       " ('t the proposal was rejected due to environmental concerns and opposition by local residents.\\n31 Recently, in 2017, \\nmore than 500 acres of Amatol (now the Pine Barrens) were preserved.\\n32\\nAmatol was not the only planned community that \\nSouth Jersey saw built during World War I. Belcoville, Atlantic County, was also built as a munitions plant and village. Yorkship Village (now Fairview), Camden County, was built to house shipyard workers and their families. In addition, America also saw many new mil-\\nitary bases built, which included Camp Dix (now Fort Dix), Burlington County.\\nWhat was the overall impact of Amatol on the sur-\\nrounding area? /T_here is no reliable and readily-available information to answer this question. Where did the res-idents of Amatol go once operations ceased? According \\n(Top) 75 mm shell component parts; (bottom) Mark III Drop Bomb. Both munitions were loaded at Amatol. Photographs from Construction and Operation of a Shell Loading Plant and the Town of Amatol, Ne',\n",
       "  np.float64(0.49338503736448974)),\n",
       " ('nitrate and 20 percent of T.N.T.”.\\n22 /T_he one disadvantage of amatol was \\nthat ammonium nitrate absorbs moisture rapidly, and, in time, deteriorates. /T_he life of a shell loaded with amatol was uncertain after /f_ive years while the life of a shell loaded with T.N.T. was inde/f_inite, and certainly at least 25 years.\\n23\\n/T_he Army’s Ordnance Department took over the \\nplant in February 1919 and denominated it Amatol Arsenal.\\n24 By 1923, Amatol Arsenal ceased operations.\\nC/a.sc/m.sc/p.sc A/m.sc/a.sc/t.sc/o.sc/l.sc\\nIn October 1918, 2,400 troops arrived at Amatol to \\nassist in operations there.25 /T_heir job was to bring the\\n(Top to bottom) General Dormitory; Interior Swimming Pool; Main Mess Hall; Bank Building and Post Oﬃce, Amatol. Postcards courtesy of the Paul W. Schopp collection.6SoJourn\\n(Top to bottom) Receiving empty \\nshell for loading; the delicate process of pouring T.N.T. into shells; inserting boosters in 75 mm shells;  (bottom left) painting completed rounds; (bottom right',\n",
       "  np.float64(0.48934595491946137)),\n",
       " ('sc\\n/T_he history of Amatol began in December 1917 \\nwith the incorporation of the Atlantic Loading Com-pany.\\n1 Acting under the aegis of the United States \\nGovernment, the Atlantic Loading Company received governmental contracts to construct a large munitions plant and an accompanying town to house workers. In early 1918, the Atlantic Loading Company had initially planned to build the munitions plant and town near Camp Dix, but the war department had concerns over water pollution and the safety of the camp’s personnel, and told the contractor to locate elsewhere.\\n2 In testimony \\ngiven regarding Amatol, Lieutenant Colonel R. H. Haw-kins stated that Camp Dix was not selected “because \\nTHE RESPONSE TO THE CALL FOR SPEED\\nTo the left, a work crew newly arrived in the South Jersey Pine Barrens, March 4, 1918, prepares to commence construction of Amatol, the World War I shell-loading facility and workers’ town near Hammonton, New Jersey. The manufacturing plant was /f_irst built and loading op',\n",
       "  np.float64(0.48224460342794906)),\n",
       " ('apartments, 179 four-roomed family apartments, 23 three-roomed family apartments.  On average, there were four buildings built per day, which was a remarkable speed.  The final workforce included over 5,000 construction workers. \\n\\nThe town reached a peak population of 7,000,  had the capacity to house over 10,000,  and was planned to accommodate a possible population of 25,000. \\n\\nAmatol Plant\\n\\nLoading operations at the Amatol plant began on July 31, 1918, and on August 3, the first shell was loaded.  The plant was capable of loading “60,000 shells of all sizes, 50,000 boosters, 50,000 hand grenades, and 20,000 rifle grenades per day, as well as components. To accomplish this work there were 15 smokeless-powder magazines, 33 T.N.T. magazines, 49 miscellaneous storage buildings, 642 plant structures in all.”  The plant, during its operational lifespan, loaded over 9,000,000 rounds of ammunition of various types and sizes. \\nAlthough T.N.T. was preferred and used when available, amatol was',\n",
       "  np.float64(0.4793306622249491)),\n",
       " ('y Hammonton was selected over the other three sites, major reasons did include the potential quality of town life and the design of a safety zone. Additional testimony by Lieutenant Colonel Hawkins reveals this consideration: “We had to build rather attractive accommodations [at Amatol] . . . to get [people] there. . . .We had to make it just as attractive as we could in order to get people to stay there; particularly in view of the knowledge of most people of the danger.”  Being situated between Atlantic City and Philadelphia, Amatol was conveniently located for ease of access to the Jersey Shore and a great metropolitan city. In addition to town amenities, Lieutenant Colonel Hawkins also explained that the size of Amatol—6,000 acres—was meant as a “substantial safety zone.” \\n\\nConstruction and Development\\n\\nAfter the final determination of the site had been made, the Atlantic Loading Company immediately went to work, which caught neighboring towns by surprise. The Tuckerton Beacon repo',\n",
       "  np.float64(0.4691388200482695)),\n",
       " ('1All Aboard for Amatol, New Jersey\\nDaniel J. Dinnebeil\\nAs a result of America’s entry into World War \\nI, on April 6, 1917, Atlantic County received a great expansion of its industrial economic \\nbase. Among the largest result of this expansion was the construction of Amatol, a planned shell-loading muni-tions plant and workers’ village that once occupied a tract of 6,000 acres between East Hammonton and Elwood. Amatol and other World War I inspired construction eﬀorts, such as Camp Dix in Burlington County, are fas-cinating, in part due to the rapidity of their construction. In just nine months’ time, the new town and manufac-tory at Amatol were completed and reached a population of 7,000. Today, the Pine Barrens have all but reclaimed the former site of Amatol.H/i.sc/s.sc/t.sc/o.sc/r.sc/y.sc\\n/T_he history of Amatol began in December 1917 \\nwith the incorporation of the Atlantic Loading Com-pany.\\n1 Acting under the aegis of the United States \\nGovernment, the Atlantic Loading Company rece',\n",
       "  np.float64(0.46668924372530457)),\n",
       " ('system, a modern water plant, a theatre, a Y.M.C.A, an auditorium, bowl-ing alleys, and other city amenities.\\n12\\nAmatol also promised many employment opportunities, \\nnot just with the munitions plant, but with local businesses, like barbers, tailors, jewelers, watchmakers, and grocers.\\nBy the signing of the armistice, plant and town \\nstructures included 122 loading buildings, 159 storage buildings and magazines, 4 administration buildings, 6 oﬃce buildings, 22 industrial buildings, 7 hospitals,\\nThe Amatol facility occupied 6,000 acres. Above, the loading plant occupies the lefthand property. The workers’ town is located upper right. “The magnitude of the work is indicated by the extent and variety of the utilities; three central steam heating stations, two auxiliary steam-electric generating stations, a 1,750,000 gallon water supply system, a modern sewage disposal system and ultimately 50 miles of standard gauge railroad with 10 locomotives and 30 passenger coaches. ” Quotation and im',\n",
       "  np.float64(0.45899188772543187)),\n",
       " ('ity of town life and the design of a safety zone. Additional testimony from Lieutenant Colonel Hawkins reveals this consideration: “We had to build rather attractive accommodations [at Amatol] . . . to get [people] there. . . .We had to make it just as attractive as we could in order to get people to stay there; particularly in view of the knowledge of most people of the danger.”\\n5 \\nBeing situated between Atlantic City and Philadelphia, Amatol was conveniently located for ease of access to the Jersey Shore and a great metropolitan city. In addition to town amenities, Lieutenant Colonel Hawkins also explained that the size of Amatol—6,000 acres—was meant as a “substantial safety zone.”\\n6\\nC/o.sc/n.sc/s.sc/t.sc/r.sc/u.sc/c.sc/t.sc/i.sc/o.sc/n.sc /a.sc/n.sc/d.sc D/e.sc/v.sc/e.sc/l.sc/o.sc/p.sc/m.sc/e.sc/n.sc/t.sc\\nAfter the company made its /f_inal site determination, \\nthe Atlantic Loading Company immediately went to work, which caught neighboring towns by surprise. /T_he Tuckerton Beacon r',\n",
       "  np.float64(0.45584069361804896)),\n",
       " ('/m.sc/e.sc/n.sc/t.sc\\nAfter the company made its /f_inal site determination, \\nthe Atlantic Loading Company immediately went to work, which caught neighboring towns by surprise. /T_he Tuckerton Beacon reported that on March 2, 1918, the residents of Elwood and Hammonton went to bed with a quiet night as if it had been any other. To their surprise, they awoke to see a large force of strangers in their midst, a half hundred freight cars bearing the legend “Ordnance Department U.S.A.,” and heavy motor trucks noisily chugging in the streets.\\n7 /T_he next day, March 4, \\nconstruction began.\\nA company street, Amatol. From Hammel, Amatol, 293.The 75 mm shell loading plant, Amatol. From Hammel, Amatol, 4.3All Aboard for Amatol\\nIn his work, Construction and Operation of a Shell \\nLoading Plant and the Town of Amatol, New Jersey, \\ncommonly known as the “Amatol book,” Victor F. Hammel records a description of the construction In total, 1,600 acres had to be cleared for the plant, and 38 acres had to ',\n",
       "  np.float64(0.4479126906890706)),\n",
       " ('arch 4, 1918, prepares to commence construction of Amatol, the World War I shell-loading facility and workers’ town near Hammonton, New Jersey. The manufacturing plant was /f_irst built and loading operations began in July 1918. To the right is completed workers’ town built in use nine months later. From Victor F. Hammel, Construction and Operation of a Shell Loading Plant and the Town of Amatol, New Jersey, 4.2SoJourn\\nthe commanding oﬃcer of Camp Dix told us he did not \\nwant it near his soldiers.”3\\nOther sites considered included Toms River, \\nLakehurst, Lacey, and Hammonton.4 Ultimately, \\nHammonton was selected. Although no de/f_inite source can be cited as to why the Hammonton-Mullica Township site was selected over the other three candidates, major reasons did include the potential quality of town life and the design of a safety zone. Additional testimony from Lieutenant Colonel Hawkins reveals this consideration: “We had to build rather attractive accommodations [at Amatol] . . . t',\n",
       "  np.float64(0.44288020474390144)),\n",
       " ('ving room; Four-room two-family cottage. Photographs from Construction and Operation of a Shell Loading Plant and the Town of Amatol, New Jersey, 189, 195.\\nPostcard photograph of private Joseph Straley, Military Police, Amatol, New Jersey. Courtesy of the Paul W. Schopp collection.10SoJourn\\nGovernment Printing Oﬃ   ce, 1920), 111.\\n28 “Hammonton Defeats Ordnance Five,” Philadelphia \\nInquirer, December 6, 1918.\\n29 Philadelphia Inquirer, December 13, 1918.\\n30 Wallace McKelvey, “Mullica Township Ghost Town \\nAmatol was Once Munitions Village,” Press of Atlantic City, \\nDecember 16, 2013.\\n31 McKelvey, “Mullica Township Ghost Town Amatol.”\\n32 Michelle Brunetti, “Mullica’s Amatol Site Part of Recent \\nPreservation in Pinelands,” Press of Atlantic City, October 14, 2017.\\n33 McKelvey, “Mullica Township Ghost Town Amatol.”20 /T_h  e Ordnance Districts, 1918–1919 (Washington: Government Printing Oﬃ   ce, 1920), 110.\\n21 Hammel, Construction and Operation, 61.22 Ibid., 135.23 Ibid, 136.24 War Departme',\n",
       "  np.float64(0.412314599194565)),\n",
       " ('diers decided to take French leave—an unauthorized departure—by traveling to Atlantic City. A few of the soldiers were jailed when they were unable to show “leave of absence.”\\n26 By the time of the armistice, there were \\n3,800 oﬃcers and enlisted men at Camp Amatol, as it became known.\\n27\\n/T_here were also Camp Amatol sports teams. \\n Basketball was a popular sport played amongst soldiers, including oﬃcers. A December 6, 1918, news article records, “the Hammonton /f_ive defeated the U.S. Ord-\\nnance quintet from Camp Amatol by the score of 19 to 10.”\\n28 A December 13, 1918, article describes the U.S. \\nOrdnance Oﬃcers team defeating the Amatol team in basketball by the score of 25 to 10.\\n29\\nC/o.sc/n.sc/c.sc/l.sc/u.sc/s.sc/i.sc/o.sc/n.sc\\nIn just a matter of months after signing the \\nArmistice, the population of Amatol had virtually van-ished, with only a few hundred remaining. /T_he former munitions complex experienced a brief resurgence in 1926 after an investor backed the construction of',\n",
       "  np.float64(0.4096856200954747)),\n",
       " ('n and Development\\n\\nAfter the final determination of the site had been made, the Atlantic Loading Company immediately went to work, which caught neighboring towns by surprise. The Tuckerton Beacon reported that on March 2, 1918, the residents of Elwood and Hammonton went to bed with a quiet night as it had been any other. To their surprise, they awoke to see a large force of strangers in their midst, a half hundred freight cars bearing the legend “Ordnance Department U.S.A.,” and heavy motor trucks noisily chugging in the streets.  The next day, March 4, construction began.\\n\\nA detailed description of the construction is recorded by Victor F. Hammel in the Construction and Operation of a Shell Loading Plant and the Town of Amatol, New Jersey, commonly known as the “Amatol book”. In total, 1,600 acres had to be cleared for the plant, and 38 acres had to be cleared and 255 acres trimmed for the town.  This was no easy task. The land was mostly wooded with some acres of swamp and was diffic',\n",
       "  np.float64(0.39454495407999)),\n",
       " ('g \\n(Top) 75 mm shell component parts; (bottom) Mark III Drop Bomb. Both munitions were loaded at Amatol. Photographs from Construction and Operation of a Shell Loading Plant and the Town of Amatol, New Jersey.9All Aboard for Amatol\\nto the Press of Atlantic City, “Many of Amatol’s laborers, \\npredominantly Irish and Polish from Philadelphia, stayed in the area and started families.”\\n33\\nAs the centennial of America’s participation in the \\nFirst World War draws to a close, it is good to take a moment to remember a signi/f_icant town, built in a forest in New Jersey, which helped with the war eﬀort and provided employment for thousands of American workers.\\nA/b.sc/o.sc/u.sc/t.sc /t.sc/h.sc/e.sc A/u.sc/t.sc/h.sc/o.sc/r.sc\\nDaniel J. Dinnebeil completed his Master of Arts in \\nAmerican Studies at Stockton University in Fall 2018. He also received his BA in Economics from Stockton in 2015. Having served in the United States Coast Guard as an Electronics Technician, Daniel has an abiding interest ',\n",
       "  np.float64(0.39344404003893274)),\n",
       " ('p Ghost Town Amatol.”20 /T_h  e Ordnance Districts, 1918–1919 (Washington: Government Printing Oﬃ   ce, 1920), 110.\\n21 Hammel, Construction and Operation, 61.22 Ibid., 135.23 Ibid, 136.24 War Department, Annual Reports, 1919 (Washington: Government Printing Oﬃ   ce, 1920), 3937.\\n25 “Troops Taking Over Loading Plant,” Philadelphia Inquirer, \\nOctober 10, 1918.\\n26 “3000 Soldiers Reach Shell Loading Plants: Scores Take \\nFrench Leave and Visit Seaside Resort, Housing Problem,” Philadelphia Inquirer, October 14, 1918.\\n27 /T_h  e Ordnance Districts, 1918–1919 (Washington: \\nJunction where Camden, Atlantic City, and Amatol Railroad trains meet. Photographs from Hammel, Amatol, 271.',\n",
       "  np.float64(0.38728195998379034))]"
      ]
     },
     "execution_count": 38,
     "metadata": {},
     "output_type": "execute_result"
    }
   ],
   "source": [
    "vector_db.search_by_text(\"Where is Amatol located?\", k=25)"
   ]
  },
  {
   "cell_type": "code",
   "execution_count": 36,
   "metadata": {},
   "outputs": [
    {
     "data": {
      "text/plain": [
       "[('.  By 1923, Amatol Arsenal ceased operations.\\nCamp Amatol\\n\\nIn October 1918, 2,400 troops arrived at Amatol to assist in operations there.  Their job was to bring the output to full loading capacity and they would even perform civilian tasks. In an October 14 article, many of these soldiers decided to take French leave—an unauthorized departure—by traveling to Atlantic City. A few of the soldiers were jailed when they were unable to show “leave of absence.”  By the time of the armistice, there were 3,800 officers and enlisted men at Camp Amatol, as it became known. \\n\\nThere were also Camp Amatol sports teams. Basketball was a big sport played amongst soldiers, including officers. A December 6, 1918 article records, “the Hammonton five defeated the U.S. Ordnance quintet from Camp Amatol by the score of 19 to 10.”  A December 13, 1918 article describes how the U.S. Ordnance Officers team defeated the Amatol team in basketball by the score of 25 to 10.  \\n\\nConclusion\\n\\nIn just a matter of mon',\n",
       "  np.float64(0.5633328395636551)),\n",
       " ('on County.\\n\\nWhat was the overall impact of Amatol on the surrounding area? There is no reliable and readily-available information to answer this question. Where did the residents of Amatol go once operations ceased? According to the Press of Atlantic City, “Many of Amatol’s laborers, predominantly Irish and Polish from Philadelphia, stayed in the area and started families.” \\n\\nAs the centennial of America’s participation in the First World War draws to a close, it is good to take a moment to remember a little town, built in a forest in New Jersey, which helped with the war effort, and provided employment for thousands of American workers.\\n',\n",
       "  np.float64(0.548800287082173)),\n",
       " ('ructures in all.”  The plant, during its operational lifespan, loaded over 9,000,000 rounds of ammunition of various types and sizes. \\nAlthough T.N.T. was preferred and used when available, amatol was used as an alternative due to the shortage of T.N.T. Amatol was “the main charge pressed into the shell (unless straight T.N.T. or a 50/50 mix was used), [and] contains 80 percent of ammonium nitrate and 20 percent of T.N.T.”.  The one disadvantage of amatol was that ammonium nitrate absorbs moisture rapidly, and in time deteriorates. The life of a shell loaded with amatol was uncertain after five years while the life of a shell loaded with T.N.T. was indefinite, certainly at least 25 years. \\nThe Army’s Ordnance Department took over the plant in February 1919 and denominated it Amatol Arsenal.  By 1923, Amatol Arsenal ceased operations.\\nCamp Amatol\\n\\nIn October 1918, 2,400 troops arrived at Amatol to assist in operations there.  Their job was to bring the output to full loading capacity an',\n",
       "  np.float64(0.5209720979893188))]"
      ]
     },
     "execution_count": 36,
     "metadata": {},
     "output_type": "execute_result"
    }
   ],
   "source": [
    "vector_db.search_by_text(\"What was Amatol's role in World War II?\", k=3)"
   ]
  },
  {
   "cell_type": "code",
   "execution_count": null,
   "metadata": {},
   "outputs": [],
   "source": [
    "vector_db.search_by_text(\"What was Amatol's role in World War II?\", k=3)"
   ]
  },
  {
   "cell_type": "code",
   "execution_count": 40,
   "metadata": {},
   "outputs": [
    {
     "data": {
      "text/plain": [
       "[('Town of Amatol, New Jersey, \\ncommonly known as the “Amatol book,” Victor F. Hammel records a description of the construction In total, 1,600 acres had to be cleared for the plant, and 38 acres had to be cleared and 255 acres trimmed for the town.\\n8 /T_his was no easy task. /T_he land was mostly \\nwooded with some acres of swamp and was diﬃcult to clear due to a “dense, tangled nature of growth.”\\n9 /T_he \\ninitial workforce included forty men, and, within the /f_irst week, the /f_irst bunkhouse and mess hall were built.\\n10\\nDevelopment was rapid. By June, the population was \\nnearly 2,000, and train service was added.11 By August, \\nadvertisements for Amatol described it asa city with all modern improvements . . . with \\nelectric lights, a /f_ire department, a police depart-ment, a modern sewage system, a modern water plant, a theatre, a Y.M.C.A, an auditorium, bowl-ing alleys, and other city amenities.\\n12\\nAmatol also promised many employment opportunities, \\nnot just with the munitions plant,',\n",
       "  np.float64(0.5609693780188931)),\n",
       " (' the population of Amatol had virtually van-ished, with only a few hundred remaining. /T_he former munitions complex experienced a brief resurgence in 1926 after an investor backed the construction of the Atlantic City Speedway there. /T_he revival was short-lived as interest quickly waned among the visiting public and other investors.\\nLittle remains of Amatol today. After a hike \\nthrough the Pine Barrens, remnants of the munitions plant, town, and racetrack can be found at the former site of Amatol. Of the many buildings and homes constructed, only two still remain: the now- abandoned State Police barracks outside of Hammonton and one house, which was moved to the White Horse Pike, where it is still occupied.\\n30 During the 1980s, the \\nAmatol site was considered for use as a land/f_ill, but the proposal was rejected due to environmental concerns and opposition by local residents.\\n31 Recently, in 2017, \\nmore than 500 acres of Amatol (now the Pine Barrens) were preserved.\\n32\\nAmatol was n',\n",
       "  np.float64(0.5584946237257365)),\n",
       " ('All Aboard for Amatol, NJ\\n\\nAs a result of America’s entry into World War I, Atlantic County received a great expansion of its industrial economic base. The largest result of this expansion was the construction of Amatol, a planned shell-loading munitions plant and workers’ village that once occupied a tract of 6,000 acres between East Hammonton and Elwood. What is fascinating about Amatol and other planned communities is the speed in which they were completed. In just nine months’ time, the new town and manufactory were completed reaching a population of 7,000. Today, the Pine Barrens have all but reclaimed the former site of Amatol.\\n\\nHistory\\n\\nThe history of Amatol begins in December 1917 with the incorporation of the Atlantic Loading Company.  Acting as an agent of the United States Government, the Atlantic Loading Company was contracted to construct a large munitions plant and an accompanying town to house the workers. In early 1918, the Atlantic Loading Company planned to build the ',\n",
       "  np.float64(0.5554482154761851))]"
      ]
     },
     "execution_count": 40,
     "metadata": {},
     "output_type": "execute_result"
    }
   ],
   "source": [
    "vector_db.search_by_text(\"What is the history of Amatol?\", k=3)"
   ]
  },
  {
   "cell_type": "code",
   "execution_count": 17,
   "metadata": {},
   "outputs": [],
   "source": [
    "def ask_rag_question(question, k=3, response_length=\"comprehensive\", include_warnings=True, confidence_required=True):\n",
    "    \"\"\"\n",
    "    Helper to run a RAG pipeline query and print the response, context count, and similarity scores.\n",
    "    \"\"\"\n",
    "    result = rag_pipeline.run_pipeline(\n",
    "        question,\n",
    "        k=k,\n",
    "        response_length=response_length,\n",
    "        include_warnings=include_warnings,\n",
    "        confidence_required=confidence_required\n",
    "    )\n",
    "    print(f\"Response: {result['response']}\\n\")\n",
    "    print(f\"Context Count: {result['context_count']}\")\n",
    "    print(f\"Similarity Scores: {result['similarity_scores']}\\n\")"
   ]
  },
  {
   "cell_type": "code",
   "execution_count": 39,
   "metadata": {},
   "outputs": [
    {
     "name": "stdout",
     "output_type": "stream",
     "text": [
      "Response: The history of Amatol begins in December 1917 with the incorporation of the Atlantic Loading Company. This company was contracted by the United States Government to construct a large shell-loading munitions plant and a corresponding town to accommodate its workers. The development of Amatol was remarkably swift, taking only nine months to complete the town and factory, ultimately reaching a population of around 7,000. \n",
      "\n",
      "Initially, in 1917, a total of 1,600 acres had to be cleared for the plant, while an additional 38 acres were cleared and 255 acres trimmed for the town. The land was predominantly wooded and swampy, making the clearing process quite challenging due to the dense growth. By the first week of construction, an initial workforce of forty men had already built the first bunkhouse and mess hall.\n",
      "\n",
      "By June 1918, the population had nearly reached 2,000, prompting the addition of train services to the area. By August of the same year, advertisements promoted Amatol as a city equipped with modern amenities like electric lighting, a fire department, a police department, a sewage system, a water plant, a theater, a YMCA, an auditorium, bowling alleys, and other services, alongside numerous employment opportunities beyond the munitions plant.\n",
      "\n",
      "The town's population eventually dwindled after World War I, with only a few hundred residents remaining by the time it was reported that the former munitions complex experienced a brief resurgence in 1926 due to the construction of the Atlantic City Speedway. However, this revival was short-lived, and little remains of Amatol today, as the area is largely reclaimed by the Pine Barrens, with only a few remnants of buildings still observable.\n",
      "\n",
      "Context Count: 3\n",
      "Similarity Scores: ['Source 1: 0.553', 'Source 2: 0.551', 'Source 3: 0.549']\n",
      "\n"
     ]
    }
   ],
   "source": [
    "ask_rag_question(\"What is the history of Amatol\", k=3)"
   ]
  },
  {
   "cell_type": "code",
   "execution_count": 41,
   "metadata": {},
   "outputs": [
    {
     "name": "stdout",
     "output_type": "stream",
     "text": [
      "Response: The history of Amatol begins in December 1917 with the incorporation of the Atlantic Loading Company, which was contracted by the United States Government to construct a large shell-loading munitions plant and a town to accommodate its workers. The site chosen for this development was a tract of 6,000 acres located between East Hammonton and Elwood, New Jersey. Concerns regarding water pollution at an initially considered site near Camp Dix led to the selection of Amatol.\n",
      "\n",
      "Construction commenced on March 4, 1918, and progressed rapidly, resulting in the completion of the town and plant within just nine months. The population quickly grew, reaching approximately 7,000 by the time operations began in July 1918, where loading operations officially started on July 31 of the same year. The munitions plant was capable of producing 60,000 shells per day among other munitions and loaded over 9,000,000 rounds of ammunition during its operational lifespan.\n",
      "\n",
      "Amatol benefited from various modern improvements, including electric lights, a fire department, a police department, a sewage system, and amenities such as a theatre and recreational facilities. The town's design included extensive housing for workers, with capacity for over 10,000, intending to accommodate a potential future population of 25,000.\n",
      "\n",
      "However, after the signing of the Armistice in November 1918, the demand for munitions decreased sharply. By 1923, the Amatol Arsenal, as it was then known, ceased operations. The area saw a brief resurgence in 1926 with the construction of the Atlantic City Speedway but this revival was short-lived as interest waned quickly.\n",
      "\n",
      "Over the decades, the population of Amatol dwindled, with only a few hundred residents remaining by the 1980s. The site was considered for a landfill during that period, but local residents opposed the proposal due to environmental concerns. By 2017, over 500 acres of what was once Amatol had been preserved as part of the Pine Barrens. Today, little remains of the former town, with only a couple of structures surviving, including an abandoned State Police barracks and one house that was moved to a different location and is still occupied.\n",
      "\n",
      "Context Count: 25\n",
      "Similarity Scores: ['Source 1: 0.553', 'Source 2: 0.551', 'Source 3: 0.549', 'Source 4: 0.537', 'Source 5: 0.531', 'Source 6: 0.519', 'Source 7: 0.503', 'Source 8: 0.495', 'Source 9: 0.487', 'Source 10: 0.484', 'Source 11: 0.476', 'Source 12: 0.473', 'Source 13: 0.472', 'Source 14: 0.465', 'Source 15: 0.461', 'Source 16: 0.425', 'Source 17: 0.424', 'Source 18: 0.417', 'Source 19: 0.414', 'Source 20: 0.409', 'Source 21: 0.403', 'Source 22: 0.392', 'Source 23: 0.387', 'Source 24: 0.384', 'Source 25: 0.351']\n",
      "\n"
     ]
    }
   ],
   "source": [
    "ask_rag_question(\"What is the history of Amatol\", k=25)"
   ]
  },
  {
   "cell_type": "code",
   "execution_count": 37,
   "metadata": {},
   "outputs": [
    {
     "name": "stdout",
     "output_type": "stream",
     "text": [
      "Response: Amatol is located in Atlantic County, New Jersey, specifically between East Hammonton and Elwood. The site of Amatol once occupied a tract of 6,000 acres and was developed as a planned shell-loading munitions plant and workers’ village during World War I (Source 3).\n",
      "\n",
      "Context Count: 25\n",
      "Similarity Scores: ['Source 1: 0.598', 'Source 2: 0.586', 'Source 3: 0.564', 'Source 4: 0.559', 'Source 5: 0.557', 'Source 6: 0.544', 'Source 7: 0.504', 'Source 8: 0.504', 'Source 9: 0.500', 'Source 10: 0.499', 'Source 11: 0.493', 'Source 12: 0.489', 'Source 13: 0.482', 'Source 14: 0.479', 'Source 15: 0.469', 'Source 16: 0.467', 'Source 17: 0.459', 'Source 18: 0.456', 'Source 19: 0.448', 'Source 20: 0.443', 'Source 21: 0.412', 'Source 22: 0.410', 'Source 23: 0.395', 'Source 24: 0.393', 'Source 25: 0.387']\n",
      "\n"
     ]
    }
   ],
   "source": [
    "ask_rag_question(\"Where is Amatol located?\", k=25)"
   ]
  },
  {
   "cell_type": "code",
   "execution_count": 18,
   "metadata": {},
   "outputs": [
    {
     "name": "stdout",
     "output_type": "stream",
     "text": [
      "Response: Amatol served as a planned shell-loading munitions plant and workers' village during World War I. Its construction began in December 1917, and it was built to support the war effort by providing the necessary facilities for loading munitions. By the time it reached completion, it had a population of around 7,000 and was instrumental in expanding the industrial economic base of Atlantic County due to America's entry into the war on April 6, 1917. The site focused on maximizing output, as evident from the arrival of troops in October 1918, who were tasked with bringing the output to full loading capacity and performing civilian tasks (Source 3).\n",
      "\n",
      "Context Count: 3\n",
      "Similarity Scores: ['Source 1: 0.568', 'Source 2: 0.543', 'Source 3: 0.520']\n",
      "\n"
     ]
    }
   ],
   "source": [
    "ask_rag_question(\"What was Amatol's role in World War I?\")"
   ]
  },
  {
   "cell_type": "code",
   "execution_count": 19,
   "metadata": {},
   "outputs": [
    {
     "name": "stdout",
     "output_type": "stream",
     "text": [
      "Response: Amatol became a ghost town shortly after the signing of the Armistice in World War I, as \"the population of Amatol had virtually vanished, with only a few hundred remaining there\" in just a matter of months post-Armistice. The decline in population is associated with the early 1920s, as the town experienced a brief resurgence in 1926 but soon again faced diminished interest, leading to its eventual abandonment.\n",
      "\n",
      "Context Count: 3\n",
      "Similarity Scores: ['Source 1: 0.616', 'Source 2: 0.585', 'Source 3: 0.573']\n",
      "\n"
     ]
    }
   ],
   "source": [
    "ask_rag_question(\"When did Amatol become a ghost town?\")"
   ]
  },
  {
   "cell_type": "code",
   "execution_count": 20,
   "metadata": {},
   "outputs": [
    {
     "name": "stdout",
     "output_type": "stream",
     "text": [
      "Response: The Amatol raceway, referred to as the Atlantic City Speedway, experienced a brief resurgence in 1926 when it was constructed with the backing of an investor. However, this revival was short-lived as interest quickly waned among the public and other investors, leading to a decline in its popularity. Today, little remains of the Amatol site, although remnants of the racetrack can still be found along with those of the munitions plant and town after a hike through the Pine Barrens.\n",
      "\n",
      "Context Count: 3\n",
      "Similarity Scores: ['Source 1: 0.592', 'Source 2: 0.569', 'Source 3: 0.501']\n",
      "\n"
     ]
    }
   ],
   "source": [
    "ask_rag_question(\"Can you tell me about the Amatol raceway?\")"
   ]
  },
  {
   "cell_type": "code",
   "execution_count": 23,
   "metadata": {},
   "outputs": [
    {
     "name": "stdout",
     "output_type": "stream",
     "text": [
      "Response: I don't know.\n",
      "\n",
      "Context Count: 100\n",
      "Similarity Scores: ['Source 1: 0.564', 'Source 2: 0.549', 'Source 3: 0.521', 'Source 4: 0.520', 'Source 5: 0.511', 'Source 6: 0.508', 'Source 7: 0.508', 'Source 8: 0.504', 'Source 9: 0.503', 'Source 10: 0.491', 'Source 11: 0.489', 'Source 12: 0.473', 'Source 13: 0.472', 'Source 14: 0.471', 'Source 15: 0.470', 'Source 16: 0.462', 'Source 17: 0.445', 'Source 18: 0.424', 'Source 19: 0.415', 'Source 20: 0.415', 'Source 21: 0.414', 'Source 22: 0.406', 'Source 23: 0.399', 'Source 24: 0.396', 'Source 25: 0.379', 'Source 26: 0.363', 'Source 27: 0.363', 'Source 28: 0.355', 'Source 29: 0.349', 'Source 30: 0.341', 'Source 31: 0.295', 'Source 32: 0.241', 'Source 33: 0.200', 'Source 34: 0.200', 'Source 35: 0.194', 'Source 36: 0.192', 'Source 37: 0.186', 'Source 38: 0.172', 'Source 39: 0.163', 'Source 40: 0.157', 'Source 41: 0.156', 'Source 42: 0.153', 'Source 43: 0.152', 'Source 44: 0.152', 'Source 45: 0.151', 'Source 46: 0.151', 'Source 47: 0.151', 'Source 48: 0.149', 'Source 49: 0.146', 'Source 50: 0.144', 'Source 51: 0.144', 'Source 52: 0.139', 'Source 53: 0.135', 'Source 54: 0.131', 'Source 55: 0.131', 'Source 56: 0.131', 'Source 57: 0.130', 'Source 58: 0.129', 'Source 59: 0.129', 'Source 60: 0.128', 'Source 61: 0.121', 'Source 62: 0.121', 'Source 63: 0.120', 'Source 64: 0.120', 'Source 65: 0.120', 'Source 66: 0.120', 'Source 67: 0.118', 'Source 68: 0.118', 'Source 69: 0.118', 'Source 70: 0.118', 'Source 71: 0.117', 'Source 72: 0.116', 'Source 73: 0.116', 'Source 74: 0.116', 'Source 75: 0.116', 'Source 76: 0.115', 'Source 77: 0.115', 'Source 78: 0.114', 'Source 79: 0.113', 'Source 80: 0.113', 'Source 81: 0.112', 'Source 82: 0.112', 'Source 83: 0.111', 'Source 84: 0.110', 'Source 85: 0.110', 'Source 86: 0.108', 'Source 87: 0.107', 'Source 88: 0.107', 'Source 89: 0.106', 'Source 90: 0.105', 'Source 91: 0.105', 'Source 92: 0.104', 'Source 93: 0.104', 'Source 94: 0.103', 'Source 95: 0.102', 'Source 96: 0.101', 'Source 97: 0.101', 'Source 98: 0.101', 'Source 99: 0.101', 'Source 100: 0.101']\n",
      "\n"
     ]
    }
   ],
   "source": [
    "ask_rag_question(\"What was Amatol's role in World War II?\", k=100)"
   ]
  },
  {
   "cell_type": "code",
   "execution_count": 22,
   "metadata": {},
   "outputs": [
    {
     "name": "stdout",
     "output_type": "stream",
     "text": [
      "Response: The infinity of life, as described in the context, is a state where everything is perfect, whole, and complete, yet life is constantly changing. It emphasizes that there is no beginning and no end but rather a continuous cycling and recycling of substances and experiences. The passage reflects a belief that life is never stuck, static, or stale, as each moment is always new and fresh. This perspective suggests a deep connection with a creative power, asserting that individuals have the ability to create their own circumstances and that every moment represents a new beginning (Source 1).\n",
      "\n",
      "Context Count: 3\n",
      "Similarity Scores: ['Source 1: 0.421', 'Source 2: 0.351', 'Source 3: 0.299']\n",
      "\n"
     ]
    }
   ],
   "source": [
    "ask_rag_question(\"What is the infinity of life?\")"
   ]
  },
  {
   "cell_type": "code",
   "execution_count": 23,
   "metadata": {},
   "outputs": [
    {
     "name": "stdout",
     "output_type": "stream",
     "text": [
      "Response: Rick Ruben stated, \"Tools will come. Tools will go. Vibe coding is here.\" This suggests an emphasis on the enduring nature of \"vibe coding\" despite the transitory nature of tools.\n",
      "\n",
      "Context Count: 3\n",
      "Similarity Scores: ['Source 1: 0.455', 'Source 2: 0.282', 'Source 3: 0.267']\n",
      "\n"
     ]
    }
   ],
   "source": [
    "ask_rag_question(\"What did Rick Ruben say?\")"
   ]
  }
 ],
 "metadata": {
  "colab": {
   "provenance": []
  },
  "kernelspec": {
   "display_name": ".venv",
   "language": "python",
   "name": "python3"
  },
  "language_info": {
   "codemirror_mode": {
    "name": "ipython",
    "version": 3
   },
   "file_extension": ".py",
   "mimetype": "text/x-python",
   "name": "python",
   "nbconvert_exporter": "python",
   "pygments_lexer": "ipython3",
   "version": "3.13.3"
  },
  "orig_nbformat": 4
 },
 "nbformat": 4,
 "nbformat_minor": 0
}
