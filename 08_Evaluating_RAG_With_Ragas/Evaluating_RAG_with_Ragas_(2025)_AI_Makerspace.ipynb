{
  "cells": [
    {
      "cell_type": "markdown",
      "metadata": {
        "id": "iLokDKoN1aKv"
      },
      "source": [
        "# Using Ragas to Evaluate a RAG Application built with LangChain and LangGraph\n",
        "\n",
        "In the following notebook, we'll be looking at how [Ragas](https://github.com/explodinggradients/ragas) can be helpful in a number of ways when looking to evaluate your RAG applications!\n",
        "\n",
        "While this example is rooted in LangChain/LangGraph - Ragas is framework agnostic (you don't even need to be using a framework!).\n",
        "\n",
        "- 🤝 Breakout Room #1\n",
        "  1. Task 1: Installing Required Libraries\n",
        "  2. Task 2: Set Environment Variables\n",
        "  3. Task 3: Synthetic Dataset Generation for Evaluation using Ragas\n",
        "  4. Task 4: Evaluating our Pipeline with Ragas\n",
        "  5. Task 6: Making Adjustments and Re-Evaluating\n",
        "\n",
        "But first! Let's set some dependencies!"
      ]
    },
    {
      "cell_type": "markdown",
      "metadata": {
        "id": "0k9tqHdq2BGi"
      },
      "source": [
        "## Dependencies and API Keys:"
      ]
    },
    {
      "cell_type": "markdown",
      "metadata": {
        "id": "H3d5seTX2xyx"
      },
      "source": [
        "We'll also need to provide our API keys.\n",
        "\n",
        "First, OpenAI's for our LLM/embedding model combination!"
      ]
    },
    {
      "cell_type": "code",
      "execution_count": 1,
      "metadata": {
        "colab": {
          "base_uri": "https://localhost:8080/"
        },
        "id": "_J02wP3gdLds",
        "outputId": "7e122a12-e645-4108-e710-1d3cbb904f8d"
      },
      "outputs": [],
      "source": [
        "import os\n",
        "from getpass import getpass\n",
        "os.environ[\"OPENAI_API_KEY\"] = getpass(\"Please enter your OpenAI API key!\")"
      ]
    },
    {
      "cell_type": "markdown",
      "metadata": {
        "id": "_zTz1-4U3Hg0"
      },
      "source": [
        "## Generating Synthetic Test Data\n",
        "\n",
        "We wil be using Ragas to build out a set of synthetic test questions, references, and reference contexts. This is useful because it will allow us to find out how our system is performing.\n",
        "\n",
        "> NOTE: Ragas is best suited for finding *directional* changes in your LLM-based systems. The absolute scores aren't comparable in a vacuum."
      ]
    },
    {
      "cell_type": "markdown",
      "metadata": {},
      "source": [
        "### Data Preparation\n",
        "\n",
        "We'll prepare our data - which should hopefully be familiar at this point since it's our Loan Data use-case!"
      ]
    },
    {
      "cell_type": "markdown",
      "metadata": {},
      "source": [
        "Next, let's load our data into a familiar LangChain format using the `DirectoryLoader`."
      ]
    },
    {
      "cell_type": "code",
      "execution_count": 2,
      "metadata": {},
      "outputs": [],
      "source": [
        "from langchain_community.document_loaders import DirectoryLoader\n",
        "from langchain_community.document_loaders import PyMuPDFLoader\n",
        "\n",
        "path = \"data/\"\n",
        "loader = DirectoryLoader(path, glob=\"*.pdf\", loader_cls=PyMuPDFLoader)\n",
        "docs = loader.load()"
      ]
    },
    {
      "cell_type": "code",
      "execution_count": 3,
      "metadata": {},
      "outputs": [
        {
          "data": {
            "text/plain": [
              "269"
            ]
          },
          "execution_count": 3,
          "metadata": {},
          "output_type": "execute_result"
        }
      ],
      "source": [
        "len(docs)"
      ]
    },
    {
      "cell_type": "code",
      "execution_count": 4,
      "metadata": {},
      "outputs": [
        {
          "data": {
            "text/plain": [
              "[Document(metadata={'source': 'data/Applications_and_Verification_Guide.pdf', 'file_path': 'data/Applications_and_Verification_Guide.pdf', 'page': 0, 'total_pages': 76, 'format': 'PDF 1.7', 'title': '', 'author': '', 'subject': '', 'keywords': '', 'creator': 'wkhtmltopdf 0.12.6', 'producer': 'GPL Ghostscript 10.00.0', 'creationDate': \"D:20241217172423Z00'00'\", 'modDate': \"D:20241217172423Z00'00'\", 'trapped': ''}, page_content='Application and Verification Guide\\nIntroduction\\nThis guide is intended for college financial aid administrators and counselors who help students with the financial aid\\nprocess4completing the Free Application for Federal Student Aid (FAFSA®) form, verifying information, and making\\ncorrections and other changes to the information reported on the FAFSA form.\\nThroughout the Federal Student Aid Handbook, we use <college,= <school,= and <institution= interchangeably unless a\\nmore specific use is given. Similarly, <student,= <applicant,= and <aid recipient= are synonyms. <Parents= in this volume\\nrefers to the legal parents of dependent students, and <you= refers to the primary audience of the Handbook: financial aid\\nadministrators at colleges. <We= indicates the U.S. Department of Education (the Department, ED), and <federal student\\naid= and <Title IV aid= are synonymous terms for the financial aid offered by the Department.\\nWe appreciate any comments that you have on the Application and Verification Guide (AVG), as well as all the volumes of\\nthe FSA Handbook. We revise the text based on questions and feedback from the financial aid community, so please\\nreach out to us about how to improve the FSA Handbook through the <Contact Customer Support= feature in our Partner\\nConnect Help Center clicking on <FSA Handbook= under the Topic section.\\nFAFSA Simplification Act\\nThe FAFSA Simplification Act, passed on Dec. 27, 2020, as part of the Consolidated Appropriations Act, 2021, mandated a\\nsignificant overhaul of federal student aid, including the Free Application for Federal Student Aid (FAFSA®) form, need\\nanalysis, and many policies and procedures for schools that participate in the Title IV programs. FSA implemented the\\nFAFSA Simplification Act alongside the FAFSA portion of the Fostering Undergraduate Talent by Unlocking Resources for\\nEducation (FUTURE) Act to streamline the FAFSA application process.\\nChanges From the FUTURE Act\\nThe Fostering Undergraduate Talent by Unlocking Resources for Education (FUTURE) Act authorized a direct data\\nexchange 3 the FUTURE Act Direct Data Exchange (FA-DDX) 3 with the Internal Revenue Service (IRS) to facilitate\\ncompleting the FAFSA form. The previous tool to transfer U.S. income and tax information from the IRS 3 the IRS Data\\nRetrieval Tool (DRT) 3 was retired after the close of the 2023-24 application cycle. Implementation of the FA-DDX\\neliminated the need for most applicants (and their spouse or parents) to self-report their income and tax information\\nreported to the IRS. Also, federal tax information (FTI) that is transferred via the FA-DDX to the FAFSA form is considered\\nverified for Title IV purposes.\\nUnlike with the IRS-DRT, which allowed applicants to opt in, the FA-DDX requires applicants and contributors (student9s\\nspouse and/or parents, as appropriate) to provide consent and approval for the Department to obtain FTI from the IRS via\\nthe FA-DDX and use it to determine the student9s eligibility for federal student aid.\\nOther Changes\\nThroughout the AVG, all dates, pertinent tax return and schedule information, along with various resources and references\\nhave been updated to support the requirements associated with the 2025-26 processing year and the 2023 base tax year.\\nWhere appropriate, links and publications associated with FSA9s Partner Connect and Knowledge Center have been\\nproperly updated. We also removed references to COVID-19 guidance and waivers.\\nSome sections were moved to better align topics and assist with narrative flow. Use the search feature to find sections\\nthat may have been relocated. The following describes changes made in each chapter.\\nChapter 1: The Application Process\\nWe removed the <Returning FAFSA Filers= section as FAFSA renewal functionality has been deferred for future cycles.\\n'),\n",
              " Document(metadata={'source': 'data/Applications_and_Verification_Guide.pdf', 'file_path': 'data/Applications_and_Verification_Guide.pdf', 'page': 1, 'total_pages': 76, 'format': 'PDF 1.7', 'title': '', 'author': '', 'subject': '', 'keywords': '', 'creator': 'wkhtmltopdf 0.12.6', 'producer': 'GPL Ghostscript 10.00.0', 'creationDate': \"D:20241217172423Z00'00'\", 'modDate': \"D:20241217172423Z00'00'\", 'trapped': ''}, page_content='Chapter 2: Filling Out the FAFSA\\nWe added a section on signatures which describes the appropriate use of the signature page from the FAFSA Partner\\nPortal (FPP).\\nWe expanded the <Student Tax Filing Status (19)= section to include subsections on (1) nontax filers, foreign\\ncountries, and international organizations and (2) fiscal year tax returns.\\nWe updated the tax line number used for education credits to IRS Form 1040: line 29 + IRS Form 1040 Schedule 3:\\nline 3.\\nWe moved the section on foreign earned income exclusion to Chapter 5.\\nWe expanded <Parent Tax Filing Status (37)= section to explain the six answer options on the FAFSA form and when\\neach answer should be selected. This section also explains when an answer to this question might be conflicting\\ninformation that requires resolution (comment code 303).\\nChapter 3: Student Aid Index (SAI) and Pell Grant Eligibility\\nEdits to this chapter include general changes and updated links, but no significant changes or reorganization.\\nChapter 4: Verification, Updates, and Corrections\\nWe added a note regarding the unavailability of the Verification of Identity functionality in the FPP and the flexibility\\nthe Department provided around reporting timeframes.\\nWe added a note to the <Using the Tax Return= section regarding the treatment negative values when calculating\\nIncome Earned from Work.\\nWe renamed the <Special Cases= section to <Unique Situations and Exceptions= and moved <Verification for Confined\\nor Incarcerated Individuals= to a subsection under this renamed section.\\nUnder <Filers of Amended Returns=, we removed the exception to not update tax information for certain amended\\ntax return filers. This exception was outlined in Electronic Announcement GEN-24-29 and was limited to the 2024-25\\napplication cycle.\\nWe updated acceptable documentation guidance for individuals who are victims of tax-related identity theft.\\nWe added subsection <Birth of a Child= under the <Updating Information= section.\\nChapter 5: Special Cases\\nWe moved the section on foreign earned income exclusion from Chapter 2.\\n'),\n",
              " Document(metadata={'source': 'data/Applications_and_Verification_Guide.pdf', 'file_path': 'data/Applications_and_Verification_Guide.pdf', 'page': 2, 'total_pages': 76, 'format': 'PDF 1.7', 'title': '', 'author': '', 'subject': '', 'keywords': '', 'creator': 'wkhtmltopdf 0.12.6', 'producer': 'GPL Ghostscript 10.00.0', 'creationDate': \"D:20241217172423Z00'00'\", 'modDate': \"D:20241217172423Z00'00'\", 'trapped': ''}, page_content='Chapter 1\\nThe Application Process: FAFSA to ISIR\\nThe laws governing the Federal Student Aid (FSA) programs require that a person apply for aid with a form provided by\\nthe U.S. Department of Education (ED, Department) and that no fee be charged for processing it. This form is the Free\\nApplication for Federal Student Aid (FAFSA®) form.\\nTo be considered for federal student aid, a student must complete a FAFSA form. It collects financial and other information\\nused to calculate the Student Aid Index (SAI; formerly Expected Family Contribution or EFC) and to determine a student9s\\neligibility through computer matches with other agencies.\\nThe FAFSA form is the only application students must complete to apply for Title IV aid. A school cannot require extra\\ninformation from students to package Title IV aid, except for verification, resolution of conflicting information, or\\nprofessional judgment determinations. However, a school may require additional information for other purposes, such as\\npackaging private or institutional aid. If the school collects additional information that affects Title IV eligibility, it must\\ntake the information into account when awarding Title IV aid.\\nTypes of FAFSA Applications\\nMore than 99% of FAFSA forms are filed electronically. However, there are other options for individuals unwilling or unable\\nto file electronically.\\nFAFSA Online\\nImplementation of the FAFSA Simplification Act and the FUTURE Act required a complete overhaul of the FAFSA form,\\nbeginning with the 2024-25 award year. Submitted FAFSA forms are sent directly to the FAFSA Processing System (FPS).\\nHelp is available for students online or by calling the Federal Student Aid Information Center (FSAIC) at 1-800-4-FED-AID\\n(1-800-433-3243).\\nThere are many advantages to filing electronically, including:\\nFaster processing;\\nAvailability of online help;\\nSkip logic, which allows applicants to skip over questions that don9t pertain to them; and\\nFewer errors and rejected applications because internal and end-of-entry data edits ensure that required fields are\\ncompleted and conflicts are resolved prior to submission.\\nPaper (PDF) FAFSA Form\\nThe paper (PDF) FAFSA form is available on StudentAid.gov. In future cycles, students will also be able to call the Federal\\nStudent Aid Information Center (FSAIC) at 1-800-433-3243 to request a single copy.\\nThe form can be printed and completed by hand, or by typing the data on the PDF before printing and mailing it. The\\nmailing address is printed on the first page of the FAFSA form under <Mail Your FAFSA® Form=. The address changes\\nannually, so use the address printed on the associated year9s FAFSA form.\\nYou must mail all fillable pages of the form (pages 7-20), including pages that are left blank because they do not apply to\\nthe applicant. Extra postage will be required due to the size and/or weight of the mailing.\\nFSA no longer prints or mails aid-related publications, though they are available on StudentAid.gov for users to download\\nand print.\\nIncarcerated Applicants\\nIncarcerated applicants who have access to the necessary technology can complete a FAFSA form online using their\\nStudentAid.gov account username and password. However, many incarcerated applicants will not be able to file\\n'),\n",
              " Document(metadata={'source': 'data/Applications_and_Verification_Guide.pdf', 'file_path': 'data/Applications_and_Verification_Guide.pdf', 'page': 3, 'total_pages': 76, 'format': 'PDF 1.7', 'title': '', 'author': '', 'subject': '', 'keywords': '', 'creator': 'wkhtmltopdf 0.12.6', 'producer': 'GPL Ghostscript 10.00.0', 'creationDate': \"D:20241217172423Z00'00'\", 'modDate': \"D:20241217172423Z00'00'\", 'trapped': ''}, page_content='electronically due to limitations on access to computers and the internet. These applicants can complete a paper (PDF)\\nFAFSA form designated specifically for incarcerated applicants, available on the Prison Education Programs resource page\\nof the FSA Knowledge Center.\\nThe mailing address for the Incarcerated Applicant FAFSA form is printed on the first page of the form under <Mail Your\\nFAFSA® Form=. The address changes annually and differs from the general FAFSA form mailing address, so use the\\naddress printed on the associated year9s Incarcerated Applicant FAFSA form. You must mail all fillable pages of the form\\n(pages 7-20), including pages that are left blank because they do not apply to the applicant. Extra postage will be\\nrequired due to the size and/or weight of the mailing.\\nFAFSA Partner Portal\\nThe FAFSA Partner Portal (FPP) replaced FAA Access to CPS Online beginning with the 2024-25 award year. FSA\\ndecommissioned the FAA Access site after the 2023324 application cycle closed.\\nThe FAFSA Partner Portal removed the ability for a financial aid administrator (FAA) to initiate a new application on behalf\\nof a student. This is due to the requirement in the FUTURE Act that all FAFSA form contributors (including students,\\nspouses, and parents) must provide their consent to disclose information to the Internal Revenue Service (IRS) and\\napproval to retrieve and use certain Federal Tax Information (FTI). FAAs cannot provide consent and approval on behalf of\\nany other person. Therefore, you will not be able to use the FPP to start and submit a new FAFSA form on an applicant9s\\nbehalf. However, you can make certain corrections or updates.\\nTranslation Assistance\\nThe FAFSA form is available in English and Spanish. If you need assistance completing the form in English or Spanish\\ncontact the FSAIC at 1-800-433-3243. Translation assistance in additional languages is available by calling 1-833-610-\\n2590 and pressing <7= to request a specific language.\\nAccount Username and Password (FSA ID)\\nThe account username and password, also known as the FSA ID, is used to access a person9s StudentAid.gov account. It\\nserves as an electronic signature and a digital identifier to allow access to various ED systems and services for students,\\nspouses of students, parents, or spouses/partners of parents. Therefore, each individual must create their own account\\nand should not share their login credentials with anyone, including FAAs. Users can create an account online at\\nStudentAid.gov quickly and securely. See Electronic Announcement GENERAL-23-123 for additional information on\\ncreating a StudentAid.gov account for individuals without a Social Security number.\\nEach person who provides data in the online FAFSA form must have an account username and password to access the\\nform. In the past, a Social Security number (SSN) was required to create a StudentAid.gov account. Starting with the\\n2024325 award year, all individuals4even those without an SSN4can create a StudentAid.gov account. Persons with an\\nSSN will still have their information verified by the Social Security Administration (SSA), while those without an SSN will\\nuse the TransUnion® knowledge-based identity verification process described below.\\nThe account username and password are created in real-time so that the student or other contributor can use it\\nimmediately to enter the FAFSA form. Pending StudentAid.gov accounts with an SSN will be sent to the SSA to be\\nmatched. Only those accounts with a successful match (<SSA Match Status= value of 4 on the Institutional Student\\nNote: There will be two active portals that coincide with the two open FAFSA application cycles. The links below\\nare specific to the application cycle. Be sure to use the correct portal for the applicable award year.\\n2024-25 FAFSA Partner Portal - https://fafsa.partnerportal.ed.gov\\n2025-26 FAFSA Partner Portal - https://fafsa.partnerportal-2526.ed.gov\\nIf the Department is able to consolidate to one portal in future cycles, we will provide an updated link.\\n'),\n",
              " Document(metadata={'source': 'data/Applications_and_Verification_Guide.pdf', 'file_path': 'data/Applications_and_Verification_Guide.pdf', 'page': 4, 'total_pages': 76, 'format': 'PDF 1.7', 'title': '', 'author': '', 'subject': '', 'keywords': '', 'creator': 'wkhtmltopdf 0.12.6', 'producer': 'GPL Ghostscript 10.00.0', 'creationDate': \"D:20241217172423Z00'00'\", 'modDate': \"D:20241217172423Z00'00'\", 'trapped': ''}, page_content='Information Record) will be considered verified. A pending username and password that has not been verified will still\\nallow the user to access and submit the online FAFSA form and complete other limited actions on StudentAid.gov.\\nHowever, the Department will not be able to retrieve federal tax data from the Internal Revenue Service (IRS). For this\\nreason, we recommend that users do not sign and submit the online FAFSA form until the account username and\\npassword is verified through a match with the SSA.\\nIf the SSN match is unsuccessful, the account is not considered verified, and an email is sent to notify the individual that\\nthey should review the information they provided (name, date of birth, and SSN) to ensure it is accurate. If the applicant\\nused an unverified account username and password to sign their FAFSA form, the applicant is also sent a paper FAFSA\\nSubmission Summary requesting all required signatures.\\nTransUnion® Knowledge-Based Identity Verification\\nUsers who create a StudentAid.gov account without an SSN will be required to complete a knowledge-based identity\\nverification process with TransUnion® to verify their identity and provide login credentials. The student (if a citizen of one\\nof the Freely Associated States - the Republic of the Marshall Islands, the Republic of Palau, or the Federated States of\\nMicronesia), student9s spouse, parent, or parent spouse/partner are sent through the TransUnion® process when they do\\nnot have an SSN and check the <I don9t have an SSN= box during the account creation process. They will be asked to\\nprovide additional information to confirm their identity.\\nFAFSA Filers Under the Age of 13\\nBecause the Children9s Online Privacy Protection Act (COPPA) of 1998 prohibits any entity, including a government\\nagency, from electronically conducting business or communicating with a person under age 13, applicants who are 12 or\\nyounger cannot complete the FAFSA form online. Instead, when they apply for financial aid, the student and required\\ncontributor(s) can fill out the appropriate award year paper (PDF) FAFSA form and mail it to:\\nFederal Student Aid Programs\\nAttn: COPPA Process\\n25 Air Park Drive\\nLondon, KY 40744-8236\\nSuch applicants should not provide an email address on the application or any correction that might follow. After the\\nFAFSA form is submitted, it will be processed and a paper FAFSA Submission Summary will be sent to the student and an\\nISIR will be sent to schools. See Electronic Announcement APP-24-02 for additional information.\\nProcessing the FAFSA\\nApplications that are signed and submitted online go directly to the FPS. The paper FAFSA forms go to the FAFSA\\nprocessor for data entry and then to the FPS. The FPS uses application data to calculate the SAI and to match the\\nstudent9s information against several databases: NSLDS, the SSA, and the Department of Veterans Affairs, as well as the\\nDepartment of Homeland Security9s database of noncitizens.\\nIndividuals Without a Social Security Number\\nElectronic Announcement GENERAL-23-123\\nElectronic Announcement GENERAL-24-52\\nElectronic Announcement GENERAL-24-95\\nElectronic Announcement GENERAL-24-140\\n'),\n",
              " Document(metadata={'source': 'data/Applications_and_Verification_Guide.pdf', 'file_path': 'data/Applications_and_Verification_Guide.pdf', 'page': 5, 'total_pages': 76, 'format': 'PDF 1.7', 'title': '', 'author': '', 'subject': '', 'keywords': '', 'creator': 'wkhtmltopdf 0.12.6', 'producer': 'GPL Ghostscript 10.00.0', 'creationDate': \"D:20241217172423Z00'00'\", 'modDate': \"D:20241217172423Z00'00'\", 'trapped': ''}, page_content='The FPS also checks the application for possible inconsistencies and mistakes. For instance, if a dependent student\\nreported the parents9 marital status as married but reported the family size as <2,= the edit checks would catch the\\ninconsistency. Even when data is inconsistent, the FPS may be able to calculate an SAI based on assumptions. Students\\nwho submit applications online will be able to correct or confirm FPS edits before submitting the application.\\nOutput Documents\\nAfter processing is complete, the FPS produces output documents 3 the Institutional Student Information Record (ISIR) and\\nthe FAFSA Submission Summary 3 that show the information the student originally provided, the SAI, results of the\\neligibility matches, information about aid history, and information about any inconsistencies identified through the FPS\\nedits. If the FPS was unable to calculate an SAI, the output record will not show one. The ISIR is made available\\nelectronically to the schools the student listed on the FAFSA form (or added later) and their state agency. The FAFSA\\nSubmission Summary is made available to the student online or a paper FAFSA Submission Summary is mailed to the\\nstudent if the student is unable to access it online. The type of output document depends on the type of record that the\\napplicant submitted. Neither the online nor the paper FAFSA Submission Summary will contain FTI. See Volume 6 of the\\n2025-26 FAFSA Specifications Guide for additional information.\\nYou will receive an ISIR for the student only if the applicant includes your school on their FAFSA form. If your school is not\\nlisted, you can request an ISIR for the student through the FAFSA Partner Portal by adding your federal school code if you\\nhave the applicant9s Data Release Number (DRN), which authorizes your access to the student9s application information.\\nThe DRN appears on the FAFSA Submission Summary, on the FAFSA confirmation page, and in the FAFSA confirmation\\nemail.\\nYou are required to receive ISIRs and to accept FAFSA Submission Summaries from students, but you cannot require\\nstudents to submit FAFSA Submission Summaries to receive aid. If you don9t have an ISIR for a student, your federal\\nschool code must be added to their record so that an ISIR is sent to you. We recommend making corrections electronically\\nvia the online FAFSA (the student) or the FAFSA Partner Portal (the school); however, students can also use a paper FAFSA\\nSubmission Summary to make corrections. If you don9t have an ISIR for a student who provided a FAFSA Submission\\nSummary, you must use the FAFSA Submission Summary to package and disburse the student aid. Again, you must also\\nensure that your school code is added to the student9s FPS record (see the <How to Submit Corrections and Updates=\\nsection in Chapter 4).\\nThe FAFSA Submission Summaries and ISIRs include comment codes and text explaining any questionable results from\\nFAFSA processing. Some comment codes also have an associated C Flag, which you must resolve before paying the\\nstudent aid. If a student9s FAFSA Submission Summary/ISIR contains a comment code that requires resolution, the\\nunderlying issue must be resolved before any Title IV funds may be disbursed to the student. For instance, if an applicant\\nhas defaulted on a federal student loan, the FAFSA Submission Summary and ISIR will note this in several places,\\nincluding comments to the applicant and the NSLDS financial aid history page. In addition, if a school disburses Title IV\\nfunds to a student with a comment code that requires resolution and the student withdraws before the school has\\nresolved the underlying issue, any funds disbursed must be returned to ED since the funds were provided to an otherwise\\nineligible student.\\nFor other problems, the FAFSA Submission Summary and ISIR will show that the FAFSA form has been rejected and no SAI\\nhas been calculated. The FAFSA Submission Summary will tell the applicant how to resolve the reject by correcting errors\\nor providing consent and approval, signatures, or more information. A complete list of comments, C Flags, reject codes,\\nand required resolutions are available in Volume 7 of the 2025-26 FAFSA Specifications Guide.\\nA valid output document (ISIR or FAFSA Submission Summary) is one on which all the information reported on a student9s\\nFAFSA form is accurate and complete as of the date the application is signed.\\nValid Output Document\\n34 CFR 668.2(b)\\n'),\n",
              " Document(metadata={'source': 'data/Applications_and_Verification_Guide.pdf', 'file_path': 'data/Applications_and_Verification_Guide.pdf', 'page': 6, 'total_pages': 76, 'format': 'PDF 1.7', 'title': '', 'author': '', 'subject': '', 'keywords': '', 'creator': 'wkhtmltopdf 0.12.6', 'producer': 'GPL Ghostscript 10.00.0', 'creationDate': \"D:20241217172423Z00'00'\", 'modDate': \"D:20241217172423Z00'00'\", 'trapped': ''}, page_content='Deadlines\\nThe application processing cycle typically lasts 21 months, with the FAFSA form opening on October 1 in the year prior to\\nthe start of the award year. For the 2025-26 application cycle, the online FAFSA opened for beta testing to a limited\\npopulation of applicants on October 1, with the form expected to be available to all applicants by December 1, 2024.\\nApplications will be accepted through June 30, 2026.\\nThe FPS must receive a student9s online FAFSA information by June 30, 2026. A paper FAFSA form must be legible, and it\\nmust be mailed to the Federal Student Aid Programs address listed on the FAFSA form in time for the processor to receive\\nit by June 30, 2026. There are no exceptions to these deadlines. An online application received after June 30, 2026, will\\nnot be processed.\\nA paper application received before the application opens for the award year, or after June 30, 2026, will be returned\\nunprocessed with a letter of explanation. If it is signed before and received after the application opens for the award year,\\nit will be accepted but the student will receive a rejected FAFSA Submission Summary asking them to date and re-sign the\\nFAFSA Submission Summary and return it for processing.\\nFor other deadlines pertaining to corrections, changes, disbursements, and verification, see the official deadline notice for\\nthe 2025-26 award year. It will provide all the processing deadline dates and will be available in the Knowledge Center\\nunder <Federal Registers.= For these deadlines, the date the FPS processed the ISIR transaction is the date the institution\\nreceived the ISIR. The processed date is displayed above the SAI on the first page of the FAFSA Submission Summary and\\nISIR printout.\\nStudents who submit the FAFSA form later in the award year can receive aid for the entire year, including completed\\npayment periods, if they were not ineligible at the time. See the section on retroactive disbursements for completed\\nperiods in Volume 4, Chapter 2 of the FSA Handbook.\\nWebsites for students\\nhttps://studentaid.gov/4Higher education portal that contains resources and information about paying for\\ncollege. The site includes access to the FAFSA application, loan information, counseling, repayment, and other\\ntools to help future, current, and former students access financial aid.\\nhttps://studentaid.gov/fafsa4Submit a FAFSA application or make corrections to a previously submitted\\napplication; get an online FAFSA Submission Summary; check status of an application.\\nhttps://studentaid.gov/aid-estimator/4The Federal Student Aid Estimator can help applicants understand\\ntheir options to pay for college or career school by providing an early estimate of the SAI and eligibility for federal\\nstudent aid.\\nhttps://studentaid.gov/fsa-id/create-account/launch4Create an account username and password, which\\nallows students, FAFSA contributors, and other borrowers access to the StudentAid.gov portal.\\nhttps://studentaid.gov/fafsa-apply/parents4Who counts as a parent on the FAFSA form? This tool helps\\ndetermine which parent(s) should participate in a student9s FAFSA form.\\nResources for schools\\n2025-26 FAFSA Specifications Guide 3 This guide consolidates all FAFSA-related processing information and\\nguidance into a multi-volume resource. It includes the following volumes and replaces previous stand-alone\\nguides:\\nVolume 1 3 Summary of Changes (PDF)\\nVolume 2 3 FPS Schedule and Getting Help (PDF)\\nVolume 3 3 Electronic Data Exchange and FAFSA Processing (PDF)\\n'),\n",
              " Document(metadata={'source': 'data/Applications_and_Verification_Guide.pdf', 'file_path': 'data/Applications_and_Verification_Guide.pdf', 'page': 7, 'total_pages': 76, 'format': 'PDF 1.7', 'title': '', 'author': '', 'subject': '', 'keywords': '', 'creator': 'wkhtmltopdf 0.12.6', 'producer': 'GPL Ghostscript 10.00.0', 'creationDate': \"D:20241217172423Z00'00'\", 'modDate': \"D:20241217172423Z00'00'\", 'trapped': ''}, page_content='Volume 4A 3 Record Layouts (PDF and Excel)\\nVolume 4B 3 Processing Codes (PDF and Excel)\\nVolume 5 3 Edits and Rejects (PDF)\\nVolume 6 3 ISIR Guide (PDF)\\nVolume 7 3 Comment Codes (PDF)\\nVolume 8 3 Agency Matches (PDF)\\nVolume 9 3 Testing and Web Demo System (PDF)\\nFPS Test ISIR Data Files (ZIP)\\nFPS/SAIG Technical Support4For questions related to the FAFSA Processing System (FPS), the Student Aid\\nInternet Gateway (SAIG), web products such as the FAFSA Partner Portal (FPP), and assistance with software\\nproducts such as EDconnect and EDExpress. Questions related to Two Factor Authentication (TFA) tokens may\\nalso be directed here. Call or email FPS customer service: 1-800-330-5947, support@fps.ed.gov.\\nTechnical system publications4Federal Student Aid has consolidated software and other tools used by the\\nfinancial aid community for student aid processing on this page.\\nFSA Help Center4Collection of additional help and resources, including contact information for FSA Customer\\nService Centers.\\n'),\n",
              " Document(metadata={'source': 'data/Applications_and_Verification_Guide.pdf', 'file_path': 'data/Applications_and_Verification_Guide.pdf', 'page': 8, 'total_pages': 76, 'format': 'PDF 1.7', 'title': '', 'author': '', 'subject': '', 'keywords': '', 'creator': 'wkhtmltopdf 0.12.6', 'producer': 'GPL Ghostscript 10.00.0', 'creationDate': \"D:20241217172423Z00'00'\", 'modDate': \"D:20241217172423Z00'00'\", 'trapped': ''}, page_content='Chapter 2\\nFilling Out the FAFSA Form\\nThis chapter describes the 2025-26 FAFSA form. While the chapter follows the organization of the paper (PDF) FAFSA form\\nand the ISIR, the guidance applies equally to the online FAFSA. To see how FAFSA data are used to calculate the Student\\nAid Index (SAI), refer to Chapter 3.\\nThe easiest, fastest, and most accurate way to complete a FAFSA form is using the online application and providing\\nconsent and approval for the access, disclosure, and use of federal tax information (FTI). The online FAFSA form provides\\nrobust instructions for completing the form. It also provides a clear path for the student and each contributor, allowing\\nthem to skip (or never see) questions that are unnecessary, irrelevant, or already known based on information previously\\nprovided or imported. However, some applicants will be unable or unwilling to complete the FAFSA form online and have\\nthe option to complete a paper version of the form.\\nFUTURE Act Direct Data Exchange (FA-DDX)\\nThe FUTURE Act amended Section 6103 of the Internal Revenue Code (IRC) to allow the Internal Revenue Service (IRS) to\\ndisclose certain FTI to FSA. The IRS and FSA worked together to develop the FUTURE Act Direct Data Exchange (FA-DDX)\\nwhich established a secure connection between both agencies through an application programming interface that\\nprocesses requests in near-real time. The FA-DDX replaced the IRS Data Retrieval Tool (IRS-DRT) to import certain FTI into\\nan applicant9s FAFSA form.\\nConsent and Approval\\nThe student and each contributor to the FAFSA form must provide consent and approval to the access, disclosure, and use\\nof FTI in evaluating the applicant9s eligibility for Title IV aid. Consent and approval are required regardless of the\\napplication method (online or paper).\\nTo provide consent and approval, FAFSA contributors (including parent(s) or spouse) must agree to:\\n1. The Department9s use and disclosure of their information (e.g., name and Social Security number) to match with the\\nIRS;\\nDefinitions\\nFAFSA Privacy Act Consent 3 Formal consent provided by an applicant and any applicable contributor(s) for a\\ngiven FAFSA cycle (e.g., December 2024 to September 2026 for the 2025-26 FAFSA form) that meets the\\nstatutory requirements of collecting and using an individual9s personally-identifiable information (PII) under the\\nPrivacy Act, as amended (5 U.S.C. § 552a). PII provided on the FAFSA form (e.g., name, date of birth, Social\\nSecurity number) with consent of the individual, will be provided to the IRS to conduct a match for the\\nDepartment to receive FTI for purposes of determining an applicant9s federal financial aid eligibility and permit\\nfurther redisclosure of FTI by the Department.\\nFAFSA FTI Approval 3 Formal approval granted by an applicant and any applicable contributors for a given\\nFAFSA cycle (e.g., December 2024 to September 2026 for the 2025-26 FAFSA form) to retrieve and use FTI to\\ndetermine an applicant9s federal financial aid eligibility as well as permit the redisclosure of FTI by the\\nDepartment to an eligible institution; state higher education agency; or a designated scholarship organization for\\nthe application, award, and administration of student aid programs. An applicant and contributor (if applicable)\\nmust provide approval once each year. If FAFSA FTI approval is not provided, the student will not be eligible for\\nany Title IV aid until the approval is provided by each contributor.\\n'),\n",
              " Document(metadata={'source': 'data/Applications_and_Verification_Guide.pdf', 'file_path': 'data/Applications_and_Verification_Guide.pdf', 'page': 9, 'total_pages': 76, 'format': 'PDF 1.7', 'title': '', 'author': '', 'subject': '', 'keywords': '', 'creator': 'wkhtmltopdf 0.12.6', 'producer': 'GPL Ghostscript 10.00.0', 'creationDate': \"D:20241217172423Z00'00'\", 'modDate': \"D:20241217172423Z00'00'\", 'trapped': ''}, page_content='2. The disclosure of their FTI by the IRS to the Department;\\n3. The use of their FTI by a Department official to determine an applicant9s eligibility for federal student aid and the\\namount for which they are eligible; and\\n4. The redisclosure of FTI by the Department to an eligible institution, state higher education agency, or a designated\\nscholarship organization (e.g., institutional or state financial aid).\\nOnly the Department has the authority to obtain approval and consent for the use and disclosure of FTI for such purposes.\\nOur partners (FAAs, advocates, etc.) are not permitted to obtain approval and consent on behalf of FAFSA contributors\\n(including parent(s) or spouse) for the use and disclosure of FTI.\\nOnce a FAFSA contributor has provided consent and approval for use and disclosure of FTI for a FAFSA cycle (e.g., the\\n2025-26 FAFSA cycle), they cannot revoke consent for that cycle. The ability to revoke consent is not needed for FAFSA\\npurposes because the FAFSA contributor is providing a one-time consent for a specific tax year and an annual consent is\\nrequired for each FAFSA cycle.\\nStudents and contributors are not able to view or edit the imported FTI data. This is to enhance security, privacy, and to\\nreduce the risk of the misuse of sensitive data. However, you (the financial aid administrator) will be able to see the\\ntransferred data on the ISIR. Schools and other partners that receive ISIRs must protect federal student aid information\\nprovided to them by the Department or otherwise obtained in support of the application, award, and administration of the\\nfederal student aid programs as permitted under the IRC 6103(l)(13) and HEA, as amended. In keeping with the\\nexpectation that you protect the confidentiality of data associated with the Title IV programs, you must not disclose FTI\\nfrom the FAFSA form unless the disclosure and use is permitted under the IRC 6103(l)(13) and HEA 1098h. For additional\\ninformation and guidance on the use of FTI, see Electronic Announcement GENERAL-23-34.\\nSignatures\\nEach student and required contributor must both (1) provide consent and approval to obtain tax information from the IRS\\nand (2) sign the FAFSA application. While both the student and contributors must provide consent and approval once per\\napplication cycle, a signature may be required multiple times throughout the cycle if a student makes corrections to a\\nprocessed FAFSA form. In these cases, the student or the contributor must sign that correction to certify the information is\\naccurate but will not be prompted to provide consent and approval again. Therefore, it is possible for a FAFSA transaction\\nto contain consent and approval but not the required signature(s). If your school receives an ISIR transaction indicating\\nthat the transaction source (i.e. paper or online FAFSA) was unsigned, the applicant or contributor can return to their\\nFAFSA form and sign the correction. Alternatively, you can print a signature page in the FAFSA Partner Portal (FPP), collect\\nthe necessary original signature(s), and indicate in FPP that you have the signature on file. This will resolve the signature\\nrequirement but will not satisfy the requirement for consent and approval. Only the Department can collect a contributor9s\\nconsent and approval.\\nFederal Tax Information\\nThe following data received by the Department from the IRS are considered FTI:\\nTax Year (ex. Award year 2025-26 is based on 2023 tax year information from the IRS)\\nTax Filing Status\\nAdjusted Gross Income (AGI)\\nNumber of Exemptions and Number of Dependents\\nIncome Earned from Work\\nTaxes Paid\\nEducational Credits\\nUntaxed IRA distributions\\nIRA deductions and payments\\nTax exempt interest\\nUntaxed pension amounts\\nSchedule C net profit/loss\\n'),\n",
              " Document(metadata={'source': 'data/Applications_and_Verification_Guide.pdf', 'file_path': 'data/Applications_and_Verification_Guide.pdf', 'page': 10, 'total_pages': 76, 'format': 'PDF 1.7', 'title': '', 'author': '', 'subject': '', 'keywords': '', 'creator': 'wkhtmltopdf 0.12.6', 'producer': 'GPL Ghostscript 10.00.0', 'creationDate': \"D:20241217172423Z00'00'\", 'modDate': \"D:20241217172423Z00'00'\", 'trapped': ''}, page_content='Indicators for Schedules A, B, D, E, F, H\\nIRS response code\\nIn some limited circumstances, the student or contributor may need to manually provide data if it is unavailable through\\nthe FA-DDX or does not reflect their current personal circumstances. In these cases, manually entered data will be used in\\nthe SAI calculation. For example, a contributor would be required to manually report income and tax data if they were\\nmarried and filed their 2023 U.S. tax return jointly with their spouse but are now divorced.\\nIRS Response Codes\\nThe IRS will provide one of the following response codes for each contributor, and they will appear on a student9s ISIR.\\nCode\\nIndication\\n200\\nUsable FTI data retrieved successfully\\n214\\nNo return on file\\n203\\n206\\n212\\nNo usable FTI data retrieved\\nThe IRS provides a response code value of <200= when the IRS has data and it was successfully shared with FSA for\\ninclusion on the applicant9s FAFSA form. Income and tax information for contributors with a <200= IRS response code is\\nconsidered verified. The IRS response code of <214= means the IRS was able to locate the individual in its records and\\nconfirmed that it does not have a tax return on file for that individual for the tax year, designating them as a non-U.S. tax\\nfiler.\\nIRS response codes <203=, <206=, and <212= indicate that the IRS is unable to provide FTI for that contributor. This may be\\nbecause the IRS is unable to locate the individual in its records or the IRS is unable to share FTI (such as in cases of\\nidentity theft). If the IRS returns any of these codes for a contributor, that individual must manually provide income and\\ntax information on the applicant9s FAFSA form. This manually entered data will be used in the SAI calculation but is not\\nconsidered verified and may be subject to verification if selected by the Department or your institution.\\nContributors\\n<Contributor= refers to anyone who is required to provide information, consent, and approval, and a signature on the\\nFAFSA form. The FAFSA form is organized by contributor. Each contributor will complete their own section of the form\\nwhich contains specific questions and instructions pertaining to that contributor. The guidance in this chapter\\nsupplements those instructions and explains why some of the questions are needed on the FAFSA form.\\nThe following sections discuss the questions found within each contributor section on the FAFSA form. The parents\\nmentioned are the legal parents of dependent students. The numbers in parentheses are for the items as they appear on\\nthe FAFSA Submission Summary, ISIR, paper (PDF) FAFSA, and FAFSA Partner Portal. The FAFSA form is considered a\\n<snapshot= of the family9s information as of the date the application is signed and it can be updated only in certain\\ncircumstances and only for certain items. See Chapter 4 for more information about updating a FAFSA form.\\nContributor: Student\\nThis section consists of 24 questions related to the student.\\nStudent Identity Information (1)\\nThis question requests the name, date of birth, and Social Security number (SSN) or Individual Taxpayer Identification\\nNumber (ITIN) of the student contributor. The name, with other identifying information, is used for several data matches.\\n'),\n",
              " Document(metadata={'source': 'data/Applications_and_Verification_Guide.pdf', 'file_path': 'data/Applications_and_Verification_Guide.pdf', 'page': 11, 'total_pages': 76, 'format': 'PDF 1.7', 'title': '', 'author': '', 'subject': '', 'keywords': '', 'creator': 'wkhtmltopdf 0.12.6', 'producer': 'GPL Ghostscript 10.00.0', 'creationDate': \"D:20241217172423Z00'00'\", 'modDate': \"D:20241217172423Z00'00'\", 'trapped': ''}, page_content='Because the Department matches the student9s name and SSN with the Social Security Administration (SSA), the name on\\nthe FAFSA form should match the one in the SSA9s records (i.e., as it appears on the student9s Social Security card).\\nStudents (except citizens of one of the Freely Associated States 3 see <Account Username and Password= in Chapter 1)\\nmust have an SSN to apply for federal student aid. If they submit a paper (PDF) FAFSA form without an SSN, the FAFSA\\nform will be returned unprocessed. Students will be unable to submit a FAFSA form electronically without an account\\nusername and password, which requires an SSN (except students who are citizens one of the Freely Associated States).\\nThe student must contact the local SSA office to get an SSN or to find out what the number is if they lost their Social\\nSecurity card. Go to https://www.ssa.gov/number-card for more information.\\nIf the student9s name, date of birth, or SSN does not match with the Social Security Administration, the student typically\\nneeds to resolve the issue with the SSA. If the information submitted is correct, the student must contact SSA to update\\nits records. After the student receives confirmation that SSA has corrected its records, the student must contact the\\nFederal Student Aid Information Center (FSAIC) and ask them to manually sync their data with SSA. Alternatively, if the\\nstudent notifies the school that they received confirmation from SSA, the FAA may update the Resend to Matches field to\\n<Y= in the FAFSA Partner Portal and submit it as a correction so the transaction can go back to SSA for an updated match\\nflag. Records sent for rematching will continue to receive this match flag until SSA updates its database.\\nStudents who enter their name, date of birth, or SSN incorrectly should log in to StudentAid.gov and update their\\ninformation in Account Settings. The record will be resent to SSA for matching. Once SSA verifies the account, the\\nstudent should update their FAFSA form by submitting a correction.\\nStudent Contact Information (2)\\nThis is the student9s current mobile phone, email address, and permanent home address, with three exceptions:\\nStudents under the age of 13 should not provide an email address as FSA cannot communicate with them\\nelectronically. See <FAFSA Filers Under the Age of 13= in Chapter 1 for additional information.\\nIncarcerated students should use an address where they can reliably receive mail. This may be the physical address\\nof the facility they are in, the address of the school (if permitted by the school), or a central processing facility used\\nby the facility for mail distribution. If a prison ID number is required by the facility for the applicant to receive mail,\\nthe applicant should list that at the end of the address field. If an incarcerated student is released, they should also\\nupdate their address in their StudentAid.gov account or on their FAFSA Submission Summary.\\nHomeless students should use a mailing address where they can reliably receive mail. That can be the address of a\\nrelative or friend who has given them permission to use it, or it can be their school9s address if they have contacted\\nthe school for permission and instructions on how mail they receive at the school will reach them. As soon as\\nhomeless students have more permanent housing, they should update their address in their StudentAid.gov account\\nor on their FAFSA Submission Summary.\\nIf the student provides an email address, they should get an email with a link to their online FAFSA Submission Summary\\nwithin one to three days after the FPS receives the completed application. The Department will also use this email address\\nto correspond with the student regarding their application.\\nStudent Current Marital Status (3)\\nThis is marital status <as of today= 3 the day the application is signed. Marital status cannot be projected. It can be\\nupdated in limited circumstances; see Chapter 4.\\nA student who is only engaged should select <single (never married)= unless they wait until after their marriage date to\\ncomplete the FAFSA form. A student in a relationship that meets the criteria for common-law marriage in their state of\\nlegal residence should select <married= and will be considered independent. A student who is separated from their spouse\\nshould select <separated= and will be considered a dependent student for FAFSA purposes, unless they meet other criteria\\nto be considered an independent student.\\nStudent College or Career School Plans (4)\\nStudents should answer this question based on the degree or certificate program they will be working on at the start of\\n'),\n",
              " Document(metadata={'source': 'data/Applications_and_Verification_Guide.pdf', 'file_path': 'data/Applications_and_Verification_Guide.pdf', 'page': 12, 'total_pages': 76, 'format': 'PDF 1.7', 'title': '', 'author': '', 'subject': '', 'keywords': '', 'creator': 'wkhtmltopdf 0.12.6', 'producer': 'GPL Ghostscript 10.00.0', 'creationDate': \"D:20241217172423Z00'00'\", 'modDate': \"D:20241217172423Z00'00'\", 'trapped': ''}, page_content=\"the 2025-26 award year. Students may update the answer to this question if their plans change or they progress to a\\nhigher grade level during the award year.\\nA student9s grade level is not based on the number of years the student has attended college but on work completed\\ntoward the degree or certificate. For instance, a full-time student might attain second-year grade level after one year of\\nstudy, while a half-time student would take two years to reach that level.\\nThe student should also indicate whether they will have a first bachelor9s degree before beginning the 2025-26 year\\nbecause eligibility for Pell and Federal Supplemental Educational Opportunity grants (FSEOG) is almost exclusively\\nrestricted to students who have not received a bachelor9s degree or completed the requirements for one. See <General\\nEligibility Requirements for Federal Pell Grants= in Volume 7, Chapter 1 of the FSA Handbook regarding degrees from\\nunaccredited and foreign schools, which can count as bachelor9s degrees for Pell and FSEOG eligibility.\\nIf the student indicates they have a first bachelor9s degree, they should also indicate if they will be pursuing an initial\\nteaching certification at the elementary or secondary level. If a student answers <yes= to this question, you must evaluate\\nand determine if the student is enrolled in a postbaccalaureate program for which a student may receive a Pell Grant. See\\nVolume 7, Chapter 1 of the FSA Handbook regarding eligible postbaccalaureate programs.\\nA student who is a graduate or professional student is independent for purposes of Title IV aid and not eligible for Pell\\ngrants or other forms of undergraduate aid. If a Pell-eligible student incorrectly indicates they are working on a master9s,\\ndoctorate, or graduate certificate program, they must submit a correction before they can receive a Pell grant. If a student\\ncompletes an undergraduate program during the year and begins graduate school, the student can update the answer to\\nthis question and the FPS will reprocess the student9s application.\\nSee Volume 1, Chapter 1 of the FSA Handbook for definitions of undergraduate and graduate students.\\nStudent Personal (5), Homelessness (6), or Unusual (7) Circumstances\\nThe law governing the Title IV programs is based on the premise that the family is the first source of the student9s\\nsupport, and the law provides several criteria that decide if the student is considered independent of their parents for aid\\neligibility. Note that a student reaching the age of 18 or 21 or living apart from their parents does not on its own affect\\ntheir dependency status.\\nQuestions 5 and 6, along with information from other FAFSA questions, are used to determine if a student meets eligibility\\ncriteria to be considered independent and not required to submit information about their parents. If a student is\\nconsidered a dependent of their parents, the parents' must include their financial information on the FAFSA form. The FPS\\nwill calculate a parent contribution and add it to the student9s contribution to derive an SAI.\\nFor the 2025-26 year, a student who meets one or more of the following criteria is independent:\\nFrom Question 1:\\nUndergraduate student definition\\n34 CFR 668.2(b) <Undergraduate student=\\nGraduate student definition\\n34 CFR 668.2(b) <Graduate or professional student=\\n\"),\n",
              " Document(metadata={'source': 'data/Applications_and_Verification_Guide.pdf', 'file_path': 'data/Applications_and_Verification_Guide.pdf', 'page': 13, 'total_pages': 76, 'format': 'PDF 1.7', 'title': '', 'author': '', 'subject': '', 'keywords': '', 'creator': 'wkhtmltopdf 0.12.6', 'producer': 'GPL Ghostscript 10.00.0', 'creationDate': \"D:20241217172423Z00'00'\", 'modDate': \"D:20241217172423Z00'00'\", 'trapped': ''}, page_content='The student was born before January 1, 2002.\\nFrom Question 3:\\nThe student is married (not separated) or remarried as of the application date.\\nFrom Question 4:\\nThe student is a graduate or professional student during the award year.\\nFrom Question 5:\\nThe student is currently serving on active duty in the U.S. armed forces for purposes other than training.\\nThe student is a veteran of the U.S. armed forces.\\nThe student has children or dependents other than a spouse (see note below for an explanation of why an individual\\nmay not be asked this question, even if they appear to have children or dependents included in their family size).\\nThe student is (or was at any time after reaching the age of 13) an orphan, ward of the court, or in foster care.\\nThe student is (or was when the student reached the age of majority) a legally emancipated minor or in a legal\\nguardianship (with someone other than their parent or stepparent), as determined by a court in the student9s state of\\nlegal residence.\\nFrom Question 6:\\nThe student was at any time on or after July 1, 2024, determined to be unaccompanied and (1) homeless or (2) self-\\nsupporting and at risk of being homeless with a determination from one of the entities listed on the FAFSA form.\\nIn unusual circumstances, an aid administrator can determine that a student who doesn9t meet any of the criteria listed\\nabove should still be treated as an independent student. A student may indicate that they have an unusual circumstance\\nby selecting <Yes= to Question 7 on the FAFSA form. The student may then skip the parent sections of the form. Students\\nwho select <Yes= to this question will be given provisional independent student status and directed to provide\\ndocumentation to their financial aid office for determination. (See <Unusual Circumstances= in Chapter 5.)\\nActive Duty in the U.S. Armed Forces\\nNote: The FAFSA Simplification Act required ED to limit or eliminate unnecessary questions from the FAFSA form.\\nIf the answer to a question is not necessary to determine a student9s eligibility for federal student aid or if the\\nanswer is available or derivable from answers to other questions, the Department is not permitted to require the\\nstudent to provide an answer.\\nFor example, when completing the FAFSA form online, applicants are only asked if they have children or\\ndependents other than a spouse if they are under the age of 24. A student aged 24 or older will not have the\\nopportunity to answer this question as they are independent by age, making this question unnecessary. In FPP,\\nthe answer to this question will be <Blank=; on the student9s ISIR, the answer to this question will be <No=.\\nTherefore, you should not assume that a <Blank= or <No= indicates the student does not have children or other\\ndependents. It is possible for an applicant to have a <No= or <Blank= response to this question and report a family\\nsize that appears to include dependents other than a spouse. This is not, on its own, conflicting information.\\nIndependent Student Determination\\nHEA Sec. 480(d)\\n'),\n",
              " Document(metadata={'source': 'data/Applications_and_Verification_Guide.pdf', 'file_path': 'data/Applications_and_Verification_Guide.pdf', 'page': 14, 'total_pages': 76, 'format': 'PDF 1.7', 'title': '', 'author': '', 'subject': '', 'keywords': '', 'creator': 'wkhtmltopdf 0.12.6', 'producer': 'GPL Ghostscript 10.00.0', 'creationDate': \"D:20241217172423Z00'00'\", 'modDate': \"D:20241217172423Z00'00'\", 'trapped': ''}, page_content='Persons on active duty in the U.S. Armed Forces (the Army, Navy, Air Force, Marines, Space Force, or Coast Guard) for\\npurposes other than training are independent.\\nVeteran of the U.S. Armed Forces\\nThe FAFSA Simplification Act aligns the definition of veteran with the definition used by the U.S. Department of Veterans\\nAffairs (VA) to determine veterans9 benefits. The Act cites Title 38 of the U.S. Code for the definition of a veteran.\\nGenerally, a veteran is an individual who:\\nServed on active duty in the U.S. Armed Forces (the Army, Navy, Air Force, Marines, Space Force, or Coast Guard) for\\nother than training and who was discharged or released under a condition other than <dishonorable=; or\\nServed on active duty for training or inactive duty for training in the U.S. Armed Forces and was disabled from injury\\nincurred or aggravated in the line of duty.\\nMembers of the National Guard or Reserves are only considered veterans if they were called up to active federal duty by\\npresidential order for a purpose other than training. It does not matter how long the active duty lasted or if the student\\nreturned to reserve status afterward, but, as with the other qualifying veterans, the student must have had a character of\\nservice that was not <dishonorable.=\\nThe FAFSA form also tells students to answer <Yes= to the question about veteran status if they aren9t yet a veteran but\\nwill be by June 30, 2026.\\nStudents serving in ROTC or currently attending a U.S. military academy are not veterans. Additionally, students who\\nattended a U.S. military academy or military academy preparatory school but were discharged prior to commission\\n(commonly known as <early exit cadets=) are not veterans.\\nIf a student indicates they are a veteran in Question 5, the FPS performs a match with VA records to confirm that status.\\nThe VA sends the result back, which appears as a match flag in the FAA Information section of the output document. For\\nVA Match Flags 2, 3, and 4 (listed below), a comment and a C flag will appear on the FAFA Submission Summary only if\\nveteran status is the sole reason that the student would be independent. See Volume 7 of the 2025-26 FAFSA\\nSpecifications Guide for additional details.\\nVA Match Flag 1: Confirmed 3 There won9t be any comments on the output document if the VA confirms that the\\nstudent is a veteran.\\nVA Match Flag 2: Not a Qualifying Veteran 3 A student will receive this flag if the VA database indicates they are not a\\nveteran.\\nVA Match Flag 3: Not found by VA 3 A student will receive this flag if the student is not in the VA database.\\nVA Match Flag 4: Active Duty 3 If the student is currently on active duty, they are not a veteran yet. However, if their\\nactive duty will end by June 30, 2026, they count as a veteran for purposes of determining dependency status.\\nBecause the student should have answered <Yes= to the active-duty question, they would be independent by that\\ncriterion and wouldn9t have to resolve this situation.\\nA student who receives a VA Match Flag of 2 or 3 and is independent for reasons other than being a veteran can receive\\naid as an independent student without resolving the problem with their veteran status, although the student should have\\nthe VA correct its database if it has incorrect information. If the student is not independent for reasons other than being a\\nveteran, the student must either resolve the problem with their veteran status or correct their FAFSA form.\\nIf the student is a veteran, they should correct any problem with the VA or provide documentation showing they are a\\nVeteran Definition\\n38 USC 101: Definitions\\n38 CFR 3.1(d)\\n'),\n",
              " Document(metadata={'source': 'data/Applications_and_Verification_Guide.pdf', 'file_path': 'data/Applications_and_Verification_Guide.pdf', 'page': 15, 'total_pages': 76, 'format': 'PDF 1.7', 'title': '', 'author': '', 'subject': '', 'keywords': '', 'creator': 'wkhtmltopdf 0.12.6', 'producer': 'GPL Ghostscript 10.00.0', 'creationDate': \"D:20241217172423Z00'00'\", 'modDate': \"D:20241217172423Z00'00'\", 'trapped': ''}, page_content='veteran, or will be one by June 30, 2026. Students should provide the financial aid office at their school a copy of their\\nDD214 (the Certificate of Release or Discharge from active duty, with <Character of Service= as anything but\\n<dishonorable=). If it shows that the student is a veteran, they can receive aid as an independent student. If a National\\nGuard member or a reservist who served on active duty (for other than training) did not receive a DD214 but can obtain a\\nletter from a superior officer that documents the call-up to active duty and that classifies the character of service as\\nanything but <dishonorable,= the student will be considered a veteran for FSA purposes. If the VA match problem is due to\\nan error in the VA9s database, the student should contact the VA and correct the error. Once the error is corrected, you\\nmay request to resend the application to agency matches on the FAFSA Partner Portal. A subsequent transaction will then\\nreprocess the match with the VA.\\nIf the student is not a veteran and will not be one by June 30, 2026, they must correct their answer to Question 5 and\\ninvite at least one parent to contribute to their FAFSA form.\\nChildren and Legal Dependents\\nStudents who have legal dependents are independent. Legal dependents include children or other people (except a\\nspouse) who meet all the following criteria:\\nThey live with the student (or, in the case of children, live apart from the student due to a qualifying temporary\\nabsence under IRS code, such as living apart due to college enrollment).\\nThey currently receive more than half of their support from the student.\\nThey will continue to receive more than half of their support from the student between July 1, 2025, and June 30,\\n2026\\nIf one or both of a student9s parents are directly or indirectly providing more than 50% support in cash or other assistance\\nto the student9s child, then the student could not claim to have a legal dependent who receives more than half of their\\nsupport from the student. <Indirect support= includes support that a parent gives to the student on behalf of the child. If\\nthe student is living with a parent who is paying for most of the household expenses, the parent would usually be\\nconsidered the primary source of support to the student9s child, and the student should not indicate they have legal\\ndependents. However, there may be some cases where the student can demonstrate that they provide more than half of\\ntheir child9s support even while living at home with their parents, in which case the student could indicate they have legal\\ndependents.\\nIf the student receives money or other support for the legal dependent from sources other than their parents, the student\\nmay count it as part of their support to the child. Sources include government programs, such as Temporary Assistance\\nfor Needy Families (TANF) and Supplemental Nutrition Assistance Program (SNAP), that provide benefits for dependent\\nchildren. So, a student may be considered independent when the benefit they receive is the primary support for the child.\\nHowever, child support received from a noncustodial parent cannot be counted as part of the student9s support to the\\nchild.\\nWhen a student completes a FAFSA form after the award year has begun and indicates they have a legal dependent who\\nis not the student9s child, the support already given by the student during the award year plus the future support for the\\nremainder of the award year must total more than 50% for the whole award year for the individual to meet the definition\\nof a legal dependent.\\nLegal Dependent Examples\\nAVG, Chapter 2, Example 1: A student and their disabled sibling currently live together. The sibling receives a\\nsmall disability payment each month, but the student provides more than 50% support for the sibling and expects\\nto continue to do so through the award year. The sibling is considered a dependent of the student and can be\\nincluded in the student9s family size on the FAFSA form. The student is also an independent student due to having\\na legal dependent.\\nAVG, Chapter 2, Example 2: The same student and disabled sibling currently live together and expect to\\ncontinue to do so through the award year. The sibling receives a small disability payment AND a pension payment\\neach month. The combination of the pension and the disability payment will be enough that the student won9t be\\n'),\n",
              " Document(metadata={'source': 'data/Applications_and_Verification_Guide.pdf', 'file_path': 'data/Applications_and_Verification_Guide.pdf', 'page': 16, 'total_pages': 76, 'format': 'PDF 1.7', 'title': '', 'author': '', 'subject': '', 'keywords': '', 'creator': 'wkhtmltopdf 0.12.6', 'producer': 'GPL Ghostscript 10.00.0', 'creationDate': \"D:20241217172423Z00'00'\", 'modDate': \"D:20241217172423Z00'00'\", 'trapped': ''}, page_content=\"Orphan, Ward of the Court, or in Foster Care\\nA student who is an orphan 3 both parents are dead 3 when 13 or older is independent even if the student has\\nsubsequently been adopted. Likewise, a student who was, at any time since the age of 13, in foster care or a ward of\\nthe court is independent even if their status changed later.\\nA student is a ward of the court if a court has assumed legal custody of the student. In some states the court may impose\\nits authority over a juvenile who remains in the legal custody of their parents; such a student is not a ward of the court.\\nAlso, incarceration of a student does not qualify the student as a ward of the court. In some states the phrase <ward of the\\nstate= is used; if it is not due to incarceration, this is considered the same as a ward of the court for dependency status.\\nIf an institution requires that a student provide documentation that they were in foster care at age 13 or older, you must\\nconsider any of the following documentation to be adequate:\\nproviding more than half of the sibling9s support. Therefore, the student won9t be able to include the sibling in\\ntheir family size. Additionally, the student may or may not be independent, depending on their responses to other\\ndependency questions.\\nAVG, Chapter 2, Example 3: A student is appointed legal guardian of their minor cousin, who lives with the\\nstudent. The cousin receives Social Security benefits, which are paid to the student since the cousin is a minor.\\nThese benefits provide more than half of the cousin9s support. Because the cousin lives with and is supported by\\nthe student (through the Social Security benefits) throughout the award year, the student indicates they have a\\nlegal dependent on the FAFSA form and is an independent student. However, if the cousin did not live with the\\nstudent, the student can't indicate they have a legal dependent and would only be independent if they meet other\\nindependent circumstances.\\nAVG, Chapter 2, Example 4: A student and their partner live together but are not married. The student pays\\n$1,500 per month to support their partner. The partner also has earned income of $2,000 per month and receives\\n$200 per month from their parents. The partner uses all of this for their support. The student cannot consider their\\npartner a legal dependent since the $1,500 they provide is not more than half of the partner9s total support of\\n$3,700.\\nAVG, Chapter 2, Example 5: In April 2025, a student applies for aid for both 2024-25 and 2025-26 award years.\\nOne month prior to that, their parent moved in with the student. The parent is undocumented and does not work\\nor qualify to receive other federal benefits. Even though the student provides all their parent9s support, the\\nmonths of support for March through June 2025 (the end of the 2024-25 award year) would not be more than 50%\\nfor 2024-25 award year. Therefore, the student cannot claim their parent as a legal dependent on their 2024-25\\nFAFSA form. If the parent had moved in before the midpoint of the year, the student would have been able to\\ncount the parent as a dependent for 2024-25. However, because the two plan to live together and the student\\nplans to provide more than 50% support at least through June 2026, the student can count the parent as a\\ndependent for 2025-26.\\nAVG, Chapter 2, Example 6: A student lives alone with their infant child. The infant child9s other parent pays\\n$200 per month in child support to the student. The student also receives the equivalent of $500 per month from\\ngovernment assistance programs for the child. The student provides the remainder of the child9s support through\\npart-time work. The student can consider the child a legal dependent as they live together and the student\\nprovides more than 50% of the child9s support.\\nAVG, Chapter 2, Example 7: A student lives alone with their infant child. The child9s other parent shares\\ncustody of the child and pays $1,000 per month in child support to the student. The student receives the\\nequivalent of $500 per month from government assistance programs for the child. The student does not work and\\nrelies on the child support and government assistance to support the child. The student cannot consider the child\\na legal dependent, even though the child lives with the student, because the student does not provide more than\\n50% of the child9s support. If the student is not otherwise independent, the student will need to provide parent\\ninformation on the FAFSA form. If the child9s other parent is also a student, they could consider the child a legal\\ndependent on their FAFSA form if the child lived with them and they provide more than 50% of the child9s support.\\n\"),\n",
              " Document(metadata={'source': 'data/Applications_and_Verification_Guide.pdf', 'file_path': 'data/Applications_and_Verification_Guide.pdf', 'page': 17, 'total_pages': 76, 'format': 'PDF 1.7', 'title': '', 'author': '', 'subject': '', 'keywords': '', 'creator': 'wkhtmltopdf 0.12.6', 'producer': 'GPL Ghostscript 10.00.0', 'creationDate': \"D:20241217172423Z00'00'\", 'modDate': \"D:20241217172423Z00'00'\", 'trapped': ''}, page_content='Submission of a court order or official state documentation that the student received federal or state support in\\nfoster care.\\nA documented phone call, written statement, or verifiable electronic data match from\\na state, county, or tribal agency administering a program under part B or E of Title IV of the Social Security Act\\n(42 U.S.C. 621 et seq. and 670 et seq.);\\na state Medicaid agency; or\\na public or private foster care placing agency or foster care facility or placement.\\nA documented phone call or a written statement from an attorney, guardian ad litem, or Court Appointed Special\\nAdvocate.\\nVerification of the student9s eligibility for an education and training voucher under the John H. Chafee Foster Care\\nProgram under section 477 of the Social Security Act (42 U.S.C. 677).\\nA documented phone call or written statement from a financial aid administrator who documented the student9s\\ncircumstance in the same or a prior award year.\\nEmancipation and Legal Guardianship\\nStudents are independent if they are, or were upon reaching the age of majority, legally emancipated minors (released\\nfrom control of their parent or guardian) or in legal guardianship, both as adjudicated by a court of competent jurisdiction\\nin their state of legal residence at the time of the adjudication. The emancipation must be determined by a court, not by\\nan attorney, though the basis for it can vary by state.\\nStudents placed in legal guardianship to their parents4e.g., if they are disabled adults and under their parents9 care4are\\nnot independent for Title IV program purposes. Similarly, guardianship of a person9s estate does not qualify as a legal\\nguardianship of the student for this purpose. If the student9s documentation says <custody= instead of <guardianship,=\\nthey should contact you for additional guidance. Most states have a clear definition of legal guardianship that is distinct\\nfrom custody, but if a given state does not, ask your school9s legal counsel for help with this question.\\nUnaccompanied Homeless Youth\\nA student is independent if, at any time on or after July 1, 2024, the student is determined to be an unaccompanied youth\\nwho is homeless or is self-supporting and at risk of being homeless. In determining independence due to homelessness,\\nyou must consider documentation from any of the following entities4provided through a documented phone call, written\\nstatement, or verifiable electronic data match4to be adequate:\\nA local educational agency homeless liaison (or designee), as designated by the McKinney-Vento Homeless\\nAssistance Act (42 U.S.C. 11432(g)(1)(J)(ii)).\\nThe director (or designee) of an emergency or transitional shelter, street outreach program, homeless youth drop-in\\ncenter, or other program serving individuals who are experiencing homelessness.\\nThe director (or designee) of a Federal TRIO program or a Gaining Early Awareness and Readiness for Undergraduate\\nprogram (GEAR UP) grant.\\nA financial aid administrator at another institution who documented the student9s circumstance in the same or a prior\\naward year.\\nIn the absence of a determination by the entities above, you, the FAA, must make a case-by-case determination of\\nhomeless youth status (see Chapter 5) based upon a written statement from, or a documented interview with, the student\\nthat confirms that they are an unaccompanied homeless youth, or unaccompanied, at risk of homelessness, and self-\\nsupporting.\\nApply for a Direct Unsubsidized Loan Only (8)\\nA student whose parents are unwilling to provide their information on the student9s FAFSA form but who does not have an\\nunusual circumstance (as defined in Question 7) may request that an FAA review their eligibility for only a Direct\\nUnsubsidized Loan by selecting <Yes= to this question.\\nFamily Size (9)\\nUnder the FAFSA Simplification Act, family size (formerly <household size=) aligns with the number of exemptions (which\\n'),\n",
              " Document(metadata={'source': 'data/Applications_and_Verification_Guide.pdf', 'file_path': 'data/Applications_and_Verification_Guide.pdf', 'page': 18, 'total_pages': 76, 'format': 'PDF 1.7', 'title': '', 'author': '', 'subject': '', 'keywords': '', 'creator': 'wkhtmltopdf 0.12.6', 'producer': 'GPL Ghostscript 10.00.0', 'creationDate': \"D:20241217172423Z00'00'\", 'modDate': \"D:20241217172423Z00'00'\", 'trapped': ''}, page_content='equal the tax filer(s) plus dependents) claimed on an individual9s tax return. Individuals who complete the FAFSA form\\nonline, provide the required consent and approval to retrieve and use IRS FTI, and have their tax data successfully\\ntransferred via the FA-DDX will not be asked to report the size of their family as their family size will be derived from that\\nFTI. Instead, these individuals will be asked if their family size is different from the number of individuals claimed on their\\ntax return. If they indicate there was a change, they will be asked to manually report their number of dependents in a\\nfollow-up question.\\nOn the paper (PDF) FAFSA form, family size appears in both the student and parent contributor sections. Dependent\\nstudents are instructed to skip Question 9 on the paper (PDF) FAFSA form. Dependent students completing the online\\nFAFSA form will not see the family size question in the student section.\\nThe following persons are included in the family size of an independent student:\\nThe student and their spouse, unless the spouse has died or is not living in the household due to separation or\\ndivorce.\\nThe student9s dependent children, if they live with the student (or live apart from the student due to a qualifying\\ntemporary absence under IRS code, such as living apart due to college enrollment) and will receive more than half of\\ntheir support from the student (and spouse) from July 1, 2025, through June 30, 2026. Unborn children should not be\\nincluded in the family size, though the family size can be updated if the child is born and will receive more than half\\nof their support from the student (and spouse) during the award year.\\nOther persons, who live with and receive more than half their support from the student and will receive more than\\nhalf support for the entire award year. For FAFSA forms submitted after the start of the year, see the relevant\\nparagraph and example about legal dependents provided earlier in this chapter under the <Children and Legal\\nDependents= section.\\nNumber in College (10)\\nWhile number in college is no longer used to calculate a student9s SAI, the FAFSA Simplification Act requires the question\\nto be included on the FAFSA form. Schools can use the information provided to perform a special circumstance adjustment\\nfor a student. See <Professional Judgment= in Chapter 5 of this volume for additional information.\\nThe student is always included in the number in college. Also included are those in the family size who are or will be\\nenrolled at least half time during the award year in a degree or certificate program at a Title IV-eligible school.\\nStudent Demographic Information (11) and Student Race and Ethnicity (12)\\nThese questions collect sex/gender and race/ethnicity information about the student. The answers to these questions will\\nnot affect the student9s eligibility for federal student aid, be used in any calculations, or be shared with the schools to\\nwhich the student applies. They will be used for research purposes only.\\nStudent Citizenship (13)\\nFamily Size Example\\nAVG, Chapter 2, Example 8: A married student recently separated from their spouse, and they are no longer\\nliving together. They have a child together who is currently living with the student9s spouse. The student is paying\\nchild support to the spouse, but it isn9t enough to provide more than half the child9s support. The spouse and child\\ncannot be included in the student9s family size, even though the student and spouse are not yet legally divorced.\\nHowever, the student9s nephew lives with the student and receives more than half of their support from the\\nstudent (and will do so for the award year). The student can count the nephew in their family size, which is two.\\nThe nephew, who recently turned 24, is an independent student on his own FAFSA form and his household size is\\none.\\n'),\n",
              " Document(metadata={'source': 'data/Applications_and_Verification_Guide.pdf', 'file_path': 'data/Applications_and_Verification_Guide.pdf', 'page': 19, 'total_pages': 76, 'format': 'PDF 1.7', 'title': '', 'author': '', 'subject': '', 'keywords': '', 'creator': 'wkhtmltopdf 0.12.6', 'producer': 'GPL Ghostscript 10.00.0', 'creationDate': \"D:20241217172423Z00'00'\", 'modDate': \"D:20241217172423Z00'00'\", 'trapped': ''}, page_content='Examples of eligible noncitizen categories are given in the FAFSA instructions, and a detailed discussion of citizenship\\nissues can be found in Volume 1 of the FSA Handbook. Only U.S. citizens or certain classes of noncitizens are eligible for\\nTitle IV aid; however, other students can still submit the FAFSA form because they might be eligible for aid from\\ninstitutional, state, or private sources that do not have the same requirements but use FAFSA information.\\nStudents who select <Eligible noncitizen= should include their A-Number, if they have one.\\nStudent State of Legal Residence (14)\\nThis is used to determine which poverty guideline to use when evaluating eligibility for a Maximum or Minimum Pell Grant\\nfor an independent student.\\nThis is also used to determine which state agency should receive the student9s FAFSA information. States have varying\\ncriteria for determining whether the student is a resident for purposes of their financial aid. However, residing in one state\\nfor five years (or more) will meet any state9s criteria.\\nParent Education Status (15)\\nSome state agencies and institutions use this information to award grants and scholarships.\\nParent Killed in the Line of Duty (16)\\nA student may be eligible for a Maximum Pell Grant if they have a parent or guardian who died in the line of duty while\\neither (1) serving on active duty as a member of the U.S. armed forces on or after September 11, 2001, or (2) performing\\nofficial duties as a public safety officer. You should evaluate students who select <Yes= to this question for additional Pell\\nGrant eligibility under HEA Sec. 401(c). See Volume 7 of the FSA Handbook for additional guidance.\\nStudent High School Information (17)\\nThe student indicates one of the following high school completion statuses:\\nHigh school diploma\\nState-recognized high school equivalent (e.g., GED certificate)\\nHomeschooled\\nNone of the previous\\nA foreign secondary education credential typically counts as a high school diploma.\\nA state-recognized high school equivalent is what students receive after passing a <state authorized examination.= This\\nincludes tests comparable to the GED4i.e., those created and distributed by a test publisher4such as the High School\\nSpecial Rule\\nHEA Sec. 401(c), as amended by the FAFSA Simplification Act\\nForeign High School Diploma\\nFHD-Q1 on the program integrity website\\n')]"
            ]
          },
          "execution_count": 4,
          "metadata": {},
          "output_type": "execute_result"
        }
      ],
      "source": [
        "docs[:20]"
      ]
    },
    {
      "cell_type": "markdown",
      "metadata": {
        "id": "lfyA65MM4Tbn"
      },
      "source": [
        "### Knowledge Graph Based Synthetic Generation\n",
        "\n",
        "Ragas uses a knowledge graph based approach to create data. This is extremely useful as it allows us to create complex queries rather simply. The additional testset complexity allows us to evaluate larger problems more effectively, as systems tend to be very strong on simple evaluation tasks.\n",
        "\n",
        "Let's start by defining our `generator_llm` (which will generate our questions, summaries, and more), and our `generator_embeddings` which will be useful in building our graph."
      ]
    },
    {
      "cell_type": "markdown",
      "metadata": {
        "id": "qbZ9j1EL-X55"
      },
      "source": [
        "### Abstracted SDG\n",
        "\n",
        "The above method is the full process - but we can shortcut that using the provided abstractions!\n",
        "\n",
        "This will generate our knowledge graph under the hood, and will - from there - generate our personas and scenarios to construct our queries.\n",
        "\n"
      ]
    },
    {
      "cell_type": "code",
      "execution_count": 5,
      "metadata": {},
      "outputs": [],
      "source": [
        "from ragas.llms import LangchainLLMWrapper\n",
        "from ragas.embeddings import LangchainEmbeddingsWrapper\n",
        "from langchain_openai import ChatOpenAI\n",
        "from langchain_openai import OpenAIEmbeddings\n",
        "generator_llm = LangchainLLMWrapper(ChatOpenAI(model=\"gpt-4.1\"))\n",
        "generator_embeddings = LangchainEmbeddingsWrapper(OpenAIEmbeddings())"
      ]
    },
    {
      "cell_type": "code",
      "execution_count": 6,
      "metadata": {
        "colab": {
          "base_uri": "https://localhost:8080/",
          "height": 113,
          "referenced_widgets": [
            "bf73dc001ec14333975be942dc78df31",
            "ea51201a73a045de8579dafb17d70bec",
            "a5e6260095bf4ca6bce229adfe9c3fbe",
            "0e460f92c5a749efb198864545a124c0",
            "4347f5ea75c74effbc9552cb69c82301",
            "8f986d822b964e969ad20d1b1088dec9",
            "c40abe6ce691401ea8db2562b3b322fb",
            "cb12c0b6145b48908ca058e0a7282828",
            "0107beec40af42ffa66b216070f97d5c",
            "245c32a588d142628f06eba44324c1b8",
            "f9499b2235294b638ed87d73894b341f",
            "a74c472ad4ff49d49dd6648ce89f5471",
            "b12c215bb97e49fea6129d7ca7cdcc6b",
            "f37518d278b34353a38bcc50f8743959",
            "2d888020728341a6ad146908634a6a2f",
            "1ea4551d38bc4e3ea2a99eb62e6bf942",
            "da4d36932dad4270a94b003affc28333",
            "675034bd626b4c528eb77e35e4087191",
            "7a84047d2b724edd891ca63b5741a43b",
            "5bec2586cfcb4ddabf9f2378b32fa4dc",
            "5e5fe22186e742e6bd1142a0d8471656",
            "79fce08fefc948d0bec02db61a6ab21b",
            "2c9e188608204caa9c6a449843084ceb",
            "8299304353ff46b597fdadeacddabdf5",
            "fc33ba2055c149a4a85ac6f586de47ee",
            "8e87eb2bff19452ab778993dbc1a2586",
            "be4c08a6cdb54d23a32b283379fdea8e",
            "f5a56214fe25441e8a5004ec76476a94",
            "3230d232b04448fe9a68a204b46bc91c",
            "fd11e4046c464b7285ddd7a7b7cd51c8",
            "e0e92282b50048c4a25414273f1777ff",
            "8be24cac973b4db7a85ab46581c1efb7",
            "cbe80c1e537a413ebe0f5a98038148d6",
            "472c776f27834cd8907902679ff93c24",
            "19160948d9af4cd5bfe1a8a97727fb49",
            "d528743f9a0047778a7f808214fdf49c",
            "a37137bd3fad4362bef3817ae7ad2ad9",
            "da926343593245d9b34f8a77183c4115",
            "c4470c9d055c4b8793dda8dfc7496b83",
            "4183285878f347f1b8caae9dce6ec0fd",
            "37831f1641db461e93e5011d343b5cb2",
            "f69d31545a1045d4959e0640abe3409a",
            "74ac36e0ca6c4a3ba53d070b37b9f1aa",
            "ba53eab6f7e441569d2a16aa8f26511d",
            "a604a0b844a94570be523a881c8455ba",
            "594a9d371fb4406e97630f35712d276c",
            "d52c4da39f564a12ba46044e0797eb95",
            "25baeb72f87d4e5ba0e8c10bcf3afd58",
            "96b1fb2a1577445d9778ad65da0abdbb",
            "f7bf032ee32c46628a3a28ff2cedcc10",
            "810264507cae4987b88531845ca03921",
            "d6395d76874241cf87b37390a6c58424",
            "35e71aea98cc41b7a090071a9d8ccde7",
            "3b72baad55d34b77b5c56588c00280b9",
            "16a0c539ddb040d7b32047894480a348",
            "5cea5f1121f64866b6932ac6bb0a8829",
            "03e6ff4dc0d645668324964cbf114211",
            "c1b6cdf48bae4226a374ffbabb861ecc",
            "ec44f75ea457496c9443b881bc156146",
            "d64c39da94b148d4989fe271521dc967",
            "7803a3e67b28452390202dc69d4289f3",
            "618a24e305d44bd39a3023aa44f3383c",
            "d9f54cd68cd8493fb1bc2a216eb15c03",
            "4592465145b44c17a9acb5fcab9b2e8b",
            "8b77a827824440d6b53f4a14346c0d70",
            "20848c82096c458fb118006897a0b7e0",
            "521c3b51f249490986addd4010423064",
            "bda6a62b9fd143a3b0628e60580d23c9",
            "970b83c42f4f4d7ebb252c4f26f6ea56",
            "d1e5f706d17b4c27b0ce1cb127fdc891",
            "7d5ccb84254b461da11bd8045424bc30",
            "fd71a316693343cc9a92fae9471a2f6e",
            "35e6cd723807485f81eb053c2c92b96c",
            "837e33bad8be4a6d8722ca878b9d409e",
            "559b618c027e4f12bfe58286b208c9b4",
            "5d5df07e34d545ed9b2975034645c453",
            "319b66f299064965b91ce4282dc9c280",
            "b38eb659d045417cb0e05a4486a83590",
            "7cfc3038a06249819e2496f7e0571b89",
            "01fa9def167548fba96e573921712950",
            "7288a537b3034e499797d2c3294f8383",
            "f3c9086c454841f6914e299a11f7d217",
            "ec3472c7d29b4ad0ab91e3c2f6874bd5",
            "2b4f209c6c3c46abaa0d5a83cb10ae38",
            "3c470306f04542f29c53dd21a4de93d7",
            "7c0ead4589784ecb8d5380a895fe1c41",
            "8723f89faf044f97b5abfa3666404497",
            "7c8f4bf420754b538baea7a420b6a76a",
            "d390d71dd2694801a77b103a6a707da3",
            "11d272eb6b7146659e5c688ec04c8749",
            "68599f8e85ef4fcba92ea891f75b5535",
            "d1b550cbeaef43a7a98ffbba97fb37ee",
            "d08cba8d32514ca2bb1e0d403ceadd7e",
            "ba29aad6b8d74a09ad347ce8648deeab",
            "96426fde6b9542208f45409965d0216c",
            "bba06b49269840ea8247ecc85552050b",
            "9e0794e92f9646ab8aa21f0ec0ed7981",
            "f10fe2d8ed6e45b595e66db0a3f972a1",
            "fe1cfe8194c142fdb11a4dd28e1adb00"
          ]
        },
        "id": "ZvXsRbwIlfm1",
        "outputId": "4579c020-3af6-4355-aecc-b9529b8eda12"
      },
      "outputs": [
        {
          "data": {
            "application/vnd.jupyter.widget-view+json": {
              "model_id": "71dbd13d7f8c454a8bef8286592857c9",
              "version_major": 2,
              "version_minor": 0
            },
            "text/plain": [
              "Applying HeadlinesExtractor:   0%|          | 0/18 [00:00<?, ?it/s]"
            ]
          },
          "metadata": {},
          "output_type": "display_data"
        },
        {
          "data": {
            "application/vnd.jupyter.widget-view+json": {
              "model_id": "d22470ae43cf4a3a9bdaeb420e04bfb6",
              "version_major": 2,
              "version_minor": 0
            },
            "text/plain": [
              "Applying HeadlineSplitter:   0%|          | 0/20 [00:00<?, ?it/s]"
            ]
          },
          "metadata": {},
          "output_type": "display_data"
        },
        {
          "name": "stderr",
          "output_type": "stream",
          "text": [
            "unable to apply transformation: 'headlines' property not found in this node\n",
            "unable to apply transformation: 'headlines' property not found in this node\n"
          ]
        },
        {
          "data": {
            "application/vnd.jupyter.widget-view+json": {
              "model_id": "343266fbea0f403bb25b6927e1b14418",
              "version_major": 2,
              "version_minor": 0
            },
            "text/plain": [
              "Applying SummaryExtractor:   0%|          | 0/28 [00:00<?, ?it/s]"
            ]
          },
          "metadata": {},
          "output_type": "display_data"
        },
        {
          "name": "stderr",
          "output_type": "stream",
          "text": [
            "Property 'summary' already exists in node '559eda'. Skipping!\n",
            "Property 'summary' already exists in node 'c89122'. Skipping!\n",
            "Property 'summary' already exists in node '74af45'. Skipping!\n",
            "Property 'summary' already exists in node '498002'. Skipping!\n",
            "Property 'summary' already exists in node 'f6007b'. Skipping!\n",
            "Property 'summary' already exists in node '8ed74b'. Skipping!\n",
            "Property 'summary' already exists in node '5bfcb7'. Skipping!\n",
            "Property 'summary' already exists in node 'b28e84'. Skipping!\n",
            "Property 'summary' already exists in node '25f78d'. Skipping!\n",
            "Property 'summary' already exists in node 'f6e826'. Skipping!\n"
          ]
        },
        {
          "data": {
            "application/vnd.jupyter.widget-view+json": {
              "model_id": "37beb755518d492e8b6dfc6beef381f0",
              "version_major": 2,
              "version_minor": 0
            },
            "text/plain": [
              "Applying CustomNodeFilter:   0%|          | 0/16 [00:00<?, ?it/s]"
            ]
          },
          "metadata": {},
          "output_type": "display_data"
        },
        {
          "data": {
            "application/vnd.jupyter.widget-view+json": {
              "model_id": "52f85aacb1444fd98153ea8b676ed498",
              "version_major": 2,
              "version_minor": 0
            },
            "text/plain": [
              "Applying [EmbeddingExtractor, ThemesExtractor, NERExtractor]:   0%|          | 0/58 [00:00<?, ?it/s]"
            ]
          },
          "metadata": {},
          "output_type": "display_data"
        },
        {
          "name": "stderr",
          "output_type": "stream",
          "text": [
            "Property 'summary_embedding' already exists in node 'f6007b'. Skipping!\n",
            "Property 'summary_embedding' already exists in node 'f6e826'. Skipping!\n",
            "Property 'summary_embedding' already exists in node '8ed74b'. Skipping!\n",
            "Property 'summary_embedding' already exists in node '25f78d'. Skipping!\n",
            "Property 'summary_embedding' already exists in node '5bfcb7'. Skipping!\n",
            "Property 'summary_embedding' already exists in node '74af45'. Skipping!\n",
            "Property 'summary_embedding' already exists in node 'c89122'. Skipping!\n",
            "Property 'summary_embedding' already exists in node '498002'. Skipping!\n",
            "Property 'summary_embedding' already exists in node 'b28e84'. Skipping!\n",
            "Property 'summary_embedding' already exists in node '559eda'. Skipping!\n"
          ]
        },
        {
          "data": {
            "application/vnd.jupyter.widget-view+json": {
              "model_id": "edd91fccf5ac4bb3908680dc7fac1b29",
              "version_major": 2,
              "version_minor": 0
            },
            "text/plain": [
              "Applying [CosineSimilarityBuilder, OverlapScoreBuilder]:   0%|          | 0/2 [00:00<?, ?it/s]"
            ]
          },
          "metadata": {},
          "output_type": "display_data"
        },
        {
          "data": {
            "application/vnd.jupyter.widget-view+json": {
              "model_id": "d65a412e7d5e4e6da7ebc0561a63e3cb",
              "version_major": 2,
              "version_minor": 0
            },
            "text/plain": [
              "Generating personas:   0%|          | 0/3 [00:00<?, ?it/s]"
            ]
          },
          "metadata": {},
          "output_type": "display_data"
        },
        {
          "data": {
            "application/vnd.jupyter.widget-view+json": {
              "model_id": "4b4cd6f574e4492ab13af07cd031688a",
              "version_major": 2,
              "version_minor": 0
            },
            "text/plain": [
              "Generating Scenarios:   0%|          | 0/3 [00:00<?, ?it/s]"
            ]
          },
          "metadata": {},
          "output_type": "display_data"
        },
        {
          "data": {
            "application/vnd.jupyter.widget-view+json": {
              "model_id": "f405f95ceeba4160a6aad4a2566f1979",
              "version_major": 2,
              "version_minor": 0
            },
            "text/plain": [
              "Generating Samples:   0%|          | 0/12 [00:00<?, ?it/s]"
            ]
          },
          "metadata": {},
          "output_type": "display_data"
        }
      ],
      "source": [
        "from ragas.testset import TestsetGenerator\n",
        "\n",
        "generator = TestsetGenerator(llm=generator_llm, embedding_model=generator_embeddings)\n",
        "dataset = generator.generate_with_langchain_docs(docs[:20], testset_size=10)"
      ]
    },
    {
      "cell_type": "code",
      "execution_count": 7,
      "metadata": {
        "colab": {
          "base_uri": "https://localhost:8080/",
          "height": 1000
        },
        "id": "1jsrtjNllwiI",
        "outputId": "a96af811-7f54-49e9-adbb-9155948ff203"
      },
      "outputs": [
        {
          "data": {
            "text/html": [
              "<div>\n",
              "<style scoped>\n",
              "    .dataframe tbody tr th:only-of-type {\n",
              "        vertical-align: middle;\n",
              "    }\n",
              "\n",
              "    .dataframe tbody tr th {\n",
              "        vertical-align: top;\n",
              "    }\n",
              "\n",
              "    .dataframe thead th {\n",
              "        text-align: right;\n",
              "    }\n",
              "</style>\n",
              "<table border=\"1\" class=\"dataframe\">\n",
              "  <thead>\n",
              "    <tr style=\"text-align: right;\">\n",
              "      <th></th>\n",
              "      <th>user_input</th>\n",
              "      <th>reference_contexts</th>\n",
              "      <th>reference</th>\n",
              "      <th>synthesizer_name</th>\n",
              "    </tr>\n",
              "  </thead>\n",
              "  <tbody>\n",
              "    <tr>\n",
              "      <th>0</th>\n",
              "      <td>How does the Internal Revenue Service (IRS) fa...</td>\n",
              "      <td>[Application and Verification Guide Introducti...</td>\n",
              "      <td>The Internal Revenue Service (IRS) facilitates...</td>\n",
              "      <td>single_hop_specifc_query_synthesizer</td>\n",
              "    </tr>\n",
              "    <tr>\n",
              "      <th>1</th>\n",
              "      <td>What recent change has been made regarding the...</td>\n",
              "      <td>[Chapter 1: The Application Process We removed...</td>\n",
              "      <td>The &lt;Returning FAFSA Filers= section has been ...</td>\n",
              "      <td>single_hop_specifc_query_synthesizer</td>\n",
              "    </tr>\n",
              "    <tr>\n",
              "      <th>2</th>\n",
              "      <td>How does the NSLDS financial aid history page ...</td>\n",
              "      <td>[The FPS also checks the application for possi...</td>\n",
              "      <td>If an applicant has defaulted on a federal stu...</td>\n",
              "      <td>single_hop_specifc_query_synthesizer</td>\n",
              "    </tr>\n",
              "    <tr>\n",
              "      <th>3</th>\n",
              "      <td>As a Financial Aid Counselor, what is the proc...</td>\n",
              "      <td>[2. The disclosure of their FTI by the IRS to ...</td>\n",
              "      <td>For FAFSA contributors, each student and requi...</td>\n",
              "      <td>single_hop_specifc_query_synthesizer</td>\n",
              "    </tr>\n",
              "    <tr>\n",
              "      <th>4</th>\n",
              "      <td>How has the FAFSA Simplification Act impacted ...</td>\n",
              "      <td>[&lt;1-hop&gt;\\n\\nApplication and Verification Guide...</td>\n",
              "      <td>The FAFSA Simplification Act, passed as part o...</td>\n",
              "      <td>multi_hop_abstract_query_synthesizer</td>\n",
              "    </tr>\n",
              "    <tr>\n",
              "      <th>5</th>\n",
              "      <td>How does the determination of independent stud...</td>\n",
              "      <td>[&lt;1-hop&gt;\\n\\nThe FPS also checks the applicatio...</td>\n",
              "      <td>A student who qualifies as independent—such as...</td>\n",
              "      <td>multi_hop_abstract_query_synthesizer</td>\n",
              "    </tr>\n",
              "    <tr>\n",
              "      <th>6</th>\n",
              "      <td>How does veteran status determination for fina...</td>\n",
              "      <td>[&lt;1-hop&gt;\\n\\nveteran, or will be one by June 30...</td>\n",
              "      <td>Veteran status determination for financial aid...</td>\n",
              "      <td>multi_hop_abstract_query_synthesizer</td>\n",
              "    </tr>\n",
              "    <tr>\n",
              "      <th>7</th>\n",
              "      <td>if i fill out fafsa form online and my tax inf...</td>\n",
              "      <td>[&lt;1-hop&gt;\\n\\nequal the tax filer(s) plus depend...</td>\n",
              "      <td>if you do the fafsa online and your tax info g...</td>\n",
              "      <td>multi_hop_abstract_query_synthesizer</td>\n",
              "    </tr>\n",
              "    <tr>\n",
              "      <th>8</th>\n",
              "      <td>According to Chapter 4 and Chapter 5, how do a...</td>\n",
              "      <td>[&lt;1-hop&gt;\\n\\nequal the tax filer(s) plus depend...</td>\n",
              "      <td>A student's marital status, as described in Ch...</td>\n",
              "      <td>multi_hop_specific_query_synthesizer</td>\n",
              "    </tr>\n",
              "    <tr>\n",
              "      <th>9</th>\n",
              "      <td>According to the FAFSA Simplification Act and ...</td>\n",
              "      <td>[&lt;1-hop&gt;\\n\\nThe FPS also checks the applicatio...</td>\n",
              "      <td>The FAFSA Simplification Act, as described in ...</td>\n",
              "      <td>multi_hop_specific_query_synthesizer</td>\n",
              "    </tr>\n",
              "    <tr>\n",
              "      <th>10</th>\n",
              "      <td>wut info in chapter 1 and chapter 2 helps me k...</td>\n",
              "      <td>[&lt;1-hop&gt;\\n\\nChapter 1: The Application Process...</td>\n",
              "      <td>chapter 1 says nothin about renewin fafsa now....</td>\n",
              "      <td>multi_hop_specific_query_synthesizer</td>\n",
              "    </tr>\n",
              "    <tr>\n",
              "      <th>11</th>\n",
              "      <td>If a student or their contributor provides con...</td>\n",
              "      <td>[&lt;1-hop&gt;\\n\\n2. The disclosure of their FTI by ...</td>\n",
              "      <td>When a student or their contributor provides c...</td>\n",
              "      <td>multi_hop_specific_query_synthesizer</td>\n",
              "    </tr>\n",
              "  </tbody>\n",
              "</table>\n",
              "</div>"
            ],
            "text/plain": [
              "                                           user_input  \\\n",
              "0   How does the Internal Revenue Service (IRS) fa...   \n",
              "1   What recent change has been made regarding the...   \n",
              "2   How does the NSLDS financial aid history page ...   \n",
              "3   As a Financial Aid Counselor, what is the proc...   \n",
              "4   How has the FAFSA Simplification Act impacted ...   \n",
              "5   How does the determination of independent stud...   \n",
              "6   How does veteran status determination for fina...   \n",
              "7   if i fill out fafsa form online and my tax inf...   \n",
              "8   According to Chapter 4 and Chapter 5, how do a...   \n",
              "9   According to the FAFSA Simplification Act and ...   \n",
              "10  wut info in chapter 1 and chapter 2 helps me k...   \n",
              "11  If a student or their contributor provides con...   \n",
              "\n",
              "                                   reference_contexts  \\\n",
              "0   [Application and Verification Guide Introducti...   \n",
              "1   [Chapter 1: The Application Process We removed...   \n",
              "2   [The FPS also checks the application for possi...   \n",
              "3   [2. The disclosure of their FTI by the IRS to ...   \n",
              "4   [<1-hop>\\n\\nApplication and Verification Guide...   \n",
              "5   [<1-hop>\\n\\nThe FPS also checks the applicatio...   \n",
              "6   [<1-hop>\\n\\nveteran, or will be one by June 30...   \n",
              "7   [<1-hop>\\n\\nequal the tax filer(s) plus depend...   \n",
              "8   [<1-hop>\\n\\nequal the tax filer(s) plus depend...   \n",
              "9   [<1-hop>\\n\\nThe FPS also checks the applicatio...   \n",
              "10  [<1-hop>\\n\\nChapter 1: The Application Process...   \n",
              "11  [<1-hop>\\n\\n2. The disclosure of their FTI by ...   \n",
              "\n",
              "                                            reference  \\\n",
              "0   The Internal Revenue Service (IRS) facilitates...   \n",
              "1   The <Returning FAFSA Filers= section has been ...   \n",
              "2   If an applicant has defaulted on a federal stu...   \n",
              "3   For FAFSA contributors, each student and requi...   \n",
              "4   The FAFSA Simplification Act, passed as part o...   \n",
              "5   A student who qualifies as independent—such as...   \n",
              "6   Veteran status determination for financial aid...   \n",
              "7   if you do the fafsa online and your tax info g...   \n",
              "8   A student's marital status, as described in Ch...   \n",
              "9   The FAFSA Simplification Act, as described in ...   \n",
              "10  chapter 1 says nothin about renewin fafsa now....   \n",
              "11  When a student or their contributor provides c...   \n",
              "\n",
              "                        synthesizer_name  \n",
              "0   single_hop_specifc_query_synthesizer  \n",
              "1   single_hop_specifc_query_synthesizer  \n",
              "2   single_hop_specifc_query_synthesizer  \n",
              "3   single_hop_specifc_query_synthesizer  \n",
              "4   multi_hop_abstract_query_synthesizer  \n",
              "5   multi_hop_abstract_query_synthesizer  \n",
              "6   multi_hop_abstract_query_synthesizer  \n",
              "7   multi_hop_abstract_query_synthesizer  \n",
              "8   multi_hop_specific_query_synthesizer  \n",
              "9   multi_hop_specific_query_synthesizer  \n",
              "10  multi_hop_specific_query_synthesizer  \n",
              "11  multi_hop_specific_query_synthesizer  "
            ]
          },
          "execution_count": 7,
          "metadata": {},
          "output_type": "execute_result"
        }
      ],
      "source": [
        "dataset.to_pandas()"
      ]
    },
    {
      "cell_type": "markdown",
      "metadata": {
        "id": "Ni4Q14_arJYw"
      },
      "source": [
        "## LangChain RAG\n",
        "\n",
        "Now we'll construct our LangChain RAG, which we will be evaluating using the above created test data!"
      ]
    },
    {
      "cell_type": "markdown",
      "metadata": {
        "id": "hGy99jkVrVqX"
      },
      "source": [
        "### R - Retrieval\n",
        "\n",
        "Let's start with building our retrieval pipeline, which will involve loading the same data we used to create our synthetic test set above.\n",
        "\n",
        "> NOTE: We need to use the same data - as our test set is specifically designed for this data."
      ]
    },
    {
      "cell_type": "markdown",
      "metadata": {
        "id": "KQv3Psil_D2A"
      },
      "source": [
        "Now that we have our data loaded, let's split it into chunks!"
      ]
    },
    {
      "cell_type": "code",
      "execution_count": 14,
      "metadata": {
        "colab": {
          "base_uri": "https://localhost:8080/"
        },
        "id": "Z2U0eJ_prZhL",
        "outputId": "56070084-f147-4dbc-ea52-1d04196e65c0"
      },
      "outputs": [
        {
          "name": "stdout",
          "output_type": "stream",
          "text": [
            "269\n",
            "1102\n"
          ]
        }
      ],
      "source": [
        "from langchain.text_splitter import RecursiveCharacterTextSplitter\n",
        "\n",
        "text_splitter = RecursiveCharacterTextSplitter(chunk_size=1000, chunk_overlap=200)\n",
        "split_documents = text_splitter.split_documents(docs)\n",
        "print(len(docs))\n",
        "print(len(split_documents))"
      ]
    },
    {
      "cell_type": "markdown",
      "metadata": {},
      "source": [
        "#### ❓ Question: \n",
        "\n",
        "What is the purpose of the `chunk_overlap` parameter in the `RecursiveCharacterTextSplitter`?\n",
        "\n",
        "#### ✅ Answer:\n",
        "The `chunk_overlap` parameter in `RecursiveCharacterTextSplitter` controls how many characters are shared between consecutive text chunks. Its purpose is to preserve important context that might otherwise be lost at chunk boundaries.\n",
        "\n",
        "When documents are split into chunks for processing (e.g., for embeddings or retrieval), information near the end of a chunk may be critical for understanding the beginning of the next one. By overlapping a portion of text (e.g., 50–100 characters), the splitter helps maintain semantic continuity between chunks.\n",
        "\n",
        "This improves downstream performance in retrieval-augmented generation (RAG), question answering, and summarization tasks by ensuring smoother transitions and richer context for each chunk."
      ]
    },
    {
      "cell_type": "markdown",
      "metadata": {
        "id": "2EcbmBBC_G2s"
      },
      "source": [
        "Next up, we'll need to provide an embedding model that we can use to construct our vector store."
      ]
    },
    {
      "cell_type": "code",
      "execution_count": 10,
      "metadata": {
        "id": "KY_CNAbfr9sY"
      },
      "outputs": [],
      "source": [
        "from langchain_openai import OpenAIEmbeddings\n",
        "\n",
        "embeddings = OpenAIEmbeddings(model=\"text-embedding-3-small\")"
      ]
    },
    {
      "cell_type": "markdown",
      "metadata": {
        "id": "AP_VDgyx_MPq"
      },
      "source": [
        "Now we can build our in memory QDrant vector store."
      ]
    },
    {
      "cell_type": "code",
      "execution_count": 11,
      "metadata": {
        "id": "AoxImnLJsC4Q"
      },
      "outputs": [],
      "source": [
        "from langchain_qdrant import QdrantVectorStore\n",
        "from qdrant_client import QdrantClient\n",
        "from qdrant_client.http.models import Distance, VectorParams\n",
        "\n",
        "client = QdrantClient(\":memory:\")\n",
        "\n",
        "client.create_collection(\n",
        "    collection_name=\"loan_data\",\n",
        "    vectors_config=VectorParams(size=1536, distance=Distance.COSINE),\n",
        ")\n",
        "\n",
        "vector_store = QdrantVectorStore(\n",
        "    client=client,\n",
        "    collection_name=\"loan_data\",\n",
        "    embedding=embeddings,\n",
        ")"
      ]
    },
    {
      "cell_type": "markdown",
      "metadata": {
        "id": "zUSCXe7x_h0O"
      },
      "source": [
        "We can now add our documents to our vector store."
      ]
    },
    {
      "cell_type": "code",
      "execution_count": 12,
      "metadata": {
        "colab": {
          "base_uri": "https://localhost:8080/"
        },
        "id": "Vckrosgpsfq2",
        "outputId": "799a7b56-d273-42f8-f0cc-56066ed6a772"
      },
      "outputs": [],
      "source": [
        "_ = vector_store.add_documents(documents=split_documents)"
      ]
    },
    {
      "cell_type": "markdown",
      "metadata": {
        "id": "QBgsT5_m_lOD"
      },
      "source": [
        "Let's define our retriever."
      ]
    },
    {
      "cell_type": "code",
      "execution_count": 15,
      "metadata": {
        "id": "qmxRJeMbskTS"
      },
      "outputs": [],
      "source": [
        "retriever = vector_store.as_retriever(search_kwargs={\"k\": 5})"
      ]
    },
    {
      "cell_type": "markdown",
      "metadata": {
        "id": "3ZX68nle_nUm"
      },
      "source": [
        "Now we can produce a node for retrieval!"
      ]
    },
    {
      "cell_type": "code",
      "execution_count": 16,
      "metadata": {
        "id": "RMuKChk8vmCv"
      },
      "outputs": [],
      "source": [
        "def retrieve(state):\n",
        "  retrieved_docs = retriever.invoke(state[\"question\"])\n",
        "  return {\"context\" : retrieved_docs}"
      ]
    },
    {
      "cell_type": "markdown",
      "metadata": {
        "id": "48-mJHgUsvDG"
      },
      "source": [
        "### Augmented\n",
        "\n",
        "Let's create a simple RAG prompt!"
      ]
    },
    {
      "cell_type": "code",
      "execution_count": 17,
      "metadata": {
        "id": "C0masYYKsxLg"
      },
      "outputs": [],
      "source": [
        "from langchain.prompts import ChatPromptTemplate\n",
        "\n",
        "RAG_PROMPT = \"\"\"\\\n",
        "You are a helpful assistant who answers questions based on provided context. You must only use the provided context, and cannot use your own knowledge.\n",
        "\n",
        "### Question\n",
        "{question}\n",
        "\n",
        "### Context\n",
        "{context}\n",
        "\"\"\"\n",
        "\n",
        "rag_prompt = ChatPromptTemplate.from_template(RAG_PROMPT)"
      ]
    },
    {
      "cell_type": "markdown",
      "metadata": {
        "id": "cznU20c0uY9j"
      },
      "source": [
        "### Generation\n",
        "\n",
        "We'll also need an LLM to generate responses - we'll use `gpt-4o-nano` to avoid using the same model as our judge model."
      ]
    },
    {
      "cell_type": "code",
      "execution_count": 18,
      "metadata": {
        "id": "ZVHBcNGptdZt"
      },
      "outputs": [],
      "source": [
        "from langchain_openai import ChatOpenAI\n",
        "\n",
        "llm = ChatOpenAI(model=\"gpt-4.1-nano\")"
      ]
    },
    {
      "cell_type": "markdown",
      "metadata": {
        "id": "YTpV7-b7_44n"
      },
      "source": [
        "Then we can create a `generate` node!"
      ]
    },
    {
      "cell_type": "code",
      "execution_count": 19,
      "metadata": {
        "id": "trgefAs-wX84"
      },
      "outputs": [],
      "source": [
        "def generate(state):\n",
        "  docs_content = \"\\n\\n\".join(doc.page_content for doc in state[\"context\"])\n",
        "  messages = rag_prompt.format_messages(question=state[\"question\"], context=docs_content)\n",
        "  response = llm.invoke(messages)\n",
        "  return {\"response\" : response.content}"
      ]
    },
    {
      "cell_type": "markdown",
      "metadata": {
        "id": "hhD1IxvXu2zX"
      },
      "source": [
        "### Building RAG Graph with LangGraph\n",
        "\n",
        "Let's create some state for our LangGraph RAG graph!"
      ]
    },
    {
      "cell_type": "code",
      "execution_count": 20,
      "metadata": {
        "id": "5-o5r2mqu8Og"
      },
      "outputs": [],
      "source": [
        "from langgraph.graph import START, StateGraph\n",
        "from typing_extensions import List, TypedDict\n",
        "from langchain_core.documents import Document\n",
        "\n",
        "class State(TypedDict):\n",
        "  question: str\n",
        "  context: List[Document]\n",
        "  response: str"
      ]
    },
    {
      "cell_type": "markdown",
      "metadata": {
        "id": "DFEqEQje_--V"
      },
      "source": [
        "Now we can build our simple graph!\n",
        "\n",
        "> NOTE: We're using `add_sequence` since we will always move from retrieval to generation. This is essentially building a chain in LangGraph."
      ]
    },
    {
      "cell_type": "code",
      "execution_count": 21,
      "metadata": {
        "id": "8kMJ_bgWvU-q"
      },
      "outputs": [],
      "source": [
        "graph_builder = StateGraph(State).add_sequence([retrieve, generate])\n",
        "graph_builder.add_edge(START, \"retrieve\")\n",
        "graph = graph_builder.compile()"
      ]
    },
    {
      "cell_type": "markdown",
      "metadata": {
        "id": "dKX8yupqAIeQ"
      },
      "source": [
        "Let's do a test to make sure it's doing what we'd expect."
      ]
    },
    {
      "cell_type": "code",
      "execution_count": 22,
      "metadata": {
        "id": "PXdB5pdbwzIF"
      },
      "outputs": [],
      "source": [
        "response = graph.invoke({\"question\" : \"What are the different kinds of loans?\"})"
      ]
    },
    {
      "cell_type": "code",
      "execution_count": 23,
      "metadata": {
        "colab": {
          "base_uri": "https://localhost:8080/",
          "height": 244
        },
        "id": "JPuemnQQw5Y2",
        "outputId": "2f10c9c3-4a64-44d9-b3cc-741a41b70bc8"
      },
      "outputs": [
        {
          "data": {
            "text/plain": [
              "'The provided context references various types of loans related to student financial assistance, specifically focusing on Direct Loans. Based on this information, the different kinds of loans mentioned are:\\n\\n1. **Direct Loans**  \\n   - These include both subsidized and unsubsidized loans that are part of the federal student aid program. The context discusses the eligibility, repayment plans, interest accrual, and other aspects of Direct Loans.\\n\\n2. **Direct Unsubsidized Loans**  \\n   - A specific type of Direct Loan where interest may accrue while the borrower is in school, and the borrower has the option to pay the interest during this period.\\n\\nWhile the context primarily emphasizes Direct Loans and their variants, it does not explicitly mention other distinct loan types such as Perkins Loans, Stafford Loans, or PLUS Loans. Therefore, based solely on the provided information, the different kinds of loans are:\\n\\n- **Direct Loans (including Direct Unsubsidized Loans)**\\n\\nIf you need further detail or clarification on other types of student loans, please provide additional context.'"
            ]
          },
          "execution_count": 23,
          "metadata": {},
          "output_type": "execute_result"
        }
      ],
      "source": [
        "response[\"response\"]"
      ]
    },
    {
      "cell_type": "markdown",
      "metadata": {
        "id": "nK5gyOlixWr4"
      },
      "source": [
        "## Evaluating the App with Ragas\n",
        "\n",
        "Now we can finally do our evaluation!\n",
        "\n",
        "We'll start by running the queries we generated usign SDG above through our application to get context and responses."
      ]
    },
    {
      "cell_type": "code",
      "execution_count": 24,
      "metadata": {
        "id": "tzstmZmfxYP2"
      },
      "outputs": [],
      "source": [
        "for test_row in dataset:\n",
        "  response = graph.invoke({\"question\" : test_row.eval_sample.user_input})\n",
        "  test_row.eval_sample.response = response[\"response\"]\n",
        "  test_row.eval_sample.retrieved_contexts = [context.page_content for context in response[\"context\"]]"
      ]
    },
    {
      "cell_type": "code",
      "execution_count": 25,
      "metadata": {
        "colab": {
          "base_uri": "https://localhost:8080/",
          "height": 1000
        },
        "id": "VLXEuORVxd0l",
        "outputId": "c5f7ee36-fc43-4fe2-db5a-6639178756dc"
      },
      "outputs": [
        {
          "data": {
            "text/plain": [
              "'The Internal Revenue Service (IRS) facilitates the FAFSA application process for students seeking federal student aid through the FUTURE Act Direct Data Exchange (FA-DDX). This system establishes a secure connection between the IRS and the Department of Education via an application programming interface, allowing for near-real-time transfer of certain federal tax information (FTI) directly from the IRS to the FAFSA form. This process streamlines the application by eliminating the need for most applicants and their family members to self-report income and tax data, as the transferred FTI is considered verified for Title IV purposes.\\n\\nRegarding changes in the transfer of tax information, the FA-DDX has replaced the previous IRS Data Retrieval Tool (IRS-DRT). Unlike the IRS-DRT, which allowed applicants to opt in, the FA-DDX requires explicit consent and approval from the student and each contributor (such as spouse or parents) for the Department to access and use their FTI. Additionally, only original tax information is transferred unless the applicant or contributor files an amended return; in that case, the amended information is not automatically transferred unless manually updated, and the FAFSA form may need correction to reflect the amended data. This process ensures that the Department of Education has accurate, verified tax data to determine eligibility for federal aid while maintaining individual consent requirements.'"
            ]
          },
          "execution_count": 25,
          "metadata": {},
          "output_type": "execute_result"
        }
      ],
      "source": [
        "dataset.samples[0].eval_sample.response"
      ]
    },
    {
      "cell_type": "markdown",
      "metadata": {
        "id": "TULcXSm0AUe0"
      },
      "source": [
        "Then we can convert that table into a `EvaluationDataset` which will make the process of evaluation smoother."
      ]
    },
    {
      "cell_type": "code",
      "execution_count": 26,
      "metadata": {
        "id": "B8zQhKR7yn1d"
      },
      "outputs": [],
      "source": [
        "from ragas import EvaluationDataset\n",
        "\n",
        "evaluation_dataset = EvaluationDataset.from_pandas(dataset.to_pandas())"
      ]
    },
    {
      "cell_type": "markdown",
      "metadata": {
        "id": "qQibuzfZAbvA"
      },
      "source": [
        "We'll need to select a judge model - in this case we're using the same model that was used to generate our Synthetic Data."
      ]
    },
    {
      "cell_type": "code",
      "execution_count": 27,
      "metadata": {
        "id": "_q3Zl7sazFYB"
      },
      "outputs": [],
      "source": [
        "from ragas import evaluate\n",
        "from ragas.llms import LangchainLLMWrapper\n",
        "\n",
        "evaluator_llm = LangchainLLMWrapper(ChatOpenAI(model=\"gpt-4.1-mini\"))"
      ]
    },
    {
      "cell_type": "markdown",
      "metadata": {
        "id": "MzHuOZgBAoUU"
      },
      "source": [
        "Next up - we simply evaluate on our desired metrics!"
      ]
    },
    {
      "cell_type": "code",
      "execution_count": 28,
      "metadata": {
        "colab": {
          "base_uri": "https://localhost:8080/",
          "height": 257,
          "referenced_widgets": [
            "d0718259769b46089abda354accc4de8",
            "df156fe12b7c4d1dbb4f688d7bd3c4a3",
            "1f6cdc06bb18480aa341a732a2f1be13",
            "e362bfd3e01241c6b20e2cf0a34db7a1",
            "8ba70976ee1c451184f77494d8c47c7d",
            "ea70433388ef4d1aaf1093eaeea94dd4",
            "8fe50cb21cf9449e94efe57920440845",
            "4e03f27c3ff84046bceb5b4ec1dec571",
            "44f817c0df384faa90ac99e8bd772bc5",
            "8c251e4b43214ca894f136c5397b4a94",
            "e74718a731f0471e9740a7ae5aec571e"
          ]
        },
        "id": "M6mw2AeKziF1",
        "outputId": "dbc30b1e-6b84-4621-8307-f3060bd8ad20"
      },
      "outputs": [
        {
          "data": {
            "application/vnd.jupyter.widget-view+json": {
              "model_id": "7cc8e9d32bb34c20a06ef6136bec3963",
              "version_major": 2,
              "version_minor": 0
            },
            "text/plain": [
              "Evaluating:   0%|          | 0/72 [00:00<?, ?it/s]"
            ]
          },
          "metadata": {},
          "output_type": "display_data"
        },
        {
          "data": {
            "text/plain": [
              "{'context_recall': 0.8357, 'faithfulness': 0.8306, 'factual_correctness': 0.6642, 'answer_relevancy': 0.9362, 'context_entity_recall': 0.4583, 'noise_sensitivity_relevant': 0.2298}"
            ]
          },
          "execution_count": 28,
          "metadata": {},
          "output_type": "execute_result"
        }
      ],
      "source": [
        "from ragas.metrics import LLMContextRecall, Faithfulness, FactualCorrectness, ResponseRelevancy, ContextEntityRecall, NoiseSensitivity\n",
        "from ragas import evaluate, RunConfig\n",
        "\n",
        "custom_run_config = RunConfig(timeout=360)\n",
        "\n",
        "result = evaluate(\n",
        "    dataset=evaluation_dataset,\n",
        "    metrics=[LLMContextRecall(), Faithfulness(), FactualCorrectness(), ResponseRelevancy(), ContextEntityRecall(), NoiseSensitivity()],\n",
        "    llm=evaluator_llm,\n",
        "    run_config=custom_run_config\n",
        ")\n",
        "result"
      ]
    },
    {
      "cell_type": "markdown",
      "metadata": {
        "id": "sZxxr2NqAyBp"
      },
      "source": [
        "## Making Adjustments and Re-Evaluating\n",
        "\n",
        "Now that we've got our baseline - let's make a change and see how the model improves or doesn't improve!\n",
        "\n",
        "> NOTE: This will be using Cohere's Rerank model - please be sure to [sign-up for an API key!](https://docs.cohere.com/reference/about)"
      ]
    },
    {
      "cell_type": "code",
      "execution_count": 29,
      "metadata": {
        "colab": {
          "base_uri": "https://localhost:8080/"
        },
        "id": "JMpf7nFDBH-K",
        "outputId": "5146dc88-964a-45b1-c030-15a0de3c4546"
      },
      "outputs": [],
      "source": [
        "os.environ[\"COHERE_API_KEY\"] = getpass(\"Please enter your Cohere API key!\")"
      ]
    },
    {
      "cell_type": "markdown",
      "metadata": {},
      "source": [
        "\n",
        "We'll first set our retriever to return more documents, which will allow us to take advantage of the reranking."
      ]
    },
    {
      "cell_type": "code",
      "execution_count": 30,
      "metadata": {
        "id": "3Oa5r78dA4K9"
      },
      "outputs": [],
      "source": [
        "adjusted_example_retriever = vector_store.as_retriever(search_kwargs={\"k\": 20})"
      ]
    },
    {
      "cell_type": "markdown",
      "metadata": {},
      "source": [
        "Reranking, or contextual compression, is a technique that uses a reranker to compress the retrieved documents into a smaller set of documents.\n",
        "\n",
        "This is essentially a slower, more accurate form of semantic similarity that we use on a smaller subset of our documents."
      ]
    },
    {
      "cell_type": "code",
      "execution_count": 31,
      "metadata": {
        "id": "B3d3B3OEBCCc"
      },
      "outputs": [],
      "source": [
        "from langchain.retrievers.contextual_compression import ContextualCompressionRetriever\n",
        "from langchain_cohere import CohereRerank\n",
        "\n",
        "def retrieve_adjusted(state):\n",
        "  compressor = CohereRerank(model=\"rerank-v3.5\")\n",
        "  compression_retriever = ContextualCompressionRetriever(\n",
        "    base_compressor=compressor, base_retriever=adjusted_example_retriever, search_kwargs={\"k\": 5}\n",
        "  )\n",
        "  retrieved_docs = compression_retriever.invoke(state[\"question\"])\n",
        "  return {\"context\" : retrieved_docs}"
      ]
    },
    {
      "cell_type": "markdown",
      "metadata": {},
      "source": [
        "We can simply rebuild our graph with the new retriever!"
      ]
    },
    {
      "cell_type": "code",
      "execution_count": 32,
      "metadata": {
        "id": "4XZKorBaB4BW"
      },
      "outputs": [],
      "source": [
        "class AdjustedState(TypedDict):\n",
        "  question: str\n",
        "  context: List[Document]\n",
        "  response: str\n",
        "\n",
        "adjusted_graph_builder = StateGraph(AdjustedState).add_sequence([retrieve_adjusted, generate])\n",
        "adjusted_graph_builder.add_edge(START, \"retrieve_adjusted\")\n",
        "adjusted_graph = adjusted_graph_builder.compile()"
      ]
    },
    {
      "cell_type": "code",
      "execution_count": 33,
      "metadata": {
        "colab": {
          "base_uri": "https://localhost:8080/",
          "height": 191
        },
        "id": "s7doJbZJB_19",
        "outputId": "c64ec4a0-8cb9-47ab-f369-736fc0182fad"
      },
      "outputs": [
        {
          "data": {
            "text/plain": [
              "'The context mentions two specific types of loans: \\n1. Direct Subsidized Loans\\n2. Direct Unsubsidized Loans\\nAdditionally, it references Federal PLUS Loans, which were made under the Federal Family Education Loan (FFEL) Program before July 1, 2010.\\n\\nBased on this information, the different kinds of loans are:\\n- Direct Subsidized Loans\\n- Direct Unsubsidized Loans\\n- Federal PLUS Loans'"
            ]
          },
          "execution_count": 33,
          "metadata": {},
          "output_type": "execute_result"
        }
      ],
      "source": [
        "response = adjusted_graph.invoke({\"question\" : \"What are the different kinds of loans?\"})\n",
        "response[\"response\"]"
      ]
    },
    {
      "cell_type": "code",
      "execution_count": 34,
      "metadata": {
        "id": "siBFKs-gCDdQ"
      },
      "outputs": [],
      "source": [
        "import time\n",
        "import copy\n",
        "\n",
        "rerank_dataset = copy.deepcopy(dataset)\n",
        "\n",
        "for test_row in rerank_dataset:\n",
        "  response = adjusted_graph.invoke({\"question\" : test_row.eval_sample.user_input})\n",
        "  test_row.eval_sample.response = response[\"response\"]\n",
        "  test_row.eval_sample.retrieved_contexts = [context.page_content for context in response[\"context\"]]\n",
        "  time.sleep(5) # To try to avoid rate limiting."
      ]
    },
    {
      "cell_type": "code",
      "execution_count": 35,
      "metadata": {},
      "outputs": [
        {
          "data": {
            "text/plain": [
              "'The Internal Revenue Service (IRS) facilitates the FAFSA application process for students seeking federal student aid by enabling a direct data exchange called the FA-DDX (FUTURE Act Direct Data Exchange). This exchange allows the Department of Education to obtain federal tax information (FTI) directly from the IRS to help complete the FAFSA form. The implementation of the FA-DDX has replaced the previous tool, the IRS Data Retrieval Tool (DRT), which was retired after the 2023-24 application cycle. \\n\\nUnlike the IRS-DRT, which applicants could opt into, the FA-DDX requires applicants and contributors (such as spouses and parents) to provide consent and approval for the Department to retrieve and use their FTI from the IRS. The transferred tax information via the FA-DDX is considered verified for Title IV purposes, streamlining the application process by reducing the need for applicants to self-report income and tax data. \\n\\nAdditionally, if an applicant or contributor files an amended IRS return, the system does not transfer the amended information via the FA-DDX; only original tax data is transferred. If amended returns are filed, applicants or contributors must update or correct their FAFSA, and special checks (such as the PJ flag on the ISIR) are used to ensure eligibility calculations are based on the most accurate data.'"
            ]
          },
          "execution_count": 35,
          "metadata": {},
          "output_type": "execute_result"
        }
      ],
      "source": [
        "rerank_dataset.samples[0].eval_sample.response"
      ]
    },
    {
      "cell_type": "code",
      "execution_count": 36,
      "metadata": {},
      "outputs": [],
      "source": [
        "rerank_evaluation_dataset = EvaluationDataset.from_pandas(rerank_dataset.to_pandas())"
      ]
    },
    {
      "cell_type": "code",
      "execution_count": 37,
      "metadata": {
        "colab": {
          "base_uri": "https://localhost:8080/",
          "height": 257,
          "referenced_widgets": [
            "b09b0c42e0364396aee593f2ba1f18a2",
            "ae2cb8aa76424c01b0e39988cba92f0a",
            "9e837089e2ed4366b518306993092ede",
            "ccc8bd831acf490bb821cbe9a4d6ce5e",
            "d7f40417bcb24600b0e562fe2be29560",
            "a06cc5c232fe415c80c3a468b29ccc66",
            "d06dd06393844bbc8e176fea19a4e142",
            "31981ef797934adebeba357626d4e287",
            "66e038d8569b43fb8adc5211537fccef",
            "ab759276b57d4de6acefd71e01bcacc6",
            "117883f62a654d6996c2f9f8464cd22b"
          ]
        },
        "id": "5jXHvoIDCeKI",
        "outputId": "90b7754d-d2b0-487f-912f-6f572e56d2e4"
      },
      "outputs": [
        {
          "data": {
            "application/vnd.jupyter.widget-view+json": {
              "model_id": "9ba9615f449143c89c0f928faad7b324",
              "version_major": 2,
              "version_minor": 0
            },
            "text/plain": [
              "Evaluating:   0%|          | 0/72 [00:00<?, ?it/s]"
            ]
          },
          "metadata": {},
          "output_type": "display_data"
        },
        {
          "data": {
            "text/plain": [
              "{'context_recall': 0.8054, 'faithfulness': 0.9021, 'factual_correctness': 0.6942, 'answer_relevancy': 0.9412, 'context_entity_recall': 0.5252, 'noise_sensitivity_relevant': 0.2230}"
            ]
          },
          "execution_count": 37,
          "metadata": {},
          "output_type": "execute_result"
        }
      ],
      "source": [
        "result = evaluate(\n",
        "    dataset=rerank_evaluation_dataset,\n",
        "    metrics=[LLMContextRecall(), Faithfulness(), FactualCorrectness(), ResponseRelevancy(), ContextEntityRecall(), NoiseSensitivity()],\n",
        "    llm=evaluator_llm,\n",
        "    run_config=custom_run_config\n",
        ")\n",
        "result"
      ]
    },
    {
      "cell_type": "markdown",
      "metadata": {},
      "source": [
        "#### ❓ Question: \n",
        "\n",
        "Which system performed better, on what metrics, and why?\n",
        "\n",
        "#### ✅ Answer:\n",
        "\n",
        "### 🧪 RAG Evaluation Comparison\n",
        "\n",
        "Below is a comparison of two RAG systems based on RAGAS metrics:\n",
        "\n",
        "| Metric                     | System 1 (Baseline RAG) | System 2 (with Cohere Rerank) | Better System |\n",
        "|---------------------------|--------------------------|-------------------------------|----------------|\n",
        "| **Context Recall**        | 0.8357                   | 0.8054                        | System 1       |\n",
        "| **Faithfulness**          | 0.8306                   | 0.9021                        | System 2       |\n",
        "| **Factual Correctness**   | 0.6642                   | 0.6942                        | System 2       |\n",
        "| **Answer Relevancy**      | 0.9362                   | 0.9412                        | System 2       |\n",
        "| **Context Entity Recall** | 0.4583                   | 0.5252                        | System 2       |\n",
        "| **Noise Sensitivity (↓)** | 0.2298                   | 0.2230                        | System 2       |\n",
        "\n",
        "---\n",
        "\n",
        "### ✅ Conclusion\n",
        "\n",
        "- **System 2**, which incorporates **Cohere Rerank**, outperforms the baseline RAG system (System 1) on **five out of six metrics**:\n",
        "  - It produces answers that are more **faithful**, **factually correct**, and **relevant**.\n",
        "  - It retains more **key entities** from the context.\n",
        "  - It is **slightly less sensitive to noise**.\n",
        "\n",
        "- **System 1** slightly outperforms in **context recall**, suggesting it retrieved more context, but not necessarily the most helpful parts.\n",
        "\n",
        "---\n",
        "\n",
        "### 🤖 Why Cohere Rerank Helps\n",
        "\n",
        "Cohere Rerank improves RAG performance by:\n",
        "- **Reordering retrieved documents** based on semantic relevance to the question — rather than just vector similarity.\n",
        "- Prioritizing chunks that are **both topically aligned and informative**, which leads to:\n",
        "  - **Higher-quality context** being passed to the LLM,\n",
        "  - **Less noise** in the prompt,\n",
        "  - And therefore, **better answer generation**.\n",
        "\n",
        "🔍 Even with slightly lower context recall, System 2 selects **higher-value context**, which boosts the overall performance across metrics.\n",
        "\n",
        "---\n",
        "\n",
        "🏁 **Bottom line**: Using Cohere Rerank can meaningfully enhance a RAG system's downstream answer quality by focusing not on retrieving more — but on retrieving **smarter**.\n"
      ]
    }
  ],
  "metadata": {
    "colab": {
      "provenance": []
    },
    "kernelspec": {
      "display_name": ".venv",
      "language": "python",
      "name": "python3"
    },
    "language_info": {
      "codemirror_mode": {
        "name": "ipython",
        "version": 3
      },
      "file_extension": ".py",
      "mimetype": "text/x-python",
      "name": "python",
      "nbconvert_exporter": "python",
      "pygments_lexer": "ipython3",
      "version": "3.13.5"
    },
    "widgets": {
      "application/vnd.jupyter.widget-state+json": {
        "0107beec40af42ffa66b216070f97d5c": {
          "model_module": "@jupyter-widgets/controls",
          "model_module_version": "1.5.0",
          "model_name": "ProgressStyleModel",
          "state": {
            "_model_module": "@jupyter-widgets/controls",
            "_model_module_version": "1.5.0",
            "_model_name": "ProgressStyleModel",
            "_view_count": null,
            "_view_module": "@jupyter-widgets/base",
            "_view_module_version": "1.2.0",
            "_view_name": "StyleView",
            "bar_color": null,
            "description_width": ""
          }
        },
        "01fa9def167548fba96e573921712950": {
          "model_module": "@jupyter-widgets/controls",
          "model_module_version": "1.5.0",
          "model_name": "FloatProgressModel",
          "state": {
            "_dom_classes": [],
            "_model_module": "@jupyter-widgets/controls",
            "_model_module_version": "1.5.0",
            "_model_name": "FloatProgressModel",
            "_view_count": null,
            "_view_module": "@jupyter-widgets/controls",
            "_view_module_version": "1.5.0",
            "_view_name": "ProgressView",
            "bar_style": "success",
            "description": "",
            "description_tooltip": null,
            "layout": "IPY_MODEL_3c470306f04542f29c53dd21a4de93d7",
            "max": 3,
            "min": 0,
            "orientation": "horizontal",
            "style": "IPY_MODEL_7c0ead4589784ecb8d5380a895fe1c41",
            "value": 3
          }
        },
        "03e6ff4dc0d645668324964cbf114211": {
          "model_module": "@jupyter-widgets/controls",
          "model_module_version": "1.5.0",
          "model_name": "HTMLModel",
          "state": {
            "_dom_classes": [],
            "_model_module": "@jupyter-widgets/controls",
            "_model_module_version": "1.5.0",
            "_model_name": "HTMLModel",
            "_view_count": null,
            "_view_module": "@jupyter-widgets/controls",
            "_view_module_version": "1.5.0",
            "_view_name": "HTMLView",
            "description": "",
            "description_tooltip": null,
            "layout": "IPY_MODEL_7803a3e67b28452390202dc69d4289f3",
            "placeholder": "​",
            "style": "IPY_MODEL_618a24e305d44bd39a3023aa44f3383c",
            "value": "Applying [CosineSimilarityBuilder, OverlapScoreBuilder]:   0%"
          }
        },
        "0e460f92c5a749efb198864545a124c0": {
          "model_module": "@jupyter-widgets/controls",
          "model_module_version": "1.5.0",
          "model_name": "HTMLModel",
          "state": {
            "_dom_classes": [],
            "_model_module": "@jupyter-widgets/controls",
            "_model_module_version": "1.5.0",
            "_model_name": "HTMLModel",
            "_view_count": null,
            "_view_module": "@jupyter-widgets/controls",
            "_view_module_version": "1.5.0",
            "_view_name": "HTMLView",
            "description": "",
            "description_tooltip": null,
            "layout": "IPY_MODEL_245c32a588d142628f06eba44324c1b8",
            "placeholder": "​",
            "style": "IPY_MODEL_f9499b2235294b638ed87d73894b341f",
            "value": " 1/2 [00:02&lt;00:02,  2.48s/it]"
          }
        },
        "117883f62a654d6996c2f9f8464cd22b": {
          "model_module": "@jupyter-widgets/controls",
          "model_module_version": "1.5.0",
          "model_name": "DescriptionStyleModel",
          "state": {
            "_model_module": "@jupyter-widgets/controls",
            "_model_module_version": "1.5.0",
            "_model_name": "DescriptionStyleModel",
            "_view_count": null,
            "_view_module": "@jupyter-widgets/base",
            "_view_module_version": "1.2.0",
            "_view_name": "StyleView",
            "description_width": ""
          }
        },
        "11d272eb6b7146659e5c688ec04c8749": {
          "model_module": "@jupyter-widgets/controls",
          "model_module_version": "1.5.0",
          "model_name": "HTMLModel",
          "state": {
            "_dom_classes": [],
            "_model_module": "@jupyter-widgets/controls",
            "_model_module_version": "1.5.0",
            "_model_name": "HTMLModel",
            "_view_count": null,
            "_view_module": "@jupyter-widgets/controls",
            "_view_module_version": "1.5.0",
            "_view_name": "HTMLView",
            "description": "",
            "description_tooltip": null,
            "layout": "IPY_MODEL_ba29aad6b8d74a09ad347ce8648deeab",
            "placeholder": "​",
            "style": "IPY_MODEL_96426fde6b9542208f45409965d0216c",
            "value": "Generating Samples: 100%"
          }
        },
        "16a0c539ddb040d7b32047894480a348": {
          "model_module": "@jupyter-widgets/controls",
          "model_module_version": "1.5.0",
          "model_name": "DescriptionStyleModel",
          "state": {
            "_model_module": "@jupyter-widgets/controls",
            "_model_module_version": "1.5.0",
            "_model_name": "DescriptionStyleModel",
            "_view_count": null,
            "_view_module": "@jupyter-widgets/base",
            "_view_module_version": "1.2.0",
            "_view_name": "StyleView",
            "description_width": ""
          }
        },
        "19160948d9af4cd5bfe1a8a97727fb49": {
          "model_module": "@jupyter-widgets/controls",
          "model_module_version": "1.5.0",
          "model_name": "HTMLModel",
          "state": {
            "_dom_classes": [],
            "_model_module": "@jupyter-widgets/controls",
            "_model_module_version": "1.5.0",
            "_model_name": "HTMLModel",
            "_view_count": null,
            "_view_module": "@jupyter-widgets/controls",
            "_view_module_version": "1.5.0",
            "_view_name": "HTMLView",
            "description": "",
            "description_tooltip": null,
            "layout": "IPY_MODEL_c4470c9d055c4b8793dda8dfc7496b83",
            "placeholder": "​",
            "style": "IPY_MODEL_4183285878f347f1b8caae9dce6ec0fd",
            "value": "Applying CustomNodeFilter:  75%"
          }
        },
        "1ea4551d38bc4e3ea2a99eb62e6bf942": {
          "model_module": "@jupyter-widgets/base",
          "model_module_version": "1.2.0",
          "model_name": "LayoutModel",
          "state": {
            "_model_module": "@jupyter-widgets/base",
            "_model_module_version": "1.2.0",
            "_model_name": "LayoutModel",
            "_view_count": null,
            "_view_module": "@jupyter-widgets/base",
            "_view_module_version": "1.2.0",
            "_view_name": "LayoutView",
            "align_content": null,
            "align_items": null,
            "align_self": null,
            "border": null,
            "bottom": null,
            "display": null,
            "flex": null,
            "flex_flow": null,
            "grid_area": null,
            "grid_auto_columns": null,
            "grid_auto_flow": null,
            "grid_auto_rows": null,
            "grid_column": null,
            "grid_gap": null,
            "grid_row": null,
            "grid_template_areas": null,
            "grid_template_columns": null,
            "grid_template_rows": null,
            "height": null,
            "justify_content": null,
            "justify_items": null,
            "left": null,
            "margin": null,
            "max_height": null,
            "max_width": null,
            "min_height": null,
            "min_width": null,
            "object_fit": null,
            "object_position": null,
            "order": null,
            "overflow": null,
            "overflow_x": null,
            "overflow_y": null,
            "padding": null,
            "right": null,
            "top": null,
            "visibility": "hidden",
            "width": null
          }
        },
        "1f6cdc06bb18480aa341a732a2f1be13": {
          "model_module": "@jupyter-widgets/controls",
          "model_module_version": "1.5.0",
          "model_name": "FloatProgressModel",
          "state": {
            "_dom_classes": [],
            "_model_module": "@jupyter-widgets/controls",
            "_model_module_version": "1.5.0",
            "_model_name": "FloatProgressModel",
            "_view_count": null,
            "_view_module": "@jupyter-widgets/controls",
            "_view_module_version": "1.5.0",
            "_view_name": "ProgressView",
            "bar_style": "success",
            "description": "",
            "description_tooltip": null,
            "layout": "IPY_MODEL_4e03f27c3ff84046bceb5b4ec1dec571",
            "max": 72,
            "min": 0,
            "orientation": "horizontal",
            "style": "IPY_MODEL_44f817c0df384faa90ac99e8bd772bc5",
            "value": 72
          }
        },
        "20848c82096c458fb118006897a0b7e0": {
          "model_module": "@jupyter-widgets/controls",
          "model_module_version": "1.5.0",
          "model_name": "DescriptionStyleModel",
          "state": {
            "_model_module": "@jupyter-widgets/controls",
            "_model_module_version": "1.5.0",
            "_model_name": "DescriptionStyleModel",
            "_view_count": null,
            "_view_module": "@jupyter-widgets/base",
            "_view_module_version": "1.2.0",
            "_view_name": "StyleView",
            "description_width": ""
          }
        },
        "245c32a588d142628f06eba44324c1b8": {
          "model_module": "@jupyter-widgets/base",
          "model_module_version": "1.2.0",
          "model_name": "LayoutModel",
          "state": {
            "_model_module": "@jupyter-widgets/base",
            "_model_module_version": "1.2.0",
            "_model_name": "LayoutModel",
            "_view_count": null,
            "_view_module": "@jupyter-widgets/base",
            "_view_module_version": "1.2.0",
            "_view_name": "LayoutView",
            "align_content": null,
            "align_items": null,
            "align_self": null,
            "border": null,
            "bottom": null,
            "display": null,
            "flex": null,
            "flex_flow": null,
            "grid_area": null,
            "grid_auto_columns": null,
            "grid_auto_flow": null,
            "grid_auto_rows": null,
            "grid_column": null,
            "grid_gap": null,
            "grid_row": null,
            "grid_template_areas": null,
            "grid_template_columns": null,
            "grid_template_rows": null,
            "height": null,
            "justify_content": null,
            "justify_items": null,
            "left": null,
            "margin": null,
            "max_height": null,
            "max_width": null,
            "min_height": null,
            "min_width": null,
            "object_fit": null,
            "object_position": null,
            "order": null,
            "overflow": null,
            "overflow_x": null,
            "overflow_y": null,
            "padding": null,
            "right": null,
            "top": null,
            "visibility": null,
            "width": null
          }
        },
        "25baeb72f87d4e5ba0e8c10bcf3afd58": {
          "model_module": "@jupyter-widgets/controls",
          "model_module_version": "1.5.0",
          "model_name": "HTMLModel",
          "state": {
            "_dom_classes": [],
            "_model_module": "@jupyter-widgets/controls",
            "_model_module_version": "1.5.0",
            "_model_name": "HTMLModel",
            "_view_count": null,
            "_view_module": "@jupyter-widgets/controls",
            "_view_module_version": "1.5.0",
            "_view_name": "HTMLView",
            "description": "",
            "description_tooltip": null,
            "layout": "IPY_MODEL_3b72baad55d34b77b5c56588c00280b9",
            "placeholder": "​",
            "style": "IPY_MODEL_16a0c539ddb040d7b32047894480a348",
            "value": " 26/26 [00:06&lt;00:00,  3.07it/s]"
          }
        },
        "2b4f209c6c3c46abaa0d5a83cb10ae38": {
          "model_module": "@jupyter-widgets/controls",
          "model_module_version": "1.5.0",
          "model_name": "DescriptionStyleModel",
          "state": {
            "_model_module": "@jupyter-widgets/controls",
            "_model_module_version": "1.5.0",
            "_model_name": "DescriptionStyleModel",
            "_view_count": null,
            "_view_module": "@jupyter-widgets/base",
            "_view_module_version": "1.2.0",
            "_view_name": "StyleView",
            "description_width": ""
          }
        },
        "2c9e188608204caa9c6a449843084ceb": {
          "model_module": "@jupyter-widgets/controls",
          "model_module_version": "1.5.0",
          "model_name": "HBoxModel",
          "state": {
            "_dom_classes": [],
            "_model_module": "@jupyter-widgets/controls",
            "_model_module_version": "1.5.0",
            "_model_name": "HBoxModel",
            "_view_count": null,
            "_view_module": "@jupyter-widgets/controls",
            "_view_module_version": "1.5.0",
            "_view_name": "HBoxView",
            "box_style": "",
            "children": [
              "IPY_MODEL_8299304353ff46b597fdadeacddabdf5",
              "IPY_MODEL_fc33ba2055c149a4a85ac6f586de47ee",
              "IPY_MODEL_8e87eb2bff19452ab778993dbc1a2586"
            ],
            "layout": "IPY_MODEL_be4c08a6cdb54d23a32b283379fdea8e"
          }
        },
        "2d888020728341a6ad146908634a6a2f": {
          "model_module": "@jupyter-widgets/controls",
          "model_module_version": "1.5.0",
          "model_name": "HTMLModel",
          "state": {
            "_dom_classes": [],
            "_model_module": "@jupyter-widgets/controls",
            "_model_module_version": "1.5.0",
            "_model_name": "HTMLModel",
            "_view_count": null,
            "_view_module": "@jupyter-widgets/controls",
            "_view_module_version": "1.5.0",
            "_view_name": "HTMLView",
            "description": "",
            "description_tooltip": null,
            "layout": "IPY_MODEL_5e5fe22186e742e6bd1142a0d8471656",
            "placeholder": "​",
            "style": "IPY_MODEL_79fce08fefc948d0bec02db61a6ab21b",
            "value": " 0/2 [00:00&lt;?, ?it/s]"
          }
        },
        "31981ef797934adebeba357626d4e287": {
          "model_module": "@jupyter-widgets/base",
          "model_module_version": "1.2.0",
          "model_name": "LayoutModel",
          "state": {
            "_model_module": "@jupyter-widgets/base",
            "_model_module_version": "1.2.0",
            "_model_name": "LayoutModel",
            "_view_count": null,
            "_view_module": "@jupyter-widgets/base",
            "_view_module_version": "1.2.0",
            "_view_name": "LayoutView",
            "align_content": null,
            "align_items": null,
            "align_self": null,
            "border": null,
            "bottom": null,
            "display": null,
            "flex": null,
            "flex_flow": null,
            "grid_area": null,
            "grid_auto_columns": null,
            "grid_auto_flow": null,
            "grid_auto_rows": null,
            "grid_column": null,
            "grid_gap": null,
            "grid_row": null,
            "grid_template_areas": null,
            "grid_template_columns": null,
            "grid_template_rows": null,
            "height": null,
            "justify_content": null,
            "justify_items": null,
            "left": null,
            "margin": null,
            "max_height": null,
            "max_width": null,
            "min_height": null,
            "min_width": null,
            "object_fit": null,
            "object_position": null,
            "order": null,
            "overflow": null,
            "overflow_x": null,
            "overflow_y": null,
            "padding": null,
            "right": null,
            "top": null,
            "visibility": null,
            "width": null
          }
        },
        "319b66f299064965b91ce4282dc9c280": {
          "model_module": "@jupyter-widgets/controls",
          "model_module_version": "1.5.0",
          "model_name": "DescriptionStyleModel",
          "state": {
            "_model_module": "@jupyter-widgets/controls",
            "_model_module_version": "1.5.0",
            "_model_name": "DescriptionStyleModel",
            "_view_count": null,
            "_view_module": "@jupyter-widgets/base",
            "_view_module_version": "1.2.0",
            "_view_name": "StyleView",
            "description_width": ""
          }
        },
        "3230d232b04448fe9a68a204b46bc91c": {
          "model_module": "@jupyter-widgets/controls",
          "model_module_version": "1.5.0",
          "model_name": "DescriptionStyleModel",
          "state": {
            "_model_module": "@jupyter-widgets/controls",
            "_model_module_version": "1.5.0",
            "_model_name": "DescriptionStyleModel",
            "_view_count": null,
            "_view_module": "@jupyter-widgets/base",
            "_view_module_version": "1.2.0",
            "_view_name": "StyleView",
            "description_width": ""
          }
        },
        "35e6cd723807485f81eb053c2c92b96c": {
          "model_module": "@jupyter-widgets/controls",
          "model_module_version": "1.5.0",
          "model_name": "DescriptionStyleModel",
          "state": {
            "_model_module": "@jupyter-widgets/controls",
            "_model_module_version": "1.5.0",
            "_model_name": "DescriptionStyleModel",
            "_view_count": null,
            "_view_module": "@jupyter-widgets/base",
            "_view_module_version": "1.2.0",
            "_view_name": "StyleView",
            "description_width": ""
          }
        },
        "35e71aea98cc41b7a090071a9d8ccde7": {
          "model_module": "@jupyter-widgets/controls",
          "model_module_version": "1.5.0",
          "model_name": "ProgressStyleModel",
          "state": {
            "_model_module": "@jupyter-widgets/controls",
            "_model_module_version": "1.5.0",
            "_model_name": "ProgressStyleModel",
            "_view_count": null,
            "_view_module": "@jupyter-widgets/base",
            "_view_module_version": "1.2.0",
            "_view_name": "StyleView",
            "bar_color": null,
            "description_width": ""
          }
        },
        "37831f1641db461e93e5011d343b5cb2": {
          "model_module": "@jupyter-widgets/base",
          "model_module_version": "1.2.0",
          "model_name": "LayoutModel",
          "state": {
            "_model_module": "@jupyter-widgets/base",
            "_model_module_version": "1.2.0",
            "_model_name": "LayoutModel",
            "_view_count": null,
            "_view_module": "@jupyter-widgets/base",
            "_view_module_version": "1.2.0",
            "_view_name": "LayoutView",
            "align_content": null,
            "align_items": null,
            "align_self": null,
            "border": null,
            "bottom": null,
            "display": null,
            "flex": null,
            "flex_flow": null,
            "grid_area": null,
            "grid_auto_columns": null,
            "grid_auto_flow": null,
            "grid_auto_rows": null,
            "grid_column": null,
            "grid_gap": null,
            "grid_row": null,
            "grid_template_areas": null,
            "grid_template_columns": null,
            "grid_template_rows": null,
            "height": null,
            "justify_content": null,
            "justify_items": null,
            "left": null,
            "margin": null,
            "max_height": null,
            "max_width": null,
            "min_height": null,
            "min_width": null,
            "object_fit": null,
            "object_position": null,
            "order": null,
            "overflow": null,
            "overflow_x": null,
            "overflow_y": null,
            "padding": null,
            "right": null,
            "top": null,
            "visibility": null,
            "width": null
          }
        },
        "3b72baad55d34b77b5c56588c00280b9": {
          "model_module": "@jupyter-widgets/base",
          "model_module_version": "1.2.0",
          "model_name": "LayoutModel",
          "state": {
            "_model_module": "@jupyter-widgets/base",
            "_model_module_version": "1.2.0",
            "_model_name": "LayoutModel",
            "_view_count": null,
            "_view_module": "@jupyter-widgets/base",
            "_view_module_version": "1.2.0",
            "_view_name": "LayoutView",
            "align_content": null,
            "align_items": null,
            "align_self": null,
            "border": null,
            "bottom": null,
            "display": null,
            "flex": null,
            "flex_flow": null,
            "grid_area": null,
            "grid_auto_columns": null,
            "grid_auto_flow": null,
            "grid_auto_rows": null,
            "grid_column": null,
            "grid_gap": null,
            "grid_row": null,
            "grid_template_areas": null,
            "grid_template_columns": null,
            "grid_template_rows": null,
            "height": null,
            "justify_content": null,
            "justify_items": null,
            "left": null,
            "margin": null,
            "max_height": null,
            "max_width": null,
            "min_height": null,
            "min_width": null,
            "object_fit": null,
            "object_position": null,
            "order": null,
            "overflow": null,
            "overflow_x": null,
            "overflow_y": null,
            "padding": null,
            "right": null,
            "top": null,
            "visibility": null,
            "width": null
          }
        },
        "3c470306f04542f29c53dd21a4de93d7": {
          "model_module": "@jupyter-widgets/base",
          "model_module_version": "1.2.0",
          "model_name": "LayoutModel",
          "state": {
            "_model_module": "@jupyter-widgets/base",
            "_model_module_version": "1.2.0",
            "_model_name": "LayoutModel",
            "_view_count": null,
            "_view_module": "@jupyter-widgets/base",
            "_view_module_version": "1.2.0",
            "_view_name": "LayoutView",
            "align_content": null,
            "align_items": null,
            "align_self": null,
            "border": null,
            "bottom": null,
            "display": null,
            "flex": null,
            "flex_flow": null,
            "grid_area": null,
            "grid_auto_columns": null,
            "grid_auto_flow": null,
            "grid_auto_rows": null,
            "grid_column": null,
            "grid_gap": null,
            "grid_row": null,
            "grid_template_areas": null,
            "grid_template_columns": null,
            "grid_template_rows": null,
            "height": null,
            "justify_content": null,
            "justify_items": null,
            "left": null,
            "margin": null,
            "max_height": null,
            "max_width": null,
            "min_height": null,
            "min_width": null,
            "object_fit": null,
            "object_position": null,
            "order": null,
            "overflow": null,
            "overflow_x": null,
            "overflow_y": null,
            "padding": null,
            "right": null,
            "top": null,
            "visibility": null,
            "width": null
          }
        },
        "4183285878f347f1b8caae9dce6ec0fd": {
          "model_module": "@jupyter-widgets/controls",
          "model_module_version": "1.5.0",
          "model_name": "DescriptionStyleModel",
          "state": {
            "_model_module": "@jupyter-widgets/controls",
            "_model_module_version": "1.5.0",
            "_model_name": "DescriptionStyleModel",
            "_view_count": null,
            "_view_module": "@jupyter-widgets/base",
            "_view_module_version": "1.2.0",
            "_view_name": "StyleView",
            "description_width": ""
          }
        },
        "4347f5ea75c74effbc9552cb69c82301": {
          "model_module": "@jupyter-widgets/base",
          "model_module_version": "1.2.0",
          "model_name": "LayoutModel",
          "state": {
            "_model_module": "@jupyter-widgets/base",
            "_model_module_version": "1.2.0",
            "_model_name": "LayoutModel",
            "_view_count": null,
            "_view_module": "@jupyter-widgets/base",
            "_view_module_version": "1.2.0",
            "_view_name": "LayoutView",
            "align_content": null,
            "align_items": null,
            "align_self": null,
            "border": null,
            "bottom": null,
            "display": null,
            "flex": null,
            "flex_flow": null,
            "grid_area": null,
            "grid_auto_columns": null,
            "grid_auto_flow": null,
            "grid_auto_rows": null,
            "grid_column": null,
            "grid_gap": null,
            "grid_row": null,
            "grid_template_areas": null,
            "grid_template_columns": null,
            "grid_template_rows": null,
            "height": null,
            "justify_content": null,
            "justify_items": null,
            "left": null,
            "margin": null,
            "max_height": null,
            "max_width": null,
            "min_height": null,
            "min_width": null,
            "object_fit": null,
            "object_position": null,
            "order": null,
            "overflow": null,
            "overflow_x": null,
            "overflow_y": null,
            "padding": null,
            "right": null,
            "top": null,
            "visibility": "hidden",
            "width": null
          }
        },
        "44f817c0df384faa90ac99e8bd772bc5": {
          "model_module": "@jupyter-widgets/controls",
          "model_module_version": "1.5.0",
          "model_name": "ProgressStyleModel",
          "state": {
            "_model_module": "@jupyter-widgets/controls",
            "_model_module_version": "1.5.0",
            "_model_name": "ProgressStyleModel",
            "_view_count": null,
            "_view_module": "@jupyter-widgets/base",
            "_view_module_version": "1.2.0",
            "_view_name": "StyleView",
            "bar_color": null,
            "description_width": ""
          }
        },
        "4592465145b44c17a9acb5fcab9b2e8b": {
          "model_module": "@jupyter-widgets/controls",
          "model_module_version": "1.5.0",
          "model_name": "ProgressStyleModel",
          "state": {
            "_model_module": "@jupyter-widgets/controls",
            "_model_module_version": "1.5.0",
            "_model_name": "ProgressStyleModel",
            "_view_count": null,
            "_view_module": "@jupyter-widgets/base",
            "_view_module_version": "1.2.0",
            "_view_name": "StyleView",
            "bar_color": null,
            "description_width": ""
          }
        },
        "472c776f27834cd8907902679ff93c24": {
          "model_module": "@jupyter-widgets/controls",
          "model_module_version": "1.5.0",
          "model_name": "HBoxModel",
          "state": {
            "_dom_classes": [],
            "_model_module": "@jupyter-widgets/controls",
            "_model_module_version": "1.5.0",
            "_model_name": "HBoxModel",
            "_view_count": null,
            "_view_module": "@jupyter-widgets/controls",
            "_view_module_version": "1.5.0",
            "_view_name": "HBoxView",
            "box_style": "",
            "children": [
              "IPY_MODEL_19160948d9af4cd5bfe1a8a97727fb49",
              "IPY_MODEL_d528743f9a0047778a7f808214fdf49c",
              "IPY_MODEL_a37137bd3fad4362bef3817ae7ad2ad9"
            ],
            "layout": "IPY_MODEL_da926343593245d9b34f8a77183c4115"
          }
        },
        "4e03f27c3ff84046bceb5b4ec1dec571": {
          "model_module": "@jupyter-widgets/base",
          "model_module_version": "1.2.0",
          "model_name": "LayoutModel",
          "state": {
            "_model_module": "@jupyter-widgets/base",
            "_model_module_version": "1.2.0",
            "_model_name": "LayoutModel",
            "_view_count": null,
            "_view_module": "@jupyter-widgets/base",
            "_view_module_version": "1.2.0",
            "_view_name": "LayoutView",
            "align_content": null,
            "align_items": null,
            "align_self": null,
            "border": null,
            "bottom": null,
            "display": null,
            "flex": null,
            "flex_flow": null,
            "grid_area": null,
            "grid_auto_columns": null,
            "grid_auto_flow": null,
            "grid_auto_rows": null,
            "grid_column": null,
            "grid_gap": null,
            "grid_row": null,
            "grid_template_areas": null,
            "grid_template_columns": null,
            "grid_template_rows": null,
            "height": null,
            "justify_content": null,
            "justify_items": null,
            "left": null,
            "margin": null,
            "max_height": null,
            "max_width": null,
            "min_height": null,
            "min_width": null,
            "object_fit": null,
            "object_position": null,
            "order": null,
            "overflow": null,
            "overflow_x": null,
            "overflow_y": null,
            "padding": null,
            "right": null,
            "top": null,
            "visibility": null,
            "width": null
          }
        },
        "521c3b51f249490986addd4010423064": {
          "model_module": "@jupyter-widgets/controls",
          "model_module_version": "1.5.0",
          "model_name": "HBoxModel",
          "state": {
            "_dom_classes": [],
            "_model_module": "@jupyter-widgets/controls",
            "_model_module_version": "1.5.0",
            "_model_name": "HBoxModel",
            "_view_count": null,
            "_view_module": "@jupyter-widgets/controls",
            "_view_module_version": "1.5.0",
            "_view_name": "HBoxView",
            "box_style": "",
            "children": [
              "IPY_MODEL_bda6a62b9fd143a3b0628e60580d23c9",
              "IPY_MODEL_970b83c42f4f4d7ebb252c4f26f6ea56",
              "IPY_MODEL_d1e5f706d17b4c27b0ce1cb127fdc891"
            ],
            "layout": "IPY_MODEL_7d5ccb84254b461da11bd8045424bc30"
          }
        },
        "559b618c027e4f12bfe58286b208c9b4": {
          "model_module": "@jupyter-widgets/controls",
          "model_module_version": "1.5.0",
          "model_name": "ProgressStyleModel",
          "state": {
            "_model_module": "@jupyter-widgets/controls",
            "_model_module_version": "1.5.0",
            "_model_name": "ProgressStyleModel",
            "_view_count": null,
            "_view_module": "@jupyter-widgets/base",
            "_view_module_version": "1.2.0",
            "_view_name": "StyleView",
            "bar_color": null,
            "description_width": ""
          }
        },
        "594a9d371fb4406e97630f35712d276c": {
          "model_module": "@jupyter-widgets/controls",
          "model_module_version": "1.5.0",
          "model_name": "HTMLModel",
          "state": {
            "_dom_classes": [],
            "_model_module": "@jupyter-widgets/controls",
            "_model_module_version": "1.5.0",
            "_model_name": "HTMLModel",
            "_view_count": null,
            "_view_module": "@jupyter-widgets/controls",
            "_view_module_version": "1.5.0",
            "_view_name": "HTMLView",
            "description": "",
            "description_tooltip": null,
            "layout": "IPY_MODEL_f7bf032ee32c46628a3a28ff2cedcc10",
            "placeholder": "​",
            "style": "IPY_MODEL_810264507cae4987b88531845ca03921",
            "value": "Applying [EmbeddingExtractor, ThemesExtractor, NERExtractor]: 100%"
          }
        },
        "5bec2586cfcb4ddabf9f2378b32fa4dc": {
          "model_module": "@jupyter-widgets/controls",
          "model_module_version": "1.5.0",
          "model_name": "ProgressStyleModel",
          "state": {
            "_model_module": "@jupyter-widgets/controls",
            "_model_module_version": "1.5.0",
            "_model_name": "ProgressStyleModel",
            "_view_count": null,
            "_view_module": "@jupyter-widgets/base",
            "_view_module_version": "1.2.0",
            "_view_name": "StyleView",
            "bar_color": null,
            "description_width": ""
          }
        },
        "5cea5f1121f64866b6932ac6bb0a8829": {
          "model_module": "@jupyter-widgets/controls",
          "model_module_version": "1.5.0",
          "model_name": "HBoxModel",
          "state": {
            "_dom_classes": [],
            "_model_module": "@jupyter-widgets/controls",
            "_model_module_version": "1.5.0",
            "_model_name": "HBoxModel",
            "_view_count": null,
            "_view_module": "@jupyter-widgets/controls",
            "_view_module_version": "1.5.0",
            "_view_name": "HBoxView",
            "box_style": "",
            "children": [
              "IPY_MODEL_03e6ff4dc0d645668324964cbf114211",
              "IPY_MODEL_c1b6cdf48bae4226a374ffbabb861ecc",
              "IPY_MODEL_ec44f75ea457496c9443b881bc156146"
            ],
            "layout": "IPY_MODEL_d64c39da94b148d4989fe271521dc967"
          }
        },
        "5d5df07e34d545ed9b2975034645c453": {
          "model_module": "@jupyter-widgets/base",
          "model_module_version": "1.2.0",
          "model_name": "LayoutModel",
          "state": {
            "_model_module": "@jupyter-widgets/base",
            "_model_module_version": "1.2.0",
            "_model_name": "LayoutModel",
            "_view_count": null,
            "_view_module": "@jupyter-widgets/base",
            "_view_module_version": "1.2.0",
            "_view_name": "LayoutView",
            "align_content": null,
            "align_items": null,
            "align_self": null,
            "border": null,
            "bottom": null,
            "display": null,
            "flex": null,
            "flex_flow": null,
            "grid_area": null,
            "grid_auto_columns": null,
            "grid_auto_flow": null,
            "grid_auto_rows": null,
            "grid_column": null,
            "grid_gap": null,
            "grid_row": null,
            "grid_template_areas": null,
            "grid_template_columns": null,
            "grid_template_rows": null,
            "height": null,
            "justify_content": null,
            "justify_items": null,
            "left": null,
            "margin": null,
            "max_height": null,
            "max_width": null,
            "min_height": null,
            "min_width": null,
            "object_fit": null,
            "object_position": null,
            "order": null,
            "overflow": null,
            "overflow_x": null,
            "overflow_y": null,
            "padding": null,
            "right": null,
            "top": null,
            "visibility": null,
            "width": null
          }
        },
        "5e5fe22186e742e6bd1142a0d8471656": {
          "model_module": "@jupyter-widgets/base",
          "model_module_version": "1.2.0",
          "model_name": "LayoutModel",
          "state": {
            "_model_module": "@jupyter-widgets/base",
            "_model_module_version": "1.2.0",
            "_model_name": "LayoutModel",
            "_view_count": null,
            "_view_module": "@jupyter-widgets/base",
            "_view_module_version": "1.2.0",
            "_view_name": "LayoutView",
            "align_content": null,
            "align_items": null,
            "align_self": null,
            "border": null,
            "bottom": null,
            "display": null,
            "flex": null,
            "flex_flow": null,
            "grid_area": null,
            "grid_auto_columns": null,
            "grid_auto_flow": null,
            "grid_auto_rows": null,
            "grid_column": null,
            "grid_gap": null,
            "grid_row": null,
            "grid_template_areas": null,
            "grid_template_columns": null,
            "grid_template_rows": null,
            "height": null,
            "justify_content": null,
            "justify_items": null,
            "left": null,
            "margin": null,
            "max_height": null,
            "max_width": null,
            "min_height": null,
            "min_width": null,
            "object_fit": null,
            "object_position": null,
            "order": null,
            "overflow": null,
            "overflow_x": null,
            "overflow_y": null,
            "padding": null,
            "right": null,
            "top": null,
            "visibility": null,
            "width": null
          }
        },
        "618a24e305d44bd39a3023aa44f3383c": {
          "model_module": "@jupyter-widgets/controls",
          "model_module_version": "1.5.0",
          "model_name": "DescriptionStyleModel",
          "state": {
            "_model_module": "@jupyter-widgets/controls",
            "_model_module_version": "1.5.0",
            "_model_name": "DescriptionStyleModel",
            "_view_count": null,
            "_view_module": "@jupyter-widgets/base",
            "_view_module_version": "1.2.0",
            "_view_name": "StyleView",
            "description_width": ""
          }
        },
        "66e038d8569b43fb8adc5211537fccef": {
          "model_module": "@jupyter-widgets/controls",
          "model_module_version": "1.5.0",
          "model_name": "ProgressStyleModel",
          "state": {
            "_model_module": "@jupyter-widgets/controls",
            "_model_module_version": "1.5.0",
            "_model_name": "ProgressStyleModel",
            "_view_count": null,
            "_view_module": "@jupyter-widgets/base",
            "_view_module_version": "1.2.0",
            "_view_name": "StyleView",
            "bar_color": null,
            "description_width": ""
          }
        },
        "675034bd626b4c528eb77e35e4087191": {
          "model_module": "@jupyter-widgets/controls",
          "model_module_version": "1.5.0",
          "model_name": "DescriptionStyleModel",
          "state": {
            "_model_module": "@jupyter-widgets/controls",
            "_model_module_version": "1.5.0",
            "_model_name": "DescriptionStyleModel",
            "_view_count": null,
            "_view_module": "@jupyter-widgets/base",
            "_view_module_version": "1.2.0",
            "_view_name": "StyleView",
            "description_width": ""
          }
        },
        "68599f8e85ef4fcba92ea891f75b5535": {
          "model_module": "@jupyter-widgets/controls",
          "model_module_version": "1.5.0",
          "model_name": "FloatProgressModel",
          "state": {
            "_dom_classes": [],
            "_model_module": "@jupyter-widgets/controls",
            "_model_module_version": "1.5.0",
            "_model_name": "FloatProgressModel",
            "_view_count": null,
            "_view_module": "@jupyter-widgets/controls",
            "_view_module_version": "1.5.0",
            "_view_name": "ProgressView",
            "bar_style": "success",
            "description": "",
            "description_tooltip": null,
            "layout": "IPY_MODEL_bba06b49269840ea8247ecc85552050b",
            "max": 12,
            "min": 0,
            "orientation": "horizontal",
            "style": "IPY_MODEL_9e0794e92f9646ab8aa21f0ec0ed7981",
            "value": 12
          }
        },
        "7288a537b3034e499797d2c3294f8383": {
          "model_module": "@jupyter-widgets/controls",
          "model_module_version": "1.5.0",
          "model_name": "HTMLModel",
          "state": {
            "_dom_classes": [],
            "_model_module": "@jupyter-widgets/controls",
            "_model_module_version": "1.5.0",
            "_model_name": "HTMLModel",
            "_view_count": null,
            "_view_module": "@jupyter-widgets/controls",
            "_view_module_version": "1.5.0",
            "_view_name": "HTMLView",
            "description": "",
            "description_tooltip": null,
            "layout": "IPY_MODEL_8723f89faf044f97b5abfa3666404497",
            "placeholder": "​",
            "style": "IPY_MODEL_7c8f4bf420754b538baea7a420b6a76a",
            "value": " 3/3 [00:10&lt;00:00,  3.60s/it]"
          }
        },
        "74ac36e0ca6c4a3ba53d070b37b9f1aa": {
          "model_module": "@jupyter-widgets/base",
          "model_module_version": "1.2.0",
          "model_name": "LayoutModel",
          "state": {
            "_model_module": "@jupyter-widgets/base",
            "_model_module_version": "1.2.0",
            "_model_name": "LayoutModel",
            "_view_count": null,
            "_view_module": "@jupyter-widgets/base",
            "_view_module_version": "1.2.0",
            "_view_name": "LayoutView",
            "align_content": null,
            "align_items": null,
            "align_self": null,
            "border": null,
            "bottom": null,
            "display": null,
            "flex": null,
            "flex_flow": null,
            "grid_area": null,
            "grid_auto_columns": null,
            "grid_auto_flow": null,
            "grid_auto_rows": null,
            "grid_column": null,
            "grid_gap": null,
            "grid_row": null,
            "grid_template_areas": null,
            "grid_template_columns": null,
            "grid_template_rows": null,
            "height": null,
            "justify_content": null,
            "justify_items": null,
            "left": null,
            "margin": null,
            "max_height": null,
            "max_width": null,
            "min_height": null,
            "min_width": null,
            "object_fit": null,
            "object_position": null,
            "order": null,
            "overflow": null,
            "overflow_x": null,
            "overflow_y": null,
            "padding": null,
            "right": null,
            "top": null,
            "visibility": null,
            "width": null
          }
        },
        "7803a3e67b28452390202dc69d4289f3": {
          "model_module": "@jupyter-widgets/base",
          "model_module_version": "1.2.0",
          "model_name": "LayoutModel",
          "state": {
            "_model_module": "@jupyter-widgets/base",
            "_model_module_version": "1.2.0",
            "_model_name": "LayoutModel",
            "_view_count": null,
            "_view_module": "@jupyter-widgets/base",
            "_view_module_version": "1.2.0",
            "_view_name": "LayoutView",
            "align_content": null,
            "align_items": null,
            "align_self": null,
            "border": null,
            "bottom": null,
            "display": null,
            "flex": null,
            "flex_flow": null,
            "grid_area": null,
            "grid_auto_columns": null,
            "grid_auto_flow": null,
            "grid_auto_rows": null,
            "grid_column": null,
            "grid_gap": null,
            "grid_row": null,
            "grid_template_areas": null,
            "grid_template_columns": null,
            "grid_template_rows": null,
            "height": null,
            "justify_content": null,
            "justify_items": null,
            "left": null,
            "margin": null,
            "max_height": null,
            "max_width": null,
            "min_height": null,
            "min_width": null,
            "object_fit": null,
            "object_position": null,
            "order": null,
            "overflow": null,
            "overflow_x": null,
            "overflow_y": null,
            "padding": null,
            "right": null,
            "top": null,
            "visibility": null,
            "width": null
          }
        },
        "79fce08fefc948d0bec02db61a6ab21b": {
          "model_module": "@jupyter-widgets/controls",
          "model_module_version": "1.5.0",
          "model_name": "DescriptionStyleModel",
          "state": {
            "_model_module": "@jupyter-widgets/controls",
            "_model_module_version": "1.5.0",
            "_model_name": "DescriptionStyleModel",
            "_view_count": null,
            "_view_module": "@jupyter-widgets/base",
            "_view_module_version": "1.2.0",
            "_view_name": "StyleView",
            "description_width": ""
          }
        },
        "7a84047d2b724edd891ca63b5741a43b": {
          "model_module": "@jupyter-widgets/base",
          "model_module_version": "1.2.0",
          "model_name": "LayoutModel",
          "state": {
            "_model_module": "@jupyter-widgets/base",
            "_model_module_version": "1.2.0",
            "_model_name": "LayoutModel",
            "_view_count": null,
            "_view_module": "@jupyter-widgets/base",
            "_view_module_version": "1.2.0",
            "_view_name": "LayoutView",
            "align_content": null,
            "align_items": null,
            "align_self": null,
            "border": null,
            "bottom": null,
            "display": null,
            "flex": null,
            "flex_flow": null,
            "grid_area": null,
            "grid_auto_columns": null,
            "grid_auto_flow": null,
            "grid_auto_rows": null,
            "grid_column": null,
            "grid_gap": null,
            "grid_row": null,
            "grid_template_areas": null,
            "grid_template_columns": null,
            "grid_template_rows": null,
            "height": null,
            "justify_content": null,
            "justify_items": null,
            "left": null,
            "margin": null,
            "max_height": null,
            "max_width": null,
            "min_height": null,
            "min_width": null,
            "object_fit": null,
            "object_position": null,
            "order": null,
            "overflow": null,
            "overflow_x": null,
            "overflow_y": null,
            "padding": null,
            "right": null,
            "top": null,
            "visibility": null,
            "width": null
          }
        },
        "7c0ead4589784ecb8d5380a895fe1c41": {
          "model_module": "@jupyter-widgets/controls",
          "model_module_version": "1.5.0",
          "model_name": "ProgressStyleModel",
          "state": {
            "_model_module": "@jupyter-widgets/controls",
            "_model_module_version": "1.5.0",
            "_model_name": "ProgressStyleModel",
            "_view_count": null,
            "_view_module": "@jupyter-widgets/base",
            "_view_module_version": "1.2.0",
            "_view_name": "StyleView",
            "bar_color": null,
            "description_width": ""
          }
        },
        "7c8f4bf420754b538baea7a420b6a76a": {
          "model_module": "@jupyter-widgets/controls",
          "model_module_version": "1.5.0",
          "model_name": "DescriptionStyleModel",
          "state": {
            "_model_module": "@jupyter-widgets/controls",
            "_model_module_version": "1.5.0",
            "_model_name": "DescriptionStyleModel",
            "_view_count": null,
            "_view_module": "@jupyter-widgets/base",
            "_view_module_version": "1.2.0",
            "_view_name": "StyleView",
            "description_width": ""
          }
        },
        "7cfc3038a06249819e2496f7e0571b89": {
          "model_module": "@jupyter-widgets/controls",
          "model_module_version": "1.5.0",
          "model_name": "HTMLModel",
          "state": {
            "_dom_classes": [],
            "_model_module": "@jupyter-widgets/controls",
            "_model_module_version": "1.5.0",
            "_model_name": "HTMLModel",
            "_view_count": null,
            "_view_module": "@jupyter-widgets/controls",
            "_view_module_version": "1.5.0",
            "_view_name": "HTMLView",
            "description": "",
            "description_tooltip": null,
            "layout": "IPY_MODEL_ec3472c7d29b4ad0ab91e3c2f6874bd5",
            "placeholder": "​",
            "style": "IPY_MODEL_2b4f209c6c3c46abaa0d5a83cb10ae38",
            "value": "Generating Scenarios: 100%"
          }
        },
        "7d5ccb84254b461da11bd8045424bc30": {
          "model_module": "@jupyter-widgets/base",
          "model_module_version": "1.2.0",
          "model_name": "LayoutModel",
          "state": {
            "_model_module": "@jupyter-widgets/base",
            "_model_module_version": "1.2.0",
            "_model_name": "LayoutModel",
            "_view_count": null,
            "_view_module": "@jupyter-widgets/base",
            "_view_module_version": "1.2.0",
            "_view_name": "LayoutView",
            "align_content": null,
            "align_items": null,
            "align_self": null,
            "border": null,
            "bottom": null,
            "display": null,
            "flex": null,
            "flex_flow": null,
            "grid_area": null,
            "grid_auto_columns": null,
            "grid_auto_flow": null,
            "grid_auto_rows": null,
            "grid_column": null,
            "grid_gap": null,
            "grid_row": null,
            "grid_template_areas": null,
            "grid_template_columns": null,
            "grid_template_rows": null,
            "height": null,
            "justify_content": null,
            "justify_items": null,
            "left": null,
            "margin": null,
            "max_height": null,
            "max_width": null,
            "min_height": null,
            "min_width": null,
            "object_fit": null,
            "object_position": null,
            "order": null,
            "overflow": null,
            "overflow_x": null,
            "overflow_y": null,
            "padding": null,
            "right": null,
            "top": null,
            "visibility": null,
            "width": null
          }
        },
        "810264507cae4987b88531845ca03921": {
          "model_module": "@jupyter-widgets/controls",
          "model_module_version": "1.5.0",
          "model_name": "DescriptionStyleModel",
          "state": {
            "_model_module": "@jupyter-widgets/controls",
            "_model_module_version": "1.5.0",
            "_model_name": "DescriptionStyleModel",
            "_view_count": null,
            "_view_module": "@jupyter-widgets/base",
            "_view_module_version": "1.2.0",
            "_view_name": "StyleView",
            "description_width": ""
          }
        },
        "8299304353ff46b597fdadeacddabdf5": {
          "model_module": "@jupyter-widgets/controls",
          "model_module_version": "1.5.0",
          "model_name": "HTMLModel",
          "state": {
            "_dom_classes": [],
            "_model_module": "@jupyter-widgets/controls",
            "_model_module_version": "1.5.0",
            "_model_name": "HTMLModel",
            "_view_count": null,
            "_view_module": "@jupyter-widgets/controls",
            "_view_module_version": "1.5.0",
            "_view_name": "HTMLView",
            "description": "",
            "description_tooltip": null,
            "layout": "IPY_MODEL_f5a56214fe25441e8a5004ec76476a94",
            "placeholder": "​",
            "style": "IPY_MODEL_3230d232b04448fe9a68a204b46bc91c",
            "value": "Applying SummaryExtractor: 100%"
          }
        },
        "837e33bad8be4a6d8722ca878b9d409e": {
          "model_module": "@jupyter-widgets/base",
          "model_module_version": "1.2.0",
          "model_name": "LayoutModel",
          "state": {
            "_model_module": "@jupyter-widgets/base",
            "_model_module_version": "1.2.0",
            "_model_name": "LayoutModel",
            "_view_count": null,
            "_view_module": "@jupyter-widgets/base",
            "_view_module_version": "1.2.0",
            "_view_name": "LayoutView",
            "align_content": null,
            "align_items": null,
            "align_self": null,
            "border": null,
            "bottom": null,
            "display": null,
            "flex": null,
            "flex_flow": null,
            "grid_area": null,
            "grid_auto_columns": null,
            "grid_auto_flow": null,
            "grid_auto_rows": null,
            "grid_column": null,
            "grid_gap": null,
            "grid_row": null,
            "grid_template_areas": null,
            "grid_template_columns": null,
            "grid_template_rows": null,
            "height": null,
            "justify_content": null,
            "justify_items": null,
            "left": null,
            "margin": null,
            "max_height": null,
            "max_width": null,
            "min_height": null,
            "min_width": null,
            "object_fit": null,
            "object_position": null,
            "order": null,
            "overflow": null,
            "overflow_x": null,
            "overflow_y": null,
            "padding": null,
            "right": null,
            "top": null,
            "visibility": null,
            "width": null
          }
        },
        "8723f89faf044f97b5abfa3666404497": {
          "model_module": "@jupyter-widgets/base",
          "model_module_version": "1.2.0",
          "model_name": "LayoutModel",
          "state": {
            "_model_module": "@jupyter-widgets/base",
            "_model_module_version": "1.2.0",
            "_model_name": "LayoutModel",
            "_view_count": null,
            "_view_module": "@jupyter-widgets/base",
            "_view_module_version": "1.2.0",
            "_view_name": "LayoutView",
            "align_content": null,
            "align_items": null,
            "align_self": null,
            "border": null,
            "bottom": null,
            "display": null,
            "flex": null,
            "flex_flow": null,
            "grid_area": null,
            "grid_auto_columns": null,
            "grid_auto_flow": null,
            "grid_auto_rows": null,
            "grid_column": null,
            "grid_gap": null,
            "grid_row": null,
            "grid_template_areas": null,
            "grid_template_columns": null,
            "grid_template_rows": null,
            "height": null,
            "justify_content": null,
            "justify_items": null,
            "left": null,
            "margin": null,
            "max_height": null,
            "max_width": null,
            "min_height": null,
            "min_width": null,
            "object_fit": null,
            "object_position": null,
            "order": null,
            "overflow": null,
            "overflow_x": null,
            "overflow_y": null,
            "padding": null,
            "right": null,
            "top": null,
            "visibility": null,
            "width": null
          }
        },
        "8b77a827824440d6b53f4a14346c0d70": {
          "model_module": "@jupyter-widgets/base",
          "model_module_version": "1.2.0",
          "model_name": "LayoutModel",
          "state": {
            "_model_module": "@jupyter-widgets/base",
            "_model_module_version": "1.2.0",
            "_model_name": "LayoutModel",
            "_view_count": null,
            "_view_module": "@jupyter-widgets/base",
            "_view_module_version": "1.2.0",
            "_view_name": "LayoutView",
            "align_content": null,
            "align_items": null,
            "align_self": null,
            "border": null,
            "bottom": null,
            "display": null,
            "flex": null,
            "flex_flow": null,
            "grid_area": null,
            "grid_auto_columns": null,
            "grid_auto_flow": null,
            "grid_auto_rows": null,
            "grid_column": null,
            "grid_gap": null,
            "grid_row": null,
            "grid_template_areas": null,
            "grid_template_columns": null,
            "grid_template_rows": null,
            "height": null,
            "justify_content": null,
            "justify_items": null,
            "left": null,
            "margin": null,
            "max_height": null,
            "max_width": null,
            "min_height": null,
            "min_width": null,
            "object_fit": null,
            "object_position": null,
            "order": null,
            "overflow": null,
            "overflow_x": null,
            "overflow_y": null,
            "padding": null,
            "right": null,
            "top": null,
            "visibility": null,
            "width": null
          }
        },
        "8ba70976ee1c451184f77494d8c47c7d": {
          "model_module": "@jupyter-widgets/base",
          "model_module_version": "1.2.0",
          "model_name": "LayoutModel",
          "state": {
            "_model_module": "@jupyter-widgets/base",
            "_model_module_version": "1.2.0",
            "_model_name": "LayoutModel",
            "_view_count": null,
            "_view_module": "@jupyter-widgets/base",
            "_view_module_version": "1.2.0",
            "_view_name": "LayoutView",
            "align_content": null,
            "align_items": null,
            "align_self": null,
            "border": null,
            "bottom": null,
            "display": null,
            "flex": null,
            "flex_flow": null,
            "grid_area": null,
            "grid_auto_columns": null,
            "grid_auto_flow": null,
            "grid_auto_rows": null,
            "grid_column": null,
            "grid_gap": null,
            "grid_row": null,
            "grid_template_areas": null,
            "grid_template_columns": null,
            "grid_template_rows": null,
            "height": null,
            "justify_content": null,
            "justify_items": null,
            "left": null,
            "margin": null,
            "max_height": null,
            "max_width": null,
            "min_height": null,
            "min_width": null,
            "object_fit": null,
            "object_position": null,
            "order": null,
            "overflow": null,
            "overflow_x": null,
            "overflow_y": null,
            "padding": null,
            "right": null,
            "top": null,
            "visibility": null,
            "width": null
          }
        },
        "8be24cac973b4db7a85ab46581c1efb7": {
          "model_module": "@jupyter-widgets/base",
          "model_module_version": "1.2.0",
          "model_name": "LayoutModel",
          "state": {
            "_model_module": "@jupyter-widgets/base",
            "_model_module_version": "1.2.0",
            "_model_name": "LayoutModel",
            "_view_count": null,
            "_view_module": "@jupyter-widgets/base",
            "_view_module_version": "1.2.0",
            "_view_name": "LayoutView",
            "align_content": null,
            "align_items": null,
            "align_self": null,
            "border": null,
            "bottom": null,
            "display": null,
            "flex": null,
            "flex_flow": null,
            "grid_area": null,
            "grid_auto_columns": null,
            "grid_auto_flow": null,
            "grid_auto_rows": null,
            "grid_column": null,
            "grid_gap": null,
            "grid_row": null,
            "grid_template_areas": null,
            "grid_template_columns": null,
            "grid_template_rows": null,
            "height": null,
            "justify_content": null,
            "justify_items": null,
            "left": null,
            "margin": null,
            "max_height": null,
            "max_width": null,
            "min_height": null,
            "min_width": null,
            "object_fit": null,
            "object_position": null,
            "order": null,
            "overflow": null,
            "overflow_x": null,
            "overflow_y": null,
            "padding": null,
            "right": null,
            "top": null,
            "visibility": null,
            "width": null
          }
        },
        "8c251e4b43214ca894f136c5397b4a94": {
          "model_module": "@jupyter-widgets/base",
          "model_module_version": "1.2.0",
          "model_name": "LayoutModel",
          "state": {
            "_model_module": "@jupyter-widgets/base",
            "_model_module_version": "1.2.0",
            "_model_name": "LayoutModel",
            "_view_count": null,
            "_view_module": "@jupyter-widgets/base",
            "_view_module_version": "1.2.0",
            "_view_name": "LayoutView",
            "align_content": null,
            "align_items": null,
            "align_self": null,
            "border": null,
            "bottom": null,
            "display": null,
            "flex": null,
            "flex_flow": null,
            "grid_area": null,
            "grid_auto_columns": null,
            "grid_auto_flow": null,
            "grid_auto_rows": null,
            "grid_column": null,
            "grid_gap": null,
            "grid_row": null,
            "grid_template_areas": null,
            "grid_template_columns": null,
            "grid_template_rows": null,
            "height": null,
            "justify_content": null,
            "justify_items": null,
            "left": null,
            "margin": null,
            "max_height": null,
            "max_width": null,
            "min_height": null,
            "min_width": null,
            "object_fit": null,
            "object_position": null,
            "order": null,
            "overflow": null,
            "overflow_x": null,
            "overflow_y": null,
            "padding": null,
            "right": null,
            "top": null,
            "visibility": null,
            "width": null
          }
        },
        "8e87eb2bff19452ab778993dbc1a2586": {
          "model_module": "@jupyter-widgets/controls",
          "model_module_version": "1.5.0",
          "model_name": "HTMLModel",
          "state": {
            "_dom_classes": [],
            "_model_module": "@jupyter-widgets/controls",
            "_model_module_version": "1.5.0",
            "_model_name": "HTMLModel",
            "_view_count": null,
            "_view_module": "@jupyter-widgets/controls",
            "_view_module_version": "1.5.0",
            "_view_name": "HTMLView",
            "description": "",
            "description_tooltip": null,
            "layout": "IPY_MODEL_8be24cac973b4db7a85ab46581c1efb7",
            "placeholder": "​",
            "style": "IPY_MODEL_cbe80c1e537a413ebe0f5a98038148d6",
            "value": " 2/2 [00:03&lt;00:00,  1.64s/it]"
          }
        },
        "8f986d822b964e969ad20d1b1088dec9": {
          "model_module": "@jupyter-widgets/base",
          "model_module_version": "1.2.0",
          "model_name": "LayoutModel",
          "state": {
            "_model_module": "@jupyter-widgets/base",
            "_model_module_version": "1.2.0",
            "_model_name": "LayoutModel",
            "_view_count": null,
            "_view_module": "@jupyter-widgets/base",
            "_view_module_version": "1.2.0",
            "_view_name": "LayoutView",
            "align_content": null,
            "align_items": null,
            "align_self": null,
            "border": null,
            "bottom": null,
            "display": null,
            "flex": null,
            "flex_flow": null,
            "grid_area": null,
            "grid_auto_columns": null,
            "grid_auto_flow": null,
            "grid_auto_rows": null,
            "grid_column": null,
            "grid_gap": null,
            "grid_row": null,
            "grid_template_areas": null,
            "grid_template_columns": null,
            "grid_template_rows": null,
            "height": null,
            "justify_content": null,
            "justify_items": null,
            "left": null,
            "margin": null,
            "max_height": null,
            "max_width": null,
            "min_height": null,
            "min_width": null,
            "object_fit": null,
            "object_position": null,
            "order": null,
            "overflow": null,
            "overflow_x": null,
            "overflow_y": null,
            "padding": null,
            "right": null,
            "top": null,
            "visibility": null,
            "width": null
          }
        },
        "8fe50cb21cf9449e94efe57920440845": {
          "model_module": "@jupyter-widgets/controls",
          "model_module_version": "1.5.0",
          "model_name": "DescriptionStyleModel",
          "state": {
            "_model_module": "@jupyter-widgets/controls",
            "_model_module_version": "1.5.0",
            "_model_name": "DescriptionStyleModel",
            "_view_count": null,
            "_view_module": "@jupyter-widgets/base",
            "_view_module_version": "1.2.0",
            "_view_name": "StyleView",
            "description_width": ""
          }
        },
        "96426fde6b9542208f45409965d0216c": {
          "model_module": "@jupyter-widgets/controls",
          "model_module_version": "1.5.0",
          "model_name": "DescriptionStyleModel",
          "state": {
            "_model_module": "@jupyter-widgets/controls",
            "_model_module_version": "1.5.0",
            "_model_name": "DescriptionStyleModel",
            "_view_count": null,
            "_view_module": "@jupyter-widgets/base",
            "_view_module_version": "1.2.0",
            "_view_name": "StyleView",
            "description_width": ""
          }
        },
        "96b1fb2a1577445d9778ad65da0abdbb": {
          "model_module": "@jupyter-widgets/base",
          "model_module_version": "1.2.0",
          "model_name": "LayoutModel",
          "state": {
            "_model_module": "@jupyter-widgets/base",
            "_model_module_version": "1.2.0",
            "_model_name": "LayoutModel",
            "_view_count": null,
            "_view_module": "@jupyter-widgets/base",
            "_view_module_version": "1.2.0",
            "_view_name": "LayoutView",
            "align_content": null,
            "align_items": null,
            "align_self": null,
            "border": null,
            "bottom": null,
            "display": null,
            "flex": null,
            "flex_flow": null,
            "grid_area": null,
            "grid_auto_columns": null,
            "grid_auto_flow": null,
            "grid_auto_rows": null,
            "grid_column": null,
            "grid_gap": null,
            "grid_row": null,
            "grid_template_areas": null,
            "grid_template_columns": null,
            "grid_template_rows": null,
            "height": null,
            "justify_content": null,
            "justify_items": null,
            "left": null,
            "margin": null,
            "max_height": null,
            "max_width": null,
            "min_height": null,
            "min_width": null,
            "object_fit": null,
            "object_position": null,
            "order": null,
            "overflow": null,
            "overflow_x": null,
            "overflow_y": null,
            "padding": null,
            "right": null,
            "top": null,
            "visibility": "hidden",
            "width": null
          }
        },
        "970b83c42f4f4d7ebb252c4f26f6ea56": {
          "model_module": "@jupyter-widgets/controls",
          "model_module_version": "1.5.0",
          "model_name": "FloatProgressModel",
          "state": {
            "_dom_classes": [],
            "_model_module": "@jupyter-widgets/controls",
            "_model_module_version": "1.5.0",
            "_model_name": "FloatProgressModel",
            "_view_count": null,
            "_view_module": "@jupyter-widgets/controls",
            "_view_module_version": "1.5.0",
            "_view_name": "ProgressView",
            "bar_style": "success",
            "description": "",
            "description_tooltip": null,
            "layout": "IPY_MODEL_837e33bad8be4a6d8722ca878b9d409e",
            "max": 2,
            "min": 0,
            "orientation": "horizontal",
            "style": "IPY_MODEL_559b618c027e4f12bfe58286b208c9b4",
            "value": 2
          }
        },
        "9e0794e92f9646ab8aa21f0ec0ed7981": {
          "model_module": "@jupyter-widgets/controls",
          "model_module_version": "1.5.0",
          "model_name": "ProgressStyleModel",
          "state": {
            "_model_module": "@jupyter-widgets/controls",
            "_model_module_version": "1.5.0",
            "_model_name": "ProgressStyleModel",
            "_view_count": null,
            "_view_module": "@jupyter-widgets/base",
            "_view_module_version": "1.2.0",
            "_view_name": "StyleView",
            "bar_color": null,
            "description_width": ""
          }
        },
        "9e837089e2ed4366b518306993092ede": {
          "model_module": "@jupyter-widgets/controls",
          "model_module_version": "1.5.0",
          "model_name": "FloatProgressModel",
          "state": {
            "_dom_classes": [],
            "_model_module": "@jupyter-widgets/controls",
            "_model_module_version": "1.5.0",
            "_model_name": "FloatProgressModel",
            "_view_count": null,
            "_view_module": "@jupyter-widgets/controls",
            "_view_module_version": "1.5.0",
            "_view_name": "ProgressView",
            "bar_style": "success",
            "description": "",
            "description_tooltip": null,
            "layout": "IPY_MODEL_31981ef797934adebeba357626d4e287",
            "max": 72,
            "min": 0,
            "orientation": "horizontal",
            "style": "IPY_MODEL_66e038d8569b43fb8adc5211537fccef",
            "value": 72
          }
        },
        "a06cc5c232fe415c80c3a468b29ccc66": {
          "model_module": "@jupyter-widgets/base",
          "model_module_version": "1.2.0",
          "model_name": "LayoutModel",
          "state": {
            "_model_module": "@jupyter-widgets/base",
            "_model_module_version": "1.2.0",
            "_model_name": "LayoutModel",
            "_view_count": null,
            "_view_module": "@jupyter-widgets/base",
            "_view_module_version": "1.2.0",
            "_view_name": "LayoutView",
            "align_content": null,
            "align_items": null,
            "align_self": null,
            "border": null,
            "bottom": null,
            "display": null,
            "flex": null,
            "flex_flow": null,
            "grid_area": null,
            "grid_auto_columns": null,
            "grid_auto_flow": null,
            "grid_auto_rows": null,
            "grid_column": null,
            "grid_gap": null,
            "grid_row": null,
            "grid_template_areas": null,
            "grid_template_columns": null,
            "grid_template_rows": null,
            "height": null,
            "justify_content": null,
            "justify_items": null,
            "left": null,
            "margin": null,
            "max_height": null,
            "max_width": null,
            "min_height": null,
            "min_width": null,
            "object_fit": null,
            "object_position": null,
            "order": null,
            "overflow": null,
            "overflow_x": null,
            "overflow_y": null,
            "padding": null,
            "right": null,
            "top": null,
            "visibility": null,
            "width": null
          }
        },
        "a37137bd3fad4362bef3817ae7ad2ad9": {
          "model_module": "@jupyter-widgets/controls",
          "model_module_version": "1.5.0",
          "model_name": "HTMLModel",
          "state": {
            "_dom_classes": [],
            "_model_module": "@jupyter-widgets/controls",
            "_model_module_version": "1.5.0",
            "_model_name": "HTMLModel",
            "_view_count": null,
            "_view_module": "@jupyter-widgets/controls",
            "_view_module_version": "1.5.0",
            "_view_name": "HTMLView",
            "description": "",
            "description_tooltip": null,
            "layout": "IPY_MODEL_74ac36e0ca6c4a3ba53d070b37b9f1aa",
            "placeholder": "​",
            "style": "IPY_MODEL_ba53eab6f7e441569d2a16aa8f26511d",
            "value": " 9/12 [00:00&lt;00:00, 13.99it/s]"
          }
        },
        "a5e6260095bf4ca6bce229adfe9c3fbe": {
          "model_module": "@jupyter-widgets/controls",
          "model_module_version": "1.5.0",
          "model_name": "FloatProgressModel",
          "state": {
            "_dom_classes": [],
            "_model_module": "@jupyter-widgets/controls",
            "_model_module_version": "1.5.0",
            "_model_name": "FloatProgressModel",
            "_view_count": null,
            "_view_module": "@jupyter-widgets/controls",
            "_view_module_version": "1.5.0",
            "_view_name": "ProgressView",
            "bar_style": "",
            "description": "",
            "description_tooltip": null,
            "layout": "IPY_MODEL_cb12c0b6145b48908ca058e0a7282828",
            "max": 2,
            "min": 0,
            "orientation": "horizontal",
            "style": "IPY_MODEL_0107beec40af42ffa66b216070f97d5c",
            "value": 2
          }
        },
        "a604a0b844a94570be523a881c8455ba": {
          "model_module": "@jupyter-widgets/controls",
          "model_module_version": "1.5.0",
          "model_name": "HBoxModel",
          "state": {
            "_dom_classes": [],
            "_model_module": "@jupyter-widgets/controls",
            "_model_module_version": "1.5.0",
            "_model_name": "HBoxModel",
            "_view_count": null,
            "_view_module": "@jupyter-widgets/controls",
            "_view_module_version": "1.5.0",
            "_view_name": "HBoxView",
            "box_style": "",
            "children": [
              "IPY_MODEL_594a9d371fb4406e97630f35712d276c",
              "IPY_MODEL_d52c4da39f564a12ba46044e0797eb95",
              "IPY_MODEL_25baeb72f87d4e5ba0e8c10bcf3afd58"
            ],
            "layout": "IPY_MODEL_96b1fb2a1577445d9778ad65da0abdbb"
          }
        },
        "a74c472ad4ff49d49dd6648ce89f5471": {
          "model_module": "@jupyter-widgets/controls",
          "model_module_version": "1.5.0",
          "model_name": "HBoxModel",
          "state": {
            "_dom_classes": [],
            "_model_module": "@jupyter-widgets/controls",
            "_model_module_version": "1.5.0",
            "_model_name": "HBoxModel",
            "_view_count": null,
            "_view_module": "@jupyter-widgets/controls",
            "_view_module_version": "1.5.0",
            "_view_name": "HBoxView",
            "box_style": "",
            "children": [
              "IPY_MODEL_b12c215bb97e49fea6129d7ca7cdcc6b",
              "IPY_MODEL_f37518d278b34353a38bcc50f8743959",
              "IPY_MODEL_2d888020728341a6ad146908634a6a2f"
            ],
            "layout": "IPY_MODEL_1ea4551d38bc4e3ea2a99eb62e6bf942"
          }
        },
        "ab759276b57d4de6acefd71e01bcacc6": {
          "model_module": "@jupyter-widgets/base",
          "model_module_version": "1.2.0",
          "model_name": "LayoutModel",
          "state": {
            "_model_module": "@jupyter-widgets/base",
            "_model_module_version": "1.2.0",
            "_model_name": "LayoutModel",
            "_view_count": null,
            "_view_module": "@jupyter-widgets/base",
            "_view_module_version": "1.2.0",
            "_view_name": "LayoutView",
            "align_content": null,
            "align_items": null,
            "align_self": null,
            "border": null,
            "bottom": null,
            "display": null,
            "flex": null,
            "flex_flow": null,
            "grid_area": null,
            "grid_auto_columns": null,
            "grid_auto_flow": null,
            "grid_auto_rows": null,
            "grid_column": null,
            "grid_gap": null,
            "grid_row": null,
            "grid_template_areas": null,
            "grid_template_columns": null,
            "grid_template_rows": null,
            "height": null,
            "justify_content": null,
            "justify_items": null,
            "left": null,
            "margin": null,
            "max_height": null,
            "max_width": null,
            "min_height": null,
            "min_width": null,
            "object_fit": null,
            "object_position": null,
            "order": null,
            "overflow": null,
            "overflow_x": null,
            "overflow_y": null,
            "padding": null,
            "right": null,
            "top": null,
            "visibility": null,
            "width": null
          }
        },
        "ae2cb8aa76424c01b0e39988cba92f0a": {
          "model_module": "@jupyter-widgets/controls",
          "model_module_version": "1.5.0",
          "model_name": "HTMLModel",
          "state": {
            "_dom_classes": [],
            "_model_module": "@jupyter-widgets/controls",
            "_model_module_version": "1.5.0",
            "_model_name": "HTMLModel",
            "_view_count": null,
            "_view_module": "@jupyter-widgets/controls",
            "_view_module_version": "1.5.0",
            "_view_name": "HTMLView",
            "description": "",
            "description_tooltip": null,
            "layout": "IPY_MODEL_a06cc5c232fe415c80c3a468b29ccc66",
            "placeholder": "​",
            "style": "IPY_MODEL_d06dd06393844bbc8e176fea19a4e142",
            "value": "Evaluating: 100%"
          }
        },
        "b09b0c42e0364396aee593f2ba1f18a2": {
          "model_module": "@jupyter-widgets/controls",
          "model_module_version": "1.5.0",
          "model_name": "HBoxModel",
          "state": {
            "_dom_classes": [],
            "_model_module": "@jupyter-widgets/controls",
            "_model_module_version": "1.5.0",
            "_model_name": "HBoxModel",
            "_view_count": null,
            "_view_module": "@jupyter-widgets/controls",
            "_view_module_version": "1.5.0",
            "_view_name": "HBoxView",
            "box_style": "",
            "children": [
              "IPY_MODEL_ae2cb8aa76424c01b0e39988cba92f0a",
              "IPY_MODEL_9e837089e2ed4366b518306993092ede",
              "IPY_MODEL_ccc8bd831acf490bb821cbe9a4d6ce5e"
            ],
            "layout": "IPY_MODEL_d7f40417bcb24600b0e562fe2be29560"
          }
        },
        "b12c215bb97e49fea6129d7ca7cdcc6b": {
          "model_module": "@jupyter-widgets/controls",
          "model_module_version": "1.5.0",
          "model_name": "HTMLModel",
          "state": {
            "_dom_classes": [],
            "_model_module": "@jupyter-widgets/controls",
            "_model_module_version": "1.5.0",
            "_model_name": "HTMLModel",
            "_view_count": null,
            "_view_module": "@jupyter-widgets/controls",
            "_view_module_version": "1.5.0",
            "_view_name": "HTMLView",
            "description": "",
            "description_tooltip": null,
            "layout": "IPY_MODEL_da4d36932dad4270a94b003affc28333",
            "placeholder": "​",
            "style": "IPY_MODEL_675034bd626b4c528eb77e35e4087191",
            "value": "Applying HeadlineSplitter:   0%"
          }
        },
        "b38eb659d045417cb0e05a4486a83590": {
          "model_module": "@jupyter-widgets/controls",
          "model_module_version": "1.5.0",
          "model_name": "HBoxModel",
          "state": {
            "_dom_classes": [],
            "_model_module": "@jupyter-widgets/controls",
            "_model_module_version": "1.5.0",
            "_model_name": "HBoxModel",
            "_view_count": null,
            "_view_module": "@jupyter-widgets/controls",
            "_view_module_version": "1.5.0",
            "_view_name": "HBoxView",
            "box_style": "",
            "children": [
              "IPY_MODEL_7cfc3038a06249819e2496f7e0571b89",
              "IPY_MODEL_01fa9def167548fba96e573921712950",
              "IPY_MODEL_7288a537b3034e499797d2c3294f8383"
            ],
            "layout": "IPY_MODEL_f3c9086c454841f6914e299a11f7d217"
          }
        },
        "ba29aad6b8d74a09ad347ce8648deeab": {
          "model_module": "@jupyter-widgets/base",
          "model_module_version": "1.2.0",
          "model_name": "LayoutModel",
          "state": {
            "_model_module": "@jupyter-widgets/base",
            "_model_module_version": "1.2.0",
            "_model_name": "LayoutModel",
            "_view_count": null,
            "_view_module": "@jupyter-widgets/base",
            "_view_module_version": "1.2.0",
            "_view_name": "LayoutView",
            "align_content": null,
            "align_items": null,
            "align_self": null,
            "border": null,
            "bottom": null,
            "display": null,
            "flex": null,
            "flex_flow": null,
            "grid_area": null,
            "grid_auto_columns": null,
            "grid_auto_flow": null,
            "grid_auto_rows": null,
            "grid_column": null,
            "grid_gap": null,
            "grid_row": null,
            "grid_template_areas": null,
            "grid_template_columns": null,
            "grid_template_rows": null,
            "height": null,
            "justify_content": null,
            "justify_items": null,
            "left": null,
            "margin": null,
            "max_height": null,
            "max_width": null,
            "min_height": null,
            "min_width": null,
            "object_fit": null,
            "object_position": null,
            "order": null,
            "overflow": null,
            "overflow_x": null,
            "overflow_y": null,
            "padding": null,
            "right": null,
            "top": null,
            "visibility": null,
            "width": null
          }
        },
        "ba53eab6f7e441569d2a16aa8f26511d": {
          "model_module": "@jupyter-widgets/controls",
          "model_module_version": "1.5.0",
          "model_name": "DescriptionStyleModel",
          "state": {
            "_model_module": "@jupyter-widgets/controls",
            "_model_module_version": "1.5.0",
            "_model_name": "DescriptionStyleModel",
            "_view_count": null,
            "_view_module": "@jupyter-widgets/base",
            "_view_module_version": "1.2.0",
            "_view_name": "StyleView",
            "description_width": ""
          }
        },
        "bba06b49269840ea8247ecc85552050b": {
          "model_module": "@jupyter-widgets/base",
          "model_module_version": "1.2.0",
          "model_name": "LayoutModel",
          "state": {
            "_model_module": "@jupyter-widgets/base",
            "_model_module_version": "1.2.0",
            "_model_name": "LayoutModel",
            "_view_count": null,
            "_view_module": "@jupyter-widgets/base",
            "_view_module_version": "1.2.0",
            "_view_name": "LayoutView",
            "align_content": null,
            "align_items": null,
            "align_self": null,
            "border": null,
            "bottom": null,
            "display": null,
            "flex": null,
            "flex_flow": null,
            "grid_area": null,
            "grid_auto_columns": null,
            "grid_auto_flow": null,
            "grid_auto_rows": null,
            "grid_column": null,
            "grid_gap": null,
            "grid_row": null,
            "grid_template_areas": null,
            "grid_template_columns": null,
            "grid_template_rows": null,
            "height": null,
            "justify_content": null,
            "justify_items": null,
            "left": null,
            "margin": null,
            "max_height": null,
            "max_width": null,
            "min_height": null,
            "min_width": null,
            "object_fit": null,
            "object_position": null,
            "order": null,
            "overflow": null,
            "overflow_x": null,
            "overflow_y": null,
            "padding": null,
            "right": null,
            "top": null,
            "visibility": null,
            "width": null
          }
        },
        "bda6a62b9fd143a3b0628e60580d23c9": {
          "model_module": "@jupyter-widgets/controls",
          "model_module_version": "1.5.0",
          "model_name": "HTMLModel",
          "state": {
            "_dom_classes": [],
            "_model_module": "@jupyter-widgets/controls",
            "_model_module_version": "1.5.0",
            "_model_name": "HTMLModel",
            "_view_count": null,
            "_view_module": "@jupyter-widgets/controls",
            "_view_module_version": "1.5.0",
            "_view_name": "HTMLView",
            "description": "",
            "description_tooltip": null,
            "layout": "IPY_MODEL_fd71a316693343cc9a92fae9471a2f6e",
            "placeholder": "​",
            "style": "IPY_MODEL_35e6cd723807485f81eb053c2c92b96c",
            "value": "Generating personas: 100%"
          }
        },
        "be4c08a6cdb54d23a32b283379fdea8e": {
          "model_module": "@jupyter-widgets/base",
          "model_module_version": "1.2.0",
          "model_name": "LayoutModel",
          "state": {
            "_model_module": "@jupyter-widgets/base",
            "_model_module_version": "1.2.0",
            "_model_name": "LayoutModel",
            "_view_count": null,
            "_view_module": "@jupyter-widgets/base",
            "_view_module_version": "1.2.0",
            "_view_name": "LayoutView",
            "align_content": null,
            "align_items": null,
            "align_self": null,
            "border": null,
            "bottom": null,
            "display": null,
            "flex": null,
            "flex_flow": null,
            "grid_area": null,
            "grid_auto_columns": null,
            "grid_auto_flow": null,
            "grid_auto_rows": null,
            "grid_column": null,
            "grid_gap": null,
            "grid_row": null,
            "grid_template_areas": null,
            "grid_template_columns": null,
            "grid_template_rows": null,
            "height": null,
            "justify_content": null,
            "justify_items": null,
            "left": null,
            "margin": null,
            "max_height": null,
            "max_width": null,
            "min_height": null,
            "min_width": null,
            "object_fit": null,
            "object_position": null,
            "order": null,
            "overflow": null,
            "overflow_x": null,
            "overflow_y": null,
            "padding": null,
            "right": null,
            "top": null,
            "visibility": "hidden",
            "width": null
          }
        },
        "bf73dc001ec14333975be942dc78df31": {
          "model_module": "@jupyter-widgets/controls",
          "model_module_version": "1.5.0",
          "model_name": "HBoxModel",
          "state": {
            "_dom_classes": [],
            "_model_module": "@jupyter-widgets/controls",
            "_model_module_version": "1.5.0",
            "_model_name": "HBoxModel",
            "_view_count": null,
            "_view_module": "@jupyter-widgets/controls",
            "_view_module_version": "1.5.0",
            "_view_name": "HBoxView",
            "box_style": "",
            "children": [
              "IPY_MODEL_ea51201a73a045de8579dafb17d70bec",
              "IPY_MODEL_a5e6260095bf4ca6bce229adfe9c3fbe",
              "IPY_MODEL_0e460f92c5a749efb198864545a124c0"
            ],
            "layout": "IPY_MODEL_4347f5ea75c74effbc9552cb69c82301"
          }
        },
        "c1b6cdf48bae4226a374ffbabb861ecc": {
          "model_module": "@jupyter-widgets/controls",
          "model_module_version": "1.5.0",
          "model_name": "FloatProgressModel",
          "state": {
            "_dom_classes": [],
            "_model_module": "@jupyter-widgets/controls",
            "_model_module_version": "1.5.0",
            "_model_name": "FloatProgressModel",
            "_view_count": null,
            "_view_module": "@jupyter-widgets/controls",
            "_view_module_version": "1.5.0",
            "_view_name": "ProgressView",
            "bar_style": "",
            "description": "",
            "description_tooltip": null,
            "layout": "IPY_MODEL_d9f54cd68cd8493fb1bc2a216eb15c03",
            "max": 2,
            "min": 0,
            "orientation": "horizontal",
            "style": "IPY_MODEL_4592465145b44c17a9acb5fcab9b2e8b",
            "value": 2
          }
        },
        "c40abe6ce691401ea8db2562b3b322fb": {
          "model_module": "@jupyter-widgets/controls",
          "model_module_version": "1.5.0",
          "model_name": "DescriptionStyleModel",
          "state": {
            "_model_module": "@jupyter-widgets/controls",
            "_model_module_version": "1.5.0",
            "_model_name": "DescriptionStyleModel",
            "_view_count": null,
            "_view_module": "@jupyter-widgets/base",
            "_view_module_version": "1.2.0",
            "_view_name": "StyleView",
            "description_width": ""
          }
        },
        "c4470c9d055c4b8793dda8dfc7496b83": {
          "model_module": "@jupyter-widgets/base",
          "model_module_version": "1.2.0",
          "model_name": "LayoutModel",
          "state": {
            "_model_module": "@jupyter-widgets/base",
            "_model_module_version": "1.2.0",
            "_model_name": "LayoutModel",
            "_view_count": null,
            "_view_module": "@jupyter-widgets/base",
            "_view_module_version": "1.2.0",
            "_view_name": "LayoutView",
            "align_content": null,
            "align_items": null,
            "align_self": null,
            "border": null,
            "bottom": null,
            "display": null,
            "flex": null,
            "flex_flow": null,
            "grid_area": null,
            "grid_auto_columns": null,
            "grid_auto_flow": null,
            "grid_auto_rows": null,
            "grid_column": null,
            "grid_gap": null,
            "grid_row": null,
            "grid_template_areas": null,
            "grid_template_columns": null,
            "grid_template_rows": null,
            "height": null,
            "justify_content": null,
            "justify_items": null,
            "left": null,
            "margin": null,
            "max_height": null,
            "max_width": null,
            "min_height": null,
            "min_width": null,
            "object_fit": null,
            "object_position": null,
            "order": null,
            "overflow": null,
            "overflow_x": null,
            "overflow_y": null,
            "padding": null,
            "right": null,
            "top": null,
            "visibility": null,
            "width": null
          }
        },
        "cb12c0b6145b48908ca058e0a7282828": {
          "model_module": "@jupyter-widgets/base",
          "model_module_version": "1.2.0",
          "model_name": "LayoutModel",
          "state": {
            "_model_module": "@jupyter-widgets/base",
            "_model_module_version": "1.2.0",
            "_model_name": "LayoutModel",
            "_view_count": null,
            "_view_module": "@jupyter-widgets/base",
            "_view_module_version": "1.2.0",
            "_view_name": "LayoutView",
            "align_content": null,
            "align_items": null,
            "align_self": null,
            "border": null,
            "bottom": null,
            "display": null,
            "flex": null,
            "flex_flow": null,
            "grid_area": null,
            "grid_auto_columns": null,
            "grid_auto_flow": null,
            "grid_auto_rows": null,
            "grid_column": null,
            "grid_gap": null,
            "grid_row": null,
            "grid_template_areas": null,
            "grid_template_columns": null,
            "grid_template_rows": null,
            "height": null,
            "justify_content": null,
            "justify_items": null,
            "left": null,
            "margin": null,
            "max_height": null,
            "max_width": null,
            "min_height": null,
            "min_width": null,
            "object_fit": null,
            "object_position": null,
            "order": null,
            "overflow": null,
            "overflow_x": null,
            "overflow_y": null,
            "padding": null,
            "right": null,
            "top": null,
            "visibility": null,
            "width": null
          }
        },
        "cbe80c1e537a413ebe0f5a98038148d6": {
          "model_module": "@jupyter-widgets/controls",
          "model_module_version": "1.5.0",
          "model_name": "DescriptionStyleModel",
          "state": {
            "_model_module": "@jupyter-widgets/controls",
            "_model_module_version": "1.5.0",
            "_model_name": "DescriptionStyleModel",
            "_view_count": null,
            "_view_module": "@jupyter-widgets/base",
            "_view_module_version": "1.2.0",
            "_view_name": "StyleView",
            "description_width": ""
          }
        },
        "ccc8bd831acf490bb821cbe9a4d6ce5e": {
          "model_module": "@jupyter-widgets/controls",
          "model_module_version": "1.5.0",
          "model_name": "HTMLModel",
          "state": {
            "_dom_classes": [],
            "_model_module": "@jupyter-widgets/controls",
            "_model_module_version": "1.5.0",
            "_model_name": "HTMLModel",
            "_view_count": null,
            "_view_module": "@jupyter-widgets/controls",
            "_view_module_version": "1.5.0",
            "_view_name": "HTMLView",
            "description": "",
            "description_tooltip": null,
            "layout": "IPY_MODEL_ab759276b57d4de6acefd71e01bcacc6",
            "placeholder": "​",
            "style": "IPY_MODEL_117883f62a654d6996c2f9f8464cd22b",
            "value": " 72/72 [04:58&lt;00:00, 15.82s/it]"
          }
        },
        "d06dd06393844bbc8e176fea19a4e142": {
          "model_module": "@jupyter-widgets/controls",
          "model_module_version": "1.5.0",
          "model_name": "DescriptionStyleModel",
          "state": {
            "_model_module": "@jupyter-widgets/controls",
            "_model_module_version": "1.5.0",
            "_model_name": "DescriptionStyleModel",
            "_view_count": null,
            "_view_module": "@jupyter-widgets/base",
            "_view_module_version": "1.2.0",
            "_view_name": "StyleView",
            "description_width": ""
          }
        },
        "d0718259769b46089abda354accc4de8": {
          "model_module": "@jupyter-widgets/controls",
          "model_module_version": "1.5.0",
          "model_name": "HBoxModel",
          "state": {
            "_dom_classes": [],
            "_model_module": "@jupyter-widgets/controls",
            "_model_module_version": "1.5.0",
            "_model_name": "HBoxModel",
            "_view_count": null,
            "_view_module": "@jupyter-widgets/controls",
            "_view_module_version": "1.5.0",
            "_view_name": "HBoxView",
            "box_style": "",
            "children": [
              "IPY_MODEL_df156fe12b7c4d1dbb4f688d7bd3c4a3",
              "IPY_MODEL_1f6cdc06bb18480aa341a732a2f1be13",
              "IPY_MODEL_e362bfd3e01241c6b20e2cf0a34db7a1"
            ],
            "layout": "IPY_MODEL_8ba70976ee1c451184f77494d8c47c7d"
          }
        },
        "d08cba8d32514ca2bb1e0d403ceadd7e": {
          "model_module": "@jupyter-widgets/base",
          "model_module_version": "1.2.0",
          "model_name": "LayoutModel",
          "state": {
            "_model_module": "@jupyter-widgets/base",
            "_model_module_version": "1.2.0",
            "_model_name": "LayoutModel",
            "_view_count": null,
            "_view_module": "@jupyter-widgets/base",
            "_view_module_version": "1.2.0",
            "_view_name": "LayoutView",
            "align_content": null,
            "align_items": null,
            "align_self": null,
            "border": null,
            "bottom": null,
            "display": null,
            "flex": null,
            "flex_flow": null,
            "grid_area": null,
            "grid_auto_columns": null,
            "grid_auto_flow": null,
            "grid_auto_rows": null,
            "grid_column": null,
            "grid_gap": null,
            "grid_row": null,
            "grid_template_areas": null,
            "grid_template_columns": null,
            "grid_template_rows": null,
            "height": null,
            "justify_content": null,
            "justify_items": null,
            "left": null,
            "margin": null,
            "max_height": null,
            "max_width": null,
            "min_height": null,
            "min_width": null,
            "object_fit": null,
            "object_position": null,
            "order": null,
            "overflow": null,
            "overflow_x": null,
            "overflow_y": null,
            "padding": null,
            "right": null,
            "top": null,
            "visibility": null,
            "width": null
          }
        },
        "d1b550cbeaef43a7a98ffbba97fb37ee": {
          "model_module": "@jupyter-widgets/controls",
          "model_module_version": "1.5.0",
          "model_name": "HTMLModel",
          "state": {
            "_dom_classes": [],
            "_model_module": "@jupyter-widgets/controls",
            "_model_module_version": "1.5.0",
            "_model_name": "HTMLModel",
            "_view_count": null,
            "_view_module": "@jupyter-widgets/controls",
            "_view_module_version": "1.5.0",
            "_view_name": "HTMLView",
            "description": "",
            "description_tooltip": null,
            "layout": "IPY_MODEL_f10fe2d8ed6e45b595e66db0a3f972a1",
            "placeholder": "​",
            "style": "IPY_MODEL_fe1cfe8194c142fdb11a4dd28e1adb00",
            "value": " 12/12 [00:04&lt;00:00,  3.98it/s]"
          }
        },
        "d1e5f706d17b4c27b0ce1cb127fdc891": {
          "model_module": "@jupyter-widgets/controls",
          "model_module_version": "1.5.0",
          "model_name": "HTMLModel",
          "state": {
            "_dom_classes": [],
            "_model_module": "@jupyter-widgets/controls",
            "_model_module_version": "1.5.0",
            "_model_name": "HTMLModel",
            "_view_count": null,
            "_view_module": "@jupyter-widgets/controls",
            "_view_module_version": "1.5.0",
            "_view_name": "HTMLView",
            "description": "",
            "description_tooltip": null,
            "layout": "IPY_MODEL_5d5df07e34d545ed9b2975034645c453",
            "placeholder": "​",
            "style": "IPY_MODEL_319b66f299064965b91ce4282dc9c280",
            "value": " 2/2 [00:01&lt;00:00,  1.35it/s]"
          }
        },
        "d390d71dd2694801a77b103a6a707da3": {
          "model_module": "@jupyter-widgets/controls",
          "model_module_version": "1.5.0",
          "model_name": "HBoxModel",
          "state": {
            "_dom_classes": [],
            "_model_module": "@jupyter-widgets/controls",
            "_model_module_version": "1.5.0",
            "_model_name": "HBoxModel",
            "_view_count": null,
            "_view_module": "@jupyter-widgets/controls",
            "_view_module_version": "1.5.0",
            "_view_name": "HBoxView",
            "box_style": "",
            "children": [
              "IPY_MODEL_11d272eb6b7146659e5c688ec04c8749",
              "IPY_MODEL_68599f8e85ef4fcba92ea891f75b5535",
              "IPY_MODEL_d1b550cbeaef43a7a98ffbba97fb37ee"
            ],
            "layout": "IPY_MODEL_d08cba8d32514ca2bb1e0d403ceadd7e"
          }
        },
        "d528743f9a0047778a7f808214fdf49c": {
          "model_module": "@jupyter-widgets/controls",
          "model_module_version": "1.5.0",
          "model_name": "FloatProgressModel",
          "state": {
            "_dom_classes": [],
            "_model_module": "@jupyter-widgets/controls",
            "_model_module_version": "1.5.0",
            "_model_name": "FloatProgressModel",
            "_view_count": null,
            "_view_module": "@jupyter-widgets/controls",
            "_view_module_version": "1.5.0",
            "_view_name": "ProgressView",
            "bar_style": "",
            "description": "",
            "description_tooltip": null,
            "layout": "IPY_MODEL_37831f1641db461e93e5011d343b5cb2",
            "max": 12,
            "min": 0,
            "orientation": "horizontal",
            "style": "IPY_MODEL_f69d31545a1045d4959e0640abe3409a",
            "value": 12
          }
        },
        "d52c4da39f564a12ba46044e0797eb95": {
          "model_module": "@jupyter-widgets/controls",
          "model_module_version": "1.5.0",
          "model_name": "FloatProgressModel",
          "state": {
            "_dom_classes": [],
            "_model_module": "@jupyter-widgets/controls",
            "_model_module_version": "1.5.0",
            "_model_name": "FloatProgressModel",
            "_view_count": null,
            "_view_module": "@jupyter-widgets/controls",
            "_view_module_version": "1.5.0",
            "_view_name": "ProgressView",
            "bar_style": "",
            "description": "",
            "description_tooltip": null,
            "layout": "IPY_MODEL_d6395d76874241cf87b37390a6c58424",
            "max": 26,
            "min": 0,
            "orientation": "horizontal",
            "style": "IPY_MODEL_35e71aea98cc41b7a090071a9d8ccde7",
            "value": 26
          }
        },
        "d6395d76874241cf87b37390a6c58424": {
          "model_module": "@jupyter-widgets/base",
          "model_module_version": "1.2.0",
          "model_name": "LayoutModel",
          "state": {
            "_model_module": "@jupyter-widgets/base",
            "_model_module_version": "1.2.0",
            "_model_name": "LayoutModel",
            "_view_count": null,
            "_view_module": "@jupyter-widgets/base",
            "_view_module_version": "1.2.0",
            "_view_name": "LayoutView",
            "align_content": null,
            "align_items": null,
            "align_self": null,
            "border": null,
            "bottom": null,
            "display": null,
            "flex": null,
            "flex_flow": null,
            "grid_area": null,
            "grid_auto_columns": null,
            "grid_auto_flow": null,
            "grid_auto_rows": null,
            "grid_column": null,
            "grid_gap": null,
            "grid_row": null,
            "grid_template_areas": null,
            "grid_template_columns": null,
            "grid_template_rows": null,
            "height": null,
            "justify_content": null,
            "justify_items": null,
            "left": null,
            "margin": null,
            "max_height": null,
            "max_width": null,
            "min_height": null,
            "min_width": null,
            "object_fit": null,
            "object_position": null,
            "order": null,
            "overflow": null,
            "overflow_x": null,
            "overflow_y": null,
            "padding": null,
            "right": null,
            "top": null,
            "visibility": null,
            "width": null
          }
        },
        "d64c39da94b148d4989fe271521dc967": {
          "model_module": "@jupyter-widgets/base",
          "model_module_version": "1.2.0",
          "model_name": "LayoutModel",
          "state": {
            "_model_module": "@jupyter-widgets/base",
            "_model_module_version": "1.2.0",
            "_model_name": "LayoutModel",
            "_view_count": null,
            "_view_module": "@jupyter-widgets/base",
            "_view_module_version": "1.2.0",
            "_view_name": "LayoutView",
            "align_content": null,
            "align_items": null,
            "align_self": null,
            "border": null,
            "bottom": null,
            "display": null,
            "flex": null,
            "flex_flow": null,
            "grid_area": null,
            "grid_auto_columns": null,
            "grid_auto_flow": null,
            "grid_auto_rows": null,
            "grid_column": null,
            "grid_gap": null,
            "grid_row": null,
            "grid_template_areas": null,
            "grid_template_columns": null,
            "grid_template_rows": null,
            "height": null,
            "justify_content": null,
            "justify_items": null,
            "left": null,
            "margin": null,
            "max_height": null,
            "max_width": null,
            "min_height": null,
            "min_width": null,
            "object_fit": null,
            "object_position": null,
            "order": null,
            "overflow": null,
            "overflow_x": null,
            "overflow_y": null,
            "padding": null,
            "right": null,
            "top": null,
            "visibility": "hidden",
            "width": null
          }
        },
        "d7f40417bcb24600b0e562fe2be29560": {
          "model_module": "@jupyter-widgets/base",
          "model_module_version": "1.2.0",
          "model_name": "LayoutModel",
          "state": {
            "_model_module": "@jupyter-widgets/base",
            "_model_module_version": "1.2.0",
            "_model_name": "LayoutModel",
            "_view_count": null,
            "_view_module": "@jupyter-widgets/base",
            "_view_module_version": "1.2.0",
            "_view_name": "LayoutView",
            "align_content": null,
            "align_items": null,
            "align_self": null,
            "border": null,
            "bottom": null,
            "display": null,
            "flex": null,
            "flex_flow": null,
            "grid_area": null,
            "grid_auto_columns": null,
            "grid_auto_flow": null,
            "grid_auto_rows": null,
            "grid_column": null,
            "grid_gap": null,
            "grid_row": null,
            "grid_template_areas": null,
            "grid_template_columns": null,
            "grid_template_rows": null,
            "height": null,
            "justify_content": null,
            "justify_items": null,
            "left": null,
            "margin": null,
            "max_height": null,
            "max_width": null,
            "min_height": null,
            "min_width": null,
            "object_fit": null,
            "object_position": null,
            "order": null,
            "overflow": null,
            "overflow_x": null,
            "overflow_y": null,
            "padding": null,
            "right": null,
            "top": null,
            "visibility": null,
            "width": null
          }
        },
        "d9f54cd68cd8493fb1bc2a216eb15c03": {
          "model_module": "@jupyter-widgets/base",
          "model_module_version": "1.2.0",
          "model_name": "LayoutModel",
          "state": {
            "_model_module": "@jupyter-widgets/base",
            "_model_module_version": "1.2.0",
            "_model_name": "LayoutModel",
            "_view_count": null,
            "_view_module": "@jupyter-widgets/base",
            "_view_module_version": "1.2.0",
            "_view_name": "LayoutView",
            "align_content": null,
            "align_items": null,
            "align_self": null,
            "border": null,
            "bottom": null,
            "display": null,
            "flex": null,
            "flex_flow": null,
            "grid_area": null,
            "grid_auto_columns": null,
            "grid_auto_flow": null,
            "grid_auto_rows": null,
            "grid_column": null,
            "grid_gap": null,
            "grid_row": null,
            "grid_template_areas": null,
            "grid_template_columns": null,
            "grid_template_rows": null,
            "height": null,
            "justify_content": null,
            "justify_items": null,
            "left": null,
            "margin": null,
            "max_height": null,
            "max_width": null,
            "min_height": null,
            "min_width": null,
            "object_fit": null,
            "object_position": null,
            "order": null,
            "overflow": null,
            "overflow_x": null,
            "overflow_y": null,
            "padding": null,
            "right": null,
            "top": null,
            "visibility": null,
            "width": null
          }
        },
        "da4d36932dad4270a94b003affc28333": {
          "model_module": "@jupyter-widgets/base",
          "model_module_version": "1.2.0",
          "model_name": "LayoutModel",
          "state": {
            "_model_module": "@jupyter-widgets/base",
            "_model_module_version": "1.2.0",
            "_model_name": "LayoutModel",
            "_view_count": null,
            "_view_module": "@jupyter-widgets/base",
            "_view_module_version": "1.2.0",
            "_view_name": "LayoutView",
            "align_content": null,
            "align_items": null,
            "align_self": null,
            "border": null,
            "bottom": null,
            "display": null,
            "flex": null,
            "flex_flow": null,
            "grid_area": null,
            "grid_auto_columns": null,
            "grid_auto_flow": null,
            "grid_auto_rows": null,
            "grid_column": null,
            "grid_gap": null,
            "grid_row": null,
            "grid_template_areas": null,
            "grid_template_columns": null,
            "grid_template_rows": null,
            "height": null,
            "justify_content": null,
            "justify_items": null,
            "left": null,
            "margin": null,
            "max_height": null,
            "max_width": null,
            "min_height": null,
            "min_width": null,
            "object_fit": null,
            "object_position": null,
            "order": null,
            "overflow": null,
            "overflow_x": null,
            "overflow_y": null,
            "padding": null,
            "right": null,
            "top": null,
            "visibility": null,
            "width": null
          }
        },
        "da926343593245d9b34f8a77183c4115": {
          "model_module": "@jupyter-widgets/base",
          "model_module_version": "1.2.0",
          "model_name": "LayoutModel",
          "state": {
            "_model_module": "@jupyter-widgets/base",
            "_model_module_version": "1.2.0",
            "_model_name": "LayoutModel",
            "_view_count": null,
            "_view_module": "@jupyter-widgets/base",
            "_view_module_version": "1.2.0",
            "_view_name": "LayoutView",
            "align_content": null,
            "align_items": null,
            "align_self": null,
            "border": null,
            "bottom": null,
            "display": null,
            "flex": null,
            "flex_flow": null,
            "grid_area": null,
            "grid_auto_columns": null,
            "grid_auto_flow": null,
            "grid_auto_rows": null,
            "grid_column": null,
            "grid_gap": null,
            "grid_row": null,
            "grid_template_areas": null,
            "grid_template_columns": null,
            "grid_template_rows": null,
            "height": null,
            "justify_content": null,
            "justify_items": null,
            "left": null,
            "margin": null,
            "max_height": null,
            "max_width": null,
            "min_height": null,
            "min_width": null,
            "object_fit": null,
            "object_position": null,
            "order": null,
            "overflow": null,
            "overflow_x": null,
            "overflow_y": null,
            "padding": null,
            "right": null,
            "top": null,
            "visibility": "hidden",
            "width": null
          }
        },
        "df156fe12b7c4d1dbb4f688d7bd3c4a3": {
          "model_module": "@jupyter-widgets/controls",
          "model_module_version": "1.5.0",
          "model_name": "HTMLModel",
          "state": {
            "_dom_classes": [],
            "_model_module": "@jupyter-widgets/controls",
            "_model_module_version": "1.5.0",
            "_model_name": "HTMLModel",
            "_view_count": null,
            "_view_module": "@jupyter-widgets/controls",
            "_view_module_version": "1.5.0",
            "_view_name": "HTMLView",
            "description": "",
            "description_tooltip": null,
            "layout": "IPY_MODEL_ea70433388ef4d1aaf1093eaeea94dd4",
            "placeholder": "​",
            "style": "IPY_MODEL_8fe50cb21cf9449e94efe57920440845",
            "value": "Evaluating: 100%"
          }
        },
        "e0e92282b50048c4a25414273f1777ff": {
          "model_module": "@jupyter-widgets/controls",
          "model_module_version": "1.5.0",
          "model_name": "ProgressStyleModel",
          "state": {
            "_model_module": "@jupyter-widgets/controls",
            "_model_module_version": "1.5.0",
            "_model_name": "ProgressStyleModel",
            "_view_count": null,
            "_view_module": "@jupyter-widgets/base",
            "_view_module_version": "1.2.0",
            "_view_name": "StyleView",
            "bar_color": null,
            "description_width": ""
          }
        },
        "e362bfd3e01241c6b20e2cf0a34db7a1": {
          "model_module": "@jupyter-widgets/controls",
          "model_module_version": "1.5.0",
          "model_name": "HTMLModel",
          "state": {
            "_dom_classes": [],
            "_model_module": "@jupyter-widgets/controls",
            "_model_module_version": "1.5.0",
            "_model_name": "HTMLModel",
            "_view_count": null,
            "_view_module": "@jupyter-widgets/controls",
            "_view_module_version": "1.5.0",
            "_view_name": "HTMLView",
            "description": "",
            "description_tooltip": null,
            "layout": "IPY_MODEL_8c251e4b43214ca894f136c5397b4a94",
            "placeholder": "​",
            "style": "IPY_MODEL_e74718a731f0471e9740a7ae5aec571e",
            "value": " 72/72 [04:59&lt;00:00, 16.52s/it]"
          }
        },
        "e74718a731f0471e9740a7ae5aec571e": {
          "model_module": "@jupyter-widgets/controls",
          "model_module_version": "1.5.0",
          "model_name": "DescriptionStyleModel",
          "state": {
            "_model_module": "@jupyter-widgets/controls",
            "_model_module_version": "1.5.0",
            "_model_name": "DescriptionStyleModel",
            "_view_count": null,
            "_view_module": "@jupyter-widgets/base",
            "_view_module_version": "1.2.0",
            "_view_name": "StyleView",
            "description_width": ""
          }
        },
        "ea51201a73a045de8579dafb17d70bec": {
          "model_module": "@jupyter-widgets/controls",
          "model_module_version": "1.5.0",
          "model_name": "HTMLModel",
          "state": {
            "_dom_classes": [],
            "_model_module": "@jupyter-widgets/controls",
            "_model_module_version": "1.5.0",
            "_model_name": "HTMLModel",
            "_view_count": null,
            "_view_module": "@jupyter-widgets/controls",
            "_view_module_version": "1.5.0",
            "_view_name": "HTMLView",
            "description": "",
            "description_tooltip": null,
            "layout": "IPY_MODEL_8f986d822b964e969ad20d1b1088dec9",
            "placeholder": "​",
            "style": "IPY_MODEL_c40abe6ce691401ea8db2562b3b322fb",
            "value": "Applying HeadlinesExtractor:  50%"
          }
        },
        "ea70433388ef4d1aaf1093eaeea94dd4": {
          "model_module": "@jupyter-widgets/base",
          "model_module_version": "1.2.0",
          "model_name": "LayoutModel",
          "state": {
            "_model_module": "@jupyter-widgets/base",
            "_model_module_version": "1.2.0",
            "_model_name": "LayoutModel",
            "_view_count": null,
            "_view_module": "@jupyter-widgets/base",
            "_view_module_version": "1.2.0",
            "_view_name": "LayoutView",
            "align_content": null,
            "align_items": null,
            "align_self": null,
            "border": null,
            "bottom": null,
            "display": null,
            "flex": null,
            "flex_flow": null,
            "grid_area": null,
            "grid_auto_columns": null,
            "grid_auto_flow": null,
            "grid_auto_rows": null,
            "grid_column": null,
            "grid_gap": null,
            "grid_row": null,
            "grid_template_areas": null,
            "grid_template_columns": null,
            "grid_template_rows": null,
            "height": null,
            "justify_content": null,
            "justify_items": null,
            "left": null,
            "margin": null,
            "max_height": null,
            "max_width": null,
            "min_height": null,
            "min_width": null,
            "object_fit": null,
            "object_position": null,
            "order": null,
            "overflow": null,
            "overflow_x": null,
            "overflow_y": null,
            "padding": null,
            "right": null,
            "top": null,
            "visibility": null,
            "width": null
          }
        },
        "ec3472c7d29b4ad0ab91e3c2f6874bd5": {
          "model_module": "@jupyter-widgets/base",
          "model_module_version": "1.2.0",
          "model_name": "LayoutModel",
          "state": {
            "_model_module": "@jupyter-widgets/base",
            "_model_module_version": "1.2.0",
            "_model_name": "LayoutModel",
            "_view_count": null,
            "_view_module": "@jupyter-widgets/base",
            "_view_module_version": "1.2.0",
            "_view_name": "LayoutView",
            "align_content": null,
            "align_items": null,
            "align_self": null,
            "border": null,
            "bottom": null,
            "display": null,
            "flex": null,
            "flex_flow": null,
            "grid_area": null,
            "grid_auto_columns": null,
            "grid_auto_flow": null,
            "grid_auto_rows": null,
            "grid_column": null,
            "grid_gap": null,
            "grid_row": null,
            "grid_template_areas": null,
            "grid_template_columns": null,
            "grid_template_rows": null,
            "height": null,
            "justify_content": null,
            "justify_items": null,
            "left": null,
            "margin": null,
            "max_height": null,
            "max_width": null,
            "min_height": null,
            "min_width": null,
            "object_fit": null,
            "object_position": null,
            "order": null,
            "overflow": null,
            "overflow_x": null,
            "overflow_y": null,
            "padding": null,
            "right": null,
            "top": null,
            "visibility": null,
            "width": null
          }
        },
        "ec44f75ea457496c9443b881bc156146": {
          "model_module": "@jupyter-widgets/controls",
          "model_module_version": "1.5.0",
          "model_name": "HTMLModel",
          "state": {
            "_dom_classes": [],
            "_model_module": "@jupyter-widgets/controls",
            "_model_module_version": "1.5.0",
            "_model_name": "HTMLModel",
            "_view_count": null,
            "_view_module": "@jupyter-widgets/controls",
            "_view_module_version": "1.5.0",
            "_view_name": "HTMLView",
            "description": "",
            "description_tooltip": null,
            "layout": "IPY_MODEL_8b77a827824440d6b53f4a14346c0d70",
            "placeholder": "​",
            "style": "IPY_MODEL_20848c82096c458fb118006897a0b7e0",
            "value": " 0/2 [00:00&lt;?, ?it/s]"
          }
        },
        "f10fe2d8ed6e45b595e66db0a3f972a1": {
          "model_module": "@jupyter-widgets/base",
          "model_module_version": "1.2.0",
          "model_name": "LayoutModel",
          "state": {
            "_model_module": "@jupyter-widgets/base",
            "_model_module_version": "1.2.0",
            "_model_name": "LayoutModel",
            "_view_count": null,
            "_view_module": "@jupyter-widgets/base",
            "_view_module_version": "1.2.0",
            "_view_name": "LayoutView",
            "align_content": null,
            "align_items": null,
            "align_self": null,
            "border": null,
            "bottom": null,
            "display": null,
            "flex": null,
            "flex_flow": null,
            "grid_area": null,
            "grid_auto_columns": null,
            "grid_auto_flow": null,
            "grid_auto_rows": null,
            "grid_column": null,
            "grid_gap": null,
            "grid_row": null,
            "grid_template_areas": null,
            "grid_template_columns": null,
            "grid_template_rows": null,
            "height": null,
            "justify_content": null,
            "justify_items": null,
            "left": null,
            "margin": null,
            "max_height": null,
            "max_width": null,
            "min_height": null,
            "min_width": null,
            "object_fit": null,
            "object_position": null,
            "order": null,
            "overflow": null,
            "overflow_x": null,
            "overflow_y": null,
            "padding": null,
            "right": null,
            "top": null,
            "visibility": null,
            "width": null
          }
        },
        "f37518d278b34353a38bcc50f8743959": {
          "model_module": "@jupyter-widgets/controls",
          "model_module_version": "1.5.0",
          "model_name": "FloatProgressModel",
          "state": {
            "_dom_classes": [],
            "_model_module": "@jupyter-widgets/controls",
            "_model_module_version": "1.5.0",
            "_model_name": "FloatProgressModel",
            "_view_count": null,
            "_view_module": "@jupyter-widgets/controls",
            "_view_module_version": "1.5.0",
            "_view_name": "ProgressView",
            "bar_style": "",
            "description": "",
            "description_tooltip": null,
            "layout": "IPY_MODEL_7a84047d2b724edd891ca63b5741a43b",
            "max": 2,
            "min": 0,
            "orientation": "horizontal",
            "style": "IPY_MODEL_5bec2586cfcb4ddabf9f2378b32fa4dc",
            "value": 2
          }
        },
        "f3c9086c454841f6914e299a11f7d217": {
          "model_module": "@jupyter-widgets/base",
          "model_module_version": "1.2.0",
          "model_name": "LayoutModel",
          "state": {
            "_model_module": "@jupyter-widgets/base",
            "_model_module_version": "1.2.0",
            "_model_name": "LayoutModel",
            "_view_count": null,
            "_view_module": "@jupyter-widgets/base",
            "_view_module_version": "1.2.0",
            "_view_name": "LayoutView",
            "align_content": null,
            "align_items": null,
            "align_self": null,
            "border": null,
            "bottom": null,
            "display": null,
            "flex": null,
            "flex_flow": null,
            "grid_area": null,
            "grid_auto_columns": null,
            "grid_auto_flow": null,
            "grid_auto_rows": null,
            "grid_column": null,
            "grid_gap": null,
            "grid_row": null,
            "grid_template_areas": null,
            "grid_template_columns": null,
            "grid_template_rows": null,
            "height": null,
            "justify_content": null,
            "justify_items": null,
            "left": null,
            "margin": null,
            "max_height": null,
            "max_width": null,
            "min_height": null,
            "min_width": null,
            "object_fit": null,
            "object_position": null,
            "order": null,
            "overflow": null,
            "overflow_x": null,
            "overflow_y": null,
            "padding": null,
            "right": null,
            "top": null,
            "visibility": null,
            "width": null
          }
        },
        "f5a56214fe25441e8a5004ec76476a94": {
          "model_module": "@jupyter-widgets/base",
          "model_module_version": "1.2.0",
          "model_name": "LayoutModel",
          "state": {
            "_model_module": "@jupyter-widgets/base",
            "_model_module_version": "1.2.0",
            "_model_name": "LayoutModel",
            "_view_count": null,
            "_view_module": "@jupyter-widgets/base",
            "_view_module_version": "1.2.0",
            "_view_name": "LayoutView",
            "align_content": null,
            "align_items": null,
            "align_self": null,
            "border": null,
            "bottom": null,
            "display": null,
            "flex": null,
            "flex_flow": null,
            "grid_area": null,
            "grid_auto_columns": null,
            "grid_auto_flow": null,
            "grid_auto_rows": null,
            "grid_column": null,
            "grid_gap": null,
            "grid_row": null,
            "grid_template_areas": null,
            "grid_template_columns": null,
            "grid_template_rows": null,
            "height": null,
            "justify_content": null,
            "justify_items": null,
            "left": null,
            "margin": null,
            "max_height": null,
            "max_width": null,
            "min_height": null,
            "min_width": null,
            "object_fit": null,
            "object_position": null,
            "order": null,
            "overflow": null,
            "overflow_x": null,
            "overflow_y": null,
            "padding": null,
            "right": null,
            "top": null,
            "visibility": null,
            "width": null
          }
        },
        "f69d31545a1045d4959e0640abe3409a": {
          "model_module": "@jupyter-widgets/controls",
          "model_module_version": "1.5.0",
          "model_name": "ProgressStyleModel",
          "state": {
            "_model_module": "@jupyter-widgets/controls",
            "_model_module_version": "1.5.0",
            "_model_name": "ProgressStyleModel",
            "_view_count": null,
            "_view_module": "@jupyter-widgets/base",
            "_view_module_version": "1.2.0",
            "_view_name": "StyleView",
            "bar_color": null,
            "description_width": ""
          }
        },
        "f7bf032ee32c46628a3a28ff2cedcc10": {
          "model_module": "@jupyter-widgets/base",
          "model_module_version": "1.2.0",
          "model_name": "LayoutModel",
          "state": {
            "_model_module": "@jupyter-widgets/base",
            "_model_module_version": "1.2.0",
            "_model_name": "LayoutModel",
            "_view_count": null,
            "_view_module": "@jupyter-widgets/base",
            "_view_module_version": "1.2.0",
            "_view_name": "LayoutView",
            "align_content": null,
            "align_items": null,
            "align_self": null,
            "border": null,
            "bottom": null,
            "display": null,
            "flex": null,
            "flex_flow": null,
            "grid_area": null,
            "grid_auto_columns": null,
            "grid_auto_flow": null,
            "grid_auto_rows": null,
            "grid_column": null,
            "grid_gap": null,
            "grid_row": null,
            "grid_template_areas": null,
            "grid_template_columns": null,
            "grid_template_rows": null,
            "height": null,
            "justify_content": null,
            "justify_items": null,
            "left": null,
            "margin": null,
            "max_height": null,
            "max_width": null,
            "min_height": null,
            "min_width": null,
            "object_fit": null,
            "object_position": null,
            "order": null,
            "overflow": null,
            "overflow_x": null,
            "overflow_y": null,
            "padding": null,
            "right": null,
            "top": null,
            "visibility": null,
            "width": null
          }
        },
        "f9499b2235294b638ed87d73894b341f": {
          "model_module": "@jupyter-widgets/controls",
          "model_module_version": "1.5.0",
          "model_name": "DescriptionStyleModel",
          "state": {
            "_model_module": "@jupyter-widgets/controls",
            "_model_module_version": "1.5.0",
            "_model_name": "DescriptionStyleModel",
            "_view_count": null,
            "_view_module": "@jupyter-widgets/base",
            "_view_module_version": "1.2.0",
            "_view_name": "StyleView",
            "description_width": ""
          }
        },
        "fc33ba2055c149a4a85ac6f586de47ee": {
          "model_module": "@jupyter-widgets/controls",
          "model_module_version": "1.5.0",
          "model_name": "FloatProgressModel",
          "state": {
            "_dom_classes": [],
            "_model_module": "@jupyter-widgets/controls",
            "_model_module_version": "1.5.0",
            "_model_name": "FloatProgressModel",
            "_view_count": null,
            "_view_module": "@jupyter-widgets/controls",
            "_view_module_version": "1.5.0",
            "_view_name": "ProgressView",
            "bar_style": "",
            "description": "",
            "description_tooltip": null,
            "layout": "IPY_MODEL_fd11e4046c464b7285ddd7a7b7cd51c8",
            "max": 2,
            "min": 0,
            "orientation": "horizontal",
            "style": "IPY_MODEL_e0e92282b50048c4a25414273f1777ff",
            "value": 2
          }
        },
        "fd11e4046c464b7285ddd7a7b7cd51c8": {
          "model_module": "@jupyter-widgets/base",
          "model_module_version": "1.2.0",
          "model_name": "LayoutModel",
          "state": {
            "_model_module": "@jupyter-widgets/base",
            "_model_module_version": "1.2.0",
            "_model_name": "LayoutModel",
            "_view_count": null,
            "_view_module": "@jupyter-widgets/base",
            "_view_module_version": "1.2.0",
            "_view_name": "LayoutView",
            "align_content": null,
            "align_items": null,
            "align_self": null,
            "border": null,
            "bottom": null,
            "display": null,
            "flex": null,
            "flex_flow": null,
            "grid_area": null,
            "grid_auto_columns": null,
            "grid_auto_flow": null,
            "grid_auto_rows": null,
            "grid_column": null,
            "grid_gap": null,
            "grid_row": null,
            "grid_template_areas": null,
            "grid_template_columns": null,
            "grid_template_rows": null,
            "height": null,
            "justify_content": null,
            "justify_items": null,
            "left": null,
            "margin": null,
            "max_height": null,
            "max_width": null,
            "min_height": null,
            "min_width": null,
            "object_fit": null,
            "object_position": null,
            "order": null,
            "overflow": null,
            "overflow_x": null,
            "overflow_y": null,
            "padding": null,
            "right": null,
            "top": null,
            "visibility": null,
            "width": null
          }
        },
        "fd71a316693343cc9a92fae9471a2f6e": {
          "model_module": "@jupyter-widgets/base",
          "model_module_version": "1.2.0",
          "model_name": "LayoutModel",
          "state": {
            "_model_module": "@jupyter-widgets/base",
            "_model_module_version": "1.2.0",
            "_model_name": "LayoutModel",
            "_view_count": null,
            "_view_module": "@jupyter-widgets/base",
            "_view_module_version": "1.2.0",
            "_view_name": "LayoutView",
            "align_content": null,
            "align_items": null,
            "align_self": null,
            "border": null,
            "bottom": null,
            "display": null,
            "flex": null,
            "flex_flow": null,
            "grid_area": null,
            "grid_auto_columns": null,
            "grid_auto_flow": null,
            "grid_auto_rows": null,
            "grid_column": null,
            "grid_gap": null,
            "grid_row": null,
            "grid_template_areas": null,
            "grid_template_columns": null,
            "grid_template_rows": null,
            "height": null,
            "justify_content": null,
            "justify_items": null,
            "left": null,
            "margin": null,
            "max_height": null,
            "max_width": null,
            "min_height": null,
            "min_width": null,
            "object_fit": null,
            "object_position": null,
            "order": null,
            "overflow": null,
            "overflow_x": null,
            "overflow_y": null,
            "padding": null,
            "right": null,
            "top": null,
            "visibility": null,
            "width": null
          }
        },
        "fe1cfe8194c142fdb11a4dd28e1adb00": {
          "model_module": "@jupyter-widgets/controls",
          "model_module_version": "1.5.0",
          "model_name": "DescriptionStyleModel",
          "state": {
            "_model_module": "@jupyter-widgets/controls",
            "_model_module_version": "1.5.0",
            "_model_name": "DescriptionStyleModel",
            "_view_count": null,
            "_view_module": "@jupyter-widgets/base",
            "_view_module_version": "1.2.0",
            "_view_name": "StyleView",
            "description_width": ""
          }
        },
        "state": {}
      }
    }
  },
  "nbformat": 4,
  "nbformat_minor": 0
}
